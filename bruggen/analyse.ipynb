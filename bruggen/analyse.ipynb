{
 "cells": [
  {
   "cell_type": "code",
   "execution_count": 257,
   "metadata": {},
   "outputs": [],
   "source": [
    "import pandas as pd\n",
    "import seaborn as sb"
   ]
  },
  {
   "cell_type": "code",
   "execution_count": 258,
   "metadata": {},
   "outputs": [],
   "source": [
    "bruggen = pd.read_csv('bruggen.csv')"
   ]
  },
  {
   "cell_type": "code",
   "execution_count": 259,
   "metadata": {},
   "outputs": [
    {
     "output_type": "stream",
     "name": "stdout",
     "text": "<class 'pandas.core.frame.DataFrame'>\nRangeIndex: 141 entries, 0 to 140\nData columns (total 16 columns):\n #   Column             Non-Null Count  Dtype  \n---  ------             --------------  -----  \n 0   gemeente           141 non-null    object \n 1   gewest             141 non-null    object \n 2   provincie          141 non-null    object \n 3   brugnaam           141 non-null    object \n 4   latitude           138 non-null    float64\n 5   longitude          138 non-null    float64\n 6   probleem           131 non-null    object \n 7   oorzaak            131 non-null    object \n 8   werken_gepland     138 non-null    object \n 9   start werken       138 non-null    object \n 10  bezocht            78 non-null     object \n 11  opmerkingen        29 non-null     object \n 12  beelden            20 non-null     object \n 13  beheerder          141 non-null    object \n 14  hoogproblematisch  141 non-null    object \n 15  lijst_sinds        141 non-null    object \ndtypes: float64(2), object(14)\nmemory usage: 17.8+ KB\n"
    }
   ],
   "source": [
    "bruggen.info()"
   ]
  },
  {
   "cell_type": "code",
   "execution_count": 260,
   "metadata": {},
   "outputs": [],
   "source": [
    "bruggen = bruggen.rename(columns = {'start werken':'start_werken'})"
   ]
  },
  {
   "cell_type": "code",
   "execution_count": 261,
   "metadata": {},
   "outputs": [
    {
     "output_type": "execute_result",
     "data": {
      "text/plain": "    gemeente      gewest       provincie  \\\n0  Wommelgem  Vlaanderen       Antwerpen   \n1     Deurne  Vlaanderen       Antwerpen   \n2   Arendonk  Vlaanderen       Antwerpen   \n3     Deurne  Vlaanderen       Antwerpen   \n4   Zaventem  Vlaanderen  Vlaams-Brabant   \n\n                                           brugnaam   latitude  longitude  \\\n0            B5 over de E313 in de Wijnegemsteenweg  51.212246   4.527518   \n1            Brug 2 in de E34 over de Sterckshoflei  51.210954   4.464007   \n2         Brug 5 in de N139 over kanaal in Arendonk  51.338964   5.104604   \n3          Brug 1 in de E34 over de Cornelissenlaan  51.214129   4.459276   \n4  Brug B16 in Hector Henneaulaan over de R0 en R22  50.880841   4.460796   \n\n                                            probleem      oorzaak  \\\n0  Vallende brokstukken. Afgesloten voor alle gem...     brokkelt   \n1               Jaarlijkse opvolging en waterpassing    technisch   \n2                         Renovatieplannen in opmaak     onbekend   \n3  3-maandelijke inspectie, 6-maandelijkse waterp...    technisch   \n4             Moet vernieuwd worden bij verbreden R0  groter plan   \n\n  werken_gepland start_werken bezocht opmerkingen beelden beheerder  \\\n0            Nee     onbekend     Nee         NaN     NaN       AWV   \n1             Ja         2021     Nee         NaN     NaN       AWV   \n2             Ja         2020     Nee         NaN     NaN       AWV   \n3             Ja         2022     Nee         NaN     NaN       AWV   \n4             Ja         2022     Nee         NaN     NaN       AWV   \n\n  hoogproblematisch lijst_sinds  \n0                ja        2007  \n1                ja        2003  \n2                ja        2011  \n3                ja        2003  \n4                ja        2016  ",
      "text/html": "<div>\n<style scoped>\n    .dataframe tbody tr th:only-of-type {\n        vertical-align: middle;\n    }\n\n    .dataframe tbody tr th {\n        vertical-align: top;\n    }\n\n    .dataframe thead th {\n        text-align: right;\n    }\n</style>\n<table border=\"1\" class=\"dataframe\">\n  <thead>\n    <tr style=\"text-align: right;\">\n      <th></th>\n      <th>gemeente</th>\n      <th>gewest</th>\n      <th>provincie</th>\n      <th>brugnaam</th>\n      <th>latitude</th>\n      <th>longitude</th>\n      <th>probleem</th>\n      <th>oorzaak</th>\n      <th>werken_gepland</th>\n      <th>start_werken</th>\n      <th>bezocht</th>\n      <th>opmerkingen</th>\n      <th>beelden</th>\n      <th>beheerder</th>\n      <th>hoogproblematisch</th>\n      <th>lijst_sinds</th>\n    </tr>\n  </thead>\n  <tbody>\n    <tr>\n      <th>0</th>\n      <td>Wommelgem</td>\n      <td>Vlaanderen</td>\n      <td>Antwerpen</td>\n      <td>B5 over de E313 in de Wijnegemsteenweg</td>\n      <td>51.212246</td>\n      <td>4.527518</td>\n      <td>Vallende brokstukken. Afgesloten voor alle gem...</td>\n      <td>brokkelt</td>\n      <td>Nee</td>\n      <td>onbekend</td>\n      <td>Nee</td>\n      <td>NaN</td>\n      <td>NaN</td>\n      <td>AWV</td>\n      <td>ja</td>\n      <td>2007</td>\n    </tr>\n    <tr>\n      <th>1</th>\n      <td>Deurne</td>\n      <td>Vlaanderen</td>\n      <td>Antwerpen</td>\n      <td>Brug 2 in de E34 over de Sterckshoflei</td>\n      <td>51.210954</td>\n      <td>4.464007</td>\n      <td>Jaarlijkse opvolging en waterpassing</td>\n      <td>technisch</td>\n      <td>Ja</td>\n      <td>2021</td>\n      <td>Nee</td>\n      <td>NaN</td>\n      <td>NaN</td>\n      <td>AWV</td>\n      <td>ja</td>\n      <td>2003</td>\n    </tr>\n    <tr>\n      <th>2</th>\n      <td>Arendonk</td>\n      <td>Vlaanderen</td>\n      <td>Antwerpen</td>\n      <td>Brug 5 in de N139 over kanaal in Arendonk</td>\n      <td>51.338964</td>\n      <td>5.104604</td>\n      <td>Renovatieplannen in opmaak</td>\n      <td>onbekend</td>\n      <td>Ja</td>\n      <td>2020</td>\n      <td>Nee</td>\n      <td>NaN</td>\n      <td>NaN</td>\n      <td>AWV</td>\n      <td>ja</td>\n      <td>2011</td>\n    </tr>\n    <tr>\n      <th>3</th>\n      <td>Deurne</td>\n      <td>Vlaanderen</td>\n      <td>Antwerpen</td>\n      <td>Brug 1 in de E34 over de Cornelissenlaan</td>\n      <td>51.214129</td>\n      <td>4.459276</td>\n      <td>3-maandelijke inspectie, 6-maandelijkse waterp...</td>\n      <td>technisch</td>\n      <td>Ja</td>\n      <td>2022</td>\n      <td>Nee</td>\n      <td>NaN</td>\n      <td>NaN</td>\n      <td>AWV</td>\n      <td>ja</td>\n      <td>2003</td>\n    </tr>\n    <tr>\n      <th>4</th>\n      <td>Zaventem</td>\n      <td>Vlaanderen</td>\n      <td>Vlaams-Brabant</td>\n      <td>Brug B16 in Hector Henneaulaan over de R0 en R22</td>\n      <td>50.880841</td>\n      <td>4.460796</td>\n      <td>Moet vernieuwd worden bij verbreden R0</td>\n      <td>groter plan</td>\n      <td>Ja</td>\n      <td>2022</td>\n      <td>Nee</td>\n      <td>NaN</td>\n      <td>NaN</td>\n      <td>AWV</td>\n      <td>ja</td>\n      <td>2016</td>\n    </tr>\n  </tbody>\n</table>\n</div>"
     },
     "metadata": {},
     "execution_count": 261
    }
   ],
   "source": [
    "bruggen.head()"
   ]
  },
  {
   "cell_type": "markdown",
   "metadata": {},
   "source": [
    "## Hoeveel hoogproblematische bruggen zijn er?"
   ]
  },
  {
   "cell_type": "code",
   "execution_count": 262,
   "metadata": {},
   "outputs": [
    {
     "output_type": "execute_result",
     "data": {
      "text/plain": "56"
     },
     "metadata": {},
     "execution_count": 262
    }
   ],
   "source": [
    "len(bruggen[bruggen.hoogproblematisch == 'ja'].index)"
   ]
  },
  {
   "cell_type": "code",
   "execution_count": 263,
   "metadata": {},
   "outputs": [
    {
     "output_type": "execute_result",
     "data": {
      "text/plain": "141"
     },
     "metadata": {},
     "execution_count": 263
    }
   ],
   "source": [
    "len(bruggen.index)"
   ]
  },
  {
   "cell_type": "code",
   "execution_count": 264,
   "metadata": {},
   "outputs": [
    {
     "output_type": "execute_result",
     "data": {
      "text/plain": "39.71631205673759"
     },
     "metadata": {},
     "execution_count": 264
    }
   ],
   "source": [
    "56/141*100"
   ]
  },
  {
   "cell_type": "markdown",
   "metadata": {},
   "source": [
    "Van alle bruggen die op de lijst hebben staan is 40 procent hoogproblematisch. Hoogproblematisch is een term die de beheerders zelf hebben toegekend aan de staat van bruggen, dit hoeft dus niet consistent te zijn over alle beheerders heen. Wat bij de ene beheerder problematisch heet, hoeft dat bij de ander niet te zijn."
   ]
  },
  {
   "cell_type": "markdown",
   "metadata": {},
   "source": [
    "## Welke gemeenten heeft de meeste bruggen die gerenoveerd moeten worden/de meeste probleembruggen?"
   ]
  },
  {
   "cell_type": "code",
   "execution_count": 265,
   "metadata": {},
   "outputs": [],
   "source": [
    "bruggen['totaal_gemeente'] = bruggen.groupby('gemeente')['brugnaam'].transform('count')"
   ]
  },
  {
   "cell_type": "code",
   "execution_count": 266,
   "metadata": {},
   "outputs": [],
   "source": [
    "probleem = bruggen.groupby(['gemeente', 'hoogproblematisch']).size().reset_index()"
   ]
  },
  {
   "cell_type": "code",
   "execution_count": 267,
   "metadata": {},
   "outputs": [],
   "source": [
    "probleem = probleem.rename(columns={0: 'totaal_probleem'})"
   ]
  },
  {
   "cell_type": "code",
   "execution_count": 268,
   "metadata": {},
   "outputs": [],
   "source": [
    "probleem = probleem[probleem.hoogproblematisch == 'ja']"
   ]
  },
  {
   "cell_type": "code",
   "execution_count": 269,
   "metadata": {},
   "outputs": [],
   "source": [
    "probleem = probleem[['gemeente', 'totaal_probleem']]"
   ]
  },
  {
   "cell_type": "code",
   "execution_count": 270,
   "metadata": {},
   "outputs": [],
   "source": [
    "gemeentes = bruggen.merge(probleem, on='gemeente')"
   ]
  },
  {
   "cell_type": "code",
   "execution_count": 271,
   "metadata": {},
   "outputs": [],
   "source": [
    "gemeentes['percentage'] = gemeentes['totaal_probleem'] / gemeentes['totaal_gemeente'] * 100"
   ]
  },
  {
   "cell_type": "code",
   "execution_count": 272,
   "metadata": {},
   "outputs": [],
   "source": [
    "gemeentes['percentage'] = gemeentes.percentage.astype(int)"
   ]
  },
  {
   "cell_type": "code",
   "execution_count": 273,
   "metadata": {},
   "outputs": [
    {
     "output_type": "execute_result",
     "data": {
      "text/plain": "gemeente\nGent            24\nAnderlecht      20\nBrussel-Stad    14\nOudergem         4\nSchaarbeek       4\nVorst            3\nMechelen         3\nZaventem         3\nElsene           3\nGrimbergen       2\nName: totaal_gemeente, dtype: int64"
     },
     "metadata": {},
     "execution_count": 273
    }
   ],
   "source": [
    "gemeentes.groupby('gemeente')['totaal_gemeente'].max().sort_values(ascending=False).head(10)"
   ]
  },
  {
   "cell_type": "code",
   "execution_count": 274,
   "metadata": {},
   "outputs": [
    {
     "output_type": "execute_result",
     "data": {
      "text/plain": "gemeente\nGent            14\nZaventem         3\nBrussel-Stad     3\nAnderlecht       2\nHalle            2\nGrimbergen       2\nOudergem         2\nDeurne           2\nKortrijk         2\nOverrijse        2\nName: totaal_probleem, dtype: int64"
     },
     "metadata": {},
     "execution_count": 274
    }
   ],
   "source": [
    "gemeentes.groupby('gemeente')['totaal_probleem'].max().sort_values(ascending=False).head(10)"
   ]
  },
  {
   "cell_type": "markdown",
   "metadata": {},
   "source": [
    "In Gent moeten de meeste bruggen gerenoveerd worden en staan ook in absolute zin de meeste hoogproblematische bruggen. Daarna volgt Zaventem, met 3 hoogproblematische bruggen, net als Brussel-Stad. Anderlecht staat op de tweede plek met de meeste bruggen die gerenoveerd moeten worden, met daarna Brussel-Stad. Het moet hier opgemerkt worden dat we voor het Brussels Gewest op de hoogte zijn van alle bruggen die gerenoveerd moeten worden, terwijl we van bijvoorbeeld AWV en VWW alleen weten welke bruggen op het lijstje met meest problematische bruggen staan. Voor Infrabel hebben we zelfs nog minder informatie, en weten we dat onderscheid helemaal niet. "
   ]
  },
  {
   "cell_type": "code",
   "execution_count": 275,
   "metadata": {},
   "outputs": [
    {
     "output_type": "execute_result",
     "data": {
      "text/plain": "array(['Wommelgem', 'Deurne', 'Arendonk', 'Zaventem', 'Overrijse',\n       'Halle', 'Grimbergen', 'Wetteren', 'Erpe-Mere', 'Waregem',\n       'Oostende', 'Nieuwpoort', 'Kortrijk', 'Zwevegem', 'Aalst',\n       'Sint-Laureins', 'Wielsbeke', 'Deinze', 'Voeren', 'Galmaarden'],\n      dtype=object)"
     },
     "metadata": {},
     "execution_count": 275
    }
   ],
   "source": [
    "gemeentes[gemeentes.percentage == 100].gemeente.unique()"
   ]
  },
  {
   "cell_type": "code",
   "execution_count": 276,
   "metadata": {},
   "outputs": [
    {
     "output_type": "execute_result",
     "data": {
      "text/plain": "array([100,  58,  50,  33,  25,  21,  10])"
     },
     "metadata": {},
     "execution_count": 276
    }
   ],
   "source": [
    "gemeentes.percentage.unique()"
   ]
  },
  {
   "cell_type": "code",
   "execution_count": 277,
   "metadata": {},
   "outputs": [
    {
     "output_type": "execute_result",
     "data": {
      "text/plain": "array(['Gent'], dtype=object)"
     },
     "metadata": {},
     "execution_count": 277
    }
   ],
   "source": [
    "gemeentes[gemeentes.percentage == 58].gemeente.unique()"
   ]
  },
  {
   "cell_type": "code",
   "execution_count": 278,
   "metadata": {},
   "outputs": [
    {
     "output_type": "execute_result",
     "data": {
      "text/plain": "array(['Roeselare', 'Merelbeke', 'Brugge', 'Oudergem',\n       'Sint-Agatha-Berchem'], dtype=object)"
     },
     "metadata": {},
     "execution_count": 278
    }
   ],
   "source": [
    "gemeentes[gemeentes.percentage == 50].gemeente.unique()"
   ]
  },
  {
   "cell_type": "markdown",
   "metadata": {},
   "source": [
    "Er zijn dus een aantal gemeenten waar alle bruggen die gerenoveerd moeten worden ook hoogproblematische bruggen zijn. Dat zijn Wommelgem, Deurne, Arendonk, Zaventem, Overijse, Halle, Grimbergen, Wetteren, Erpe-Mere, Waregem, Oostende, Nieuwpoort, Kortrijk, Zwevegem, Aalst, Sint-Laureins, Wielsbeke, Deinze, Voeren en Galmaarden. Dan zijn er nog gemeenten waar minstens de helft van de bruggen die gerenoveerd moeten worden hoogproblematisch zijn, namelijk Gent (58 procent), Roeselare, Merelbeke, Brugge, Oudergem en Sint-Agatha-Berchem."
   ]
  },
  {
   "cell_type": "code",
   "execution_count": 334,
   "metadata": {},
   "outputs": [
    {
     "output_type": "execute_result",
     "data": {
      "text/plain": "               gemeente           gewest        provincie  \\\n40            Roeselare       Vlaanderen  West-Vlaanderen   \n41            Roeselare       Vlaanderen  West-Vlaanderen   \n48            Merelbeke       Vlaanderen  Oost-Vlaanderen   \n49            Merelbeke       Vlaanderen  Oost-Vlaanderen   \n53               Brugge       Vlaanderen  West-Vlaanderen   \n54               Brugge       Vlaanderen  West-Vlaanderen   \n64             Oudergem  Brussels Gewest          Brussel   \n65             Oudergem  Brussels Gewest          Brussel   \n66             Oudergem  Brussels Gewest          Brussel   \n67             Oudergem  Brussels Gewest          Brussel   \n85  Sint-Agatha-Berchem  Brussels Gewest          Brussel   \n86  Sint-Agatha-Berchem  Brussels Gewest          Brussel   \n\n                                             brugnaam   latitude  longitude  \\\n40  Brug B50 N36 Roeselare-Kerkhove in Roeselare (...  50.918747   3.176617   \n41  Spiraalbrug (fiets en wandelbrug) over Koning ...  50.944055   3.132034   \n48      Vandepittebrug over de Ringvaart in Merelbeke  51.007778   3.751424   \n49      Brug over de Ringvaart en R4 bij Fraterstraat  51.005171   3.760860   \n53              Fietsbrug aan de Kleine Boudewijnbrug  51.222415   3.223436   \n54                     Fietersbrug aan de Smedenpoort  51.204723   3.212829   \n64                                    KW 009 Beaulieu  50.815109   4.408260   \n65                           KW 011 Viaduct Watermaal  50.814639   4.417221   \n66                            KW 012 Herrmann-Debroux  50.813182   4.435382   \n67                              KW 013 Drie Fonteinen  50.808044   4.447835   \n85                     KW 055 E40 NMBS > Keizer Karel  50.871079   4.286666   \n86                         KW 056 E40-NMBS > Oostende  50.871235   4.286982   \n\n                                             probleem    oorzaak  \\\n40                                  Schade na ongeval    ongeval   \n41                                           corrosie   corrosie   \n48        Moet gerenoveerd worden, maar niet dringend   onbekend   \n49                                           slijtage  verouderd   \n53  Bepaalde delen worden gestraald om onderzoek m...   onbekend   \n54                                           corrosie   corrosie   \n64  minder belangrijke gebreken aan dragende struc...   onbekend   \n65  verborgen gebreken mogelijk maar bepaalde dele...   onbekend   \n66  evolutieve gebreken, maar wordt momenteel hers...   onbekend   \n67  evolutieve gebreken, maar wordt momenteel hers...   onbekend   \n85  evolutieve gebreken, maar wordt momenteel hers...   onbekend   \n86  minder belangrijke gebreken aan dragende struc...   onbekend   \n\n   werken_gepland           start_werken bezocht  \\\n40             Ja               onbekend      Ja   \n41             Ja       Deze legislatuur     Nee   \n48            Nee               onbekend      Ja   \n49             Ja                   2021     Nee   \n53             Ja               onbekend     Nee   \n54             Ja  Deskundige aangesteld     Nee   \n64             Ja                  Bezig     NaN   \n65       onbekend               onbekend     NaN   \n66             Ja                  Bezig     NaN   \n67             Ja                  Bezig     NaN   \n85             Ja                  Bezig     NaN   \n86       onbekend               onbekend     NaN   \n\n                                          opmerkingen        beelden  \\\n40                              Geen zichtbare schade            Nee   \n41  De nodige budgetten werden voorzien in de meer...            NaN   \n48  Veel verroest metaal te zien. Via de kant van ...  Foto en video   \n49                                                NaN            NaN   \n53                                                NaN            NaN   \n54                                                NaN            NaN   \n64                                                NaN            NaN   \n65                                                NaN            NaN   \n66                                                NaN            NaN   \n67                                                NaN            NaN   \n85                                                NaN            NaN   \n86                                                NaN            NaN   \n\n           beheerder hoogproblematisch lijst_sinds  totaal_gemeente  \\\n40               AWV                ja        2018                2   \n41          Gemeente          onbekend    onbekend                2   \n48  Vlaamse Waterweg                ja        2017                2   \n49          Gemeente          onbekend    onbekend                2   \n53  Vlaamse Waterweg                ja        2018                2   \n54          Gemeente          onbekend    onbekend                2   \n64   Brussels Gewest               nee    onbekend                4   \n65   Brussels Gewest               nee    onbekend                4   \n66   Brussels Gewest                ja    onbekend                4   \n67   Brussels Gewest                ja    onbekend                4   \n85   Brussels Gewest                ja    onbekend                2   \n86   Brussels Gewest               nee    onbekend                2   \n\n    totaal_probleem  percentage  \n40                1          50  \n41                1          50  \n48                1          50  \n49                1          50  \n53                1          50  \n54                1          50  \n64                2          50  \n65                2          50  \n66                2          50  \n67                2          50  \n85                1          50  \n86                1          50  ",
      "text/html": "<div>\n<style scoped>\n    .dataframe tbody tr th:only-of-type {\n        vertical-align: middle;\n    }\n\n    .dataframe tbody tr th {\n        vertical-align: top;\n    }\n\n    .dataframe thead th {\n        text-align: right;\n    }\n</style>\n<table border=\"1\" class=\"dataframe\">\n  <thead>\n    <tr style=\"text-align: right;\">\n      <th></th>\n      <th>gemeente</th>\n      <th>gewest</th>\n      <th>provincie</th>\n      <th>brugnaam</th>\n      <th>latitude</th>\n      <th>longitude</th>\n      <th>probleem</th>\n      <th>oorzaak</th>\n      <th>werken_gepland</th>\n      <th>start_werken</th>\n      <th>bezocht</th>\n      <th>opmerkingen</th>\n      <th>beelden</th>\n      <th>beheerder</th>\n      <th>hoogproblematisch</th>\n      <th>lijst_sinds</th>\n      <th>totaal_gemeente</th>\n      <th>totaal_probleem</th>\n      <th>percentage</th>\n    </tr>\n  </thead>\n  <tbody>\n    <tr>\n      <th>40</th>\n      <td>Roeselare</td>\n      <td>Vlaanderen</td>\n      <td>West-Vlaanderen</td>\n      <td>Brug B50 N36 Roeselare-Kerkhove in Roeselare (...</td>\n      <td>50.918747</td>\n      <td>3.176617</td>\n      <td>Schade na ongeval</td>\n      <td>ongeval</td>\n      <td>Ja</td>\n      <td>onbekend</td>\n      <td>Ja</td>\n      <td>Geen zichtbare schade</td>\n      <td>Nee</td>\n      <td>AWV</td>\n      <td>ja</td>\n      <td>2018</td>\n      <td>2</td>\n      <td>1</td>\n      <td>50</td>\n    </tr>\n    <tr>\n      <th>41</th>\n      <td>Roeselare</td>\n      <td>Vlaanderen</td>\n      <td>West-Vlaanderen</td>\n      <td>Spiraalbrug (fiets en wandelbrug) over Koning ...</td>\n      <td>50.944055</td>\n      <td>3.132034</td>\n      <td>corrosie</td>\n      <td>corrosie</td>\n      <td>Ja</td>\n      <td>Deze legislatuur</td>\n      <td>Nee</td>\n      <td>De nodige budgetten werden voorzien in de meer...</td>\n      <td>NaN</td>\n      <td>Gemeente</td>\n      <td>onbekend</td>\n      <td>onbekend</td>\n      <td>2</td>\n      <td>1</td>\n      <td>50</td>\n    </tr>\n    <tr>\n      <th>48</th>\n      <td>Merelbeke</td>\n      <td>Vlaanderen</td>\n      <td>Oost-Vlaanderen</td>\n      <td>Vandepittebrug over de Ringvaart in Merelbeke</td>\n      <td>51.007778</td>\n      <td>3.751424</td>\n      <td>Moet gerenoveerd worden, maar niet dringend</td>\n      <td>onbekend</td>\n      <td>Nee</td>\n      <td>onbekend</td>\n      <td>Ja</td>\n      <td>Veel verroest metaal te zien. Via de kant van ...</td>\n      <td>Foto en video</td>\n      <td>Vlaamse Waterweg</td>\n      <td>ja</td>\n      <td>2017</td>\n      <td>2</td>\n      <td>1</td>\n      <td>50</td>\n    </tr>\n    <tr>\n      <th>49</th>\n      <td>Merelbeke</td>\n      <td>Vlaanderen</td>\n      <td>Oost-Vlaanderen</td>\n      <td>Brug over de Ringvaart en R4 bij Fraterstraat</td>\n      <td>51.005171</td>\n      <td>3.760860</td>\n      <td>slijtage</td>\n      <td>verouderd</td>\n      <td>Ja</td>\n      <td>2021</td>\n      <td>Nee</td>\n      <td>NaN</td>\n      <td>NaN</td>\n      <td>Gemeente</td>\n      <td>onbekend</td>\n      <td>onbekend</td>\n      <td>2</td>\n      <td>1</td>\n      <td>50</td>\n    </tr>\n    <tr>\n      <th>53</th>\n      <td>Brugge</td>\n      <td>Vlaanderen</td>\n      <td>West-Vlaanderen</td>\n      <td>Fietsbrug aan de Kleine Boudewijnbrug</td>\n      <td>51.222415</td>\n      <td>3.223436</td>\n      <td>Bepaalde delen worden gestraald om onderzoek m...</td>\n      <td>onbekend</td>\n      <td>Ja</td>\n      <td>onbekend</td>\n      <td>Nee</td>\n      <td>NaN</td>\n      <td>NaN</td>\n      <td>Vlaamse Waterweg</td>\n      <td>ja</td>\n      <td>2018</td>\n      <td>2</td>\n      <td>1</td>\n      <td>50</td>\n    </tr>\n    <tr>\n      <th>54</th>\n      <td>Brugge</td>\n      <td>Vlaanderen</td>\n      <td>West-Vlaanderen</td>\n      <td>Fietersbrug aan de Smedenpoort</td>\n      <td>51.204723</td>\n      <td>3.212829</td>\n      <td>corrosie</td>\n      <td>corrosie</td>\n      <td>Ja</td>\n      <td>Deskundige aangesteld</td>\n      <td>Nee</td>\n      <td>NaN</td>\n      <td>NaN</td>\n      <td>Gemeente</td>\n      <td>onbekend</td>\n      <td>onbekend</td>\n      <td>2</td>\n      <td>1</td>\n      <td>50</td>\n    </tr>\n    <tr>\n      <th>64</th>\n      <td>Oudergem</td>\n      <td>Brussels Gewest</td>\n      <td>Brussel</td>\n      <td>KW 009 Beaulieu</td>\n      <td>50.815109</td>\n      <td>4.408260</td>\n      <td>minder belangrijke gebreken aan dragende struc...</td>\n      <td>onbekend</td>\n      <td>Ja</td>\n      <td>Bezig</td>\n      <td>NaN</td>\n      <td>NaN</td>\n      <td>NaN</td>\n      <td>Brussels Gewest</td>\n      <td>nee</td>\n      <td>onbekend</td>\n      <td>4</td>\n      <td>2</td>\n      <td>50</td>\n    </tr>\n    <tr>\n      <th>65</th>\n      <td>Oudergem</td>\n      <td>Brussels Gewest</td>\n      <td>Brussel</td>\n      <td>KW 011 Viaduct Watermaal</td>\n      <td>50.814639</td>\n      <td>4.417221</td>\n      <td>verborgen gebreken mogelijk maar bepaalde dele...</td>\n      <td>onbekend</td>\n      <td>onbekend</td>\n      <td>onbekend</td>\n      <td>NaN</td>\n      <td>NaN</td>\n      <td>NaN</td>\n      <td>Brussels Gewest</td>\n      <td>nee</td>\n      <td>onbekend</td>\n      <td>4</td>\n      <td>2</td>\n      <td>50</td>\n    </tr>\n    <tr>\n      <th>66</th>\n      <td>Oudergem</td>\n      <td>Brussels Gewest</td>\n      <td>Brussel</td>\n      <td>KW 012 Herrmann-Debroux</td>\n      <td>50.813182</td>\n      <td>4.435382</td>\n      <td>evolutieve gebreken, maar wordt momenteel hers...</td>\n      <td>onbekend</td>\n      <td>Ja</td>\n      <td>Bezig</td>\n      <td>NaN</td>\n      <td>NaN</td>\n      <td>NaN</td>\n      <td>Brussels Gewest</td>\n      <td>ja</td>\n      <td>onbekend</td>\n      <td>4</td>\n      <td>2</td>\n      <td>50</td>\n    </tr>\n    <tr>\n      <th>67</th>\n      <td>Oudergem</td>\n      <td>Brussels Gewest</td>\n      <td>Brussel</td>\n      <td>KW 013 Drie Fonteinen</td>\n      <td>50.808044</td>\n      <td>4.447835</td>\n      <td>evolutieve gebreken, maar wordt momenteel hers...</td>\n      <td>onbekend</td>\n      <td>Ja</td>\n      <td>Bezig</td>\n      <td>NaN</td>\n      <td>NaN</td>\n      <td>NaN</td>\n      <td>Brussels Gewest</td>\n      <td>ja</td>\n      <td>onbekend</td>\n      <td>4</td>\n      <td>2</td>\n      <td>50</td>\n    </tr>\n    <tr>\n      <th>85</th>\n      <td>Sint-Agatha-Berchem</td>\n      <td>Brussels Gewest</td>\n      <td>Brussel</td>\n      <td>KW 055 E40 NMBS &gt; Keizer Karel</td>\n      <td>50.871079</td>\n      <td>4.286666</td>\n      <td>evolutieve gebreken, maar wordt momenteel hers...</td>\n      <td>onbekend</td>\n      <td>Ja</td>\n      <td>Bezig</td>\n      <td>NaN</td>\n      <td>NaN</td>\n      <td>NaN</td>\n      <td>Brussels Gewest</td>\n      <td>ja</td>\n      <td>onbekend</td>\n      <td>2</td>\n      <td>1</td>\n      <td>50</td>\n    </tr>\n    <tr>\n      <th>86</th>\n      <td>Sint-Agatha-Berchem</td>\n      <td>Brussels Gewest</td>\n      <td>Brussel</td>\n      <td>KW 056 E40-NMBS &gt; Oostende</td>\n      <td>50.871235</td>\n      <td>4.286982</td>\n      <td>minder belangrijke gebreken aan dragende struc...</td>\n      <td>onbekend</td>\n      <td>onbekend</td>\n      <td>onbekend</td>\n      <td>NaN</td>\n      <td>NaN</td>\n      <td>NaN</td>\n      <td>Brussels Gewest</td>\n      <td>nee</td>\n      <td>onbekend</td>\n      <td>2</td>\n      <td>1</td>\n      <td>50</td>\n    </tr>\n  </tbody>\n</table>\n</div>"
     },
     "metadata": {},
     "execution_count": 334
    }
   ],
   "source": [
    "gemeentes[gemeentes.percentage == 50]"
   ]
  },
  {
   "cell_type": "code",
   "execution_count": 279,
   "metadata": {},
   "outputs": [
    {
     "output_type": "execute_result",
     "data": {
      "text/plain": "onbekend        19\ngroter plan      2\nbrokkelt         1\ngroter plan      1\nongeval          1\nName: oorzaak, dtype: int64"
     },
     "metadata": {},
     "execution_count": 279
    }
   ],
   "source": [
    "bruggen[bruggen.gemeente == 'Gent'].oorzaak.value_counts()"
   ]
  },
  {
   "cell_type": "code",
   "execution_count": 280,
   "metadata": {},
   "outputs": [
    {
     "output_type": "execute_result",
     "data": {
      "text/plain": "Ja     21\nNee     3\nName: werken_gepland, dtype: int64"
     },
     "metadata": {},
     "execution_count": 280
    }
   ],
   "source": [
    "bruggen[bruggen.gemeente == 'Gent'].werken_gepland.value_counts()"
   ]
  },
  {
   "cell_type": "code",
   "execution_count": 281,
   "metadata": {},
   "outputs": [
    {
     "output_type": "execute_result",
     "data": {
      "text/plain": "onbekend    9\n2021        4\n2020        4\n2019        2\n2024        2\n10-2020     1\n2023        1\n04-2020     1\nName: start_werken, dtype: int64"
     },
     "metadata": {},
     "execution_count": 281
    }
   ],
   "source": [
    "bruggen[bruggen.gemeente == 'Gent'].start_werken.value_counts()"
   ]
  },
  {
   "cell_type": "code",
   "execution_count": 282,
   "metadata": {},
   "outputs": [
    {
     "output_type": "execute_result",
     "data": {
      "text/plain": "onbekend    20\nName: oorzaak, dtype: int64"
     },
     "metadata": {},
     "execution_count": 282
    }
   ],
   "source": [
    "bruggen[bruggen.gemeente == 'Anderlecht'].oorzaak.value_counts()"
   ]
  },
  {
   "cell_type": "code",
   "execution_count": 283,
   "metadata": {},
   "outputs": [
    {
     "output_type": "execute_result",
     "data": {
      "text/plain": "onbekend    17\nJa           3\nName: werken_gepland, dtype: int64"
     },
     "metadata": {},
     "execution_count": 283
    }
   ],
   "source": [
    "bruggen[bruggen.gemeente == 'Anderlecht'].werken_gepland.value_counts()"
   ]
  },
  {
   "cell_type": "code",
   "execution_count": 284,
   "metadata": {},
   "outputs": [
    {
     "output_type": "execute_result",
     "data": {
      "text/plain": "onbekend    17\nBezig        3\nName: start_werken, dtype: int64"
     },
     "metadata": {},
     "execution_count": 284
    }
   ],
   "source": [
    "bruggen[bruggen.gemeente == 'Anderlecht'].start_werken.value_counts()"
   ]
  },
  {
   "cell_type": "markdown",
   "metadata": {},
   "source": [
    "In de gemeente Gent is de oorzaak van de problematiek van de meeste bruggen onbekend. In Anderlecht geldt dit voor alle bruggen. Voor de meeste bruggen in Gent is renovatie gepland - in Anderlecht is dit voor de meeste bruggen onbekend. Die bruggen die wel gerenoveerd zijn, zijn al bezig. In Gent zouden zes bruggen nog dit jaar gerenoveerd worden, twee zouden al gerenoveerd moeten zijn vorig jaar, voor de vorige bruggen is een latere datum voorzien of is het nog niet bekend."
   ]
  },
  {
   "cell_type": "markdown",
   "metadata": {},
   "source": [
    "## In welke provincies staan de meeste bruggen die gerenoveerd moeten worden / hoogproblematische bruggen?"
   ]
  },
  {
   "cell_type": "code",
   "execution_count": 285,
   "metadata": {},
   "outputs": [
    {
     "output_type": "execute_result",
     "data": {
      "text/plain": "Brussel            55\nOost-Vlaanderen    33\nWest-Vlaanderen    18\nVlaams-Brabant     17\nAntwerpen          15\nLimburg             3\nName: provincie, dtype: int64"
     },
     "metadata": {},
     "execution_count": 285
    }
   ],
   "source": [
    "bruggen.provincie.value_counts()"
   ]
  },
  {
   "cell_type": "code",
   "execution_count": 286,
   "metadata": {},
   "outputs": [
    {
     "output_type": "execute_result",
     "data": {
      "text/plain": "Vlaanderen         86\nBrussels Gewest    55\nName: gewest, dtype: int64"
     },
     "metadata": {},
     "execution_count": 286
    }
   ],
   "source": [
    "bruggen.gewest.value_counts()"
   ]
  },
  {
   "cell_type": "markdown",
   "metadata": {},
   "source": [
    "De meeste bruggen moeten worden gerenoveerd in Brussel, daarna in Oost-Vlaanderen, daarna in West-Vlaanderen. Hierbij moet weer aangetekend worden dat we alleen voor het Brussels gewest op de hoogte zijn van bruggen die wel gerenoveerd moeten worden, maar die niet hoogproblematisch zijn. De minste bruggen moeten gerenoveerd worden in Limburg en de provincie Antwerpen. Er staan meer te renoveren bruggen in het Vlaams Gewest, maar omdat we niet van de gewestelijke instellingen weten hoeveel 'gewone' bruggen die gerenoveerd moeten worden zij hebben, is de kans groot dat dit aantal nog hoger ligt. Bovendien zijn er in Vlaanderen ook simpelweg meer bruggen dan in Brussel."
   ]
  },
  {
   "cell_type": "code",
   "execution_count": 287,
   "metadata": {},
   "outputs": [
    {
     "output_type": "execute_result",
     "data": {
      "text/plain": "Oost-Vlaanderen    20\nBrussel            11\nVlaams-Brabant     10\nWest-Vlaanderen     9\nAntwerpen           5\nLimburg             1\nName: provincie, dtype: int64"
     },
     "metadata": {},
     "execution_count": 287
    }
   ],
   "source": [
    "bruggen[bruggen.hoogproblematisch == 'ja'].provincie.value_counts()"
   ]
  },
  {
   "cell_type": "code",
   "execution_count": 288,
   "metadata": {},
   "outputs": [
    {
     "output_type": "execute_result",
     "data": {
      "text/plain": "Vlaanderen         45\nBrussels Gewest    11\nName: gewest, dtype: int64"
     },
     "metadata": {},
     "execution_count": 288
    }
   ],
   "source": [
    "bruggen[bruggen.hoogproblematisch == 'ja'].gewest.value_counts()"
   ]
  },
  {
   "cell_type": "markdown",
   "metadata": {},
   "source": [
    "De meeste hoogproblematische bruggen staan in Oost-Vlaanderen, daarna in Brussel. In het Vlaams gewest staan beduidend meer hoogproblematische bruggen dan in Brussel. Hoe zit dat in relatieve zin?"
   ]
  },
  {
   "cell_type": "code",
   "execution_count": 324,
   "metadata": {},
   "outputs": [
    {
     "output_type": "execute_result",
     "data": {
      "text/plain": "20.0"
     },
     "metadata": {},
     "execution_count": 324
    }
   ],
   "source": [
    "11/55 * 100"
   ]
  },
  {
   "cell_type": "code",
   "execution_count": 325,
   "metadata": {},
   "outputs": [
    {
     "output_type": "execute_result",
     "data": {
      "text/plain": "60.60606060606061"
     },
     "metadata": {},
     "execution_count": 325
    }
   ],
   "source": [
    "20/33 * 100"
   ]
  },
  {
   "cell_type": "markdown",
   "metadata": {},
   "source": [
    "Kortom: in Brussel moeten misschien meer bruggen gerenoveerd worden, maar uiteindelijk staan er naar verhouding en in absolute zin meer problematische bruggen in Oost-Vlaanderen. Hier is wel weer de aantekening te maken dat we niet precies weten hoeveel laagproblematische bruggen er gerenoveerd zouden moeten worden in Vlaanderen, omdat we die informatie van de gewestelijke instellingen niet hebben."
   ]
  },
  {
   "cell_type": "markdown",
   "metadata": {},
   "source": [
    "## Hoe zit het per beheerder?\n",
    "We kunnen ook nog bekijken hoe dat zit met de totale bruggen die in beheer zijn. Daar hebben we informatie over van het Brussels Gewest, VWW en AWV tezamen. Van Infrabel weten we wel hoeveel bruggen zij beheren, maar niet hoeveel daarvan precies gerenoveerd moeten worden danwel problematisch zijn. Voor de gemeenten weten we wel hoeveel bruggen gerenoveerd moeten worden, maar niet exact hoeveel daarvan precies problematisch genoemd zouden moeten worden en hoeveel bruggen zij precies in totaal in bezit hebben."
   ]
  },
  {
   "cell_type": "code",
   "execution_count": 291,
   "metadata": {},
   "outputs": [
    {
     "output_type": "execute_result",
     "data": {
      "text/plain": "59.09090909090909"
     },
     "metadata": {},
     "execution_count": 291
    }
   ],
   "source": [
    "52/88 * 100"
   ]
  },
  {
   "cell_type": "code",
   "execution_count": 292,
   "metadata": {},
   "outputs": [
    {
     "output_type": "execute_result",
     "data": {
      "text/plain": "12.5"
     },
     "metadata": {},
     "execution_count": 292
    }
   ],
   "source": [
    "11/88 * 100"
   ]
  },
  {
   "cell_type": "markdown",
   "metadata": {},
   "source": [
    "In Brussel moet dus zo'n 60 procent van de bruggen in beheer gerenoveerd worden, waarvan 12,5% problematisch is."
   ]
  },
  {
   "cell_type": "code",
   "execution_count": 293,
   "metadata": {},
   "outputs": [
    {
     "output_type": "execute_result",
     "data": {
      "text/plain": "1.6042780748663104"
     },
     "metadata": {},
     "execution_count": 293
    }
   ],
   "source": [
    "42/2618 * 100"
   ]
  },
  {
   "cell_type": "markdown",
   "metadata": {},
   "source": [
    "Onder het beheer van het Vlaams Gewest is zo'n 1,6 procent van de bruggen hoogproblematisch. Meer weten we niet, omdat we niet weten hoeveel bruggen er precies gerenoveerd moeten worden die niet hoogproblematisch zijn. De uitsplitsing tussen AWV/VWW is ongeveer 800 bruggen voor VWW, dus ongeveer 2 procent van de bruggen van VWW is problematisch, tegenover 1,2 procent van de AWV. In z'n totaliteit (voor de bekende cijfers) betekent dat ongeveer 2 procent van de bruggen hoogproblematisch is."
   ]
  },
  {
   "cell_type": "code",
   "execution_count": 294,
   "metadata": {},
   "outputs": [
    {
     "output_type": "execute_result",
     "data": {
      "text/plain": "array(['AWV', 'Vlaamse Waterweg', 'Gemeente', 'Brussels Gewest',\n       'Infrabel'], dtype=object)"
     },
     "metadata": {},
     "execution_count": 294
    }
   ],
   "source": [
    "bruggen.beheerder.unique()"
   ]
  },
  {
   "cell_type": "code",
   "execution_count": 295,
   "metadata": {},
   "outputs": [
    {
     "output_type": "execute_result",
     "data": {
      "text/plain": "Gent          7\nZaventem      3\nGrimbergen    2\nOverrijse     2\nDeurne        2\nWommelgem     1\nErpe-Mere     1\nHalle         1\nOostende      1\nWetteren      1\nWaregem       1\nNieuwpoort    1\nArendonk      1\nRoeselare     1\nName: gemeente, dtype: int64"
     },
     "metadata": {},
     "execution_count": 295
    }
   ],
   "source": [
    "bruggen[bruggen.beheerder == 'AWV'].gemeente.value_counts()"
   ]
  },
  {
   "cell_type": "code",
   "execution_count": 296,
   "metadata": {},
   "outputs": [
    {
     "output_type": "execute_result",
     "data": {
      "text/plain": "Gent             7\nKortrijk         2\nWielsbeke        1\nDeinze           1\nZwevegem         1\nAalst            1\nHalle            1\nBrugge           1\nSint-Laureins    1\nMerelbeke        1\nName: gemeente, dtype: int64"
     },
     "metadata": {},
     "execution_count": 296
    }
   ],
   "source": [
    "bruggen[bruggen.beheerder == 'Vlaamse Waterweg'].gemeente.value_counts()"
   ]
  },
  {
   "cell_type": "code",
   "execution_count": 327,
   "metadata": {},
   "outputs": [
    {
     "output_type": "execute_result",
     "data": {
      "text/plain": "Antwerpen    8\nBrussel      2\nName: provincie, dtype: int64"
     },
     "metadata": {},
     "execution_count": 327
    }
   ],
   "source": [
    "bruggen[bruggen.beheerder == 'Infrabel'].provincie.value_counts()"
   ]
  },
  {
   "cell_type": "markdown",
   "metadata": {},
   "source": [
    "Van wat we weten van zowel de VWW als de AWV hebben zij de meeste te renoveren bruggen in Gent. Voor Infrabel zijn de meeste te renoveren bruggen te vinden in de provincie Antwerpen."
   ]
  },
  {
   "cell_type": "markdown",
   "metadata": {},
   "source": [
    "## Hoe lang staan bruggen op de lijst voor ze gerenoveerd worden?"
   ]
  },
  {
   "cell_type": "markdown",
   "metadata": {},
   "source": [
    "Dit weten we alleen voor de bruggen onder het beheer van het Vlaams Gewest. Daarvoor kunnen we kijken naar de column \"lijst_sinds\"."
   ]
  },
  {
   "cell_type": "code",
   "execution_count": 298,
   "metadata": {},
   "outputs": [],
   "source": [
    "vlaams = bruggen[bruggen.lijst_sinds != 'onbekend']"
   ]
  },
  {
   "cell_type": "code",
   "execution_count": 299,
   "metadata": {},
   "outputs": [
    {
     "output_type": "stream",
     "name": "stderr",
     "text": "/Users/fmeijer/anaconda3/lib/python3.7/site-packages/ipykernel_launcher.py:1: SettingWithCopyWarning: \nA value is trying to be set on a copy of a slice from a DataFrame.\nTry using .loc[row_indexer,col_indexer] = value instead\n\nSee the caveats in the documentation: https://pandas.pydata.org/pandas-docs/stable/user_guide/indexing.html#returning-a-view-versus-a-copy\n  \"\"\"Entry point for launching an IPython kernel.\n"
    }
   ],
   "source": [
    "vlaams['lijst_sinds'] = vlaams.lijst_sinds.astype(int)"
   ]
  },
  {
   "cell_type": "code",
   "execution_count": 300,
   "metadata": {},
   "outputs": [
    {
     "output_type": "execute_result",
     "data": {
      "text/plain": "5"
     },
     "metadata": {},
     "execution_count": 300
    }
   ],
   "source": [
    "len(vlaams[vlaams.lijst_sinds < 2000].index)"
   ]
  },
  {
   "cell_type": "code",
   "execution_count": 301,
   "metadata": {},
   "outputs": [
    {
     "output_type": "execute_result",
     "data": {
      "text/plain": "42"
     },
     "metadata": {},
     "execution_count": 301
    }
   ],
   "source": [
    "len(vlaams.index)"
   ]
  },
  {
   "cell_type": "code",
   "execution_count": 302,
   "metadata": {},
   "outputs": [
    {
     "output_type": "execute_result",
     "data": {
      "text/plain": "11.904761904761903"
     },
     "metadata": {},
     "execution_count": 302
    }
   ],
   "source": [
    "5 / 42 * 100"
   ]
  },
  {
   "cell_type": "markdown",
   "metadata": {},
   "source": [
    "Er staan 5 bruggen op de lijst van het Vlaamse Gewest die al vóór 2000 op de lijst stonden en er dus al meer dan 20 jaar op staan."
   ]
  },
  {
   "cell_type": "code",
   "execution_count": 303,
   "metadata": {},
   "outputs": [
    {
     "output_type": "execute_result",
     "data": {
      "text/plain": "Gent        4\nWetteren    1\nName: gemeente, dtype: int64"
     },
     "metadata": {},
     "execution_count": 303
    }
   ],
   "source": [
    "vlaams[vlaams.lijst_sinds < 2000].gemeente.value_counts()"
   ]
  },
  {
   "cell_type": "markdown",
   "metadata": {},
   "source": [
    "De meeste van deze bruggen staan in Gent. Er staat er één in Wetteren."
   ]
  },
  {
   "cell_type": "code",
   "execution_count": 304,
   "metadata": {},
   "outputs": [
    {
     "output_type": "execute_result",
     "data": {
      "text/plain": "21"
     },
     "metadata": {},
     "execution_count": 304
    }
   ],
   "source": [
    "len(vlaams[vlaams.lijst_sinds <= 2015].index)"
   ]
  },
  {
   "cell_type": "code",
   "execution_count": 305,
   "metadata": {},
   "outputs": [
    {
     "output_type": "execute_result",
     "data": {
      "text/plain": "50.0"
     },
     "metadata": {},
     "execution_count": 305
    }
   ],
   "source": [
    "21 / 42 * 100"
   ]
  },
  {
   "cell_type": "markdown",
   "metadata": {},
   "source": [
    "De helft van de bruggen van het Vlaams Gewest - en dat zijn allemaal hoogproblematische bruggen - staat al minstens 5 jaar op de lijst. "
   ]
  },
  {
   "cell_type": "code",
   "execution_count": 306,
   "metadata": {},
   "outputs": [
    {
     "output_type": "execute_result",
     "data": {
      "text/plain": "Gent         9\nZaventem     2\nKortrijk     2\nDeurne       2\nWommelgem    1\nErpe-Mere    1\nWaregem      1\nHalle        1\nArendonk     1\nWetteren     1\nName: gemeente, dtype: int64"
     },
     "metadata": {},
     "execution_count": 306
    }
   ],
   "source": [
    "vlaams[vlaams.lijst_sinds <= 2015].gemeente.value_counts()"
   ]
  },
  {
   "cell_type": "markdown",
   "metadata": {},
   "source": [
    "Het is duidelijk dat er vrij veel bruggen in Gent al een geruime tijd op de lijst staan om gerenoveerd te worden."
   ]
  },
  {
   "cell_type": "code",
   "execution_count": 307,
   "metadata": {},
   "outputs": [
    {
     "output_type": "execute_result",
     "data": {
      "text/plain": "Oost-Vlaanderen    11\nAntwerpen           4\nWest-Vlaanderen     3\nVlaams-Brabant      3\nName: provincie, dtype: int64"
     },
     "metadata": {},
     "execution_count": 307
    }
   ],
   "source": [
    "vlaams[vlaams.lijst_sinds <= 2015].provincie.value_counts()"
   ]
  },
  {
   "cell_type": "markdown",
   "metadata": {},
   "source": [
    "## Welke problemen spelen er bij de bruggen?"
   ]
  },
  {
   "cell_type": "code",
   "execution_count": 308,
   "metadata": {},
   "outputs": [],
   "source": [
    "bruggen = bruggen.replace('groter plan ', 'groter plan')"
   ]
  },
  {
   "cell_type": "code",
   "execution_count": 309,
   "metadata": {},
   "outputs": [
    {
     "output_type": "execute_result",
     "data": {
      "text/plain": "onbekend       91\ntechnisch      11\nverouderd      10\ngroter plan     6\nongeval         4\nbrokkelt        2\ncorrosie        2\ndoorbuiging     2\nbetonrot        2\nverzakking      1\nName: oorzaak, dtype: int64"
     },
     "metadata": {},
     "execution_count": 309
    }
   ],
   "source": [
    "bruggen.oorzaak.value_counts()"
   ]
  },
  {
   "cell_type": "markdown",
   "metadata": {},
   "source": [
    "Van de meeste bruggen weten we niet precies wat de oorzaak is dat ze gerenoveerd moeten worden. Daarna worden de meeste bruggen gerenoveerd als onderdeel van een technisch probleem, of omdat ze verouderd zijn. Daarna vanwege groter plan, of vanwege een ongeval."
   ]
  },
  {
   "cell_type": "code",
   "execution_count": 310,
   "metadata": {},
   "outputs": [
    {
     "output_type": "execute_result",
     "data": {
      "text/plain": "Brussel            53\nOost-Vlaanderen    25\nWest-Vlaanderen    10\nVlaams-Brabant      2\nAntwerpen           1\nName: provincie, dtype: int64"
     },
     "metadata": {},
     "execution_count": 310
    }
   ],
   "source": [
    "bruggen[bruggen.oorzaak == 'onbekend'].provincie.value_counts()"
   ]
  },
  {
   "cell_type": "code",
   "execution_count": 311,
   "metadata": {},
   "outputs": [
    {
     "output_type": "execute_result",
     "data": {
      "text/plain": "Brussel            55\nOost-Vlaanderen    33\nWest-Vlaanderen    18\nVlaams-Brabant     17\nAntwerpen          15\nLimburg             3\nName: provincie, dtype: int64"
     },
     "metadata": {},
     "execution_count": 311
    }
   ],
   "source": [
    "bruggen.provincie.value_counts()"
   ]
  },
  {
   "cell_type": "markdown",
   "metadata": {},
   "source": [
    "De bruggen met onbekende oorzaak staan grotendeels in Brussel. Ook in Oost-Vlaanderen staan veel bruggen waarvan niet precies duidelijk is waarom ze gerenoveerd moeten worden. In Brussel geeft het gewest alleen aan of er bijvoorbeeld 'evolutieve gebreken' zijn, of 'gebreken aan de draagconstructie'. Waar deze gebreken door worden veroorzaakt, wordt niet gemeld."
   ]
  },
  {
   "cell_type": "code",
   "execution_count": 330,
   "metadata": {},
   "outputs": [
    {
     "output_type": "execute_result",
     "data": {
      "text/plain": "    gemeente      gewest        provincie  \\\n1     Deurne  Vlaanderen        Antwerpen   \n3     Deurne  Vlaanderen        Antwerpen   \n52  Wijnegem  Vlaanderen        Antwerpen   \n55  De Pinte  Vlaanderen  Oost-Vlaanderen   \n56  De Pinte  Vlaanderen  Oost-Vlaanderen   \n61    Kuurne  Vlaanderen  West-Vlaanderen   \n63    Kuurne  Vlaanderen  West-Vlaanderen   \n65   Schoten  Vlaanderen        Antwerpen   \n70   Beersel  Vlaanderen   Vlaams-Brabant   \n71   Beersel  Vlaanderen   Vlaams-Brabant   \n75    Tienen  Vlaanderen   Vlaams-Brabant   \n\n                                             brugnaam   latitude  longitude  \\\n1              Brug 2 in de E34 over de Sterckshoflei  51.210954   4.464007   \n3            Brug 1 in de E34 over de Cornelissenlaan  51.214129   4.459276   \n52                Brug op de N12 bij het Albertkanaal  51.234017   4.515477   \n55                                  Baron de Gieylaan  51.000933   3.660068   \n56                             Pont-Noord over de E17  50.988343   3.702963   \n61                            Kuurnebrug over de Leie  50.850626   3.300125   \n63  Fiets- en wandelbrug over de Heulebeek bij de ...  50.847096   3.272605   \n65                                      Hoogmolenbrug  51.239972   4.490745   \n70               Brug over de Zenne in de Zennestraat  50.765826   4.279631   \n71  Houten voetgangersbrug over de Kesterbeek in H...  50.747655   4.276314   \n75               Brug in de Biezenstraat over De Mene  50.801014   4.926391   \n\n                                             probleem    oorzaak  \\\n1                Jaarlijkse opvolging en waterpassing  technisch   \n3   3-maandelijke inspectie, 6-maandelijkse waterp...  technisch   \n52      doorvaarthoogte is te laag en wordt opgehoogd  technisch   \n55                                  nieuwe asfaltlaag  technisch   \n56                                fietspaden voorzien  technisch   \n61                 brug ophogen ihkv Europees project  technisch   \n63  extra inzetten op verbindingswegen voor trage ...  technisch   \n65  In het kader van het verbeteren van de bereikb...  technisch   \n70  moet ervangen wegens toekomstige toename tonna...  technisch   \n71            brugdeik reinigen en plaatsen anti-slib  technisch   \n75       stabiliteitsproblemen, moet vernieuwd worden  technisch   \n\n   werken_gepland        start_werken bezocht  \\\n1              Ja                2021     Nee   \n3              Ja                2022     Nee   \n52             Ja                2023     Nee   \n55             Ja            onbekend     Nee   \n56             Ja            onbekend     NaN   \n61             Ja                2021     Nee   \n63             Ja                2022     Nee   \n65             Ja               Bezig     Nee   \n70             Ja  vermoedelijk >2024     Nee   \n71             Ja                2020     Nee   \n75             Ja            onbekend     Nee   \n\n                                         opmerkingen beelden beheerder  \\\n1                                                NaN     NaN       AWV   \n3                                                NaN     NaN       AWV   \n52                                               NaN     NaN  Gemeente   \n55                                               NaN     NaN  Gemeente   \n56                                               NaN     NaN  Gemeente   \n61                                               NaN     NaN  Gemeente   \n63                                               NaN     NaN  Gemeente   \n65                                               NaN     NaN  Gemeente   \n70                               budget 967.490 euro     NaN  Gemeente   \n71                                 budget 5.800 euro     NaN  Gemeente   \n75  Renovatie is voorzien in groter renovatieproject     NaN  Gemeente   \n\n   hoogproblematisch lijst_sinds  totaal_gemeente  \n1                 ja        2003                2  \n3                 ja        2003                2  \n52               nee    onbekend                1  \n55               nee    onbekend                2  \n56               nee    onbekend                2  \n61               nee    onbekend                3  \n63               nee    onbekend                3  \n65               nee    onbekend                1  \n70          onbekend    onbekend                3  \n71               nee    onbekend                3  \n75          onbekend    onbekend                1  ",
      "text/html": "<div>\n<style scoped>\n    .dataframe tbody tr th:only-of-type {\n        vertical-align: middle;\n    }\n\n    .dataframe tbody tr th {\n        vertical-align: top;\n    }\n\n    .dataframe thead th {\n        text-align: right;\n    }\n</style>\n<table border=\"1\" class=\"dataframe\">\n  <thead>\n    <tr style=\"text-align: right;\">\n      <th></th>\n      <th>gemeente</th>\n      <th>gewest</th>\n      <th>provincie</th>\n      <th>brugnaam</th>\n      <th>latitude</th>\n      <th>longitude</th>\n      <th>probleem</th>\n      <th>oorzaak</th>\n      <th>werken_gepland</th>\n      <th>start_werken</th>\n      <th>bezocht</th>\n      <th>opmerkingen</th>\n      <th>beelden</th>\n      <th>beheerder</th>\n      <th>hoogproblematisch</th>\n      <th>lijst_sinds</th>\n      <th>totaal_gemeente</th>\n    </tr>\n  </thead>\n  <tbody>\n    <tr>\n      <th>1</th>\n      <td>Deurne</td>\n      <td>Vlaanderen</td>\n      <td>Antwerpen</td>\n      <td>Brug 2 in de E34 over de Sterckshoflei</td>\n      <td>51.210954</td>\n      <td>4.464007</td>\n      <td>Jaarlijkse opvolging en waterpassing</td>\n      <td>technisch</td>\n      <td>Ja</td>\n      <td>2021</td>\n      <td>Nee</td>\n      <td>NaN</td>\n      <td>NaN</td>\n      <td>AWV</td>\n      <td>ja</td>\n      <td>2003</td>\n      <td>2</td>\n    </tr>\n    <tr>\n      <th>3</th>\n      <td>Deurne</td>\n      <td>Vlaanderen</td>\n      <td>Antwerpen</td>\n      <td>Brug 1 in de E34 over de Cornelissenlaan</td>\n      <td>51.214129</td>\n      <td>4.459276</td>\n      <td>3-maandelijke inspectie, 6-maandelijkse waterp...</td>\n      <td>technisch</td>\n      <td>Ja</td>\n      <td>2022</td>\n      <td>Nee</td>\n      <td>NaN</td>\n      <td>NaN</td>\n      <td>AWV</td>\n      <td>ja</td>\n      <td>2003</td>\n      <td>2</td>\n    </tr>\n    <tr>\n      <th>52</th>\n      <td>Wijnegem</td>\n      <td>Vlaanderen</td>\n      <td>Antwerpen</td>\n      <td>Brug op de N12 bij het Albertkanaal</td>\n      <td>51.234017</td>\n      <td>4.515477</td>\n      <td>doorvaarthoogte is te laag en wordt opgehoogd</td>\n      <td>technisch</td>\n      <td>Ja</td>\n      <td>2023</td>\n      <td>Nee</td>\n      <td>NaN</td>\n      <td>NaN</td>\n      <td>Gemeente</td>\n      <td>nee</td>\n      <td>onbekend</td>\n      <td>1</td>\n    </tr>\n    <tr>\n      <th>55</th>\n      <td>De Pinte</td>\n      <td>Vlaanderen</td>\n      <td>Oost-Vlaanderen</td>\n      <td>Baron de Gieylaan</td>\n      <td>51.000933</td>\n      <td>3.660068</td>\n      <td>nieuwe asfaltlaag</td>\n      <td>technisch</td>\n      <td>Ja</td>\n      <td>onbekend</td>\n      <td>Nee</td>\n      <td>NaN</td>\n      <td>NaN</td>\n      <td>Gemeente</td>\n      <td>nee</td>\n      <td>onbekend</td>\n      <td>2</td>\n    </tr>\n    <tr>\n      <th>56</th>\n      <td>De Pinte</td>\n      <td>Vlaanderen</td>\n      <td>Oost-Vlaanderen</td>\n      <td>Pont-Noord over de E17</td>\n      <td>50.988343</td>\n      <td>3.702963</td>\n      <td>fietspaden voorzien</td>\n      <td>technisch</td>\n      <td>Ja</td>\n      <td>onbekend</td>\n      <td>NaN</td>\n      <td>NaN</td>\n      <td>NaN</td>\n      <td>Gemeente</td>\n      <td>nee</td>\n      <td>onbekend</td>\n      <td>2</td>\n    </tr>\n    <tr>\n      <th>61</th>\n      <td>Kuurne</td>\n      <td>Vlaanderen</td>\n      <td>West-Vlaanderen</td>\n      <td>Kuurnebrug over de Leie</td>\n      <td>50.850626</td>\n      <td>3.300125</td>\n      <td>brug ophogen ihkv Europees project</td>\n      <td>technisch</td>\n      <td>Ja</td>\n      <td>2021</td>\n      <td>Nee</td>\n      <td>NaN</td>\n      <td>NaN</td>\n      <td>Gemeente</td>\n      <td>nee</td>\n      <td>onbekend</td>\n      <td>3</td>\n    </tr>\n    <tr>\n      <th>63</th>\n      <td>Kuurne</td>\n      <td>Vlaanderen</td>\n      <td>West-Vlaanderen</td>\n      <td>Fiets- en wandelbrug over de Heulebeek bij de ...</td>\n      <td>50.847096</td>\n      <td>3.272605</td>\n      <td>extra inzetten op verbindingswegen voor trage ...</td>\n      <td>technisch</td>\n      <td>Ja</td>\n      <td>2022</td>\n      <td>Nee</td>\n      <td>NaN</td>\n      <td>NaN</td>\n      <td>Gemeente</td>\n      <td>nee</td>\n      <td>onbekend</td>\n      <td>3</td>\n    </tr>\n    <tr>\n      <th>65</th>\n      <td>Schoten</td>\n      <td>Vlaanderen</td>\n      <td>Antwerpen</td>\n      <td>Hoogmolenbrug</td>\n      <td>51.239972</td>\n      <td>4.490745</td>\n      <td>In het kader van het verbeteren van de bereikb...</td>\n      <td>technisch</td>\n      <td>Ja</td>\n      <td>Bezig</td>\n      <td>Nee</td>\n      <td>NaN</td>\n      <td>NaN</td>\n      <td>Gemeente</td>\n      <td>nee</td>\n      <td>onbekend</td>\n      <td>1</td>\n    </tr>\n    <tr>\n      <th>70</th>\n      <td>Beersel</td>\n      <td>Vlaanderen</td>\n      <td>Vlaams-Brabant</td>\n      <td>Brug over de Zenne in de Zennestraat</td>\n      <td>50.765826</td>\n      <td>4.279631</td>\n      <td>moet ervangen wegens toekomstige toename tonna...</td>\n      <td>technisch</td>\n      <td>Ja</td>\n      <td>vermoedelijk &gt;2024</td>\n      <td>Nee</td>\n      <td>budget 967.490 euro</td>\n      <td>NaN</td>\n      <td>Gemeente</td>\n      <td>onbekend</td>\n      <td>onbekend</td>\n      <td>3</td>\n    </tr>\n    <tr>\n      <th>71</th>\n      <td>Beersel</td>\n      <td>Vlaanderen</td>\n      <td>Vlaams-Brabant</td>\n      <td>Houten voetgangersbrug over de Kesterbeek in H...</td>\n      <td>50.747655</td>\n      <td>4.276314</td>\n      <td>brugdeik reinigen en plaatsen anti-slib</td>\n      <td>technisch</td>\n      <td>Ja</td>\n      <td>2020</td>\n      <td>Nee</td>\n      <td>budget 5.800 euro</td>\n      <td>NaN</td>\n      <td>Gemeente</td>\n      <td>nee</td>\n      <td>onbekend</td>\n      <td>3</td>\n    </tr>\n    <tr>\n      <th>75</th>\n      <td>Tienen</td>\n      <td>Vlaanderen</td>\n      <td>Vlaams-Brabant</td>\n      <td>Brug in de Biezenstraat over De Mene</td>\n      <td>50.801014</td>\n      <td>4.926391</td>\n      <td>stabiliteitsproblemen, moet vernieuwd worden</td>\n      <td>technisch</td>\n      <td>Ja</td>\n      <td>onbekend</td>\n      <td>Nee</td>\n      <td>Renovatie is voorzien in groter renovatieproject</td>\n      <td>NaN</td>\n      <td>Gemeente</td>\n      <td>onbekend</td>\n      <td>onbekend</td>\n      <td>1</td>\n    </tr>\n  </tbody>\n</table>\n</div>"
     },
     "metadata": {},
     "execution_count": 330
    }
   ],
   "source": [
    "bruggen[bruggen.oorzaak == 'technisch']"
   ]
  },
  {
   "cell_type": "markdown",
   "metadata": {},
   "source": [
    "Bruggen die vanwege een technisch of klein onderhoudsprobleem gerenoveerd moeten worden (zoals stabiliteitsproblemen, een brugdek dat gereinigd moet worden, opgehoogd worden, etc) staan vaak in gemeentes. Bruggen die in beheer zijn van gemeentes, zijn vaak kleiner en vereisen dan ook minder vaak groot onderhoud. Twee bruggen komen van de lijst van AWV en staan ook al meteen sinds 2003 op de lijst."
   ]
  },
  {
   "cell_type": "code",
   "execution_count": 331,
   "metadata": {},
   "outputs": [
    {
     "output_type": "execute_result",
     "data": {
      "text/plain": "        gemeente      gewest        provincie  \\\n53      Mechelen  Vlaanderen        Antwerpen   \n54        Voeren  Vlaanderen          Limburg   \n58  Hamont-Achel  Vlaanderen          Limburg   \n60     Merelbeke  Vlaanderen  Oost-Vlaanderen   \n62        Kuurne  Vlaanderen  West-Vlaanderen   \n68     Diksmuide  Vlaanderen  West-Vlaanderen   \n69       Beersel  Vlaanderen   Vlaams-Brabant   \n72     Rotselaar  Vlaanderen   Vlaams-Brabant   \n76     Drogenbos  Vlaanderen   Vlaams-Brabant   \n77        Bertem  Vlaanderen   Vlaams-Brabant   \n\n                                             brugnaam   latitude  longitude  \\\n53      Postzegelbrug (N1) over kanaal Leuven - Dijle  51.016016   4.480411   \n54                  Brug over \"De Gulp\" in Remersdaal  50.743414   5.890580   \n58                                      Brug Warmbeek  51.254285   5.492588   \n60      Brug over de Ringvaart en R4 bij Fraterstraat  51.005171   3.760860   \n62  Brug over de Heulebeek aan de monding van de Leie  50.847284   3.289945   \n68  Brug over de Grote Beverdijkvaart ten hoogte v...  51.030010   2.811817   \n69             Brug over de Zenne in de Dworpsestraat  50.765257   4.275173   \n72          Brug op de grens van Rotselaar en Tremelo  50.983982   4.735366   \n76      Brug in de Drie Fonteinenstraat over de Zenne  50.806132   4.301490   \n77           Brug over de dreef van kerk naar kasteel  50.849629   4.592343   \n\n                                             probleem    oorzaak  \\\n53  wordt afgebroken en komen twee bruggen voor in...  verouderd   \n54  is bouwvallig, afgesloten voor gemotoriseerd v...  verouderd   \n58                                           slijtage  verouderd   \n60                                           slijtage  verouderd   \n62                                          verouderd  verouderd   \n68                                          verouderd  verouderd   \n69                                          verouderd  verouderd   \n72                                          verouderd  verouderd   \n76  was lang niet in gebruik, helemaal afgebroken ...  verouderd   \n77   ouderdom, werken aan de stabiliteit, geen gevaar  verouderd   \n\n   werken_gepland              start_werken bezocht  \\\n53             Ja                      2024     Nee   \n54             Ja                      2020     Nee   \n58             Ja                      2020     Nee   \n60             Ja                      2021     Nee   \n62             Ja                      2023     Nee   \n68             Ja                      2012     Nee   \n69             Ja                      2012     Nee   \n72             Ja                 2021/2022     Nee   \n76             Ja                     Bezig     Nee   \n77             Ja  dit jaar of volgend jaar     Nee   \n\n                                          opmerkingen beelden beheerder  \\\n53                                                NaN     NaN  Gemeente   \n54                                                NaN     NaN  Gemeente   \n58                                                NaN     NaN  Gemeente   \n60                                                NaN     NaN  Gemeente   \n62                                                NaN     NaN  Gemeente   \n68                                                NaN     NaN  Gemeente   \n69                                budget 359.490 euro     NaN  Gemeente   \n72  budget wordt verdeeld tussen de gemeentes, bei...     NaN  Gemeente   \n76                                                NaN     NaN  Gemeente   \n77                                                NaN     NaN  Gemeente   \n\n   hoogproblematisch lijst_sinds  totaal_gemeente  \n53                ja    onbekend                3  \n54                ja    onbekend                1  \n58          onbekend    onbekend                1  \n60          onbekend    onbekend                2  \n62          onbekend    onbekend                3  \n68          onbekend    onbekend                1  \n69          onbekend    onbekend                3  \n72          onbekend    onbekend                1  \n76          onbekend    onbekend                1  \n77               nee    onbekend                1  ",
      "text/html": "<div>\n<style scoped>\n    .dataframe tbody tr th:only-of-type {\n        vertical-align: middle;\n    }\n\n    .dataframe tbody tr th {\n        vertical-align: top;\n    }\n\n    .dataframe thead th {\n        text-align: right;\n    }\n</style>\n<table border=\"1\" class=\"dataframe\">\n  <thead>\n    <tr style=\"text-align: right;\">\n      <th></th>\n      <th>gemeente</th>\n      <th>gewest</th>\n      <th>provincie</th>\n      <th>brugnaam</th>\n      <th>latitude</th>\n      <th>longitude</th>\n      <th>probleem</th>\n      <th>oorzaak</th>\n      <th>werken_gepland</th>\n      <th>start_werken</th>\n      <th>bezocht</th>\n      <th>opmerkingen</th>\n      <th>beelden</th>\n      <th>beheerder</th>\n      <th>hoogproblematisch</th>\n      <th>lijst_sinds</th>\n      <th>totaal_gemeente</th>\n    </tr>\n  </thead>\n  <tbody>\n    <tr>\n      <th>53</th>\n      <td>Mechelen</td>\n      <td>Vlaanderen</td>\n      <td>Antwerpen</td>\n      <td>Postzegelbrug (N1) over kanaal Leuven - Dijle</td>\n      <td>51.016016</td>\n      <td>4.480411</td>\n      <td>wordt afgebroken en komen twee bruggen voor in...</td>\n      <td>verouderd</td>\n      <td>Ja</td>\n      <td>2024</td>\n      <td>Nee</td>\n      <td>NaN</td>\n      <td>NaN</td>\n      <td>Gemeente</td>\n      <td>ja</td>\n      <td>onbekend</td>\n      <td>3</td>\n    </tr>\n    <tr>\n      <th>54</th>\n      <td>Voeren</td>\n      <td>Vlaanderen</td>\n      <td>Limburg</td>\n      <td>Brug over \"De Gulp\" in Remersdaal</td>\n      <td>50.743414</td>\n      <td>5.890580</td>\n      <td>is bouwvallig, afgesloten voor gemotoriseerd v...</td>\n      <td>verouderd</td>\n      <td>Ja</td>\n      <td>2020</td>\n      <td>Nee</td>\n      <td>NaN</td>\n      <td>NaN</td>\n      <td>Gemeente</td>\n      <td>ja</td>\n      <td>onbekend</td>\n      <td>1</td>\n    </tr>\n    <tr>\n      <th>58</th>\n      <td>Hamont-Achel</td>\n      <td>Vlaanderen</td>\n      <td>Limburg</td>\n      <td>Brug Warmbeek</td>\n      <td>51.254285</td>\n      <td>5.492588</td>\n      <td>slijtage</td>\n      <td>verouderd</td>\n      <td>Ja</td>\n      <td>2020</td>\n      <td>Nee</td>\n      <td>NaN</td>\n      <td>NaN</td>\n      <td>Gemeente</td>\n      <td>onbekend</td>\n      <td>onbekend</td>\n      <td>1</td>\n    </tr>\n    <tr>\n      <th>60</th>\n      <td>Merelbeke</td>\n      <td>Vlaanderen</td>\n      <td>Oost-Vlaanderen</td>\n      <td>Brug over de Ringvaart en R4 bij Fraterstraat</td>\n      <td>51.005171</td>\n      <td>3.760860</td>\n      <td>slijtage</td>\n      <td>verouderd</td>\n      <td>Ja</td>\n      <td>2021</td>\n      <td>Nee</td>\n      <td>NaN</td>\n      <td>NaN</td>\n      <td>Gemeente</td>\n      <td>onbekend</td>\n      <td>onbekend</td>\n      <td>2</td>\n    </tr>\n    <tr>\n      <th>62</th>\n      <td>Kuurne</td>\n      <td>Vlaanderen</td>\n      <td>West-Vlaanderen</td>\n      <td>Brug over de Heulebeek aan de monding van de Leie</td>\n      <td>50.847284</td>\n      <td>3.289945</td>\n      <td>verouderd</td>\n      <td>verouderd</td>\n      <td>Ja</td>\n      <td>2023</td>\n      <td>Nee</td>\n      <td>NaN</td>\n      <td>NaN</td>\n      <td>Gemeente</td>\n      <td>onbekend</td>\n      <td>onbekend</td>\n      <td>3</td>\n    </tr>\n    <tr>\n      <th>68</th>\n      <td>Diksmuide</td>\n      <td>Vlaanderen</td>\n      <td>West-Vlaanderen</td>\n      <td>Brug over de Grote Beverdijkvaart ten hoogte v...</td>\n      <td>51.030010</td>\n      <td>2.811817</td>\n      <td>verouderd</td>\n      <td>verouderd</td>\n      <td>Ja</td>\n      <td>2012</td>\n      <td>Nee</td>\n      <td>NaN</td>\n      <td>NaN</td>\n      <td>Gemeente</td>\n      <td>onbekend</td>\n      <td>onbekend</td>\n      <td>1</td>\n    </tr>\n    <tr>\n      <th>69</th>\n      <td>Beersel</td>\n      <td>Vlaanderen</td>\n      <td>Vlaams-Brabant</td>\n      <td>Brug over de Zenne in de Dworpsestraat</td>\n      <td>50.765257</td>\n      <td>4.275173</td>\n      <td>verouderd</td>\n      <td>verouderd</td>\n      <td>Ja</td>\n      <td>2012</td>\n      <td>Nee</td>\n      <td>budget 359.490 euro</td>\n      <td>NaN</td>\n      <td>Gemeente</td>\n      <td>onbekend</td>\n      <td>onbekend</td>\n      <td>3</td>\n    </tr>\n    <tr>\n      <th>72</th>\n      <td>Rotselaar</td>\n      <td>Vlaanderen</td>\n      <td>Vlaams-Brabant</td>\n      <td>Brug op de grens van Rotselaar en Tremelo</td>\n      <td>50.983982</td>\n      <td>4.735366</td>\n      <td>verouderd</td>\n      <td>verouderd</td>\n      <td>Ja</td>\n      <td>2021/2022</td>\n      <td>Nee</td>\n      <td>budget wordt verdeeld tussen de gemeentes, bei...</td>\n      <td>NaN</td>\n      <td>Gemeente</td>\n      <td>onbekend</td>\n      <td>onbekend</td>\n      <td>1</td>\n    </tr>\n    <tr>\n      <th>76</th>\n      <td>Drogenbos</td>\n      <td>Vlaanderen</td>\n      <td>Vlaams-Brabant</td>\n      <td>Brug in de Drie Fonteinenstraat over de Zenne</td>\n      <td>50.806132</td>\n      <td>4.301490</td>\n      <td>was lang niet in gebruik, helemaal afgebroken ...</td>\n      <td>verouderd</td>\n      <td>Ja</td>\n      <td>Bezig</td>\n      <td>Nee</td>\n      <td>NaN</td>\n      <td>NaN</td>\n      <td>Gemeente</td>\n      <td>onbekend</td>\n      <td>onbekend</td>\n      <td>1</td>\n    </tr>\n    <tr>\n      <th>77</th>\n      <td>Bertem</td>\n      <td>Vlaanderen</td>\n      <td>Vlaams-Brabant</td>\n      <td>Brug over de dreef van kerk naar kasteel</td>\n      <td>50.849629</td>\n      <td>4.592343</td>\n      <td>ouderdom, werken aan de stabiliteit, geen gevaar</td>\n      <td>verouderd</td>\n      <td>Ja</td>\n      <td>dit jaar of volgend jaar</td>\n      <td>Nee</td>\n      <td>NaN</td>\n      <td>NaN</td>\n      <td>Gemeente</td>\n      <td>nee</td>\n      <td>onbekend</td>\n      <td>1</td>\n    </tr>\n  </tbody>\n</table>\n</div>"
     },
     "metadata": {},
     "execution_count": 331
    }
   ],
   "source": [
    "bruggen[bruggen.oorzaak == 'verouderd']"
   ]
  },
  {
   "cell_type": "markdown",
   "metadata": {},
   "source": [
    "Verouderde bruggen komen zonder uitzondering bij de gemeente vandaan. Problemen zijn bijvoorbeeld slijtage of lang niet in gebruik geweest. Hier is een interessante notie dat gemeenten misschien vaak geen geld/tijd hebben om bruggen tijdig op te knappen."
   ]
  },
  {
   "cell_type": "code",
   "execution_count": 329,
   "metadata": {},
   "outputs": [
    {
     "output_type": "execute_result",
     "data": {
      "text/plain": "    gemeente      gewest        provincie  \\\n4   Zaventem  Vlaanderen   Vlaams-Brabant   \n5   Zaventem  Vlaanderen   Vlaams-Brabant   \n8   Zaventem  Vlaanderen   Vlaams-Brabant   \n14      Gent  Vlaanderen  Oost-Vlaanderen   \n15      Gent  Vlaanderen  Oost-Vlaanderen   \n16      Gent  Vlaanderen  Oost-Vlaanderen   \n\n                                             brugnaam   latitude  longitude  \\\n4    Brug B16 in Hector Henneaulaan over de R0 en R22  50.880841   4.460796   \n5                     Brug B16, deel oprit naar de R0  50.880902   4.463766   \n8   Viaduct 9 in de E40 over de R0 in Zaventem (Si...  50.868749   4.469104   \n14                         Brug over deE40 in de N466  51.038792   3.622478   \n15                              Brug LXXV over de E40  51.041225   3.611991   \n16     Brug LXXIII over de E40 in de Baarleveldstraat  51.036091   3.632100   \n\n                                  probleem      oorzaak werken_gepland  \\\n4   Moet vernieuwd worden bij verbreden R0  groter plan             Ja   \n5   Moet vernieuwd worden bij verbreden R0  groter plan             Ja   \n8   Moet vernieuwd worden bij verbreden R0  groter plan             Ja   \n14     Wordt vernieuwd met complex Drongen  groter plan             Ja   \n15     Wordt vernieuwd met complex Drongen  groter plan             Ja   \n16     Wordt vernieuwd met complex Drongen  groter plan             Ja   \n\n   start_werken bezocht                                        opmerkingen  \\\n4          2022     Nee                                                NaN   \n5          2022     Nee                                                NaN   \n8      onbekend     Nee                                                NaN   \n14         2021      Ja      Door verkeerssituatie onmogelijk goed te zien   \n15         2021      Ja     In slechte staat, moeilijk in beeld te brengen   \n16         2021      Ja  Bouwvallig, mag maar afwisselend in één richti...   \n\n          beelden beheerder hoogproblematisch lijst_sinds  totaal_gemeente  \n4             NaN       AWV                ja        2016                3  \n5             NaN       AWV                ja        2007                3  \n8             NaN       AWV                ja        2009                3  \n14            Nee       AWV                ja        1997               24  \n15  Foto en video       AWV                ja        2001               24  \n16  Foto en video       AWV                ja        2001               24  ",
      "text/html": "<div>\n<style scoped>\n    .dataframe tbody tr th:only-of-type {\n        vertical-align: middle;\n    }\n\n    .dataframe tbody tr th {\n        vertical-align: top;\n    }\n\n    .dataframe thead th {\n        text-align: right;\n    }\n</style>\n<table border=\"1\" class=\"dataframe\">\n  <thead>\n    <tr style=\"text-align: right;\">\n      <th></th>\n      <th>gemeente</th>\n      <th>gewest</th>\n      <th>provincie</th>\n      <th>brugnaam</th>\n      <th>latitude</th>\n      <th>longitude</th>\n      <th>probleem</th>\n      <th>oorzaak</th>\n      <th>werken_gepland</th>\n      <th>start_werken</th>\n      <th>bezocht</th>\n      <th>opmerkingen</th>\n      <th>beelden</th>\n      <th>beheerder</th>\n      <th>hoogproblematisch</th>\n      <th>lijst_sinds</th>\n      <th>totaal_gemeente</th>\n    </tr>\n  </thead>\n  <tbody>\n    <tr>\n      <th>4</th>\n      <td>Zaventem</td>\n      <td>Vlaanderen</td>\n      <td>Vlaams-Brabant</td>\n      <td>Brug B16 in Hector Henneaulaan over de R0 en R22</td>\n      <td>50.880841</td>\n      <td>4.460796</td>\n      <td>Moet vernieuwd worden bij verbreden R0</td>\n      <td>groter plan</td>\n      <td>Ja</td>\n      <td>2022</td>\n      <td>Nee</td>\n      <td>NaN</td>\n      <td>NaN</td>\n      <td>AWV</td>\n      <td>ja</td>\n      <td>2016</td>\n      <td>3</td>\n    </tr>\n    <tr>\n      <th>5</th>\n      <td>Zaventem</td>\n      <td>Vlaanderen</td>\n      <td>Vlaams-Brabant</td>\n      <td>Brug B16, deel oprit naar de R0</td>\n      <td>50.880902</td>\n      <td>4.463766</td>\n      <td>Moet vernieuwd worden bij verbreden R0</td>\n      <td>groter plan</td>\n      <td>Ja</td>\n      <td>2022</td>\n      <td>Nee</td>\n      <td>NaN</td>\n      <td>NaN</td>\n      <td>AWV</td>\n      <td>ja</td>\n      <td>2007</td>\n      <td>3</td>\n    </tr>\n    <tr>\n      <th>8</th>\n      <td>Zaventem</td>\n      <td>Vlaanderen</td>\n      <td>Vlaams-Brabant</td>\n      <td>Viaduct 9 in de E40 over de R0 in Zaventem (Si...</td>\n      <td>50.868749</td>\n      <td>4.469104</td>\n      <td>Moet vernieuwd worden bij verbreden R0</td>\n      <td>groter plan</td>\n      <td>Ja</td>\n      <td>onbekend</td>\n      <td>Nee</td>\n      <td>NaN</td>\n      <td>NaN</td>\n      <td>AWV</td>\n      <td>ja</td>\n      <td>2009</td>\n      <td>3</td>\n    </tr>\n    <tr>\n      <th>14</th>\n      <td>Gent</td>\n      <td>Vlaanderen</td>\n      <td>Oost-Vlaanderen</td>\n      <td>Brug over deE40 in de N466</td>\n      <td>51.038792</td>\n      <td>3.622478</td>\n      <td>Wordt vernieuwd met complex Drongen</td>\n      <td>groter plan</td>\n      <td>Ja</td>\n      <td>2021</td>\n      <td>Ja</td>\n      <td>Door verkeerssituatie onmogelijk goed te zien</td>\n      <td>Nee</td>\n      <td>AWV</td>\n      <td>ja</td>\n      <td>1997</td>\n      <td>24</td>\n    </tr>\n    <tr>\n      <th>15</th>\n      <td>Gent</td>\n      <td>Vlaanderen</td>\n      <td>Oost-Vlaanderen</td>\n      <td>Brug LXXV over de E40</td>\n      <td>51.041225</td>\n      <td>3.611991</td>\n      <td>Wordt vernieuwd met complex Drongen</td>\n      <td>groter plan</td>\n      <td>Ja</td>\n      <td>2021</td>\n      <td>Ja</td>\n      <td>In slechte staat, moeilijk in beeld te brengen</td>\n      <td>Foto en video</td>\n      <td>AWV</td>\n      <td>ja</td>\n      <td>2001</td>\n      <td>24</td>\n    </tr>\n    <tr>\n      <th>16</th>\n      <td>Gent</td>\n      <td>Vlaanderen</td>\n      <td>Oost-Vlaanderen</td>\n      <td>Brug LXXIII over de E40 in de Baarleveldstraat</td>\n      <td>51.036091</td>\n      <td>3.632100</td>\n      <td>Wordt vernieuwd met complex Drongen</td>\n      <td>groter plan</td>\n      <td>Ja</td>\n      <td>2021</td>\n      <td>Ja</td>\n      <td>Bouwvallig, mag maar afwisselend in één richti...</td>\n      <td>Foto en video</td>\n      <td>AWV</td>\n      <td>ja</td>\n      <td>2001</td>\n      <td>24</td>\n    </tr>\n  </tbody>\n</table>\n</div>"
     },
     "metadata": {},
     "execution_count": 329
    }
   ],
   "source": [
    "bruggen[bruggen.oorzaak == 'groter plan']"
   ]
  },
  {
   "cell_type": "markdown",
   "metadata": {},
   "source": [
    "De bruggen die onderdeel zijn van een groter plan, zijn allemaal hoogproblematische bruggen van het AWV. Op één brug na staan ze allemaal al langer dan 5 jaar op de lijst, één zelfs al meer dan 20 jaar. Voor allen zijn werken gepland, de meesten voor volgend jaar of het jaar erop. Voor één brug staat 'onbekend' maar omdat deze ook onderdeel is van het vernieuwen bij het verbreden van R0, kunnen we ervan uitgaan dat ook deze in 2022 gerenoveerd zal worden."
   ]
  },
  {
   "cell_type": "code",
   "execution_count": 313,
   "metadata": {},
   "outputs": [
    {
     "output_type": "execute_result",
     "data": {
      "text/plain": "     gemeente      gewest        provincie  \\\n9       Halle  Vlaanderen   Vlaams-Brabant   \n22  Roeselare  Vlaanderen  West-Vlaanderen   \n27   Zwevegem  Vlaanderen  West-Vlaanderen   \n33       Gent  Vlaanderen  Oost-Vlaanderen   \n\n                                             brugnaam   latitude  longitude  \\\n9    Brug 1 over de R0 in Drasop in Halle (Buizingen)  50.729084   4.270168   \n22  Brug B50 N36 Roeselare-Kerkhove in Roeselare (...  50.918747   3.176617   \n27                                     La Flandrebrug  50.816373   3.352322   \n33                                     Beekstraatbrug  51.071344   3.657729   \n\n                                             probleem  oorzaak werken_gepland  \\\n9   Brug afgesloten voor gemotoriseerd verkeer na ...  ongeval             Ja   \n22                                  Schade na ongeval  ongeval             Ja   \n27     Beschadigd na aanrijding, werken in uitvoering  ongeval             Ja   \n33   Beschadigd na aanrijding. Werken gepland in 2020  ongeval             Ja   \n\n   start_werken bezocht            opmerkingen beelden         beheerder  \\\n9      onbekend     Nee                    NaN     NaN               AWV   \n22     onbekend      Ja  Geen zichtbare schade     Nee               AWV   \n27         2020     Nee                    NaN     NaN  Vlaamse Waterweg   \n33         2020     Nee                    NaN     NaN  Vlaamse Waterweg   \n\n   hoogproblematisch lijst_sinds  totaal_gemeente  \n9                 ja        2018                2  \n22                ja        2018                2  \n27                ja        2017                1  \n33                ja        2018               24  ",
      "text/html": "<div>\n<style scoped>\n    .dataframe tbody tr th:only-of-type {\n        vertical-align: middle;\n    }\n\n    .dataframe tbody tr th {\n        vertical-align: top;\n    }\n\n    .dataframe thead th {\n        text-align: right;\n    }\n</style>\n<table border=\"1\" class=\"dataframe\">\n  <thead>\n    <tr style=\"text-align: right;\">\n      <th></th>\n      <th>gemeente</th>\n      <th>gewest</th>\n      <th>provincie</th>\n      <th>brugnaam</th>\n      <th>latitude</th>\n      <th>longitude</th>\n      <th>probleem</th>\n      <th>oorzaak</th>\n      <th>werken_gepland</th>\n      <th>start_werken</th>\n      <th>bezocht</th>\n      <th>opmerkingen</th>\n      <th>beelden</th>\n      <th>beheerder</th>\n      <th>hoogproblematisch</th>\n      <th>lijst_sinds</th>\n      <th>totaal_gemeente</th>\n    </tr>\n  </thead>\n  <tbody>\n    <tr>\n      <th>9</th>\n      <td>Halle</td>\n      <td>Vlaanderen</td>\n      <td>Vlaams-Brabant</td>\n      <td>Brug 1 over de R0 in Drasop in Halle (Buizingen)</td>\n      <td>50.729084</td>\n      <td>4.270168</td>\n      <td>Brug afgesloten voor gemotoriseerd verkeer na ...</td>\n      <td>ongeval</td>\n      <td>Ja</td>\n      <td>onbekend</td>\n      <td>Nee</td>\n      <td>NaN</td>\n      <td>NaN</td>\n      <td>AWV</td>\n      <td>ja</td>\n      <td>2018</td>\n      <td>2</td>\n    </tr>\n    <tr>\n      <th>22</th>\n      <td>Roeselare</td>\n      <td>Vlaanderen</td>\n      <td>West-Vlaanderen</td>\n      <td>Brug B50 N36 Roeselare-Kerkhove in Roeselare (...</td>\n      <td>50.918747</td>\n      <td>3.176617</td>\n      <td>Schade na ongeval</td>\n      <td>ongeval</td>\n      <td>Ja</td>\n      <td>onbekend</td>\n      <td>Ja</td>\n      <td>Geen zichtbare schade</td>\n      <td>Nee</td>\n      <td>AWV</td>\n      <td>ja</td>\n      <td>2018</td>\n      <td>2</td>\n    </tr>\n    <tr>\n      <th>27</th>\n      <td>Zwevegem</td>\n      <td>Vlaanderen</td>\n      <td>West-Vlaanderen</td>\n      <td>La Flandrebrug</td>\n      <td>50.816373</td>\n      <td>3.352322</td>\n      <td>Beschadigd na aanrijding, werken in uitvoering</td>\n      <td>ongeval</td>\n      <td>Ja</td>\n      <td>2020</td>\n      <td>Nee</td>\n      <td>NaN</td>\n      <td>NaN</td>\n      <td>Vlaamse Waterweg</td>\n      <td>ja</td>\n      <td>2017</td>\n      <td>1</td>\n    </tr>\n    <tr>\n      <th>33</th>\n      <td>Gent</td>\n      <td>Vlaanderen</td>\n      <td>Oost-Vlaanderen</td>\n      <td>Beekstraatbrug</td>\n      <td>51.071344</td>\n      <td>3.657729</td>\n      <td>Beschadigd na aanrijding. Werken gepland in 2020</td>\n      <td>ongeval</td>\n      <td>Ja</td>\n      <td>2020</td>\n      <td>Nee</td>\n      <td>NaN</td>\n      <td>NaN</td>\n      <td>Vlaamse Waterweg</td>\n      <td>ja</td>\n      <td>2018</td>\n      <td>24</td>\n    </tr>\n  </tbody>\n</table>\n</div>"
     },
     "metadata": {},
     "execution_count": 313
    }
   ],
   "source": [
    "bruggen[bruggen.oorzaak == 'ongeval']"
   ]
  },
  {
   "cell_type": "markdown",
   "metadata": {},
   "source": [
    "De bruggen waar sprake is van een ongeval zijn allemaal redelijk recent op de lijst terecht gekomen. Twee ervan moeten dit jaar nog gerenoveerd worden, van twee is de startdatum voor renovatie nog onbekend, hoewel er wel werken gepland zijn."
   ]
  },
  {
   "cell_type": "markdown",
   "metadata": {},
   "source": [
    "## Zijn voor de bruggen al werken gepland?"
   ]
  },
  {
   "cell_type": "code",
   "execution_count": 314,
   "metadata": {},
   "outputs": [
    {
     "output_type": "execute_result",
     "data": {
      "text/plain": "Ja          41\nNee         14\nonbekend     1\nName: werken_gepland, dtype: int64"
     },
     "metadata": {},
     "execution_count": 314
    }
   ],
   "source": [
    "bruggen[bruggen.hoogproblematisch == 'ja'].werken_gepland.value_counts()"
   ]
  },
  {
   "cell_type": "markdown",
   "metadata": {},
   "source": [
    "Voor veruit de meeste hoogproblematische bruggen zijn al werken gepland, maar voor enkele nog niet - of onbekend."
   ]
  },
  {
   "cell_type": "code",
   "execution_count": 315,
   "metadata": {},
   "outputs": [
    {
     "output_type": "execute_result",
     "data": {
      "text/plain": "array(['Wommelgem', 'Overrijse', 'Grimbergen', 'Gent', 'Wetteren',\n       'Nieuwpoort', 'Kortrijk', 'Merelbeke', 'Sint-Laureins', 'Halle',\n       'Anderlecht'], dtype=object)"
     },
     "metadata": {},
     "execution_count": 315
    }
   ],
   "source": [
    "bruggen[(bruggen.hoogproblematisch == 'ja') & (bruggen.werken_gepland != 'Ja')].gemeente.unique()"
   ]
  },
  {
   "cell_type": "markdown",
   "metadata": {},
   "source": [
    "Dat zijn bruggen in de gemeentes Wommelgem, Overrijse, Halle, Grimbergen, Gent, Wetteren, Nieuwpoort, Kortrijk, Merelbeke, Sint-Laureins en Anderlecht."
   ]
  },
  {
   "cell_type": "code",
   "execution_count": 316,
   "metadata": {},
   "outputs": [
    {
     "output_type": "execute_result",
     "data": {
      "text/plain": "2018        4\n2019        3\n2014        1\n1999        1\n2010        1\n2007        1\n2017        1\n1997        1\nonbekend    1\n2013        1\nName: lijst_sinds, dtype: int64"
     },
     "metadata": {},
     "execution_count": 316
    }
   ],
   "source": [
    "bruggen[(bruggen.hoogproblematisch == 'ja') & (bruggen.werken_gepland != 'Ja')].lijst_sinds.value_counts()"
   ]
  },
  {
   "cell_type": "markdown",
   "metadata": {},
   "source": [
    "Bijna alle problematische bruggen waarvoor nog geen werken gepland zijn, staan op de lijst van het Vlaams Gewest. Vijf bruggen staan al langer dan vijf jaar op de lijst, de meeste korter (de brug in 1997 zagen we al eerder terug en daarvan weten we dat die waarschijnlijk tegelijk met de andere verbreding over de R0 gerenoveerd gaat worden.)"
   ]
  },
  {
   "cell_type": "code",
   "execution_count": 317,
   "metadata": {},
   "outputs": [
    {
     "output_type": "execute_result",
     "data": {
      "text/plain": "Ja          46\nonbekend    36\nName: werken_gepland, dtype: int64"
     },
     "metadata": {},
     "execution_count": 317
    }
   ],
   "source": [
    "bruggen[(bruggen.hoogproblematisch != 'ja')].werken_gepland.value_counts()"
   ]
  },
  {
   "cell_type": "markdown",
   "metadata": {},
   "source": [
    "Voor de overige bruggen die gerenoveerd moet worden, is voor de meerderheid al werken gepland."
   ]
  },
  {
   "cell_type": "code",
   "execution_count": 318,
   "metadata": {},
   "outputs": [
    {
     "output_type": "execute_result",
     "data": {
      "text/plain": "Brussels Gewest    44\nVlaanderen         41\nName: gewest, dtype: int64"
     },
     "metadata": {},
     "execution_count": 318
    }
   ],
   "source": [
    "bruggen[(bruggen.hoogproblematisch != 'ja')].gewest.value_counts()"
   ]
  },
  {
   "cell_type": "markdown",
   "metadata": {},
   "source": [
    "Van deze bruggen staan de meeste in Brussel: daarvan weten we van bijna geen enkele brug wanneer die gerenoveerd gaat worden, tenzij ze al bezig zijn."
   ]
  },
  {
   "cell_type": "code",
   "execution_count": 319,
   "metadata": {},
   "outputs": [],
   "source": [
    "bruggen = bruggen.replace('onbkekend', 'onbekend')"
   ]
  },
  {
   "cell_type": "code",
   "execution_count": 320,
   "metadata": {},
   "outputs": [
    {
     "output_type": "execute_result",
     "data": {
      "text/plain": "onbekend                    19\nBezig                        8\n2012                         2\n2023                         2\n2021                         2\n2020                         2\n2019                         2\ndit jaar of volgend jaar     1\n2022                         1\nvermoedelijk >2024           1\n10-2020                      1\nAanbesteding                 1\n2021/2022                    1\nDeskundige aangesteld        1\n04-2020                      1\nDeze legislatuur             1\nName: start_werken, dtype: int64"
     },
     "metadata": {},
     "execution_count": 320
    }
   ],
   "source": [
    "bruggen[(bruggen.hoogproblematisch != 'ja') & (bruggen.werken_gepland == 'Ja')].start_werken.value_counts()"
   ]
  },
  {
   "cell_type": "code",
   "execution_count": 321,
   "metadata": {},
   "outputs": [
    {
     "output_type": "execute_result",
     "data": {
      "text/plain": "Ja    38\nName: werken_gepland, dtype: int64"
     },
     "metadata": {},
     "execution_count": 321
    }
   ],
   "source": [
    "bruggen[(bruggen.hoogproblematisch != 'ja') & (bruggen.gewest == 'Vlaanderen')].werken_gepland.value_counts()"
   ]
  },
  {
   "cell_type": "markdown",
   "metadata": {},
   "source": [
    "Voor alle Vlaamse, niet-hoogproblematische bruggen zijn in principe werken gepland."
   ]
  },
  {
   "cell_type": "code",
   "execution_count": 322,
   "metadata": {},
   "outputs": [
    {
     "output_type": "execute_result",
     "data": {
      "text/plain": "24"
     },
     "metadata": {},
     "execution_count": 322
    }
   ],
   "source": [
    "len(bruggen[(bruggen.werken_gepland == 'Ja') & (bruggen.start_werken == 'onbekend')].index)"
   ]
  },
  {
   "cell_type": "markdown",
   "metadata": {},
   "source": [
    "Er zijn 24 bruggen waarvoor wel werken gepland zijn, maar nog onbekend is wanneer."
   ]
  },
  {
   "cell_type": "code",
   "execution_count": 323,
   "metadata": {},
   "outputs": [
    {
     "output_type": "execute_result",
     "data": {
      "text/plain": "Gent                  6\nMechelen              2\nDe Pinte              2\nUkkel                 2\nZaventem              1\nElsene                1\nHalle                 1\nBrugge                1\nAntwerpen             1\nKapelle-op-den-Bos    1\nBornem                1\nTienen                1\nHeusden-Zolder        1\nRoeselare             1\nArdooie               1\nGalmaarden            1\nName: gemeente, dtype: int64"
     },
     "metadata": {},
     "execution_count": 323
    }
   ],
   "source": [
    "bruggen[(bruggen.werken_gepland == 'Ja') & (bruggen.start_werken == 'onbekend')].gemeente.value_counts()"
   ]
  },
  {
   "cell_type": "markdown",
   "metadata": {},
   "source": [
    "Daarvan staan de meeste in Gent."
   ]
  },
  {
   "cell_type": "code",
   "execution_count": null,
   "metadata": {},
   "outputs": [],
   "source": []
  }
 ],
 "metadata": {
  "language_info": {
   "codemirror_mode": {
    "name": "ipython",
    "version": 3
   },
   "file_extension": ".py",
   "mimetype": "text/x-python",
   "name": "python",
   "nbconvert_exporter": "python",
   "pygments_lexer": "ipython3",
   "version": "3.7.6-final"
  },
  "orig_nbformat": 2,
  "kernelspec": {
   "name": "python3",
   "display_name": "Python 3"
  }
 },
 "nbformat": 4,
 "nbformat_minor": 2
}