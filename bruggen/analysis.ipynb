{
 "cells": [
  {
   "cell_type": "code",
   "execution_count": 1,
   "metadata": {},
   "outputs": [],
   "source": [
    "import pandas as pd \n",
    "import numpy as np "
   ]
  },
  {
   "cell_type": "code",
   "execution_count": 150,
   "metadata": {},
   "outputs": [],
   "source": [
    "bruggen = pd.read_csv('bruggen.csv')\n",
    "groen = pd.read_csv('groen_bruggen.csv', converters={'idnr': '{:0>8}'.format})"
   ]
  },
  {
   "cell_type": "code",
   "execution_count": 151,
   "metadata": {},
   "outputs": [
    {
     "output_type": "execute_result",
     "data": {
      "text/plain": "   provincie      gewest  vnr      idnr oud-brugnr   gemeente (deelgemeente)  \\\n0  Antwerpen  Vlaanderen  220  00010751         O5    SCHOTEN            NaN   \n1  Antwerpen  Vlaanderen  221  00010791         O9     BRECHT         BRECHT   \n2  Antwerpen  Vlaanderen  222  00010741         B4    SCHOTEN            NaN   \n3  Antwerpen  Vlaanderen  223  00130101         B5  WOMMELGEM      WOMMELGEM   \n4  Antwerpen  Vlaanderen  224  00130131         B8      RANST            NaN   \n\n                                  brugnaam weg\\nboven weg\\nonder  ...  \\\n0  BRUG-O5-JAGERSDREEF-OVER-DUWVAARTKANAAL       A001       W203  ...   \n1                      Brug O9 Kapelstraat       A001       G000  ...   \n2                      BRUG-B4-ELSHOUTBAAN       N121       A001  ...   \n3               Brug B5 - Wijnegemsteenweg       G000       A013  ...   \n4                      BRUG-B8-VAARTSTRAAT       G000       A013  ...   \n\n   longitude probleem oorzaak werken_gepland start_werken bezocht opmerkingen  \\\n0        NaN      NaN     NaN            NaN          NaN     NaN         NaN   \n1  4.615.664      NaN     NaN            NaN          NaN     NaN         NaN   \n2  4.511.460      NaN     NaN            NaN          NaN     NaN         NaN   \n3  4.527.529      NaN     NaN            NaN          NaN     NaN         NaN   \n4  4.570.469      NaN     NaN            NaN          NaN     NaN         NaN   \n\n   beelden  hoogproblematisch  lijst_sinds  \n0      NaN                nee          NaN  \n1      NaN                nee          NaN  \n2      NaN                nee          NaN  \n3      NaN                 ja       2007.0  \n4      NaN                 ja          NaN  \n\n[5 rows x 31 columns]",
      "text/html": "<div>\n<style scoped>\n    .dataframe tbody tr th:only-of-type {\n        vertical-align: middle;\n    }\n\n    .dataframe tbody tr th {\n        vertical-align: top;\n    }\n\n    .dataframe thead th {\n        text-align: right;\n    }\n</style>\n<table border=\"1\" class=\"dataframe\">\n  <thead>\n    <tr style=\"text-align: right;\">\n      <th></th>\n      <th>provincie</th>\n      <th>gewest</th>\n      <th>vnr</th>\n      <th>idnr</th>\n      <th>oud-brugnr</th>\n      <th>gemeente</th>\n      <th>(deelgemeente)</th>\n      <th>brugnaam</th>\n      <th>weg\\nboven</th>\n      <th>weg\\nonder</th>\n      <th>...</th>\n      <th>longitude</th>\n      <th>probleem</th>\n      <th>oorzaak</th>\n      <th>werken_gepland</th>\n      <th>start_werken</th>\n      <th>bezocht</th>\n      <th>opmerkingen</th>\n      <th>beelden</th>\n      <th>hoogproblematisch</th>\n      <th>lijst_sinds</th>\n    </tr>\n  </thead>\n  <tbody>\n    <tr>\n      <th>0</th>\n      <td>Antwerpen</td>\n      <td>Vlaanderen</td>\n      <td>220</td>\n      <td>00010751</td>\n      <td>O5</td>\n      <td>SCHOTEN</td>\n      <td>NaN</td>\n      <td>BRUG-O5-JAGERSDREEF-OVER-DUWVAARTKANAAL</td>\n      <td>A001</td>\n      <td>W203</td>\n      <td>...</td>\n      <td>NaN</td>\n      <td>NaN</td>\n      <td>NaN</td>\n      <td>NaN</td>\n      <td>NaN</td>\n      <td>NaN</td>\n      <td>NaN</td>\n      <td>NaN</td>\n      <td>nee</td>\n      <td>NaN</td>\n    </tr>\n    <tr>\n      <th>1</th>\n      <td>Antwerpen</td>\n      <td>Vlaanderen</td>\n      <td>221</td>\n      <td>00010791</td>\n      <td>O9</td>\n      <td>BRECHT</td>\n      <td>BRECHT</td>\n      <td>Brug O9 Kapelstraat</td>\n      <td>A001</td>\n      <td>G000</td>\n      <td>...</td>\n      <td>4.615.664</td>\n      <td>NaN</td>\n      <td>NaN</td>\n      <td>NaN</td>\n      <td>NaN</td>\n      <td>NaN</td>\n      <td>NaN</td>\n      <td>NaN</td>\n      <td>nee</td>\n      <td>NaN</td>\n    </tr>\n    <tr>\n      <th>2</th>\n      <td>Antwerpen</td>\n      <td>Vlaanderen</td>\n      <td>222</td>\n      <td>00010741</td>\n      <td>B4</td>\n      <td>SCHOTEN</td>\n      <td>NaN</td>\n      <td>BRUG-B4-ELSHOUTBAAN</td>\n      <td>N121</td>\n      <td>A001</td>\n      <td>...</td>\n      <td>4.511.460</td>\n      <td>NaN</td>\n      <td>NaN</td>\n      <td>NaN</td>\n      <td>NaN</td>\n      <td>NaN</td>\n      <td>NaN</td>\n      <td>NaN</td>\n      <td>nee</td>\n      <td>NaN</td>\n    </tr>\n    <tr>\n      <th>3</th>\n      <td>Antwerpen</td>\n      <td>Vlaanderen</td>\n      <td>223</td>\n      <td>00130101</td>\n      <td>B5</td>\n      <td>WOMMELGEM</td>\n      <td>WOMMELGEM</td>\n      <td>Brug B5 - Wijnegemsteenweg</td>\n      <td>G000</td>\n      <td>A013</td>\n      <td>...</td>\n      <td>4.527.529</td>\n      <td>NaN</td>\n      <td>NaN</td>\n      <td>NaN</td>\n      <td>NaN</td>\n      <td>NaN</td>\n      <td>NaN</td>\n      <td>NaN</td>\n      <td>ja</td>\n      <td>2007.0</td>\n    </tr>\n    <tr>\n      <th>4</th>\n      <td>Antwerpen</td>\n      <td>Vlaanderen</td>\n      <td>224</td>\n      <td>00130131</td>\n      <td>B8</td>\n      <td>RANST</td>\n      <td>NaN</td>\n      <td>BRUG-B8-VAARTSTRAAT</td>\n      <td>G000</td>\n      <td>A013</td>\n      <td>...</td>\n      <td>4.570.469</td>\n      <td>NaN</td>\n      <td>NaN</td>\n      <td>NaN</td>\n      <td>NaN</td>\n      <td>NaN</td>\n      <td>NaN</td>\n      <td>NaN</td>\n      <td>ja</td>\n      <td>NaN</td>\n    </tr>\n  </tbody>\n</table>\n<p>5 rows × 31 columns</p>\n</div>"
     },
     "metadata": {},
     "execution_count": 151
    }
   ],
   "source": [
    "groen.head()"
   ]
  },
  {
   "cell_type": "code",
   "execution_count": 152,
   "metadata": {},
   "outputs": [],
   "source": [
    "groen.gemeente = groen.gemeente.str.title()"
   ]
  },
  {
   "cell_type": "code",
   "execution_count": 57,
   "metadata": {},
   "outputs": [],
   "source": [
    "gewest = bruggen[bruggen.lijst_sinds.notna()]"
   ]
  },
  {
   "cell_type": "code",
   "execution_count": 153,
   "metadata": {},
   "outputs": [],
   "source": [
    "groen_gewest = groen[groen.lijst_sinds.notna()]"
   ]
  },
  {
   "cell_type": "code",
   "execution_count": 154,
   "metadata": {},
   "outputs": [
    {
     "output_type": "stream",
     "name": "stdout",
     "text": "<class 'pandas.core.frame.DataFrame'>\nRangeIndex: 2803 entries, 0 to 2802\nData columns (total 31 columns):\n #   Column                   Non-Null Count  Dtype  \n---  ------                   --------------  -----  \n 0   provincie                2803 non-null   object \n 1   gewest                   2803 non-null   object \n 2   vnr                      2803 non-null   int64  \n 3   idnr                     2803 non-null   object \n 4   oud-brugnr               1526 non-null   object \n 5   gemeente                 2803 non-null   object \n 6   (deelgemeente)           1225 non-null   object \n 7   brugnaam                 2803 non-null   object \n 8   weg\nboven                2795 non-null   object \n 9   weg\nonder                2792 non-null   object \n 10  beheerder                2803 non-null   object \n 11  beheer                   2803 non-null   object \n 12  toestandcode             2764 non-null   object \n 13  huidige toestand         2764 non-null   object \n 14  LPK                      45 non-null     object \n 15  voorlaatste\nA-inspectie  2673 non-null   object \n 16  recentste\nA-inspectie    2763 non-null   object \n 17  prev_year                2673 non-null   float64\n 18  last_year                2763 non-null   float64\n 19  diff                     2803 non-null   int64  \n 20  latitude                 396 non-null    object \n 21  longitude                395 non-null    object \n 22  probleem                 0 non-null      float64\n 23  oorzaak                  0 non-null      float64\n 24  werken_gepland           0 non-null      float64\n 25  start_werken             0 non-null      float64\n 26  bezocht                  0 non-null      float64\n 27  opmerkingen              0 non-null      float64\n 28  beelden                  0 non-null      float64\n 29  hoogproblematisch        2803 non-null   object \n 30  lijst_sinds              42 non-null     float64\ndtypes: float64(10), int64(2), object(19)\nmemory usage: 679.0+ KB\n"
    }
   ],
   "source": [
    "groen.info()"
   ]
  },
  {
   "cell_type": "code",
   "execution_count": 60,
   "metadata": {},
   "outputs": [],
   "source": [
    "merged = gewest.merge(groen_gewest, on=['provincie', 'gemeente', 'beheerder', 'lijst_sinds'], how='outer')"
   ]
  },
  {
   "cell_type": "code",
   "execution_count": 61,
   "metadata": {},
   "outputs": [
    {
     "output_type": "stream",
     "name": "stdout",
     "text": "<class 'pandas.core.frame.DataFrame'>\nInt64Index: 68 entries, 0 to 67\nData columns (total 43 columns):\n #   Column                   Non-Null Count  Dtype  \n---  ------                   --------------  -----  \n 0   gemeente                 68 non-null     object \n 1   gewest_x                 68 non-null     object \n 2   provincie                68 non-null     object \n 3   brugnaam_x               68 non-null     object \n 4   latitude_x               68 non-null     float64\n 5   longitude_x              68 non-null     float64\n 6   probleem_x               68 non-null     object \n 7   oorzaak_x                68 non-null     object \n 8   werken_gepland_x         68 non-null     object \n 9   start_werken_x           68 non-null     object \n 10  bezocht_x                68 non-null     object \n 11  opmerkingen_x            35 non-null     object \n 12  beelden_x                34 non-null     object \n 13  beheerder                68 non-null     object \n 14  hoogproblematisch_x      68 non-null     object \n 15  lijst_sinds              68 non-null     float64\n 16  gewest_y                 68 non-null     object \n 17  vnr                      68 non-null     int64  \n 18  idnr                     68 non-null     int64  \n 19  oud-brugnr               55 non-null     object \n 20  (deelgemeente)           53 non-null     object \n 21  brugnaam_y               68 non-null     object \n 22  weg\nboven                68 non-null     object \n 23  weg\nonder                68 non-null     object \n 24  beheer                   68 non-null     object \n 25  toestandcode             68 non-null     object \n 26  huidige toestand         68 non-null     object \n 27  LPK                      68 non-null     object \n 28  voorlaatste\nA-inspectie  68 non-null     object \n 29  recentste\nA-inspectie    68 non-null     object \n 30  prev_year                68 non-null     float64\n 31  last_year                68 non-null     float64\n 32  diff                     68 non-null     int64  \n 33  latitude_y               68 non-null     object \n 34  longitude_y              68 non-null     object \n 35  probleem_y               0 non-null      float64\n 36  oorzaak_y                0 non-null      float64\n 37  werken_gepland_y         0 non-null      float64\n 38  start_werken_y           0 non-null      float64\n 39  bezocht_y                0 non-null      float64\n 40  opmerkingen_y            0 non-null      float64\n 41  beelden_y                0 non-null      float64\n 42  hoogproblematisch_y      68 non-null     object \ndtypes: float64(12), int64(3), object(28)\nmemory usage: 23.4+ KB\n"
    }
   ],
   "source": [
    "merged.info()"
   ]
  },
  {
   "cell_type": "code",
   "execution_count": 62,
   "metadata": {},
   "outputs": [],
   "source": [
    "merged.to_csv('merged_orig.csv', sep=';', index=False)"
   ]
  },
  {
   "cell_type": "code",
   "execution_count": 213,
   "metadata": {},
   "outputs": [],
   "source": [
    "prio = pd.read_csv('merged.csv', sep=';', converters={'idnr': '{:0>8}'.format})"
   ]
  },
  {
   "cell_type": "code",
   "execution_count": 214,
   "metadata": {},
   "outputs": [
    {
     "output_type": "execute_result",
     "data": {
      "text/plain": "    gemeente      gewest       provincie    latitude  longitude  \\\n0  Wommelgem  Vlaanderen       Antwerpen  51.212.246  4.527.518   \n1     Deurne  Vlaanderen       Antwerpen  51.210.954  4.464.007   \n2     Deurne  Vlaanderen       Antwerpen  51.214.129  4.459.276   \n3   Arendonk  Vlaanderen       Antwerpen  51.338.964  5.104.604   \n4   Zaventem  Vlaanderen  Vlaams Brabant  50.880.841  4.460.796   \n\n                                            probleem      oorzaak  \\\n0  Vallende brokstukken. Afgesloten voor alle gem...     brokkelt   \n1               Jaarlijkse opvolging en waterpassing    technisch   \n2  3-maandelijke inspectie, 6-maandelijkse waterp...    technisch   \n3                         Renovatieplannen in opmaak     onbekend   \n4             Moet vernieuwd worden bij verbreden R0  groter plan   \n\n  werken_gepland start_werken bezocht  ... Unnamed: 33 Unnamed: 34  \\\n0            Nee     onbekend     Nee  ...         NaN         NaN   \n1             Ja         2021     Nee  ...         NaN         NaN   \n2             Ja         2022     Nee  ...         NaN         NaN   \n3             Ja         2020     Nee  ...         NaN         NaN   \n4             Ja         2022     Nee  ...         NaN         NaN   \n\n  Unnamed: 35 Unnamed: 36  Unnamed: 37  Unnamed: 38 Unnamed: 39 Unnamed: 40  \\\n0         NaN         NaN          NaN          NaN         NaN         NaN   \n1         NaN         NaN          NaN          NaN         NaN         NaN   \n2         NaN         NaN          NaN          NaN         NaN         NaN   \n3         NaN         NaN          NaN          NaN         NaN         NaN   \n4         NaN         NaN          NaN          NaN         NaN         NaN   \n\n  Unnamed: 41 Unnamed: 42  \n0         NaN         NaN  \n1         NaN         NaN  \n2         NaN         NaN  \n3         NaN         NaN  \n4         NaN         NaN  \n\n[5 rows x 43 columns]",
      "text/html": "<div>\n<style scoped>\n    .dataframe tbody tr th:only-of-type {\n        vertical-align: middle;\n    }\n\n    .dataframe tbody tr th {\n        vertical-align: top;\n    }\n\n    .dataframe thead th {\n        text-align: right;\n    }\n</style>\n<table border=\"1\" class=\"dataframe\">\n  <thead>\n    <tr style=\"text-align: right;\">\n      <th></th>\n      <th>gemeente</th>\n      <th>gewest</th>\n      <th>provincie</th>\n      <th>latitude</th>\n      <th>longitude</th>\n      <th>probleem</th>\n      <th>oorzaak</th>\n      <th>werken_gepland</th>\n      <th>start_werken</th>\n      <th>bezocht</th>\n      <th>...</th>\n      <th>Unnamed: 33</th>\n      <th>Unnamed: 34</th>\n      <th>Unnamed: 35</th>\n      <th>Unnamed: 36</th>\n      <th>Unnamed: 37</th>\n      <th>Unnamed: 38</th>\n      <th>Unnamed: 39</th>\n      <th>Unnamed: 40</th>\n      <th>Unnamed: 41</th>\n      <th>Unnamed: 42</th>\n    </tr>\n  </thead>\n  <tbody>\n    <tr>\n      <th>0</th>\n      <td>Wommelgem</td>\n      <td>Vlaanderen</td>\n      <td>Antwerpen</td>\n      <td>51.212.246</td>\n      <td>4.527.518</td>\n      <td>Vallende brokstukken. Afgesloten voor alle gem...</td>\n      <td>brokkelt</td>\n      <td>Nee</td>\n      <td>onbekend</td>\n      <td>Nee</td>\n      <td>...</td>\n      <td>NaN</td>\n      <td>NaN</td>\n      <td>NaN</td>\n      <td>NaN</td>\n      <td>NaN</td>\n      <td>NaN</td>\n      <td>NaN</td>\n      <td>NaN</td>\n      <td>NaN</td>\n      <td>NaN</td>\n    </tr>\n    <tr>\n      <th>1</th>\n      <td>Deurne</td>\n      <td>Vlaanderen</td>\n      <td>Antwerpen</td>\n      <td>51.210.954</td>\n      <td>4.464.007</td>\n      <td>Jaarlijkse opvolging en waterpassing</td>\n      <td>technisch</td>\n      <td>Ja</td>\n      <td>2021</td>\n      <td>Nee</td>\n      <td>...</td>\n      <td>NaN</td>\n      <td>NaN</td>\n      <td>NaN</td>\n      <td>NaN</td>\n      <td>NaN</td>\n      <td>NaN</td>\n      <td>NaN</td>\n      <td>NaN</td>\n      <td>NaN</td>\n      <td>NaN</td>\n    </tr>\n    <tr>\n      <th>2</th>\n      <td>Deurne</td>\n      <td>Vlaanderen</td>\n      <td>Antwerpen</td>\n      <td>51.214.129</td>\n      <td>4.459.276</td>\n      <td>3-maandelijke inspectie, 6-maandelijkse waterp...</td>\n      <td>technisch</td>\n      <td>Ja</td>\n      <td>2022</td>\n      <td>Nee</td>\n      <td>...</td>\n      <td>NaN</td>\n      <td>NaN</td>\n      <td>NaN</td>\n      <td>NaN</td>\n      <td>NaN</td>\n      <td>NaN</td>\n      <td>NaN</td>\n      <td>NaN</td>\n      <td>NaN</td>\n      <td>NaN</td>\n    </tr>\n    <tr>\n      <th>3</th>\n      <td>Arendonk</td>\n      <td>Vlaanderen</td>\n      <td>Antwerpen</td>\n      <td>51.338.964</td>\n      <td>5.104.604</td>\n      <td>Renovatieplannen in opmaak</td>\n      <td>onbekend</td>\n      <td>Ja</td>\n      <td>2020</td>\n      <td>Nee</td>\n      <td>...</td>\n      <td>NaN</td>\n      <td>NaN</td>\n      <td>NaN</td>\n      <td>NaN</td>\n      <td>NaN</td>\n      <td>NaN</td>\n      <td>NaN</td>\n      <td>NaN</td>\n      <td>NaN</td>\n      <td>NaN</td>\n    </tr>\n    <tr>\n      <th>4</th>\n      <td>Zaventem</td>\n      <td>Vlaanderen</td>\n      <td>Vlaams Brabant</td>\n      <td>50.880.841</td>\n      <td>4.460.796</td>\n      <td>Moet vernieuwd worden bij verbreden R0</td>\n      <td>groter plan</td>\n      <td>Ja</td>\n      <td>2022</td>\n      <td>Nee</td>\n      <td>...</td>\n      <td>NaN</td>\n      <td>NaN</td>\n      <td>NaN</td>\n      <td>NaN</td>\n      <td>NaN</td>\n      <td>NaN</td>\n      <td>NaN</td>\n      <td>NaN</td>\n      <td>NaN</td>\n      <td>NaN</td>\n    </tr>\n  </tbody>\n</table>\n<p>5 rows × 43 columns</p>\n</div>"
     },
     "metadata": {},
     "execution_count": 214
    }
   ],
   "source": [
    "prio.head()"
   ]
  },
  {
   "cell_type": "code",
   "execution_count": 215,
   "metadata": {},
   "outputs": [],
   "source": [
    "andere = bruggen[bruggen.lijst_sinds.isna()]"
   ]
  },
  {
   "cell_type": "code",
   "execution_count": 216,
   "metadata": {},
   "outputs": [],
   "source": [
    "groen_andere = groen[groen.lijst_sinds.isna()]"
   ]
  },
  {
   "cell_type": "code",
   "execution_count": 217,
   "metadata": {},
   "outputs": [],
   "source": [
    "concat = pd.concat([prio, groen_andere], axis=0, ignore_index=True)"
   ]
  },
  {
   "cell_type": "code",
   "execution_count": 218,
   "metadata": {},
   "outputs": [],
   "source": [
    "concat = concat.drop(columns=['Unnamed: 31', 'Unnamed: 32', 'Unnamed: 33', 'Unnamed: 34', 'Unnamed: 35', 'Unnamed: 36', 'Unnamed: 37', 'Unnamed: 38', 'Unnamed: 39', 'Unnamed: 40', 'Unnamed: 41', 'Unnamed: 42'])"
   ]
  },
  {
   "cell_type": "code",
   "execution_count": 219,
   "metadata": {},
   "outputs": [],
   "source": [
    "new = pd.concat([concat, andere], axis=0, ignore_index=True)"
   ]
  },
  {
   "cell_type": "code",
   "execution_count": 220,
   "metadata": {},
   "outputs": [
    {
     "output_type": "stream",
     "name": "stdout",
     "text": "<class 'pandas.core.frame.DataFrame'>\nRangeIndex: 2902 entries, 0 to 2901\nData columns (total 31 columns):\n #   Column                   Non-Null Count  Dtype  \n---  ------                   --------------  -----  \n 0   gemeente                 2902 non-null   object \n 1   gewest                   2902 non-null   object \n 2   provincie                2902 non-null   object \n 3   latitude                 492 non-null    object \n 4   longitude                491 non-null    object \n 5   probleem                 131 non-null    object \n 6   oorzaak                  131 non-null    object \n 7   werken_gepland           138 non-null    object \n 8   start_werken             138 non-null    object \n 9   bezocht                  78 non-null     object \n 10  opmerkingen              29 non-null     object \n 11  beelden                  20 non-null     object \n 12  beheerder                2902 non-null   object \n 13  hoogproblematisch        2902 non-null   object \n 14  lijst_sinds              42 non-null     float64\n 15  vnr                      2803 non-null   float64\n 16  idnr                     2803 non-null   object \n 17  oud-brugnr               1526 non-null   object \n 18  (deelgemeente)           1225 non-null   object \n 19  brugnaam                 2902 non-null   object \n 20  weg\nboven                2795 non-null   object \n 21  weg\nonder                2792 non-null   object \n 22  beheer                   2803 non-null   object \n 23  toestandcode             2764 non-null   object \n 24  huidige toestand         2764 non-null   object \n 25  LPK                      45 non-null     object \n 26  voorlaatste\nA-inspectie  2673 non-null   object \n 27  recentste\nA-inspectie    2763 non-null   object \n 28  prev_year                2673 non-null   float64\n 29  last_year                2763 non-null   float64\n 30  diff                     2803 non-null   float64\ndtypes: float64(5), object(26)\nmemory usage: 703.0+ KB\n"
    }
   ],
   "source": [
    "new.info()"
   ]
  },
  {
   "cell_type": "code",
   "execution_count": 221,
   "metadata": {},
   "outputs": [],
   "source": [
    "new.idnr = new.idnr.astype(str).str.rstrip('.0')"
   ]
  },
  {
   "cell_type": "code",
   "execution_count": 232,
   "metadata": {},
   "outputs": [],
   "source": [
    "new = new.rename(columns={'weg\\nonder': 'weg_onder', 'weg\\nboven': 'weg_boven', 'voorlaatste\\nA-inspectie': 'voorlaatste_a_inspectie', 'recentste\\nA-inspectie': 'recentste_a_inspectie', 'diff': 'difference'})"
   ]
  },
  {
   "cell_type": "code",
   "execution_count": 223,
   "metadata": {},
   "outputs": [],
   "source": [
    "new.lijst_sinds = new.lijst_sinds.astype(str).str.rstrip('.0')"
   ]
  },
  {
   "cell_type": "code",
   "execution_count": 224,
   "metadata": {},
   "outputs": [],
   "source": [
    "new.vnr = new.vnr.astype(str).str.strip('.0')"
   ]
  },
  {
   "cell_type": "code",
   "execution_count": 228,
   "metadata": {},
   "outputs": [],
   "source": [
    "new.prev_year = new.prev_year.astype(str).str.rstrip('.0')"
   ]
  },
  {
   "cell_type": "code",
   "execution_count": 230,
   "metadata": {},
   "outputs": [],
   "source": [
    "new.last_year = new.last_year.astype(str).str.rstrip('.0')"
   ]
  },
  {
   "cell_type": "code",
   "execution_count": 233,
   "metadata": {},
   "outputs": [],
   "source": [
    "new.difference  = new.difference.astype(str).str.rstrip('.0')"
   ]
  },
  {
   "cell_type": "code",
   "execution_count": 246,
   "metadata": {},
   "outputs": [],
   "source": [
    "new = new[['idnr', 'gemeente', '(deelgemeente)', 'provincie', 'gewest', 'brugnaam', 'probleem', 'oorzaak', 'werken_gepland', 'start_werken', 'bezocht', 'opmerkingen', 'beelden', 'beheerder', 'beheer', 'toestandcode', 'LPK', 'prev_year', 'last_year', 'difference', 'hoogproblematisch', 'lijst_sinds']]"
   ]
  },
  {
   "cell_type": "code",
   "execution_count": 247,
   "metadata": {},
   "outputs": [
    {
     "output_type": "execute_result",
     "data": {
      "text/plain": "130"
     },
     "metadata": {},
     "execution_count": 247
    }
   ],
   "source": [
    "len(new[(new.duplicated('idnr')) & (new.idnr != 'nan') & (new.toestandcode != 'Toestand 1')].index)"
   ]
  },
  {
   "cell_type": "code",
   "execution_count": 251,
   "metadata": {},
   "outputs": [],
   "source": [
    "new.to_csv('new.csv', index=False, sep=';')"
   ]
  },
  {
   "cell_type": "code",
   "execution_count": 3,
   "metadata": {},
   "outputs": [],
   "source": [
    "final = pd.read_csv('new_dups.csv', sep=';', converters={'idnr': '{:0>8}'.format})"
   ]
  },
  {
   "cell_type": "code",
   "execution_count": 4,
   "metadata": {},
   "outputs": [],
   "source": [
    "final = final.replace('00000nan', 'nan')"
   ]
  },
  {
   "cell_type": "code",
   "execution_count": 5,
   "metadata": {},
   "outputs": [
    {
     "output_type": "execute_result",
     "data": {
      "text/plain": "130"
     },
     "metadata": {},
     "execution_count": 5
    }
   ],
   "source": [
    "len(final[(final.duplicated('idnr')) & (final.idnr != 'nan') & (final.toestandcode != 'Toestand 1')].index)"
   ]
  },
  {
   "cell_type": "code",
   "execution_count": 6,
   "metadata": {},
   "outputs": [],
   "source": [
    "final.lijst_sinds = final.lijst_sinds.astype(str).str.rstrip('.0')\n",
    "final.prev_year = final.prev_year.astype(str).str.rstrip('.0')\n",
    "final.last_year = final.last_year.astype(str).str.rstrip('.0')\n",
    "final.difference  = final.difference.astype(str).str.rstrip('.0')"
   ]
  },
  {
   "cell_type": "code",
   "execution_count": 7,
   "metadata": {},
   "outputs": [],
   "source": [
    "final['(deelgemeente)'] = final['(deelgemeente)'].str.title()"
   ]
  },
  {
   "cell_type": "code",
   "execution_count": 8,
   "metadata": {},
   "outputs": [],
   "source": [
    "df = final.loc[(final.idnr == 'nan') | (~final.idnr.duplicated())]"
   ]
  },
  {
   "cell_type": "code",
   "execution_count": 302,
   "metadata": {},
   "outputs": [
    {
     "output_type": "stream",
     "name": "stdout",
     "text": "<class 'pandas.core.frame.DataFrame'>\nInt64Index: 2749 entries, 0 to 2901\nData columns (total 22 columns):\n #   Column             Non-Null Count  Dtype \n---  ------             --------------  ----- \n 0   idnr               2749 non-null   object\n 1   gemeente           2749 non-null   object\n 2   (deelgemeente)     1162 non-null   object\n 3   provincie          2749 non-null   object\n 4   gewest             2749 non-null   object\n 5   brugnaam           2749 non-null   object\n 6   probleem           131 non-null    object\n 7   oorzaak            131 non-null    object\n 8   werken_gepland     138 non-null    object\n 9   start_werken       138 non-null    object\n 10  bezocht            78 non-null     object\n 11  opmerkingen        29 non-null     object\n 12  beelden            20 non-null     object\n 13  beheerder          2749 non-null   object\n 14  beheer             2650 non-null   object\n 15  toestandcode       2611 non-null   object\n 16  LPK                43 non-null     object\n 17  prev_year          2749 non-null   object\n 18  last_year          2749 non-null   object\n 19  difference         2749 non-null   object\n 20  hoogproblematisch  2749 non-null   object\n 21  lijst_sinds        2749 non-null   object\ndtypes: object(22)\nmemory usage: 574.0+ KB\n"
    }
   ],
   "source": [
    "df.info()"
   ]
  },
  {
   "cell_type": "code",
   "execution_count": 9,
   "metadata": {},
   "outputs": [],
   "source": [
    "df = df[df.idnr != '00100401']"
   ]
  },
  {
   "cell_type": "code",
   "execution_count": 345,
   "metadata": {},
   "outputs": [
    {
     "output_type": "execute_result",
     "data": {
      "text/plain": "array(['AWV', 'AWV/VWW', 'Vlaamse Waterweg', 'DMOW', 'MDK', 'AWV/DMOW',\n       'Gemeente', 'Brussels Gewest', 'Infrabel'], dtype=object)"
     },
     "metadata": {},
     "execution_count": 345
    }
   ],
   "source": [
    "df.beheerder.unique()"
   ]
  },
  {
   "cell_type": "code",
   "execution_count": 352,
   "metadata": {},
   "outputs": [
    {
     "output_type": "execute_result",
     "data": {
      "text/plain": "2649"
     },
     "metadata": {},
     "execution_count": 352
    }
   ],
   "source": [
    "len(df[(df.gewest == 'Vlaanderen') & (df.beheerder != 'Gemeente') & (df.beheerder != 'Brussels Gewest') & (df.beheerder != 'Infrabel')].index)"
   ]
  },
  {
   "cell_type": "code",
   "execution_count": 353,
   "metadata": {},
   "outputs": [
    {
     "output_type": "execute_result",
     "data": {
      "text/plain": "593"
     },
     "metadata": {},
     "execution_count": 353
    }
   ],
   "source": [
    "len(df[(df.hoogproblematisch == 'ja') & (df.gewest == 'Vlaanderen') & (df.beheerder != 'Gemeente') & (df.beheerder != 'Brussels Gewest') & (df.beheerder != 'Infrabel')])"
   ]
  },
  {
   "cell_type": "code",
   "execution_count": 444,
   "metadata": {},
   "outputs": [],
   "source": [
    "df.to_csv('bruggen_volledig.csv', sep=';', index=False)"
   ]
  },
  {
   "cell_type": "markdown",
   "metadata": {},
   "source": [
    "# Analyse"
   ]
  },
  {
   "cell_type": "markdown",
   "metadata": {},
   "source": [
    "## Hoeveel hoogproblematische bruggen zijn er in totaal en wat is de verhouding tov de totale hoeveelheid bruggen?\n",
    "Deze vraag is eenvoudig te beantwoorden voor de beheerders waarvoor we precies weten hoeveel bruggen zij beheren. Die informatie hebben we voor het Vlaams Gewest, Infrabel en het Brussels Gewest. Van de gemeentes weten we niet hoeveel bruggen zij precies beheren. We kunnen dus ook niet zeggen hoeveel bruggen in totaal per provincie hoogproblematisch zijn, of hoeveel bruggen totaal in provincie gerenoveerd moeten worden. Dat is een belangrijk onderscheid. Deze totalen staan in de spreadsheet onder het tabblad 'aantallen'. "
   ]
  },
  {
   "cell_type": "markdown",
   "metadata": {},
   "source": [
    "## Hoeveel hoogproblematische bruggen zijn er tov bruggen die zeker gerenoveerd moeten worden?\n",
    "Hierboven heb ik eerst alle datasets opgeschoond en terug op elkaar geplakt en daarna nog alle duplicaten eruit gehaald (bruggen waar zowel een boven- als onderbeheerder aanwezig is, waardoor de brug er twee keer in staat, maar het gaat effectief om dezelfde brug.) Ook heb ik alle bruggen met Toestand 1, onbekende toestand of geen beoordeling eruit gehaald: we kijken nu alleen naar de bruggen waarvan we weten dat ze gerenoveerd moeten worden. Dit omdat we anders alleen van het Vlaams Gewest daadwerkelijk alle bruggen in onze lijst hebben."
   ]
  },
  {
   "cell_type": "code",
   "execution_count": 559,
   "metadata": {},
   "outputs": [],
   "source": [
    "frame = df[(df.toestandcode != 'Toestand 1') & (df.toestandcode != 'Toestand t') & (df.toestandcode != 'Geen beoor')]"
   ]
  },
  {
   "cell_type": "code",
   "execution_count": 560,
   "metadata": {},
   "outputs": [
    {
     "output_type": "stream",
     "name": "stdout",
     "text": "<class 'pandas.core.frame.DataFrame'>\nInt64Index: 1767 entries, 0 to 2901\nData columns (total 22 columns):\n #   Column             Non-Null Count  Dtype \n---  ------             --------------  ----- \n 0   idnr               1767 non-null   object\n 1   gemeente           1767 non-null   object\n 2   (deelgemeente)     771 non-null    object\n 3   provincie          1767 non-null   object\n 4   gewest             1767 non-null   object\n 5   brugnaam           1767 non-null   object\n 6   probleem           131 non-null    object\n 7   oorzaak            131 non-null    object\n 8   werken_gepland     138 non-null    object\n 9   start_werken       138 non-null    object\n 10  bezocht            78 non-null     object\n 11  opmerkingen        29 non-null     object\n 12  beelden            20 non-null     object\n 13  beheerder          1767 non-null   object\n 14  beheer             1668 non-null   object\n 15  toestandcode       1629 non-null   object\n 16  LPK                42 non-null     object\n 17  prev_year          1767 non-null   object\n 18  last_year          1767 non-null   object\n 19  difference         1767 non-null   object\n 20  hoogproblematisch  1767 non-null   object\n 21  lijst_sinds        1767 non-null   object\ndtypes: object(22)\nmemory usage: 317.5+ KB\n"
    }
   ],
   "source": [
    "frame.info()"
   ]
  },
  {
   "cell_type": "code",
   "execution_count": 561,
   "metadata": {},
   "outputs": [
    {
     "output_type": "execute_result",
     "data": {
      "text/plain": "607"
     },
     "metadata": {},
     "execution_count": 561
    }
   ],
   "source": [
    "len(frame[frame.hoogproblematisch == 'ja'].index)"
   ]
  },
  {
   "cell_type": "code",
   "execution_count": 562,
   "metadata": {},
   "outputs": [
    {
     "output_type": "execute_result",
     "data": {
      "text/plain": "1767"
     },
     "metadata": {},
     "execution_count": 562
    }
   ],
   "source": [
    "len(frame.index)"
   ]
  },
  {
   "cell_type": "code",
   "execution_count": 563,
   "metadata": {},
   "outputs": [
    {
     "output_type": "execute_result",
     "data": {
      "text/plain": "34.352009054895305"
     },
     "metadata": {},
     "execution_count": 563
    }
   ],
   "source": [
    "len(frame[frame.hoogproblematisch == 'ja'].index) / len(frame.index) * 100"
   ]
  },
  {
   "cell_type": "markdown",
   "metadata": {},
   "source": [
    "Zo'n 34 procent van alle bruggen die gerenoveerd moeten worden zijn hoogproblematisch. Laten we dat nog iets meer uitsplitsen naar gewest, en ook naar provincie en beheerder. Daarna kunnen we ook kijken of er gemeenten zijn met een bijzonder hoog aantal hoogproblematische bruggen tov de totale bruggen in onze dataset."
   ]
  },
  {
   "cell_type": "markdown",
   "metadata": {},
   "source": [
    "### Brussels Gewest (gesitueerd in, niet in bezit van)"
   ]
  },
  {
   "cell_type": "code",
   "execution_count": 2,
   "metadata": {},
   "outputs": [
    {
     "output_type": "error",
     "ename": "NameError",
     "evalue": "name 'frame' is not defined",
     "traceback": [
      "\u001b[0;31m---------------------------------------------------------------------------\u001b[0m",
      "\u001b[0;31mNameError\u001b[0m                                 Traceback (most recent call last)",
      "\u001b[0;32m<ipython-input-2-8a60f8ae996c>\u001b[0m in \u001b[0;36m<module>\u001b[0;34m\u001b[0m\n\u001b[0;32m----> 1\u001b[0;31m \u001b[0mlen\u001b[0m\u001b[0;34m(\u001b[0m\u001b[0mframe\u001b[0m\u001b[0;34m[\u001b[0m\u001b[0;34m(\u001b[0m\u001b[0mframe\u001b[0m\u001b[0;34m.\u001b[0m\u001b[0mhoogproblematisch\u001b[0m \u001b[0;34m==\u001b[0m \u001b[0;34m'ja'\u001b[0m\u001b[0;34m)\u001b[0m \u001b[0;34m&\u001b[0m \u001b[0;34m(\u001b[0m\u001b[0mframe\u001b[0m\u001b[0;34m.\u001b[0m\u001b[0mgewest\u001b[0m \u001b[0;34m==\u001b[0m \u001b[0;34m'Brussels Gewest'\u001b[0m\u001b[0;34m)\u001b[0m\u001b[0;34m]\u001b[0m\u001b[0;34m)\u001b[0m\u001b[0;34m\u001b[0m\u001b[0;34m\u001b[0m\u001b[0m\n\u001b[0m",
      "\u001b[0;31mNameError\u001b[0m: name 'frame' is not defined"
     ]
    }
   ],
   "source": [
    "len(frame[(frame.hoogproblematisch == 'ja') & (frame.gewest == 'Brussels Gewest')])"
   ]
  },
  {
   "cell_type": "code",
   "execution_count": 565,
   "metadata": {},
   "outputs": [
    {
     "output_type": "execute_result",
     "data": {
      "text/plain": "55"
     },
     "metadata": {},
     "execution_count": 565
    }
   ],
   "source": [
    "len(frame[frame.gewest == 'Brussels Gewest'])"
   ]
  },
  {
   "cell_type": "code",
   "execution_count": 566,
   "metadata": {},
   "outputs": [
    {
     "output_type": "execute_result",
     "data": {
      "text/plain": "20.0"
     },
     "metadata": {},
     "execution_count": 566
    }
   ],
   "source": [
    "len(frame[(frame.hoogproblematisch == 'ja') & (frame.gewest == 'Brussels Gewest')]) / len(frame[frame.gewest == 'Brussels Gewest']) * 100"
   ]
  },
  {
   "cell_type": "markdown",
   "metadata": {},
   "source": [
    "### Vlaams Gewest (gesitueerd in, niet in beheer van)"
   ]
  },
  {
   "cell_type": "code",
   "execution_count": 567,
   "metadata": {},
   "outputs": [
    {
     "output_type": "execute_result",
     "data": {
      "text/plain": "596"
     },
     "metadata": {},
     "execution_count": 567
    }
   ],
   "source": [
    "len(frame[(frame.hoogproblematisch == 'ja') & (frame.gewest == 'Vlaanderen')])"
   ]
  },
  {
   "cell_type": "code",
   "execution_count": 568,
   "metadata": {},
   "outputs": [
    {
     "output_type": "execute_result",
     "data": {
      "text/plain": "1712"
     },
     "metadata": {},
     "execution_count": 568
    }
   ],
   "source": [
    "len(frame[frame.gewest == 'Vlaanderen'])"
   ]
  },
  {
   "cell_type": "code",
   "execution_count": 569,
   "metadata": {},
   "outputs": [
    {
     "output_type": "execute_result",
     "data": {
      "text/plain": "34.81308411214953"
     },
     "metadata": {},
     "execution_count": 569
    }
   ],
   "source": [
    "len(frame[(frame.hoogproblematisch == 'ja') & (frame.gewest == 'Vlaanderen')]) / len(frame[frame.gewest == 'Vlaanderen']) * 100"
   ]
  },
  {
   "cell_type": "markdown",
   "metadata": {},
   "source": [
    "### Bonus: hoeveel bruggen in bezit van het gewest moeten eigenlijk in totaal gerenoveerd worden?\n",
    "We weten dat Brussel 88 bruggen in beheer heeft. Het Vlaams gewest heeft er 2649. In Brussel hebben we alle bruggen die gerenoveerd moeten worden in de lijst staan, van het Vlaams Gewest alle bruggen, maar kijken we alleen naar toestand 2/3/4."
   ]
  },
  {
   "cell_type": "code",
   "execution_count": 570,
   "metadata": {},
   "outputs": [
    {
     "output_type": "execute_result",
     "data": {
      "text/plain": "59.09090909090909"
     },
     "metadata": {},
     "execution_count": 570
    }
   ],
   "source": [
    "len(frame[frame.beheerder == 'Brussels Gewest']) / 88 * 100"
   ]
  },
  {
   "cell_type": "code",
   "execution_count": 571,
   "metadata": {},
   "outputs": [
    {
     "output_type": "execute_result",
     "data": {
      "text/plain": "42.46885617214043"
     },
     "metadata": {},
     "execution_count": 571
    }
   ],
   "source": [
    "len(frame[((frame.beheerder == 'AWV') | (frame.beheerder == 'AWV/VWW') & (frame.beheerder == 'Vlaamse Waterweg') | (frame.beheerder == 'DMOW') | (frame.beheerder == 'MDK') | (frame.beheerder == 'AMW/DMOW')) & ((frame.toestandcode == 'Toestand 2') | (frame.toestandcode == 'Toestand 3') | (frame.toestandcode == 'Toestand 4'))]) / 2649 * 100"
   ]
  },
  {
   "cell_type": "markdown",
   "metadata": {},
   "source": [
    "In het Brussels gewest moeten dus procentueel gezien meer bruggen gerenoveerd worden dan het procentueel aantal bruggen dat het Vlaams Gewest beheert, maar de bruggen in het Brussels gewest zijn er wel iets beter aan toe."
   ]
  },
  {
   "cell_type": "markdown",
   "metadata": {},
   "source": [
    "### Provincies"
   ]
  },
  {
   "cell_type": "code",
   "execution_count": 572,
   "metadata": {},
   "outputs": [
    {
     "output_type": "execute_result",
     "data": {
      "text/plain": "array(['Antwerpen', 'Vlaams Brabant', 'Oost-Vlaanderen',\n       'West-Vlaanderen', 'Limburg', 'Brussel'], dtype=object)"
     },
     "metadata": {},
     "execution_count": 572
    }
   ],
   "source": [
    "frame.provincie.unique()"
   ]
  },
  {
   "cell_type": "code",
   "execution_count": 573,
   "metadata": {},
   "outputs": [
    {
     "output_type": "execute_result",
     "data": {
      "text/plain": "31.48148148148148"
     },
     "metadata": {},
     "execution_count": 573
    }
   ],
   "source": [
    "len(frame[(frame.hoogproblematisch == 'ja') & (frame.provincie == 'Antwerpen')]) / len(frame[frame.provincie == 'Antwerpen']) * 100"
   ]
  },
  {
   "cell_type": "code",
   "execution_count": 574,
   "metadata": {},
   "outputs": [
    {
     "output_type": "execute_result",
     "data": {
      "text/plain": "26.545454545454543"
     },
     "metadata": {},
     "execution_count": 574
    }
   ],
   "source": [
    "len(frame[(frame.hoogproblematisch == 'ja') & (frame.provincie == 'Vlaams Brabant')]) / len(frame[frame.provincie == 'Vlaams Brabant']) * 100"
   ]
  },
  {
   "cell_type": "code",
   "execution_count": 575,
   "metadata": {},
   "outputs": [
    {
     "output_type": "execute_result",
     "data": {
      "text/plain": "46.913580246913575"
     },
     "metadata": {},
     "execution_count": 575
    }
   ],
   "source": [
    "len(frame[(frame.hoogproblematisch == 'ja') & (frame.provincie == 'Oost-Vlaanderen')]) / len(frame[frame.provincie == 'Oost-Vlaanderen']) * 100"
   ]
  },
  {
   "cell_type": "code",
   "execution_count": 576,
   "metadata": {},
   "outputs": [
    {
     "output_type": "execute_result",
     "data": {
      "text/plain": "33.85300668151447"
     },
     "metadata": {},
     "execution_count": 576
    }
   ],
   "source": [
    "len(frame[(frame.hoogproblematisch == 'ja') & (frame.provincie == 'West-Vlaanderen')]) / len(frame[frame.provincie == 'West-Vlaanderen']) * 100"
   ]
  },
  {
   "cell_type": "code",
   "execution_count": 577,
   "metadata": {},
   "outputs": [
    {
     "output_type": "execute_result",
     "data": {
      "text/plain": "30.24390243902439"
     },
     "metadata": {},
     "execution_count": 577
    }
   ],
   "source": [
    "len(frame[(frame.hoogproblematisch == 'ja') & (frame.provincie == 'Limburg')]) / len(frame[frame.provincie == 'Limburg']) * 100"
   ]
  },
  {
   "cell_type": "code",
   "execution_count": 578,
   "metadata": {},
   "outputs": [
    {
     "output_type": "execute_result",
     "data": {
      "text/plain": "20.0"
     },
     "metadata": {},
     "execution_count": 578
    }
   ],
   "source": [
    "len(frame[(frame.hoogproblematisch == 'ja') & (frame.provincie == 'Brussel')]) / len(frame[frame.provincie == 'Brussel']) * 100"
   ]
  },
  {
   "cell_type": "markdown",
   "metadata": {},
   "source": [
    "Wat valt op? Oost-Vlaanderen is er procentueel gezien behoorlijk slecht aan toe. Waar de andere provincies rond de 20-34 procent van de te renoveren bruggen in problematische staat zijn, is dat in Oost-Vlaanderen bijna de helft van alle te renoveren bruggen. Dat is opvallend, zeker als we kijken naar welke provincie de meeste te renoveren bruggen heeft:"
   ]
  },
  {
   "cell_type": "code",
   "execution_count": 579,
   "metadata": {},
   "outputs": [
    {
     "output_type": "execute_result",
     "data": {
      "text/plain": "provincie\nWest-Vlaanderen    449\nOost-Vlaanderen    405\nAntwerpen          378\nVlaams Brabant     275\nLimburg            205\nBrussel             55\nName: idnr, dtype: int64"
     },
     "metadata": {},
     "execution_count": 579
    }
   ],
   "source": [
    "frame.groupby('provincie').idnr.count().sort_values(ascending=False)"
   ]
  },
  {
   "cell_type": "markdown",
   "metadata": {},
   "source": [
    "West-Vlaanderen heeft als provincie de meeste te renoveren bruggen in ons databestand, dan Oost-Vlaanderen, dan Antwerpen. Brussel heeft weinig bruggen, minder dan 100."
   ]
  },
  {
   "cell_type": "code",
   "execution_count": 580,
   "metadata": {},
   "outputs": [
    {
     "output_type": "execute_result",
     "data": {
      "text/plain": "Oost-Vlaanderen    190\nWest-Vlaanderen    152\nAntwerpen          119\nVlaams Brabant      73\nLimburg             62\nBrussel             11\nName: provincie, dtype: int64"
     },
     "metadata": {},
     "execution_count": 580
    }
   ],
   "source": [
    "frame[frame.hoogproblematisch == 'ja'].provincie.value_counts()"
   ]
  },
  {
   "cell_type": "markdown",
   "metadata": {},
   "source": [
    "Ook in absolute zin heeft Oost-Vlaanderen dus de meeste hoogproblematische bruggen. "
   ]
  },
  {
   "cell_type": "markdown",
   "metadata": {},
   "source": [
    "#### Beheerder"
   ]
  },
  {
   "cell_type": "code",
   "execution_count": 382,
   "metadata": {},
   "outputs": [
    {
     "output_type": "execute_result",
     "data": {
      "text/plain": "array(['AWV', 'AWV/VWW', 'Vlaamse Waterweg', 'DMOW', 'MDK', 'AWV/DMOW',\n       'Gemeente', 'Brussels Gewest', 'Infrabel'], dtype=object)"
     },
     "metadata": {},
     "execution_count": 382
    }
   ],
   "source": [
    "frame.beheerder.unique()"
   ]
  },
  {
   "cell_type": "code",
   "execution_count": 581,
   "metadata": {},
   "outputs": [
    {
     "output_type": "execute_result",
     "data": {
      "text/plain": "35.41666666666667"
     },
     "metadata": {},
     "execution_count": 581
    }
   ],
   "source": [
    "len(frame[(frame.hoogproblematisch == 'ja') & ((frame.beheerder == 'AWV') | (frame.beheerder == 'AWV/VWW') & (frame.beheerder == 'Vlaamse Waterweg') | (frame.beheerder == 'DMOW') | (frame.beheerder == 'MDK') | (frame.beheerder == 'AMW/DMOW'))]) / len(frame[(frame.beheerder == 'AWV') | (frame.beheerder == 'AWV/VWW') & (frame.beheerder == 'Vlaamse Waterweg') | (frame.beheerder == 'DMOW') | (frame.beheerder == 'MDK') | (frame.beheerder == 'AMW/DMOW')]) * 100"
   ]
  },
  {
   "cell_type": "code",
   "execution_count": 582,
   "metadata": {},
   "outputs": [
    {
     "output_type": "execute_result",
     "data": {
      "text/plain": "8.108108108108109"
     },
     "metadata": {},
     "execution_count": 582
    }
   ],
   "source": [
    "len(frame[(frame.hoogproblematisch == 'ja') & (frame.beheerder == 'Gemeente')]) / len(frame[frame.beheerder == 'Gemeente']) * 100"
   ]
  },
  {
   "cell_type": "code",
   "execution_count": 583,
   "metadata": {},
   "outputs": [
    {
     "output_type": "execute_result",
     "data": {
      "text/plain": "21.153846153846153"
     },
     "metadata": {},
     "execution_count": 583
    }
   ],
   "source": [
    "len(frame[(frame.hoogproblematisch == 'ja') & (frame.beheerder == 'Brussels Gewest')]) / len(frame[frame.beheerder == 'Brussels Gewest']) * 100"
   ]
  },
  {
   "cell_type": "code",
   "execution_count": 389,
   "metadata": {},
   "outputs": [
    {
     "output_type": "execute_result",
     "data": {
      "text/plain": "0.0"
     },
     "metadata": {},
     "execution_count": 389
    }
   ],
   "source": [
    "len(frame[(frame.hoogproblematisch == 'ja') & (frame.beheerder == 'Infrabel')]) / len(frame[frame.beheerder == 'Infrabel']) * 100"
   ]
  },
  {
   "cell_type": "markdown",
   "metadata": {},
   "source": [
    "Noot: van Infrabel weten we er 19 hoogproblematische bruggen zijn, maar we weten nog niet hoeveel te renoveren bruggen Infrabel heeft. Die informatie is niet compleet in ons databestand. Daarom moet die 0 procent genegeerd worden. De gemeentelijke gegevens zijn niet helemaal compleet: een tiental gemeenten heeft nog niet op ons verzoek om informatie gereageerd. Het percentage zou dus nog wat hoger kunnen worden. Gemeenten hebben geen algemene standaarden voor of een brug hoogproblematisch is of niet, dus we zijn afgegaan op kenmerken die de gemeenten ons gaven over de problematische staat van de brug. Ook nu komt het Vlaams Gewest duidelijk als meest problematisch uit de bus."
   ]
  },
  {
   "cell_type": "markdown",
   "metadata": {},
   "source": [
    "### Bonus: waar staan al die bruggen die deze beheerders moeten renoveren?"
   ]
  },
  {
   "cell_type": "code",
   "execution_count": 584,
   "metadata": {},
   "outputs": [
    {
     "output_type": "execute_result",
     "data": {
      "text/plain": "West-Vlaanderen    291\nAntwerpen          266\nVlaams Brabant     236\nOost-Vlaanderen    227\nLimburg            132\nName: provincie, dtype: int64"
     },
     "metadata": {},
     "execution_count": 584
    }
   ],
   "source": [
    "frame[((frame.beheerder == 'AWV') | (frame.beheerder == 'AWV/VWW') & (frame.beheerder == 'Vlaamse Waterweg') | (frame.beheerder == 'DMOW') | (frame.beheerder == 'MDK') | (frame.beheerder == 'AMW/DMOW'))].provincie.value_counts()"
   ]
  },
  {
   "cell_type": "code",
   "execution_count": 585,
   "metadata": {},
   "outputs": [
    {
     "output_type": "execute_result",
     "data": {
      "text/plain": "Oost-Vlaanderen    13\nWest-Vlaanderen     9\nVlaams Brabant      8\nLimburg             3\nAntwerpen           3\nBrussel             1\nName: provincie, dtype: int64"
     },
     "metadata": {},
     "execution_count": 585
    }
   ],
   "source": [
    "frame[(frame.beheerder == 'Gemeente')].provincie.value_counts()"
   ]
  },
  {
   "cell_type": "code",
   "execution_count": 586,
   "metadata": {},
   "outputs": [
    {
     "output_type": "execute_result",
     "data": {
      "text/plain": "Antwerpen    8\nBrussel      2\nName: provincie, dtype: int64"
     },
     "metadata": {},
     "execution_count": 586
    }
   ],
   "source": [
    "frame[(frame.beheerder == 'Infrabel')].provincie.value_counts()"
   ]
  },
  {
   "cell_type": "markdown",
   "metadata": {},
   "source": [
    "Let op: het gaat hier om alle te renoveren bruggen, niet alleen hoogproblematische bruggen. Het Vlaams Gewest renoveert vooral bruggen in West-Vlaanderen en Antwerpen, de gemeentes vooral in Oost-Vlaanderen, Infrabel vooral in Antwerpen (die data is nog niet volledig)"
   ]
  },
  {
   "cell_type": "markdown",
   "metadata": {},
   "source": [
    "### Gemeenten"
   ]
  },
  {
   "cell_type": "code",
   "execution_count": 587,
   "metadata": {},
   "outputs": [
    {
     "output_type": "stream",
     "name": "stdout",
     "text": "<class 'pandas.core.frame.DataFrame'>\nInt64Index: 1767 entries, 0 to 2901\nData columns (total 22 columns):\n #   Column             Non-Null Count  Dtype \n---  ------             --------------  ----- \n 0   idnr               1767 non-null   object\n 1   gemeente           1767 non-null   object\n 2   (deelgemeente)     771 non-null    object\n 3   provincie          1767 non-null   object\n 4   gewest             1767 non-null   object\n 5   brugnaam           1767 non-null   object\n 6   probleem           131 non-null    object\n 7   oorzaak            131 non-null    object\n 8   werken_gepland     138 non-null    object\n 9   start_werken       138 non-null    object\n 10  bezocht            78 non-null     object\n 11  opmerkingen        29 non-null     object\n 12  beelden            20 non-null     object\n 13  beheerder          1767 non-null   object\n 14  beheer             1668 non-null   object\n 15  toestandcode       1629 non-null   object\n 16  LPK                42 non-null     object\n 17  prev_year          1767 non-null   object\n 18  last_year          1767 non-null   object\n 19  difference         1767 non-null   object\n 20  hoogproblematisch  1767 non-null   object\n 21  lijst_sinds        1767 non-null   object\ndtypes: object(22)\nmemory usage: 317.5+ KB\n"
    }
   ],
   "source": [
    "frame.info()"
   ]
  },
  {
   "cell_type": "code",
   "execution_count": 588,
   "metadata": {},
   "outputs": [],
   "source": [
    "frame['totaal_gemeente'] = frame.groupby('gemeente')['brugnaam'].transform('count')"
   ]
  },
  {
   "cell_type": "code",
   "execution_count": 589,
   "metadata": {},
   "outputs": [
    {
     "output_type": "execute_result",
     "data": {
      "text/plain": "       idnr   gemeente (deelgemeente)       provincie      gewest  \\\n0  00130101  Wommelgem      Wommelgem       Antwerpen  Vlaanderen   \n1  00130041     Deurne         Deurne       Antwerpen  Vlaanderen   \n2  00130031     Deurne         Deurne       Antwerpen  Vlaanderen   \n3  22600241   Arendonk       Arendonk       Antwerpen  Vlaanderen   \n4  10000541   Zaventem       Zaventem  Vlaams Brabant  Vlaanderen   \n\n                     brugnaam  \\\n0  Brug B5 - Wijnegemsteenweg   \n1      Brug 2 - Sterckshoflei   \n2    Brug 1 - Cornelissenlaan   \n3           Brug 5 - Arendonk   \n4  Brug B16 Hector Hennaulaan   \n\n                                            probleem      oorzaak  \\\n0  Vallende brokstukken. Afgesloten voor alle gem...     brokkelt   \n1               Jaarlijkse opvolging en waterpassing    technisch   \n2  3-maandelijke inspectie, 6-maandelijkse waterp...    technisch   \n3                         Renovatieplannen in opmaak     onbekend   \n4             Moet vernieuwd worden bij verbreden R0  groter plan   \n\n  werken_gepland start_werken  ... beheerder     beheer toestandcode  \\\n0            Nee     onbekend  ...       AWV   volledig   Toestand 4   \n1             Ja         2021  ...       AWV   volledig   Toestand 4   \n2             Ja         2022  ...       AWV   volledig   Toestand 4   \n3             Ja         2020  ...   AWV/VWW  bovenbouw   Toestand 4   \n4             Ja         2022  ...       AWV   volledig   Toestand 4   \n\n                             LPK prev_year last_year difference  \\\n0  1e prioriteit - te vernieuwen      2019      2020          1   \n1  2e prioriteit - te vernieuwen      2014      2017          3   \n2  1e prioriteit - te vernieuwen      2016      2019          3   \n3  1e prioriteit - te herstellen      2014      2017          3   \n4  1e prioriteit - te vernieuwen      2015      2018          3   \n\n  hoogproblematisch lijst_sinds totaal_gemeente  \n0                ja        2007               5  \n1                ja        2003               2  \n2                ja        2003               2  \n3                ja        2011               2  \n4                ja        2016              15  \n\n[5 rows x 23 columns]",
      "text/html": "<div>\n<style scoped>\n    .dataframe tbody tr th:only-of-type {\n        vertical-align: middle;\n    }\n\n    .dataframe tbody tr th {\n        vertical-align: top;\n    }\n\n    .dataframe thead th {\n        text-align: right;\n    }\n</style>\n<table border=\"1\" class=\"dataframe\">\n  <thead>\n    <tr style=\"text-align: right;\">\n      <th></th>\n      <th>idnr</th>\n      <th>gemeente</th>\n      <th>(deelgemeente)</th>\n      <th>provincie</th>\n      <th>gewest</th>\n      <th>brugnaam</th>\n      <th>probleem</th>\n      <th>oorzaak</th>\n      <th>werken_gepland</th>\n      <th>start_werken</th>\n      <th>...</th>\n      <th>beheerder</th>\n      <th>beheer</th>\n      <th>toestandcode</th>\n      <th>LPK</th>\n      <th>prev_year</th>\n      <th>last_year</th>\n      <th>difference</th>\n      <th>hoogproblematisch</th>\n      <th>lijst_sinds</th>\n      <th>totaal_gemeente</th>\n    </tr>\n  </thead>\n  <tbody>\n    <tr>\n      <th>0</th>\n      <td>00130101</td>\n      <td>Wommelgem</td>\n      <td>Wommelgem</td>\n      <td>Antwerpen</td>\n      <td>Vlaanderen</td>\n      <td>Brug B5 - Wijnegemsteenweg</td>\n      <td>Vallende brokstukken. Afgesloten voor alle gem...</td>\n      <td>brokkelt</td>\n      <td>Nee</td>\n      <td>onbekend</td>\n      <td>...</td>\n      <td>AWV</td>\n      <td>volledig</td>\n      <td>Toestand 4</td>\n      <td>1e prioriteit - te vernieuwen</td>\n      <td>2019</td>\n      <td>2020</td>\n      <td>1</td>\n      <td>ja</td>\n      <td>2007</td>\n      <td>5</td>\n    </tr>\n    <tr>\n      <th>1</th>\n      <td>00130041</td>\n      <td>Deurne</td>\n      <td>Deurne</td>\n      <td>Antwerpen</td>\n      <td>Vlaanderen</td>\n      <td>Brug 2 - Sterckshoflei</td>\n      <td>Jaarlijkse opvolging en waterpassing</td>\n      <td>technisch</td>\n      <td>Ja</td>\n      <td>2021</td>\n      <td>...</td>\n      <td>AWV</td>\n      <td>volledig</td>\n      <td>Toestand 4</td>\n      <td>2e prioriteit - te vernieuwen</td>\n      <td>2014</td>\n      <td>2017</td>\n      <td>3</td>\n      <td>ja</td>\n      <td>2003</td>\n      <td>2</td>\n    </tr>\n    <tr>\n      <th>2</th>\n      <td>00130031</td>\n      <td>Deurne</td>\n      <td>Deurne</td>\n      <td>Antwerpen</td>\n      <td>Vlaanderen</td>\n      <td>Brug 1 - Cornelissenlaan</td>\n      <td>3-maandelijke inspectie, 6-maandelijkse waterp...</td>\n      <td>technisch</td>\n      <td>Ja</td>\n      <td>2022</td>\n      <td>...</td>\n      <td>AWV</td>\n      <td>volledig</td>\n      <td>Toestand 4</td>\n      <td>1e prioriteit - te vernieuwen</td>\n      <td>2016</td>\n      <td>2019</td>\n      <td>3</td>\n      <td>ja</td>\n      <td>2003</td>\n      <td>2</td>\n    </tr>\n    <tr>\n      <th>3</th>\n      <td>22600241</td>\n      <td>Arendonk</td>\n      <td>Arendonk</td>\n      <td>Antwerpen</td>\n      <td>Vlaanderen</td>\n      <td>Brug 5 - Arendonk</td>\n      <td>Renovatieplannen in opmaak</td>\n      <td>onbekend</td>\n      <td>Ja</td>\n      <td>2020</td>\n      <td>...</td>\n      <td>AWV/VWW</td>\n      <td>bovenbouw</td>\n      <td>Toestand 4</td>\n      <td>1e prioriteit - te herstellen</td>\n      <td>2014</td>\n      <td>2017</td>\n      <td>3</td>\n      <td>ja</td>\n      <td>2011</td>\n      <td>2</td>\n    </tr>\n    <tr>\n      <th>4</th>\n      <td>10000541</td>\n      <td>Zaventem</td>\n      <td>Zaventem</td>\n      <td>Vlaams Brabant</td>\n      <td>Vlaanderen</td>\n      <td>Brug B16 Hector Hennaulaan</td>\n      <td>Moet vernieuwd worden bij verbreden R0</td>\n      <td>groter plan</td>\n      <td>Ja</td>\n      <td>2022</td>\n      <td>...</td>\n      <td>AWV</td>\n      <td>volledig</td>\n      <td>Toestand 4</td>\n      <td>1e prioriteit - te vernieuwen</td>\n      <td>2015</td>\n      <td>2018</td>\n      <td>3</td>\n      <td>ja</td>\n      <td>2016</td>\n      <td>15</td>\n    </tr>\n  </tbody>\n</table>\n<p>5 rows × 23 columns</p>\n</div>"
     },
     "metadata": {},
     "execution_count": 589
    }
   ],
   "source": [
    "frame.head()"
   ]
  },
  {
   "cell_type": "code",
   "execution_count": 590,
   "metadata": {},
   "outputs": [],
   "source": [
    "probleem = frame.groupby(['gemeente', 'hoogproblematisch']).size().reset_index()"
   ]
  },
  {
   "cell_type": "code",
   "execution_count": 591,
   "metadata": {},
   "outputs": [],
   "source": [
    "probleem = probleem.rename(columns={0: 'totaal_probleem'})"
   ]
  },
  {
   "cell_type": "code",
   "execution_count": 592,
   "metadata": {},
   "outputs": [],
   "source": [
    "probleem = probleem[probleem.hoogproblematisch == 'ja']"
   ]
  },
  {
   "cell_type": "code",
   "execution_count": 593,
   "metadata": {},
   "outputs": [],
   "source": [
    "probleem = probleem[['gemeente', 'totaal_probleem']]"
   ]
  },
  {
   "cell_type": "code",
   "execution_count": 594,
   "metadata": {},
   "outputs": [
    {
     "output_type": "execute_result",
     "data": {
      "text/plain": "      gemeente  totaal_probleem\n0        Aalst               12\n3       Aalter                2\n6     Aarschot                2\n9     Affligem                1\n12  Alveringem                2",
      "text/html": "<div>\n<style scoped>\n    .dataframe tbody tr th:only-of-type {\n        vertical-align: middle;\n    }\n\n    .dataframe tbody tr th {\n        vertical-align: top;\n    }\n\n    .dataframe thead th {\n        text-align: right;\n    }\n</style>\n<table border=\"1\" class=\"dataframe\">\n  <thead>\n    <tr style=\"text-align: right;\">\n      <th></th>\n      <th>gemeente</th>\n      <th>totaal_probleem</th>\n    </tr>\n  </thead>\n  <tbody>\n    <tr>\n      <th>0</th>\n      <td>Aalst</td>\n      <td>12</td>\n    </tr>\n    <tr>\n      <th>3</th>\n      <td>Aalter</td>\n      <td>2</td>\n    </tr>\n    <tr>\n      <th>6</th>\n      <td>Aarschot</td>\n      <td>2</td>\n    </tr>\n    <tr>\n      <th>9</th>\n      <td>Affligem</td>\n      <td>1</td>\n    </tr>\n    <tr>\n      <th>12</th>\n      <td>Alveringem</td>\n      <td>2</td>\n    </tr>\n  </tbody>\n</table>\n</div>"
     },
     "metadata": {},
     "execution_count": 594
    }
   ],
   "source": [
    "probleem.head()"
   ]
  },
  {
   "cell_type": "code",
   "execution_count": 595,
   "metadata": {},
   "outputs": [],
   "source": [
    "gemeentes = frame.merge(probleem, on='gemeente')"
   ]
  },
  {
   "cell_type": "code",
   "execution_count": 596,
   "metadata": {},
   "outputs": [],
   "source": [
    "gemeentes['percentage'] = gemeentes['totaal_probleem'] / gemeentes['totaal_gemeente'] * 100"
   ]
  },
  {
   "cell_type": "code",
   "execution_count": 597,
   "metadata": {},
   "outputs": [],
   "source": [
    "gemeentes['percentage'] = gemeentes.percentage.astype(int)"
   ]
  },
  {
   "cell_type": "code",
   "execution_count": 598,
   "metadata": {},
   "outputs": [
    {
     "output_type": "execute_result",
     "data": {
      "text/plain": "gemeente\nGent         118\nAntwerpen    112\nBrugge        73\nKortrijk      56\nMechelen      47\nHasselt       29\nGenk          27\nLeuven        25\nMachelen      22\nOostkamp      21\nName: totaal_gemeente, dtype: int64"
     },
     "metadata": {},
     "execution_count": 598
    }
   ],
   "source": [
    "gemeentes.groupby('gemeente')['totaal_gemeente'].max().sort_values(ascending=False).head(10)"
   ]
  },
  {
   "cell_type": "markdown",
   "metadata": {},
   "source": [
    "Gent heeft de meeste te renoveren bruggen, namelijk 118. Verder heeft ook Antwerpen een hoog aantal te renoveren bruggen. "
   ]
  },
  {
   "cell_type": "code",
   "execution_count": 599,
   "metadata": {},
   "outputs": [
    {
     "output_type": "execute_result",
     "data": {
      "text/plain": "gemeente\nGent         52\nAntwerpen    45\nKortrijk     28\nBrugge       21\nAalst        12\nMechelen     12\nGenk         11\nHalle         9\nHarelbeke     8\nHasselt       8\nName: totaal_probleem, dtype: int64"
     },
     "metadata": {},
     "execution_count": 599
    }
   ],
   "source": [
    "gemeentes.groupby('gemeente')['totaal_probleem'].max().sort_values(ascending=False).head(10)"
   ]
  },
  {
   "cell_type": "markdown",
   "metadata": {},
   "source": [
    "Gent heeft ook de meeste hoogproblematische bruggen, namelijk 52. We zien ook dat Kortrijk meer hoogproblematische bruggen heeft dan Brugge."
   ]
  },
  {
   "cell_type": "code",
   "execution_count": 600,
   "metadata": {},
   "outputs": [
    {
     "output_type": "execute_result",
     "data": {
      "text/plain": "gemeente\nZwijndrecht               100\nGalmaarden                100\nPoperinge                 100\nMeise                     100\nLede                      100\nVleteren                  100\nLangemark - Poelkapell    100\nKluisbergen               100\nRoosdaal                  100\nGingelom                  100\nName: percentage, dtype: int64"
     },
     "metadata": {},
     "execution_count": 600
    }
   ],
   "source": [
    "gemeentes.groupby('gemeente')['percentage'].max().sort_values(ascending=False).head(10)"
   ]
  },
  {
   "cell_type": "markdown",
   "metadata": {},
   "source": [
    "De top tien bestaat geheel uit gemeentes waar álle te renoveren bruggen problematisch zijn. Laten we een sanity check doen."
   ]
  },
  {
   "cell_type": "code",
   "execution_count": 411,
   "metadata": {},
   "outputs": [
    {
     "output_type": "execute_result",
     "data": {
      "text/plain": "         idnr     gemeente (deelgemeente)  provincie      gewest  \\\n145  00141071  Zwijndrecht            NaN  Antwerpen  Vlaanderen   \n399  00141081  Zwijndrecht         Burcht  Antwerpen  Vlaanderen   \n\n                                   brugnaam probleem oorzaak werken_gepland  \\\n145      BRUG-4-KRIJGSBAAN-(MILITAIRE-BAAN)      NaN     NaN            NaN   \n399  BRUG-OVER-STATIESTRAAT-PASTOOR-COPLAAN      NaN     NaN            NaN   \n\n    start_werken  ... beheerder    beheer toestandcode  LPK prev_year  \\\n145          NaN  ...       AWV  volledig   Toestand 3  NaN      2015   \n399          NaN  ...       AWV  volledig   Toestand 3  NaN      2017   \n\n    last_year difference hoogproblematisch lijst_sinds totaal_gemeente  \n145      2018          3                ja         nan               2  \n399      2019          2                ja         nan               2  \n\n[2 rows x 23 columns]",
      "text/html": "<div>\n<style scoped>\n    .dataframe tbody tr th:only-of-type {\n        vertical-align: middle;\n    }\n\n    .dataframe tbody tr th {\n        vertical-align: top;\n    }\n\n    .dataframe thead th {\n        text-align: right;\n    }\n</style>\n<table border=\"1\" class=\"dataframe\">\n  <thead>\n    <tr style=\"text-align: right;\">\n      <th></th>\n      <th>idnr</th>\n      <th>gemeente</th>\n      <th>(deelgemeente)</th>\n      <th>provincie</th>\n      <th>gewest</th>\n      <th>brugnaam</th>\n      <th>probleem</th>\n      <th>oorzaak</th>\n      <th>werken_gepland</th>\n      <th>start_werken</th>\n      <th>...</th>\n      <th>beheerder</th>\n      <th>beheer</th>\n      <th>toestandcode</th>\n      <th>LPK</th>\n      <th>prev_year</th>\n      <th>last_year</th>\n      <th>difference</th>\n      <th>hoogproblematisch</th>\n      <th>lijst_sinds</th>\n      <th>totaal_gemeente</th>\n    </tr>\n  </thead>\n  <tbody>\n    <tr>\n      <th>145</th>\n      <td>00141071</td>\n      <td>Zwijndrecht</td>\n      <td>NaN</td>\n      <td>Antwerpen</td>\n      <td>Vlaanderen</td>\n      <td>BRUG-4-KRIJGSBAAN-(MILITAIRE-BAAN)</td>\n      <td>NaN</td>\n      <td>NaN</td>\n      <td>NaN</td>\n      <td>NaN</td>\n      <td>...</td>\n      <td>AWV</td>\n      <td>volledig</td>\n      <td>Toestand 3</td>\n      <td>NaN</td>\n      <td>2015</td>\n      <td>2018</td>\n      <td>3</td>\n      <td>ja</td>\n      <td>nan</td>\n      <td>2</td>\n    </tr>\n    <tr>\n      <th>399</th>\n      <td>00141081</td>\n      <td>Zwijndrecht</td>\n      <td>Burcht</td>\n      <td>Antwerpen</td>\n      <td>Vlaanderen</td>\n      <td>BRUG-OVER-STATIESTRAAT-PASTOOR-COPLAAN</td>\n      <td>NaN</td>\n      <td>NaN</td>\n      <td>NaN</td>\n      <td>NaN</td>\n      <td>...</td>\n      <td>AWV</td>\n      <td>volledig</td>\n      <td>Toestand 3</td>\n      <td>NaN</td>\n      <td>2017</td>\n      <td>2019</td>\n      <td>2</td>\n      <td>ja</td>\n      <td>nan</td>\n      <td>2</td>\n    </tr>\n  </tbody>\n</table>\n<p>2 rows × 23 columns</p>\n</div>"
     },
     "metadata": {},
     "execution_count": 411
    }
   ],
   "source": [
    "frame[frame.gemeente == 'Zwijndrecht']"
   ]
  },
  {
   "cell_type": "code",
   "execution_count": 412,
   "metadata": {},
   "outputs": [
    {
     "output_type": "execute_result",
     "data": {
      "text/plain": "          idnr gemeente (deelgemeente)        provincie      gewest  \\\n1152  00100721     Lede       Oordegem  Oost-Vlaanderen  Vlaanderen   \n1153  00100731     Lede       Oordegem  Oost-Vlaanderen  Vlaanderen   \n\n                                  brugnaam probleem oorzaak werken_gepland  \\\n1152  BRUG-XCIV-OVER-E40-IN-STICHELENDRIES      NaN     NaN            NaN   \n1153  BRUG-25-IN-E40-OVER-DE-KLUIZENSTRAAT      NaN     NaN            NaN   \n\n     start_werken  ... beheerder    beheer toestandcode  LPK prev_year  \\\n1152          NaN  ...       AWV  volledig   Toestand 3  NaN      2015   \n1153          NaN  ...       AWV  volledig   Toestand 3  NaN      2014   \n\n     last_year difference hoogproblematisch lijst_sinds totaal_gemeente  \n1152      2018          3                ja         nan               2  \n1153      2017          3                ja         nan               2  \n\n[2 rows x 23 columns]",
      "text/html": "<div>\n<style scoped>\n    .dataframe tbody tr th:only-of-type {\n        vertical-align: middle;\n    }\n\n    .dataframe tbody tr th {\n        vertical-align: top;\n    }\n\n    .dataframe thead th {\n        text-align: right;\n    }\n</style>\n<table border=\"1\" class=\"dataframe\">\n  <thead>\n    <tr style=\"text-align: right;\">\n      <th></th>\n      <th>idnr</th>\n      <th>gemeente</th>\n      <th>(deelgemeente)</th>\n      <th>provincie</th>\n      <th>gewest</th>\n      <th>brugnaam</th>\n      <th>probleem</th>\n      <th>oorzaak</th>\n      <th>werken_gepland</th>\n      <th>start_werken</th>\n      <th>...</th>\n      <th>beheerder</th>\n      <th>beheer</th>\n      <th>toestandcode</th>\n      <th>LPK</th>\n      <th>prev_year</th>\n      <th>last_year</th>\n      <th>difference</th>\n      <th>hoogproblematisch</th>\n      <th>lijst_sinds</th>\n      <th>totaal_gemeente</th>\n    </tr>\n  </thead>\n  <tbody>\n    <tr>\n      <th>1152</th>\n      <td>00100721</td>\n      <td>Lede</td>\n      <td>Oordegem</td>\n      <td>Oost-Vlaanderen</td>\n      <td>Vlaanderen</td>\n      <td>BRUG-XCIV-OVER-E40-IN-STICHELENDRIES</td>\n      <td>NaN</td>\n      <td>NaN</td>\n      <td>NaN</td>\n      <td>NaN</td>\n      <td>...</td>\n      <td>AWV</td>\n      <td>volledig</td>\n      <td>Toestand 3</td>\n      <td>NaN</td>\n      <td>2015</td>\n      <td>2018</td>\n      <td>3</td>\n      <td>ja</td>\n      <td>nan</td>\n      <td>2</td>\n    </tr>\n    <tr>\n      <th>1153</th>\n      <td>00100731</td>\n      <td>Lede</td>\n      <td>Oordegem</td>\n      <td>Oost-Vlaanderen</td>\n      <td>Vlaanderen</td>\n      <td>BRUG-25-IN-E40-OVER-DE-KLUIZENSTRAAT</td>\n      <td>NaN</td>\n      <td>NaN</td>\n      <td>NaN</td>\n      <td>NaN</td>\n      <td>...</td>\n      <td>AWV</td>\n      <td>volledig</td>\n      <td>Toestand 3</td>\n      <td>NaN</td>\n      <td>2014</td>\n      <td>2017</td>\n      <td>3</td>\n      <td>ja</td>\n      <td>nan</td>\n      <td>2</td>\n    </tr>\n  </tbody>\n</table>\n<p>2 rows × 23 columns</p>\n</div>"
     },
     "metadata": {},
     "execution_count": 412
    }
   ],
   "source": [
    "frame[frame.gemeente == 'Lede']"
   ]
  },
  {
   "cell_type": "code",
   "execution_count": 413,
   "metadata": {},
   "outputs": [
    {
     "output_type": "execute_result",
     "data": {
      "text/plain": "         idnr  gemeente (deelgemeente) provincie      gewest  brugnaam  \\\n686  00030731  Gingelom     Montenaken   Limburg  Vlaanderen  BRUG-B73   \n687  00030741  Gingelom     Montenaken   Limburg  Vlaanderen  BRUG-B74   \n\n    probleem oorzaak werken_gepland start_werken  ... beheerder    beheer  \\\n686      NaN     NaN            NaN          NaN  ...       AWV  volledig   \n687      NaN     NaN            NaN          NaN  ...       AWV  volledig   \n\n    toestandcode  LPK prev_year last_year difference hoogproblematisch  \\\n686   Toestand 3  NaN      2014      2018          4                ja   \n687   Toestand 3  NaN      2014      2017          3                ja   \n\n    lijst_sinds totaal_gemeente  \n686         nan               2  \n687         nan               2  \n\n[2 rows x 23 columns]",
      "text/html": "<div>\n<style scoped>\n    .dataframe tbody tr th:only-of-type {\n        vertical-align: middle;\n    }\n\n    .dataframe tbody tr th {\n        vertical-align: top;\n    }\n\n    .dataframe thead th {\n        text-align: right;\n    }\n</style>\n<table border=\"1\" class=\"dataframe\">\n  <thead>\n    <tr style=\"text-align: right;\">\n      <th></th>\n      <th>idnr</th>\n      <th>gemeente</th>\n      <th>(deelgemeente)</th>\n      <th>provincie</th>\n      <th>gewest</th>\n      <th>brugnaam</th>\n      <th>probleem</th>\n      <th>oorzaak</th>\n      <th>werken_gepland</th>\n      <th>start_werken</th>\n      <th>...</th>\n      <th>beheerder</th>\n      <th>beheer</th>\n      <th>toestandcode</th>\n      <th>LPK</th>\n      <th>prev_year</th>\n      <th>last_year</th>\n      <th>difference</th>\n      <th>hoogproblematisch</th>\n      <th>lijst_sinds</th>\n      <th>totaal_gemeente</th>\n    </tr>\n  </thead>\n  <tbody>\n    <tr>\n      <th>686</th>\n      <td>00030731</td>\n      <td>Gingelom</td>\n      <td>Montenaken</td>\n      <td>Limburg</td>\n      <td>Vlaanderen</td>\n      <td>BRUG-B73</td>\n      <td>NaN</td>\n      <td>NaN</td>\n      <td>NaN</td>\n      <td>NaN</td>\n      <td>...</td>\n      <td>AWV</td>\n      <td>volledig</td>\n      <td>Toestand 3</td>\n      <td>NaN</td>\n      <td>2014</td>\n      <td>2018</td>\n      <td>4</td>\n      <td>ja</td>\n      <td>nan</td>\n      <td>2</td>\n    </tr>\n    <tr>\n      <th>687</th>\n      <td>00030741</td>\n      <td>Gingelom</td>\n      <td>Montenaken</td>\n      <td>Limburg</td>\n      <td>Vlaanderen</td>\n      <td>BRUG-B74</td>\n      <td>NaN</td>\n      <td>NaN</td>\n      <td>NaN</td>\n      <td>NaN</td>\n      <td>...</td>\n      <td>AWV</td>\n      <td>volledig</td>\n      <td>Toestand 3</td>\n      <td>NaN</td>\n      <td>2014</td>\n      <td>2017</td>\n      <td>3</td>\n      <td>ja</td>\n      <td>nan</td>\n      <td>2</td>\n    </tr>\n  </tbody>\n</table>\n<p>2 rows × 23 columns</p>\n</div>"
     },
     "metadata": {},
     "execution_count": 413
    }
   ],
   "source": [
    "frame[frame.gemeente == 'Gingelom']"
   ]
  },
  {
   "cell_type": "markdown",
   "metadata": {},
   "source": [
    "Ook de sanity check bevestigt dat dit allemaal gemeenten zijn waar de bruggen hoogproblematisch zijn, dat wil zeggen: toestand 3 of 4 in Vlaanderen, toestand A of B in Brussel."
   ]
  },
  {
   "cell_type": "code",
   "execution_count": 601,
   "metadata": {},
   "outputs": [
    {
     "output_type": "execute_result",
     "data": {
      "text/plain": "18"
     },
     "metadata": {},
     "execution_count": 601
    }
   ],
   "source": [
    "gemeentes[gemeentes.percentage == 100].gemeente.nunique()"
   ]
  },
  {
   "cell_type": "code",
   "execution_count": 602,
   "metadata": {},
   "outputs": [
    {
     "output_type": "execute_result",
     "data": {
      "text/plain": "array(['Deurne', 'Edegem', 'Zwijndrecht', 'Balen', 'Duffel', 'Dessel',\n       'Zoersel', 'Gingelom', 'Halen', 'Lede', 'Kluisbergen', 'Ronse',\n       'Roosdaal', 'Meise', 'Galmaarden', 'Vleteren',\n       'Langemark - Poelkapell', 'Poperinge'], dtype=object)"
     },
     "metadata": {},
     "execution_count": 602
    }
   ],
   "source": [
    "gemeentes[gemeentes.percentage == 100].gemeente.unique()"
   ]
  },
  {
   "cell_type": "markdown",
   "metadata": {},
   "source": [
    "In totaal zijn er 18 gemeenten waar dit speelt. "
   ]
  },
  {
   "cell_type": "code",
   "execution_count": 603,
   "metadata": {},
   "outputs": [
    {
     "output_type": "execute_result",
     "data": {
      "text/plain": "array(['Overijse', 'Erpe-Mere', 'Deinze', 'Nazareth', 'Kruishoutem',\n       'Waasmunster'], dtype=object)"
     },
     "metadata": {},
     "execution_count": 603
    }
   ],
   "source": [
    "gemeentes[(gemeentes.percentage > 80) & (gemeentes.percentage < 100)].gemeente.unique()"
   ]
  },
  {
   "cell_type": "code",
   "execution_count": 604,
   "metadata": {},
   "outputs": [
    {
     "output_type": "execute_result",
     "data": {
      "text/plain": "28"
     },
     "metadata": {},
     "execution_count": 604
    }
   ],
   "source": [
    "gemeentes[(gemeentes.percentage > 50) & (gemeentes.percentage < 100)].gemeente.nunique()"
   ]
  },
  {
   "cell_type": "code",
   "execution_count": 605,
   "metadata": {},
   "outputs": [
    {
     "output_type": "execute_result",
     "data": {
      "text/plain": "array(['Wommelgem', 'Overijse', 'Halle', 'Erpe-Mere', 'Waregem', 'Aalst',\n       'Deinze', 'Westerlo', 'Laakdal', 'Zandhoven', 'Dilsen-Stokkem',\n       'Voeren', 'Ninove', 'Dendermonde', 'Lokeren', 'Oudenaarde',\n       'Nazareth', 'Lochristi', 'Wachtebeke', 'Kruishoutem', 'Zele',\n       'Waasmunster', 'Laarne', 'Tervuren', 'Harelbeke', 'Torhout',\n       'Izegem', 'Koksijde'], dtype=object)"
     },
     "metadata": {},
     "execution_count": 605
    }
   ],
   "source": [
    "gemeentes[(gemeentes.percentage > 50) & (gemeentes.percentage < 100)].gemeente.unique()"
   ]
  },
  {
   "cell_type": "code",
   "execution_count": 606,
   "metadata": {},
   "outputs": [
    {
     "output_type": "execute_result",
     "data": {
      "text/plain": "46"
     },
     "metadata": {},
     "execution_count": 606
    }
   ],
   "source": [
    "gemeentes[gemeentes.percentage > 50].gemeente.nunique()"
   ]
  },
  {
   "cell_type": "markdown",
   "metadata": {},
   "source": [
    "Het valt op dat hoewel Gent in de absolute zin de meeste hoogproblematische en de meeste te renoveren bruggen heeft, het percentage lager uitvalt: minder dan 50 procent van de bruggen. Voor 28 gemeenten is meer dan de helft van de te renoveren bruggen hoogproblematisch. Voor 6 gemeenten is dat meer dan 80 procent."
   ]
  },
  {
   "cell_type": "markdown",
   "metadata": {},
   "source": [
    "## Wie beheert die hoogproblematische bruggen in die gemeenten?\n",
    "Eerst bekijken we de lijst van 100 procent, dan van hoger dan 80, dan van hoger dan 50."
   ]
  },
  {
   "cell_type": "code",
   "execution_count": 607,
   "metadata": {},
   "outputs": [
    {
     "output_type": "execute_result",
     "data": {
      "text/plain": "AWV                 21\nVlaamse Waterweg     6\nAWV/VWW              2\nGemeente             1\nName: beheerder, dtype: int64"
     },
     "metadata": {},
     "execution_count": 607
    }
   ],
   "source": [
    "gemeentes[gemeentes.percentage == 100].beheerder.value_counts()"
   ]
  },
  {
   "cell_type": "code",
   "execution_count": 608,
   "metadata": {},
   "outputs": [
    {
     "output_type": "execute_result",
     "data": {
      "text/plain": "     idnr    gemeente (deelgemeente)       provincie      gewest  \\\n1326  nan  Galmaarden            NaN  Vlaams Brabant  Vlaanderen   \n\n                                  brugnaam              probleem   oorzaak  \\\n1326  Brug over de Mark bij Stationsstraat  betonrot, raming 65K  betonrot   \n\n     werken_gepland start_werken  ... toestandcode  LPK prev_year last_year  \\\n1326             Ja     onbekend  ...          NaN  NaN       nan       nan   \n\n     difference hoogproblematisch lijst_sinds totaal_gemeente totaal_probleem  \\\n1326        nan                ja         nan               2               2   \n\n     percentage  \n1326        100  \n\n[1 rows x 25 columns]",
      "text/html": "<div>\n<style scoped>\n    .dataframe tbody tr th:only-of-type {\n        vertical-align: middle;\n    }\n\n    .dataframe tbody tr th {\n        vertical-align: top;\n    }\n\n    .dataframe thead th {\n        text-align: right;\n    }\n</style>\n<table border=\"1\" class=\"dataframe\">\n  <thead>\n    <tr style=\"text-align: right;\">\n      <th></th>\n      <th>idnr</th>\n      <th>gemeente</th>\n      <th>(deelgemeente)</th>\n      <th>provincie</th>\n      <th>gewest</th>\n      <th>brugnaam</th>\n      <th>probleem</th>\n      <th>oorzaak</th>\n      <th>werken_gepland</th>\n      <th>start_werken</th>\n      <th>...</th>\n      <th>toestandcode</th>\n      <th>LPK</th>\n      <th>prev_year</th>\n      <th>last_year</th>\n      <th>difference</th>\n      <th>hoogproblematisch</th>\n      <th>lijst_sinds</th>\n      <th>totaal_gemeente</th>\n      <th>totaal_probleem</th>\n      <th>percentage</th>\n    </tr>\n  </thead>\n  <tbody>\n    <tr>\n      <th>1326</th>\n      <td>nan</td>\n      <td>Galmaarden</td>\n      <td>NaN</td>\n      <td>Vlaams Brabant</td>\n      <td>Vlaanderen</td>\n      <td>Brug over de Mark bij Stationsstraat</td>\n      <td>betonrot, raming 65K</td>\n      <td>betonrot</td>\n      <td>Ja</td>\n      <td>onbekend</td>\n      <td>...</td>\n      <td>NaN</td>\n      <td>NaN</td>\n      <td>nan</td>\n      <td>nan</td>\n      <td>nan</td>\n      <td>ja</td>\n      <td>nan</td>\n      <td>2</td>\n      <td>2</td>\n      <td>100</td>\n    </tr>\n  </tbody>\n</table>\n<p>1 rows × 25 columns</p>\n</div>"
     },
     "metadata": {},
     "execution_count": 608
    }
   ],
   "source": [
    "gemeentes[(gemeentes.percentage == 100) & (gemeentes.beheerder == 'Gemeente')]"
   ]
  },
  {
   "cell_type": "markdown",
   "metadata": {},
   "source": [
    "Er is maar één geval waar de hoogproblematische brug wordt beheerd door de gemeente zelf. In alle andere gevallen gaat het om bruggen in het beheer van het Vlaams gewest."
   ]
  },
  {
   "cell_type": "code",
   "execution_count": 609,
   "metadata": {},
   "outputs": [
    {
     "output_type": "execute_result",
     "data": {
      "text/plain": "AWV                 32\nAWV/VWW              4\nVlaamse Waterweg     3\nName: beheerder, dtype: int64"
     },
     "metadata": {},
     "execution_count": 609
    }
   ],
   "source": [
    "gemeentes[(gemeentes.percentage > 80) & (gemeentes.percentage < 100)].beheerder.value_counts()"
   ]
  },
  {
   "cell_type": "code",
   "execution_count": 610,
   "metadata": {},
   "outputs": [
    {
     "output_type": "execute_result",
     "data": {
      "text/plain": "AWV                 90\nVlaamse Waterweg    35\nAWV/VWW             13\nGemeente             1\nName: beheerder, dtype: int64"
     },
     "metadata": {},
     "execution_count": 610
    }
   ],
   "source": [
    "gemeentes[(gemeentes.percentage > 50) & (gemeentes.percentage < 80)].beheerder.value_counts()"
   ]
  },
  {
   "cell_type": "code",
   "execution_count": 611,
   "metadata": {},
   "outputs": [
    {
     "output_type": "execute_result",
     "data": {
      "text/plain": "    idnr gemeente (deelgemeente) provincie      gewest  \\\n930  nan   Voeren            NaN   Limburg  Vlaanderen   \n\n                              brugnaam  \\\n930  Brug over \"De Gulp\" in Remersdaal   \n\n                                              probleem    oorzaak  \\\n930  is bouwvallig, afgesloten voor gemotoriseerd v...  verouderd   \n\n    werken_gepland start_werken  ... toestandcode  LPK prev_year last_year  \\\n930             Ja         2020  ...          NaN  NaN       nan       nan   \n\n    difference hoogproblematisch lijst_sinds totaal_gemeente totaal_probleem  \\\n930        nan                ja         nan               3               2   \n\n    percentage  \n930         66  \n\n[1 rows x 25 columns]",
      "text/html": "<div>\n<style scoped>\n    .dataframe tbody tr th:only-of-type {\n        vertical-align: middle;\n    }\n\n    .dataframe tbody tr th {\n        vertical-align: top;\n    }\n\n    .dataframe thead th {\n        text-align: right;\n    }\n</style>\n<table border=\"1\" class=\"dataframe\">\n  <thead>\n    <tr style=\"text-align: right;\">\n      <th></th>\n      <th>idnr</th>\n      <th>gemeente</th>\n      <th>(deelgemeente)</th>\n      <th>provincie</th>\n      <th>gewest</th>\n      <th>brugnaam</th>\n      <th>probleem</th>\n      <th>oorzaak</th>\n      <th>werken_gepland</th>\n      <th>start_werken</th>\n      <th>...</th>\n      <th>toestandcode</th>\n      <th>LPK</th>\n      <th>prev_year</th>\n      <th>last_year</th>\n      <th>difference</th>\n      <th>hoogproblematisch</th>\n      <th>lijst_sinds</th>\n      <th>totaal_gemeente</th>\n      <th>totaal_probleem</th>\n      <th>percentage</th>\n    </tr>\n  </thead>\n  <tbody>\n    <tr>\n      <th>930</th>\n      <td>nan</td>\n      <td>Voeren</td>\n      <td>NaN</td>\n      <td>Limburg</td>\n      <td>Vlaanderen</td>\n      <td>Brug over \"De Gulp\" in Remersdaal</td>\n      <td>is bouwvallig, afgesloten voor gemotoriseerd v...</td>\n      <td>verouderd</td>\n      <td>Ja</td>\n      <td>2020</td>\n      <td>...</td>\n      <td>NaN</td>\n      <td>NaN</td>\n      <td>nan</td>\n      <td>nan</td>\n      <td>nan</td>\n      <td>ja</td>\n      <td>nan</td>\n      <td>3</td>\n      <td>2</td>\n      <td>66</td>\n    </tr>\n  </tbody>\n</table>\n<p>1 rows × 25 columns</p>\n</div>"
     },
     "metadata": {},
     "execution_count": 611
    }
   ],
   "source": [
    "gemeentes[(gemeentes.percentage > 50) & (gemeentes.percentage < 80) & (gemeentes.beheerder == 'Gemeente')]"
   ]
  },
  {
   "cell_type": "markdown",
   "metadata": {},
   "source": [
    "Dit betekent dat van de 46 gemeenten waar meer dan de helft van de bruggen die gerenoveerd moeten worden hoogproblematisch is, de meeste gemeenten daar zelf geen beheerder van zijn en het onderhoud dus voor rekening komt van het Gewest. We weten uit onze eigen bevraging dat gemeenten daardoor ook vaak niet op de hoogte zijn van de staat van die bruggen. Dat brengt ons op de vraag hoe lang die gemeenten dan moeten wachten tot zoiets wordt gerenoveerd."
   ]
  },
  {
   "cell_type": "markdown",
   "metadata": {},
   "source": [
    "## Hoe lang staan bruggen op de lijst voor ze worden gerenoveerd?\n",
    "Deze informatie hebben we alleen voor de bruggen van het Vlaams Gewest die er het ergst aan toe zijn."
   ]
  },
  {
   "cell_type": "code",
   "execution_count": 500,
   "metadata": {},
   "outputs": [
    {
     "output_type": "execute_result",
     "data": {
      "text/plain": "array(['2007', '2003', '2011', '2016', '2018', '2009', '2019', '1997',\n       '1999', '2001', '2013', '2014', '2017', '201', 'nan'], dtype=object)"
     },
     "metadata": {},
     "execution_count": 500
    }
   ],
   "source": [
    "frame.lijst_sinds.unique()"
   ]
  },
  {
   "cell_type": "code",
   "execution_count": 504,
   "metadata": {},
   "outputs": [],
   "source": [
    "frame.lijst_sinds = frame.lijst_sinds.replace('201', '2001')"
   ]
  },
  {
   "cell_type": "code",
   "execution_count": 505,
   "metadata": {},
   "outputs": [],
   "source": [
    "frame.last_year = frame.last_year.replace('202', '2020')"
   ]
  },
  {
   "cell_type": "code",
   "execution_count": 520,
   "metadata": {},
   "outputs": [],
   "source": [
    "frame.prev_year = frame.prev_year.replace('201', '2010')"
   ]
  },
  {
   "cell_type": "code",
   "execution_count": 506,
   "metadata": {},
   "outputs": [
    {
     "output_type": "execute_result",
     "data": {
      "text/plain": "array(['2020', '2017', '2019', '2018', '2012', '2016', '2014', '2015',\n       'nan', '2011', '2013'], dtype=object)"
     },
     "metadata": {},
     "execution_count": 506
    }
   ],
   "source": [
    "frame.last_year.unique()"
   ]
  },
  {
   "cell_type": "code",
   "execution_count": 521,
   "metadata": {},
   "outputs": [],
   "source": [
    "vlaams = frame[frame.lijst_sinds != 'nan']"
   ]
  },
  {
   "cell_type": "code",
   "execution_count": 508,
   "metadata": {},
   "outputs": [
    {
     "output_type": "stream",
     "name": "stdout",
     "text": "<class 'pandas.core.frame.DataFrame'>\nInt64Index: 42 entries, 0 to 41\nData columns (total 22 columns):\n #   Column             Non-Null Count  Dtype \n---  ------             --------------  ----- \n 0   idnr               42 non-null     object\n 1   gemeente           42 non-null     object\n 2   (deelgemeente)     31 non-null     object\n 3   provincie          42 non-null     object\n 4   gewest             42 non-null     object\n 5   brugnaam           42 non-null     object\n 6   probleem           42 non-null     object\n 7   oorzaak            42 non-null     object\n 8   werken_gepland     42 non-null     object\n 9   start_werken       42 non-null     object\n 10  bezocht            42 non-null     object\n 11  opmerkingen        18 non-null     object\n 12  beelden            17 non-null     object\n 13  beheerder          42 non-null     object\n 14  beheer             42 non-null     object\n 15  toestandcode       42 non-null     object\n 16  LPK                42 non-null     object\n 17  prev_year          42 non-null     object\n 18  last_year          42 non-null     object\n 19  difference         42 non-null     object\n 20  hoogproblematisch  42 non-null     object\n 21  lijst_sinds        42 non-null     object\ndtypes: object(22)\nmemory usage: 7.5+ KB\n"
    }
   ],
   "source": [
    "vlaams.info()"
   ]
  },
  {
   "cell_type": "markdown",
   "metadata": {},
   "source": [
    "Let op: dit zijn niet alle bruggen die er het slechtst aan toe zijn. Dat zijn er meer:"
   ]
  },
  {
   "cell_type": "code",
   "execution_count": 496,
   "metadata": {},
   "outputs": [
    {
     "output_type": "execute_result",
     "data": {
      "text/plain": "46"
     },
     "metadata": {},
     "execution_count": 496
    }
   ],
   "source": [
    "len(frame[frame.toestandcode == 'Toestand 4'])"
   ]
  },
  {
   "cell_type": "code",
   "execution_count": 509,
   "metadata": {},
   "outputs": [
    {
     "output_type": "execute_result",
     "data": {
      "text/plain": "          idnr    gemeente (deelgemeente)        provincie      gewest  \\\n1464  25310063        Gent            NaN  Oost-Vlaanderen  Vlaanderen   \n1799  90290241       Diest            NaN   Vlaams Brabant  Vlaanderen   \n2180  25400041   Oudenburg            NaN  West-Vlaanderen  Vlaanderen   \n2210  27300031  Lo-Reninge             Lo  West-Vlaanderen  Vlaanderen   \n\n                                          brugnaam probleem oorzaak  \\\n1464                    VOETBRUG-OVER-TOLHUISSLUIS      NaN     NaN   \n1799                         BRUG-OVER-ZWARTE-BEEK      NaN     NaN   \n2180  GROTE-PLASSENDALEBRUG-KANAAL-BRUGGE-OOSTENDE      NaN     NaN   \n2210                                KELLENAARSBRUG      NaN     NaN   \n\n     werken_gepland start_werken  ... beelden         beheerder    beheer  \\\n1464            NaN          NaN  ...     NaN  Vlaamse Waterweg  volledig   \n1799            NaN          NaN  ...     NaN               AWV  volledig   \n2180            NaN          NaN  ...     NaN  Vlaamse Waterweg  volledig   \n2210            NaN          NaN  ...     NaN  Vlaamse Waterweg  volledig   \n\n     toestandcode  LPK prev_year last_year difference hoogproblematisch  \\\n1464   Toestand 4  NaN      2014      2017          3                ja   \n1799   Toestand 4  NaN      2013      2018          5                ja   \n2180   Toestand 4  NaN      2016      2019          3                ja   \n2210   Toestand 4  NaN      2014      2017          3                ja   \n\n     lijst_sinds  \n1464         nan  \n1799         nan  \n2180         nan  \n2210         nan  \n\n[4 rows x 22 columns]",
      "text/html": "<div>\n<style scoped>\n    .dataframe tbody tr th:only-of-type {\n        vertical-align: middle;\n    }\n\n    .dataframe tbody tr th {\n        vertical-align: top;\n    }\n\n    .dataframe thead th {\n        text-align: right;\n    }\n</style>\n<table border=\"1\" class=\"dataframe\">\n  <thead>\n    <tr style=\"text-align: right;\">\n      <th></th>\n      <th>idnr</th>\n      <th>gemeente</th>\n      <th>(deelgemeente)</th>\n      <th>provincie</th>\n      <th>gewest</th>\n      <th>brugnaam</th>\n      <th>probleem</th>\n      <th>oorzaak</th>\n      <th>werken_gepland</th>\n      <th>start_werken</th>\n      <th>...</th>\n      <th>beelden</th>\n      <th>beheerder</th>\n      <th>beheer</th>\n      <th>toestandcode</th>\n      <th>LPK</th>\n      <th>prev_year</th>\n      <th>last_year</th>\n      <th>difference</th>\n      <th>hoogproblematisch</th>\n      <th>lijst_sinds</th>\n    </tr>\n  </thead>\n  <tbody>\n    <tr>\n      <th>1464</th>\n      <td>25310063</td>\n      <td>Gent</td>\n      <td>NaN</td>\n      <td>Oost-Vlaanderen</td>\n      <td>Vlaanderen</td>\n      <td>VOETBRUG-OVER-TOLHUISSLUIS</td>\n      <td>NaN</td>\n      <td>NaN</td>\n      <td>NaN</td>\n      <td>NaN</td>\n      <td>...</td>\n      <td>NaN</td>\n      <td>Vlaamse Waterweg</td>\n      <td>volledig</td>\n      <td>Toestand 4</td>\n      <td>NaN</td>\n      <td>2014</td>\n      <td>2017</td>\n      <td>3</td>\n      <td>ja</td>\n      <td>nan</td>\n    </tr>\n    <tr>\n      <th>1799</th>\n      <td>90290241</td>\n      <td>Diest</td>\n      <td>NaN</td>\n      <td>Vlaams Brabant</td>\n      <td>Vlaanderen</td>\n      <td>BRUG-OVER-ZWARTE-BEEK</td>\n      <td>NaN</td>\n      <td>NaN</td>\n      <td>NaN</td>\n      <td>NaN</td>\n      <td>...</td>\n      <td>NaN</td>\n      <td>AWV</td>\n      <td>volledig</td>\n      <td>Toestand 4</td>\n      <td>NaN</td>\n      <td>2013</td>\n      <td>2018</td>\n      <td>5</td>\n      <td>ja</td>\n      <td>nan</td>\n    </tr>\n    <tr>\n      <th>2180</th>\n      <td>25400041</td>\n      <td>Oudenburg</td>\n      <td>NaN</td>\n      <td>West-Vlaanderen</td>\n      <td>Vlaanderen</td>\n      <td>GROTE-PLASSENDALEBRUG-KANAAL-BRUGGE-OOSTENDE</td>\n      <td>NaN</td>\n      <td>NaN</td>\n      <td>NaN</td>\n      <td>NaN</td>\n      <td>...</td>\n      <td>NaN</td>\n      <td>Vlaamse Waterweg</td>\n      <td>volledig</td>\n      <td>Toestand 4</td>\n      <td>NaN</td>\n      <td>2016</td>\n      <td>2019</td>\n      <td>3</td>\n      <td>ja</td>\n      <td>nan</td>\n    </tr>\n    <tr>\n      <th>2210</th>\n      <td>27300031</td>\n      <td>Lo-Reninge</td>\n      <td>Lo</td>\n      <td>West-Vlaanderen</td>\n      <td>Vlaanderen</td>\n      <td>KELLENAARSBRUG</td>\n      <td>NaN</td>\n      <td>NaN</td>\n      <td>NaN</td>\n      <td>NaN</td>\n      <td>...</td>\n      <td>NaN</td>\n      <td>Vlaamse Waterweg</td>\n      <td>volledig</td>\n      <td>Toestand 4</td>\n      <td>NaN</td>\n      <td>2014</td>\n      <td>2017</td>\n      <td>3</td>\n      <td>ja</td>\n      <td>nan</td>\n    </tr>\n  </tbody>\n</table>\n<p>4 rows × 22 columns</p>\n</div>"
     },
     "metadata": {},
     "execution_count": 509
    }
   ],
   "source": [
    "frame[(frame.toestandcode == 'Toestand 4') & (frame.lijst_sinds == 'nan')]"
   ]
  },
  {
   "cell_type": "markdown",
   "metadata": {},
   "source": [
    "Deze bruggen zijn dus sinds december 2019 (de laatste versie van de lijst van AWV) op de lijst met prioritaire kunstwerken gekomen. Dat is frappant, want we zien dat sommige van deze kunstwerken voor het laatst zijn gecontroleerd in 2018 of zelfs 2017. De vraag is waarom ze dan niet al eerder op de lijst stonden."
   ]
  },
  {
   "cell_type": "code",
   "execution_count": 522,
   "metadata": {},
   "outputs": [],
   "source": [
    "vlaams.lijst_sinds = vlaams.lijst_sinds.astype(int)"
   ]
  },
  {
   "cell_type": "code",
   "execution_count": 511,
   "metadata": {},
   "outputs": [
    {
     "output_type": "execute_result",
     "data": {
      "text/plain": "5"
     },
     "metadata": {},
     "execution_count": 511
    }
   ],
   "source": [
    "len(vlaams[vlaams.lijst_sinds < 2000])"
   ]
  },
  {
   "cell_type": "code",
   "execution_count": 512,
   "metadata": {},
   "outputs": [
    {
     "output_type": "execute_result",
     "data": {
      "text/plain": "        idnr  gemeente                (deelgemeente)        provincie  \\\n12  00100471      Gent  Sint-Denijs-Westrem - Afsnee  Oost-Vlaanderen   \n13  00100451      Gent                       Drongen  Oost-Vlaanderen   \n14  00100551      Gent                    Zwijnaarde  Oost-Vlaanderen   \n15  00100561      Gent                    Zwijnaarde  Oost-Vlaanderen   \n16  00100681  Wetteren                       Westrem  Oost-Vlaanderen   \n\n        gewest                                    brugnaam  \\\n12  Vlaanderen         Goedingebrug / Brug 12 over de Leie   \n13  Vlaanderen  Brug LXXIV over de A10 aan op- en afrit 13   \n14  Vlaanderen                      Slingerviaduct IJ-West   \n15  Vlaanderen                      Slingerviaduct MN-Oost   \n16  Vlaanderen                         Brug XC over de E40   \n\n                               probleem      oorzaak werken_gepland  \\\n12                Moet vernieuwd worden     onbekend            Nee   \n13  Wordt vernieuwd met complex Drongen  groter plan             Ja   \n14                Moet vernieuwd worden     onbekend             Ja   \n15                Moet vernieuwd worden     onbekend             Ja   \n16                     Wordt afgebroken     onbekend            Nee   \n\n   start_werken  ...        beelden beheerder    beheer toestandcode  \\\n12     onbekend  ...  Foto en video       AWV  volledig   Toestand 4   \n13         2021  ...            Nee       AWV  volledig   Toestand 4   \n14         2023  ...            Nee       AWV  volledig   Toestand 4   \n15         2024  ...            Nee       AWV  volledig   Toestand 4   \n16     onbekend  ...  Foto en video       AWV  volledig   Toestand 4   \n\n                              LPK prev_year last_year difference  \\\n12  1e prioriteit - te vernieuwen      2013      2016          3   \n13  2e prioriteit - te vernieuwen      2017      2020          3   \n14  2e prioriteit - te herstellen      2014      2017          3   \n15  2e prioriteit - te herstellen      2014      2017          3   \n16  1e prioriteit - te vernieuwen       201      2018          8   \n\n   hoogproblematisch lijst_sinds  \n12                ja        1997  \n13                ja        1997  \n14                ja        1997  \n15                ja        1997  \n16                ja        1999  \n\n[5 rows x 22 columns]",
      "text/html": "<div>\n<style scoped>\n    .dataframe tbody tr th:only-of-type {\n        vertical-align: middle;\n    }\n\n    .dataframe tbody tr th {\n        vertical-align: top;\n    }\n\n    .dataframe thead th {\n        text-align: right;\n    }\n</style>\n<table border=\"1\" class=\"dataframe\">\n  <thead>\n    <tr style=\"text-align: right;\">\n      <th></th>\n      <th>idnr</th>\n      <th>gemeente</th>\n      <th>(deelgemeente)</th>\n      <th>provincie</th>\n      <th>gewest</th>\n      <th>brugnaam</th>\n      <th>probleem</th>\n      <th>oorzaak</th>\n      <th>werken_gepland</th>\n      <th>start_werken</th>\n      <th>...</th>\n      <th>beelden</th>\n      <th>beheerder</th>\n      <th>beheer</th>\n      <th>toestandcode</th>\n      <th>LPK</th>\n      <th>prev_year</th>\n      <th>last_year</th>\n      <th>difference</th>\n      <th>hoogproblematisch</th>\n      <th>lijst_sinds</th>\n    </tr>\n  </thead>\n  <tbody>\n    <tr>\n      <th>12</th>\n      <td>00100471</td>\n      <td>Gent</td>\n      <td>Sint-Denijs-Westrem - Afsnee</td>\n      <td>Oost-Vlaanderen</td>\n      <td>Vlaanderen</td>\n      <td>Goedingebrug / Brug 12 over de Leie</td>\n      <td>Moet vernieuwd worden</td>\n      <td>onbekend</td>\n      <td>Nee</td>\n      <td>onbekend</td>\n      <td>...</td>\n      <td>Foto en video</td>\n      <td>AWV</td>\n      <td>volledig</td>\n      <td>Toestand 4</td>\n      <td>1e prioriteit - te vernieuwen</td>\n      <td>2013</td>\n      <td>2016</td>\n      <td>3</td>\n      <td>ja</td>\n      <td>1997</td>\n    </tr>\n    <tr>\n      <th>13</th>\n      <td>00100451</td>\n      <td>Gent</td>\n      <td>Drongen</td>\n      <td>Oost-Vlaanderen</td>\n      <td>Vlaanderen</td>\n      <td>Brug LXXIV over de A10 aan op- en afrit 13</td>\n      <td>Wordt vernieuwd met complex Drongen</td>\n      <td>groter plan</td>\n      <td>Ja</td>\n      <td>2021</td>\n      <td>...</td>\n      <td>Nee</td>\n      <td>AWV</td>\n      <td>volledig</td>\n      <td>Toestand 4</td>\n      <td>2e prioriteit - te vernieuwen</td>\n      <td>2017</td>\n      <td>2020</td>\n      <td>3</td>\n      <td>ja</td>\n      <td>1997</td>\n    </tr>\n    <tr>\n      <th>14</th>\n      <td>00100551</td>\n      <td>Gent</td>\n      <td>Zwijnaarde</td>\n      <td>Oost-Vlaanderen</td>\n      <td>Vlaanderen</td>\n      <td>Slingerviaduct IJ-West</td>\n      <td>Moet vernieuwd worden</td>\n      <td>onbekend</td>\n      <td>Ja</td>\n      <td>2023</td>\n      <td>...</td>\n      <td>Nee</td>\n      <td>AWV</td>\n      <td>volledig</td>\n      <td>Toestand 4</td>\n      <td>2e prioriteit - te herstellen</td>\n      <td>2014</td>\n      <td>2017</td>\n      <td>3</td>\n      <td>ja</td>\n      <td>1997</td>\n    </tr>\n    <tr>\n      <th>15</th>\n      <td>00100561</td>\n      <td>Gent</td>\n      <td>Zwijnaarde</td>\n      <td>Oost-Vlaanderen</td>\n      <td>Vlaanderen</td>\n      <td>Slingerviaduct MN-Oost</td>\n      <td>Moet vernieuwd worden</td>\n      <td>onbekend</td>\n      <td>Ja</td>\n      <td>2024</td>\n      <td>...</td>\n      <td>Nee</td>\n      <td>AWV</td>\n      <td>volledig</td>\n      <td>Toestand 4</td>\n      <td>2e prioriteit - te herstellen</td>\n      <td>2014</td>\n      <td>2017</td>\n      <td>3</td>\n      <td>ja</td>\n      <td>1997</td>\n    </tr>\n    <tr>\n      <th>16</th>\n      <td>00100681</td>\n      <td>Wetteren</td>\n      <td>Westrem</td>\n      <td>Oost-Vlaanderen</td>\n      <td>Vlaanderen</td>\n      <td>Brug XC over de E40</td>\n      <td>Wordt afgebroken</td>\n      <td>onbekend</td>\n      <td>Nee</td>\n      <td>onbekend</td>\n      <td>...</td>\n      <td>Foto en video</td>\n      <td>AWV</td>\n      <td>volledig</td>\n      <td>Toestand 4</td>\n      <td>1e prioriteit - te vernieuwen</td>\n      <td>201</td>\n      <td>2018</td>\n      <td>8</td>\n      <td>ja</td>\n      <td>1999</td>\n    </tr>\n  </tbody>\n</table>\n<p>5 rows × 22 columns</p>\n</div>"
     },
     "metadata": {},
     "execution_count": 512
    }
   ],
   "source": [
    "vlaams[vlaams.lijst_sinds < 2000]"
   ]
  },
  {
   "cell_type": "code",
   "execution_count": 513,
   "metadata": {},
   "outputs": [
    {
     "output_type": "execute_result",
     "data": {
      "text/plain": "11"
     },
     "metadata": {},
     "execution_count": 513
    }
   ],
   "source": [
    "len(vlaams[vlaams.lijst_sinds < 2005])"
   ]
  },
  {
   "cell_type": "code",
   "execution_count": 514,
   "metadata": {},
   "outputs": [
    {
     "output_type": "execute_result",
     "data": {
      "text/plain": "        idnr   gemeente                (deelgemeente)        provincie  \\\n1   00130041     Deurne                        Deurne        Antwerpen   \n2   00130031     Deurne                        Deurne        Antwerpen   \n12  00100471       Gent  Sint-Denijs-Westrem - Afsnee  Oost-Vlaanderen   \n13  00100451       Gent                       Drongen  Oost-Vlaanderen   \n14  00100551       Gent                    Zwijnaarde  Oost-Vlaanderen   \n15  00100561       Gent                    Zwijnaarde  Oost-Vlaanderen   \n16  00100681   Wetteren                       Westrem  Oost-Vlaanderen   \n17  00100461       Gent                       Drongen  Oost-Vlaanderen   \n18  00100441       Gent                       Drongen  Oost-Vlaanderen   \n19  00100821  Erpe-Mere                          Erpe  Oost-Vlaanderen   \n38  23000221      Halle                         Halle   Vlaams Brabant   \n\n        gewest                                    brugnaam  \\\n1   Vlaanderen                      Brug 2 - Sterckshoflei   \n2   Vlaanderen                    Brug 1 - Cornelissenlaan   \n12  Vlaanderen         Goedingebrug / Brug 12 over de Leie   \n13  Vlaanderen  Brug LXXIV over de A10 aan op- en afrit 13   \n14  Vlaanderen                      Slingerviaduct IJ-West   \n15  Vlaanderen                      Slingerviaduct MN-Oost   \n16  Vlaanderen                         Brug XC over de E40   \n17  Vlaanderen                   Brug LXXV - Solvijnsdreef   \n18  Vlaanderen                      Brug LXXIII in Drongen   \n19  Vlaanderen     Brug 30 in de A10 over de spoorlijn 50A   \n38  Vlaanderen                                Bospoortbrug   \n\n                                             probleem      oorzaak  \\\n1                Jaarlijkse opvolging en waterpassing    technisch   \n2   3-maandelijke inspectie, 6-maandelijkse waterp...    technisch   \n12                              Moet vernieuwd worden     onbekend   \n13                Wordt vernieuwd met complex Drongen  groter plan   \n14                              Moet vernieuwd worden     onbekend   \n15                              Moet vernieuwd worden     onbekend   \n16                                   Wordt afgebroken     onbekend   \n17                Wordt vernieuwd met complex Drongen  groter plan   \n18                Wordt vernieuwd met complex Drongen  groter plan   \n19                              Moet vernieuwd worden     onbekend   \n38                        Wordt op termijn afgebroken     onbekend   \n\n   werken_gepland start_werken  ...        beelden         beheerder  \\\n1              Ja         2021  ...            NaN               AWV   \n2              Ja         2022  ...            NaN               AWV   \n12            Nee     onbekend  ...  Foto en video               AWV   \n13             Ja         2021  ...            Nee               AWV   \n14             Ja         2023  ...            Nee               AWV   \n15             Ja         2024  ...            Nee               AWV   \n16            Nee     onbekend  ...  Foto en video               AWV   \n17             Ja         2021  ...  Foto en video               AWV   \n18             Ja         2021  ...  Foto en video               AWV   \n19             Ja         2022  ...            Nee               AWV   \n38            Nee     onbekend  ...            NaN  Vlaamse Waterweg   \n\n      beheer toestandcode                            LPK prev_year last_year  \\\n1   volledig   Toestand 4  2e prioriteit - te vernieuwen      2014      2017   \n2   volledig   Toestand 4  1e prioriteit - te vernieuwen      2016      2019   \n12  volledig   Toestand 4  1e prioriteit - te vernieuwen      2013      2016   \n13  volledig   Toestand 4  2e prioriteit - te vernieuwen      2017      2020   \n14  volledig   Toestand 4  2e prioriteit - te herstellen      2014      2017   \n15  volledig   Toestand 4  2e prioriteit - te herstellen      2014      2017   \n16  volledig   Toestand 4  1e prioriteit - te vernieuwen       201      2018   \n17  volledig   Toestand 4  2e prioriteit - te vernieuwen      2016      2019   \n18  volledig   Toestand 4  2e prioriteit - te vernieuwen      2016      2019   \n19  volledig   Toestand 4  1e prioriteit - te vernieuwen      2014      2017   \n38  volledig   Toestand 4  1e prioriteit - te vernieuwen      2016      2019   \n\n   difference hoogproblematisch lijst_sinds  \n1           3                ja        2003  \n2           3                ja        2003  \n12          3                ja        1997  \n13          3                ja        1997  \n14          3                ja        1997  \n15          3                ja        1997  \n16          8                ja        1999  \n17          3                ja        2001  \n18          3                ja        2001  \n19          3                ja        2003  \n38          3                ja        2001  \n\n[11 rows x 22 columns]",
      "text/html": "<div>\n<style scoped>\n    .dataframe tbody tr th:only-of-type {\n        vertical-align: middle;\n    }\n\n    .dataframe tbody tr th {\n        vertical-align: top;\n    }\n\n    .dataframe thead th {\n        text-align: right;\n    }\n</style>\n<table border=\"1\" class=\"dataframe\">\n  <thead>\n    <tr style=\"text-align: right;\">\n      <th></th>\n      <th>idnr</th>\n      <th>gemeente</th>\n      <th>(deelgemeente)</th>\n      <th>provincie</th>\n      <th>gewest</th>\n      <th>brugnaam</th>\n      <th>probleem</th>\n      <th>oorzaak</th>\n      <th>werken_gepland</th>\n      <th>start_werken</th>\n      <th>...</th>\n      <th>beelden</th>\n      <th>beheerder</th>\n      <th>beheer</th>\n      <th>toestandcode</th>\n      <th>LPK</th>\n      <th>prev_year</th>\n      <th>last_year</th>\n      <th>difference</th>\n      <th>hoogproblematisch</th>\n      <th>lijst_sinds</th>\n    </tr>\n  </thead>\n  <tbody>\n    <tr>\n      <th>1</th>\n      <td>00130041</td>\n      <td>Deurne</td>\n      <td>Deurne</td>\n      <td>Antwerpen</td>\n      <td>Vlaanderen</td>\n      <td>Brug 2 - Sterckshoflei</td>\n      <td>Jaarlijkse opvolging en waterpassing</td>\n      <td>technisch</td>\n      <td>Ja</td>\n      <td>2021</td>\n      <td>...</td>\n      <td>NaN</td>\n      <td>AWV</td>\n      <td>volledig</td>\n      <td>Toestand 4</td>\n      <td>2e prioriteit - te vernieuwen</td>\n      <td>2014</td>\n      <td>2017</td>\n      <td>3</td>\n      <td>ja</td>\n      <td>2003</td>\n    </tr>\n    <tr>\n      <th>2</th>\n      <td>00130031</td>\n      <td>Deurne</td>\n      <td>Deurne</td>\n      <td>Antwerpen</td>\n      <td>Vlaanderen</td>\n      <td>Brug 1 - Cornelissenlaan</td>\n      <td>3-maandelijke inspectie, 6-maandelijkse waterp...</td>\n      <td>technisch</td>\n      <td>Ja</td>\n      <td>2022</td>\n      <td>...</td>\n      <td>NaN</td>\n      <td>AWV</td>\n      <td>volledig</td>\n      <td>Toestand 4</td>\n      <td>1e prioriteit - te vernieuwen</td>\n      <td>2016</td>\n      <td>2019</td>\n      <td>3</td>\n      <td>ja</td>\n      <td>2003</td>\n    </tr>\n    <tr>\n      <th>12</th>\n      <td>00100471</td>\n      <td>Gent</td>\n      <td>Sint-Denijs-Westrem - Afsnee</td>\n      <td>Oost-Vlaanderen</td>\n      <td>Vlaanderen</td>\n      <td>Goedingebrug / Brug 12 over de Leie</td>\n      <td>Moet vernieuwd worden</td>\n      <td>onbekend</td>\n      <td>Nee</td>\n      <td>onbekend</td>\n      <td>...</td>\n      <td>Foto en video</td>\n      <td>AWV</td>\n      <td>volledig</td>\n      <td>Toestand 4</td>\n      <td>1e prioriteit - te vernieuwen</td>\n      <td>2013</td>\n      <td>2016</td>\n      <td>3</td>\n      <td>ja</td>\n      <td>1997</td>\n    </tr>\n    <tr>\n      <th>13</th>\n      <td>00100451</td>\n      <td>Gent</td>\n      <td>Drongen</td>\n      <td>Oost-Vlaanderen</td>\n      <td>Vlaanderen</td>\n      <td>Brug LXXIV over de A10 aan op- en afrit 13</td>\n      <td>Wordt vernieuwd met complex Drongen</td>\n      <td>groter plan</td>\n      <td>Ja</td>\n      <td>2021</td>\n      <td>...</td>\n      <td>Nee</td>\n      <td>AWV</td>\n      <td>volledig</td>\n      <td>Toestand 4</td>\n      <td>2e prioriteit - te vernieuwen</td>\n      <td>2017</td>\n      <td>2020</td>\n      <td>3</td>\n      <td>ja</td>\n      <td>1997</td>\n    </tr>\n    <tr>\n      <th>14</th>\n      <td>00100551</td>\n      <td>Gent</td>\n      <td>Zwijnaarde</td>\n      <td>Oost-Vlaanderen</td>\n      <td>Vlaanderen</td>\n      <td>Slingerviaduct IJ-West</td>\n      <td>Moet vernieuwd worden</td>\n      <td>onbekend</td>\n      <td>Ja</td>\n      <td>2023</td>\n      <td>...</td>\n      <td>Nee</td>\n      <td>AWV</td>\n      <td>volledig</td>\n      <td>Toestand 4</td>\n      <td>2e prioriteit - te herstellen</td>\n      <td>2014</td>\n      <td>2017</td>\n      <td>3</td>\n      <td>ja</td>\n      <td>1997</td>\n    </tr>\n    <tr>\n      <th>15</th>\n      <td>00100561</td>\n      <td>Gent</td>\n      <td>Zwijnaarde</td>\n      <td>Oost-Vlaanderen</td>\n      <td>Vlaanderen</td>\n      <td>Slingerviaduct MN-Oost</td>\n      <td>Moet vernieuwd worden</td>\n      <td>onbekend</td>\n      <td>Ja</td>\n      <td>2024</td>\n      <td>...</td>\n      <td>Nee</td>\n      <td>AWV</td>\n      <td>volledig</td>\n      <td>Toestand 4</td>\n      <td>2e prioriteit - te herstellen</td>\n      <td>2014</td>\n      <td>2017</td>\n      <td>3</td>\n      <td>ja</td>\n      <td>1997</td>\n    </tr>\n    <tr>\n      <th>16</th>\n      <td>00100681</td>\n      <td>Wetteren</td>\n      <td>Westrem</td>\n      <td>Oost-Vlaanderen</td>\n      <td>Vlaanderen</td>\n      <td>Brug XC over de E40</td>\n      <td>Wordt afgebroken</td>\n      <td>onbekend</td>\n      <td>Nee</td>\n      <td>onbekend</td>\n      <td>...</td>\n      <td>Foto en video</td>\n      <td>AWV</td>\n      <td>volledig</td>\n      <td>Toestand 4</td>\n      <td>1e prioriteit - te vernieuwen</td>\n      <td>201</td>\n      <td>2018</td>\n      <td>8</td>\n      <td>ja</td>\n      <td>1999</td>\n    </tr>\n    <tr>\n      <th>17</th>\n      <td>00100461</td>\n      <td>Gent</td>\n      <td>Drongen</td>\n      <td>Oost-Vlaanderen</td>\n      <td>Vlaanderen</td>\n      <td>Brug LXXV - Solvijnsdreef</td>\n      <td>Wordt vernieuwd met complex Drongen</td>\n      <td>groter plan</td>\n      <td>Ja</td>\n      <td>2021</td>\n      <td>...</td>\n      <td>Foto en video</td>\n      <td>AWV</td>\n      <td>volledig</td>\n      <td>Toestand 4</td>\n      <td>2e prioriteit - te vernieuwen</td>\n      <td>2016</td>\n      <td>2019</td>\n      <td>3</td>\n      <td>ja</td>\n      <td>2001</td>\n    </tr>\n    <tr>\n      <th>18</th>\n      <td>00100441</td>\n      <td>Gent</td>\n      <td>Drongen</td>\n      <td>Oost-Vlaanderen</td>\n      <td>Vlaanderen</td>\n      <td>Brug LXXIII in Drongen</td>\n      <td>Wordt vernieuwd met complex Drongen</td>\n      <td>groter plan</td>\n      <td>Ja</td>\n      <td>2021</td>\n      <td>...</td>\n      <td>Foto en video</td>\n      <td>AWV</td>\n      <td>volledig</td>\n      <td>Toestand 4</td>\n      <td>2e prioriteit - te vernieuwen</td>\n      <td>2016</td>\n      <td>2019</td>\n      <td>3</td>\n      <td>ja</td>\n      <td>2001</td>\n    </tr>\n    <tr>\n      <th>19</th>\n      <td>00100821</td>\n      <td>Erpe-Mere</td>\n      <td>Erpe</td>\n      <td>Oost-Vlaanderen</td>\n      <td>Vlaanderen</td>\n      <td>Brug 30 in de A10 over de spoorlijn 50A</td>\n      <td>Moet vernieuwd worden</td>\n      <td>onbekend</td>\n      <td>Ja</td>\n      <td>2022</td>\n      <td>...</td>\n      <td>Nee</td>\n      <td>AWV</td>\n      <td>volledig</td>\n      <td>Toestand 4</td>\n      <td>1e prioriteit - te vernieuwen</td>\n      <td>2014</td>\n      <td>2017</td>\n      <td>3</td>\n      <td>ja</td>\n      <td>2003</td>\n    </tr>\n    <tr>\n      <th>38</th>\n      <td>23000221</td>\n      <td>Halle</td>\n      <td>Halle</td>\n      <td>Vlaams Brabant</td>\n      <td>Vlaanderen</td>\n      <td>Bospoortbrug</td>\n      <td>Wordt op termijn afgebroken</td>\n      <td>onbekend</td>\n      <td>Nee</td>\n      <td>onbekend</td>\n      <td>...</td>\n      <td>NaN</td>\n      <td>Vlaamse Waterweg</td>\n      <td>volledig</td>\n      <td>Toestand 4</td>\n      <td>1e prioriteit - te vernieuwen</td>\n      <td>2016</td>\n      <td>2019</td>\n      <td>3</td>\n      <td>ja</td>\n      <td>2001</td>\n    </tr>\n  </tbody>\n</table>\n<p>11 rows × 22 columns</p>\n</div>"
     },
     "metadata": {},
     "execution_count": 514
    }
   ],
   "source": [
    "vlaams[vlaams.lijst_sinds < 2005]"
   ]
  },
  {
   "cell_type": "code",
   "execution_count": 515,
   "metadata": {},
   "outputs": [
    {
     "output_type": "execute_result",
     "data": {
      "text/plain": "21"
     },
     "metadata": {},
     "execution_count": 515
    }
   ],
   "source": [
    "len(vlaams[vlaams.lijst_sinds < 2015])"
   ]
  },
  {
   "cell_type": "code",
   "execution_count": 516,
   "metadata": {},
   "outputs": [
    {
     "output_type": "execute_result",
     "data": {
      "text/plain": "Gent        4\nWetteren    1\nName: gemeente, dtype: int64"
     },
     "metadata": {},
     "execution_count": 516
    }
   ],
   "source": [
    "vlaams[vlaams.lijst_sinds < 2000].gemeente.value_counts()"
   ]
  },
  {
   "cell_type": "code",
   "execution_count": 517,
   "metadata": {},
   "outputs": [
    {
     "output_type": "execute_result",
     "data": {
      "text/plain": "Gent         6\nDeurne       2\nWetteren     1\nHalle        1\nErpe-Mere    1\nName: gemeente, dtype: int64"
     },
     "metadata": {},
     "execution_count": 517
    }
   ],
   "source": [
    "vlaams[vlaams.lijst_sinds < 2005].gemeente.value_counts()"
   ]
  },
  {
   "cell_type": "code",
   "execution_count": 518,
   "metadata": {},
   "outputs": [
    {
     "output_type": "execute_result",
     "data": {
      "text/plain": "Gent         9\nKortrijk     2\nZaventem     2\nDeurne       2\nWommelgem    1\nWaregem      1\nErpe-Mere    1\nWetteren     1\nHalle        1\nArendonk     1\nName: gemeente, dtype: int64"
     },
     "metadata": {},
     "execution_count": 518
    }
   ],
   "source": [
    "vlaams[vlaams.lijst_sinds < 2015].gemeente.value_counts()"
   ]
  },
  {
   "cell_type": "markdown",
   "metadata": {},
   "source": [
    "Er zijn 5 bruggen die al langer dan 20 jaar op de lijst staan, 21 bruggen die al langer dan 5 jaar op de lijst staan. Die lijst wordt telkens aangevoerd voor Gent. Van de vijf bruggen die al langer dan 20 jaar op de lijst staan, komen er 4 uit Gent, één uit Wetteren. Opvallend: de brug uit Wetteren is in 2018 voor het laatst gecontroleerd, de keer daarvoor was in 2010. Terwijl de brug er dus al meer dan 20 jaar op staat. Dat is een ander interessant gegeven: hoe vaak worden deze bruggen, die toch in kritieke toestand zijn, gecontroleerd? "
   ]
  },
  {
   "cell_type": "code",
   "execution_count": 523,
   "metadata": {},
   "outputs": [
    {
     "output_type": "execute_result",
     "data": {
      "text/plain": "3    29\n6     4\n4     4\n8     2\n5     2\n1     1\nName: difference, dtype: int64"
     },
     "metadata": {},
     "execution_count": 523
    }
   ],
   "source": [
    "vlaams.difference.value_counts()"
   ]
  },
  {
   "cell_type": "code",
   "execution_count": 525,
   "metadata": {},
   "outputs": [
    {
     "output_type": "execute_result",
     "data": {
      "text/plain": "        idnr    gemeente     (deelgemeente)        provincie      gewest  \\\n7   00040201    Overijse           Overijse   Vlaams Brabant  Vlaanderen   \n10  00120046  Grimbergen  Strombeek - Bever   Vlaams Brabant  Vlaanderen   \n11  00120047  Grimbergen  Strombeek - Bever   Vlaams Brabant  Vlaanderen   \n28  25200462       Aalst                NaN  Oost-Vlaanderen  Vlaanderen   \n\n                       brugnaam                     probleem      oorzaak  \\\n7   Brug O9 over de Bredestraat            Werken zijn bezig     onbekend   \n10                     BRUG-W20                  Doorbuiging  doorbuiging   \n11      BRUG-W21-IN-A12-OVER-R0                  Doorbuiging  doorbuiging   \n28                SINT-ANNABRUG  Uitvoering voorzien in 2020     onbekend   \n\n   werken_gepland start_werken  ... beelden         beheerder    beheer  \\\n7              Ja         2020  ...     NaN               AWV  volledig   \n10            Nee     onbekend  ...     NaN               AWV  volledig   \n11            Nee     onbekend  ...     NaN               AWV  volledig   \n28             Ja         2020  ...     NaN  Vlaamse Waterweg  volledig   \n\n   toestandcode                            LPK prev_year last_year difference  \\\n7    Toestand 4  1e prioriteit - te vernieuwen      2012      2018          6   \n10   Toestand 4  1e prioriteit - te vernieuwen      2012      2018          6   \n11   Toestand 4  1e prioriteit - te vernieuwen      2012      2018          6   \n28   Toestand 4  1e prioriteit - te herstellen      2011      2017          6   \n\n   hoogproblematisch lijst_sinds  \n7                 ja        2016  \n10                ja        2019  \n11                ja        2019  \n28                ja        2018  \n\n[4 rows x 22 columns]",
      "text/html": "<div>\n<style scoped>\n    .dataframe tbody tr th:only-of-type {\n        vertical-align: middle;\n    }\n\n    .dataframe tbody tr th {\n        vertical-align: top;\n    }\n\n    .dataframe thead th {\n        text-align: right;\n    }\n</style>\n<table border=\"1\" class=\"dataframe\">\n  <thead>\n    <tr style=\"text-align: right;\">\n      <th></th>\n      <th>idnr</th>\n      <th>gemeente</th>\n      <th>(deelgemeente)</th>\n      <th>provincie</th>\n      <th>gewest</th>\n      <th>brugnaam</th>\n      <th>probleem</th>\n      <th>oorzaak</th>\n      <th>werken_gepland</th>\n      <th>start_werken</th>\n      <th>...</th>\n      <th>beelden</th>\n      <th>beheerder</th>\n      <th>beheer</th>\n      <th>toestandcode</th>\n      <th>LPK</th>\n      <th>prev_year</th>\n      <th>last_year</th>\n      <th>difference</th>\n      <th>hoogproblematisch</th>\n      <th>lijst_sinds</th>\n    </tr>\n  </thead>\n  <tbody>\n    <tr>\n      <th>7</th>\n      <td>00040201</td>\n      <td>Overijse</td>\n      <td>Overijse</td>\n      <td>Vlaams Brabant</td>\n      <td>Vlaanderen</td>\n      <td>Brug O9 over de Bredestraat</td>\n      <td>Werken zijn bezig</td>\n      <td>onbekend</td>\n      <td>Ja</td>\n      <td>2020</td>\n      <td>...</td>\n      <td>NaN</td>\n      <td>AWV</td>\n      <td>volledig</td>\n      <td>Toestand 4</td>\n      <td>1e prioriteit - te vernieuwen</td>\n      <td>2012</td>\n      <td>2018</td>\n      <td>6</td>\n      <td>ja</td>\n      <td>2016</td>\n    </tr>\n    <tr>\n      <th>10</th>\n      <td>00120046</td>\n      <td>Grimbergen</td>\n      <td>Strombeek - Bever</td>\n      <td>Vlaams Brabant</td>\n      <td>Vlaanderen</td>\n      <td>BRUG-W20</td>\n      <td>Doorbuiging</td>\n      <td>doorbuiging</td>\n      <td>Nee</td>\n      <td>onbekend</td>\n      <td>...</td>\n      <td>NaN</td>\n      <td>AWV</td>\n      <td>volledig</td>\n      <td>Toestand 4</td>\n      <td>1e prioriteit - te vernieuwen</td>\n      <td>2012</td>\n      <td>2018</td>\n      <td>6</td>\n      <td>ja</td>\n      <td>2019</td>\n    </tr>\n    <tr>\n      <th>11</th>\n      <td>00120047</td>\n      <td>Grimbergen</td>\n      <td>Strombeek - Bever</td>\n      <td>Vlaams Brabant</td>\n      <td>Vlaanderen</td>\n      <td>BRUG-W21-IN-A12-OVER-R0</td>\n      <td>Doorbuiging</td>\n      <td>doorbuiging</td>\n      <td>Nee</td>\n      <td>onbekend</td>\n      <td>...</td>\n      <td>NaN</td>\n      <td>AWV</td>\n      <td>volledig</td>\n      <td>Toestand 4</td>\n      <td>1e prioriteit - te vernieuwen</td>\n      <td>2012</td>\n      <td>2018</td>\n      <td>6</td>\n      <td>ja</td>\n      <td>2019</td>\n    </tr>\n    <tr>\n      <th>28</th>\n      <td>25200462</td>\n      <td>Aalst</td>\n      <td>NaN</td>\n      <td>Oost-Vlaanderen</td>\n      <td>Vlaanderen</td>\n      <td>SINT-ANNABRUG</td>\n      <td>Uitvoering voorzien in 2020</td>\n      <td>onbekend</td>\n      <td>Ja</td>\n      <td>2020</td>\n      <td>...</td>\n      <td>NaN</td>\n      <td>Vlaamse Waterweg</td>\n      <td>volledig</td>\n      <td>Toestand 4</td>\n      <td>1e prioriteit - te herstellen</td>\n      <td>2011</td>\n      <td>2017</td>\n      <td>6</td>\n      <td>ja</td>\n      <td>2018</td>\n    </tr>\n  </tbody>\n</table>\n<p>4 rows × 22 columns</p>\n</div>"
     },
     "metadata": {},
     "execution_count": 525
    }
   ],
   "source": [
    "vlaams[vlaams.difference == '6']"
   ]
  },
  {
   "cell_type": "code",
   "execution_count": 526,
   "metadata": {},
   "outputs": [
    {
     "output_type": "execute_result",
     "data": {
      "text/plain": "        idnr  gemeente (deelgemeente)        provincie      gewest  \\\n16  00100681  Wetteren        Westrem  Oost-Vlaanderen  Vlaanderen   \n20  00140681      Gent     Gentbrugge  Oost-Vlaanderen  Vlaanderen   \n\n                                 brugnaam              probleem   oorzaak  \\\n16                    Brug XC over de E40      Wordt afgebroken  onbekend   \n20  Viaduct van Gentbrugge 80/O in de A14  Vallende brokstukken  brokkelt   \n\n   werken_gepland start_werken  ...        beelden beheerder    beheer  \\\n16            Nee     onbekend  ...  Foto en video       AWV  volledig   \n20             Ja         2020  ...  Foto en video       AWV  volledig   \n\n   toestandcode                            LPK prev_year last_year difference  \\\n16   Toestand 4  1e prioriteit - te vernieuwen      2010      2018          8   \n20   Toestand 4  2e prioriteit - te herstellen      2011      2019          8   \n\n   hoogproblematisch lijst_sinds  \n16                ja        1999  \n20                ja        2009  \n\n[2 rows x 22 columns]",
      "text/html": "<div>\n<style scoped>\n    .dataframe tbody tr th:only-of-type {\n        vertical-align: middle;\n    }\n\n    .dataframe tbody tr th {\n        vertical-align: top;\n    }\n\n    .dataframe thead th {\n        text-align: right;\n    }\n</style>\n<table border=\"1\" class=\"dataframe\">\n  <thead>\n    <tr style=\"text-align: right;\">\n      <th></th>\n      <th>idnr</th>\n      <th>gemeente</th>\n      <th>(deelgemeente)</th>\n      <th>provincie</th>\n      <th>gewest</th>\n      <th>brugnaam</th>\n      <th>probleem</th>\n      <th>oorzaak</th>\n      <th>werken_gepland</th>\n      <th>start_werken</th>\n      <th>...</th>\n      <th>beelden</th>\n      <th>beheerder</th>\n      <th>beheer</th>\n      <th>toestandcode</th>\n      <th>LPK</th>\n      <th>prev_year</th>\n      <th>last_year</th>\n      <th>difference</th>\n      <th>hoogproblematisch</th>\n      <th>lijst_sinds</th>\n    </tr>\n  </thead>\n  <tbody>\n    <tr>\n      <th>16</th>\n      <td>00100681</td>\n      <td>Wetteren</td>\n      <td>Westrem</td>\n      <td>Oost-Vlaanderen</td>\n      <td>Vlaanderen</td>\n      <td>Brug XC over de E40</td>\n      <td>Wordt afgebroken</td>\n      <td>onbekend</td>\n      <td>Nee</td>\n      <td>onbekend</td>\n      <td>...</td>\n      <td>Foto en video</td>\n      <td>AWV</td>\n      <td>volledig</td>\n      <td>Toestand 4</td>\n      <td>1e prioriteit - te vernieuwen</td>\n      <td>2010</td>\n      <td>2018</td>\n      <td>8</td>\n      <td>ja</td>\n      <td>1999</td>\n    </tr>\n    <tr>\n      <th>20</th>\n      <td>00140681</td>\n      <td>Gent</td>\n      <td>Gentbrugge</td>\n      <td>Oost-Vlaanderen</td>\n      <td>Vlaanderen</td>\n      <td>Viaduct van Gentbrugge 80/O in de A14</td>\n      <td>Vallende brokstukken</td>\n      <td>brokkelt</td>\n      <td>Ja</td>\n      <td>2020</td>\n      <td>...</td>\n      <td>Foto en video</td>\n      <td>AWV</td>\n      <td>volledig</td>\n      <td>Toestand 4</td>\n      <td>2e prioriteit - te herstellen</td>\n      <td>2011</td>\n      <td>2019</td>\n      <td>8</td>\n      <td>ja</td>\n      <td>2009</td>\n    </tr>\n  </tbody>\n</table>\n<p>2 rows × 22 columns</p>\n</div>"
     },
     "metadata": {},
     "execution_count": 526
    }
   ],
   "source": [
    "vlaams[vlaams.difference == '8']"
   ]
  },
  {
   "cell_type": "markdown",
   "metadata": {},
   "source": [
    "Naast de brug in Wetteren is dus ook de brug in Gentbrugge, die nu onder handen wordt genomen, er één waar 8 jaar over gedaan is om die te controleren, hoewel die al sinds 2009 op de lijst staat. Ook opvallend: er staan een aantal bruggen pas vrij recent op de lijst (2018, 2019) maar daar duurde het zes jaar tussen de voorlaatste en de laatste controle. Ander opvallend punt: bij twee van deze bruggen zijn nog altijd geen werken gepland, namelijk de bruggen in Grimbergen. Het heeft dus lang geduurd voor ze gecontroleerd werden, daarna zijn ze op de lijst gekomen, maar er is nog altijd geen datum gepland om ze te renoveren. Zeker opvallend omdat ze allemaal eerste prioriteit te vernieuwen zijn."
   ]
  },
  {
   "cell_type": "markdown",
   "metadata": {},
   "source": [
    "## Hoe vaak worden de bruggen in het Vlaams gewest überhaupt gecontroleerd?\n",
    "Hiervoor wil ik naar de hele datset voor het Vlaams gewest, dus ook voor de bruggen die nog in goede staat zouden verkeren. Het is namelijk interessant om na te gaan of er een dusdanige achterstand in de controles is, waardoor ook bruggen die nu een toestand '1' hebben, misschien al in slechtere staat verkeren."
   ]
  },
  {
   "cell_type": "code",
   "execution_count": 10,
   "metadata": {},
   "outputs": [],
   "source": [
    "df.last_year = df.last_year.replace('202', '2020')"
   ]
  },
  {
   "cell_type": "code",
   "execution_count": 11,
   "metadata": {},
   "outputs": [],
   "source": [
    "df.difference = df.difference.replace('202', '2020')"
   ]
  },
  {
   "cell_type": "code",
   "execution_count": 12,
   "metadata": {},
   "outputs": [],
   "source": [
    "df.prev_year = df.prev_year.replace('201', '2010')"
   ]
  },
  {
   "cell_type": "code",
   "execution_count": 532,
   "metadata": {},
   "outputs": [
    {
     "output_type": "execute_result",
     "data": {
      "text/plain": "3       1633\n4        483\n5        271\nnan      141\n6         54\n2         52\n2018      25\n2019      23\n2017      14\n2015      12\n7         10\n2016       8\n1          8\n9          4\n8          3\n2020       3\n15         1\n2011       1\n2014       1\n2012       1\nName: difference, dtype: int64"
     },
     "metadata": {},
     "execution_count": 532
    }
   ],
   "source": [
    "df.difference.value_counts()"
   ]
  },
  {
   "cell_type": "markdown",
   "metadata": {},
   "source": [
    "De meeste bruggen worden om de drie jaar gecontroleerd, maar niet allemaal. NB: bruggen met een difference > 2000 zijn nooit eerder gecontroleerd geweest. Het is interessant om te zien in welke staat die bruggen verkeren. Er zijn ook veel bruggen die om 4 of 5 jaar gecontroleerd worden. Opvallend: bruggen die maar met tussenpozen van elke 7 jaar of langer gecontroleerd worden."
   ]
  },
  {
   "cell_type": "code",
   "execution_count": 534,
   "metadata": {},
   "outputs": [
    {
     "output_type": "execute_result",
     "data": {
      "text/plain": "         idnr      gemeente        (deelgemeente) provincie      gewest  \\\n921  22300221  Maasmechelen  Mechelen-Aan-De-Maas   Limburg  Vlaanderen   \n\n                                    brugnaam probleem oorzaak werken_gepland  \\\n921  BRUG-MAASMECHELEN-AAN-DOKTER-HAUBENLAAN      NaN     NaN            NaN   \n\n    start_werken  ... beelden beheerder     beheer toestandcode  LPK  \\\n921          NaN  ...     NaN   AWV/VWW  bovenbouw   Toestand 3  NaN   \n\n    prev_year last_year difference hoogproblematisch lijst_sinds  \n921      2002      2017         15                ja         nan  \n\n[1 rows x 22 columns]",
      "text/html": "<div>\n<style scoped>\n    .dataframe tbody tr th:only-of-type {\n        vertical-align: middle;\n    }\n\n    .dataframe tbody tr th {\n        vertical-align: top;\n    }\n\n    .dataframe thead th {\n        text-align: right;\n    }\n</style>\n<table border=\"1\" class=\"dataframe\">\n  <thead>\n    <tr style=\"text-align: right;\">\n      <th></th>\n      <th>idnr</th>\n      <th>gemeente</th>\n      <th>(deelgemeente)</th>\n      <th>provincie</th>\n      <th>gewest</th>\n      <th>brugnaam</th>\n      <th>probleem</th>\n      <th>oorzaak</th>\n      <th>werken_gepland</th>\n      <th>start_werken</th>\n      <th>...</th>\n      <th>beelden</th>\n      <th>beheerder</th>\n      <th>beheer</th>\n      <th>toestandcode</th>\n      <th>LPK</th>\n      <th>prev_year</th>\n      <th>last_year</th>\n      <th>difference</th>\n      <th>hoogproblematisch</th>\n      <th>lijst_sinds</th>\n    </tr>\n  </thead>\n  <tbody>\n    <tr>\n      <th>921</th>\n      <td>22300221</td>\n      <td>Maasmechelen</td>\n      <td>Mechelen-Aan-De-Maas</td>\n      <td>Limburg</td>\n      <td>Vlaanderen</td>\n      <td>BRUG-MAASMECHELEN-AAN-DOKTER-HAUBENLAAN</td>\n      <td>NaN</td>\n      <td>NaN</td>\n      <td>NaN</td>\n      <td>NaN</td>\n      <td>...</td>\n      <td>NaN</td>\n      <td>AWV/VWW</td>\n      <td>bovenbouw</td>\n      <td>Toestand 3</td>\n      <td>NaN</td>\n      <td>2002</td>\n      <td>2017</td>\n      <td>15</td>\n      <td>ja</td>\n      <td>nan</td>\n    </tr>\n  </tbody>\n</table>\n<p>1 rows × 22 columns</p>\n</div>"
     },
     "metadata": {},
     "execution_count": 534
    }
   ],
   "source": [
    "df[df.difference == '15']"
   ]
  },
  {
   "cell_type": "code",
   "execution_count": 541,
   "metadata": {},
   "outputs": [
    {
     "output_type": "execute_result",
     "data": {
      "text/plain": "Toestand t    17\nToestand 3     5\nToestand 1     4\nToestand 2     3\nToestand 4     2\nName: toestandcode, dtype: int64"
     },
     "metadata": {},
     "execution_count": 541
    }
   ],
   "source": [
    "df[df.difference > '6'].toestandcode.value_counts()"
   ]
  },
  {
   "cell_type": "code",
   "execution_count": 543,
   "metadata": {},
   "outputs": [
    {
     "output_type": "execute_result",
     "data": {
      "text/plain": "          idnr  gemeente      (deelgemeente)        provincie      gewest  \\\n1506  00141011     Temse                 NaN  Oost-Vlaanderen  Vlaanderen   \n1806  00040141  Overijse            Overijse   Vlaams Brabant  Vlaanderen   \n1820  00101091   Dilbeek  Groot - Bijgaarden   Vlaams Brabant  Vlaanderen   \n1879  90030091    Tienen                 NaN   Vlaams Brabant  Vlaanderen   \n2375  25400162    Brugge                 NaN  West-Vlaanderen  Vlaanderen   \n\n                    brugnaam probleem oorzaak werken_gepland start_werken  \\\n1506  BRUG-4-LANDMOLENSTRAAT      NaN     NaN            NaN          NaN   \n1806   Brug O2 Esdoornenlaan      NaN     NaN            NaN          NaN   \n1820               BRUG-CXXI      NaN     NaN            NaN          NaN   \n1879        GETE-OVERWELVING      NaN     NaN            NaN          NaN   \n2375      KATELIJNEPOORTBRUG      NaN     NaN            NaN          NaN   \n\n      ... beelden beheerder    beheer toestandcode  LPK prev_year last_year  \\\n1506  ...     NaN       AWV  volledig   Toestand 3  NaN      2011      2018   \n1806  ...     NaN       AWV  volledig   Toestand 3  NaN      2011      2018   \n1820  ...     NaN       AWV  volledig   Toestand 3  NaN      2011      2018   \n1879  ...     NaN       AWV  volledig   Toestand 3  NaN      2011      2018   \n2375  ...     NaN       AWV  volledig   Toestand 3  NaN      2017      2017   \n\n     difference hoogproblematisch lijst_sinds  \n1506          7                ja         nan  \n1806          7                ja         nan  \n1820          7                ja         nan  \n1879          7                ja         nan  \n2375        nan                ja         nan  \n\n[5 rows x 22 columns]",
      "text/html": "<div>\n<style scoped>\n    .dataframe tbody tr th:only-of-type {\n        vertical-align: middle;\n    }\n\n    .dataframe tbody tr th {\n        vertical-align: top;\n    }\n\n    .dataframe thead th {\n        text-align: right;\n    }\n</style>\n<table border=\"1\" class=\"dataframe\">\n  <thead>\n    <tr style=\"text-align: right;\">\n      <th></th>\n      <th>idnr</th>\n      <th>gemeente</th>\n      <th>(deelgemeente)</th>\n      <th>provincie</th>\n      <th>gewest</th>\n      <th>brugnaam</th>\n      <th>probleem</th>\n      <th>oorzaak</th>\n      <th>werken_gepland</th>\n      <th>start_werken</th>\n      <th>...</th>\n      <th>beelden</th>\n      <th>beheerder</th>\n      <th>beheer</th>\n      <th>toestandcode</th>\n      <th>LPK</th>\n      <th>prev_year</th>\n      <th>last_year</th>\n      <th>difference</th>\n      <th>hoogproblematisch</th>\n      <th>lijst_sinds</th>\n    </tr>\n  </thead>\n  <tbody>\n    <tr>\n      <th>1506</th>\n      <td>00141011</td>\n      <td>Temse</td>\n      <td>NaN</td>\n      <td>Oost-Vlaanderen</td>\n      <td>Vlaanderen</td>\n      <td>BRUG-4-LANDMOLENSTRAAT</td>\n      <td>NaN</td>\n      <td>NaN</td>\n      <td>NaN</td>\n      <td>NaN</td>\n      <td>...</td>\n      <td>NaN</td>\n      <td>AWV</td>\n      <td>volledig</td>\n      <td>Toestand 3</td>\n      <td>NaN</td>\n      <td>2011</td>\n      <td>2018</td>\n      <td>7</td>\n      <td>ja</td>\n      <td>nan</td>\n    </tr>\n    <tr>\n      <th>1806</th>\n      <td>00040141</td>\n      <td>Overijse</td>\n      <td>Overijse</td>\n      <td>Vlaams Brabant</td>\n      <td>Vlaanderen</td>\n      <td>Brug O2 Esdoornenlaan</td>\n      <td>NaN</td>\n      <td>NaN</td>\n      <td>NaN</td>\n      <td>NaN</td>\n      <td>...</td>\n      <td>NaN</td>\n      <td>AWV</td>\n      <td>volledig</td>\n      <td>Toestand 3</td>\n      <td>NaN</td>\n      <td>2011</td>\n      <td>2018</td>\n      <td>7</td>\n      <td>ja</td>\n      <td>nan</td>\n    </tr>\n    <tr>\n      <th>1820</th>\n      <td>00101091</td>\n      <td>Dilbeek</td>\n      <td>Groot - Bijgaarden</td>\n      <td>Vlaams Brabant</td>\n      <td>Vlaanderen</td>\n      <td>BRUG-CXXI</td>\n      <td>NaN</td>\n      <td>NaN</td>\n      <td>NaN</td>\n      <td>NaN</td>\n      <td>...</td>\n      <td>NaN</td>\n      <td>AWV</td>\n      <td>volledig</td>\n      <td>Toestand 3</td>\n      <td>NaN</td>\n      <td>2011</td>\n      <td>2018</td>\n      <td>7</td>\n      <td>ja</td>\n      <td>nan</td>\n    </tr>\n    <tr>\n      <th>1879</th>\n      <td>90030091</td>\n      <td>Tienen</td>\n      <td>NaN</td>\n      <td>Vlaams Brabant</td>\n      <td>Vlaanderen</td>\n      <td>GETE-OVERWELVING</td>\n      <td>NaN</td>\n      <td>NaN</td>\n      <td>NaN</td>\n      <td>NaN</td>\n      <td>...</td>\n      <td>NaN</td>\n      <td>AWV</td>\n      <td>volledig</td>\n      <td>Toestand 3</td>\n      <td>NaN</td>\n      <td>2011</td>\n      <td>2018</td>\n      <td>7</td>\n      <td>ja</td>\n      <td>nan</td>\n    </tr>\n    <tr>\n      <th>2375</th>\n      <td>25400162</td>\n      <td>Brugge</td>\n      <td>NaN</td>\n      <td>West-Vlaanderen</td>\n      <td>Vlaanderen</td>\n      <td>KATELIJNEPOORTBRUG</td>\n      <td>NaN</td>\n      <td>NaN</td>\n      <td>NaN</td>\n      <td>NaN</td>\n      <td>...</td>\n      <td>NaN</td>\n      <td>AWV</td>\n      <td>volledig</td>\n      <td>Toestand 3</td>\n      <td>NaN</td>\n      <td>2017</td>\n      <td>2017</td>\n      <td>nan</td>\n      <td>ja</td>\n      <td>nan</td>\n    </tr>\n  </tbody>\n</table>\n<p>5 rows × 22 columns</p>\n</div>"
     },
     "metadata": {},
     "execution_count": 543
    }
   ],
   "source": [
    "df[(df.difference > '6') & (df.toestandcode == 'Toestand 3')]"
   ]
  },
  {
   "cell_type": "code",
   "execution_count": 549,
   "metadata": {},
   "outputs": [
    {
     "output_type": "execute_result",
     "data": {
      "text/plain": "          idnr     gemeente (deelgemeente)        provincie      gewest  \\\n668   00130233  Grobbendonk    Grobbendonk        Antwerpen  Vlaanderen   \n682   10110142     Wijnegem       Wijnegem        Antwerpen  Vlaanderen   \n1691  10021504      Beveren          Kallo  Oost-Vlaanderen  Vlaanderen   \n1696  21000052     Wetteren       Wetteren  Oost-Vlaanderen  Vlaanderen   \n1699  00100592         Gent     Zwijnaarde  Oost-Vlaanderen  Vlaanderen   \n2095  21300159       Leuven        Wilsele   Vlaams Brabant  Vlaanderen   \n2096  21300163       Leuven        Wilsele   Vlaams Brabant  Vlaanderen   \n2098  90260055       Herent            NaN   Vlaams Brabant  Vlaanderen   \n2112  92070021   Liedekerke     Liedekerke   Vlaams Brabant  Vlaanderen   \n2113  10000438     Machelen       Machelen   Vlaams Brabant  Vlaanderen   \n2117  00012011   Londerzeel     Londerzeel   Vlaams Brabant  Vlaanderen   \n2118  00120123   Londerzeel     Londerzeel   Vlaams Brabant  Vlaanderen   \n2125  00020732       Leuven       Heverlee   Vlaams Brabant  Vlaanderen   \n2726  90360047    Harelbeke            NaN  West-Vlaanderen  Vlaanderen   \n2727  90360048    Harelbeke            NaN  West-Vlaanderen  Vlaanderen   \n2728  90360053    Harelbeke            NaN  West-Vlaanderen  Vlaanderen   \n2729  90360054    Harelbeke            NaN  West-Vlaanderen  Vlaanderen   \n\n                                               brugnaam probleem oorzaak  \\\n668   Brug-O22-brughelft-richt. Antwerp.-over spoorw...      NaN     NaN   \n682   Fietsbrug in R11 over Groot Schijn naast duike...      NaN     NaN   \n1691             Brug Hollands Complex thv rotonde WLHN      NaN     NaN   \n1696                 Fiets- en voetbrug over de Schelde      NaN     NaN   \n1699                    Brug in E40 over Tijarm Schelde      NaN     NaN   \n2095                                    DIJLEBRUG-NOORD      NaN     NaN   \n2096                                     DIJLEBRUG-ZUID      NaN     NaN   \n2098                        TUNNEL-N26-WILSELSESTEENWEG      NaN     NaN   \n2112                                Brug Affligemstraat      NaN     NaN   \n2113                         Brug ontsluiting Uplace-K7      NaN     NaN   \n2117                        Kokerbrug O7 Mechelsestraat      NaN     NaN   \n2118                          Brug O8 over spoorlijn 53      NaN     NaN   \n2125  Fietsbrug over E314 naast de brug WOL-B0-in de...      NaN     NaN   \n2726         FIETSTUNNEL-ONDER-AFRIT-N36-KANT-ROESELARE      NaN     NaN   \n2727         FIETSTUNNEL-ONDER-OPRIT-N36-KANT-ROESELARE      NaN     NaN   \n2728          FIETSTUNNEL-ONDER-OPRIT-N36-KANT-DEERLIJK      NaN     NaN   \n2729          FIETSTUNNEL-ONDER-AFRIT-N36-KANT-DEERLIJK      NaN     NaN   \n\n     werken_gepland start_werken  ... beelden         beheerder    beheer  \\\n668             NaN          NaN  ...     NaN               AWV  volledig   \n682             NaN          NaN  ...     NaN               AWV  volledig   \n1691            NaN          NaN  ...     NaN               AWV  volledig   \n1696            NaN          NaN  ...     NaN  Vlaamse Waterweg  volledig   \n1699            NaN          NaN  ...     NaN               AWV  volledig   \n2095            NaN          NaN  ...     NaN               AWV  volledig   \n2096            NaN          NaN  ...     NaN               AWV  volledig   \n2098            NaN          NaN  ...     NaN               AWV  volledig   \n2112            NaN          NaN  ...     NaN               AWV  volledig   \n2113            NaN          NaN  ...     NaN               AWV  volledig   \n2117            NaN          NaN  ...     NaN               AWV  volledig   \n2118            NaN          NaN  ...     NaN               AWV  volledig   \n2125            NaN          NaN  ...     NaN               AWV  volledig   \n2726            NaN          NaN  ...     NaN               AWV  volledig   \n2727            NaN          NaN  ...     NaN               AWV  volledig   \n2728            NaN          NaN  ...     NaN               AWV  volledig   \n2729            NaN          NaN  ...     NaN               AWV  volledig   \n\n     toestandcode  LPK prev_year last_year difference hoogproblematisch  \\\n668    Toestand t  NaN       nan       nan        nan          onbekend   \n682    Toestand t  NaN       nan       nan        nan          onbekend   \n1691   Toestand t  NaN       nan       nan        nan          onbekend   \n1696   Toestand t  NaN       nan       nan        nan          onbekend   \n1699   Toestand t  NaN       nan       nan        nan          onbekend   \n2095   Toestand t  NaN       nan       nan        nan          onbekend   \n2096   Toestand t  NaN       nan       nan        nan          onbekend   \n2098   Toestand t  NaN       nan       nan        nan          onbekend   \n2112   Toestand t  NaN       nan       nan        nan          onbekend   \n2113   Toestand t  NaN       nan       nan        nan          onbekend   \n2117   Toestand t  NaN       nan       nan        nan          onbekend   \n2118   Toestand t  NaN       nan       nan        nan          onbekend   \n2125   Toestand t  NaN       nan       nan        nan          onbekend   \n2726   Toestand t  NaN      2010      2019          9          onbekend   \n2727   Toestand t  NaN      2010      2019          9          onbekend   \n2728   Toestand t  NaN      2010      2019          9          onbekend   \n2729   Toestand t  NaN      2010      2019          9          onbekend   \n\n     lijst_sinds  \n668          nan  \n682          nan  \n1691         nan  \n1696         nan  \n1699         nan  \n2095         nan  \n2096         nan  \n2098         nan  \n2112         nan  \n2113         nan  \n2117         nan  \n2118         nan  \n2125         nan  \n2726         nan  \n2727         nan  \n2728         nan  \n2729         nan  \n\n[17 rows x 22 columns]",
      "text/html": "<div>\n<style scoped>\n    .dataframe tbody tr th:only-of-type {\n        vertical-align: middle;\n    }\n\n    .dataframe tbody tr th {\n        vertical-align: top;\n    }\n\n    .dataframe thead th {\n        text-align: right;\n    }\n</style>\n<table border=\"1\" class=\"dataframe\">\n  <thead>\n    <tr style=\"text-align: right;\">\n      <th></th>\n      <th>idnr</th>\n      <th>gemeente</th>\n      <th>(deelgemeente)</th>\n      <th>provincie</th>\n      <th>gewest</th>\n      <th>brugnaam</th>\n      <th>probleem</th>\n      <th>oorzaak</th>\n      <th>werken_gepland</th>\n      <th>start_werken</th>\n      <th>...</th>\n      <th>beelden</th>\n      <th>beheerder</th>\n      <th>beheer</th>\n      <th>toestandcode</th>\n      <th>LPK</th>\n      <th>prev_year</th>\n      <th>last_year</th>\n      <th>difference</th>\n      <th>hoogproblematisch</th>\n      <th>lijst_sinds</th>\n    </tr>\n  </thead>\n  <tbody>\n    <tr>\n      <th>668</th>\n      <td>00130233</td>\n      <td>Grobbendonk</td>\n      <td>Grobbendonk</td>\n      <td>Antwerpen</td>\n      <td>Vlaanderen</td>\n      <td>Brug-O22-brughelft-richt. Antwerp.-over spoorw...</td>\n      <td>NaN</td>\n      <td>NaN</td>\n      <td>NaN</td>\n      <td>NaN</td>\n      <td>...</td>\n      <td>NaN</td>\n      <td>AWV</td>\n      <td>volledig</td>\n      <td>Toestand t</td>\n      <td>NaN</td>\n      <td>nan</td>\n      <td>nan</td>\n      <td>nan</td>\n      <td>onbekend</td>\n      <td>nan</td>\n    </tr>\n    <tr>\n      <th>682</th>\n      <td>10110142</td>\n      <td>Wijnegem</td>\n      <td>Wijnegem</td>\n      <td>Antwerpen</td>\n      <td>Vlaanderen</td>\n      <td>Fietsbrug in R11 over Groot Schijn naast duike...</td>\n      <td>NaN</td>\n      <td>NaN</td>\n      <td>NaN</td>\n      <td>NaN</td>\n      <td>...</td>\n      <td>NaN</td>\n      <td>AWV</td>\n      <td>volledig</td>\n      <td>Toestand t</td>\n      <td>NaN</td>\n      <td>nan</td>\n      <td>nan</td>\n      <td>nan</td>\n      <td>onbekend</td>\n      <td>nan</td>\n    </tr>\n    <tr>\n      <th>1691</th>\n      <td>10021504</td>\n      <td>Beveren</td>\n      <td>Kallo</td>\n      <td>Oost-Vlaanderen</td>\n      <td>Vlaanderen</td>\n      <td>Brug Hollands Complex thv rotonde WLHN</td>\n      <td>NaN</td>\n      <td>NaN</td>\n      <td>NaN</td>\n      <td>NaN</td>\n      <td>...</td>\n      <td>NaN</td>\n      <td>AWV</td>\n      <td>volledig</td>\n      <td>Toestand t</td>\n      <td>NaN</td>\n      <td>nan</td>\n      <td>nan</td>\n      <td>nan</td>\n      <td>onbekend</td>\n      <td>nan</td>\n    </tr>\n    <tr>\n      <th>1696</th>\n      <td>21000052</td>\n      <td>Wetteren</td>\n      <td>Wetteren</td>\n      <td>Oost-Vlaanderen</td>\n      <td>Vlaanderen</td>\n      <td>Fiets- en voetbrug over de Schelde</td>\n      <td>NaN</td>\n      <td>NaN</td>\n      <td>NaN</td>\n      <td>NaN</td>\n      <td>...</td>\n      <td>NaN</td>\n      <td>Vlaamse Waterweg</td>\n      <td>volledig</td>\n      <td>Toestand t</td>\n      <td>NaN</td>\n      <td>nan</td>\n      <td>nan</td>\n      <td>nan</td>\n      <td>onbekend</td>\n      <td>nan</td>\n    </tr>\n    <tr>\n      <th>1699</th>\n      <td>00100592</td>\n      <td>Gent</td>\n      <td>Zwijnaarde</td>\n      <td>Oost-Vlaanderen</td>\n      <td>Vlaanderen</td>\n      <td>Brug in E40 over Tijarm Schelde</td>\n      <td>NaN</td>\n      <td>NaN</td>\n      <td>NaN</td>\n      <td>NaN</td>\n      <td>...</td>\n      <td>NaN</td>\n      <td>AWV</td>\n      <td>volledig</td>\n      <td>Toestand t</td>\n      <td>NaN</td>\n      <td>nan</td>\n      <td>nan</td>\n      <td>nan</td>\n      <td>onbekend</td>\n      <td>nan</td>\n    </tr>\n    <tr>\n      <th>2095</th>\n      <td>21300159</td>\n      <td>Leuven</td>\n      <td>Wilsele</td>\n      <td>Vlaams Brabant</td>\n      <td>Vlaanderen</td>\n      <td>DIJLEBRUG-NOORD</td>\n      <td>NaN</td>\n      <td>NaN</td>\n      <td>NaN</td>\n      <td>NaN</td>\n      <td>...</td>\n      <td>NaN</td>\n      <td>AWV</td>\n      <td>volledig</td>\n      <td>Toestand t</td>\n      <td>NaN</td>\n      <td>nan</td>\n      <td>nan</td>\n      <td>nan</td>\n      <td>onbekend</td>\n      <td>nan</td>\n    </tr>\n    <tr>\n      <th>2096</th>\n      <td>21300163</td>\n      <td>Leuven</td>\n      <td>Wilsele</td>\n      <td>Vlaams Brabant</td>\n      <td>Vlaanderen</td>\n      <td>DIJLEBRUG-ZUID</td>\n      <td>NaN</td>\n      <td>NaN</td>\n      <td>NaN</td>\n      <td>NaN</td>\n      <td>...</td>\n      <td>NaN</td>\n      <td>AWV</td>\n      <td>volledig</td>\n      <td>Toestand t</td>\n      <td>NaN</td>\n      <td>nan</td>\n      <td>nan</td>\n      <td>nan</td>\n      <td>onbekend</td>\n      <td>nan</td>\n    </tr>\n    <tr>\n      <th>2098</th>\n      <td>90260055</td>\n      <td>Herent</td>\n      <td>NaN</td>\n      <td>Vlaams Brabant</td>\n      <td>Vlaanderen</td>\n      <td>TUNNEL-N26-WILSELSESTEENWEG</td>\n      <td>NaN</td>\n      <td>NaN</td>\n      <td>NaN</td>\n      <td>NaN</td>\n      <td>...</td>\n      <td>NaN</td>\n      <td>AWV</td>\n      <td>volledig</td>\n      <td>Toestand t</td>\n      <td>NaN</td>\n      <td>nan</td>\n      <td>nan</td>\n      <td>nan</td>\n      <td>onbekend</td>\n      <td>nan</td>\n    </tr>\n    <tr>\n      <th>2112</th>\n      <td>92070021</td>\n      <td>Liedekerke</td>\n      <td>Liedekerke</td>\n      <td>Vlaams Brabant</td>\n      <td>Vlaanderen</td>\n      <td>Brug Affligemstraat</td>\n      <td>NaN</td>\n      <td>NaN</td>\n      <td>NaN</td>\n      <td>NaN</td>\n      <td>...</td>\n      <td>NaN</td>\n      <td>AWV</td>\n      <td>volledig</td>\n      <td>Toestand t</td>\n      <td>NaN</td>\n      <td>nan</td>\n      <td>nan</td>\n      <td>nan</td>\n      <td>onbekend</td>\n      <td>nan</td>\n    </tr>\n    <tr>\n      <th>2113</th>\n      <td>10000438</td>\n      <td>Machelen</td>\n      <td>Machelen</td>\n      <td>Vlaams Brabant</td>\n      <td>Vlaanderen</td>\n      <td>Brug ontsluiting Uplace-K7</td>\n      <td>NaN</td>\n      <td>NaN</td>\n      <td>NaN</td>\n      <td>NaN</td>\n      <td>...</td>\n      <td>NaN</td>\n      <td>AWV</td>\n      <td>volledig</td>\n      <td>Toestand t</td>\n      <td>NaN</td>\n      <td>nan</td>\n      <td>nan</td>\n      <td>nan</td>\n      <td>onbekend</td>\n      <td>nan</td>\n    </tr>\n    <tr>\n      <th>2117</th>\n      <td>00012011</td>\n      <td>Londerzeel</td>\n      <td>Londerzeel</td>\n      <td>Vlaams Brabant</td>\n      <td>Vlaanderen</td>\n      <td>Kokerbrug O7 Mechelsestraat</td>\n      <td>NaN</td>\n      <td>NaN</td>\n      <td>NaN</td>\n      <td>NaN</td>\n      <td>...</td>\n      <td>NaN</td>\n      <td>AWV</td>\n      <td>volledig</td>\n      <td>Toestand t</td>\n      <td>NaN</td>\n      <td>nan</td>\n      <td>nan</td>\n      <td>nan</td>\n      <td>onbekend</td>\n      <td>nan</td>\n    </tr>\n    <tr>\n      <th>2118</th>\n      <td>00120123</td>\n      <td>Londerzeel</td>\n      <td>Londerzeel</td>\n      <td>Vlaams Brabant</td>\n      <td>Vlaanderen</td>\n      <td>Brug O8 over spoorlijn 53</td>\n      <td>NaN</td>\n      <td>NaN</td>\n      <td>NaN</td>\n      <td>NaN</td>\n      <td>...</td>\n      <td>NaN</td>\n      <td>AWV</td>\n      <td>volledig</td>\n      <td>Toestand t</td>\n      <td>NaN</td>\n      <td>nan</td>\n      <td>nan</td>\n      <td>nan</td>\n      <td>onbekend</td>\n      <td>nan</td>\n    </tr>\n    <tr>\n      <th>2125</th>\n      <td>00020732</td>\n      <td>Leuven</td>\n      <td>Heverlee</td>\n      <td>Vlaams Brabant</td>\n      <td>Vlaanderen</td>\n      <td>Fietsbrug over E314 naast de brug WOL-B0-in de...</td>\n      <td>NaN</td>\n      <td>NaN</td>\n      <td>NaN</td>\n      <td>NaN</td>\n      <td>...</td>\n      <td>NaN</td>\n      <td>AWV</td>\n      <td>volledig</td>\n      <td>Toestand t</td>\n      <td>NaN</td>\n      <td>nan</td>\n      <td>nan</td>\n      <td>nan</td>\n      <td>onbekend</td>\n      <td>nan</td>\n    </tr>\n    <tr>\n      <th>2726</th>\n      <td>90360047</td>\n      <td>Harelbeke</td>\n      <td>NaN</td>\n      <td>West-Vlaanderen</td>\n      <td>Vlaanderen</td>\n      <td>FIETSTUNNEL-ONDER-AFRIT-N36-KANT-ROESELARE</td>\n      <td>NaN</td>\n      <td>NaN</td>\n      <td>NaN</td>\n      <td>NaN</td>\n      <td>...</td>\n      <td>NaN</td>\n      <td>AWV</td>\n      <td>volledig</td>\n      <td>Toestand t</td>\n      <td>NaN</td>\n      <td>2010</td>\n      <td>2019</td>\n      <td>9</td>\n      <td>onbekend</td>\n      <td>nan</td>\n    </tr>\n    <tr>\n      <th>2727</th>\n      <td>90360048</td>\n      <td>Harelbeke</td>\n      <td>NaN</td>\n      <td>West-Vlaanderen</td>\n      <td>Vlaanderen</td>\n      <td>FIETSTUNNEL-ONDER-OPRIT-N36-KANT-ROESELARE</td>\n      <td>NaN</td>\n      <td>NaN</td>\n      <td>NaN</td>\n      <td>NaN</td>\n      <td>...</td>\n      <td>NaN</td>\n      <td>AWV</td>\n      <td>volledig</td>\n      <td>Toestand t</td>\n      <td>NaN</td>\n      <td>2010</td>\n      <td>2019</td>\n      <td>9</td>\n      <td>onbekend</td>\n      <td>nan</td>\n    </tr>\n    <tr>\n      <th>2728</th>\n      <td>90360053</td>\n      <td>Harelbeke</td>\n      <td>NaN</td>\n      <td>West-Vlaanderen</td>\n      <td>Vlaanderen</td>\n      <td>FIETSTUNNEL-ONDER-OPRIT-N36-KANT-DEERLIJK</td>\n      <td>NaN</td>\n      <td>NaN</td>\n      <td>NaN</td>\n      <td>NaN</td>\n      <td>...</td>\n      <td>NaN</td>\n      <td>AWV</td>\n      <td>volledig</td>\n      <td>Toestand t</td>\n      <td>NaN</td>\n      <td>2010</td>\n      <td>2019</td>\n      <td>9</td>\n      <td>onbekend</td>\n      <td>nan</td>\n    </tr>\n    <tr>\n      <th>2729</th>\n      <td>90360054</td>\n      <td>Harelbeke</td>\n      <td>NaN</td>\n      <td>West-Vlaanderen</td>\n      <td>Vlaanderen</td>\n      <td>FIETSTUNNEL-ONDER-AFRIT-N36-KANT-DEERLIJK</td>\n      <td>NaN</td>\n      <td>NaN</td>\n      <td>NaN</td>\n      <td>NaN</td>\n      <td>...</td>\n      <td>NaN</td>\n      <td>AWV</td>\n      <td>volledig</td>\n      <td>Toestand t</td>\n      <td>NaN</td>\n      <td>2010</td>\n      <td>2019</td>\n      <td>9</td>\n      <td>onbekend</td>\n      <td>nan</td>\n    </tr>\n  </tbody>\n</table>\n<p>17 rows × 22 columns</p>\n</div>"
     },
     "metadata": {},
     "execution_count": 549
    }
   ],
   "source": [
    "df[(df.difference > '6') & (df.toestandcode == 'Toestand t')]"
   ]
  },
  {
   "cell_type": "markdown",
   "metadata": {},
   "source": [
    "Er zijn vier fietsersbruggen (tunnels) in Harelbeke die tussen 2010 en 2019 helemaal niet gecontroleerd zijn. Daarvan moet de toestand nog bepaald worden. Er zijn ook een aantal bruggen die momenteel toestand 3 hebben en tussen 2011 en 2018 niet zijn gecontroleerd. "
   ]
  },
  {
   "cell_type": "code",
   "execution_count": 550,
   "metadata": {},
   "outputs": [
    {
     "output_type": "execute_result",
     "data": {
      "text/plain": "Toestand 2    1036\nToestand 1     924\nToestand 3     547\nToestand t      51\nToestand 4      46\nGeen beoor       6\nName: toestandcode, dtype: int64"
     },
     "metadata": {},
     "execution_count": 550
    }
   ],
   "source": [
    "df.toestandcode.value_counts()"
   ]
  },
  {
   "cell_type": "markdown",
   "metadata": {},
   "source": [
    "De meeste bruggen in het Vlaams gewest hebben toestandcode 2: lichte gebreken. Renovatie op lange termijn is gewenst in dat geval. Er zijn ook een zestigtal bruggen waarvan geen beoordeling bekend is, of waarvan de toestand nog bepaald moet worden. Waarom niet? Dat is een interessante vraag die nu onbeantwoord blijft."
   ]
  },
  {
   "cell_type": "code",
   "execution_count": 556,
   "metadata": {},
   "outputs": [
    {
     "output_type": "execute_result",
     "data": {
      "text/plain": "          idnr   gemeente (deelgemeente)        provincie      gewest  \\\n392   01002215  Antwerpen            NaN        Antwerpen  Vlaanderen   \n531   00210105     Beerse            NaN        Antwerpen  Vlaanderen   \n532   00210107     Beerse            NaN        Antwerpen  Vlaanderen   \n2013  90290211     Tienen            NaN   Vlaams Brabant  Vlaanderen   \n2073  90190203   Holsbeek            NaN   Vlaams Brabant  Vlaanderen   \n2712  08320021   De Panne            NaN  West-Vlaanderen  Vlaanderen   \n\n                                        brugnaam probleem oorzaak  \\\n392   SPOORWEGKOKER-K1-WEST-IN-R2-OVER-SPOORLIJN      NaN     NaN   \n531        DUIKER-23/1-IN-VORSELAAR/LOPENDE-BEEK      NaN     NaN   \n532          DUIKER-23/2-IN-VORSELAAR/PULDERBEEK      NaN     NaN   \n2013                      BORGGRACHT-OVERWELVING      NaN     NaN   \n2073                              BRUG-OVER-VUNT      NaN     NaN   \n2712                     BRUG-WEST-DIJKDOORBRAAK      NaN     NaN   \n\n     werken_gepland start_werken  ... beelden beheerder    beheer  \\\n392             NaN          NaN  ...     NaN       AWV  volledig   \n531             NaN          NaN  ...     NaN       AWV  volledig   \n532             NaN          NaN  ...     NaN       AWV  volledig   \n2013            NaN          NaN  ...     NaN       AWV  volledig   \n2073            NaN          NaN  ...     NaN       AWV  volledig   \n2712            NaN          NaN  ...     NaN       MDK  volledig   \n\n     toestandcode  LPK prev_year last_year difference hoogproblematisch  \\\n392    Geen beoor  NaN      2016      2019          3          onbekend   \n531    Geen beoor  NaN      2015      2018          3          onbekend   \n532    Geen beoor  NaN      2015      2018          3          onbekend   \n2013   Geen beoor  NaN      2014      2018          4          onbekend   \n2073   Geen beoor  NaN      2012      2018          6          onbekend   \n2712   Geen beoor  NaN      2013      2016          3          onbekend   \n\n     lijst_sinds  \n392          nan  \n531          nan  \n532          nan  \n2013         nan  \n2073         nan  \n2712         nan  \n\n[6 rows x 22 columns]",
      "text/html": "<div>\n<style scoped>\n    .dataframe tbody tr th:only-of-type {\n        vertical-align: middle;\n    }\n\n    .dataframe tbody tr th {\n        vertical-align: top;\n    }\n\n    .dataframe thead th {\n        text-align: right;\n    }\n</style>\n<table border=\"1\" class=\"dataframe\">\n  <thead>\n    <tr style=\"text-align: right;\">\n      <th></th>\n      <th>idnr</th>\n      <th>gemeente</th>\n      <th>(deelgemeente)</th>\n      <th>provincie</th>\n      <th>gewest</th>\n      <th>brugnaam</th>\n      <th>probleem</th>\n      <th>oorzaak</th>\n      <th>werken_gepland</th>\n      <th>start_werken</th>\n      <th>...</th>\n      <th>beelden</th>\n      <th>beheerder</th>\n      <th>beheer</th>\n      <th>toestandcode</th>\n      <th>LPK</th>\n      <th>prev_year</th>\n      <th>last_year</th>\n      <th>difference</th>\n      <th>hoogproblematisch</th>\n      <th>lijst_sinds</th>\n    </tr>\n  </thead>\n  <tbody>\n    <tr>\n      <th>392</th>\n      <td>01002215</td>\n      <td>Antwerpen</td>\n      <td>NaN</td>\n      <td>Antwerpen</td>\n      <td>Vlaanderen</td>\n      <td>SPOORWEGKOKER-K1-WEST-IN-R2-OVER-SPOORLIJN</td>\n      <td>NaN</td>\n      <td>NaN</td>\n      <td>NaN</td>\n      <td>NaN</td>\n      <td>...</td>\n      <td>NaN</td>\n      <td>AWV</td>\n      <td>volledig</td>\n      <td>Geen beoor</td>\n      <td>NaN</td>\n      <td>2016</td>\n      <td>2019</td>\n      <td>3</td>\n      <td>onbekend</td>\n      <td>nan</td>\n    </tr>\n    <tr>\n      <th>531</th>\n      <td>00210105</td>\n      <td>Beerse</td>\n      <td>NaN</td>\n      <td>Antwerpen</td>\n      <td>Vlaanderen</td>\n      <td>DUIKER-23/1-IN-VORSELAAR/LOPENDE-BEEK</td>\n      <td>NaN</td>\n      <td>NaN</td>\n      <td>NaN</td>\n      <td>NaN</td>\n      <td>...</td>\n      <td>NaN</td>\n      <td>AWV</td>\n      <td>volledig</td>\n      <td>Geen beoor</td>\n      <td>NaN</td>\n      <td>2015</td>\n      <td>2018</td>\n      <td>3</td>\n      <td>onbekend</td>\n      <td>nan</td>\n    </tr>\n    <tr>\n      <th>532</th>\n      <td>00210107</td>\n      <td>Beerse</td>\n      <td>NaN</td>\n      <td>Antwerpen</td>\n      <td>Vlaanderen</td>\n      <td>DUIKER-23/2-IN-VORSELAAR/PULDERBEEK</td>\n      <td>NaN</td>\n      <td>NaN</td>\n      <td>NaN</td>\n      <td>NaN</td>\n      <td>...</td>\n      <td>NaN</td>\n      <td>AWV</td>\n      <td>volledig</td>\n      <td>Geen beoor</td>\n      <td>NaN</td>\n      <td>2015</td>\n      <td>2018</td>\n      <td>3</td>\n      <td>onbekend</td>\n      <td>nan</td>\n    </tr>\n    <tr>\n      <th>2013</th>\n      <td>90290211</td>\n      <td>Tienen</td>\n      <td>NaN</td>\n      <td>Vlaams Brabant</td>\n      <td>Vlaanderen</td>\n      <td>BORGGRACHT-OVERWELVING</td>\n      <td>NaN</td>\n      <td>NaN</td>\n      <td>NaN</td>\n      <td>NaN</td>\n      <td>...</td>\n      <td>NaN</td>\n      <td>AWV</td>\n      <td>volledig</td>\n      <td>Geen beoor</td>\n      <td>NaN</td>\n      <td>2014</td>\n      <td>2018</td>\n      <td>4</td>\n      <td>onbekend</td>\n      <td>nan</td>\n    </tr>\n    <tr>\n      <th>2073</th>\n      <td>90190203</td>\n      <td>Holsbeek</td>\n      <td>NaN</td>\n      <td>Vlaams Brabant</td>\n      <td>Vlaanderen</td>\n      <td>BRUG-OVER-VUNT</td>\n      <td>NaN</td>\n      <td>NaN</td>\n      <td>NaN</td>\n      <td>NaN</td>\n      <td>...</td>\n      <td>NaN</td>\n      <td>AWV</td>\n      <td>volledig</td>\n      <td>Geen beoor</td>\n      <td>NaN</td>\n      <td>2012</td>\n      <td>2018</td>\n      <td>6</td>\n      <td>onbekend</td>\n      <td>nan</td>\n    </tr>\n    <tr>\n      <th>2712</th>\n      <td>08320021</td>\n      <td>De Panne</td>\n      <td>NaN</td>\n      <td>West-Vlaanderen</td>\n      <td>Vlaanderen</td>\n      <td>BRUG-WEST-DIJKDOORBRAAK</td>\n      <td>NaN</td>\n      <td>NaN</td>\n      <td>NaN</td>\n      <td>NaN</td>\n      <td>...</td>\n      <td>NaN</td>\n      <td>MDK</td>\n      <td>volledig</td>\n      <td>Geen beoor</td>\n      <td>NaN</td>\n      <td>2013</td>\n      <td>2016</td>\n      <td>3</td>\n      <td>onbekend</td>\n      <td>nan</td>\n    </tr>\n  </tbody>\n</table>\n<p>6 rows × 22 columns</p>\n</div>"
     },
     "metadata": {},
     "execution_count": 556
    }
   ],
   "source": [
    "df[df.toestandcode == 'Geen beoor']"
   ]
  },
  {
   "cell_type": "code",
   "execution_count": 48,
   "metadata": {},
   "outputs": [
    {
     "output_type": "execute_result",
     "data": {
      "text/plain": "array(['AWV', 'AWV/VWW', 'Vlaamse Waterweg', 'DMOW', 'MDK', 'AWV/DMOW',\n       'Gemeente', 'Brussels Gewest', 'Infrabel'], dtype=object)"
     },
     "metadata": {},
     "execution_count": 48
    }
   ],
   "source": [
    "df.beheerder.unique()"
   ]
  },
  {
   "cell_type": "code",
   "execution_count": 49,
   "metadata": {},
   "outputs": [
    {
     "output_type": "execute_result",
     "data": {
      "text/plain": "3       429\n4        93\n5        30\n2        12\n2015      9\n2017      7\n2019      6\n2016      6\nnan       5\n2018      4\n8         1\n6         1\n1         1\nName: difference, dtype: int64"
     },
     "metadata": {},
     "execution_count": 49
    }
   ],
   "source": [
    "df[(df.provincie == 'Antwerpen') & (df.beheerder != 'Brussels Gewest') & (df.beheerder != 'Gemeente') & (df.beheerder != 'Infrabel')].difference.value_counts()"
   ]
  },
  {
   "cell_type": "code",
   "execution_count": 50,
   "metadata": {},
   "outputs": [
    {
     "output_type": "execute_result",
     "data": {
      "text/plain": "5       127\n3       114\n4       111\n6        36\nnan      13\n7         8\n2018      5\n2019      2\n2         1\n2017      1\n1         1\nName: difference, dtype: int64"
     },
     "metadata": {},
     "execution_count": 50
    }
   ],
   "source": [
    "df[(df.provincie == 'Vlaams Brabant') & (df.beheerder != 'Brussels Gewest') & (df.beheerder != 'Gemeente') & (df.beheerder != 'Infrabel')].difference.value_counts()"
   ]
  },
  {
   "cell_type": "code",
   "execution_count": 51,
   "metadata": {},
   "outputs": [
    {
     "output_type": "execute_result",
     "data": {
      "text/plain": "3       384\n4        63\n5        51\n2        19\n2019      8\n2018      8\nnan       7\n6         7\n2020      3\n2017      3\n8         2\n2012      1\n7         1\n2015      1\n2016      1\n2014      1\n2011      1\n1         1\nName: difference, dtype: int64"
     },
     "metadata": {},
     "execution_count": 51
    }
   ],
   "source": [
    "df[(df.provincie == 'Oost-Vlaanderen') & (df.beheerder != 'Brussels Gewest') & (df.beheerder != 'Gemeente') & (df.beheerder != 'Infrabel')].difference.value_counts()"
   ]
  },
  {
   "cell_type": "code",
   "execution_count": 52,
   "metadata": {},
   "outputs": [
    {
     "output_type": "execute_result",
     "data": {
      "text/plain": "3       414\n4       150\n5        56\n2019      5\n9         4\n6         4\n1         4\n2         3\n2018      3\nnan       2\n2015      2\n2016      1\n2017      1\nName: difference, dtype: int64"
     },
     "metadata": {},
     "execution_count": 52
    }
   ],
   "source": [
    "df[(df.provincie == 'West-Vlaanderen') & (df.beheerder != 'Brussels Gewest') & (df.beheerder != 'Gemeente') & (df.beheerder != 'Infrabel')].difference.value_counts()"
   ]
  },
  {
   "cell_type": "code",
   "execution_count": 53,
   "metadata": {},
   "outputs": [
    {
     "output_type": "execute_result",
     "data": {
      "text/plain": "3       292\n4        66\n2        17\nnan      15\n5         7\n6         6\n2018      5\n2019      2\n2017      2\n15        1\n7         1\n1         1\nName: difference, dtype: int64"
     },
     "metadata": {},
     "execution_count": 53
    }
   ],
   "source": [
    "df[(df.provincie == 'Limburg') & (df.beheerder != 'Brussels Gewest') & (df.beheerder != 'Gemeente') & (df.beheerder != 'Infrabel')].difference.value_counts()"
   ]
  },
  {
   "cell_type": "code",
   "execution_count": 58,
   "metadata": {},
   "outputs": [
    {
     "output_type": "execute_result",
     "data": {
      "text/plain": "          idnr gemeente (deelgemeente)        provincie      gewest  \\\n1547  25400261   Aalter         Bellem  Oost-Vlaanderen  Vlaanderen   \n2375  25400162   Brugge            NaN  West-Vlaanderen  Vlaanderen   \n\n                brugnaam probleem oorzaak werken_gepland start_werken  ...  \\\n1547          BELLEMBRUG      NaN     NaN            NaN          NaN  ...   \n2375  KATELIJNEPOORTBRUG      NaN     NaN            NaN          NaN  ...   \n\n     beelden         beheerder    beheer toestandcode  LPK prev_year  \\\n1547     NaN  Vlaamse Waterweg  volledig   Toestand 1  NaN      2019   \n2375     NaN               AWV  volledig   Toestand 3  NaN      2017   \n\n     last_year difference hoogproblematisch lijst_sinds  \n1547      2019        nan               nee         nan  \n2375      2017        nan                ja         nan  \n\n[2 rows x 22 columns]",
      "text/html": "<div>\n<style scoped>\n    .dataframe tbody tr th:only-of-type {\n        vertical-align: middle;\n    }\n\n    .dataframe tbody tr th {\n        vertical-align: top;\n    }\n\n    .dataframe thead th {\n        text-align: right;\n    }\n</style>\n<table border=\"1\" class=\"dataframe\">\n  <thead>\n    <tr style=\"text-align: right;\">\n      <th></th>\n      <th>idnr</th>\n      <th>gemeente</th>\n      <th>(deelgemeente)</th>\n      <th>provincie</th>\n      <th>gewest</th>\n      <th>brugnaam</th>\n      <th>probleem</th>\n      <th>oorzaak</th>\n      <th>werken_gepland</th>\n      <th>start_werken</th>\n      <th>...</th>\n      <th>beelden</th>\n      <th>beheerder</th>\n      <th>beheer</th>\n      <th>toestandcode</th>\n      <th>LPK</th>\n      <th>prev_year</th>\n      <th>last_year</th>\n      <th>difference</th>\n      <th>hoogproblematisch</th>\n      <th>lijst_sinds</th>\n    </tr>\n  </thead>\n  <tbody>\n    <tr>\n      <th>1547</th>\n      <td>25400261</td>\n      <td>Aalter</td>\n      <td>Bellem</td>\n      <td>Oost-Vlaanderen</td>\n      <td>Vlaanderen</td>\n      <td>BELLEMBRUG</td>\n      <td>NaN</td>\n      <td>NaN</td>\n      <td>NaN</td>\n      <td>NaN</td>\n      <td>...</td>\n      <td>NaN</td>\n      <td>Vlaamse Waterweg</td>\n      <td>volledig</td>\n      <td>Toestand 1</td>\n      <td>NaN</td>\n      <td>2019</td>\n      <td>2019</td>\n      <td>nan</td>\n      <td>nee</td>\n      <td>nan</td>\n    </tr>\n    <tr>\n      <th>2375</th>\n      <td>25400162</td>\n      <td>Brugge</td>\n      <td>NaN</td>\n      <td>West-Vlaanderen</td>\n      <td>Vlaanderen</td>\n      <td>KATELIJNEPOORTBRUG</td>\n      <td>NaN</td>\n      <td>NaN</td>\n      <td>NaN</td>\n      <td>NaN</td>\n      <td>...</td>\n      <td>NaN</td>\n      <td>AWV</td>\n      <td>volledig</td>\n      <td>Toestand 3</td>\n      <td>NaN</td>\n      <td>2017</td>\n      <td>2017</td>\n      <td>nan</td>\n      <td>ja</td>\n      <td>nan</td>\n    </tr>\n  </tbody>\n</table>\n<p>2 rows × 22 columns</p>\n</div>"
     },
     "metadata": {},
     "execution_count": 58
    }
   ],
   "source": [
    "df[(df.beheerder != 'Brussels Gewest') & (df.beheerder != 'Gemeente') & (df.beheerder != 'Infrabel') & (df.difference == 'nan') & (df.last_year != 'nan')]"
   ]
  },
  {
   "cell_type": "code",
   "execution_count": 33,
   "metadata": {},
   "outputs": [
    {
     "output_type": "execute_result",
     "data": {
      "text/plain": "nee         53\nonbekend    33\nja           2\nName: hoogproblematisch, dtype: int64"
     },
     "metadata": {},
     "execution_count": 33
    }
   ],
   "source": [
    "df[((df.difference == '2011') | (df.difference == '2012') | (df.difference == '2014') | (df.difference == '2015') | (df.difference == '2016') | (df.difference == '2017') | (df.difference == '2018') | (df.difference == '2019') | (df.difference == '2020')) & (df.difference != 'nan')].hoogproblematisch.value_counts()"
   ]
  },
  {
   "cell_type": "code",
   "execution_count": 43,
   "metadata": {},
   "outputs": [
    {
     "output_type": "execute_result",
     "data": {
      "text/plain": "23"
     },
     "metadata": {},
     "execution_count": 43
    }
   ],
   "source": [
    "len(df[(df.difference == '2011') | (df.difference == '2012') | (df.difference == '2014') | (df.difference == '2015') | (df.difference == '2016')])"
   ]
  },
  {
   "cell_type": "code",
   "execution_count": 35,
   "metadata": {},
   "outputs": [
    {
     "output_type": "execute_result",
     "data": {
      "text/plain": "          idnr   gemeente (deelgemeente)        provincie      gewest  \\\n522   61010111  Antwerpen            NaN        Antwerpen  Vlaanderen   \n1552  21010031    Beveren          Kallo  Oost-Vlaanderen  Vlaanderen   \n\n                                  brugnaam probleem oorzaak werken_gepland  \\\n522   NOORDERLAAN-(STAD)-BRUG-1-INGANG-CNH      NaN     NaN            NaN   \n1552     BEVERENTUNNEL WEGTUNNEL-VAN-KALLO      NaN     NaN            NaN   \n\n     start_werken  ... beelden beheerder    beheer toestandcode  LPK  \\\n522           NaN  ...     NaN       AWV  volledig   Toestand 3  NaN   \n1552          NaN  ...     NaN       AWV  volledig   Toestand 3  NaN   \n\n     prev_year last_year difference hoogproblematisch lijst_sinds  \n522        nan      2019       2019                ja         nan  \n1552       nan      2011       2011                ja         nan  \n\n[2 rows x 22 columns]",
      "text/html": "<div>\n<style scoped>\n    .dataframe tbody tr th:only-of-type {\n        vertical-align: middle;\n    }\n\n    .dataframe tbody tr th {\n        vertical-align: top;\n    }\n\n    .dataframe thead th {\n        text-align: right;\n    }\n</style>\n<table border=\"1\" class=\"dataframe\">\n  <thead>\n    <tr style=\"text-align: right;\">\n      <th></th>\n      <th>idnr</th>\n      <th>gemeente</th>\n      <th>(deelgemeente)</th>\n      <th>provincie</th>\n      <th>gewest</th>\n      <th>brugnaam</th>\n      <th>probleem</th>\n      <th>oorzaak</th>\n      <th>werken_gepland</th>\n      <th>start_werken</th>\n      <th>...</th>\n      <th>beelden</th>\n      <th>beheerder</th>\n      <th>beheer</th>\n      <th>toestandcode</th>\n      <th>LPK</th>\n      <th>prev_year</th>\n      <th>last_year</th>\n      <th>difference</th>\n      <th>hoogproblematisch</th>\n      <th>lijst_sinds</th>\n    </tr>\n  </thead>\n  <tbody>\n    <tr>\n      <th>522</th>\n      <td>61010111</td>\n      <td>Antwerpen</td>\n      <td>NaN</td>\n      <td>Antwerpen</td>\n      <td>Vlaanderen</td>\n      <td>NOORDERLAAN-(STAD)-BRUG-1-INGANG-CNH</td>\n      <td>NaN</td>\n      <td>NaN</td>\n      <td>NaN</td>\n      <td>NaN</td>\n      <td>...</td>\n      <td>NaN</td>\n      <td>AWV</td>\n      <td>volledig</td>\n      <td>Toestand 3</td>\n      <td>NaN</td>\n      <td>nan</td>\n      <td>2019</td>\n      <td>2019</td>\n      <td>ja</td>\n      <td>nan</td>\n    </tr>\n    <tr>\n      <th>1552</th>\n      <td>21010031</td>\n      <td>Beveren</td>\n      <td>Kallo</td>\n      <td>Oost-Vlaanderen</td>\n      <td>Vlaanderen</td>\n      <td>BEVERENTUNNEL WEGTUNNEL-VAN-KALLO</td>\n      <td>NaN</td>\n      <td>NaN</td>\n      <td>NaN</td>\n      <td>NaN</td>\n      <td>...</td>\n      <td>NaN</td>\n      <td>AWV</td>\n      <td>volledig</td>\n      <td>Toestand 3</td>\n      <td>NaN</td>\n      <td>nan</td>\n      <td>2011</td>\n      <td>2011</td>\n      <td>ja</td>\n      <td>nan</td>\n    </tr>\n  </tbody>\n</table>\n<p>2 rows × 22 columns</p>\n</div>"
     },
     "metadata": {},
     "execution_count": 35
    }
   ],
   "source": [
    "df[((df.difference == '2011') | (df.difference == '2012') | (df.difference == '2014') | (df.difference == '2015') | (df.difference == '2016') | (df.difference == '2017') | (df.difference == '2018') | (df.difference == '2019') | (df.difference == '2020')) & (df.difference != 'nan') & (df.hoogproblematisch == 'ja')]"
   ]
  },
  {
   "cell_type": "code",
   "execution_count": 38,
   "metadata": {},
   "outputs": [
    {
     "output_type": "execute_result",
     "data": {
      "text/plain": "          idnr   gemeente (deelgemeente)        provincie      gewest  \\\n678   01010007  Antwerpen        Berchem        Antwerpen  Vlaanderen   \n1413  94500021    Beveren        Melsele  Oost-Vlaanderen  Vlaanderen   \n1574  10021211    Beveren          Kallo  Oost-Vlaanderen  Vlaanderen   \n1706  01004078       Gent            NaN  Oost-Vlaanderen  Vlaanderen   \n\n                                               brugnaam probleem oorzaak  \\\n678   Keermuur aan de tunnel Gen. Lemastr. in Binnen...      NaN     NaN   \n1413     BRUG-IN-N450-OVER-SPORENBUNDEL-EN-INDUSTRIEWEG      NaN     NaN   \n1574                         BRUG-TOEGANG-STEENLANDLAAN      NaN     NaN   \n1706                Keermuren aan brug Skaldenstraat R4      NaN     NaN   \n\n     werken_gepland start_werken  ... beelden beheerder    beheer  \\\n678             NaN          NaN  ...     NaN       AWV  volledig   \n1413            NaN          NaN  ...     NaN       AWV  volledig   \n1574            NaN          NaN  ...     NaN       AWV  volledig   \n1706            NaN          NaN  ...     NaN       AWV  volledig   \n\n     toestandcode  LPK prev_year last_year difference hoogproblematisch  \\\n678    Toestand 2  NaN       nan      2016       2016               nee   \n1413   Toestand 2  NaN       nan      2014       2014               nee   \n1574   Toestand 2  NaN       nan      2016       2016               nee   \n1706   Toestand 2  NaN       nan      2015       2015               nee   \n\n     lijst_sinds  \n678          nan  \n1413         nan  \n1574         nan  \n1706         nan  \n\n[4 rows x 22 columns]",
      "text/html": "<div>\n<style scoped>\n    .dataframe tbody tr th:only-of-type {\n        vertical-align: middle;\n    }\n\n    .dataframe tbody tr th {\n        vertical-align: top;\n    }\n\n    .dataframe thead th {\n        text-align: right;\n    }\n</style>\n<table border=\"1\" class=\"dataframe\">\n  <thead>\n    <tr style=\"text-align: right;\">\n      <th></th>\n      <th>idnr</th>\n      <th>gemeente</th>\n      <th>(deelgemeente)</th>\n      <th>provincie</th>\n      <th>gewest</th>\n      <th>brugnaam</th>\n      <th>probleem</th>\n      <th>oorzaak</th>\n      <th>werken_gepland</th>\n      <th>start_werken</th>\n      <th>...</th>\n      <th>beelden</th>\n      <th>beheerder</th>\n      <th>beheer</th>\n      <th>toestandcode</th>\n      <th>LPK</th>\n      <th>prev_year</th>\n      <th>last_year</th>\n      <th>difference</th>\n      <th>hoogproblematisch</th>\n      <th>lijst_sinds</th>\n    </tr>\n  </thead>\n  <tbody>\n    <tr>\n      <th>678</th>\n      <td>01010007</td>\n      <td>Antwerpen</td>\n      <td>Berchem</td>\n      <td>Antwerpen</td>\n      <td>Vlaanderen</td>\n      <td>Keermuur aan de tunnel Gen. Lemastr. in Binnen...</td>\n      <td>NaN</td>\n      <td>NaN</td>\n      <td>NaN</td>\n      <td>NaN</td>\n      <td>...</td>\n      <td>NaN</td>\n      <td>AWV</td>\n      <td>volledig</td>\n      <td>Toestand 2</td>\n      <td>NaN</td>\n      <td>nan</td>\n      <td>2016</td>\n      <td>2016</td>\n      <td>nee</td>\n      <td>nan</td>\n    </tr>\n    <tr>\n      <th>1413</th>\n      <td>94500021</td>\n      <td>Beveren</td>\n      <td>Melsele</td>\n      <td>Oost-Vlaanderen</td>\n      <td>Vlaanderen</td>\n      <td>BRUG-IN-N450-OVER-SPORENBUNDEL-EN-INDUSTRIEWEG</td>\n      <td>NaN</td>\n      <td>NaN</td>\n      <td>NaN</td>\n      <td>NaN</td>\n      <td>...</td>\n      <td>NaN</td>\n      <td>AWV</td>\n      <td>volledig</td>\n      <td>Toestand 2</td>\n      <td>NaN</td>\n      <td>nan</td>\n      <td>2014</td>\n      <td>2014</td>\n      <td>nee</td>\n      <td>nan</td>\n    </tr>\n    <tr>\n      <th>1574</th>\n      <td>10021211</td>\n      <td>Beveren</td>\n      <td>Kallo</td>\n      <td>Oost-Vlaanderen</td>\n      <td>Vlaanderen</td>\n      <td>BRUG-TOEGANG-STEENLANDLAAN</td>\n      <td>NaN</td>\n      <td>NaN</td>\n      <td>NaN</td>\n      <td>NaN</td>\n      <td>...</td>\n      <td>NaN</td>\n      <td>AWV</td>\n      <td>volledig</td>\n      <td>Toestand 2</td>\n      <td>NaN</td>\n      <td>nan</td>\n      <td>2016</td>\n      <td>2016</td>\n      <td>nee</td>\n      <td>nan</td>\n    </tr>\n    <tr>\n      <th>1706</th>\n      <td>01004078</td>\n      <td>Gent</td>\n      <td>NaN</td>\n      <td>Oost-Vlaanderen</td>\n      <td>Vlaanderen</td>\n      <td>Keermuren aan brug Skaldenstraat R4</td>\n      <td>NaN</td>\n      <td>NaN</td>\n      <td>NaN</td>\n      <td>NaN</td>\n      <td>...</td>\n      <td>NaN</td>\n      <td>AWV</td>\n      <td>volledig</td>\n      <td>Toestand 2</td>\n      <td>NaN</td>\n      <td>nan</td>\n      <td>2015</td>\n      <td>2015</td>\n      <td>nee</td>\n      <td>nan</td>\n    </tr>\n  </tbody>\n</table>\n<p>4 rows × 22 columns</p>\n</div>"
     },
     "metadata": {},
     "execution_count": 38
    }
   ],
   "source": [
    "df[((df.difference == '2011') | (df.difference == '2012') | (df.difference == '2014') | (df.difference == '2015') | (df.difference == '2016')) & (df.difference != 'nan') & (df.toestandcode == 'Toestand 2')]"
   ]
  },
  {
   "cell_type": "markdown",
   "metadata": {},
   "source": [
    "## Welke problemen spelen bij deze bruggen?"
   ]
  },
  {
   "cell_type": "code",
   "execution_count": 557,
   "metadata": {},
   "outputs": [
    {
     "output_type": "stream",
     "name": "stdout",
     "text": "<class 'pandas.core.frame.DataFrame'>\nInt64Index: 2748 entries, 0 to 2901\nData columns (total 22 columns):\n #   Column             Non-Null Count  Dtype \n---  ------             --------------  ----- \n 0   idnr               2748 non-null   object\n 1   gemeente           2748 non-null   object\n 2   (deelgemeente)     1162 non-null   object\n 3   provincie          2748 non-null   object\n 4   gewest             2748 non-null   object\n 5   brugnaam           2748 non-null   object\n 6   probleem           131 non-null    object\n 7   oorzaak            131 non-null    object\n 8   werken_gepland     138 non-null    object\n 9   start_werken       138 non-null    object\n 10  bezocht            78 non-null     object\n 11  opmerkingen        29 non-null     object\n 12  beelden            20 non-null     object\n 13  beheerder          2748 non-null   object\n 14  beheer             2649 non-null   object\n 15  toestandcode       2610 non-null   object\n 16  LPK                42 non-null     object\n 17  prev_year          2748 non-null   object\n 18  last_year          2748 non-null   object\n 19  difference         2748 non-null   object\n 20  hoogproblematisch  2748 non-null   object\n 21  lijst_sinds        2748 non-null   object\ndtypes: object(22)\nmemory usage: 573.8+ KB\n"
    }
   ],
   "source": [
    "df.info()"
   ]
  },
  {
   "cell_type": "code",
   "execution_count": 612,
   "metadata": {},
   "outputs": [
    {
     "output_type": "execute_result",
     "data": {
      "text/plain": "onbekend       91\ntechnisch      11\nverouderd      10\ngroter plan     6\nongeval         4\nbetonrot        2\ndoorbuiging     2\ncorrosie        2\nbrokkelt        2\nverzakking      1\nName: oorzaak, dtype: int64"
     },
     "metadata": {},
     "execution_count": 612
    }
   ],
   "source": [
    "df.oorzaak.value_counts()"
   ]
  },
  {
   "cell_type": "code",
   "execution_count": 616,
   "metadata": {},
   "outputs": [
    {
     "output_type": "execute_result",
     "data": {
      "text/plain": "          idnr  gemeente (deelgemeente)        provincie      gewest  \\\n1     00130041    Deurne         Deurne        Antwerpen  Vlaanderen   \n2     00130031    Deurne         Deurne        Antwerpen  Vlaanderen   \n2813       nan  Wijnegem            NaN        Antwerpen  Vlaanderen   \n2816       nan  De Pinte            NaN  Oost-Vlaanderen  Vlaanderen   \n2817       nan  De Pinte            NaN  Oost-Vlaanderen  Vlaanderen   \n2822       nan    Kuurne            NaN  West-Vlaanderen  Vlaanderen   \n2824       nan    Kuurne            NaN  West-Vlaanderen  Vlaanderen   \n2826       nan   Schoten            NaN        Antwerpen  Vlaanderen   \n2831       nan   Beersel            NaN   Vlaams Brabant  Vlaanderen   \n2832       nan   Beersel            NaN   Vlaams Brabant  Vlaanderen   \n2836       nan    Tienen            NaN   Vlaams Brabant  Vlaanderen   \n\n                                               brugnaam  \\\n1                                Brug 2 - Sterckshoflei   \n2                              Brug 1 - Cornelissenlaan   \n2813                Brug op de N12 bij het Albertkanaal   \n2816                                  Baron de Gieylaan   \n2817                             Pont-Noord over de E17   \n2822                            Kuurnebrug over de Leie   \n2824  Fiets- en wandelbrug over de Heulebeek bij de ...   \n2826                                      Hoogmolenbrug   \n2831               Brug over de Zenne in de Zennestraat   \n2832  Houten voetgangersbrug over de Kesterbeek in H...   \n2836               Brug in de Biezenstraat over De Mene   \n\n                                               probleem    oorzaak  \\\n1                  Jaarlijkse opvolging en waterpassing  technisch   \n2     3-maandelijke inspectie, 6-maandelijkse waterp...  technisch   \n2813      doorvaarthoogte is te laag en wordt opgehoogd  technisch   \n2816                                  nieuwe asfaltlaag  technisch   \n2817                                fietspaden voorzien  technisch   \n2822                 brug ophogen ihkv Europees project  technisch   \n2824  extra inzetten op verbindingswegen voor trage ...  technisch   \n2826  In het kader van het verbeteren van de bereikb...  technisch   \n2831  moet ervangen wegens toekomstige toename tonna...  technisch   \n2832            brugdeik reinigen en plaatsen anti-slib  technisch   \n2836       stabiliteitsproblemen, moet vernieuwd worden  technisch   \n\n     werken_gepland        start_werken  ... beelden beheerder    beheer  \\\n1                Ja                2021  ...     NaN       AWV  volledig   \n2                Ja                2022  ...     NaN       AWV  volledig   \n2813             Ja                2023  ...     NaN  Gemeente       NaN   \n2816             Ja            onbekend  ...     NaN  Gemeente       NaN   \n2817             Ja            onbekend  ...     NaN  Gemeente       NaN   \n2822             Ja                2021  ...     NaN  Gemeente       NaN   \n2824             Ja                2022  ...     NaN  Gemeente       NaN   \n2826             Ja               Bezig  ...     NaN  Gemeente       NaN   \n2831             Ja  vermoedelijk >2024  ...     NaN  Gemeente       NaN   \n2832             Ja                2020  ...     NaN  Gemeente       NaN   \n2836             Ja            onbekend  ...     NaN  Gemeente       NaN   \n\n     toestandcode                            LPK prev_year last_year  \\\n1      Toestand 4  2e prioriteit - te vernieuwen      2014      2017   \n2      Toestand 4  1e prioriteit - te vernieuwen      2016      2019   \n2813          NaN                            NaN       nan       nan   \n2816          NaN                            NaN       nan       nan   \n2817          NaN                            NaN       nan       nan   \n2822          NaN                            NaN       nan       nan   \n2824          NaN                            NaN       nan       nan   \n2826          NaN                            NaN       nan       nan   \n2831          NaN                            NaN       nan       nan   \n2832          NaN                            NaN       nan       nan   \n2836          NaN                            NaN       nan       nan   \n\n     difference hoogproblematisch lijst_sinds  \n1             3                ja        2003  \n2             3                ja        2003  \n2813        nan               nee         nan  \n2816        nan               nee         nan  \n2817        nan               nee         nan  \n2822        nan               nee         nan  \n2824        nan               nee         nan  \n2826        nan               nee         nan  \n2831        nan          onbekend         nan  \n2832        nan               nee         nan  \n2836        nan          onbekend         nan  \n\n[11 rows x 22 columns]",
      "text/html": "<div>\n<style scoped>\n    .dataframe tbody tr th:only-of-type {\n        vertical-align: middle;\n    }\n\n    .dataframe tbody tr th {\n        vertical-align: top;\n    }\n\n    .dataframe thead th {\n        text-align: right;\n    }\n</style>\n<table border=\"1\" class=\"dataframe\">\n  <thead>\n    <tr style=\"text-align: right;\">\n      <th></th>\n      <th>idnr</th>\n      <th>gemeente</th>\n      <th>(deelgemeente)</th>\n      <th>provincie</th>\n      <th>gewest</th>\n      <th>brugnaam</th>\n      <th>probleem</th>\n      <th>oorzaak</th>\n      <th>werken_gepland</th>\n      <th>start_werken</th>\n      <th>...</th>\n      <th>beelden</th>\n      <th>beheerder</th>\n      <th>beheer</th>\n      <th>toestandcode</th>\n      <th>LPK</th>\n      <th>prev_year</th>\n      <th>last_year</th>\n      <th>difference</th>\n      <th>hoogproblematisch</th>\n      <th>lijst_sinds</th>\n    </tr>\n  </thead>\n  <tbody>\n    <tr>\n      <th>1</th>\n      <td>00130041</td>\n      <td>Deurne</td>\n      <td>Deurne</td>\n      <td>Antwerpen</td>\n      <td>Vlaanderen</td>\n      <td>Brug 2 - Sterckshoflei</td>\n      <td>Jaarlijkse opvolging en waterpassing</td>\n      <td>technisch</td>\n      <td>Ja</td>\n      <td>2021</td>\n      <td>...</td>\n      <td>NaN</td>\n      <td>AWV</td>\n      <td>volledig</td>\n      <td>Toestand 4</td>\n      <td>2e prioriteit - te vernieuwen</td>\n      <td>2014</td>\n      <td>2017</td>\n      <td>3</td>\n      <td>ja</td>\n      <td>2003</td>\n    </tr>\n    <tr>\n      <th>2</th>\n      <td>00130031</td>\n      <td>Deurne</td>\n      <td>Deurne</td>\n      <td>Antwerpen</td>\n      <td>Vlaanderen</td>\n      <td>Brug 1 - Cornelissenlaan</td>\n      <td>3-maandelijke inspectie, 6-maandelijkse waterp...</td>\n      <td>technisch</td>\n      <td>Ja</td>\n      <td>2022</td>\n      <td>...</td>\n      <td>NaN</td>\n      <td>AWV</td>\n      <td>volledig</td>\n      <td>Toestand 4</td>\n      <td>1e prioriteit - te vernieuwen</td>\n      <td>2016</td>\n      <td>2019</td>\n      <td>3</td>\n      <td>ja</td>\n      <td>2003</td>\n    </tr>\n    <tr>\n      <th>2813</th>\n      <td>nan</td>\n      <td>Wijnegem</td>\n      <td>NaN</td>\n      <td>Antwerpen</td>\n      <td>Vlaanderen</td>\n      <td>Brug op de N12 bij het Albertkanaal</td>\n      <td>doorvaarthoogte is te laag en wordt opgehoogd</td>\n      <td>technisch</td>\n      <td>Ja</td>\n      <td>2023</td>\n      <td>...</td>\n      <td>NaN</td>\n      <td>Gemeente</td>\n      <td>NaN</td>\n      <td>NaN</td>\n      <td>NaN</td>\n      <td>nan</td>\n      <td>nan</td>\n      <td>nan</td>\n      <td>nee</td>\n      <td>nan</td>\n    </tr>\n    <tr>\n      <th>2816</th>\n      <td>nan</td>\n      <td>De Pinte</td>\n      <td>NaN</td>\n      <td>Oost-Vlaanderen</td>\n      <td>Vlaanderen</td>\n      <td>Baron de Gieylaan</td>\n      <td>nieuwe asfaltlaag</td>\n      <td>technisch</td>\n      <td>Ja</td>\n      <td>onbekend</td>\n      <td>...</td>\n      <td>NaN</td>\n      <td>Gemeente</td>\n      <td>NaN</td>\n      <td>NaN</td>\n      <td>NaN</td>\n      <td>nan</td>\n      <td>nan</td>\n      <td>nan</td>\n      <td>nee</td>\n      <td>nan</td>\n    </tr>\n    <tr>\n      <th>2817</th>\n      <td>nan</td>\n      <td>De Pinte</td>\n      <td>NaN</td>\n      <td>Oost-Vlaanderen</td>\n      <td>Vlaanderen</td>\n      <td>Pont-Noord over de E17</td>\n      <td>fietspaden voorzien</td>\n      <td>technisch</td>\n      <td>Ja</td>\n      <td>onbekend</td>\n      <td>...</td>\n      <td>NaN</td>\n      <td>Gemeente</td>\n      <td>NaN</td>\n      <td>NaN</td>\n      <td>NaN</td>\n      <td>nan</td>\n      <td>nan</td>\n      <td>nan</td>\n      <td>nee</td>\n      <td>nan</td>\n    </tr>\n    <tr>\n      <th>2822</th>\n      <td>nan</td>\n      <td>Kuurne</td>\n      <td>NaN</td>\n      <td>West-Vlaanderen</td>\n      <td>Vlaanderen</td>\n      <td>Kuurnebrug over de Leie</td>\n      <td>brug ophogen ihkv Europees project</td>\n      <td>technisch</td>\n      <td>Ja</td>\n      <td>2021</td>\n      <td>...</td>\n      <td>NaN</td>\n      <td>Gemeente</td>\n      <td>NaN</td>\n      <td>NaN</td>\n      <td>NaN</td>\n      <td>nan</td>\n      <td>nan</td>\n      <td>nan</td>\n      <td>nee</td>\n      <td>nan</td>\n    </tr>\n    <tr>\n      <th>2824</th>\n      <td>nan</td>\n      <td>Kuurne</td>\n      <td>NaN</td>\n      <td>West-Vlaanderen</td>\n      <td>Vlaanderen</td>\n      <td>Fiets- en wandelbrug over de Heulebeek bij de ...</td>\n      <td>extra inzetten op verbindingswegen voor trage ...</td>\n      <td>technisch</td>\n      <td>Ja</td>\n      <td>2022</td>\n      <td>...</td>\n      <td>NaN</td>\n      <td>Gemeente</td>\n      <td>NaN</td>\n      <td>NaN</td>\n      <td>NaN</td>\n      <td>nan</td>\n      <td>nan</td>\n      <td>nan</td>\n      <td>nee</td>\n      <td>nan</td>\n    </tr>\n    <tr>\n      <th>2826</th>\n      <td>nan</td>\n      <td>Schoten</td>\n      <td>NaN</td>\n      <td>Antwerpen</td>\n      <td>Vlaanderen</td>\n      <td>Hoogmolenbrug</td>\n      <td>In het kader van het verbeteren van de bereikb...</td>\n      <td>technisch</td>\n      <td>Ja</td>\n      <td>Bezig</td>\n      <td>...</td>\n      <td>NaN</td>\n      <td>Gemeente</td>\n      <td>NaN</td>\n      <td>NaN</td>\n      <td>NaN</td>\n      <td>nan</td>\n      <td>nan</td>\n      <td>nan</td>\n      <td>nee</td>\n      <td>nan</td>\n    </tr>\n    <tr>\n      <th>2831</th>\n      <td>nan</td>\n      <td>Beersel</td>\n      <td>NaN</td>\n      <td>Vlaams Brabant</td>\n      <td>Vlaanderen</td>\n      <td>Brug over de Zenne in de Zennestraat</td>\n      <td>moet ervangen wegens toekomstige toename tonna...</td>\n      <td>technisch</td>\n      <td>Ja</td>\n      <td>vermoedelijk &gt;2024</td>\n      <td>...</td>\n      <td>NaN</td>\n      <td>Gemeente</td>\n      <td>NaN</td>\n      <td>NaN</td>\n      <td>NaN</td>\n      <td>nan</td>\n      <td>nan</td>\n      <td>nan</td>\n      <td>onbekend</td>\n      <td>nan</td>\n    </tr>\n    <tr>\n      <th>2832</th>\n      <td>nan</td>\n      <td>Beersel</td>\n      <td>NaN</td>\n      <td>Vlaams Brabant</td>\n      <td>Vlaanderen</td>\n      <td>Houten voetgangersbrug over de Kesterbeek in H...</td>\n      <td>brugdeik reinigen en plaatsen anti-slib</td>\n      <td>technisch</td>\n      <td>Ja</td>\n      <td>2020</td>\n      <td>...</td>\n      <td>NaN</td>\n      <td>Gemeente</td>\n      <td>NaN</td>\n      <td>NaN</td>\n      <td>NaN</td>\n      <td>nan</td>\n      <td>nan</td>\n      <td>nan</td>\n      <td>nee</td>\n      <td>nan</td>\n    </tr>\n    <tr>\n      <th>2836</th>\n      <td>nan</td>\n      <td>Tienen</td>\n      <td>NaN</td>\n      <td>Vlaams Brabant</td>\n      <td>Vlaanderen</td>\n      <td>Brug in de Biezenstraat over De Mene</td>\n      <td>stabiliteitsproblemen, moet vernieuwd worden</td>\n      <td>technisch</td>\n      <td>Ja</td>\n      <td>onbekend</td>\n      <td>...</td>\n      <td>NaN</td>\n      <td>Gemeente</td>\n      <td>NaN</td>\n      <td>NaN</td>\n      <td>NaN</td>\n      <td>nan</td>\n      <td>nan</td>\n      <td>nan</td>\n      <td>onbekend</td>\n      <td>nan</td>\n    </tr>\n  </tbody>\n</table>\n<p>11 rows × 22 columns</p>\n</div>"
     },
     "metadata": {},
     "execution_count": 616
    }
   ],
   "source": [
    "df[df.oorzaak == 'technisch']"
   ]
  },
  {
   "cell_type": "code",
   "execution_count": 615,
   "metadata": {},
   "outputs": [
    {
     "output_type": "execute_result",
     "data": {
      "text/plain": "     idnr      gemeente (deelgemeente)        provincie      gewest  \\\n2814  nan      Mechelen            NaN        Antwerpen  Vlaanderen   \n2815  nan        Voeren            NaN          Limburg  Vlaanderen   \n2819  nan  Hamont-Achel            NaN          Limburg  Vlaanderen   \n2821  nan     Merelbeke            NaN  Oost-Vlaanderen  Vlaanderen   \n2823  nan        Kuurne            NaN  West-Vlaanderen  Vlaanderen   \n2829  nan     Diksmuide            NaN  West-Vlaanderen  Vlaanderen   \n2830  nan       Beersel            NaN   Vlaams Brabant  Vlaanderen   \n2833  nan     Rotselaar            NaN   Vlaams Brabant  Vlaanderen   \n2837  nan     Drogenbos            NaN   Vlaams Brabant  Vlaanderen   \n2838  nan        Bertem            NaN   Vlaams Brabant  Vlaanderen   \n\n                                               brugnaam  \\\n2814      Postzegelbrug (N1) over kanaal Leuven - Dijle   \n2815                  Brug over \"De Gulp\" in Remersdaal   \n2819                                      Brug Warmbeek   \n2821      Brug over de Ringvaart en R4 bij Fraterstraat   \n2823  Brug over de Heulebeek aan de monding van de Leie   \n2829  Brug over de Grote Beverdijkvaart ten hoogte v...   \n2830             Brug over de Zenne in de Dworpsestraat   \n2833          Brug op de grens van Rotselaar en Tremelo   \n2837      Brug in de Drie Fonteinenstraat over de Zenne   \n2838           Brug over de dreef van kerk naar kasteel   \n\n                                               probleem    oorzaak  \\\n2814  wordt afgebroken en komen twee bruggen voor in...  verouderd   \n2815  is bouwvallig, afgesloten voor gemotoriseerd v...  verouderd   \n2819                                           slijtage  verouderd   \n2821                                           slijtage  verouderd   \n2823                                          verouderd  verouderd   \n2829                                          verouderd  verouderd   \n2830                                          verouderd  verouderd   \n2833                                          verouderd  verouderd   \n2837  was lang niet in gebruik, helemaal afgebroken ...  verouderd   \n2838   ouderdom, werken aan de stabiliteit, geen gevaar  verouderd   \n\n     werken_gepland              start_werken  ... beelden beheerder beheer  \\\n2814             Ja                      2024  ...     NaN  Gemeente    NaN   \n2815             Ja                      2020  ...     NaN  Gemeente    NaN   \n2819             Ja                      2020  ...     NaN  Gemeente    NaN   \n2821             Ja                      2021  ...     NaN  Gemeente    NaN   \n2823             Ja                      2023  ...     NaN  Gemeente    NaN   \n2829             Ja                      2012  ...     NaN  Gemeente    NaN   \n2830             Ja                      2012  ...     NaN  Gemeente    NaN   \n2833             Ja                 2021/2022  ...     NaN  Gemeente    NaN   \n2837             Ja                     Bezig  ...     NaN  Gemeente    NaN   \n2838             Ja  dit jaar of volgend jaar  ...     NaN  Gemeente    NaN   \n\n     toestandcode  LPK prev_year last_year difference hoogproblematisch  \\\n2814          NaN  NaN       nan       nan        nan                ja   \n2815          NaN  NaN       nan       nan        nan                ja   \n2819          NaN  NaN       nan       nan        nan          onbekend   \n2821          NaN  NaN       nan       nan        nan          onbekend   \n2823          NaN  NaN       nan       nan        nan          onbekend   \n2829          NaN  NaN       nan       nan        nan          onbekend   \n2830          NaN  NaN       nan       nan        nan          onbekend   \n2833          NaN  NaN       nan       nan        nan          onbekend   \n2837          NaN  NaN       nan       nan        nan          onbekend   \n2838          NaN  NaN       nan       nan        nan               nee   \n\n     lijst_sinds  \n2814         nan  \n2815         nan  \n2819         nan  \n2821         nan  \n2823         nan  \n2829         nan  \n2830         nan  \n2833         nan  \n2837         nan  \n2838         nan  \n\n[10 rows x 22 columns]",
      "text/html": "<div>\n<style scoped>\n    .dataframe tbody tr th:only-of-type {\n        vertical-align: middle;\n    }\n\n    .dataframe tbody tr th {\n        vertical-align: top;\n    }\n\n    .dataframe thead th {\n        text-align: right;\n    }\n</style>\n<table border=\"1\" class=\"dataframe\">\n  <thead>\n    <tr style=\"text-align: right;\">\n      <th></th>\n      <th>idnr</th>\n      <th>gemeente</th>\n      <th>(deelgemeente)</th>\n      <th>provincie</th>\n      <th>gewest</th>\n      <th>brugnaam</th>\n      <th>probleem</th>\n      <th>oorzaak</th>\n      <th>werken_gepland</th>\n      <th>start_werken</th>\n      <th>...</th>\n      <th>beelden</th>\n      <th>beheerder</th>\n      <th>beheer</th>\n      <th>toestandcode</th>\n      <th>LPK</th>\n      <th>prev_year</th>\n      <th>last_year</th>\n      <th>difference</th>\n      <th>hoogproblematisch</th>\n      <th>lijst_sinds</th>\n    </tr>\n  </thead>\n  <tbody>\n    <tr>\n      <th>2814</th>\n      <td>nan</td>\n      <td>Mechelen</td>\n      <td>NaN</td>\n      <td>Antwerpen</td>\n      <td>Vlaanderen</td>\n      <td>Postzegelbrug (N1) over kanaal Leuven - Dijle</td>\n      <td>wordt afgebroken en komen twee bruggen voor in...</td>\n      <td>verouderd</td>\n      <td>Ja</td>\n      <td>2024</td>\n      <td>...</td>\n      <td>NaN</td>\n      <td>Gemeente</td>\n      <td>NaN</td>\n      <td>NaN</td>\n      <td>NaN</td>\n      <td>nan</td>\n      <td>nan</td>\n      <td>nan</td>\n      <td>ja</td>\n      <td>nan</td>\n    </tr>\n    <tr>\n      <th>2815</th>\n      <td>nan</td>\n      <td>Voeren</td>\n      <td>NaN</td>\n      <td>Limburg</td>\n      <td>Vlaanderen</td>\n      <td>Brug over \"De Gulp\" in Remersdaal</td>\n      <td>is bouwvallig, afgesloten voor gemotoriseerd v...</td>\n      <td>verouderd</td>\n      <td>Ja</td>\n      <td>2020</td>\n      <td>...</td>\n      <td>NaN</td>\n      <td>Gemeente</td>\n      <td>NaN</td>\n      <td>NaN</td>\n      <td>NaN</td>\n      <td>nan</td>\n      <td>nan</td>\n      <td>nan</td>\n      <td>ja</td>\n      <td>nan</td>\n    </tr>\n    <tr>\n      <th>2819</th>\n      <td>nan</td>\n      <td>Hamont-Achel</td>\n      <td>NaN</td>\n      <td>Limburg</td>\n      <td>Vlaanderen</td>\n      <td>Brug Warmbeek</td>\n      <td>slijtage</td>\n      <td>verouderd</td>\n      <td>Ja</td>\n      <td>2020</td>\n      <td>...</td>\n      <td>NaN</td>\n      <td>Gemeente</td>\n      <td>NaN</td>\n      <td>NaN</td>\n      <td>NaN</td>\n      <td>nan</td>\n      <td>nan</td>\n      <td>nan</td>\n      <td>onbekend</td>\n      <td>nan</td>\n    </tr>\n    <tr>\n      <th>2821</th>\n      <td>nan</td>\n      <td>Merelbeke</td>\n      <td>NaN</td>\n      <td>Oost-Vlaanderen</td>\n      <td>Vlaanderen</td>\n      <td>Brug over de Ringvaart en R4 bij Fraterstraat</td>\n      <td>slijtage</td>\n      <td>verouderd</td>\n      <td>Ja</td>\n      <td>2021</td>\n      <td>...</td>\n      <td>NaN</td>\n      <td>Gemeente</td>\n      <td>NaN</td>\n      <td>NaN</td>\n      <td>NaN</td>\n      <td>nan</td>\n      <td>nan</td>\n      <td>nan</td>\n      <td>onbekend</td>\n      <td>nan</td>\n    </tr>\n    <tr>\n      <th>2823</th>\n      <td>nan</td>\n      <td>Kuurne</td>\n      <td>NaN</td>\n      <td>West-Vlaanderen</td>\n      <td>Vlaanderen</td>\n      <td>Brug over de Heulebeek aan de monding van de Leie</td>\n      <td>verouderd</td>\n      <td>verouderd</td>\n      <td>Ja</td>\n      <td>2023</td>\n      <td>...</td>\n      <td>NaN</td>\n      <td>Gemeente</td>\n      <td>NaN</td>\n      <td>NaN</td>\n      <td>NaN</td>\n      <td>nan</td>\n      <td>nan</td>\n      <td>nan</td>\n      <td>onbekend</td>\n      <td>nan</td>\n    </tr>\n    <tr>\n      <th>2829</th>\n      <td>nan</td>\n      <td>Diksmuide</td>\n      <td>NaN</td>\n      <td>West-Vlaanderen</td>\n      <td>Vlaanderen</td>\n      <td>Brug over de Grote Beverdijkvaart ten hoogte v...</td>\n      <td>verouderd</td>\n      <td>verouderd</td>\n      <td>Ja</td>\n      <td>2012</td>\n      <td>...</td>\n      <td>NaN</td>\n      <td>Gemeente</td>\n      <td>NaN</td>\n      <td>NaN</td>\n      <td>NaN</td>\n      <td>nan</td>\n      <td>nan</td>\n      <td>nan</td>\n      <td>onbekend</td>\n      <td>nan</td>\n    </tr>\n    <tr>\n      <th>2830</th>\n      <td>nan</td>\n      <td>Beersel</td>\n      <td>NaN</td>\n      <td>Vlaams Brabant</td>\n      <td>Vlaanderen</td>\n      <td>Brug over de Zenne in de Dworpsestraat</td>\n      <td>verouderd</td>\n      <td>verouderd</td>\n      <td>Ja</td>\n      <td>2012</td>\n      <td>...</td>\n      <td>NaN</td>\n      <td>Gemeente</td>\n      <td>NaN</td>\n      <td>NaN</td>\n      <td>NaN</td>\n      <td>nan</td>\n      <td>nan</td>\n      <td>nan</td>\n      <td>onbekend</td>\n      <td>nan</td>\n    </tr>\n    <tr>\n      <th>2833</th>\n      <td>nan</td>\n      <td>Rotselaar</td>\n      <td>NaN</td>\n      <td>Vlaams Brabant</td>\n      <td>Vlaanderen</td>\n      <td>Brug op de grens van Rotselaar en Tremelo</td>\n      <td>verouderd</td>\n      <td>verouderd</td>\n      <td>Ja</td>\n      <td>2021/2022</td>\n      <td>...</td>\n      <td>NaN</td>\n      <td>Gemeente</td>\n      <td>NaN</td>\n      <td>NaN</td>\n      <td>NaN</td>\n      <td>nan</td>\n      <td>nan</td>\n      <td>nan</td>\n      <td>onbekend</td>\n      <td>nan</td>\n    </tr>\n    <tr>\n      <th>2837</th>\n      <td>nan</td>\n      <td>Drogenbos</td>\n      <td>NaN</td>\n      <td>Vlaams Brabant</td>\n      <td>Vlaanderen</td>\n      <td>Brug in de Drie Fonteinenstraat over de Zenne</td>\n      <td>was lang niet in gebruik, helemaal afgebroken ...</td>\n      <td>verouderd</td>\n      <td>Ja</td>\n      <td>Bezig</td>\n      <td>...</td>\n      <td>NaN</td>\n      <td>Gemeente</td>\n      <td>NaN</td>\n      <td>NaN</td>\n      <td>NaN</td>\n      <td>nan</td>\n      <td>nan</td>\n      <td>nan</td>\n      <td>onbekend</td>\n      <td>nan</td>\n    </tr>\n    <tr>\n      <th>2838</th>\n      <td>nan</td>\n      <td>Bertem</td>\n      <td>NaN</td>\n      <td>Vlaams Brabant</td>\n      <td>Vlaanderen</td>\n      <td>Brug over de dreef van kerk naar kasteel</td>\n      <td>ouderdom, werken aan de stabiliteit, geen gevaar</td>\n      <td>verouderd</td>\n      <td>Ja</td>\n      <td>dit jaar of volgend jaar</td>\n      <td>...</td>\n      <td>NaN</td>\n      <td>Gemeente</td>\n      <td>NaN</td>\n      <td>NaN</td>\n      <td>NaN</td>\n      <td>nan</td>\n      <td>nan</td>\n      <td>nan</td>\n      <td>nee</td>\n      <td>nan</td>\n    </tr>\n  </tbody>\n</table>\n<p>10 rows × 22 columns</p>\n</div>"
     },
     "metadata": {},
     "execution_count": 615
    }
   ],
   "source": [
    "df[df.oorzaak == 'verouderd']"
   ]
  },
  {
   "cell_type": "code",
   "execution_count": 617,
   "metadata": {},
   "outputs": [
    {
     "output_type": "execute_result",
     "data": {
      "text/plain": "        idnr  gemeente (deelgemeente)        provincie      gewest  \\\n4   10000541  Zaventem       Zaventem   Vlaams Brabant  Vlaanderen   \n5   10000542  Zaventem       Zaventem   Vlaams Brabant  Vlaanderen   \n8   00030091  Zaventem       Zaventem   Vlaams Brabant  Vlaanderen   \n13  00100451      Gent        Drongen  Oost-Vlaanderen  Vlaanderen   \n17  00100461      Gent        Drongen  Oost-Vlaanderen  Vlaanderen   \n18  00100441      Gent        Drongen  Oost-Vlaanderen  Vlaanderen   \n\n                                      brugnaam  \\\n4                   Brug B16 Hector Hennaulaan   \n5                Brug B16 - deel oprit naar R0   \n8                           Viaduct B9 over R0   \n13  Brug LXXIV over de A10 aan op- en afrit 13   \n17                   Brug LXXV - Solvijnsdreef   \n18                      Brug LXXIII in Drongen   \n\n                                  probleem      oorzaak werken_gepland  \\\n4   Moet vernieuwd worden bij verbreden R0  groter plan             Ja   \n5   Moet vernieuwd worden bij verbreden R0  groter plan             Ja   \n8   Moet vernieuwd worden bij verbreden R0  groter plan             Ja   \n13     Wordt vernieuwd met complex Drongen  groter plan             Ja   \n17     Wordt vernieuwd met complex Drongen  groter plan             Ja   \n18     Wordt vernieuwd met complex Drongen  groter plan             Ja   \n\n   start_werken  ...        beelden beheerder    beheer toestandcode  \\\n4          2022  ...            NaN       AWV  volledig   Toestand 4   \n5          2022  ...            NaN       AWV  volledig   Toestand 4   \n8      onbekend  ...            NaN       AWV  volledig   Toestand 4   \n13         2021  ...            Nee       AWV  volledig   Toestand 4   \n17         2021  ...  Foto en video       AWV  volledig   Toestand 4   \n18         2021  ...  Foto en video       AWV  volledig   Toestand 4   \n\n                              LPK prev_year last_year difference  \\\n4   1e prioriteit - te vernieuwen      2015      2018          3   \n5   1e prioriteit - te vernieuwen      2013      2018          5   \n8   2e prioriteit - te vernieuwen      2014      2018          4   \n13  2e prioriteit - te vernieuwen      2017      2020          3   \n17  2e prioriteit - te vernieuwen      2016      2019          3   \n18  2e prioriteit - te vernieuwen      2016      2019          3   \n\n   hoogproblematisch lijst_sinds  \n4                 ja        2016  \n5                 ja        2007  \n8                 ja        2009  \n13                ja        1997  \n17                ja        2001  \n18                ja        2001  \n\n[6 rows x 22 columns]",
      "text/html": "<div>\n<style scoped>\n    .dataframe tbody tr th:only-of-type {\n        vertical-align: middle;\n    }\n\n    .dataframe tbody tr th {\n        vertical-align: top;\n    }\n\n    .dataframe thead th {\n        text-align: right;\n    }\n</style>\n<table border=\"1\" class=\"dataframe\">\n  <thead>\n    <tr style=\"text-align: right;\">\n      <th></th>\n      <th>idnr</th>\n      <th>gemeente</th>\n      <th>(deelgemeente)</th>\n      <th>provincie</th>\n      <th>gewest</th>\n      <th>brugnaam</th>\n      <th>probleem</th>\n      <th>oorzaak</th>\n      <th>werken_gepland</th>\n      <th>start_werken</th>\n      <th>...</th>\n      <th>beelden</th>\n      <th>beheerder</th>\n      <th>beheer</th>\n      <th>toestandcode</th>\n      <th>LPK</th>\n      <th>prev_year</th>\n      <th>last_year</th>\n      <th>difference</th>\n      <th>hoogproblematisch</th>\n      <th>lijst_sinds</th>\n    </tr>\n  </thead>\n  <tbody>\n    <tr>\n      <th>4</th>\n      <td>10000541</td>\n      <td>Zaventem</td>\n      <td>Zaventem</td>\n      <td>Vlaams Brabant</td>\n      <td>Vlaanderen</td>\n      <td>Brug B16 Hector Hennaulaan</td>\n      <td>Moet vernieuwd worden bij verbreden R0</td>\n      <td>groter plan</td>\n      <td>Ja</td>\n      <td>2022</td>\n      <td>...</td>\n      <td>NaN</td>\n      <td>AWV</td>\n      <td>volledig</td>\n      <td>Toestand 4</td>\n      <td>1e prioriteit - te vernieuwen</td>\n      <td>2015</td>\n      <td>2018</td>\n      <td>3</td>\n      <td>ja</td>\n      <td>2016</td>\n    </tr>\n    <tr>\n      <th>5</th>\n      <td>10000542</td>\n      <td>Zaventem</td>\n      <td>Zaventem</td>\n      <td>Vlaams Brabant</td>\n      <td>Vlaanderen</td>\n      <td>Brug B16 - deel oprit naar R0</td>\n      <td>Moet vernieuwd worden bij verbreden R0</td>\n      <td>groter plan</td>\n      <td>Ja</td>\n      <td>2022</td>\n      <td>...</td>\n      <td>NaN</td>\n      <td>AWV</td>\n      <td>volledig</td>\n      <td>Toestand 4</td>\n      <td>1e prioriteit - te vernieuwen</td>\n      <td>2013</td>\n      <td>2018</td>\n      <td>5</td>\n      <td>ja</td>\n      <td>2007</td>\n    </tr>\n    <tr>\n      <th>8</th>\n      <td>00030091</td>\n      <td>Zaventem</td>\n      <td>Zaventem</td>\n      <td>Vlaams Brabant</td>\n      <td>Vlaanderen</td>\n      <td>Viaduct B9 over R0</td>\n      <td>Moet vernieuwd worden bij verbreden R0</td>\n      <td>groter plan</td>\n      <td>Ja</td>\n      <td>onbekend</td>\n      <td>...</td>\n      <td>NaN</td>\n      <td>AWV</td>\n      <td>volledig</td>\n      <td>Toestand 4</td>\n      <td>2e prioriteit - te vernieuwen</td>\n      <td>2014</td>\n      <td>2018</td>\n      <td>4</td>\n      <td>ja</td>\n      <td>2009</td>\n    </tr>\n    <tr>\n      <th>13</th>\n      <td>00100451</td>\n      <td>Gent</td>\n      <td>Drongen</td>\n      <td>Oost-Vlaanderen</td>\n      <td>Vlaanderen</td>\n      <td>Brug LXXIV over de A10 aan op- en afrit 13</td>\n      <td>Wordt vernieuwd met complex Drongen</td>\n      <td>groter plan</td>\n      <td>Ja</td>\n      <td>2021</td>\n      <td>...</td>\n      <td>Nee</td>\n      <td>AWV</td>\n      <td>volledig</td>\n      <td>Toestand 4</td>\n      <td>2e prioriteit - te vernieuwen</td>\n      <td>2017</td>\n      <td>2020</td>\n      <td>3</td>\n      <td>ja</td>\n      <td>1997</td>\n    </tr>\n    <tr>\n      <th>17</th>\n      <td>00100461</td>\n      <td>Gent</td>\n      <td>Drongen</td>\n      <td>Oost-Vlaanderen</td>\n      <td>Vlaanderen</td>\n      <td>Brug LXXV - Solvijnsdreef</td>\n      <td>Wordt vernieuwd met complex Drongen</td>\n      <td>groter plan</td>\n      <td>Ja</td>\n      <td>2021</td>\n      <td>...</td>\n      <td>Foto en video</td>\n      <td>AWV</td>\n      <td>volledig</td>\n      <td>Toestand 4</td>\n      <td>2e prioriteit - te vernieuwen</td>\n      <td>2016</td>\n      <td>2019</td>\n      <td>3</td>\n      <td>ja</td>\n      <td>2001</td>\n    </tr>\n    <tr>\n      <th>18</th>\n      <td>00100441</td>\n      <td>Gent</td>\n      <td>Drongen</td>\n      <td>Oost-Vlaanderen</td>\n      <td>Vlaanderen</td>\n      <td>Brug LXXIII in Drongen</td>\n      <td>Wordt vernieuwd met complex Drongen</td>\n      <td>groter plan</td>\n      <td>Ja</td>\n      <td>2021</td>\n      <td>...</td>\n      <td>Foto en video</td>\n      <td>AWV</td>\n      <td>volledig</td>\n      <td>Toestand 4</td>\n      <td>2e prioriteit - te vernieuwen</td>\n      <td>2016</td>\n      <td>2019</td>\n      <td>3</td>\n      <td>ja</td>\n      <td>2001</td>\n    </tr>\n  </tbody>\n</table>\n<p>6 rows × 22 columns</p>\n</div>"
     },
     "metadata": {},
     "execution_count": 617
    }
   ],
   "source": [
    "df[df.oorzaak == 'groter plan']"
   ]
  },
  {
   "cell_type": "code",
   "execution_count": 618,
   "metadata": {},
   "outputs": [
    {
     "output_type": "execute_result",
     "data": {
      "text/plain": "        idnr   gemeente (deelgemeente)        provincie      gewest  \\\n9   00070131      Halle      Buizingen   Vlaams Brabant  Vlaanderen   \n22  00170451  Roeselare        Rumbeke  West-Vlaanderen  Vlaanderen   \n27  02570007   Zwevegem            NaN  West-Vlaanderen  Vlaanderen   \n33  25900171       Gent        Drongen  Oost-Vlaanderen  Vlaanderen   \n\n                                            brugnaam  \\\n9                           BRUG-1 over R0 in Drasop   \n22                   BRUG-B50-N36-ROESELARE-KERKHOVE   \n27  BRUG-AAN-LA-FLANDRE-OVER-NW-SLUIS-3-OUDE-SLUIS-6   \n33                                 BEEKSTRAATBRUG-W3   \n\n                                             probleem  oorzaak werken_gepland  \\\n9   Brug afgesloten voor gemotoriseerd verkeer na ...  ongeval             Ja   \n22                                  Schade na ongeval  ongeval             Ja   \n27     Beschadigd na aanrijding, werken in uitvoering  ongeval             Ja   \n33   Beschadigd na aanrijding. Werken gepland in 2020  ongeval             Ja   \n\n   start_werken  ... beelden         beheerder    beheer toestandcode  \\\n9      onbekend  ...     NaN               AWV  volledig   Toestand 4   \n22     onbekend  ...     Nee               AWV  volledig   Toestand 4   \n27         2020  ...     NaN  Vlaamse Waterweg  volledig   Toestand 4   \n33         2020  ...     NaN  Vlaamse Waterweg  volledig   Toestand 4   \n\n                              LPK prev_year last_year difference  \\\n9   1e prioriteit - te herstellen      2014      2018          4   \n22  1e prioriteit - te herstellen      2013      2017          4   \n27  1e prioriteit - te herstellen      2013      2018          5   \n33  1e prioriteit - te herstellen      2015      2018          3   \n\n   hoogproblematisch lijst_sinds  \n9                 ja        2018  \n22                ja        2018  \n27                ja        2017  \n33                ja        2018  \n\n[4 rows x 22 columns]",
      "text/html": "<div>\n<style scoped>\n    .dataframe tbody tr th:only-of-type {\n        vertical-align: middle;\n    }\n\n    .dataframe tbody tr th {\n        vertical-align: top;\n    }\n\n    .dataframe thead th {\n        text-align: right;\n    }\n</style>\n<table border=\"1\" class=\"dataframe\">\n  <thead>\n    <tr style=\"text-align: right;\">\n      <th></th>\n      <th>idnr</th>\n      <th>gemeente</th>\n      <th>(deelgemeente)</th>\n      <th>provincie</th>\n      <th>gewest</th>\n      <th>brugnaam</th>\n      <th>probleem</th>\n      <th>oorzaak</th>\n      <th>werken_gepland</th>\n      <th>start_werken</th>\n      <th>...</th>\n      <th>beelden</th>\n      <th>beheerder</th>\n      <th>beheer</th>\n      <th>toestandcode</th>\n      <th>LPK</th>\n      <th>prev_year</th>\n      <th>last_year</th>\n      <th>difference</th>\n      <th>hoogproblematisch</th>\n      <th>lijst_sinds</th>\n    </tr>\n  </thead>\n  <tbody>\n    <tr>\n      <th>9</th>\n      <td>00070131</td>\n      <td>Halle</td>\n      <td>Buizingen</td>\n      <td>Vlaams Brabant</td>\n      <td>Vlaanderen</td>\n      <td>BRUG-1 over R0 in Drasop</td>\n      <td>Brug afgesloten voor gemotoriseerd verkeer na ...</td>\n      <td>ongeval</td>\n      <td>Ja</td>\n      <td>onbekend</td>\n      <td>...</td>\n      <td>NaN</td>\n      <td>AWV</td>\n      <td>volledig</td>\n      <td>Toestand 4</td>\n      <td>1e prioriteit - te herstellen</td>\n      <td>2014</td>\n      <td>2018</td>\n      <td>4</td>\n      <td>ja</td>\n      <td>2018</td>\n    </tr>\n    <tr>\n      <th>22</th>\n      <td>00170451</td>\n      <td>Roeselare</td>\n      <td>Rumbeke</td>\n      <td>West-Vlaanderen</td>\n      <td>Vlaanderen</td>\n      <td>BRUG-B50-N36-ROESELARE-KERKHOVE</td>\n      <td>Schade na ongeval</td>\n      <td>ongeval</td>\n      <td>Ja</td>\n      <td>onbekend</td>\n      <td>...</td>\n      <td>Nee</td>\n      <td>AWV</td>\n      <td>volledig</td>\n      <td>Toestand 4</td>\n      <td>1e prioriteit - te herstellen</td>\n      <td>2013</td>\n      <td>2017</td>\n      <td>4</td>\n      <td>ja</td>\n      <td>2018</td>\n    </tr>\n    <tr>\n      <th>27</th>\n      <td>02570007</td>\n      <td>Zwevegem</td>\n      <td>NaN</td>\n      <td>West-Vlaanderen</td>\n      <td>Vlaanderen</td>\n      <td>BRUG-AAN-LA-FLANDRE-OVER-NW-SLUIS-3-OUDE-SLUIS-6</td>\n      <td>Beschadigd na aanrijding, werken in uitvoering</td>\n      <td>ongeval</td>\n      <td>Ja</td>\n      <td>2020</td>\n      <td>...</td>\n      <td>NaN</td>\n      <td>Vlaamse Waterweg</td>\n      <td>volledig</td>\n      <td>Toestand 4</td>\n      <td>1e prioriteit - te herstellen</td>\n      <td>2013</td>\n      <td>2018</td>\n      <td>5</td>\n      <td>ja</td>\n      <td>2017</td>\n    </tr>\n    <tr>\n      <th>33</th>\n      <td>25900171</td>\n      <td>Gent</td>\n      <td>Drongen</td>\n      <td>Oost-Vlaanderen</td>\n      <td>Vlaanderen</td>\n      <td>BEEKSTRAATBRUG-W3</td>\n      <td>Beschadigd na aanrijding. Werken gepland in 2020</td>\n      <td>ongeval</td>\n      <td>Ja</td>\n      <td>2020</td>\n      <td>...</td>\n      <td>NaN</td>\n      <td>Vlaamse Waterweg</td>\n      <td>volledig</td>\n      <td>Toestand 4</td>\n      <td>1e prioriteit - te herstellen</td>\n      <td>2015</td>\n      <td>2018</td>\n      <td>3</td>\n      <td>ja</td>\n      <td>2018</td>\n    </tr>\n  </tbody>\n</table>\n<p>4 rows × 22 columns</p>\n</div>"
     },
     "metadata": {},
     "execution_count": 618
    }
   ],
   "source": [
    "df[df.oorzaak == 'ongeval']"
   ]
  },
  {
   "cell_type": "markdown",
   "metadata": {},
   "source": [
    "Bruggen die verouderd zijn, staan eigenlijk altijd onder beheer van de gemeente. Bruggen die onderdeel zijn van een groter plan om gerenoveerd te worden, staan allemaal al langere tijd op de lijst en zijn dus hoogproblematische bruggen. Bruggen waar een ongeval de oorzaak is om te renoveren, zijn allemaal vrij recent op de lijst gekomen en zijn ook hoogproblematische bruggen."
   ]
  },
  {
   "cell_type": "markdown",
   "metadata": {},
   "source": [
    "## Zijn voor alle bruggen al werken gepland?"
   ]
  },
  {
   "cell_type": "code",
   "execution_count": 619,
   "metadata": {},
   "outputs": [
    {
     "output_type": "execute_result",
     "data": {
      "text/plain": "Ja          87\nonbekend    37\nNee         14\nName: werken_gepland, dtype: int64"
     },
     "metadata": {},
     "execution_count": 619
    }
   ],
   "source": [
    "df.werken_gepland.value_counts()"
   ]
  },
  {
   "cell_type": "code",
   "execution_count": 621,
   "metadata": {},
   "outputs": [
    {
     "output_type": "execute_result",
     "data": {
      "text/plain": "        idnr       gemeente                (deelgemeente)        provincie  \\\n0   00130101      Wommelgem                     Wommelgem        Antwerpen   \n6   00040131       Overijse                      Overijse   Vlaams Brabant   \n10  00120046     Grimbergen             Strombeek - Bever   Vlaams Brabant   \n11  00120047     Grimbergen             Strombeek - Bever   Vlaams Brabant   \n12  00100471           Gent  Sint-Denijs-Westrem - Afsnee  Oost-Vlaanderen   \n16  00100681       Wetteren                       Westrem  Oost-Vlaanderen   \n24  27000151     Nieuwpoort                    Nieuwpoort  West-Vlaanderen   \n25  25700151       Kortrijk                           NaN  West-Vlaanderen   \n26  25100191       Kortrijk                           NaN  West-Vlaanderen   \n29  25900071      Merelbeke                     Merelbeke  Oost-Vlaanderen   \n32  25520101  Sint-Laureins                           NaN  Oost-Vlaanderen   \n34  25900161           Gent                       Drongen  Oost-Vlaanderen   \n35  25100481           Gent                           NaN  Oost-Vlaanderen   \n38  23000221          Halle                         Halle   Vlaams Brabant   \n\n        gewest                                           brugnaam  \\\n0   Vlaanderen                         Brug B5 - Wijnegemsteenweg   \n6   Vlaanderen  Brug B1 in weg van groot verkeer 305 bij op- e...   \n10  Vlaanderen                                           BRUG-W20   \n11  Vlaanderen                            BRUG-W21-IN-A12-OVER-R0   \n12  Vlaanderen                Goedingebrug / Brug 12 over de Leie   \n16  Vlaanderen                                Brug XC over de E40   \n24  Vlaanderen                               LANGEBRUG-HN1-IN-N34   \n25  Vlaanderen                             VOETBRUG-OVER-SLUIS-11   \n26  Vlaanderen  Leiebrug in de Budastraat over de zijarm van d...   \n29  Vlaanderen      PROF.-VANDEPITTEBRUG WEGBRUG-W12 TER-HANDBRUG   \n32  Vlaanderen                             OOSTHOEKBRUG LIEVEBRUG   \n34  Vlaanderen                             DRONGENBRUG-WEGBRUG-W4   \n35  Vlaanderen                                      KROMMEWALBRUG   \n38  Vlaanderen                                       Bospoortbrug   \n\n                                             probleem      oorzaak  \\\n0   Vallende brokstukken. Afgesloten voor alle gem...     brokkelt   \n6                                             Verzakt   verzakking   \n10                                        Doorbuiging  doorbuiging   \n11                                        Doorbuiging  doorbuiging   \n12                              Moet vernieuwd worden     onbekend   \n16                                   Wordt afgebroken     onbekend   \n24                            Onder verhoogd toezicht     onbekend   \n25                                       Studie bezig     onbekend   \n26                                   Wordt afgebroken     onbekend   \n29        Moet gerenoveerd worden, maar niet dringend     onbekend   \n32   Er komt andere brug, alleen is deze brug erfgoed     onbekend   \n34                            Onderzoek herstel bezig     onbekend   \n35                                 Prijsvraag lopende     onbekend   \n38                        Wordt op termijn afgebroken     onbekend   \n\n   werken_gepland start_werken  ...        beelden         beheerder  \\\n0             Nee     onbekend  ...            NaN               AWV   \n6             Nee     onbekend  ...            NaN               AWV   \n10            Nee     onbekend  ...            NaN               AWV   \n11            Nee     onbekend  ...            NaN               AWV   \n12            Nee     onbekend  ...  Foto en video               AWV   \n16            Nee     onbekend  ...  Foto en video               AWV   \n24            Nee     onbekend  ...            NaN           AWV/VWW   \n25            Nee     onbekend  ...  Foto en video  Vlaamse Waterweg   \n26            Nee     onbekend  ...  Foto en video  Vlaamse Waterweg   \n29            Nee     onbekend  ...  Foto en video  Vlaamse Waterweg   \n32            Nee     onbekend  ...            NaN  Vlaamse Waterweg   \n34            Nee     onbekend  ...            NaN  Vlaamse Waterweg   \n35            Nee     onbekend  ...  Foto en video  Vlaamse Waterweg   \n38            Nee     onbekend  ...            NaN  Vlaamse Waterweg   \n\n       beheer toestandcode                            LPK prev_year last_year  \\\n0    volledig   Toestand 4  1e prioriteit - te vernieuwen      2019      2020   \n6    volledig   Toestand 4  1e prioriteit - te herstellen      2009      2012   \n10   volledig   Toestand 4  1e prioriteit - te vernieuwen      2012      2018   \n11   volledig   Toestand 4  1e prioriteit - te vernieuwen      2012      2018   \n12   volledig   Toestand 4  1e prioriteit - te vernieuwen      2013      2016   \n16   volledig   Toestand 4  1e prioriteit - te vernieuwen      2010      2018   \n24  bovenbouw   Toestand 4  1e prioriteit - te herstellen      2015      2018   \n25   volledig   Toestand 4  1e prioriteit - te vernieuwen      2016      2019   \n26   volledig   Toestand 4  1e prioriteit - te herstellen      2015      2018   \n29   volledig   Toestand 4  1e prioriteit - te herstellen      2015      2019   \n32   volledig   Toestand 4  1e prioriteit - te vernieuwen      2014      2017   \n34   volledig   Toestand 4  1e prioriteit - te herstellen      2015      2018   \n35   volledig   Toestand 4  1e prioriteit - te vernieuwen      2015      2018   \n38   volledig   Toestand 4  1e prioriteit - te vernieuwen      2016      2019   \n\n   difference hoogproblematisch lijst_sinds  \n0           1                ja        2007  \n6           3                ja        2018  \n10          6                ja        2019  \n11          6                ja        2019  \n12          3                ja        1997  \n16          8                ja        1999  \n24          3                ja        2019  \n25          3                ja        2014  \n26          3                ja        2013  \n29          4                ja        2017  \n32          3                ja        2018  \n34          3                ja        2018  \n35          3                ja        2018  \n38          3                ja         201  \n\n[14 rows x 22 columns]",
      "text/html": "<div>\n<style scoped>\n    .dataframe tbody tr th:only-of-type {\n        vertical-align: middle;\n    }\n\n    .dataframe tbody tr th {\n        vertical-align: top;\n    }\n\n    .dataframe thead th {\n        text-align: right;\n    }\n</style>\n<table border=\"1\" class=\"dataframe\">\n  <thead>\n    <tr style=\"text-align: right;\">\n      <th></th>\n      <th>idnr</th>\n      <th>gemeente</th>\n      <th>(deelgemeente)</th>\n      <th>provincie</th>\n      <th>gewest</th>\n      <th>brugnaam</th>\n      <th>probleem</th>\n      <th>oorzaak</th>\n      <th>werken_gepland</th>\n      <th>start_werken</th>\n      <th>...</th>\n      <th>beelden</th>\n      <th>beheerder</th>\n      <th>beheer</th>\n      <th>toestandcode</th>\n      <th>LPK</th>\n      <th>prev_year</th>\n      <th>last_year</th>\n      <th>difference</th>\n      <th>hoogproblematisch</th>\n      <th>lijst_sinds</th>\n    </tr>\n  </thead>\n  <tbody>\n    <tr>\n      <th>0</th>\n      <td>00130101</td>\n      <td>Wommelgem</td>\n      <td>Wommelgem</td>\n      <td>Antwerpen</td>\n      <td>Vlaanderen</td>\n      <td>Brug B5 - Wijnegemsteenweg</td>\n      <td>Vallende brokstukken. Afgesloten voor alle gem...</td>\n      <td>brokkelt</td>\n      <td>Nee</td>\n      <td>onbekend</td>\n      <td>...</td>\n      <td>NaN</td>\n      <td>AWV</td>\n      <td>volledig</td>\n      <td>Toestand 4</td>\n      <td>1e prioriteit - te vernieuwen</td>\n      <td>2019</td>\n      <td>2020</td>\n      <td>1</td>\n      <td>ja</td>\n      <td>2007</td>\n    </tr>\n    <tr>\n      <th>6</th>\n      <td>00040131</td>\n      <td>Overijse</td>\n      <td>Overijse</td>\n      <td>Vlaams Brabant</td>\n      <td>Vlaanderen</td>\n      <td>Brug B1 in weg van groot verkeer 305 bij op- e...</td>\n      <td>Verzakt</td>\n      <td>verzakking</td>\n      <td>Nee</td>\n      <td>onbekend</td>\n      <td>...</td>\n      <td>NaN</td>\n      <td>AWV</td>\n      <td>volledig</td>\n      <td>Toestand 4</td>\n      <td>1e prioriteit - te herstellen</td>\n      <td>2009</td>\n      <td>2012</td>\n      <td>3</td>\n      <td>ja</td>\n      <td>2018</td>\n    </tr>\n    <tr>\n      <th>10</th>\n      <td>00120046</td>\n      <td>Grimbergen</td>\n      <td>Strombeek - Bever</td>\n      <td>Vlaams Brabant</td>\n      <td>Vlaanderen</td>\n      <td>BRUG-W20</td>\n      <td>Doorbuiging</td>\n      <td>doorbuiging</td>\n      <td>Nee</td>\n      <td>onbekend</td>\n      <td>...</td>\n      <td>NaN</td>\n      <td>AWV</td>\n      <td>volledig</td>\n      <td>Toestand 4</td>\n      <td>1e prioriteit - te vernieuwen</td>\n      <td>2012</td>\n      <td>2018</td>\n      <td>6</td>\n      <td>ja</td>\n      <td>2019</td>\n    </tr>\n    <tr>\n      <th>11</th>\n      <td>00120047</td>\n      <td>Grimbergen</td>\n      <td>Strombeek - Bever</td>\n      <td>Vlaams Brabant</td>\n      <td>Vlaanderen</td>\n      <td>BRUG-W21-IN-A12-OVER-R0</td>\n      <td>Doorbuiging</td>\n      <td>doorbuiging</td>\n      <td>Nee</td>\n      <td>onbekend</td>\n      <td>...</td>\n      <td>NaN</td>\n      <td>AWV</td>\n      <td>volledig</td>\n      <td>Toestand 4</td>\n      <td>1e prioriteit - te vernieuwen</td>\n      <td>2012</td>\n      <td>2018</td>\n      <td>6</td>\n      <td>ja</td>\n      <td>2019</td>\n    </tr>\n    <tr>\n      <th>12</th>\n      <td>00100471</td>\n      <td>Gent</td>\n      <td>Sint-Denijs-Westrem - Afsnee</td>\n      <td>Oost-Vlaanderen</td>\n      <td>Vlaanderen</td>\n      <td>Goedingebrug / Brug 12 over de Leie</td>\n      <td>Moet vernieuwd worden</td>\n      <td>onbekend</td>\n      <td>Nee</td>\n      <td>onbekend</td>\n      <td>...</td>\n      <td>Foto en video</td>\n      <td>AWV</td>\n      <td>volledig</td>\n      <td>Toestand 4</td>\n      <td>1e prioriteit - te vernieuwen</td>\n      <td>2013</td>\n      <td>2016</td>\n      <td>3</td>\n      <td>ja</td>\n      <td>1997</td>\n    </tr>\n    <tr>\n      <th>16</th>\n      <td>00100681</td>\n      <td>Wetteren</td>\n      <td>Westrem</td>\n      <td>Oost-Vlaanderen</td>\n      <td>Vlaanderen</td>\n      <td>Brug XC over de E40</td>\n      <td>Wordt afgebroken</td>\n      <td>onbekend</td>\n      <td>Nee</td>\n      <td>onbekend</td>\n      <td>...</td>\n      <td>Foto en video</td>\n      <td>AWV</td>\n      <td>volledig</td>\n      <td>Toestand 4</td>\n      <td>1e prioriteit - te vernieuwen</td>\n      <td>2010</td>\n      <td>2018</td>\n      <td>8</td>\n      <td>ja</td>\n      <td>1999</td>\n    </tr>\n    <tr>\n      <th>24</th>\n      <td>27000151</td>\n      <td>Nieuwpoort</td>\n      <td>Nieuwpoort</td>\n      <td>West-Vlaanderen</td>\n      <td>Vlaanderen</td>\n      <td>LANGEBRUG-HN1-IN-N34</td>\n      <td>Onder verhoogd toezicht</td>\n      <td>onbekend</td>\n      <td>Nee</td>\n      <td>onbekend</td>\n      <td>...</td>\n      <td>NaN</td>\n      <td>AWV/VWW</td>\n      <td>bovenbouw</td>\n      <td>Toestand 4</td>\n      <td>1e prioriteit - te herstellen</td>\n      <td>2015</td>\n      <td>2018</td>\n      <td>3</td>\n      <td>ja</td>\n      <td>2019</td>\n    </tr>\n    <tr>\n      <th>25</th>\n      <td>25700151</td>\n      <td>Kortrijk</td>\n      <td>NaN</td>\n      <td>West-Vlaanderen</td>\n      <td>Vlaanderen</td>\n      <td>VOETBRUG-OVER-SLUIS-11</td>\n      <td>Studie bezig</td>\n      <td>onbekend</td>\n      <td>Nee</td>\n      <td>onbekend</td>\n      <td>...</td>\n      <td>Foto en video</td>\n      <td>Vlaamse Waterweg</td>\n      <td>volledig</td>\n      <td>Toestand 4</td>\n      <td>1e prioriteit - te vernieuwen</td>\n      <td>2016</td>\n      <td>2019</td>\n      <td>3</td>\n      <td>ja</td>\n      <td>2014</td>\n    </tr>\n    <tr>\n      <th>26</th>\n      <td>25100191</td>\n      <td>Kortrijk</td>\n      <td>NaN</td>\n      <td>West-Vlaanderen</td>\n      <td>Vlaanderen</td>\n      <td>Leiebrug in de Budastraat over de zijarm van d...</td>\n      <td>Wordt afgebroken</td>\n      <td>onbekend</td>\n      <td>Nee</td>\n      <td>onbekend</td>\n      <td>...</td>\n      <td>Foto en video</td>\n      <td>Vlaamse Waterweg</td>\n      <td>volledig</td>\n      <td>Toestand 4</td>\n      <td>1e prioriteit - te herstellen</td>\n      <td>2015</td>\n      <td>2018</td>\n      <td>3</td>\n      <td>ja</td>\n      <td>2013</td>\n    </tr>\n    <tr>\n      <th>29</th>\n      <td>25900071</td>\n      <td>Merelbeke</td>\n      <td>Merelbeke</td>\n      <td>Oost-Vlaanderen</td>\n      <td>Vlaanderen</td>\n      <td>PROF.-VANDEPITTEBRUG WEGBRUG-W12 TER-HANDBRUG</td>\n      <td>Moet gerenoveerd worden, maar niet dringend</td>\n      <td>onbekend</td>\n      <td>Nee</td>\n      <td>onbekend</td>\n      <td>...</td>\n      <td>Foto en video</td>\n      <td>Vlaamse Waterweg</td>\n      <td>volledig</td>\n      <td>Toestand 4</td>\n      <td>1e prioriteit - te herstellen</td>\n      <td>2015</td>\n      <td>2019</td>\n      <td>4</td>\n      <td>ja</td>\n      <td>2017</td>\n    </tr>\n    <tr>\n      <th>32</th>\n      <td>25520101</td>\n      <td>Sint-Laureins</td>\n      <td>NaN</td>\n      <td>Oost-Vlaanderen</td>\n      <td>Vlaanderen</td>\n      <td>OOSTHOEKBRUG LIEVEBRUG</td>\n      <td>Er komt andere brug, alleen is deze brug erfgoed</td>\n      <td>onbekend</td>\n      <td>Nee</td>\n      <td>onbekend</td>\n      <td>...</td>\n      <td>NaN</td>\n      <td>Vlaamse Waterweg</td>\n      <td>volledig</td>\n      <td>Toestand 4</td>\n      <td>1e prioriteit - te vernieuwen</td>\n      <td>2014</td>\n      <td>2017</td>\n      <td>3</td>\n      <td>ja</td>\n      <td>2018</td>\n    </tr>\n    <tr>\n      <th>34</th>\n      <td>25900161</td>\n      <td>Gent</td>\n      <td>Drongen</td>\n      <td>Oost-Vlaanderen</td>\n      <td>Vlaanderen</td>\n      <td>DRONGENBRUG-WEGBRUG-W4</td>\n      <td>Onderzoek herstel bezig</td>\n      <td>onbekend</td>\n      <td>Nee</td>\n      <td>onbekend</td>\n      <td>...</td>\n      <td>NaN</td>\n      <td>Vlaamse Waterweg</td>\n      <td>volledig</td>\n      <td>Toestand 4</td>\n      <td>1e prioriteit - te herstellen</td>\n      <td>2015</td>\n      <td>2018</td>\n      <td>3</td>\n      <td>ja</td>\n      <td>2018</td>\n    </tr>\n    <tr>\n      <th>35</th>\n      <td>25100481</td>\n      <td>Gent</td>\n      <td>NaN</td>\n      <td>Oost-Vlaanderen</td>\n      <td>Vlaanderen</td>\n      <td>KROMMEWALBRUG</td>\n      <td>Prijsvraag lopende</td>\n      <td>onbekend</td>\n      <td>Nee</td>\n      <td>onbekend</td>\n      <td>...</td>\n      <td>Foto en video</td>\n      <td>Vlaamse Waterweg</td>\n      <td>volledig</td>\n      <td>Toestand 4</td>\n      <td>1e prioriteit - te vernieuwen</td>\n      <td>2015</td>\n      <td>2018</td>\n      <td>3</td>\n      <td>ja</td>\n      <td>2018</td>\n    </tr>\n    <tr>\n      <th>38</th>\n      <td>23000221</td>\n      <td>Halle</td>\n      <td>Halle</td>\n      <td>Vlaams Brabant</td>\n      <td>Vlaanderen</td>\n      <td>Bospoortbrug</td>\n      <td>Wordt op termijn afgebroken</td>\n      <td>onbekend</td>\n      <td>Nee</td>\n      <td>onbekend</td>\n      <td>...</td>\n      <td>NaN</td>\n      <td>Vlaamse Waterweg</td>\n      <td>volledig</td>\n      <td>Toestand 4</td>\n      <td>1e prioriteit - te vernieuwen</td>\n      <td>2016</td>\n      <td>2019</td>\n      <td>3</td>\n      <td>ja</td>\n      <td>201</td>\n    </tr>\n  </tbody>\n</table>\n<p>14 rows × 22 columns</p>\n</div>"
     },
     "metadata": {},
     "execution_count": 621
    }
   ],
   "source": [
    "df[df.werken_gepland == 'Nee']"
   ]
  },
  {
   "cell_type": "code",
   "execution_count": 624,
   "metadata": {},
   "outputs": [
    {
     "output_type": "execute_result",
     "data": {
      "text/plain": "Ja    37\nName: werken_gepland, dtype: int64"
     },
     "metadata": {},
     "execution_count": 624
    }
   ],
   "source": [
    "df[df.beheerder == 'Gemeente'].werken_gepland.value_counts()"
   ]
  },
  {
   "cell_type": "markdown",
   "metadata": {},
   "source": [
    "Er zijn nog een heel aantal bruggen op de lijst van prioritaire kunstwerken waarvoor nog geen werken gepland zijn. Voor de bruggen in beheer van de gemeenten zijn wel altijd al werken gepland."
   ]
  },
  {
   "cell_type": "code",
   "execution_count": 627,
   "metadata": {},
   "outputs": [
    {
     "output_type": "execute_result",
     "data": {
      "text/plain": "Gent             3\nKortrijk         2\nGrimbergen       2\nWommelgem        1\nSint-Laureins    1\nOverijse         1\nWetteren         1\nHalle            1\nMerelbeke        1\nNieuwpoort       1\nName: gemeente, dtype: int64"
     },
     "metadata": {},
     "execution_count": 627
    }
   ],
   "source": [
    "df[df.werken_gepland == 'Nee'].gemeente.value_counts()"
   ]
  },
  {
   "cell_type": "markdown",
   "metadata": {},
   "source": [
    "Het gaat dan om drie bruggen in Gent, twee in Kortrijk, twee in Grimbergen, en nog in een aantal andere gemeenten."
   ]
  },
  {
   "cell_type": "code",
   "execution_count": 47,
   "metadata": {},
   "outputs": [
    {
     "output_type": "execute_result",
     "data": {
      "text/plain": "1629"
     },
     "metadata": {},
     "execution_count": 47
    }
   ],
   "source": [
    "len(df[(df.toestandcode == 'Toestand 2') | (df.toestandcode == 'Toestand 3') | (df.toestandcode == 'Toestand 4')])"
   ]
  },
  {
   "cell_type": "code",
   "execution_count": null,
   "metadata": {},
   "outputs": [],
   "source": []
  }
 ],
 "metadata": {
  "language_info": {
   "codemirror_mode": {
    "name": "ipython",
    "version": 3
   },
   "file_extension": ".py",
   "mimetype": "text/x-python",
   "name": "python",
   "nbconvert_exporter": "python",
   "pygments_lexer": "ipython3",
   "version": "3.7.6-final"
  },
  "orig_nbformat": 2,
  "kernelspec": {
   "name": "python3",
   "display_name": "Python 3"
  }
 },
 "nbformat": 4,
 "nbformat_minor": 2
}