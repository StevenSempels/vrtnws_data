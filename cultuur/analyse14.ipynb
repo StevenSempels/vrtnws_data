{
 "nbformat": 4,
 "nbformat_minor": 2,
 "metadata": {
  "language_info": {
   "name": "python",
   "codemirror_mode": {
    "name": "ipython",
    "version": 3
   },
   "version": "3.7.3"
  },
  "orig_nbformat": 2,
  "file_extension": ".py",
  "mimetype": "text/x-python",
  "name": "python",
  "npconvert_exporter": "python",
  "pygments_lexer": "ipython3",
  "version": 3
 },
 "cells": [
  {
   "cell_type": "code",
   "execution_count": 1,
   "metadata": {},
   "outputs": [],
   "source": [
    "import pandas as pd\n",
    "import pyreadstat\n",
    "\n",
    "df, meta = pyreadstat.read_sav('cult2014.sav')"
   ]
  },
  {
   "cell_type": "code",
   "execution_count": 2,
   "metadata": {},
   "outputs": [
    {
     "data": {
      "text/plain": "1515"
     },
     "execution_count": 2,
     "metadata": {},
     "output_type": "execute_result"
    }
   ],
   "source": [
    "len(df.index)"
   ]
  },
  {
   "cell_type": "code",
   "execution_count": 3,
   "metadata": {},
   "outputs": [
    {
     "data": {
      "text/plain": "['RESPNUM',\n 'INTNUM',\n 'DUURTIJD_MIN_INTERV',\n 'DUURTIJD_MIN_COMPUTER_T71_T1',\n 'VALID_DUURTIJD',\n 'Timer1',\n 'Timer2',\n 'V1_1',\n 'V1_1_FLAG',\n 'V1_2',\n 'V1_2_FLAG',\n 'V2_1',\n 'V2_2',\n 'Timer3',\n 'V3_1',\n 'V3_1_FLAG',\n 'Geboortejaar_RR',\n 'V4',\n 'V5b',\n 'Belg_volgens_RR',\n 'V6',\n 'V7b',\n 'V8',\n 'V9b',\n 'V10',\n 'V10_FLAG',\n 'Timer4',\n 'V11',\n 'SHRM1',\n 'V12',\n 'V13',\n 'V14',\n 'V15',\n 'V15_FLAG',\n 'V16',\n 'V16_FLAG',\n 'V17',\n 'V17_FLAG',\n 'V18',\n 'V18_FLAG',\n 'Timer5',\n 'SHRM2',\n 'V19',\n 'V20',\n 'V21_1',\n 'V21_2',\n 'V22',\n 'Timer6',\n 'V23_1',\n 'V23_2',\n 'V23_3',\n 'V23_4',\n 'V23_5',\n 'V23_6',\n 'V23_7',\n 'V23_8',\n 'V23_9',\n 'V23_10',\n 'V23_11',\n 'V23_12',\n 'V23_13',\n 'Timer7',\n 'V24_1',\n 'V24_2',\n 'V24_3',\n 'V24_4',\n 'Timer8',\n 'V25',\n 'V25_FLAG',\n 'V26',\n 'Timer9',\n 'V27',\n 'Timer10',\n 'V28',\n 'V28_FLAG',\n 'V28_FLAG_bis',\n 'V29',\n 'V29_1',\n 'V29_2',\n 'V29_3',\n 'V29_4',\n 'V31',\n 'V31_FLAG',\n 'V32',\n 'V32_FLAG',\n 'V33',\n 'Timer11',\n 'V34',\n 'V34_FLAG',\n 'V35',\n 'Timer12',\n 'SHRM3',\n 'V36',\n 'V36_FLAG',\n 'V37',\n 'Timer13',\n 'V38',\n 'V38_FLAG',\n 'V39',\n 'Timer14',\n 'SHRM4',\n 'V40',\n 'V41',\n 'V42',\n 'V42_FLAG',\n 'SHRM5',\n 'V43',\n 'V44',\n 'V45_1',\n 'V45_2',\n 'V46',\n 'V46_FLAG',\n 'Timer15',\n 'SHRM6',\n 'V47',\n 'V48',\n 'V49',\n 'V50',\n 'V51',\n 'V52',\n 'V53',\n 'Timer16',\n 'SHRM7',\n 'V54',\n 'V54_FLAG',\n 'V55',\n 'V56',\n 'V57',\n 'V58',\n 'Timer17',\n 'SHRM8',\n 'V59',\n 'V59_FLAG',\n 'SHRM9',\n 'V61_1',\n 'V62_1',\n 'V62_1_FLAG',\n 'V63_1',\n 'V63_1_FLAG',\n 'V61_2',\n 'V62_2',\n 'V62_2_FLAG',\n 'V63_2',\n 'V63_2_FLAG',\n 'V61_3',\n 'V62_3',\n 'V62_3_FLAG',\n 'V63_3',\n 'V63_3_FLAG',\n 'V61_4',\n 'V62_4',\n 'V62_4_FLAG',\n 'V63_4',\n 'V63_4_FLAG',\n 'V61_5',\n 'V62_5',\n 'V63_5',\n 'V63_5_FLAG',\n 'V61_6',\n 'V62_6',\n 'V63_6',\n 'V61_7',\n 'V62_7',\n 'V63_7',\n 'V61_8',\n 'V62_8',\n 'V63_8',\n 'Timer18',\n 'V64',\n 'V64_FLAG',\n 'Timer19',\n 'V65',\n 'Timer20',\n 'V66',\n 'Timer21',\n 'V67',\n 'V68_1',\n 'V68_2',\n 'V68_3',\n 'V68_4',\n 'V68_5',\n 'V68_6',\n 'V68_7',\n 'V68_7a',\n 'Timer22',\n 'SHRM9A',\n 'V69_1',\n 'V69_2',\n 'V69_3',\n 'V69_4',\n 'V70',\n 'V70_FLAG',\n 'V71_1',\n 'V71_2',\n 'V71_3',\n 'V71_4',\n 'V71_5',\n 'V71_6',\n 'V71_7',\n 'V71_8',\n 'V71_8_FLAG',\n 'V71_8a',\n 'V72',\n 'V72_FLAG',\n 'V73',\n 'V74',\n 'V75_1',\n 'V75_2',\n 'V75_3',\n 'V75_4',\n 'V75_5',\n 'V75_6',\n 'V75_7',\n 'V75_8',\n 'V75_8_FLAG',\n 'V75_8a',\n 'Timer23',\n 'V76_1',\n 'V76_2',\n 'V76_3',\n 'V76_4',\n 'V76_5',\n 'V76_6',\n 'V76_7',\n 'V76_8',\n 'Timer24',\n 'V77_1',\n 'V77_2',\n 'V77_3',\n 'V77_4',\n 'V77_5',\n 'V77_6',\n 'V77_7',\n 'Timer25',\n 'V78',\n 'V79',\n 'V80',\n 'Timer26',\n 'V81',\n 'V82',\n 'SHRM9B',\n 'V83_1',\n 'V83_2',\n 'V83_3',\n 'V83_4',\n 'V83_5',\n 'V83_6',\n 'V83_7',\n 'V84',\n 'V84_FLAG',\n 'Timer27',\n 'SHRM10',\n 'V85',\n 'V86_1',\n 'V86_2',\n 'V86WN',\n 'V86NUL',\n 'Timer28',\n 'V87_1',\n 'V87_2',\n 'V87_3',\n 'V87_4',\n 'V87_5',\n 'V87_6',\n 'V87_7',\n 'V87_8',\n 'V87_9',\n 'V87_10',\n 'V87_11',\n 'V87_12',\n 'V87_13',\n 'V87_14',\n 'V87_15',\n 'V87_16',\n 'V87_17',\n 'V87_18',\n 'V87_19',\n 'V87_20',\n 'V87_21',\n 'V87_22',\n 'V87_23',\n 'V87_24',\n 'V88',\n 'V89M1',\n 'V89_1a',\n 'V89M2',\n 'V89_2a',\n 'V90_1',\n 'V90_2',\n 'Timer29',\n 'V91',\n 'Timer30',\n 'SHRM11',\n 'V92',\n 'V93',\n 'Timer31',\n 'SHRM12',\n 'V94',\n 'V95_1',\n 'V95_2',\n 'V96',\n 'V97',\n 'V97_FLAG',\n 'V98',\n 'V99',\n 'V100',\n 'V101',\n 'Timer32',\n 'V102_1',\n 'V102_2',\n 'V102_3',\n 'V102_4',\n 'V102_5',\n 'V102_6',\n 'V102_7',\n 'V102_8',\n 'V103_1',\n 'V103_2',\n 'V103_3',\n 'V103_4',\n 'V103_5',\n 'V103_6',\n 'V103_7',\n 'Timer33',\n 'SHRM13',\n 'V104',\n 'V105_1',\n 'V105_2',\n 'V106_1',\n 'V106_2',\n 'V106_3',\n 'V106_4',\n 'V106_5',\n 'V106_6',\n 'V106_7',\n 'V107_1',\n 'V107_2',\n 'V107_3',\n 'V107_4',\n 'V107_5',\n 'V107_6',\n 'V107_7',\n 'V107_8',\n 'V107_9',\n 'V107_10',\n 'V107_11',\n 'V107_12',\n 'V107_12_FLAG',\n 'V107_12a',\n 'V108',\n 'V108_FLAG',\n 'Timer34',\n 'V109',\n 'V110',\n 'V111',\n 'V112',\n 'V113',\n 'V114_1',\n 'V114_2',\n 'V114_3',\n 'V114_4',\n 'V114_5',\n 'V114_6',\n 'V115',\n 'Timer35',\n 'SHRM15',\n 'V116',\n 'V117',\n 'V118',\n 'Timer36',\n 'V119',\n 'V120_1',\n 'V120_2',\n 'V120_3',\n 'V120_4',\n 'V120_5',\n 'V120_6',\n 'V120_7',\n 'V120_8',\n 'V120_9',\n 'V120_10',\n 'V120_10a',\n 'Timer37',\n 'SL121_1',\n 'SL121_2',\n 'SL121_3',\n 'SL121_4',\n 'SL121_5',\n 'SL121_6',\n 'SL121_7',\n 'SL121_8',\n 'SL121_9',\n 'SL121_10',\n 'SL121_11',\n 'SL121_12',\n 'SL121_13',\n 'SL121_14',\n 'V121_1',\n 'V121_2',\n 'V121_3',\n 'V121_4',\n 'V121_5',\n 'V121_6',\n 'V121_7',\n 'V121_8',\n 'V121_9',\n 'V121_10',\n 'V121_11',\n 'V121_12',\n 'V121_13',\n 'V121_14',\n 'Timer38',\n 'SHRM16',\n 'V122_1',\n 'V122_2',\n 'V122_3',\n 'V122_4',\n 'V122_5',\n 'V122_6',\n 'V122_7',\n 'V122_8',\n 'V122_9',\n 'V122_10',\n 'V122_11',\n 'V122_12',\n 'V122_13',\n 'V122_14',\n 'V122_15',\n 'Timer39',\n 'SHRM17',\n 'V123',\n 'V124',\n 'V125_1',\n 'V125_2',\n 'V125_3',\n 'V125_4',\n 'V125_5',\n 'V125_6',\n 'Timer40',\n 'SHRM18',\n 'V126',\n 'V127',\n 'V127_FLAG',\n 'V128',\n 'V129',\n 'V130',\n 'V131',\n 'V131_FLAG',\n 'V132',\n 'V133',\n 'V134_1',\n 'V134_2',\n 'V134_3',\n 'V134_4',\n 'V134_5',\n 'V134_6',\n 'V134_7',\n 'V134_8',\n 'V134_9',\n 'V134_10',\n 'V134_11',\n 'V134_12',\n 'V134_13',\n 'V134_14',\n 'V134_15',\n 'V135_1',\n 'V135_2',\n 'V135_3',\n 'V135_4',\n 'V135_5',\n 'V135_6',\n 'V135_7',\n 'V135_8',\n 'Timer41',\n 'V136',\n 'V137',\n 'V138M1',\n 'V138M1_FLAG',\n 'V138M2',\n 'V138M2_FLAG',\n 'V138M3',\n 'V138M3_FLAG',\n 'V138BISM1',\n 'V138BISM1_FLAG',\n 'V138BISM2',\n 'V138BISM2_FLAG',\n 'V138BIS1',\n 'V138BIS1_FLAG',\n 'V138BIS2',\n 'V138BIS2_FLAG',\n 'V138A',\n 'V138B',\n 'V138C',\n 'V138D',\n 'SV138',\n 'V138_1',\n 'V138_2',\n 'V138_3',\n 'Timer42',\n 'SHRM19',\n 'V139',\n 'V140',\n 'V141',\n 'V142',\n 'Timer43',\n 'V143_1',\n 'V143_2',\n 'V143_3',\n 'V143_4',\n 'V143_5',\n 'V143_6',\n 'V143_7',\n 'V143_8',\n 'V143_9',\n 'V143_10',\n 'V143_11',\n 'V143_12',\n 'V143_13',\n 'V143_14',\n 'V143_15',\n 'V143_16',\n 'V143_17',\n 'Timer44',\n 'V144_1',\n 'V144_2',\n 'V144_3',\n 'V144_4',\n 'V144_5',\n 'V144_6',\n 'V144_7',\n 'V144_8',\n 'V144_9',\n 'V144_10',\n 'V144_11',\n 'V144_12',\n 'V144_13',\n 'V145_1',\n 'V145_2',\n 'V145_3',\n 'V145_4',\n 'V145_5',\n 'Timer45',\n 'SHRM126',\n 'V146',\n 'V147',\n 'V148',\n 'Timer46',\n 'V149_1',\n 'SHRM130',\n 'V150_1',\n 'V150_2',\n 'V150_3',\n 'V150_4',\n 'V150_5',\n 'V150_6',\n 'V150_7',\n 'V150_8',\n 'Timer47',\n 'V151',\n 'V152_1',\n 'V152_2',\n 'V152_3',\n 'V152_4',\n 'V152_5',\n 'V152_6',\n 'V152_7',\n 'V152_8',\n 'V152_8a',\n 'Timer48',\n 'SHRM23',\n 'V153_1',\n 'V153_2',\n 'V153_3',\n 'V153_4',\n 'V153_5',\n 'V153_6',\n 'V153_7',\n 'V154',\n 'V155_1',\n 'V155_2',\n 'V156',\n 'V157_1',\n 'V157_2',\n 'V157_3',\n 'V157_4',\n 'V157_5',\n 'V157_6',\n 'V157_7',\n 'V157_8',\n 'V157_9',\n 'V157_10',\n 'V158_1',\n 'V158_2',\n 'V158_3',\n 'V158_4',\n 'V159',\n 'Timer49',\n 'V160_1',\n 'V160_2',\n 'V160_3',\n 'V160_4',\n 'V160_5',\n 'V160_6',\n 'V160_7',\n 'V160_8',\n 'V160_9',\n 'V160_10',\n 'V160_11',\n 'V160_12',\n 'V160_13',\n 'V160_14',\n 'V160_15',\n 'V160_16',\n 'V160_17',\n 'V160_18',\n 'Timer50',\n 'V162_1',\n 'V162_2',\n 'V162_3',\n 'V162_4',\n 'V162_5',\n 'V162_6',\n 'V162_7',\n 'V162_8',\n 'V162_9',\n 'V162_10',\n 'V162_11',\n 'V162_12',\n 'V162_13',\n 'V162_14',\n 'V163_1',\n 'V163_2',\n 'V163_3',\n 'V163_4',\n 'Timer51',\n 'SHRM24',\n 'V164',\n 'V165',\n 'V166',\n 'V167',\n 'V168',\n 'V169_1',\n 'V169_2',\n 'V169_3',\n 'V169_4',\n 'V169_5',\n 'V169_6',\n 'Timer52',\n 'SHRM26',\n 'SHRM27',\n 'Timer53',\n 'V170',\n 'Timer54',\n 'SHRM28',\n 'SHRM29',\n 'Timer55',\n 'SHRM30',\n 'V171_1',\n 'V171_2',\n 'V171_3',\n 'V171_4',\n 'V171_5',\n 'V171_6',\n 'V171_7',\n 'V171_8',\n 'V171_9',\n 'Timer56',\n 'V172_1',\n 'V172_2',\n 'V172_3',\n 'V172_4',\n 'V172_5',\n 'V172_6',\n 'V172_7',\n 'V172_8',\n 'V172_9',\n 'V172_10',\n 'V172_11',\n 'V172_12',\n 'V173',\n 'V174',\n 'V174_FLAG',\n 'Timer57',\n 'SHRM31',\n 'V175_1',\n 'V175_2',\n 'V176_1',\n 'V176_2',\n 'V177',\n 'V177_FLAG',\n 'V178',\n 'V179',\n 'V180',\n 'V181',\n 'Timer58',\n 'SHRM32',\n 'V183',\n 'V184',\n 'V185_1',\n 'V185_2',\n 'V185_3',\n 'V185_4',\n 'V185_5',\n 'V185_6',\n 'Timer60',\n 'SL186_1',\n 'SL186_2',\n 'SL186_3',\n 'SL186_4',\n 'SL186_5',\n 'SL186_6',\n 'SL186_7',\n 'SL186_8',\n 'SL186_9',\n 'SL186_10',\n 'SL186_11',\n 'SL186_12',\n 'SL186_13',\n 'SL186_14',\n 'SL186_15',\n 'SL186_16',\n 'SL186_17',\n 'SL186_18',\n 'SL186_19',\n 'V186_1',\n 'V186_2',\n 'V186_3',\n 'V186_4',\n 'V186_5',\n 'V186_6',\n 'V186_7',\n 'V186_8',\n 'V186_9',\n 'V186_10',\n 'V186_11',\n 'V186_12',\n 'V186_13',\n 'V186_14',\n 'V186_15',\n 'V186_16',\n 'V186_17',\n 'V186_18',\n 'V186_19',\n 'Timer61',\n 'V187_1',\n 'V187_2',\n 'V187_3',\n 'V187_4',\n 'Timer62',\n 'V188_1',\n 'V188_2',\n 'V188_3',\n 'V188_4',\n 'V188_5',\n 'V188_6',\n 'V188_7',\n 'V188_8',\n 'V188_9',\n 'V188_10',\n 'V188_11',\n 'V188_12',\n 'V188_13',\n 'V188_14',\n 'V188_15',\n 'Timer63',\n 'SHRM33',\n 'Timer64',\n 'V193',\n 'V194_1M1',\n 'V194_1a',\n 'V194_2M1',\n 'V194_2a',\n 'V194_3M1',\n 'V194_3a',\n 'V194_4M1',\n 'V194_4a',\n 'V194_5M1',\n 'V194_5a',\n 'V194_6M1',\n 'V194_6a',\n 'V195_1',\n 'V195_2',\n 'V195_3',\n 'V195_4',\n 'V195_5',\n 'V195_6',\n 'V196_11',\n 'V196_12',\n 'V196_13',\n 'V196_14',\n 'V196_15',\n 'V196_16',\n 'V196_17',\n 'V196_21',\n 'V196_22',\n 'V196_23',\n 'V196_24',\n 'V196_25',\n 'V196_26',\n 'V196_27',\n 'V196_31',\n 'V196_32',\n 'V196_33',\n 'V196_34',\n 'V196_35',\n 'V196_36',\n 'V196_37',\n 'V196_41',\n 'V196_42',\n 'V196_43',\n 'V196_44',\n 'V196_45',\n 'V196_46',\n 'V196_47',\n 'V196_51',\n 'V196_52',\n 'V196_53',\n 'V196_54',\n 'V196_55',\n 'V196_56',\n 'V196_57',\n 'V196_61',\n 'V196_62',\n 'V196_63',\n 'V196_64',\n 'V196_65',\n 'V196_66',\n 'V196_67',\n 'Timer65',\n 'V197_1',\n 'V197_2',\n 'V197_3',\n 'V197_4',\n 'V197_5',\n 'V197_6',\n 'V197_7',\n 'V197_8',\n 'V197_9',\n 'V197_10',\n 'V198',\n 'V199_1',\n 'V199_2',\n 'V199_3',\n 'V199_4',\n 'V199_5',\n 'V199_6',\n 'V199_7',\n 'V199_8',\n 'V199_9',\n 'V200_1',\n 'V200_2',\n 'V200_3',\n 'V200_4',\n 'V200_5',\n 'V201_1',\n 'V201_2',\n 'V201_3',\n 'V201_4',\n 'V201_5',\n 'V201_6',\n 'Timer66',\n 'V202',\n 'Timer67',\n 'V203_1',\n 'V203_2',\n 'V203_3',\n 'V203_4',\n 'V203_5',\n 'V203_6',\n 'V203_7',\n 'V203_8',\n 'V203_9',\n 'V203_10',\n 'V203_11',\n 'Timer68',\n 'V204_1',\n 'V204_2',\n 'V204_3',\n 'V204_4',\n 'V204_5',\n 'V204_6',\n 'V204_7',\n 'V204_8',\n 'Timer69',\n 'SHRM35',\n 'V205',\n 'V206',\n 'V207',\n 'V208',\n 'Timer70',\n 'V209_1',\n 'V209_2',\n 'V209_3',\n 'V209_4',\n 'V209_5',\n 'V209_6',\n 'V209_7',\n 'V209_8',\n 'SHRM',\n 'Timer71',\n 'Totale_duurtijd',\n 'E1A',\n 'E1B',\n 'Timer72',\n 'IR1',\n 'IR2_1',\n 'IR2_2',\n 'IR2_3',\n 'IR2_4',\n 'IR2_5',\n 'IR3_1',\n 'IR3_2',\n 'IR3_3',\n 'IR3_4',\n 'IR3_5',\n 'IR4',\n 'IR5',\n 'IR6',\n 'IR7',\n 'IR8',\n 'IR9',\n 'IR10A',\n 'IR10B',\n 'IR10C',\n 'IR11',\n 'refconv',\n 'BS_RR',\n 'Verwantschap_RR',\n 'Aantal_gezinsleden_RR',\n 'provincie',\n 'regio',\n 'lft_7kl',\n 'lft',\n 'NUTS2',\n 'rsv',\n 'urbanisatie',\n 'opleid14',\n 'opleid14_eak',\n 'opleid14N',\n 'designgewicht14',\n 'nonresponsgewicht14',\n 'poststratificatie_gewest14',\n 'poststratificatie_eak14',\n 'scv_gewicht14',\n 'scv_gewicht_herschaald14',\n 'cluster',\n 'stratum',\n 'v63_1rc',\n 'v63_2rc',\n 'v63_3rc',\n 'v63_4rc',\n 'v63_5rc',\n 'v63_6rc',\n 'v63_7rc',\n 'v63_8rc',\n 'tel_partner',\n 'tel_biokind',\n 'tel_anderkind',\n 'tel_ouders',\n 'tel_brzus',\n 'tel_anderfam',\n 'tel_nietfam',\n 'tel_garelatie',\n 'tel_grootouders',\n 'tel_medebewoners',\n 'tel_kleinkind',\n 'tel_schoonkind',\n 'gezintype',\n 'gezinstype']"
     },
     "execution_count": 3,
     "metadata": {},
     "output_type": "execute_result"
    }
   ],
   "source": [
    "df.columns.tolist()"
   ]
  },
  {
   "cell_type": "code",
   "execution_count": 4,
   "metadata": {},
   "outputs": [],
   "source": [
    "geen = df[(df['V197_1'] == 1) & (df['V197_2'] == 1) & (df['V197_3'] == 1) & (df['V197_4'] == 1) & (df['V197_5'] == 1) & (df['V197_6'] == 1) & (df['V197_7'] == 1) & (df['V197_8'] == 1) & (df['V197_9'] == 1) & (df['V198'] == 1) & (df['V200_1'] == 1) & (df['V200_3'] == 1) & (df['V200_4'] == 1) & (df['V200_5'] == 1)]"
   ]
  },
  {
   "cell_type": "code",
   "execution_count": 5,
   "metadata": {},
   "outputs": [
    {
     "data": {
      "text/plain": "27.0"
     },
     "execution_count": 5,
     "metadata": {},
     "output_type": "execute_result"
    }
   ],
   "source": [
    "geen.scv_gewicht_herschaald14.sum().round()"
   ]
  },
  {
   "cell_type": "code",
   "execution_count": 6,
   "metadata": {},
   "outputs": [],
   "source": [
    "none = [7, 8]"
   ]
  },
  {
   "cell_type": "code",
   "execution_count": 7,
   "metadata": {},
   "outputs": [
    {
     "data": {
      "text/html": "<div>\n<style scoped>\n    .dataframe tbody tr th:only-of-type {\n        vertical-align: middle;\n    }\n\n    .dataframe tbody tr th {\n        vertical-align: top;\n    }\n\n    .dataframe thead th {\n        text-align: right;\n    }\n</style>\n<table border=\"1\" class=\"dataframe\">\n  <thead>\n    <tr style=\"text-align: right;\">\n      <th></th>\n      <th>RESPNUM</th>\n      <th>INTNUM</th>\n      <th>DUURTIJD_MIN_INTERV</th>\n      <th>DUURTIJD_MIN_COMPUTER_T71_T1</th>\n      <th>VALID_DUURTIJD</th>\n      <th>Timer1</th>\n      <th>Timer2</th>\n      <th>V1_1</th>\n      <th>V1_1_FLAG</th>\n      <th>V1_2</th>\n      <th>...</th>\n      <th>tel_brzus</th>\n      <th>tel_anderfam</th>\n      <th>tel_nietfam</th>\n      <th>tel_garelatie</th>\n      <th>tel_grootouders</th>\n      <th>tel_medebewoners</th>\n      <th>tel_kleinkind</th>\n      <th>tel_schoonkind</th>\n      <th>gezintype</th>\n      <th>gezinstype</th>\n    </tr>\n  </thead>\n  <tbody>\n  </tbody>\n</table>\n<p>0 rows × 969 columns</p>\n</div>",
      "text/plain": "Empty DataFrame\nColumns: [RESPNUM, INTNUM, DUURTIJD_MIN_INTERV, DUURTIJD_MIN_COMPUTER_T71_T1, VALID_DUURTIJD, Timer1, Timer2, V1_1, V1_1_FLAG, V1_2, V1_2_FLAG, V2_1, V2_2, Timer3, V3_1, V3_1_FLAG, Geboortejaar_RR, V4, V5b, Belg_volgens_RR, V6, V7b, V8, V9b, V10, V10_FLAG, Timer4, V11, SHRM1, V12, V13, V14, V15, V15_FLAG, V16, V16_FLAG, V17, V17_FLAG, V18, V18_FLAG, Timer5, SHRM2, V19, V20, V21_1, V21_2, V22, Timer6, V23_1, V23_2, V23_3, V23_4, V23_5, V23_6, V23_7, V23_8, V23_9, V23_10, V23_11, V23_12, V23_13, Timer7, V24_1, V24_2, V24_3, V24_4, Timer8, V25, V25_FLAG, V26, Timer9, V27, Timer10, V28, V28_FLAG, V28_FLAG_bis, V29, V29_1, V29_2, V29_3, V29_4, V31, V31_FLAG, V32, V32_FLAG, V33, Timer11, V34, V34_FLAG, V35, Timer12, SHRM3, V36, V36_FLAG, V37, Timer13, V38, V38_FLAG, V39, Timer14, ...]\nIndex: []\n\n[0 rows x 969 columns]"
     },
     "execution_count": 7,
     "metadata": {},
     "output_type": "execute_result"
    }
   ],
   "source": [
    "df[(df['V197_1'].isin(none)) & (df['V197_2'].isin(none)) & (df['V197_3'].isin(none)) & (df['V197_4'].isin(none)) & (df['V197_5'].isin(none)) & (df['V197_6'].isin(none)) & (df['V197_7'].isin(none)) & (df['V197_8'].isin(none)) & (df['V197_9'].isin(none)) & (df['V198'].isin(none)) & (df['V200_1'].isin(none)) & (df['V200_3'].isin(none)) & (df['V200_4'].isin(none)) & (df['V200_5'].isin(none))]"
   ]
  },
  {
   "cell_type": "code",
   "execution_count": 8,
   "metadata": {},
   "outputs": [
    {
     "data": {
      "text/plain": "216.0"
     },
     "execution_count": 8,
     "metadata": {},
     "output_type": "execute_result"
    }
   ],
   "source": [
    "df[(((df.V6 == 2) | (df.V8 == 2)) | (df.V4 == 2)) & (df.V197_1 == 1)].scv_gewicht_herschaald14.sum().round()"
   ]
  },
  {
   "cell_type": "code",
   "execution_count": 9,
   "metadata": {},
   "outputs": [],
   "source": [
    "opties = [2, 3, 4]"
   ]
  },
  {
   "cell_type": "code",
   "execution_count": 10,
   "metadata": {},
   "outputs": [
    {
     "data": {
      "text/plain": "15.0"
     },
     "execution_count": 10,
     "metadata": {},
     "output_type": "execute_result"
    }
   ],
   "source": [
    "df[(((df.V6 == 2) | (df.V8 == 2)) | (df.V4 == 2)) & df.V197_1.isin(opties)].scv_gewicht_herschaald14.sum().round()"
   ]
  },
  {
   "cell_type": "code",
   "execution_count": 11,
   "metadata": {},
   "outputs": [
    {
     "data": {
      "text/plain": "1193.0"
     },
     "execution_count": 11,
     "metadata": {},
     "output_type": "execute_result"
    }
   ],
   "source": [
    "df[(((df.V6 == 1) & (df.V8 == 1)) & (df.V4 == 1)) & (df.V197_1 == 1)].scv_gewicht_herschaald14.sum().round()"
   ]
  },
  {
   "cell_type": "code",
   "execution_count": 12,
   "metadata": {},
   "outputs": [
    {
     "data": {
      "text/plain": "91.0"
     },
     "execution_count": 12,
     "metadata": {},
     "output_type": "execute_result"
    }
   ],
   "source": [
    "df[(((df.V6 == 1) & (df.V8 == 1)) & (df.V4 == 1)) & df.V197_1.isin(opties)].scv_gewicht_herschaald14.sum().round()"
   ]
  },
  {
   "cell_type": "code",
   "execution_count": 13,
   "metadata": {},
   "outputs": [
    {
     "data": {
      "text/plain": "216.0"
     },
     "execution_count": 13,
     "metadata": {},
     "output_type": "execute_result"
    }
   ],
   "source": [
    "df[(((df.V6 == 2) | (df.V8 == 2)) |(df.V4 == 2)) & (df.V197_2 == 1)].scv_gewicht_herschaald14.sum().round()"
   ]
  },
  {
   "cell_type": "code",
   "execution_count": 14,
   "metadata": {},
   "outputs": [
    {
     "data": {
      "text/plain": "14.0"
     },
     "execution_count": 14,
     "metadata": {},
     "output_type": "execute_result"
    }
   ],
   "source": [
    "df[(((df.V6 == 2) | (df.V8 == 2)) |(df.V4 == 2)) & df.V197_2.isin(opties)].scv_gewicht_herschaald14.sum().round()"
   ]
  },
  {
   "cell_type": "code",
   "execution_count": 15,
   "metadata": {},
   "outputs": [
    {
     "data": {
      "text/plain": "1173.0"
     },
     "execution_count": 15,
     "metadata": {},
     "output_type": "execute_result"
    }
   ],
   "source": [
    "df[(((df.V6 == 1) & (df.V8 == 1)) & (df.V4 == 1)) & (df.V197_2 == 1)].scv_gewicht_herschaald14.sum().round()"
   ]
  },
  {
   "cell_type": "code",
   "execution_count": 16,
   "metadata": {},
   "outputs": [
    {
     "data": {
      "text/plain": "111.0"
     },
     "execution_count": 16,
     "metadata": {},
     "output_type": "execute_result"
    }
   ],
   "source": [
    "df[(((df.V6 == 1) & (df.V8 == 1)) & (df.V4 == 1)) & df.V197_2.isin(opties)].scv_gewicht_herschaald14.sum().round()"
   ]
  },
  {
   "cell_type": "code",
   "execution_count": 17,
   "metadata": {},
   "outputs": [
    {
     "data": {
      "text/plain": "208.0"
     },
     "execution_count": 17,
     "metadata": {},
     "output_type": "execute_result"
    }
   ],
   "source": [
    "df[(((df.V6 == 2) | (df.V8 == 2)) | (df.V4 == 2)) & (df.V197_3 == 1)].scv_gewicht_herschaald14.sum().round()"
   ]
  },
  {
   "cell_type": "code",
   "execution_count": 18,
   "metadata": {},
   "outputs": [
    {
     "data": {
      "text/plain": "23.0"
     },
     "execution_count": 18,
     "metadata": {},
     "output_type": "execute_result"
    }
   ],
   "source": [
    "df[(((df.V6 == 2) | (df.V8 == 2)) | (df.V4 == 2)) & df.V197_3.isin(opties)].scv_gewicht_herschaald14.sum().round()"
   ]
  },
  {
   "cell_type": "code",
   "execution_count": 19,
   "metadata": {},
   "outputs": [
    {
     "data": {
      "text/plain": "1159.0"
     },
     "execution_count": 19,
     "metadata": {},
     "output_type": "execute_result"
    }
   ],
   "source": [
    "df[(((df.V6 == 1) & (df.V8 == 1)) & (df.V4 == 1)) & (df.V197_3 == 1)].scv_gewicht_herschaald14.sum().round()"
   ]
  },
  {
   "cell_type": "code",
   "execution_count": 20,
   "metadata": {},
   "outputs": [
    {
     "data": {
      "text/plain": "126.0"
     },
     "execution_count": 20,
     "metadata": {},
     "output_type": "execute_result"
    }
   ],
   "source": [
    "df[(((df.V6 == 1) & (df.V8 == 1)) & (df.V4 == 1)) & df.V197_3.isin(opties)].scv_gewicht_herschaald14.sum().round()"
   ]
  },
  {
   "cell_type": "code",
   "execution_count": 21,
   "metadata": {},
   "outputs": [
    {
     "data": {
      "text/plain": "193.0"
     },
     "execution_count": 21,
     "metadata": {},
     "output_type": "execute_result"
    }
   ],
   "source": [
    "df[(((df.V6 == 2) | (df.V8 == 2)) | (df.V4 == 2)) & (df.V197_4 == 1)].scv_gewicht_herschaald14.sum().round()"
   ]
  },
  {
   "cell_type": "code",
   "execution_count": 22,
   "metadata": {},
   "outputs": [
    {
     "data": {
      "text/plain": "37.0"
     },
     "execution_count": 22,
     "metadata": {},
     "output_type": "execute_result"
    }
   ],
   "source": [
    "df[(((df.V6 == 2) | (df.V8 == 2)) | (df.V4 == 2)) & df.V197_4.isin(opties)].scv_gewicht_herschaald14.sum().round()"
   ]
  },
  {
   "cell_type": "code",
   "execution_count": 23,
   "metadata": {},
   "outputs": [
    {
     "data": {
      "text/plain": "1003.0"
     },
     "execution_count": 23,
     "metadata": {},
     "output_type": "execute_result"
    }
   ],
   "source": [
    "df[(((df.V6 == 1) & (df.V8 == 1)) & (df.V4 == 1)) & (df.V197_4 == 1)].scv_gewicht_herschaald14.sum().round()"
   ]
  },
  {
   "cell_type": "code",
   "execution_count": 24,
   "metadata": {},
   "outputs": [
    {
     "data": {
      "text/plain": "282.0"
     },
     "execution_count": 24,
     "metadata": {},
     "output_type": "execute_result"
    }
   ],
   "source": [
    "df[(((df.V6 == 1) & (df.V8 == 1)) & (df.V4 == 1)) & df.V197_4.isin(opties)].scv_gewicht_herschaald14.sum().round()"
   ]
  },
  {
   "cell_type": "code",
   "execution_count": 25,
   "metadata": {},
   "outputs": [
    {
     "data": {
      "text/plain": "188.0"
     },
     "execution_count": 25,
     "metadata": {},
     "output_type": "execute_result"
    }
   ],
   "source": [
    "df[(((df.V6 == 2) | (df.V8 == 2)) | (df.V4 == 2)) & (df.V197_5 == 1)].scv_gewicht_herschaald14.sum().round()"
   ]
  },
  {
   "cell_type": "code",
   "execution_count": 26,
   "metadata": {},
   "outputs": [
    {
     "data": {
      "text/plain": "42.0"
     },
     "execution_count": 26,
     "metadata": {},
     "output_type": "execute_result"
    }
   ],
   "source": [
    "df[(((df.V6 == 2) | (df.V8 == 2)) |(df.V4 == 2)) & df.V197_5.isin(opties)].scv_gewicht_herschaald14.sum().round()"
   ]
  },
  {
   "cell_type": "code",
   "execution_count": 27,
   "metadata": {},
   "outputs": [
    {
     "data": {
      "text/plain": "941.0"
     },
     "execution_count": 27,
     "metadata": {},
     "output_type": "execute_result"
    }
   ],
   "source": [
    "df[(((df.V6 == 1) & (df.V8 == 1)) & (df.V4 == 1)) & (df.V197_5 == 1)].scv_gewicht_herschaald14.sum().round()"
   ]
  },
  {
   "cell_type": "code",
   "execution_count": 28,
   "metadata": {},
   "outputs": [
    {
     "data": {
      "text/plain": "343.0"
     },
     "execution_count": 28,
     "metadata": {},
     "output_type": "execute_result"
    }
   ],
   "source": [
    "df[(((df.V6 == 1) & (df.V8 == 1)) & (df.V4 == 1)) & df.V197_5.isin(opties)].scv_gewicht_herschaald14.sum().round()"
   ]
  },
  {
   "cell_type": "code",
   "execution_count": 29,
   "metadata": {},
   "outputs": [
    {
     "data": {
      "text/plain": "204.0"
     },
     "execution_count": 29,
     "metadata": {},
     "output_type": "execute_result"
    }
   ],
   "source": [
    "df[(((df.V6 == 2) | (df.V8 == 2)) | (df.V4 == 2)) & (df.V197_6 == 1)].scv_gewicht_herschaald14.sum().round()"
   ]
  },
  {
   "cell_type": "code",
   "execution_count": 30,
   "metadata": {},
   "outputs": [
    {
     "data": {
      "text/plain": "27.0"
     },
     "execution_count": 30,
     "metadata": {},
     "output_type": "execute_result"
    }
   ],
   "source": [
    "df[(((df.V6 == 2) | (df.V8 == 2)) | (df.V4 == 2)) & df.V197_6.isin(opties)].scv_gewicht_herschaald14.sum().round()"
   ]
  },
  {
   "cell_type": "code",
   "execution_count": 31,
   "metadata": {},
   "outputs": [
    {
     "data": {
      "text/plain": "1194.0"
     },
     "execution_count": 31,
     "metadata": {},
     "output_type": "execute_result"
    }
   ],
   "source": [
    "df[(((df.V6 == 1) & (df.V8 == 1)) & (df.V4 == 1)) & (df.V197_6 == 1)].scv_gewicht_herschaald14.sum().round()"
   ]
  },
  {
   "cell_type": "code",
   "execution_count": 32,
   "metadata": {},
   "outputs": [
    {
     "data": {
      "text/plain": "90.0"
     },
     "execution_count": 32,
     "metadata": {},
     "output_type": "execute_result"
    }
   ],
   "source": [
    "df[(((df.V6 == 1) & (df.V8 == 1)) & (df.V4 == 1)) & df.V197_6.isin(opties)].scv_gewicht_herschaald14.sum().round()"
   ]
  },
  {
   "cell_type": "code",
   "execution_count": 33,
   "metadata": {},
   "outputs": [
    {
     "data": {
      "text/plain": "193.0"
     },
     "execution_count": 33,
     "metadata": {},
     "output_type": "execute_result"
    }
   ],
   "source": [
    "df[(((df.V6 == 2) | (df.V8 == 2)) | (df.V4 == 2)) & (df.V197_7 == 1)].scv_gewicht_herschaald14.sum().round()"
   ]
  },
  {
   "cell_type": "code",
   "execution_count": 34,
   "metadata": {},
   "outputs": [
    {
     "data": {
      "text/plain": "37.0"
     },
     "execution_count": 34,
     "metadata": {},
     "output_type": "execute_result"
    }
   ],
   "source": [
    "df[(((df.V6 == 2) | (df.V8 == 2)) | (df.V4 == 2)) & df.V197_7.isin(opties)].scv_gewicht_herschaald14.sum().round()"
   ]
  },
  {
   "cell_type": "code",
   "execution_count": 35,
   "metadata": {},
   "outputs": [
    {
     "data": {
      "text/plain": "1119.0"
     },
     "execution_count": 35,
     "metadata": {},
     "output_type": "execute_result"
    }
   ],
   "source": [
    "df[(((df.V6 == 1) & (df.V8 == 1)) & (df.V4 ==1)) & (df.V197_7 == 1)].scv_gewicht_herschaald14.sum().round()"
   ]
  },
  {
   "cell_type": "code",
   "execution_count": 36,
   "metadata": {},
   "outputs": [
    {
     "data": {
      "text/plain": "166.0"
     },
     "execution_count": 36,
     "metadata": {},
     "output_type": "execute_result"
    }
   ],
   "source": [
    "df[(((df.V6 == 1) & (df.V8 == 1)) & (df.V4 == 1)) & df.V197_7.isin(opties)].scv_gewicht_herschaald14.sum().round()"
   ]
  },
  {
   "cell_type": "code",
   "execution_count": 37,
   "metadata": {},
   "outputs": [
    {
     "data": {
      "text/plain": "211.0"
     },
     "execution_count": 37,
     "metadata": {},
     "output_type": "execute_result"
    }
   ],
   "source": [
    "df[(((df.V6 == 2) | (df.V8 == 2)) | (df.V4 == 2)) & (df.V197_8 == 1)].scv_gewicht_herschaald14.sum().round()"
   ]
  },
  {
   "cell_type": "code",
   "execution_count": 38,
   "metadata": {},
   "outputs": [
    {
     "data": {
      "text/plain": "20.0"
     },
     "execution_count": 38,
     "metadata": {},
     "output_type": "execute_result"
    }
   ],
   "source": [
    "df[(((df.V6 == 2) | (df.V8 == 2)) | (df.V4 == 2)) & df.V197_8.isin(opties)].scv_gewicht_herschaald14.sum().round()"
   ]
  },
  {
   "cell_type": "code",
   "execution_count": 39,
   "metadata": {},
   "outputs": [
    {
     "data": {
      "text/plain": "1058.0"
     },
     "execution_count": 39,
     "metadata": {},
     "output_type": "execute_result"
    }
   ],
   "source": [
    "df[(((df.V6 == 1) & (df.V8 == 1)) & (df.V4 == 1)) & (df.V197_8 == 1)].scv_gewicht_herschaald14.sum().round()"
   ]
  },
  {
   "cell_type": "code",
   "execution_count": 40,
   "metadata": {},
   "outputs": [
    {
     "data": {
      "text/plain": "227.0"
     },
     "execution_count": 40,
     "metadata": {},
     "output_type": "execute_result"
    }
   ],
   "source": [
    "df[(((df.V6 == 1) & (df.V8 == 1)) & (df.V4 == 1)) & df.V197_8.isin(opties)].scv_gewicht_herschaald14.sum().round()"
   ]
  },
  {
   "cell_type": "code",
   "execution_count": 41,
   "metadata": {},
   "outputs": [
    {
     "data": {
      "text/plain": "79.0"
     },
     "execution_count": 41,
     "metadata": {},
     "output_type": "execute_result"
    }
   ],
   "source": [
    "df[(((df.V6 == 2) | (df.V8 == 2)) | (df.V4 == 2)) & (df.V197_9 == 1)].scv_gewicht_herschaald14.sum().round()"
   ]
  },
  {
   "cell_type": "code",
   "execution_count": 42,
   "metadata": {},
   "outputs": [
    {
     "data": {
      "text/plain": "151.0"
     },
     "execution_count": 42,
     "metadata": {},
     "output_type": "execute_result"
    }
   ],
   "source": [
    "df[(((df.V6 == 2) | (df.V8 == 2)) |(df.V4 == 2))  & df.V197_9.isin(opties)].scv_gewicht_herschaald14.sum().round()"
   ]
  },
  {
   "cell_type": "code",
   "execution_count": 43,
   "metadata": {},
   "outputs": [
    {
     "data": {
      "text/plain": "608.0"
     },
     "execution_count": 43,
     "metadata": {},
     "output_type": "execute_result"
    }
   ],
   "source": [
    "df[(((df.V6 == 1) & (df.V8 == 1)) & (df.V4 == 1)) & (df.V197_9 == 1)].scv_gewicht_herschaald14.sum().round()"
   ]
  },
  {
   "cell_type": "code",
   "execution_count": 44,
   "metadata": {},
   "outputs": [
    {
     "data": {
      "text/plain": "677.0"
     },
     "execution_count": 44,
     "metadata": {},
     "output_type": "execute_result"
    }
   ],
   "source": [
    "df[(((df.V6 == 1) & (df.V8 == 1)) & (df.V4 == 1)) & df.V197_9.isin(opties)].scv_gewicht_herschaald14.sum().round()"
   ]
  },
  {
   "cell_type": "code",
   "execution_count": 45,
   "metadata": {},
   "outputs": [
    {
     "data": {
      "text/plain": "79.0"
     },
     "execution_count": 45,
     "metadata": {},
     "output_type": "execute_result"
    }
   ],
   "source": [
    "df[(((df.V6 == 2) | (df.V8 == 2)) |(df.V4 == 2)) & (df.V198 == 1)].scv_gewicht_herschaald14.sum().round()"
   ]
  },
  {
   "cell_type": "code",
   "execution_count": 46,
   "metadata": {},
   "outputs": [
    {
     "data": {
      "text/plain": "151.0"
     },
     "execution_count": 46,
     "metadata": {},
     "output_type": "execute_result"
    }
   ],
   "source": [
    "df[(((df.V6 == 2) | (df.V8 == 2)) |(df.V4 == 2)) & df.V198.isin(opties)].scv_gewicht_herschaald14.sum().round()"
   ]
  },
  {
   "cell_type": "code",
   "execution_count": 47,
   "metadata": {},
   "outputs": [
    {
     "data": {
      "text/plain": "478.0"
     },
     "execution_count": 47,
     "metadata": {},
     "output_type": "execute_result"
    }
   ],
   "source": [
    "df[(((df.V6 == 1) & (df.V8 == 1)) & (df.V4 == 1 )) & (df.V198 == 1)].scv_gewicht_herschaald14.sum().round()"
   ]
  },
  {
   "cell_type": "code",
   "execution_count": 48,
   "metadata": {},
   "outputs": [
    {
     "data": {
      "text/plain": "807.0"
     },
     "execution_count": 48,
     "metadata": {},
     "output_type": "execute_result"
    }
   ],
   "source": [
    "df[(((df.V6 == 1) & (df.V8 == 1)) & (df.V4 == 1)) & df.V198.isin(opties)].scv_gewicht_herschaald14.sum().round()"
   ]
  },
  {
   "cell_type": "code",
   "execution_count": 49,
   "metadata": {},
   "outputs": [
    {
     "data": {
      "text/plain": "147.0"
     },
     "execution_count": 49,
     "metadata": {},
     "output_type": "execute_result"
    }
   ],
   "source": [
    "df[(((df.V6 == 2) | (df.V8 == 2)) | (df.V4 == 2)) & (df.V200_1 == 1)].scv_gewicht_herschaald14.sum().round()"
   ]
  },
  {
   "cell_type": "code",
   "execution_count": 50,
   "metadata": {},
   "outputs": [
    {
     "data": {
      "text/plain": "83.0"
     },
     "execution_count": 50,
     "metadata": {},
     "output_type": "execute_result"
    }
   ],
   "source": [
    "df[(((df.V6 == 2) | (df.V8 == 2)) | (df.V4 == 2)) & df.V200_1.isin(opties)].scv_gewicht_herschaald14.sum().round()"
   ]
  },
  {
   "cell_type": "code",
   "execution_count": 51,
   "metadata": {},
   "outputs": [
    {
     "data": {
      "text/plain": "787.0"
     },
     "execution_count": 51,
     "metadata": {},
     "output_type": "execute_result"
    }
   ],
   "source": [
    "df[(((df.V6 == 1) & (df.V8 == 1)) & (df.V4 == 1)) & (df.V200_1 == 1)].scv_gewicht_herschaald14.sum().round()"
   ]
  },
  {
   "cell_type": "code",
   "execution_count": 52,
   "metadata": {},
   "outputs": [
    {
     "data": {
      "text/plain": "498.0"
     },
     "execution_count": 52,
     "metadata": {},
     "output_type": "execute_result"
    }
   ],
   "source": [
    "df[(((df.V6 == 1) & (df.V8 == 1)) & (df.V4 == 1)) & df.V200_1.isin(opties)].scv_gewicht_herschaald14.sum().round()"
   ]
  },
  {
   "cell_type": "code",
   "execution_count": 53,
   "metadata": {},
   "outputs": [
    {
     "data": {
      "text/plain": "129.0"
     },
     "execution_count": 53,
     "metadata": {},
     "output_type": "execute_result"
    }
   ],
   "source": [
    "df[(((df.V6 == 2) | (df.V8 == 2)) | (df.V4 == 2)) & (df.V200_3 == 1)].scv_gewicht_herschaald14.sum().round()"
   ]
  },
  {
   "cell_type": "code",
   "execution_count": 54,
   "metadata": {},
   "outputs": [
    {
     "data": {
      "text/plain": "101.0"
     },
     "execution_count": 54,
     "metadata": {},
     "output_type": "execute_result"
    }
   ],
   "source": [
    "df[(((df.V6 == 2) | (df.V8 == 2)) | (df.V4 == 2)) & df.V200_3.isin(opties)].scv_gewicht_herschaald14.sum().round()"
   ]
  },
  {
   "cell_type": "code",
   "execution_count": 55,
   "metadata": {},
   "outputs": [
    {
     "data": {
      "text/plain": "711.0"
     },
     "execution_count": 55,
     "metadata": {},
     "output_type": "execute_result"
    }
   ],
   "source": [
    "df[(((df.V6 == 1) & (df.V8 == 1)) & (df.V4 == 1)) & (df.V200_3 == 1)].scv_gewicht_herschaald14.sum().round()"
   ]
  },
  {
   "cell_type": "code",
   "execution_count": 56,
   "metadata": {},
   "outputs": [
    {
     "data": {
      "text/plain": "573.0"
     },
     "execution_count": 56,
     "metadata": {},
     "output_type": "execute_result"
    }
   ],
   "source": [
    "df[(((df.V6 == 1) & (df.V8 == 1)) & (df.V4 == 1)) & df.V200_3.isin(opties)].scv_gewicht_herschaald14.sum().round()"
   ]
  },
  {
   "cell_type": "code",
   "execution_count": 57,
   "metadata": {},
   "outputs": [
    {
     "data": {
      "text/plain": "196.0"
     },
     "execution_count": 57,
     "metadata": {},
     "output_type": "execute_result"
    }
   ],
   "source": [
    "df[(((df.V6 == 2) | (df.V8 == 2)) | (df.V4 == 2)) & (df.V200_4 == 1)].scv_gewicht_herschaald14.sum().round()"
   ]
  },
  {
   "cell_type": "code",
   "execution_count": 58,
   "metadata": {},
   "outputs": [
    {
     "data": {
      "text/plain": "35.0"
     },
     "execution_count": 58,
     "metadata": {},
     "output_type": "execute_result"
    }
   ],
   "source": [
    "df[(((df.V6 == 2) | (df.V8 == 2)) | (df.V4 == 2)) & df.V200_4.isin(opties)].scv_gewicht_herschaald14.sum().round()"
   ]
  },
  {
   "cell_type": "code",
   "execution_count": 59,
   "metadata": {},
   "outputs": [
    {
     "data": {
      "text/plain": "1055.0"
     },
     "execution_count": 59,
     "metadata": {},
     "output_type": "execute_result"
    }
   ],
   "source": [
    "df[(((df.V6 == 1) & (df.V8 == 1)) & (df.V4 == 1)) & (df.V200_4 == 1)].scv_gewicht_herschaald14.sum().round()"
   ]
  },
  {
   "cell_type": "code",
   "execution_count": 60,
   "metadata": {},
   "outputs": [
    {
     "data": {
      "text/plain": "229.0"
     },
     "execution_count": 60,
     "metadata": {},
     "output_type": "execute_result"
    }
   ],
   "source": [
    "df[(((df.V6 == 1) & (df.V8 == 1)) & (df.V4 == 1)) & df.V200_4.isin(opties)].scv_gewicht_herschaald14.sum().round()"
   ]
  },
  {
   "cell_type": "code",
   "execution_count": 61,
   "metadata": {},
   "outputs": [
    {
     "data": {
      "text/plain": "211.0"
     },
     "execution_count": 61,
     "metadata": {},
     "output_type": "execute_result"
    }
   ],
   "source": [
    "df[(((df.V6 == 2) | (df.V8 == 2)) | (df.V4 == 2)) & (df.V200_5 == 1)].scv_gewicht_herschaald14.sum().round()"
   ]
  },
  {
   "cell_type": "code",
   "execution_count": 62,
   "metadata": {},
   "outputs": [
    {
     "data": {
      "text/plain": "19.0"
     },
     "execution_count": 62,
     "metadata": {},
     "output_type": "execute_result"
    }
   ],
   "source": [
    "df[(((df.V6 == 2) | (df.V8 == 2)) | (df.V4 == 2)) & df.V200_5.isin(opties)].scv_gewicht_herschaald14.sum().round()"
   ]
  },
  {
   "cell_type": "code",
   "execution_count": 63,
   "metadata": {},
   "outputs": [
    {
     "data": {
      "text/plain": "1183.0"
     },
     "execution_count": 63,
     "metadata": {},
     "output_type": "execute_result"
    }
   ],
   "source": [
    "df[(((df.V6 == 1) & (df.V8 == 1)) & (df.V4 == 1)) & (df.V200_5 == 1)].scv_gewicht_herschaald14.sum().round()"
   ]
  },
  {
   "cell_type": "code",
   "execution_count": 64,
   "metadata": {},
   "outputs": [
    {
     "data": {
      "text/plain": "101.0"
     },
     "execution_count": 64,
     "metadata": {},
     "output_type": "execute_result"
    }
   ],
   "source": [
    "df[(((df.V6 == 1) & (df.V8 == 1)) & (df.V4 == 1)) & df.V200_5.isin(opties)].scv_gewicht_herschaald14.sum().round()"
   ]
  },
  {
   "cell_type": "code",
   "execution_count": 65,
   "metadata": {},
   "outputs": [
    {
     "data": {
      "text/html": "<div>\n<style scoped>\n    .dataframe tbody tr th:only-of-type {\n        vertical-align: middle;\n    }\n\n    .dataframe tbody tr th {\n        vertical-align: top;\n    }\n\n    .dataframe thead th {\n        text-align: right;\n    }\n</style>\n<table border=\"1\" class=\"dataframe\">\n  <thead>\n    <tr style=\"text-align: right;\">\n      <th></th>\n      <th>RESPNUM</th>\n      <th>INTNUM</th>\n      <th>DUURTIJD_MIN_INTERV</th>\n      <th>DUURTIJD_MIN_COMPUTER_T71_T1</th>\n      <th>VALID_DUURTIJD</th>\n      <th>Timer1</th>\n      <th>Timer2</th>\n      <th>V1_1</th>\n      <th>V1_1_FLAG</th>\n      <th>V1_2</th>\n      <th>...</th>\n      <th>tel_brzus</th>\n      <th>tel_anderfam</th>\n      <th>tel_nietfam</th>\n      <th>tel_garelatie</th>\n      <th>tel_grootouders</th>\n      <th>tel_medebewoners</th>\n      <th>tel_kleinkind</th>\n      <th>tel_schoonkind</th>\n      <th>gezintype</th>\n      <th>gezinstype</th>\n    </tr>\n  </thead>\n  <tbody>\n    <tr>\n      <th>601</th>\n      <td>111908.0</td>\n      <td>4135.0</td>\n      <td>124.0</td>\n      <td>121.0</td>\n      <td>1.0</td>\n      <td>2014-03-25 10:28:03</td>\n      <td>2014-03-25 10:28:43</td>\n      <td>25.0</td>\n      <td>0.0</td>\n      <td>3.0</td>\n      <td>...</td>\n      <td>0.0</td>\n      <td>0.0</td>\n      <td>0.0</td>\n      <td>0.0</td>\n      <td>0.0</td>\n      <td>0.0</td>\n      <td>0.0</td>\n      <td>0.0</td>\n      <td>5.0</td>\n      <td>5.0</td>\n    </tr>\n    <tr>\n      <th>1174</th>\n      <td>104916.0</td>\n      <td>9068.0</td>\n      <td>92.0</td>\n      <td>92.0</td>\n      <td>1.0</td>\n      <td>2014-04-06 12:42:04</td>\n      <td>2014-04-06 12:42:11</td>\n      <td>6.0</td>\n      <td>0.0</td>\n      <td>4.0</td>\n      <td>...</td>\n      <td>0.0</td>\n      <td>0.0</td>\n      <td>0.0</td>\n      <td>0.0</td>\n      <td>0.0</td>\n      <td>0.0</td>\n      <td>0.0</td>\n      <td>0.0</td>\n      <td>6.0</td>\n      <td>6.0</td>\n    </tr>\n  </tbody>\n</table>\n<p>2 rows × 969 columns</p>\n</div>",
      "text/plain": "       RESPNUM  INTNUM  DUURTIJD_MIN_INTERV  DUURTIJD_MIN_COMPUTER_T71_T1  \\\n601   111908.0  4135.0                124.0                         121.0   \n1174  104916.0  9068.0                 92.0                          92.0   \n\n      VALID_DUURTIJD              Timer1              Timer2  V1_1  V1_1_FLAG  \\\n601              1.0 2014-03-25 10:28:03 2014-03-25 10:28:43  25.0        0.0   \n1174             1.0 2014-04-06 12:42:04 2014-04-06 12:42:11   6.0        0.0   \n\n      V1_2  ...  tel_brzus  tel_anderfam  tel_nietfam tel_garelatie  \\\n601    3.0  ...        0.0           0.0          0.0           0.0   \n1174   4.0  ...        0.0           0.0          0.0           0.0   \n\n      tel_grootouders  tel_medebewoners  tel_kleinkind  tel_schoonkind  \\\n601               0.0               0.0            0.0             0.0   \n1174              0.0               0.0            0.0             0.0   \n\n      gezintype  gezinstype  \n601         5.0         5.0  \n1174        6.0         6.0  \n\n[2 rows x 969 columns]"
     },
     "execution_count": 65,
     "metadata": {},
     "output_type": "execute_result"
    }
   ],
   "source": [
    "df[((df.V6 == 1) & (df.V8 == 1)) & (df.V4 != 1)]"
   ]
  },
  {
   "cell_type": "code",
   "execution_count": 66,
   "metadata": {},
   "outputs": [
    {
     "data": {
      "text/plain": "1.0     25\n2.0     23\n5.0     22\n4.0     20\n6.0     14\n77.0     7\n9.0      4\n8.0      3\n88.0     3\n7.0      2\n14.0     1\n10.0     1\nName: V174, dtype: int64"
     },
     "execution_count": 66,
     "metadata": {},
     "output_type": "execute_result"
    }
   ],
   "source": [
    "df[df['V197_1'].isin(opties)].V174.value_counts()"
   ]
  },
  {
   "cell_type": "code",
   "execution_count": 82,
   "metadata": {},
   "outputs": [
    {
     "data": {
      "text/plain": "106.0"
     },
     "execution_count": 82,
     "metadata": {},
     "output_type": "execute_result"
    }
   ],
   "source": [
    "df[df['V197_1'].isin(opties)].scv_gewicht_herschaald14.sum().round()"
   ]
  },
  {
   "cell_type": "code",
   "execution_count": 83,
   "metadata": {},
   "outputs": [
    {
     "data": {
      "text/plain": "21.0"
     },
     "execution_count": 83,
     "metadata": {},
     "output_type": "execute_result"
    }
   ],
   "source": [
    "df[(df['V197_1'].isin(opties)) & (df.V174 == 1.0)].scv_gewicht_herschaald14.sum().round()"
   ]
  },
  {
   "cell_type": "code",
   "execution_count": 84,
   "metadata": {},
   "outputs": [
    {
     "data": {
      "text/plain": "19.0"
     },
     "execution_count": 84,
     "metadata": {},
     "output_type": "execute_result"
    }
   ],
   "source": [
    "df[(df['V197_1'].isin(opties)) & (df.V174 == 2.0)].scv_gewicht_herschaald14.sum().round()"
   ]
  },
  {
   "cell_type": "code",
   "execution_count": 85,
   "metadata": {},
   "outputs": [
    {
     "data": {
      "text/plain": "18.0"
     },
     "execution_count": 85,
     "metadata": {},
     "output_type": "execute_result"
    }
   ],
   "source": [
    "df[(df['V197_1'].isin(opties)) & (df.V174 == 5.0)].scv_gewicht_herschaald14.sum().round()"
   ]
  },
  {
   "cell_type": "code",
   "execution_count": 86,
   "metadata": {},
   "outputs": [
    {
     "data": {
      "text/plain": "2.0"
     },
     "execution_count": 86,
     "metadata": {},
     "output_type": "execute_result"
    }
   ],
   "source": [
    "df[(df['V197_1'].isin(opties)) & (df.V174 == 7.0)].scv_gewicht_herschaald14.sum().round()"
   ]
  },
  {
   "cell_type": "code",
   "execution_count": 157,
   "metadata": {},
   "outputs": [
    {
     "data": {
      "text/plain": "16.0"
     },
     "execution_count": 157,
     "metadata": {},
     "output_type": "execute_result"
    }
   ],
   "source": [
    "df[(df['V197_1'].isin(opties)) & (df.V174 == 4.0)].scv_gewicht_herschaald14.sum().round()"
   ]
  },
  {
   "cell_type": "code",
   "execution_count": 158,
   "metadata": {},
   "outputs": [
    {
     "data": {
      "text/plain": "14.0"
     },
     "execution_count": 158,
     "metadata": {},
     "output_type": "execute_result"
    }
   ],
   "source": [
    "df[(df['V197_1'].isin(opties)) & (df.V174 == 6.0)].scv_gewicht_herschaald14.sum().round()"
   ]
  },
  {
   "cell_type": "code",
   "execution_count": 159,
   "metadata": {},
   "outputs": [
    {
     "data": {
      "text/plain": "2.0"
     },
     "execution_count": 159,
     "metadata": {},
     "output_type": "execute_result"
    }
   ],
   "source": [
    "df[(df['V197_1'].isin(opties)) & (df.V174 == 8.0)].scv_gewicht_herschaald14.sum().round()"
   ]
  },
  {
   "cell_type": "code",
   "execution_count": 67,
   "metadata": {},
   "outputs": [
    {
     "data": {
      "text/plain": "2.0     33\n1.0     30\n4.0     25\n5.0     22\n6.0     12\n8.0      6\n9.0      5\n88.0     5\n77.0     4\n11.0     2\n10.0     2\n7.0      2\n18.0     1\n12.0     1\nName: V174, dtype: int64"
     },
     "execution_count": 67,
     "metadata": {},
     "output_type": "execute_result"
    }
   ],
   "source": [
    "df[df['V197_2'].isin(opties)].V174.value_counts()"
   ]
  },
  {
   "cell_type": "code",
   "execution_count": 87,
   "metadata": {},
   "outputs": [
    {
     "data": {
      "text/plain": "125.0"
     },
     "execution_count": 87,
     "metadata": {},
     "output_type": "execute_result"
    }
   ],
   "source": [
    "df[df['V197_2'].isin(opties)].scv_gewicht_herschaald14.sum().round()"
   ]
  },
  {
   "cell_type": "code",
   "execution_count": 88,
   "metadata": {},
   "outputs": [
    {
     "data": {
      "text/plain": "25.0"
     },
     "execution_count": 88,
     "metadata": {},
     "output_type": "execute_result"
    }
   ],
   "source": [
    "df[(df['V197_2'].isin(opties)) & (df.V174 == 2.0)].scv_gewicht_herschaald14.sum().round()"
   ]
  },
  {
   "cell_type": "code",
   "execution_count": 89,
   "metadata": {},
   "outputs": [
    {
     "data": {
      "text/plain": "25.0"
     },
     "execution_count": 89,
     "metadata": {},
     "output_type": "execute_result"
    }
   ],
   "source": [
    "df[(df['V197_2'].isin(opties)) & (df.V174 == 1.0)].scv_gewicht_herschaald14.sum().round()"
   ]
  },
  {
   "cell_type": "code",
   "execution_count": 90,
   "metadata": {},
   "outputs": [
    {
     "data": {
      "text/plain": "24.0"
     },
     "execution_count": 90,
     "metadata": {},
     "output_type": "execute_result"
    }
   ],
   "source": [
    "df[(df['V197_2'].isin(opties)) & (df.V174 == 4.0)].scv_gewicht_herschaald14.sum().round()"
   ]
  },
  {
   "cell_type": "code",
   "execution_count": 91,
   "metadata": {},
   "outputs": [
    {
     "data": {
      "text/plain": "2.0"
     },
     "execution_count": 91,
     "metadata": {},
     "output_type": "execute_result"
    }
   ],
   "source": [
    "df[(df['V197_2'].isin(opties)) & (df.V174 == 7.0)].scv_gewicht_herschaald14.sum().round()"
   ]
  },
  {
   "cell_type": "code",
   "execution_count": 160,
   "metadata": {},
   "outputs": [
    {
     "data": {
      "text/plain": "18.0"
     },
     "execution_count": 160,
     "metadata": {},
     "output_type": "execute_result"
    }
   ],
   "source": [
    "df[(df['V197_2'].isin(opties)) & (df.V174 == 5.0)].scv_gewicht_herschaald14.sum().round()"
   ]
  },
  {
   "cell_type": "code",
   "execution_count": 161,
   "metadata": {},
   "outputs": [
    {
     "data": {
      "text/plain": "11.0"
     },
     "execution_count": 161,
     "metadata": {},
     "output_type": "execute_result"
    }
   ],
   "source": [
    "df[(df['V197_2'].isin(opties)) & (df.V174 == 6.0)].scv_gewicht_herschaald14.sum().round()"
   ]
  },
  {
   "cell_type": "code",
   "execution_count": 162,
   "metadata": {},
   "outputs": [
    {
     "data": {
      "text/plain": "5.0"
     },
     "execution_count": 162,
     "metadata": {},
     "output_type": "execute_result"
    }
   ],
   "source": [
    "df[(df['V197_2'].isin(opties)) & (df.V174 == 8.0)].scv_gewicht_herschaald14.sum().round()"
   ]
  },
  {
   "cell_type": "code",
   "execution_count": 68,
   "metadata": {},
   "outputs": [
    {
     "data": {
      "text/plain": "1.0     42\n4.0     36\n2.0     28\n5.0     13\n9.0     11\n6.0      8\n77.0     7\n7.0      5\n8.0      5\n88.0     3\n10.0     2\n11.0     2\n18.0     1\n3.0      1\nName: V174, dtype: int64"
     },
     "execution_count": 68,
     "metadata": {},
     "output_type": "execute_result"
    }
   ],
   "source": [
    "df[df['V197_3'].isin(opties)].V174.value_counts()"
   ]
  },
  {
   "cell_type": "code",
   "execution_count": 92,
   "metadata": {},
   "outputs": [
    {
     "data": {
      "text/plain": "149.0"
     },
     "execution_count": 92,
     "metadata": {},
     "output_type": "execute_result"
    }
   ],
   "source": [
    "df[df['V197_3'].isin(opties)].scv_gewicht_herschaald14.sum().round()"
   ]
  },
  {
   "cell_type": "code",
   "execution_count": 93,
   "metadata": {},
   "outputs": [
    {
     "data": {
      "text/plain": "37.0"
     },
     "execution_count": 93,
     "metadata": {},
     "output_type": "execute_result"
    }
   ],
   "source": [
    "df[(df['V197_3'].isin(opties)) & (df.V174 == 1.0)].scv_gewicht_herschaald14.sum().round()"
   ]
  },
  {
   "cell_type": "code",
   "execution_count": 94,
   "metadata": {},
   "outputs": [
    {
     "data": {
      "text/plain": "34.0"
     },
     "execution_count": 94,
     "metadata": {},
     "output_type": "execute_result"
    }
   ],
   "source": [
    "df[(df['V197_3'].isin(opties)) & (df.V174 == 4.0)].scv_gewicht_herschaald14.sum().round()"
   ]
  },
  {
   "cell_type": "code",
   "execution_count": 95,
   "metadata": {},
   "outputs": [
    {
     "data": {
      "text/plain": "23.0"
     },
     "execution_count": 95,
     "metadata": {},
     "output_type": "execute_result"
    }
   ],
   "source": [
    "df[(df['V197_3'].isin(opties)) & (df.V174 == 2.0)].scv_gewicht_herschaald14.sum().round()"
   ]
  },
  {
   "cell_type": "code",
   "execution_count": 96,
   "metadata": {},
   "outputs": [
    {
     "data": {
      "text/plain": "4.0"
     },
     "execution_count": 96,
     "metadata": {},
     "output_type": "execute_result"
    }
   ],
   "source": [
    "df[(df['V197_3'].isin(opties)) & (df.V174 == 7.0)].scv_gewicht_herschaald14.sum().round()"
   ]
  },
  {
   "cell_type": "code",
   "execution_count": 163,
   "metadata": {},
   "outputs": [
    {
     "data": {
      "text/plain": "12.0"
     },
     "execution_count": 163,
     "metadata": {},
     "output_type": "execute_result"
    }
   ],
   "source": [
    "df[(df['V197_3'].isin(opties)) & (df.V174 == 5.0)].scv_gewicht_herschaald14.sum().round()"
   ]
  },
  {
   "cell_type": "code",
   "execution_count": 164,
   "metadata": {},
   "outputs": [
    {
     "data": {
      "text/plain": "8.0"
     },
     "execution_count": 164,
     "metadata": {},
     "output_type": "execute_result"
    }
   ],
   "source": [
    "df[(df['V197_3'].isin(opties)) & (df.V174 == 6.0)].scv_gewicht_herschaald14.sum().round()"
   ]
  },
  {
   "cell_type": "code",
   "execution_count": 165,
   "metadata": {},
   "outputs": [
    {
     "data": {
      "text/plain": "4.0"
     },
     "execution_count": 165,
     "metadata": {},
     "output_type": "execute_result"
    }
   ],
   "source": [
    "df[(df['V197_3'].isin(opties)) & (df.V174 == 8.0)].scv_gewicht_herschaald14.sum().round()"
   ]
  },
  {
   "cell_type": "code",
   "execution_count": 69,
   "metadata": {},
   "outputs": [
    {
     "data": {
      "text/plain": "1.0     71\n2.0     68\n4.0     64\n5.0     53\n6.0     32\n77.0    14\n8.0     14\n88.0    13\n7.0     12\n10.0     6\n9.0      6\n11.0     4\n12.0     2\n18.0     1\n3.0      1\nName: V174, dtype: int64"
     },
     "execution_count": 69,
     "metadata": {},
     "output_type": "execute_result"
    }
   ],
   "source": [
    "df[df['V197_4'].isin(opties)].V174.value_counts()"
   ]
  },
  {
   "cell_type": "code",
   "execution_count": 97,
   "metadata": {},
   "outputs": [
    {
     "data": {
      "text/plain": "319.0"
     },
     "execution_count": 97,
     "metadata": {},
     "output_type": "execute_result"
    }
   ],
   "source": [
    "df[df['V197_4'].isin(opties)].scv_gewicht_herschaald14.sum().round()"
   ]
  },
  {
   "cell_type": "code",
   "execution_count": 98,
   "metadata": {},
   "outputs": [
    {
     "data": {
      "text/plain": "63.0"
     },
     "execution_count": 98,
     "metadata": {},
     "output_type": "execute_result"
    }
   ],
   "source": [
    "df[(df['V197_4'].isin(opties)) & (df.V174 == 1.0)].scv_gewicht_herschaald14.sum().round()"
   ]
  },
  {
   "cell_type": "code",
   "execution_count": 99,
   "metadata": {},
   "outputs": [
    {
     "data": {
      "text/plain": "54.0"
     },
     "execution_count": 99,
     "metadata": {},
     "output_type": "execute_result"
    }
   ],
   "source": [
    "df[(df['V197_4'].isin(opties)) & (df.V174 == 2.0)].scv_gewicht_herschaald14.sum().round()"
   ]
  },
  {
   "cell_type": "code",
   "execution_count": 100,
   "metadata": {},
   "outputs": [
    {
     "data": {
      "text/plain": "60.0"
     },
     "execution_count": 100,
     "metadata": {},
     "output_type": "execute_result"
    }
   ],
   "source": [
    "df[(df['V197_4'].isin(opties)) & (df.V174 == 4.0)].scv_gewicht_herschaald14.sum().round()"
   ]
  },
  {
   "cell_type": "code",
   "execution_count": 101,
   "metadata": {},
   "outputs": [
    {
     "data": {
      "text/plain": "11.0"
     },
     "execution_count": 101,
     "metadata": {},
     "output_type": "execute_result"
    }
   ],
   "source": [
    "df[(df['V197_4'].isin(opties)) & (df.V174 == 7.0)].scv_gewicht_herschaald14.sum().round()"
   ]
  },
  {
   "cell_type": "code",
   "execution_count": 166,
   "metadata": {},
   "outputs": [
    {
     "data": {
      "text/plain": "45.0"
     },
     "execution_count": 166,
     "metadata": {},
     "output_type": "execute_result"
    }
   ],
   "source": [
    "df[(df['V197_4'].isin(opties)) & (df.V174 == 5.0)].scv_gewicht_herschaald14.sum().round()"
   ]
  },
  {
   "cell_type": "code",
   "execution_count": 167,
   "metadata": {},
   "outputs": [
    {
     "data": {
      "text/plain": "32.0"
     },
     "execution_count": 167,
     "metadata": {},
     "output_type": "execute_result"
    }
   ],
   "source": [
    "df[(df['V197_4'].isin(opties)) & (df.V174 == 6.0)].scv_gewicht_herschaald14.sum().round()"
   ]
  },
  {
   "cell_type": "code",
   "execution_count": 168,
   "metadata": {},
   "outputs": [
    {
     "data": {
      "text/plain": "13.0"
     },
     "execution_count": 168,
     "metadata": {},
     "output_type": "execute_result"
    }
   ],
   "source": [
    "df[(df['V197_4'].isin(opties)) & (df.V174 == 8.0)].scv_gewicht_herschaald14.sum().round()"
   ]
  },
  {
   "cell_type": "code",
   "execution_count": 70,
   "metadata": {},
   "outputs": [
    {
     "data": {
      "text/plain": "1.0     94\n4.0     93\n2.0     62\n5.0     47\n6.0     40\n77.0    19\n88.0    13\n8.0     11\n10.0     9\n9.0      9\n7.0      4\n11.0     3\n14.0     2\n12.0     2\n3.0      1\nName: V174, dtype: int64"
     },
     "execution_count": 70,
     "metadata": {},
     "output_type": "execute_result"
    }
   ],
   "source": [
    "df[df['V197_5'].isin(opties)].V174.value_counts()"
   ]
  },
  {
   "cell_type": "code",
   "execution_count": 102,
   "metadata": {},
   "outputs": [
    {
     "data": {
      "text/plain": "385.0"
     },
     "execution_count": 102,
     "metadata": {},
     "output_type": "execute_result"
    }
   ],
   "source": [
    "df[df['V197_5'].isin(opties)].scv_gewicht_herschaald14.sum().round()"
   ]
  },
  {
   "cell_type": "code",
   "execution_count": 103,
   "metadata": {},
   "outputs": [
    {
     "data": {
      "text/plain": "87.0"
     },
     "execution_count": 103,
     "metadata": {},
     "output_type": "execute_result"
    }
   ],
   "source": [
    "df[(df['V197_5'].isin(opties)) & (df.V174 == 1.0)].scv_gewicht_herschaald14.sum().round()"
   ]
  },
  {
   "cell_type": "code",
   "execution_count": 104,
   "metadata": {},
   "outputs": [
    {
     "data": {
      "text/plain": "93.0"
     },
     "execution_count": 104,
     "metadata": {},
     "output_type": "execute_result"
    }
   ],
   "source": [
    "df[(df['V197_5'].isin(opties)) & (df.V174 == 4.0)].scv_gewicht_herschaald14.sum().round()"
   ]
  },
  {
   "cell_type": "code",
   "execution_count": 105,
   "metadata": {},
   "outputs": [
    {
     "data": {
      "text/plain": "51.0"
     },
     "execution_count": 105,
     "metadata": {},
     "output_type": "execute_result"
    }
   ],
   "source": [
    "df[(df['V197_5'].isin(opties)) & (df.V174 == 2.0)].scv_gewicht_herschaald14.sum().round()"
   ]
  },
  {
   "cell_type": "code",
   "execution_count": 106,
   "metadata": {},
   "outputs": [
    {
     "data": {
      "text/plain": "5.0"
     },
     "execution_count": 106,
     "metadata": {},
     "output_type": "execute_result"
    }
   ],
   "source": [
    "df[(df['V197_5'].isin(opties)) & (df.V174 == 7.0)].scv_gewicht_herschaald14.sum().round()"
   ]
  },
  {
   "cell_type": "code",
   "execution_count": 169,
   "metadata": {},
   "outputs": [
    {
     "data": {
      "text/plain": "44.0"
     },
     "execution_count": 169,
     "metadata": {},
     "output_type": "execute_result"
    }
   ],
   "source": [
    "df[(df['V197_5'].isin(opties)) & (df.V174 == 5.0)].scv_gewicht_herschaald14.sum().round()"
   ]
  },
  {
   "cell_type": "code",
   "execution_count": 170,
   "metadata": {},
   "outputs": [
    {
     "data": {
      "text/plain": "41.0"
     },
     "execution_count": 170,
     "metadata": {},
     "output_type": "execute_result"
    }
   ],
   "source": [
    "df[(df['V197_5'].isin(opties)) & (df.V174 == 6.0)].scv_gewicht_herschaald14.sum().round()"
   ]
  },
  {
   "cell_type": "code",
   "execution_count": 171,
   "metadata": {},
   "outputs": [
    {
     "data": {
      "text/plain": "9.0"
     },
     "execution_count": 171,
     "metadata": {},
     "output_type": "execute_result"
    }
   ],
   "source": [
    "df[(df['V197_5'].isin(opties)) & (df.V174 == 8.0)].scv_gewicht_herschaald14.sum().round()"
   ]
  },
  {
   "cell_type": "code",
   "execution_count": 71,
   "metadata": {},
   "outputs": [
    {
     "data": {
      "text/plain": "1.0     22\n2.0     22\n4.0     21\n6.0     18\n5.0     15\n8.0      5\n9.0      4\n7.0      4\n77.0     4\n10.0     3\n88.0     3\n14.0     1\nName: V174, dtype: int64"
     },
     "execution_count": 71,
     "metadata": {},
     "output_type": "execute_result"
    }
   ],
   "source": [
    "df[df['V197_6'].isin(opties)].V174.value_counts()"
   ]
  },
  {
   "cell_type": "code",
   "execution_count": 107,
   "metadata": {},
   "outputs": [
    {
     "data": {
      "text/plain": "117.0"
     },
     "execution_count": 107,
     "metadata": {},
     "output_type": "execute_result"
    }
   ],
   "source": [
    "df[df['V197_6'].isin(opties)].scv_gewicht_herschaald14.sum().round()"
   ]
  },
  {
   "cell_type": "code",
   "execution_count": 108,
   "metadata": {},
   "outputs": [
    {
     "data": {
      "text/plain": "22.0"
     },
     "execution_count": 108,
     "metadata": {},
     "output_type": "execute_result"
    }
   ],
   "source": [
    "df[(df['V197_6'].isin(opties)) & (df.V174 == 1.0)].scv_gewicht_herschaald14.sum().round()"
   ]
  },
  {
   "cell_type": "code",
   "execution_count": 109,
   "metadata": {},
   "outputs": [
    {
     "data": {
      "text/plain": "20.0"
     },
     "execution_count": 109,
     "metadata": {},
     "output_type": "execute_result"
    }
   ],
   "source": [
    "df[(df['V197_6'].isin(opties)) & (df.V174 == 2.0)].scv_gewicht_herschaald14.sum().round()"
   ]
  },
  {
   "cell_type": "code",
   "execution_count": 110,
   "metadata": {},
   "outputs": [
    {
     "data": {
      "text/plain": "20.0"
     },
     "execution_count": 110,
     "metadata": {},
     "output_type": "execute_result"
    }
   ],
   "source": [
    "df[(df['V197_6'].isin(opties)) & (df.V174 == 4.0)].scv_gewicht_herschaald14.sum().round()"
   ]
  },
  {
   "cell_type": "code",
   "execution_count": 111,
   "metadata": {},
   "outputs": [
    {
     "data": {
      "text/plain": "5.0"
     },
     "execution_count": 111,
     "metadata": {},
     "output_type": "execute_result"
    }
   ],
   "source": [
    "df[(df['V197_6'].isin(opties)) & (df.V174 == 7.0)].scv_gewicht_herschaald14.sum().round()"
   ]
  },
  {
   "cell_type": "code",
   "execution_count": 172,
   "metadata": {},
   "outputs": [
    {
     "data": {
      "text/plain": "14.0"
     },
     "execution_count": 172,
     "metadata": {},
     "output_type": "execute_result"
    }
   ],
   "source": [
    "df[(df['V197_6'].isin(opties)) & (df.V174 == 5.0)].scv_gewicht_herschaald14.sum().round()"
   ]
  },
  {
   "cell_type": "code",
   "execution_count": 173,
   "metadata": {},
   "outputs": [
    {
     "data": {
      "text/plain": "18.0"
     },
     "execution_count": 173,
     "metadata": {},
     "output_type": "execute_result"
    }
   ],
   "source": [
    "df[(df['V197_6'].isin(opties)) & (df.V174 == 6.0)].scv_gewicht_herschaald14.sum().round()"
   ]
  },
  {
   "cell_type": "code",
   "execution_count": 174,
   "metadata": {},
   "outputs": [
    {
     "data": {
      "text/plain": "5.0"
     },
     "execution_count": 174,
     "metadata": {},
     "output_type": "execute_result"
    }
   ],
   "source": [
    "df[(df['V197_6'].isin(opties)) & (df.V174 == 8.0)].scv_gewicht_herschaald14.sum().round()"
   ]
  },
  {
   "cell_type": "code",
   "execution_count": 72,
   "metadata": {},
   "outputs": [
    {
     "data": {
      "text/plain": "1.0     57\n4.0     49\n2.0     34\n5.0     32\n6.0     16\n9.0      6\n88.0     6\n8.0      5\n77.0     5\n7.0      5\n11.0     5\n18.0     2\n10.0     1\nName: V174, dtype: int64"
     },
     "execution_count": 72,
     "metadata": {},
     "output_type": "execute_result"
    }
   ],
   "source": [
    "df[df['V197_7'].isin(opties)].V174.value_counts()"
   ]
  },
  {
   "cell_type": "code",
   "execution_count": 112,
   "metadata": {},
   "outputs": [
    {
     "data": {
      "text/plain": "203.0"
     },
     "execution_count": 112,
     "metadata": {},
     "output_type": "execute_result"
    }
   ],
   "source": [
    "df[df['V197_7'].isin(opties)].scv_gewicht_herschaald14.sum().round()"
   ]
  },
  {
   "cell_type": "code",
   "execution_count": 113,
   "metadata": {},
   "outputs": [
    {
     "data": {
      "text/plain": "49.0"
     },
     "execution_count": 113,
     "metadata": {},
     "output_type": "execute_result"
    }
   ],
   "source": [
    "df[(df['V197_7'].isin(opties)) & (df.V174 == 1.0)].scv_gewicht_herschaald14.sum().round()"
   ]
  },
  {
   "cell_type": "code",
   "execution_count": 114,
   "metadata": {},
   "outputs": [
    {
     "data": {
      "text/plain": "47.0"
     },
     "execution_count": 114,
     "metadata": {},
     "output_type": "execute_result"
    }
   ],
   "source": [
    "df[(df['V197_7'].isin(opties)) & (df.V174 == 4.0)].scv_gewicht_herschaald14.sum().round()"
   ]
  },
  {
   "cell_type": "code",
   "execution_count": 115,
   "metadata": {},
   "outputs": [
    {
     "data": {
      "text/plain": "27.0"
     },
     "execution_count": 115,
     "metadata": {},
     "output_type": "execute_result"
    }
   ],
   "source": [
    "df[(df['V197_7'].isin(opties)) & (df.V174 == 2.0)].scv_gewicht_herschaald14.sum().round()"
   ]
  },
  {
   "cell_type": "code",
   "execution_count": 116,
   "metadata": {},
   "outputs": [
    {
     "data": {
      "text/plain": "4.0"
     },
     "execution_count": 116,
     "metadata": {},
     "output_type": "execute_result"
    }
   ],
   "source": [
    "df[(df['V197_7'].isin(opties)) & (df.V174 == 7.0)].scv_gewicht_herschaald14.sum().round()"
   ]
  },
  {
   "cell_type": "code",
   "execution_count": 175,
   "metadata": {},
   "outputs": [
    {
     "data": {
      "text/plain": "30.0"
     },
     "execution_count": 175,
     "metadata": {},
     "output_type": "execute_result"
    }
   ],
   "source": [
    "df[(df['V197_7'].isin(opties)) & (df.V174 == 5.0)].scv_gewicht_herschaald14.sum().round()"
   ]
  },
  {
   "cell_type": "code",
   "execution_count": 176,
   "metadata": {},
   "outputs": [
    {
     "data": {
      "text/plain": "16.0"
     },
     "execution_count": 176,
     "metadata": {},
     "output_type": "execute_result"
    }
   ],
   "source": [
    "df[(df['V197_7'].isin(opties)) & (df.V174 == 6.0)].scv_gewicht_herschaald14.sum().round()"
   ]
  },
  {
   "cell_type": "code",
   "execution_count": 177,
   "metadata": {},
   "outputs": [
    {
     "data": {
      "text/plain": "5.0"
     },
     "execution_count": 177,
     "metadata": {},
     "output_type": "execute_result"
    }
   ],
   "source": [
    "df[(df['V197_7'].isin(opties)) & (df.V174 == 8.0)].scv_gewicht_herschaald14.sum().round()"
   ]
  },
  {
   "cell_type": "code",
   "execution_count": 73,
   "metadata": {},
   "outputs": [
    {
     "data": {
      "text/plain": "4.0     63\n1.0     62\n2.0     43\n5.0     34\n6.0     27\n88.0    12\n10.0     7\n7.0      6\n8.0      6\n77.0     6\n9.0      5\n11.0     2\n3.0      1\n12.0     1\nName: V174, dtype: int64"
     },
     "execution_count": 73,
     "metadata": {},
     "output_type": "execute_result"
    }
   ],
   "source": [
    "df[df['V197_8'].isin(opties)].V174.value_counts()"
   ]
  },
  {
   "cell_type": "code",
   "execution_count": 117,
   "metadata": {},
   "outputs": [
    {
     "data": {
      "text/plain": "246.0"
     },
     "execution_count": 117,
     "metadata": {},
     "output_type": "execute_result"
    }
   ],
   "source": [
    "df[df['V197_8'].isin(opties)].scv_gewicht_herschaald14.sum().round()"
   ]
  },
  {
   "cell_type": "code",
   "execution_count": 118,
   "metadata": {},
   "outputs": [
    {
     "data": {
      "text/plain": "61.0"
     },
     "execution_count": 118,
     "metadata": {},
     "output_type": "execute_result"
    }
   ],
   "source": [
    "df[(df['V197_8'].isin(opties)) & (df.V174 == 4.0)].scv_gewicht_herschaald14.sum().round()"
   ]
  },
  {
   "cell_type": "code",
   "execution_count": 119,
   "metadata": {},
   "outputs": [
    {
     "data": {
      "text/plain": "56.0"
     },
     "execution_count": 119,
     "metadata": {},
     "output_type": "execute_result"
    }
   ],
   "source": [
    "df[(df['V197_8'].isin(opties)) & (df.V174 == 1.0)].scv_gewicht_herschaald14.sum().round()"
   ]
  },
  {
   "cell_type": "code",
   "execution_count": 120,
   "metadata": {},
   "outputs": [
    {
     "data": {
      "text/plain": "35.0"
     },
     "execution_count": 120,
     "metadata": {},
     "output_type": "execute_result"
    }
   ],
   "source": [
    "df[(df['V197_8'].isin(opties)) & (df.V174 == 2.0)].scv_gewicht_herschaald14.sum().round()"
   ]
  },
  {
   "cell_type": "code",
   "execution_count": 121,
   "metadata": {},
   "outputs": [
    {
     "data": {
      "text/plain": "5.0"
     },
     "execution_count": 121,
     "metadata": {},
     "output_type": "execute_result"
    }
   ],
   "source": [
    "df[(df['V197_8'].isin(opties)) & (df.V174 == 7.0)].scv_gewicht_herschaald14.sum().round()"
   ]
  },
  {
   "cell_type": "code",
   "execution_count": 178,
   "metadata": {},
   "outputs": [
    {
     "data": {
      "text/plain": "29.0"
     },
     "execution_count": 178,
     "metadata": {},
     "output_type": "execute_result"
    }
   ],
   "source": [
    "df[(df['V197_8'].isin(opties)) & (df.V174 == 5.0)].scv_gewicht_herschaald14.sum().round()"
   ]
  },
  {
   "cell_type": "code",
   "execution_count": 179,
   "metadata": {},
   "outputs": [
    {
     "data": {
      "text/plain": "26.0"
     },
     "execution_count": 179,
     "metadata": {},
     "output_type": "execute_result"
    }
   ],
   "source": [
    "df[(df['V197_8'].isin(opties)) & (df.V174 == 6.0)].scv_gewicht_herschaald14.sum().round()"
   ]
  },
  {
   "cell_type": "code",
   "execution_count": 180,
   "metadata": {},
   "outputs": [
    {
     "data": {
      "text/plain": "5.0"
     },
     "execution_count": 180,
     "metadata": {},
     "output_type": "execute_result"
    }
   ],
   "source": [
    "df[(df['V197_8'].isin(opties)) & (df.V174 == 8.0)].scv_gewicht_herschaald14.sum().round()"
   ]
  },
  {
   "cell_type": "code",
   "execution_count": 74,
   "metadata": {},
   "outputs": [
    {
     "data": {
      "text/plain": "4.0     196\n1.0     169\n2.0     126\n5.0     120\n6.0      95\n77.0     54\n7.0      27\n88.0     23\n11.0     18\n8.0      16\n10.0     15\n9.0      15\n3.0       5\n14.0      2\n18.0      2\n12.0      1\nName: V174, dtype: int64"
     },
     "execution_count": 74,
     "metadata": {},
     "output_type": "execute_result"
    }
   ],
   "source": [
    "df[df['V197_9'].isin(opties)].V174.value_counts()"
   ]
  },
  {
   "cell_type": "code",
   "execution_count": 122,
   "metadata": {},
   "outputs": [
    {
     "data": {
      "text/plain": "828.0"
     },
     "execution_count": 122,
     "metadata": {},
     "output_type": "execute_result"
    }
   ],
   "source": [
    "df[df['V197_9'].isin(opties)].scv_gewicht_herschaald14.sum().round()"
   ]
  },
  {
   "cell_type": "code",
   "execution_count": 123,
   "metadata": {},
   "outputs": [
    {
     "data": {
      "text/plain": "192.0"
     },
     "execution_count": 123,
     "metadata": {},
     "output_type": "execute_result"
    }
   ],
   "source": [
    "df[(df['V197_9'].isin(opties)) & (df.V174 == 4.0)].scv_gewicht_herschaald14.sum().round()"
   ]
  },
  {
   "cell_type": "code",
   "execution_count": 124,
   "metadata": {},
   "outputs": [
    {
     "data": {
      "text/plain": "159.0"
     },
     "execution_count": 124,
     "metadata": {},
     "output_type": "execute_result"
    }
   ],
   "source": [
    "df[(df['V197_9'].isin(opties)) & (df.V174 == 1.0)].scv_gewicht_herschaald14.sum().round()"
   ]
  },
  {
   "cell_type": "code",
   "execution_count": 125,
   "metadata": {},
   "outputs": [
    {
     "data": {
      "text/plain": "108.0"
     },
     "execution_count": 125,
     "metadata": {},
     "output_type": "execute_result"
    }
   ],
   "source": [
    "df[(df['V197_9'].isin(opties)) & (df.V174 == 2.0)].scv_gewicht_herschaald14.sum().round()"
   ]
  },
  {
   "cell_type": "code",
   "execution_count": 126,
   "metadata": {},
   "outputs": [
    {
     "data": {
      "text/plain": "27.0"
     },
     "execution_count": 126,
     "metadata": {},
     "output_type": "execute_result"
    }
   ],
   "source": [
    "df[(df['V197_9'].isin(opties)) & (df.V174 == 7.0)].scv_gewicht_herschaald14.sum().round()"
   ]
  },
  {
   "cell_type": "code",
   "execution_count": 181,
   "metadata": {},
   "outputs": [
    {
     "data": {
      "text/plain": "105.0"
     },
     "execution_count": 181,
     "metadata": {},
     "output_type": "execute_result"
    }
   ],
   "source": [
    "df[(df['V197_9'].isin(opties)) & (df.V174 == 5.0)].scv_gewicht_herschaald14.sum().round()"
   ]
  },
  {
   "cell_type": "code",
   "execution_count": 182,
   "metadata": {},
   "outputs": [
    {
     "data": {
      "text/plain": "93.0"
     },
     "execution_count": 182,
     "metadata": {},
     "output_type": "execute_result"
    }
   ],
   "source": [
    "df[(df['V197_9'].isin(opties)) & (df.V174 == 6.0)].scv_gewicht_herschaald14.sum().round()"
   ]
  },
  {
   "cell_type": "code",
   "execution_count": 183,
   "metadata": {},
   "outputs": [
    {
     "data": {
      "text/plain": "15.0"
     },
     "execution_count": 183,
     "metadata": {},
     "output_type": "execute_result"
    }
   ],
   "source": [
    "df[(df['V197_9'].isin(opties)) & (df.V174 == 8.0)].scv_gewicht_herschaald14.sum().round()"
   ]
  },
  {
   "cell_type": "code",
   "execution_count": 75,
   "metadata": {},
   "outputs": [
    {
     "data": {
      "text/plain": "4.0     203\n1.0     190\n6.0     101\n5.0      92\n77.0     72\n2.0      61\n7.0      43\n10.0     43\n88.0     37\n11.0     25\n8.0      19\n9.0      16\n3.0       3\n14.0      2\n12.0      2\n17.0      1\nName: V174, dtype: int64"
     },
     "execution_count": 75,
     "metadata": {},
     "output_type": "execute_result"
    }
   ],
   "source": [
    "df[df['V198'].isin(opties)].V174.value_counts()"
   ]
  },
  {
   "cell_type": "code",
   "execution_count": 127,
   "metadata": {},
   "outputs": [
    {
     "data": {
      "text/plain": "958.0"
     },
     "execution_count": 127,
     "metadata": {},
     "output_type": "execute_result"
    }
   ],
   "source": [
    "df[df['V198'].isin(opties)].scv_gewicht_herschaald14.sum().round()"
   ]
  },
  {
   "cell_type": "code",
   "execution_count": 128,
   "metadata": {},
   "outputs": [
    {
     "data": {
      "text/plain": "211.0"
     },
     "execution_count": 128,
     "metadata": {},
     "output_type": "execute_result"
    }
   ],
   "source": [
    "df[(df['V198'].isin(opties)) & (df.V174 == 4.0)].scv_gewicht_herschaald14.sum().round()"
   ]
  },
  {
   "cell_type": "code",
   "execution_count": 129,
   "metadata": {},
   "outputs": [
    {
     "data": {
      "text/plain": "192.0"
     },
     "execution_count": 129,
     "metadata": {},
     "output_type": "execute_result"
    }
   ],
   "source": [
    "df[(df['V198'].isin(opties)) & (df.V174 == 1.0)].scv_gewicht_herschaald14.sum().round()"
   ]
  },
  {
   "cell_type": "code",
   "execution_count": 130,
   "metadata": {},
   "outputs": [
    {
     "data": {
      "text/plain": "114.0"
     },
     "execution_count": 130,
     "metadata": {},
     "output_type": "execute_result"
    }
   ],
   "source": [
    "df[(df['V198'].isin(opties)) & (df.V174 == 6.0)].scv_gewicht_herschaald14.sum().round()"
   ]
  },
  {
   "cell_type": "code",
   "execution_count": 131,
   "metadata": {},
   "outputs": [
    {
     "data": {
      "text/plain": "50.0"
     },
     "execution_count": 131,
     "metadata": {},
     "output_type": "execute_result"
    }
   ],
   "source": [
    "df[(df['V198'].isin(opties)) & (df.V174 == 7.0)].scv_gewicht_herschaald14.sum().round()"
   ]
  },
  {
   "cell_type": "code",
   "execution_count": 184,
   "metadata": {},
   "outputs": [
    {
     "data": {
      "text/plain": "57.0"
     },
     "execution_count": 184,
     "metadata": {},
     "output_type": "execute_result"
    }
   ],
   "source": [
    "df[(df['V198'].isin(opties)) & (df.V174 == 2.0)].scv_gewicht_herschaald14.sum().round()"
   ]
  },
  {
   "cell_type": "code",
   "execution_count": 185,
   "metadata": {},
   "outputs": [
    {
     "data": {
      "text/plain": "95.0"
     },
     "execution_count": 185,
     "metadata": {},
     "output_type": "execute_result"
    }
   ],
   "source": [
    "df[(df['V198'].isin(opties)) & (df.V174 == 5.0)].scv_gewicht_herschaald14.sum().round()"
   ]
  },
  {
   "cell_type": "code",
   "execution_count": 186,
   "metadata": {},
   "outputs": [
    {
     "data": {
      "text/plain": "20.0"
     },
     "execution_count": 186,
     "metadata": {},
     "output_type": "execute_result"
    }
   ],
   "source": [
    "df[(df['V198'].isin(opties)) & (df.V174 == 8.0)].scv_gewicht_herschaald14.sum().round()"
   ]
  },
  {
   "cell_type": "code",
   "execution_count": 76,
   "metadata": {},
   "outputs": [
    {
     "data": {
      "text/plain": "4.0     134\n1.0     131\n2.0     107\n5.0      84\n6.0      60\n77.0     27\n88.0     21\n9.0      15\n8.0      15\n7.0      14\n10.0     13\n11.0     12\n18.0      3\n12.0      2\n3.0       1\n20.0      1\n14.0      1\nName: V174, dtype: int64"
     },
     "execution_count": 76,
     "metadata": {},
     "output_type": "execute_result"
    }
   ],
   "source": [
    "df[df['V200_1'].isin(opties)].V174.value_counts()"
   ]
  },
  {
   "cell_type": "code",
   "execution_count": 132,
   "metadata": {},
   "outputs": [
    {
     "data": {
      "text/plain": "581.0"
     },
     "execution_count": 132,
     "metadata": {},
     "output_type": "execute_result"
    }
   ],
   "source": [
    "df[df['V200_1'].isin(opties)].scv_gewicht_herschaald14.sum().round()"
   ]
  },
  {
   "cell_type": "code",
   "execution_count": 133,
   "metadata": {},
   "outputs": [
    {
     "data": {
      "text/plain": "130.0"
     },
     "execution_count": 133,
     "metadata": {},
     "output_type": "execute_result"
    }
   ],
   "source": [
    "df[(df['V200_1'].isin(opties)) & (df.V174 == 4.0)].scv_gewicht_herschaald14.sum().round()"
   ]
  },
  {
   "cell_type": "code",
   "execution_count": 134,
   "metadata": {},
   "outputs": [
    {
     "data": {
      "text/plain": "113.0"
     },
     "execution_count": 134,
     "metadata": {},
     "output_type": "execute_result"
    }
   ],
   "source": [
    "df[(df['V200_1'].isin(opties)) & (df.V174 == 1.0)].scv_gewicht_herschaald14.sum().round()"
   ]
  },
  {
   "cell_type": "code",
   "execution_count": 135,
   "metadata": {},
   "outputs": [
    {
     "data": {
      "text/plain": "88.0"
     },
     "execution_count": 135,
     "metadata": {},
     "output_type": "execute_result"
    }
   ],
   "source": [
    "df[(df['V200_1'].isin(opties)) & (df.V174 == 2.0)].scv_gewicht_herschaald14.sum().round()"
   ]
  },
  {
   "cell_type": "code",
   "execution_count": 136,
   "metadata": {},
   "outputs": [
    {
     "data": {
      "text/plain": "13.0"
     },
     "execution_count": 136,
     "metadata": {},
     "output_type": "execute_result"
    }
   ],
   "source": [
    "df[(df['V200_1'].isin(opties)) & (df.V174 == 7.0)].scv_gewicht_herschaald14.sum().round()"
   ]
  },
  {
   "cell_type": "code",
   "execution_count": 187,
   "metadata": {},
   "outputs": [
    {
     "data": {
      "text/plain": "73.0"
     },
     "execution_count": 187,
     "metadata": {},
     "output_type": "execute_result"
    }
   ],
   "source": [
    "df[(df['V200_1'].isin(opties)) & (df.V174 == 5.0)].scv_gewicht_herschaald14.sum().round()"
   ]
  },
  {
   "cell_type": "code",
   "execution_count": 188,
   "metadata": {},
   "outputs": [
    {
     "data": {
      "text/plain": "58.0"
     },
     "execution_count": 188,
     "metadata": {},
     "output_type": "execute_result"
    }
   ],
   "source": [
    "df[(df['V200_1'].isin(opties)) & (df.V174 == 6.0)].scv_gewicht_herschaald14.sum().round()"
   ]
  },
  {
   "cell_type": "code",
   "execution_count": 189,
   "metadata": {},
   "outputs": [
    {
     "data": {
      "text/plain": "15.0"
     },
     "execution_count": 189,
     "metadata": {},
     "output_type": "execute_result"
    }
   ],
   "source": [
    "df[(df['V200_1'].isin(opties)) & (df.V174 == 8.0)].scv_gewicht_herschaald14.sum().round()"
   ]
  },
  {
   "cell_type": "code",
   "execution_count": 77,
   "metadata": {},
   "outputs": [
    {
     "data": {
      "text/plain": "4.0     158\n1.0     154\n5.0     103\n2.0     103\n6.0      70\n77.0     37\n88.0     23\n7.0      21\n9.0      19\n8.0      17\n10.0     16\n11.0     10\n18.0      3\n3.0       2\n20.0      1\n12.0      1\n14.0      1\nName: V174, dtype: int64"
     },
     "execution_count": 77,
     "metadata": {},
     "output_type": "execute_result"
    }
   ],
   "source": [
    "df[df['V200_3'].isin(opties)].V174.value_counts()"
   ]
  },
  {
   "cell_type": "code",
   "execution_count": 137,
   "metadata": {},
   "outputs": [
    {
     "data": {
      "text/plain": "674.0"
     },
     "execution_count": 137,
     "metadata": {},
     "output_type": "execute_result"
    }
   ],
   "source": [
    "df[df['V200_3'].isin(opties)].scv_gewicht_herschaald14.sum().round()"
   ]
  },
  {
   "cell_type": "code",
   "execution_count": 138,
   "metadata": {},
   "outputs": [
    {
     "data": {
      "text/plain": "153.0"
     },
     "execution_count": 138,
     "metadata": {},
     "output_type": "execute_result"
    }
   ],
   "source": [
    "df[(df['V200_3'].isin(opties)) & (df.V174 == 4.0)].scv_gewicht_herschaald14.sum().round()"
   ]
  },
  {
   "cell_type": "code",
   "execution_count": 139,
   "metadata": {},
   "outputs": [
    {
     "data": {
      "text/plain": "135.0"
     },
     "execution_count": 139,
     "metadata": {},
     "output_type": "execute_result"
    }
   ],
   "source": [
    "df[(df['V200_3'].isin(opties)) & (df.V174 == 1.0)].scv_gewicht_herschaald14.sum().round()"
   ]
  },
  {
   "cell_type": "code",
   "execution_count": 140,
   "metadata": {},
   "outputs": [
    {
     "data": {
      "text/plain": "89.0"
     },
     "execution_count": 140,
     "metadata": {},
     "output_type": "execute_result"
    }
   ],
   "source": [
    "df[(df['V200_3'].isin(opties)) & (df.V174 == 5.0)].scv_gewicht_herschaald14.sum().round()"
   ]
  },
  {
   "cell_type": "code",
   "execution_count": 141,
   "metadata": {},
   "outputs": [
    {
     "data": {
      "text/plain": "20.0"
     },
     "execution_count": 141,
     "metadata": {},
     "output_type": "execute_result"
    }
   ],
   "source": [
    "df[(df['V200_3'].isin(opties)) & (df.V174 == 7.0)].scv_gewicht_herschaald14.sum().round()"
   ]
  },
  {
   "cell_type": "code",
   "execution_count": 190,
   "metadata": {},
   "outputs": [
    {
     "data": {
      "text/plain": "87.0"
     },
     "execution_count": 190,
     "metadata": {},
     "output_type": "execute_result"
    }
   ],
   "source": [
    "df[(df['V200_3'].isin(opties)) & (df.V174 == 2.0)].scv_gewicht_herschaald14.sum().round()"
   ]
  },
  {
   "cell_type": "code",
   "execution_count": 191,
   "metadata": {},
   "outputs": [
    {
     "data": {
      "text/plain": "68.0"
     },
     "execution_count": 191,
     "metadata": {},
     "output_type": "execute_result"
    }
   ],
   "source": [
    "df[(df['V200_3'].isin(opties)) & (df.V174 == 6.0)].scv_gewicht_herschaald14.sum().round()"
   ]
  },
  {
   "cell_type": "code",
   "execution_count": 192,
   "metadata": {},
   "outputs": [
    {
     "data": {
      "text/plain": "16.0"
     },
     "execution_count": 192,
     "metadata": {},
     "output_type": "execute_result"
    }
   ],
   "source": [
    "df[(df['V200_3'].isin(opties)) & (df.V174 == 8.0)].scv_gewicht_herschaald14.sum().round()"
   ]
  },
  {
   "cell_type": "code",
   "execution_count": 78,
   "metadata": {},
   "outputs": [
    {
     "data": {
      "text/plain": "1.0     65\n4.0     59\n5.0     41\n2.0     34\n6.0     21\n77.0    16\n88.0    13\n9.0     11\n8.0      9\n10.0     6\n7.0      5\n11.0     5\n3.0      2\n12.0     1\n18.0     1\nName: V174, dtype: int64"
     },
     "execution_count": 78,
     "metadata": {},
     "output_type": "execute_result"
    }
   ],
   "source": [
    "df[df['V200_4'].isin(opties)].V174.value_counts()"
   ]
  },
  {
   "cell_type": "code",
   "execution_count": 142,
   "metadata": {},
   "outputs": [
    {
     "data": {
      "text/plain": "263.0"
     },
     "execution_count": 142,
     "metadata": {},
     "output_type": "execute_result"
    }
   ],
   "source": [
    "df[df['V200_4'].isin(opties)].scv_gewicht_herschaald14.sum().round()"
   ]
  },
  {
   "cell_type": "code",
   "execution_count": 143,
   "metadata": {},
   "outputs": [
    {
     "data": {
      "text/plain": "57.0"
     },
     "execution_count": 143,
     "metadata": {},
     "output_type": "execute_result"
    }
   ],
   "source": [
    "df[(df['V200_4'].isin(opties)) & (df.V174 == 1.0)].scv_gewicht_herschaald14.sum().round()"
   ]
  },
  {
   "cell_type": "code",
   "execution_count": 144,
   "metadata": {},
   "outputs": [
    {
     "data": {
      "text/plain": "57.0"
     },
     "execution_count": 144,
     "metadata": {},
     "output_type": "execute_result"
    }
   ],
   "source": [
    "df[(df['V200_4'].isin(opties)) & (df.V174 == 4.0)].scv_gewicht_herschaald14.sum().round()"
   ]
  },
  {
   "cell_type": "code",
   "execution_count": 145,
   "metadata": {},
   "outputs": [
    {
     "data": {
      "text/plain": "36.0"
     },
     "execution_count": 145,
     "metadata": {},
     "output_type": "execute_result"
    }
   ],
   "source": [
    "df[(df['V200_4'].isin(opties)) & (df.V174 == 5.0)].scv_gewicht_herschaald14.sum().round()"
   ]
  },
  {
   "cell_type": "code",
   "execution_count": 146,
   "metadata": {},
   "outputs": [
    {
     "data": {
      "text/plain": "5.0"
     },
     "execution_count": 146,
     "metadata": {},
     "output_type": "execute_result"
    }
   ],
   "source": [
    "df[(df['V200_4'].isin(opties)) & (df.V174 == 7.0)].scv_gewicht_herschaald14.sum().round()"
   ]
  },
  {
   "cell_type": "code",
   "execution_count": 193,
   "metadata": {},
   "outputs": [
    {
     "data": {
      "text/plain": "29.0"
     },
     "execution_count": 193,
     "metadata": {},
     "output_type": "execute_result"
    }
   ],
   "source": [
    "df[(df['V200_4'].isin(opties)) & (df.V174 == 2.0)].scv_gewicht_herschaald14.sum().round()"
   ]
  },
  {
   "cell_type": "code",
   "execution_count": 194,
   "metadata": {},
   "outputs": [
    {
     "data": {
      "text/plain": "21.0"
     },
     "execution_count": 194,
     "metadata": {},
     "output_type": "execute_result"
    }
   ],
   "source": [
    "df[(df['V200_4'].isin(opties)) & (df.V174 == 6.0)].scv_gewicht_herschaald14.sum().round()"
   ]
  },
  {
   "cell_type": "code",
   "execution_count": 195,
   "metadata": {},
   "outputs": [
    {
     "data": {
      "text/plain": "8.0"
     },
     "execution_count": 195,
     "metadata": {},
     "output_type": "execute_result"
    }
   ],
   "source": [
    "df[(df['V200_4'].isin(opties)) & (df.V174 == 8.0)].scv_gewicht_herschaald14.sum().round()"
   ]
  },
  {
   "cell_type": "code",
   "execution_count": 79,
   "metadata": {},
   "outputs": [
    {
     "data": {
      "text/plain": "1.0     39\n4.0     28\n5.0     18\n2.0     11\n6.0     10\n77.0     7\n9.0      6\n88.0     5\n8.0      2\n11.0     2\n18.0     1\n10.0     1\n3.0      1\n12.0     1\nName: V174, dtype: int64"
     },
     "execution_count": 79,
     "metadata": {},
     "output_type": "execute_result"
    }
   ],
   "source": [
    "df[df['V200_5'].isin(opties)].V174.value_counts()"
   ]
  },
  {
   "cell_type": "code",
   "execution_count": 147,
   "metadata": {},
   "outputs": [
    {
     "data": {
      "text/plain": "120.0"
     },
     "execution_count": 147,
     "metadata": {},
     "output_type": "execute_result"
    }
   ],
   "source": [
    "df[df['V200_5'].isin(opties)].scv_gewicht_herschaald14.sum().round()"
   ]
  },
  {
   "cell_type": "code",
   "execution_count": 148,
   "metadata": {},
   "outputs": [
    {
     "data": {
      "text/plain": "36.0"
     },
     "execution_count": 148,
     "metadata": {},
     "output_type": "execute_result"
    }
   ],
   "source": [
    "df[(df['V200_5'].isin(opties)) & (df.V174 == 1.0)].scv_gewicht_herschaald14.sum().round()"
   ]
  },
  {
   "cell_type": "code",
   "execution_count": 149,
   "metadata": {},
   "outputs": [
    {
     "data": {
      "text/plain": "25.0"
     },
     "execution_count": 149,
     "metadata": {},
     "output_type": "execute_result"
    }
   ],
   "source": [
    "df[(df['V200_5'].isin(opties)) & (df.V174 == 4.0)].scv_gewicht_herschaald14.sum().round()"
   ]
  },
  {
   "cell_type": "code",
   "execution_count": 150,
   "metadata": {},
   "outputs": [
    {
     "data": {
      "text/plain": "15.0"
     },
     "execution_count": 150,
     "metadata": {},
     "output_type": "execute_result"
    }
   ],
   "source": [
    "df[(df['V200_5'].isin(opties)) & (df.V174 == 5.0)].scv_gewicht_herschaald14.sum().round()"
   ]
  },
  {
   "cell_type": "code",
   "execution_count": 151,
   "metadata": {},
   "outputs": [
    {
     "data": {
      "text/plain": "0.0"
     },
     "execution_count": 151,
     "metadata": {},
     "output_type": "execute_result"
    }
   ],
   "source": [
    "df[(df['V200_5'].isin(opties)) & (df.V174 == 7.0)].scv_gewicht_herschaald14.sum().round()"
   ]
  },
  {
   "cell_type": "code",
   "execution_count": 196,
   "metadata": {},
   "outputs": [
    {
     "data": {
      "text/plain": "8.0"
     },
     "execution_count": 196,
     "metadata": {},
     "output_type": "execute_result"
    }
   ],
   "source": [
    "df[(df['V200_5'].isin(opties)) & (df.V174 == 2.0)].scv_gewicht_herschaald14.sum().round()"
   ]
  },
  {
   "cell_type": "code",
   "execution_count": 197,
   "metadata": {},
   "outputs": [
    {
     "data": {
      "text/plain": "10.0"
     },
     "execution_count": 197,
     "metadata": {},
     "output_type": "execute_result"
    }
   ],
   "source": [
    "df[(df['V200_5'].isin(opties)) & (df.V174 == 6.0)].scv_gewicht_herschaald14.sum().round()"
   ]
  },
  {
   "cell_type": "code",
   "execution_count": 198,
   "metadata": {},
   "outputs": [
    {
     "data": {
      "text/plain": "3.0"
     },
     "execution_count": 198,
     "metadata": {},
     "output_type": "execute_result"
    }
   ],
   "source": [
    "df[(df['V200_5'].isin(opties)) & (df.V174 == 8.0)].scv_gewicht_herschaald14.sum().round()"
   ]
  },
  {
   "cell_type": "code",
   "execution_count": 80,
   "metadata": {},
   "outputs": [
    {
     "data": {
      "text/plain": "4.0     319\n1.0     302\n5.0     183\n6.0     158\n2.0     154\n77.0    100\n7.0      59\n88.0     54\n10.0     50\n11.0     36\n8.0      35\n9.0      25\n3.0       6\n18.0      4\n14.0      3\n12.0      2\n20.0      1\n17.0      1\nName: V174, dtype: int64"
     },
     "execution_count": 80,
     "metadata": {},
     "output_type": "execute_result"
    }
   ],
   "source": [
    "df[(df['V197_1'].isin(opties)) | (df['V197_2'].isin(opties)) | (df['V197_3'].isin(opties)) | (df['V197_4'].isin(opties)) | (df['V197_5'].isin(opties)) | (df['V197_6'].isin(opties)) | (df['V197_7'].isin(opties)) | (df['V197_8'].isin(opties)) | (df['V197_9'].isin(opties)) | (df['V198'].isin(opties)) | (df['V200_1'].isin(opties)) | (df['V200_3'].isin(opties)) | (df['V200_4'].isin(opties)) | (df['V200_5'].isin(opties))].V174.value_counts()"
   ]
  },
  {
   "cell_type": "code",
   "execution_count": 81,
   "metadata": {},
   "outputs": [
    {
     "data": {
      "text/plain": "1.0    1425\n2.0      90\nName: V4, dtype: int64"
     },
     "execution_count": 81,
     "metadata": {},
     "output_type": "execute_result"
    }
   ],
   "source": [
    "df.V4.value_counts()"
   ]
  },
  {
   "cell_type": "code",
   "execution_count": 152,
   "metadata": {},
   "outputs": [
    {
     "data": {
      "text/plain": "1488.0"
     },
     "execution_count": 152,
     "metadata": {},
     "output_type": "execute_result"
    }
   ],
   "source": [
    "df[(df['V197_1'].isin(opties)) | (df['V197_2'].isin(opties)) | (df['V197_3'].isin(opties)) | (df['V197_4'].isin(opties)) | (df['V197_5'].isin(opties)) | (df['V197_6'].isin(opties)) | (df['V197_7'].isin(opties)) | (df['V197_8'].isin(opties)) | (df['V197_9'].isin(opties)) | (df['V198'].isin(opties)) | (df['V200_1'].isin(opties)) | (df['V200_3'].isin(opties)) | (df['V200_4'].isin(opties)) | (df['V200_5'].isin(opties))].scv_gewicht_herschaald14.sum().round()"
   ]
  },
  {
   "cell_type": "code",
   "execution_count": 153,
   "metadata": {},
   "outputs": [
    {
     "data": {
      "text/plain": "319.0"
     },
     "execution_count": 153,
     "metadata": {},
     "output_type": "execute_result"
    }
   ],
   "source": [
    "df[((df['V197_1'].isin(opties)) | (df['V197_2'].isin(opties)) | (df['V197_3'].isin(opties)) | (df['V197_4'].isin(opties)) | (df['V197_5'].isin(opties)) | (df['V197_6'].isin(opties)) | (df['V197_7'].isin(opties)) | (df['V197_8'].isin(opties)) | (df['V197_9'].isin(opties)) | (df['V198'].isin(opties)) | (df['V200_1'].isin(opties)) | (df['V200_3'].isin(opties)) | (df['V200_4'].isin(opties)) | (df['V200_5'].isin(opties))) & (df.V174 == 4.0)].scv_gewicht_herschaald14.sum().round()"
   ]
  },
  {
   "cell_type": "code",
   "execution_count": 154,
   "metadata": {},
   "outputs": [
    {
     "data": {
      "text/plain": "298.0"
     },
     "execution_count": 154,
     "metadata": {},
     "output_type": "execute_result"
    }
   ],
   "source": [
    "df[((df['V197_1'].isin(opties)) | (df['V197_2'].isin(opties)) | (df['V197_3'].isin(opties)) | (df['V197_4'].isin(opties)) | (df['V197_5'].isin(opties)) | (df['V197_6'].isin(opties)) | (df['V197_7'].isin(opties)) | (df['V197_8'].isin(opties)) | (df['V197_9'].isin(opties)) | (df['V198'].isin(opties)) | (df['V200_1'].isin(opties)) | (df['V200_3'].isin(opties)) | (df['V200_4'].isin(opties)) | (df['V200_5'].isin(opties))) & (df.V174 == 1.0)].scv_gewicht_herschaald14.sum().round()"
   ]
  },
  {
   "cell_type": "code",
   "execution_count": 155,
   "metadata": {},
   "outputs": [
    {
     "data": {
      "text/plain": "175.0"
     },
     "execution_count": 155,
     "metadata": {},
     "output_type": "execute_result"
    }
   ],
   "source": [
    "df[((df['V197_1'].isin(opties)) | (df['V197_2'].isin(opties)) | (df['V197_3'].isin(opties)) | (df['V197_4'].isin(opties)) | (df['V197_5'].isin(opties)) | (df['V197_6'].isin(opties)) | (df['V197_7'].isin(opties)) | (df['V197_8'].isin(opties)) | (df['V197_9'].isin(opties)) | (df['V198'].isin(opties)) | (df['V200_1'].isin(opties)) | (df['V200_3'].isin(opties)) | (df['V200_4'].isin(opties)) | (df['V200_5'].isin(opties))) & (df.V174 == 5.0)].scv_gewicht_herschaald14.sum().round()"
   ]
  },
  {
   "cell_type": "code",
   "execution_count": 156,
   "metadata": {},
   "outputs": [
    {
     "data": {
      "text/plain": "65.0"
     },
     "execution_count": 156,
     "metadata": {},
     "output_type": "execute_result"
    }
   ],
   "source": [
    "df[((df['V197_1'].isin(opties)) | (df['V197_2'].isin(opties)) | (df['V197_3'].isin(opties)) | (df['V197_4'].isin(opties)) | (df['V197_5'].isin(opties)) | (df['V197_6'].isin(opties)) | (df['V197_7'].isin(opties)) | (df['V197_8'].isin(opties)) | (df['V197_9'].isin(opties)) | (df['V198'].isin(opties)) | (df['V200_1'].isin(opties)) | (df['V200_3'].isin(opties)) | (df['V200_4'].isin(opties)) | (df['V200_5'].isin(opties))) & (df.V174 == 7.0)].scv_gewicht_herschaald14.sum().round()"
   ]
  },
  {
   "cell_type": "code",
   "execution_count": 199,
   "metadata": {},
   "outputs": [
    {
     "data": {
      "text/plain": "136.0"
     },
     "execution_count": 199,
     "metadata": {},
     "output_type": "execute_result"
    }
   ],
   "source": [
    "df[((df['V197_1'].isin(opties)) | (df['V197_2'].isin(opties)) | (df['V197_3'].isin(opties)) | (df['V197_4'].isin(opties)) | (df['V197_5'].isin(opties)) | (df['V197_6'].isin(opties)) | (df['V197_7'].isin(opties)) | (df['V197_8'].isin(opties)) | (df['V197_9'].isin(opties)) | (df['V198'].isin(opties)) | (df['V200_1'].isin(opties)) | (df['V200_3'].isin(opties)) | (df['V200_4'].isin(opties)) | (df['V200_5'].isin(opties))) & (df.V174 == 2.0)].scv_gewicht_herschaald14.sum().round()"
   ]
  },
  {
   "cell_type": "code",
   "execution_count": 200,
   "metadata": {},
   "outputs": [
    {
     "data": {
      "text/plain": "165.0"
     },
     "execution_count": 200,
     "metadata": {},
     "output_type": "execute_result"
    }
   ],
   "source": [
    "df[((df['V197_1'].isin(opties)) | (df['V197_2'].isin(opties)) | (df['V197_3'].isin(opties)) | (df['V197_4'].isin(opties)) | (df['V197_5'].isin(opties)) | (df['V197_6'].isin(opties)) | (df['V197_7'].isin(opties)) | (df['V197_8'].isin(opties)) | (df['V197_9'].isin(opties)) | (df['V198'].isin(opties)) | (df['V200_1'].isin(opties)) | (df['V200_3'].isin(opties)) | (df['V200_4'].isin(opties)) | (df['V200_5'].isin(opties))) & (df.V174 == 6.0)].scv_gewicht_herschaald14.sum().round()"
   ]
  },
  {
   "cell_type": "code",
   "execution_count": 201,
   "metadata": {},
   "outputs": [
    {
     "data": {
      "text/plain": "36.0"
     },
     "execution_count": 201,
     "metadata": {},
     "output_type": "execute_result"
    }
   ],
   "source": [
    "df[((df['V197_1'].isin(opties)) | (df['V197_2'].isin(opties)) | (df['V197_3'].isin(opties)) | (df['V197_4'].isin(opties)) | (df['V197_5'].isin(opties)) | (df['V197_6'].isin(opties)) | (df['V197_7'].isin(opties)) | (df['V197_8'].isin(opties)) | (df['V197_9'].isin(opties)) | (df['V198'].isin(opties)) | (df['V200_1'].isin(opties)) | (df['V200_3'].isin(opties)) | (df['V200_4'].isin(opties)) | (df['V200_5'].isin(opties))) & (df.V174 == 8.0)].scv_gewicht_herschaald14.sum().round()"
   ]
  },
  {
   "cell_type": "code",
   "execution_count": null,
   "metadata": {},
   "outputs": [],
   "source": []
  }
 ]
}