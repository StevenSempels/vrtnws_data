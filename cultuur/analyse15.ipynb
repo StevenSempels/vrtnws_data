{
 "nbformat": 4,
 "nbformat_minor": 2,
 "metadata": {
  "language_info": {
   "name": "python",
   "codemirror_mode": {
    "name": "ipython",
    "version": 3
   }
  },
  "orig_nbformat": 2,
  "file_extension": ".py",
  "mimetype": "text/x-python",
  "name": "python",
  "npconvert_exporter": "python",
  "pygments_lexer": "ipython3",
  "version": 3
 },
 "cells": [
  {
   "cell_type": "code",
   "execution_count": 1,
   "metadata": {},
   "outputs": [],
   "source": [
    "import pandas as pd\n",
    "import pyreadstat\n",
    "\n",
    "df, meta = pyreadstat.read_sav('cult2015.sav')"
   ]
  },
  {
   "cell_type": "code",
   "execution_count": 2,
   "metadata": {},
   "outputs": [
    {
     "data": {
      "text/plain": "1486"
     },
     "execution_count": 2,
     "metadata": {},
     "output_type": "execute_result"
    }
   ],
   "source": [
    "len(df.index)"
   ]
  },
  {
   "cell_type": "code",
   "execution_count": 3,
   "metadata": {},
   "outputs": [
    {
     "data": {
      "text/plain": "['RESPNUM',\n 'INTNUM',\n 'VALID_DUURTIJD',\n 'INTTIME',\n 'STIME',\n 'T1',\n 'V1_1',\n 'V1_2',\n 'V2_1',\n 'V2_2',\n 'V3_2',\n 'V4',\n 'V5b',\n 'V6',\n 'V7b',\n 'V8',\n 'V9b',\n 'V10',\n 'T2',\n 'V11',\n 'V12',\n 'V13',\n 'V14',\n 'V15',\n 'V15_flag',\n 'V16',\n 'V16_flag',\n 'V17',\n 'V17_flag',\n 'V18',\n 'V18_flag',\n 'T3',\n 'V19',\n 'V21_1',\n 'V21_2',\n 'V22',\n 'T4',\n 'V23',\n 'V23_flag',\n 'V24',\n 'T5',\n 'V25',\n 'T6',\n 'V26',\n 'V26_flag',\n 'V27',\n 'V28',\n 'V29',\n 'V30',\n 'V31',\n 'V32',\n 'V33',\n 'V34',\n 'T8',\n 'V35',\n 'V35_flag',\n 'V36',\n 'T9',\n 'V37',\n 'V38',\n 'T10',\n 'V39',\n 'V39_flag',\n 'V40',\n 'T11',\n 'V41',\n 'V42',\n 'V43',\n 'V43_flag',\n 'V44',\n 'V46_1',\n 'V46_2',\n 'V47',\n 'V47_flag',\n 'T12',\n 'V48',\n 'V49',\n 'V49_flag',\n 'V50',\n 'V51',\n 'V52',\n 'T13',\n 'V53',\n 'V55_1',\n 'V56_1',\n 'V57_1',\n 'V57_1_flag',\n 'V55_2',\n 'V56_2',\n 'V57_2',\n 'V57_2_flag',\n 'V55_3',\n 'V56_3',\n 'V57_3',\n 'V57_3_flag',\n 'V55_4',\n 'V56_4',\n 'V57_4',\n 'V57_4_flag',\n 'V55_5',\n 'V56_5',\n 'V57_5',\n 'V57_5_flag',\n 'V55_6',\n 'V56_6',\n 'V57_6',\n 'V55_7',\n 'V56_7',\n 'V57_7',\n 'V57_7_flag',\n 'T14',\n 'V58',\n 'V59',\n 'T16',\n 'V60',\n 'T17',\n 'V61',\n 'V62_1',\n 'V62_2',\n 'V62_3',\n 'V62_4',\n 'V62_5',\n 'V62_6',\n 'V62_7a',\n 'T18',\n 'V63_1',\n 'V63_2',\n 'V63_3',\n 'V63_4',\n 'T19',\n 'V64_1',\n 'V64_2',\n 'V64_3',\n 'V64_4',\n 'V64_5',\n 'V64_6',\n 'V64_7',\n 'V64_8',\n 'T21',\n 'V65_1',\n 'V65_2',\n 'V65_3',\n 'V65_4',\n 'V65_5',\n 'V65_6',\n 'V65_7',\n 'T22',\n 'V66',\n 'V67',\n 'V68',\n 'T23',\n 'V69',\n 'V70_1',\n 'V70_1_flag',\n 'V70_2',\n 'V70WN',\n 'V70NUL',\n 'T24',\n 'V71',\n 'V72',\n 'V73',\n 'T25',\n 'V74_1',\n 'V74_2',\n 'V74_3',\n 'V74_4',\n 'V74_5',\n 'V74_6',\n 'V74_7',\n 'V74_8',\n 'V74_9',\n 'V74_10',\n 'V74_11',\n 'V74_12',\n 'V74_13',\n 'V74_14',\n 'V74_15',\n 'V74_16',\n 'V74_17',\n 'V74_18',\n 'V74_19',\n 'V74_20',\n 'V74_21',\n 'V74_22',\n 'V74_23',\n 'V74_24',\n 'V75',\n 'V76_1',\n 'V76_2',\n 'V76_3',\n 'V77_1',\n 'V77_2',\n 'V77_3',\n 'V78',\n 'T26',\n 'V79',\n 'V80',\n 'V81',\n 'T28',\n 'V82_1',\n 'V82_2',\n 'V82_3',\n 'V82_4',\n 'V82_5',\n 'V82_6',\n 'V82_7',\n 'V82_8',\n 'V82_9',\n 'V82_10',\n 'V82_11',\n 'V82_12',\n 'V82_13',\n 'V82_14',\n 'V82_15',\n 'V82_16',\n 'V82_17',\n 'V82_18',\n 'V82_19',\n 'V82_20',\n 'V82_21',\n 'V82_22',\n 'V82_23',\n 'V82_24',\n 'V82_25',\n 'V83_1',\n 'V83_2',\n 'V83_3',\n 'T30',\n 'V86',\n 'V87',\n 'V88_1',\n 'V88_2',\n 'V88_3',\n 'V88_4',\n 'V88_5',\n 'V88_6',\n 'T31',\n 'V90',\n 'V90_flag',\n 'V91',\n 'V93',\n 'V93_flag',\n 'V94',\n 'V95',\n 'V96_1',\n 'V96_2',\n 'V96_3',\n 'V96_4',\n 'V96_5',\n 'V96_6',\n 'V96_7',\n 'V96_8',\n 'V96_9',\n 'V96_10',\n 'V96_11',\n 'V96_12',\n 'V96_13',\n 'V96_14',\n 'V96_15',\n 'V97_1',\n 'V97_2',\n 'V97_3',\n 'V97_4',\n 'V97_5',\n 'V97_6',\n 'V97_7',\n 'V97_8',\n 'T32',\n 'V98',\n 'V100',\n 'V101',\n 'T33',\n 'T34',\n 'V103_1',\n 'V103_2',\n 'V103_3',\n 'V103_4',\n 'V103_5',\n 'V103_6',\n 'V103_7',\n 'V103_8',\n 'V103_9',\n 'V103_10',\n 'V103_11',\n 'V103_12',\n 'V103_13',\n 'V104_1',\n 'V104_2',\n 'V104_3',\n 'V104_4',\n 'V104_5',\n 'T35',\n 'V105_1',\n 'V105_2',\n 'V105_3',\n 'V105_4',\n 'V106',\n 'V107_1',\n 'V107_2',\n 'V107_3',\n 'V107_4',\n 'V107_5',\n 'V107_6',\n 'V107_7',\n 'V107_8',\n 'V107_9',\n 'V107_10',\n 'V107a_1',\n 'V107a_2',\n 'V107a_3',\n 'V107a_4',\n 'V107a_5',\n 'V107a_6',\n 'V107a_7',\n 'V107a_8',\n 'V107a_9',\n 'V107a_10',\n 'T37',\n 'V108',\n 'V109',\n 'V110_1',\n 'V110_2',\n 'V110_3',\n 'V110_4',\n 'V112',\n 'T38',\n 'V113',\n 'V114_1',\n 'V114_2',\n 'V114_3',\n 'V114_4',\n 'V114_5',\n 'V114_6',\n 'V114_7',\n 'V114_8',\n 'V114_9',\n 'V114_10',\n 'V115_1',\n 'V115_2',\n 'V115_3',\n 'V115_4',\n 'V116',\n 'T39',\n 'V118_1',\n 'V118_2',\n 'V118_3',\n 'V118_4',\n 'V118_5',\n 'V118_6',\n 'V118_7',\n 'V118_8',\n 'V118_9',\n 'V118_10',\n 'V118_11',\n 'V118_12',\n 'V118_13',\n 'V118_14',\n 'T62',\n 'V119_1',\n 'V119_2',\n 'V119_3',\n 'V119_4',\n 'T63',\n 'V120_1',\n 'V120_2',\n 'V120_3',\n 'V120_4',\n 'V120_5',\n 'V120_6',\n 'V120_7',\n 'V120_8',\n 'V120_9',\n 'T64',\n 'V121_1',\n 'V121_2',\n 'V121_3',\n 'V121_4',\n 'V121_5',\n 'V121_6',\n 'V121_7',\n 'V121_8',\n 'T40',\n 'V122',\n 'V123',\n 'V124',\n 'V125_1',\n 'V125_2',\n 'V125_3',\n 'V125_4',\n 'V125_5',\n 'V125_6',\n 'T42',\n 'SL126_1',\n 'SL126_2',\n 'SL126_3',\n 'SL126_4',\n 'SL126_5',\n 'SL126_6',\n 'SL126_7',\n 'SL126_8',\n 'SL126_9',\n 'SL126_10',\n 'SL126_11',\n 'SL126_12',\n 'SL126_13',\n 'SL126_14',\n 'SL126_15',\n 'SL126_16',\n 'SL126_17',\n 'SL126_18',\n 'V126_1',\n 'V126_2',\n 'V126_3',\n 'V126_4',\n 'V126_5',\n 'V126_6',\n 'V126_7',\n 'V126_8',\n 'V126_9',\n 'V126_10',\n 'V126_11',\n 'V126_12',\n 'V126_13',\n 'V126_14',\n 'V126_15',\n 'V126_16',\n 'V126_17',\n 'V126_18',\n 'T43',\n 'V127',\n 'V128',\n 'T44',\n 'V129_1',\n 'V129_2',\n 'V129_3',\n 'V129_4',\n 'V129_5',\n 'V129_6',\n 'V129_7',\n 'T45',\n 'V130_1',\n 'V130_2',\n 'V130_3',\n 'V130_4',\n 'V130_5',\n 'V130_6',\n 'V130_7',\n 'V130_8',\n 'V130_9',\n 'T46',\n 'V131_1',\n 'V131_2',\n 'V131_3',\n 'V131_4',\n 'V131_5',\n 'V131_6',\n 'V131_7',\n 'V131_8',\n 'V131_9',\n 'V131_10',\n 'V131_11',\n 'V131_12',\n 'V132',\n 'V133',\n 'V133_flag',\n 'T47',\n 'V134_1',\n 'V134_2',\n 'V135_1',\n 'V135_2',\n 'V136',\n 'V136_flag',\n 'V137',\n 'V138',\n 'V139',\n 'V140',\n 'T48',\n 'V141_1',\n 'V141_2',\n 'V141_3',\n 'V141_4',\n 'V142',\n 'V143',\n 'V144_1',\n 'V144_2',\n 'V144_3',\n 'V144_4',\n 'V144_5',\n 'V144_6',\n 'T49',\n 'SL145',\n 'SL145_1',\n 'SL145_2',\n 'SL145_3',\n 'SL145_4',\n 'SL145_5',\n 'SL145_6',\n 'SL145_7',\n 'SL145_8',\n 'SL145_9',\n 'SL145_10',\n 'SL145_11',\n 'SL145_12',\n 'SL145_13',\n 'SL145_14',\n 'SL145_15',\n 'SL145_16',\n 'SL145_17',\n 'SL145_18',\n 'SL145_19',\n 'V145_1',\n 'V145_2',\n 'V145_3',\n 'V145_4',\n 'V145_5',\n 'V145_6',\n 'V145_7',\n 'V145_8',\n 'V145_9',\n 'V145_10',\n 'V145_11',\n 'V145_12',\n 'V145_13',\n 'V145_14',\n 'V145_15',\n 'V145_16',\n 'V145_17',\n 'V145_18',\n 'V145_19',\n 'T50',\n 'V146_1',\n 'V146_2',\n 'V146_3',\n 'V146_4',\n 'V147_1',\n 'V147_2',\n 'V147_3',\n 'V147_4',\n 'V147_5',\n 'V147_6',\n 'V147_7',\n 'V147_8',\n 'V147_9',\n 'V147_10',\n 'V147_11',\n 'V147_12',\n 'V147_13',\n 'V147_14',\n 'V147_15',\n 'T51',\n 'V148_1',\n 'V148_2',\n 'V149',\n 'V150_1',\n 'V150_2',\n 'V151',\n 'V152_1',\n 'V152_2',\n 'V152_3',\n 'V152_4',\n 'V152_5',\n 'V152_6',\n 'V152_7',\n 'V152_8',\n 'V152_9',\n 'T53',\n 'V153',\n 'V154_1_code',\n 'V154_2_code',\n 'V154_3_code',\n 'V154_4_code',\n 'V154_5_code',\n 'V154_6_code',\n 'V155_1',\n 'V155_2',\n 'V155_3',\n 'V155_4',\n 'V155_5',\n 'V155_6',\n 'V156_1',\n 'V156_2',\n 'V156_3',\n 'V156_4',\n 'V156_5',\n 'V156_6',\n 'V156_7',\n 'V156_8',\n 'V156_9',\n 'V156_10',\n 'V156_11',\n 'V156_12',\n 'V156_13',\n 'V156_14',\n 'V156_15',\n 'V156_16',\n 'V156_17',\n 'V156_18',\n 'V156_19',\n 'V156_20',\n 'V156_21',\n 'V156_22',\n 'V156_23',\n 'V156_24',\n 'V156_25',\n 'V156_26',\n 'V156_27',\n 'V156_28',\n 'V156_29',\n 'V156_30',\n 'V156_31',\n 'V156_32',\n 'V156_33',\n 'V156_34',\n 'V156_35',\n 'V156_36',\n 'V156_37',\n 'V156_38',\n 'V156_39',\n 'V156_40',\n 'V156_41',\n 'V156_42',\n 'T54',\n 'V157_1',\n 'V157_2',\n 'V157_3',\n 'V157_4',\n 'V157_5',\n 'V157_6',\n 'V157_7',\n 'V157_8',\n 'V157_9',\n 'V157_10',\n 'V158',\n 'V159_1',\n 'V159_2',\n 'V159_3',\n 'V159_4',\n 'V159_5',\n 'V159_6',\n 'V159_7',\n 'V159_8',\n 'V159_9',\n 'V160_1',\n 'V160_2',\n 'V160_3',\n 'V160_4',\n 'V160_5',\n 'V161_1',\n 'V161_2',\n 'V161_3',\n 'V161_4',\n 'V161_5',\n 'V161_6',\n 'T55',\n 'V162',\n 'V163_1',\n 'V163_2',\n 'V163_3',\n 'V163_4',\n 'V163_5',\n 'V163_6',\n 'V163_7',\n 'V163_8',\n 'V163_9',\n 'V163_10',\n 'V163_11',\n 'T56',\n 'V164_1',\n 'V164_2',\n 'V164_3',\n 'V164_4',\n 'V164_5',\n 'V164_6',\n 'V164_7',\n 'V164_8',\n 'T57',\n 'V165',\n 'V166',\n 'V167',\n 'V168',\n 'T58',\n 'V169_1',\n 'V169_2',\n 'V169_3',\n 'V169_4',\n 'V169_5',\n 'V169_6',\n 'V169_7',\n 'V169_8',\n 'T59',\n 'EINDUUR',\n 'EINDMIN',\n 'T61',\n 'IR1',\n 'IR2_1',\n 'IR3_1',\n 'IR2_2',\n 'IR3_2',\n 'IR2_3',\n 'IR3_3',\n 'IR2_4',\n 'IR3_4',\n 'IR2_5',\n 'IR3_5',\n 'IR4',\n 'IR5',\n 'IR6',\n 'IR7',\n 'IR8',\n 'IR9a',\n 'IR10_1',\n 'IR10_2',\n 'IR10_3',\n 'IR11',\n 'REFCONV',\n 'lft',\n 'lft_7kl_rr',\n 'opleid15',\n 'opleid15N',\n 'opleid15_eak_oud',\n 'gezinstype',\n 'provincie',\n 'NUTS2',\n 'rsv',\n 'urbanisatie',\n 'regio',\n 'BS_RR',\n 'stratum',\n 'cluster',\n 'designgewicht15',\n 'nonresponsgewicht15',\n 'poststratificatiegewest15',\n 'poststratificatieEAK15',\n 'SCV_gewicht15',\n 'SCV_gewicht15_herschaald']"
     },
     "execution_count": 3,
     "metadata": {},
     "output_type": "execute_result"
    }
   ],
   "source": [
    "df.columns.tolist()"
   ]
  },
  {
   "cell_type": "code",
   "execution_count": 5,
   "metadata": {},
   "outputs": [],
   "source": [
    "geen = df[(df['V157_1'] == 1) & (df['V157_2'] == 1) & (df['V157_3'] == 1) & (df['V157_4'] == 1) & (df['V157_5'] == 1) & (df['V157_6'] == 1) & (df['V157_7'] == 1) & (df['V157_8'] == 1) & (df['V157_9'] == 1) & (df['V158'] == 1) & (df['V160_1'] == 1) & (df['V160_3'] == 1) & (df['V160_4'] == 1) & (df['V160_5'] == 1)]"
   ]
  },
  {
   "cell_type": "code",
   "execution_count": 6,
   "metadata": {},
   "outputs": [
    {
     "data": {
      "text/plain": "1457.0"
     },
     "execution_count": 6,
     "metadata": {},
     "output_type": "execute_result"
    }
   ],
   "source": [
    "len(df.index) - geen.SCV_gewicht15_herschaald.sum().round()"
   ]
  },
  {
   "cell_type": "code",
   "execution_count": 8,
   "metadata": {},
   "outputs": [],
   "source": [
    "none = [7, 8]"
   ]
  },
  {
   "cell_type": "code",
   "execution_count": 9,
   "metadata": {},
   "outputs": [
    {
     "data": {
      "text/html": "<div>\n<style scoped>\n    .dataframe tbody tr th:only-of-type {\n        vertical-align: middle;\n    }\n\n    .dataframe tbody tr th {\n        vertical-align: top;\n    }\n\n    .dataframe thead th {\n        text-align: right;\n    }\n</style>\n<table border=\"1\" class=\"dataframe\">\n  <thead>\n    <tr style=\"text-align: right;\">\n      <th></th>\n      <th>RESPNUM</th>\n      <th>INTNUM</th>\n      <th>VALID_DUURTIJD</th>\n      <th>INTTIME</th>\n      <th>STIME</th>\n      <th>T1</th>\n      <th>V1_1</th>\n      <th>V1_2</th>\n      <th>V2_1</th>\n      <th>V2_2</th>\n      <th>...</th>\n      <th>regio</th>\n      <th>BS_RR</th>\n      <th>stratum</th>\n      <th>cluster</th>\n      <th>designgewicht15</th>\n      <th>nonresponsgewicht15</th>\n      <th>poststratificatiegewest15</th>\n      <th>poststratificatieEAK15</th>\n      <th>SCV_gewicht15</th>\n      <th>SCV_gewicht15_herschaald</th>\n    </tr>\n  </thead>\n  <tbody>\n  </tbody>\n</table>\n<p>0 rows × 735 columns</p>\n</div>",
      "text/plain": "Empty DataFrame\nColumns: [RESPNUM, INTNUM, VALID_DUURTIJD, INTTIME, STIME, T1, V1_1, V1_2, V2_1, V2_2, V3_2, V4, V5b, V6, V7b, V8, V9b, V10, T2, V11, V12, V13, V14, V15, V15_flag, V16, V16_flag, V17, V17_flag, V18, V18_flag, T3, V19, V21_1, V21_2, V22, T4, V23, V23_flag, V24, T5, V25, T6, V26, V26_flag, V27, V28, V29, V30, V31, V32, V33, V34, T8, V35, V35_flag, V36, T9, V37, V38, T10, V39, V39_flag, V40, T11, V41, V42, V43, V43_flag, V44, V46_1, V46_2, V47, V47_flag, T12, V48, V49, V49_flag, V50, V51, V52, T13, V53, V55_1, V56_1, V57_1, V57_1_flag, V55_2, V56_2, V57_2, V57_2_flag, V55_3, V56_3, V57_3, V57_3_flag, V55_4, V56_4, V57_4, V57_4_flag, V55_5, ...]\nIndex: []\n\n[0 rows x 735 columns]"
     },
     "execution_count": 9,
     "metadata": {},
     "output_type": "execute_result"
    }
   ],
   "source": [
    "df[(df['V157_1'].isin(none)) & (df['V157_2'].isin(none)) & (df['V157_3'].isin(none)) & (df['V157_4'].isin(none)) & (df['V157_5'].isin(none)) & (df['V157_6'].isin(none)) & (df['V157_7'].isin(none)) & (df['V157_8'].isin(none)) & (df['V157_9'].isin(none)) & (df['V158'].isin(none)) & (df['V160_1'].isin(none)) & (df['V160_3'].isin(none)) & (df['V160_4'].isin(none)) & (df['V160_5'].isin(none))]"
   ]
  },
  {
   "cell_type": "code",
   "execution_count": 10,
   "metadata": {},
   "outputs": [],
   "source": [
    "opties = [2, 3, 4]"
   ]
  },
  {
   "cell_type": "code",
   "execution_count": 11,
   "metadata": {},
   "outputs": [
    {
     "data": {
      "text/plain": "196.0"
     },
     "execution_count": 11,
     "metadata": {},
     "output_type": "execute_result"
    }
   ],
   "source": [
    "df[((df.V6 == 2) | (df.V8 == 2)) & (df.V157_1 == 1)].SCV_gewicht15_herschaald.sum().round()"
   ]
  },
  {
   "cell_type": "code",
   "execution_count": 14,
   "metadata": {},
   "outputs": [
    {
     "data": {
      "text/plain": "20.0"
     },
     "execution_count": 14,
     "metadata": {},
     "output_type": "execute_result"
    }
   ],
   "source": [
    "df[((df.V6 == 2) | (df.V8 == 2)) & df.V157_1.isin(opties)].SCV_gewicht15_herschaald.sum().round()"
   ]
  },
  {
   "cell_type": "code",
   "execution_count": 15,
   "metadata": {},
   "outputs": [
    {
     "data": {
      "text/plain": "1186.0"
     },
     "execution_count": 15,
     "metadata": {},
     "output_type": "execute_result"
    }
   ],
   "source": [
    "df[((df.V6 == 1) & (df.V8 == 1)) & (df.V157_1 == 1)].SCV_gewicht15_herschaald.sum().round()"
   ]
  },
  {
   "cell_type": "code",
   "execution_count": 16,
   "metadata": {},
   "outputs": [
    {
     "data": {
      "text/plain": "80.0"
     },
     "execution_count": 16,
     "metadata": {},
     "output_type": "execute_result"
    }
   ],
   "source": [
    "df[((df.V6 == 1) & (df.V8 == 1)) & df.V157_1.isin(opties)].SCV_gewicht15_herschaald.sum().round()"
   ]
  },
  {
   "cell_type": "code",
   "execution_count": 17,
   "metadata": {},
   "outputs": [
    {
     "data": {
      "text/plain": "200.0"
     },
     "execution_count": 17,
     "metadata": {},
     "output_type": "execute_result"
    }
   ],
   "source": [
    "df[((df.V6 == 2) | (df.V8 == 2)) & (df.V157_2 == 1)].SCV_gewicht15_herschaald.sum().round()"
   ]
  },
  {
   "cell_type": "code",
   "execution_count": 18,
   "metadata": {},
   "outputs": [
    {
     "data": {
      "text/plain": "16.0"
     },
     "execution_count": 18,
     "metadata": {},
     "output_type": "execute_result"
    }
   ],
   "source": [
    "df[((df.V6 == 2) | (df.V8 == 2)) & df.V157_2.isin(opties)].SCV_gewicht15_herschaald.sum().round()"
   ]
  },
  {
   "cell_type": "code",
   "execution_count": 19,
   "metadata": {},
   "outputs": [
    {
     "data": {
      "text/plain": "1127.0"
     },
     "execution_count": 19,
     "metadata": {},
     "output_type": "execute_result"
    }
   ],
   "source": [
    "df[((df.V6 == 1) & (df.V8 == 1)) & (df.V157_2 == 1)].SCV_gewicht15_herschaald.sum().round()"
   ]
  },
  {
   "cell_type": "code",
   "execution_count": 20,
   "metadata": {},
   "outputs": [
    {
     "data": {
      "text/plain": "139.0"
     },
     "execution_count": 20,
     "metadata": {},
     "output_type": "execute_result"
    }
   ],
   "source": [
    "df[((df.V6 == 1) & (df.V8 == 1)) & df.V157_2.isin(opties)].SCV_gewicht15_herschaald.sum().round()"
   ]
  },
  {
   "cell_type": "code",
   "execution_count": 21,
   "metadata": {},
   "outputs": [
    {
     "data": {
      "text/plain": "204.0"
     },
     "execution_count": 21,
     "metadata": {},
     "output_type": "execute_result"
    }
   ],
   "source": [
    "df[((df.V6 == 2) | (df.V8 == 2)) & (df.V157_3 == 1)].SCV_gewicht15_herschaald.sum().round()"
   ]
  },
  {
   "cell_type": "code",
   "execution_count": 22,
   "metadata": {},
   "outputs": [
    {
     "data": {
      "text/plain": "12.0"
     },
     "execution_count": 22,
     "metadata": {},
     "output_type": "execute_result"
    }
   ],
   "source": [
    "df[((df.V6 == 2) | (df.V8 == 2)) & df.V157_3.isin(opties)].SCV_gewicht15_herschaald.sum().round()"
   ]
  },
  {
   "cell_type": "code",
   "execution_count": 23,
   "metadata": {},
   "outputs": [
    {
     "data": {
      "text/plain": "1057.0"
     },
     "execution_count": 23,
     "metadata": {},
     "output_type": "execute_result"
    }
   ],
   "source": [
    "df[((df.V6 == 1) & (df.V8 == 1)) & (df.V157_3 == 1)].SCV_gewicht15_herschaald.sum().round()"
   ]
  },
  {
   "cell_type": "code",
   "execution_count": 24,
   "metadata": {},
   "outputs": [
    {
     "data": {
      "text/plain": "209.0"
     },
     "execution_count": 24,
     "metadata": {},
     "output_type": "execute_result"
    }
   ],
   "source": [
    "df[((df.V6 == 1) & (df.V8 == 1)) & df.V157_3.isin(opties)].SCV_gewicht15_herschaald.sum().round()"
   ]
  },
  {
   "cell_type": "code",
   "execution_count": 25,
   "metadata": {},
   "outputs": [
    {
     "data": {
      "text/plain": "172.0"
     },
     "execution_count": 25,
     "metadata": {},
     "output_type": "execute_result"
    }
   ],
   "source": [
    "df[((df.V6 == 2) | (df.V8 == 2)) & (df.V157_4 == 1)].SCV_gewicht15_herschaald.sum().round()"
   ]
  },
  {
   "cell_type": "code",
   "execution_count": 26,
   "metadata": {},
   "outputs": [
    {
     "data": {
      "text/plain": "44.0"
     },
     "execution_count": 26,
     "metadata": {},
     "output_type": "execute_result"
    }
   ],
   "source": [
    "df[((df.V6 == 2) | (df.V8 == 2)) & df.V157_4.isin(opties)].SCV_gewicht15_herschaald.sum().round()"
   ]
  },
  {
   "cell_type": "code",
   "execution_count": 27,
   "metadata": {},
   "outputs": [
    {
     "data": {
      "text/plain": "939.0"
     },
     "execution_count": 27,
     "metadata": {},
     "output_type": "execute_result"
    }
   ],
   "source": [
    "df[((df.V6 == 1) & (df.V8 == 1)) & (df.V157_4 == 1)].SCV_gewicht15_herschaald.sum().round()"
   ]
  },
  {
   "cell_type": "code",
   "execution_count": 28,
   "metadata": {},
   "outputs": [
    {
     "data": {
      "text/plain": "327.0"
     },
     "execution_count": 28,
     "metadata": {},
     "output_type": "execute_result"
    }
   ],
   "source": [
    "df[((df.V6 == 1) & (df.V8 == 1)) & df.V157_4.isin(opties)].SCV_gewicht15_herschaald.sum().round()"
   ]
  },
  {
   "cell_type": "code",
   "execution_count": 29,
   "metadata": {},
   "outputs": [
    {
     "data": {
      "text/plain": "188.0"
     },
     "execution_count": 29,
     "metadata": {},
     "output_type": "execute_result"
    }
   ],
   "source": [
    "df[((df.V6 == 2) | (df.V8 == 2)) & (df.V157_5 == 1)].SCV_gewicht15_herschaald.sum().round()"
   ]
  },
  {
   "cell_type": "code",
   "execution_count": 30,
   "metadata": {},
   "outputs": [
    {
     "data": {
      "text/plain": "28.0"
     },
     "execution_count": 30,
     "metadata": {},
     "output_type": "execute_result"
    }
   ],
   "source": [
    "df[((df.V6 == 2) | (df.V8 == 2)) & df.V157_5.isin(opties)].SCV_gewicht15_herschaald.sum().round()"
   ]
  },
  {
   "cell_type": "code",
   "execution_count": 31,
   "metadata": {},
   "outputs": [
    {
     "data": {
      "text/plain": "849.0"
     },
     "execution_count": 31,
     "metadata": {},
     "output_type": "execute_result"
    }
   ],
   "source": [
    "df[((df.V6 == 1) & (df.V8 == 1)) & (df.V157_5 == 1)].SCV_gewicht15_herschaald.sum().round()"
   ]
  },
  {
   "cell_type": "code",
   "execution_count": 32,
   "metadata": {},
   "outputs": [
    {
     "data": {
      "text/plain": "417.0"
     },
     "execution_count": 32,
     "metadata": {},
     "output_type": "execute_result"
    }
   ],
   "source": [
    "df[((df.V6 == 1) & (df.V8 == 1)) & df.V157_5.isin(opties)].SCV_gewicht15_herschaald.sum().round()"
   ]
  },
  {
   "cell_type": "code",
   "execution_count": 33,
   "metadata": {},
   "outputs": [
    {
     "data": {
      "text/plain": "195.0"
     },
     "execution_count": 33,
     "metadata": {},
     "output_type": "execute_result"
    }
   ],
   "source": [
    "df[((df.V6 == 2) | (df.V8 == 2)) & (df.V157_6 == 1)].SCV_gewicht15_herschaald.sum().round()"
   ]
  },
  {
   "cell_type": "code",
   "execution_count": 34,
   "metadata": {},
   "outputs": [
    {
     "data": {
      "text/plain": "20.0"
     },
     "execution_count": 34,
     "metadata": {},
     "output_type": "execute_result"
    }
   ],
   "source": [
    "df[((df.V6 == 2) | (df.V8 == 2)) & df.V157_6.isin(opties)].SCV_gewicht15_herschaald.sum().round()"
   ]
  },
  {
   "cell_type": "code",
   "execution_count": 35,
   "metadata": {},
   "outputs": [
    {
     "data": {
      "text/plain": "1174.0"
     },
     "execution_count": 35,
     "metadata": {},
     "output_type": "execute_result"
    }
   ],
   "source": [
    "df[((df.V6 == 1) & (df.V8 == 1)) & (df.V157_6 == 1)].SCV_gewicht15_herschaald.sum().round()"
   ]
  },
  {
   "cell_type": "code",
   "execution_count": 36,
   "metadata": {},
   "outputs": [
    {
     "data": {
      "text/plain": "92.0"
     },
     "execution_count": 36,
     "metadata": {},
     "output_type": "execute_result"
    }
   ],
   "source": [
    "df[((df.V6 == 1) & (df.V8 == 1)) & df.V157_6.isin(opties)].SCV_gewicht15_herschaald.sum().round()"
   ]
  },
  {
   "cell_type": "code",
   "execution_count": 37,
   "metadata": {},
   "outputs": [
    {
     "data": {
      "text/plain": "189.0"
     },
     "execution_count": 37,
     "metadata": {},
     "output_type": "execute_result"
    }
   ],
   "source": [
    "df[((df.V6 == 2) | (df.V8 == 2)) & (df.V157_7 == 1)].SCV_gewicht15_herschaald.sum().round()"
   ]
  },
  {
   "cell_type": "code",
   "execution_count": 38,
   "metadata": {},
   "outputs": [
    {
     "data": {
      "text/plain": "27.0"
     },
     "execution_count": 38,
     "metadata": {},
     "output_type": "execute_result"
    }
   ],
   "source": [
    "df[((df.V6 == 2) | (df.V8 == 2)) & df.V157_7.isin(opties)].SCV_gewicht15_herschaald.sum().round()"
   ]
  },
  {
   "cell_type": "code",
   "execution_count": 39,
   "metadata": {},
   "outputs": [
    {
     "data": {
      "text/plain": "1090.0"
     },
     "execution_count": 39,
     "metadata": {},
     "output_type": "execute_result"
    }
   ],
   "source": [
    "df[((df.V6 == 1) & (df.V8 == 1)) & (df.V157_7 == 1)].SCV_gewicht15_herschaald.sum().round()"
   ]
  },
  {
   "cell_type": "code",
   "execution_count": 40,
   "metadata": {},
   "outputs": [
    {
     "data": {
      "text/plain": "176.0"
     },
     "execution_count": 40,
     "metadata": {},
     "output_type": "execute_result"
    }
   ],
   "source": [
    "df[((df.V6 == 1) & (df.V8 == 1)) & df.V157_7.isin(opties)].SCV_gewicht15_herschaald.sum().round()"
   ]
  },
  {
   "cell_type": "code",
   "execution_count": 41,
   "metadata": {},
   "outputs": [
    {
     "data": {
      "text/plain": "188.0"
     },
     "execution_count": 41,
     "metadata": {},
     "output_type": "execute_result"
    }
   ],
   "source": [
    "df[((df.V6 == 2) | (df.V8 == 2)) & (df.V157_8 == 1)].SCV_gewicht15_herschaald.sum().round()"
   ]
  },
  {
   "cell_type": "code",
   "execution_count": 42,
   "metadata": {},
   "outputs": [
    {
     "data": {
      "text/plain": "28.0"
     },
     "execution_count": 42,
     "metadata": {},
     "output_type": "execute_result"
    }
   ],
   "source": [
    "df[((df.V6 == 2) | (df.V8 == 2)) & df.V157_8.isin(opties)].SCV_gewicht15_herschaald.sum().round()"
   ]
  },
  {
   "cell_type": "code",
   "execution_count": 43,
   "metadata": {},
   "outputs": [
    {
     "data": {
      "text/plain": "1010.0"
     },
     "execution_count": 43,
     "metadata": {},
     "output_type": "execute_result"
    }
   ],
   "source": [
    "df[((df.V6 == 1) & (df.V8 == 1)) & (df.V157_8 == 1)].SCV_gewicht15_herschaald.sum().round()"
   ]
  },
  {
   "cell_type": "code",
   "execution_count": 44,
   "metadata": {},
   "outputs": [
    {
     "data": {
      "text/plain": "255.0"
     },
     "execution_count": 44,
     "metadata": {},
     "output_type": "execute_result"
    }
   ],
   "source": [
    "df[((df.V6 == 1) & (df.V8 == 1)) & df.V157_8.isin(opties)].SCV_gewicht15_herschaald.sum().round()"
   ]
  },
  {
   "cell_type": "code",
   "execution_count": 45,
   "metadata": {},
   "outputs": [
    {
     "data": {
      "text/plain": "95.0"
     },
     "execution_count": 45,
     "metadata": {},
     "output_type": "execute_result"
    }
   ],
   "source": [
    "df[((df.V6 == 2) | (df.V8 == 2)) & (df.V157_9 == 1)].SCV_gewicht15_herschaald.sum().round()"
   ]
  },
  {
   "cell_type": "code",
   "execution_count": 46,
   "metadata": {},
   "outputs": [
    {
     "data": {
      "text/plain": "121.0"
     },
     "execution_count": 46,
     "metadata": {},
     "output_type": "execute_result"
    }
   ],
   "source": [
    "df[((df.V6 == 2) | (df.V8 == 2)) & df.V157_9.isin(opties)].SCV_gewicht15_herschaald.sum().round()"
   ]
  },
  {
   "cell_type": "code",
   "execution_count": 47,
   "metadata": {},
   "outputs": [
    {
     "data": {
      "text/plain": "584.0"
     },
     "execution_count": 47,
     "metadata": {},
     "output_type": "execute_result"
    }
   ],
   "source": [
    "df[((df.V6 == 1) & (df.V8 == 1)) & (df.V157_9 == 1)].SCV_gewicht15_herschaald.sum().round()"
   ]
  },
  {
   "cell_type": "code",
   "execution_count": 48,
   "metadata": {},
   "outputs": [
    {
     "data": {
      "text/plain": "682.0"
     },
     "execution_count": 48,
     "metadata": {},
     "output_type": "execute_result"
    }
   ],
   "source": [
    "df[((df.V6 == 1) & (df.V8 == 1)) & df.V157_9.isin(opties)].SCV_gewicht15_herschaald.sum().round()"
   ]
  },
  {
   "cell_type": "code",
   "execution_count": 49,
   "metadata": {},
   "outputs": [
    {
     "data": {
      "text/plain": "69.0"
     },
     "execution_count": 49,
     "metadata": {},
     "output_type": "execute_result"
    }
   ],
   "source": [
    "df[((df.V6 == 2) | (df.V8 == 2)) & (df.V158 == 1)].SCV_gewicht15_herschaald.sum().round()"
   ]
  },
  {
   "cell_type": "code",
   "execution_count": 50,
   "metadata": {},
   "outputs": [
    {
     "data": {
      "text/plain": "147.0"
     },
     "execution_count": 50,
     "metadata": {},
     "output_type": "execute_result"
    }
   ],
   "source": [
    "df[((df.V6 == 2) | (df.V8 == 2)) & df.V158.isin(opties)].SCV_gewicht15_herschaald.sum().round()"
   ]
  },
  {
   "cell_type": "code",
   "execution_count": 51,
   "metadata": {},
   "outputs": [
    {
     "data": {
      "text/plain": "488.0"
     },
     "execution_count": 51,
     "metadata": {},
     "output_type": "execute_result"
    }
   ],
   "source": [
    "df[((df.V6 == 1) & (df.V8 == 1)) & (df.V158 == 1)].SCV_gewicht15_herschaald.sum().round()"
   ]
  },
  {
   "cell_type": "code",
   "execution_count": 52,
   "metadata": {},
   "outputs": [
    {
     "data": {
      "text/plain": "778.0"
     },
     "execution_count": 52,
     "metadata": {},
     "output_type": "execute_result"
    }
   ],
   "source": [
    "df[((df.V6 == 1) & (df.V8 == 1)) & df.V158.isin(opties)].SCV_gewicht15_herschaald.sum().round()"
   ]
  },
  {
   "cell_type": "code",
   "execution_count": 53,
   "metadata": {},
   "outputs": [
    {
     "data": {
      "text/plain": "150.0"
     },
     "execution_count": 53,
     "metadata": {},
     "output_type": "execute_result"
    }
   ],
   "source": [
    "df[((df.V6 == 2) | (df.V8 == 2)) & (df.V160_1 == 1)].SCV_gewicht15_herschaald.sum().round()"
   ]
  },
  {
   "cell_type": "code",
   "execution_count": 54,
   "metadata": {},
   "outputs": [
    {
     "data": {
      "text/plain": "66.0"
     },
     "execution_count": 54,
     "metadata": {},
     "output_type": "execute_result"
    }
   ],
   "source": [
    "df[((df.V6 == 2) | (df.V8 == 2)) & df.V160_1.isin(opties)].SCV_gewicht15_herschaald.sum().round()"
   ]
  },
  {
   "cell_type": "code",
   "execution_count": 55,
   "metadata": {},
   "outputs": [
    {
     "data": {
      "text/plain": "744.0"
     },
     "execution_count": 55,
     "metadata": {},
     "output_type": "execute_result"
    }
   ],
   "source": [
    "df[((df.V6 == 1) & (df.V8 == 1)) & (df.V160_1 == 1)].SCV_gewicht15_herschaald.sum().round()"
   ]
  },
  {
   "cell_type": "code",
   "execution_count": 56,
   "metadata": {},
   "outputs": [
    {
     "data": {
      "text/plain": "522.0"
     },
     "execution_count": 56,
     "metadata": {},
     "output_type": "execute_result"
    }
   ],
   "source": [
    "df[((df.V6 == 1) & (df.V8 == 1)) & df.V160_1.isin(opties)].SCV_gewicht15_herschaald.sum().round()"
   ]
  },
  {
   "cell_type": "code",
   "execution_count": 57,
   "metadata": {},
   "outputs": [
    {
     "data": {
      "text/plain": "116.0"
     },
     "execution_count": 57,
     "metadata": {},
     "output_type": "execute_result"
    }
   ],
   "source": [
    "df[((df.V6 == 2) | (df.V8 == 2)) & (df.V160_3 == 1)].SCV_gewicht15_herschaald.sum().round()"
   ]
  },
  {
   "cell_type": "code",
   "execution_count": 58,
   "metadata": {},
   "outputs": [
    {
     "data": {
      "text/plain": "98.0"
     },
     "execution_count": 58,
     "metadata": {},
     "output_type": "execute_result"
    }
   ],
   "source": [
    "df[((df.V6 == 2) | (df.V8 == 2)) & df.V160_3.isin(opties)].SCV_gewicht15_herschaald.sum().round()"
   ]
  },
  {
   "cell_type": "code",
   "execution_count": 59,
   "metadata": {},
   "outputs": [
    {
     "data": {
      "text/plain": "613.0"
     },
     "execution_count": 59,
     "metadata": {},
     "output_type": "execute_result"
    }
   ],
   "source": [
    "df[((df.V6 == 1) & (df.V8 == 1)) & (df.V160_3 == 1)].SCV_gewicht15_herschaald.sum().round()"
   ]
  },
  {
   "cell_type": "code",
   "execution_count": 60,
   "metadata": {},
   "outputs": [
    {
     "data": {
      "text/plain": "653.0"
     },
     "execution_count": 60,
     "metadata": {},
     "output_type": "execute_result"
    }
   ],
   "source": [
    "df[((df.V6 == 1) & (df.V8 == 1)) & df.V160_3.isin(opties)].SCV_gewicht15_herschaald.sum().round()"
   ]
  },
  {
   "cell_type": "code",
   "execution_count": 61,
   "metadata": {},
   "outputs": [
    {
     "data": {
      "text/plain": "182.0"
     },
     "execution_count": 61,
     "metadata": {},
     "output_type": "execute_result"
    }
   ],
   "source": [
    "df[((df.V6 == 2) | (df.V8 == 2)) & (df.V160_4 == 1)].SCV_gewicht15_herschaald.sum().round()"
   ]
  },
  {
   "cell_type": "code",
   "execution_count": 62,
   "metadata": {},
   "outputs": [
    {
     "data": {
      "text/plain": "34.0"
     },
     "execution_count": 62,
     "metadata": {},
     "output_type": "execute_result"
    }
   ],
   "source": [
    "df[((df.V6 == 2) | (df.V8 == 2)) & df.V160_4.isin(opties)].SCV_gewicht15_herschaald.sum().round()"
   ]
  },
  {
   "cell_type": "code",
   "execution_count": 63,
   "metadata": {},
   "outputs": [
    {
     "data": {
      "text/plain": "999.0"
     },
     "execution_count": 63,
     "metadata": {},
     "output_type": "execute_result"
    }
   ],
   "source": [
    "df[((df.V6 == 1) & (df.V8 == 1)) & (df.V160_4 == 1)].SCV_gewicht15_herschaald.sum().round()"
   ]
  },
  {
   "cell_type": "code",
   "execution_count": 64,
   "metadata": {},
   "outputs": [
    {
     "data": {
      "text/plain": "267.0"
     },
     "execution_count": 64,
     "metadata": {},
     "output_type": "execute_result"
    }
   ],
   "source": [
    "df[((df.V6 == 1) & (df.V8 == 1)) & df.V160_4.isin(opties)].SCV_gewicht15_herschaald.sum().round()"
   ]
  },
  {
   "cell_type": "code",
   "execution_count": 65,
   "metadata": {},
   "outputs": [
    {
     "data": {
      "text/plain": "199.0"
     },
     "execution_count": 65,
     "metadata": {},
     "output_type": "execute_result"
    }
   ],
   "source": [
    "df[((df.V6 == 2) | (df.V8 == 2)) & (df.V160_5 == 1)].SCV_gewicht15_herschaald.sum().round()"
   ]
  },
  {
   "cell_type": "code",
   "execution_count": 66,
   "metadata": {},
   "outputs": [
    {
     "data": {
      "text/plain": "17.0"
     },
     "execution_count": 66,
     "metadata": {},
     "output_type": "execute_result"
    }
   ],
   "source": [
    "df[((df.V6 == 2) | (df.V8 == 2)) & df.V160_5.isin(opties)].SCV_gewicht15_herschaald.sum().round()"
   ]
  },
  {
   "cell_type": "code",
   "execution_count": 67,
   "metadata": {},
   "outputs": [
    {
     "data": {
      "text/plain": "1103.0"
     },
     "execution_count": 67,
     "metadata": {},
     "output_type": "execute_result"
    }
   ],
   "source": [
    "df[((df.V6 == 1) & (df.V8 == 1)) & (df.V160_5 == 1)].SCV_gewicht15_herschaald.sum().round()"
   ]
  },
  {
   "cell_type": "code",
   "execution_count": 68,
   "metadata": {},
   "outputs": [
    {
     "data": {
      "text/plain": "163.0"
     },
     "execution_count": 68,
     "metadata": {},
     "output_type": "execute_result"
    }
   ],
   "source": [
    "df[((df.V6 == 1) & (df.V8 == 1)) & df.V160_5.isin(opties)].SCV_gewicht15_herschaald.sum().round()"
   ]
  },
  {
   "cell_type": "code",
   "execution_count": 69,
   "metadata": {},
   "outputs": [
    {
     "data": {
      "text/html": "<div>\n<style scoped>\n    .dataframe tbody tr th:only-of-type {\n        vertical-align: middle;\n    }\n\n    .dataframe tbody tr th {\n        vertical-align: top;\n    }\n\n    .dataframe thead th {\n        text-align: right;\n    }\n</style>\n<table border=\"1\" class=\"dataframe\">\n  <thead>\n    <tr style=\"text-align: right;\">\n      <th></th>\n      <th>RESPNUM</th>\n      <th>INTNUM</th>\n      <th>VALID_DUURTIJD</th>\n      <th>INTTIME</th>\n      <th>STIME</th>\n      <th>T1</th>\n      <th>V1_1</th>\n      <th>V1_2</th>\n      <th>V2_1</th>\n      <th>V2_2</th>\n      <th>...</th>\n      <th>regio</th>\n      <th>BS_RR</th>\n      <th>stratum</th>\n      <th>cluster</th>\n      <th>designgewicht15</th>\n      <th>nonresponsgewicht15</th>\n      <th>poststratificatiegewest15</th>\n      <th>poststratificatieEAK15</th>\n      <th>SCV_gewicht15</th>\n      <th>SCV_gewicht15_herschaald</th>\n    </tr>\n  </thead>\n  <tbody>\n  </tbody>\n</table>\n<p>0 rows × 735 columns</p>\n</div>",
      "text/plain": "Empty DataFrame\nColumns: [RESPNUM, INTNUM, VALID_DUURTIJD, INTTIME, STIME, T1, V1_1, V1_2, V2_1, V2_2, V3_2, V4, V5b, V6, V7b, V8, V9b, V10, T2, V11, V12, V13, V14, V15, V15_flag, V16, V16_flag, V17, V17_flag, V18, V18_flag, T3, V19, V21_1, V21_2, V22, T4, V23, V23_flag, V24, T5, V25, T6, V26, V26_flag, V27, V28, V29, V30, V31, V32, V33, V34, T8, V35, V35_flag, V36, T9, V37, V38, T10, V39, V39_flag, V40, T11, V41, V42, V43, V43_flag, V44, V46_1, V46_2, V47, V47_flag, T12, V48, V49, V49_flag, V50, V51, V52, T13, V53, V55_1, V56_1, V57_1, V57_1_flag, V55_2, V56_2, V57_2, V57_2_flag, V55_3, V56_3, V57_3, V57_3_flag, V55_4, V56_4, V57_4, V57_4_flag, V55_5, ...]\nIndex: []\n\n[0 rows x 735 columns]"
     },
     "execution_count": 69,
     "metadata": {},
     "output_type": "execute_result"
    }
   ],
   "source": [
    "df[((df.V6 == 1) & (df.V8 == 1)) & (df.V4 != 1)]"
   ]
  },
  {
   "cell_type": "code",
   "execution_count": 70,
   "metadata": {},
   "outputs": [
    {
     "data": {
      "text/plain": "3.0     26\n2.0     23\n4.0     22\n1.0     16\n6.0      9\n9.0      5\n5.0      2\n77.0     2\n10.0     1\n8.0      1\n88.0     1\n7.0      1\n13.0     1\nName: V133, dtype: int64"
     },
     "execution_count": 70,
     "metadata": {},
     "output_type": "execute_result"
    }
   ],
   "source": [
    "df[df['V157_1'].isin(opties)].V133.value_counts()"
   ]
  },
  {
   "cell_type": "code",
   "execution_count": 71,
   "metadata": {},
   "outputs": [
    {
     "data": {
      "text/plain": "3.0     40\n2.0     38\n1.0     25\n6.0     25\n4.0     22\n77.0     7\n9.0      6\n5.0      4\n7.0      3\n10.0     2\n88.0     1\nName: V133, dtype: int64"
     },
     "execution_count": 71,
     "metadata": {},
     "output_type": "execute_result"
    }
   ],
   "source": [
    "df[df['V157_2'].isin(opties)].V133.value_counts()"
   ]
  },
  {
   "cell_type": "code",
   "execution_count": 72,
   "metadata": {},
   "outputs": [
    {
     "data": {
      "text/plain": "3.0     67\n2.0     46\n1.0     42\n4.0     30\n6.0     22\n77.0     7\n7.0      5\n5.0      4\n9.0      4\n88.0     4\n10.0     2\n8.0      1\n13.0     1\nName: V133, dtype: int64"
     },
     "execution_count": 72,
     "metadata": {},
     "output_type": "execute_result"
    }
   ],
   "source": [
    "df[df['V157_3'].isin(opties)].V133.value_counts()"
   ]
  },
  {
   "cell_type": "code",
   "execution_count": 73,
   "metadata": {},
   "outputs": [
    {
     "data": {
      "text/plain": "3.0     99\n2.0     88\n1.0     57\n4.0     54\n6.0     36\n77.0    15\n5.0     12\n9.0      9\n88.0     9\n10.0     7\n7.0      6\n8.0      5\n12.0     2\n18.0     1\n13.0     1\n17.0     1\nName: V133, dtype: int64"
     },
     "execution_count": 73,
     "metadata": {},
     "output_type": "execute_result"
    }
   ],
   "source": [
    "df[df['V157_4'].isin(opties)].V133.value_counts()"
   ]
  },
  {
   "cell_type": "code",
   "execution_count": 74,
   "metadata": {},
   "outputs": [
    {
     "data": {
      "text/plain": "3.0     115\n1.0     103\n2.0      83\n4.0      63\n6.0      37\n77.0     18\n9.0      13\n7.0      10\n88.0      8\n5.0       6\n8.0       4\n10.0      4\n13.0      1\n17.0      1\nName: V133, dtype: int64"
     },
     "execution_count": 74,
     "metadata": {},
     "output_type": "execute_result"
    }
   ],
   "source": [
    "df[df['V157_5'].isin(opties)].V133.value_counts()"
   ]
  },
  {
   "cell_type": "code",
   "execution_count": 76,
   "metadata": {},
   "outputs": [
    {
     "data": {
      "text/plain": "2.0     22\n4.0     19\n3.0     18\n1.0     18\n6.0     16\n9.0      5\n10.0     4\n88.0     4\n7.0      3\n77.0     3\n8.0      2\n5.0      1\nName: V133, dtype: int64"
     },
     "execution_count": 76,
     "metadata": {},
     "output_type": "execute_result"
    }
   ],
   "source": [
    "df[df['V157_6'].isin(opties)].V133.value_counts()"
   ]
  },
  {
   "cell_type": "code",
   "execution_count": 77,
   "metadata": {},
   "outputs": [
    {
     "data": {
      "text/plain": "3.0     55\n1.0     51\n2.0     32\n4.0     28\n6.0     22\n77.0     7\n8.0      5\n9.0      4\n7.0      4\n5.0      4\n88.0     3\n12.0     1\n10.0     1\nName: V133, dtype: int64"
     },
     "execution_count": 77,
     "metadata": {},
     "output_type": "execute_result"
    }
   ],
   "source": [
    "df[df['V157_7'].isin(opties)].V133.value_counts()"
   ]
  },
  {
   "cell_type": "code",
   "execution_count": 78,
   "metadata": {},
   "outputs": [
    {
     "data": {
      "text/plain": "3.0     94\n2.0     57\n1.0     42\n4.0     39\n6.0     26\n77.0    17\n9.0      7\n7.0      6\n88.0     6\n10.0     4\n5.0      4\n8.0      3\nName: V133, dtype: int64"
     },
     "execution_count": 78,
     "metadata": {},
     "output_type": "execute_result"
    }
   ],
   "source": [
    "df[df['V157_8'].isin(opties)].V133.value_counts()"
   ]
  },
  {
   "cell_type": "code",
   "execution_count": 79,
   "metadata": {},
   "outputs": [
    {
     "data": {
      "text/plain": "3.0     218\n1.0     135\n2.0     128\n4.0     116\n6.0      87\n77.0     42\n7.0      26\n9.0      25\n5.0      18\n88.0     18\n10.0     14\n8.0       6\n18.0      2\n12.0      1\n13.0      1\n17.0      1\nName: V133, dtype: int64"
     },
     "execution_count": 79,
     "metadata": {},
     "output_type": "execute_result"
    }
   ],
   "source": [
    "df[df['V157_9'].isin(opties)].V133.value_counts()"
   ]
  },
  {
   "cell_type": "code",
   "execution_count": 80,
   "metadata": {},
   "outputs": [
    {
     "data": {
      "text/plain": "3.0     230\n1.0     202\n4.0     102\n6.0      96\n2.0      58\n77.0     48\n9.0      47\n88.0     30\n7.0      29\n10.0     27\n5.0      18\n8.0      10\n12.0      1\n13.0      1\n18.0      1\nName: V133, dtype: int64"
     },
     "execution_count": 80,
     "metadata": {},
     "output_type": "execute_result"
    }
   ],
   "source": [
    "df[df['V158'].isin(opties)].V133.value_counts()"
   ]
  },
  {
   "cell_type": "code",
   "execution_count": 81,
   "metadata": {},
   "outputs": [
    {
     "data": {
      "text/plain": "3.0     156\n2.0     112\n1.0     100\n4.0      99\n6.0      58\n77.0     29\n88.0     16\n9.0      14\n7.0      13\n5.0      11\n10.0     10\n8.0       6\n12.0      2\n18.0      1\n13.0      1\n17.0      1\nName: V133, dtype: int64"
     },
     "execution_count": 81,
     "metadata": {},
     "output_type": "execute_result"
    }
   ],
   "source": [
    "df[df['V160_1'].isin(opties)].V133.value_counts()"
   ]
  },
  {
   "cell_type": "code",
   "execution_count": 83,
   "metadata": {},
   "outputs": [
    {
     "data": {
      "text/plain": "3.0     202\n1.0     144\n4.0     125\n2.0     124\n6.0      71\n77.0     36\n9.0      24\n88.0     20\n7.0      16\n5.0      15\n10.0     10\n8.0       8\n12.0      2\n18.0      1\n13.0      1\n17.0      1\nName: V133, dtype: int64"
     },
     "execution_count": 83,
     "metadata": {},
     "output_type": "execute_result"
    }
   ],
   "source": [
    "df[df['V160_3'].isin(opties)].V133.value_counts()"
   ]
  },
  {
   "cell_type": "code",
   "execution_count": 84,
   "metadata": {},
   "outputs": [
    {
     "data": {
      "text/plain": "3.0     91\n1.0     58\n4.0     50\n2.0     49\n6.0     23\n77.0    15\n9.0      8\n88.0     7\n5.0      6\n7.0      5\n8.0      4\n10.0     3\n12.0     2\n13.0     1\nName: V133, dtype: int64"
     },
     "execution_count": 84,
     "metadata": {},
     "output_type": "execute_result"
    }
   ],
   "source": [
    "df[df['V160_4'].isin(opties)].V133.value_counts()"
   ]
  },
  {
   "cell_type": "code",
   "execution_count": 85,
   "metadata": {},
   "outputs": [
    {
     "data": {
      "text/plain": "3.0     49\n1.0     42\n4.0     28\n2.0     26\n6.0     15\n77.0     8\n7.0      5\n88.0     5\n9.0      4\n5.0      3\n8.0      3\n12.0     1\n10.0     1\nName: V133, dtype: int64"
     },
     "execution_count": 85,
     "metadata": {},
     "output_type": "execute_result"
    }
   ],
   "source": [
    "df[df['V160_5'].isin(opties)].V133.value_counts()"
   ]
  },
  {
   "cell_type": "code",
   "execution_count": 86,
   "metadata": {},
   "outputs": [
    {
     "data": {
      "text/plain": "3.0     352\n1.0     289\n4.0     184\n2.0     173\n6.0     151\n77.0     74\n9.0      65\n7.0      45\n88.0     40\n10.0     34\n5.0      31\n8.0      13\n12.0      3\n13.0      2\n18.0      2\n17.0      1\nName: V133, dtype: int64"
     },
     "execution_count": 86,
     "metadata": {},
     "output_type": "execute_result"
    }
   ],
   "source": [
    "df[(df['V157_1'].isin(opties)) | (df['V157_2'].isin(opties)) | (df['V157_3'].isin(opties)) | (df['V157_4'].isin(opties)) | (df['V157_5'].isin(opties)) | (df['V157_6'].isin(opties)) | (df['V157_7'].isin(opties)) | (df['V157_8'].isin(opties)) | (df['V157_9'].isin(opties)) | (df['V158'].isin(opties)) | (df['V160_1'].isin(opties)) | (df['V160_3'].isin(opties)) | (df['V160_4'].isin(opties)) | (df['V160_5'].isin(opties))].V133.value_counts()"
   ]
  },
  {
   "cell_type": "code",
   "execution_count": null,
   "metadata": {},
   "outputs": [],
   "source": []
  }
 ]
}