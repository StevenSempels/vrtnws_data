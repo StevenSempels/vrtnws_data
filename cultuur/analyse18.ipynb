{
 "nbformat": 4,
 "nbformat_minor": 2,
 "metadata": {
  "language_info": {
   "name": "python",
   "codemirror_mode": {
    "name": "ipython",
    "version": 3
   }
  },
  "orig_nbformat": 2,
  "file_extension": ".py",
  "mimetype": "text/x-python",
  "name": "python",
  "npconvert_exporter": "python",
  "pygments_lexer": "ipython3",
  "version": 3
 },
 "cells": [
  {
   "cell_type": "code",
   "execution_count": 1,
   "metadata": {},
   "outputs": [],
   "source": [
    "import pandas as pd\n",
    "import pyreadstat\n",
    "\n",
    "df, meta = pyreadstat.read_sav('cult2018.sav')"
   ]
  },
  {
   "cell_type": "code",
   "execution_count": 2,
   "metadata": {},
   "outputs": [
    {
     "data": {
      "text/plain": "1316"
     },
     "execution_count": 2,
     "metadata": {},
     "output_type": "execute_result"
    }
   ],
   "source": [
    "len(df.index)"
   ]
  },
  {
   "cell_type": "code",
   "execution_count": 3,
   "metadata": {},
   "outputs": [
    {
     "data": {
      "text/plain": "['RESPNUM',\n 'DUURTIJD',\n 'intnum',\n 'INTTIME',\n 'STIME',\n 'T1',\n 'T2',\n 'V1_1',\n 'V1_2',\n 'V2_1',\n 'V2_2',\n 'T3',\n 'V3_2',\n 'V3_2_flag',\n 'V4',\n 'V4_flag',\n 'V5b',\n 'V6',\n 'V7b',\n 'V8',\n 'V9b',\n 'V10',\n 'V11b',\n 'V12',\n 'v12_flag',\n 'T4',\n 'V13',\n 'v13_flag',\n 'V14',\n 'V15',\n 'V16',\n 'v16_flag',\n 'V17',\n 'v17_flag',\n 'T5',\n 'V18',\n 'V19_1',\n 'V19_2',\n 'V20',\n 'V21_1',\n 'V21_2',\n 'V21_3',\n 'V21_4',\n 'V21_5',\n 'V21_6',\n 'V21_7',\n 'V21_8',\n 'V21_9',\n 'V21_10',\n 'V21_11',\n 'V21_12',\n 'V21_13',\n 'T6',\n 'V22',\n 'v22_flag',\n 'V22CH',\n 'V23',\n 'T7',\n 'V24',\n 'T8',\n 'V25',\n 'v25_flag',\n 'V26',\n 'V27',\n 'V28',\n 'V29',\n 'V30',\n 'V31',\n 'CH31',\n 'V32',\n 'v32_flag',\n 'V33',\n 'T9',\n 'V34',\n 'v34_flag',\n 'V35',\n 'T10',\n 'V36',\n 'V37',\n 'T11',\n 'V38',\n 'v38_flag',\n 'V39',\n 'T12',\n 'V40',\n 'V41',\n 'V42',\n 'V43_1',\n 'V43_2',\n 'V44',\n 'v44_flag',\n 'CH39_44',\n 'T13',\n 'V45',\n 'V46',\n 'V47',\n 'V48',\n 'V49',\n 'V50',\n 'V51',\n 'T14',\n 'V52',\n 'V53',\n 'V54',\n 'V55',\n 'V56',\n 'T15',\n 'V57',\n 'V59_1',\n 'V59_2',\n 'V59_3',\n 'V59_4',\n 'V59_5',\n 'V59_6',\n 'V59_7',\n 'V59_8',\n 'V59_9',\n 'V59_10',\n 'V60_1',\n 'V60_2',\n 'V60_3',\n 'V60_4',\n 'V60_5',\n 'V60_6',\n 'V60_7',\n 'V60_8',\n 'V60_9',\n 'V60_10',\n 'V61_1',\n 'v61_1_flag',\n 'V61_2',\n 'v61_2_flag',\n 'V61_3',\n 'v61_3_flag',\n 'V61_4',\n 'v61_4_flag',\n 'V61_5',\n 'v61_5_flag',\n 'V61_6',\n 'v61_6_flag',\n 'V61_7',\n 'V61_8',\n 'V61_9',\n 'V61_10',\n 'T16',\n 'V62',\n 'T17',\n 'V63',\n 'T18',\n 'V64',\n 'T19',\n 'V65',\n 'V66_1',\n 'V66_2',\n 'V66_3',\n 'V66_4',\n 'V66_5',\n 'V66_6',\n 'V66_7',\n 'V67',\n 'v67_flag',\n 'V68',\n 'V69',\n 'T20',\n 'V70_1',\n 'V70_2',\n 'V70_3',\n 'V70_4',\n 'V70_5',\n 'V70_6',\n 'V70_7',\n 'V70_8',\n 'T21',\n 'V71_1',\n 'V71_2',\n 'V71_3',\n 'V71_4',\n 'V71_5',\n 'V71_6',\n 'V71_7',\n 'T22',\n 'V72',\n 'V73',\n 'V74',\n 'T23',\n 'V75',\n 'V76_1',\n 'V76_2',\n 'V76WN',\n 'V76NUL',\n 'T24',\n 'V77',\n 'V78',\n 'V79',\n 'T25',\n 'V80_1',\n 'V80_2',\n 'V80_3',\n 'V80_4',\n 'V80_5',\n 'V80_6',\n 'V80_7',\n 'V80_8',\n 'V80_9',\n 'V80_10',\n 'V80_11',\n 'V80_12',\n 'V80_13',\n 'V80_14',\n 'V80_15',\n 'V80_16',\n 'V80_17',\n 'V80_18',\n 'V80_19',\n 'V80_20',\n 'V80_21',\n 'V80_22',\n 'V80_23',\n 'V80_24',\n 'V81',\n 'v82_1a',\n 'v82_2a',\n 'v82_3a',\n 'V83_1',\n 'V83_2',\n 'V83_3',\n 'T26',\n 'V84',\n 'T27',\n 'V85',\n 'V86',\n 'V87',\n 'T28',\n 'V88',\n 'V89_1',\n 'V89_2',\n 'V89_3',\n 'V89_4',\n 'V89_5',\n 'V89_6',\n 'V89_7',\n 'V89_8',\n 'V89_9',\n 'V89_10',\n 'T29',\n 'V90_1',\n 'V90_2',\n 'V90_3',\n 'V90_4',\n 'V90_5',\n 'V90_6',\n 'V90_7',\n 'V90_8',\n 'V90_9',\n 'V90_10',\n 'V90_11',\n 'V90_12',\n 'V90_13',\n 'V90_14',\n 'SL90_1',\n 'SL90_2',\n 'SL90_3',\n 'SL90_4',\n 'SL90_5',\n 'SL90_6',\n 'SL90_7',\n 'SL90_8',\n 'SL90_9',\n 'SL90_10',\n 'SL90_11',\n 'SL90_12',\n 'SL90_13',\n 'SL90_14',\n 'T30',\n 'V91_1',\n 'V91_2',\n 'V91_3',\n 'V91_4',\n 'V91_5',\n 'V91_6',\n 'V91_7',\n 'V91_8',\n 'V91_9',\n 'V91_10',\n 'V91_11',\n 'V91_12',\n 'V91_13',\n 'V91_14',\n 'V91_15',\n 'T31',\n 'V92',\n 'V93',\n 'V94',\n 'V95',\n 'T32',\n 'V96_1',\n 'V96_2',\n 'V96_3',\n 'V96_4',\n 'V96_5',\n 'T33',\n 'V97_1',\n 'V97_2',\n 'V97_3',\n 'V97_4',\n 'V97_5',\n 'V97_6',\n 'V97_7',\n 'V97_8',\n 'V97_9',\n 'T34',\n 'V98',\n 'V99_1',\n 'V99_2',\n 'V99_3',\n 'V99_4',\n 'V99_5',\n 'V100_1',\n 'V100_2',\n 'T35',\n 'V101',\n 'V102_1',\n 'V102_2',\n 'V102_3',\n 'V102_4',\n 'V102_5',\n 'V102_6',\n 'V102_7',\n 'V102_8',\n 'V103',\n 'V104',\n 'T36',\n 'V105_1',\n 'V105_2',\n 'V105_3',\n 'V105_4',\n 'V105_5',\n 'V105_6',\n 'V105_7',\n 'V105_8',\n 'V105_9',\n 'V105_10',\n 'V105_11',\n 'V105_12',\n 'V105_13',\n 'V105_14',\n 'T37',\n 'V106',\n 'V107',\n 'V108',\n 'V109_1',\n 'V109_2',\n 'V109_3',\n 'V109_4',\n 'V109_5',\n 'V109_6',\n 'T38',\n 'V110',\n 'T39',\n 'T40',\n 'V111_1',\n 'V111_2',\n 'V111_3',\n 'V111_4',\n 'V111_5',\n 'V111_6',\n 'V111_7',\n 'V111_8',\n 'V111_9',\n 'T41',\n 'V112_1',\n 'V112_2',\n 'V112_3',\n 'V112_4',\n 'V112_5',\n 'V112_6',\n 'V112_7',\n 'V112_8',\n 'V112_9',\n 'V112_10',\n 'V112_11',\n 'V112_12',\n 'V113',\n 'V114',\n 'v114_flag',\n 'T42',\n 'V115',\n 'V116',\n 'V117',\n 'V118',\n 'V119',\n 'T43',\n 'V120_1',\n 'V120_2',\n 'V120_3',\n 'V120_4',\n 'V120_5',\n 'T44',\n 'V121',\n 'V122',\n 'V123_1',\n 'V123_2',\n 'V123_3',\n 'V123_4',\n 'V123_5',\n 'V123_6',\n 'T45',\n 'V124_1',\n 'V124_2',\n 'V124_3',\n 'V124_4',\n 'V124_5',\n 'V124_6',\n 'V124_7',\n 'V124_8',\n 'V124_9',\n 'V124_10',\n 'V124_11',\n 'V124_12',\n 'V124_13',\n 'V124_14',\n 'V124_15',\n 'V124_16',\n 'V124_17',\n 'V124_18',\n 'V124_19',\n 'V124_20',\n 'V124_21',\n 'V124_22',\n 'V124_23',\n 'V124_24',\n 'SL124_1',\n 'SL124_2',\n 'SL124_3',\n 'SL124_4',\n 'SL124_5',\n 'SL124_6',\n 'SL124_7',\n 'SL124_8',\n 'SL124_9',\n 'SL124_10',\n 'SL124_11',\n 'SL124_12',\n 'SL124_13',\n 'SL124_14',\n 'SL124_15',\n 'SL124_16',\n 'SL124_17',\n 'SL124_18',\n 'SL124_19',\n 'SL124_20',\n 'SL124_21',\n 'SL124_22',\n 'SL124_23',\n 'SL124_24',\n 'T46',\n 'V125_1',\n 'V125_2',\n 'V125_3',\n 'V125_4',\n 'T47',\n 'V126_1',\n 'V126_2',\n 'V126_3',\n 'V126_4',\n 'V126_5',\n 'V126_6',\n 'V126_7',\n 'V126_8',\n 'V126_9',\n 'V126_10',\n 'V126_11',\n 'V126_12',\n 'V126_13',\n 'V126_14',\n 'V126_15',\n 'T48',\n 'V127_1',\n 'V127_2',\n 'V128',\n 'V129_1',\n 'V129_2',\n 'V130',\n 'V131_1',\n 'V131_2',\n 'V131_3',\n 'V131_4',\n 'V131_5',\n 'V131_6',\n 'V131_7',\n 'V131_8',\n 'V131_9',\n 'T49',\n 'V132',\n 'v133_1a',\n 'v133_2a',\n 'v133_3a',\n 'v133_4a',\n 'v133_5a',\n 'v133_6a',\n 'V134_1',\n 'V134_2',\n 'V134_3',\n 'V134_4',\n 'V134_5',\n 'V134_6',\n 'V135_1',\n 'V135_2',\n 'V135_3',\n 'V135_4',\n 'V135_5',\n 'V135_6',\n 'V135_7',\n 'V135_8',\n 'V135_9',\n 'V135_10',\n 'V135_11',\n 'V135_12',\n 'V135_13',\n 'V135_14',\n 'V135_15',\n 'V135_16',\n 'V135_17',\n 'V135_18',\n 'V135_19',\n 'V135_20',\n 'V135_21',\n 'V135_22',\n 'V135_23',\n 'V135_24',\n 'V135_25',\n 'V135_26',\n 'V135_27',\n 'V135_28',\n 'V135_29',\n 'V135_30',\n 'V135_31',\n 'V135_32',\n 'V135_33',\n 'V135_34',\n 'V135_35',\n 'V135_36',\n 'V135_37',\n 'V135_38',\n 'V135_39',\n 'V135_40',\n 'V135_41',\n 'V135_42',\n 'T50',\n 'V136_1',\n 'V136_2',\n 'V136_3',\n 'V136_4',\n 'V136_5',\n 'V136_6',\n 'V136_7',\n 'V136_8',\n 'V136_9',\n 'V136_10',\n 'V137',\n 'V138_1',\n 'V138_2',\n 'V138_3',\n 'V138_4',\n 'V138_5',\n 'V138_6',\n 'V138_7',\n 'V138_8',\n 'V138_9',\n 'V139_1',\n 'V139_2',\n 'V139_3',\n 'V139_4',\n 'V139_5',\n 'V140_1',\n 'V140_2',\n 'V140_3',\n 'V140_4',\n 'V140_5',\n 'V140_6',\n 'T51',\n 'V141',\n 'T52',\n 'V142_1',\n 'V142_2',\n 'V142_3',\n 'V142_4',\n 'V142_5',\n 'V142_6',\n 'V142_7',\n 'V142_8',\n 'V142_9',\n 'V142_10',\n 'V142_11',\n 'T53',\n 'V143_1',\n 'V143_2',\n 'V143_3',\n 'V143_4',\n 'V143_5',\n 'V143_6',\n 'V143_7',\n 'V143_8',\n 'V144',\n 'V145',\n 'V146',\n 'V147',\n 'T54',\n 'V149_1',\n 'V149_2',\n 'V149_3',\n 'V149_4',\n 'V149_5',\n 'V149_6',\n 'V149_7',\n 'V149_8',\n 'T55',\n 'EINDUUR',\n 'EINDMIN',\n 'V500',\n 'T56',\n 'IR1',\n 'IR2_1',\n 'IR2_2',\n 'IR2_3',\n 'IR2_4',\n 'IR2_5',\n 'IR3_1',\n 'IR3_2',\n 'IR3_3',\n 'IR3_4',\n 'IR3_5',\n 'IR4',\n 'IR5',\n 'IR6',\n 'IR7',\n 'IR8',\n 'IR9A',\n 'IR9B_1',\n 'IR9B_2',\n 'IR9B_3',\n 'IR9C',\n 'v61_1rc',\n 'v61_2rc',\n 'v61_3rc',\n 'v61_4rc',\n 'v61_5rc',\n 'v61_6rc',\n 'v61_7rc',\n 'v61_8rc',\n 'v61_9rc',\n 'v61_10rc',\n 'tel_partner',\n 'tel_biokind',\n 'tel_anderkind',\n 'tel_ouders',\n 'tel_brzus',\n 'tel_anderfam',\n 'tel_nietfam',\n 'tel_garelatie',\n 'tel_grootouders',\n 'tel_medebewoners',\n 'tel_kleinkind',\n 'tel_schoonkind',\n 'gezintype',\n 'gezinstype',\n 'geenlo',\n 'secundair',\n 'lagersecundair',\n 'hogersecundair',\n 'nuho',\n 'univ',\n 'opleid18',\n 'opleid18N',\n 'opleid18_eak_oud',\n 'TIME_STA',\n 'df_INTNUM',\n 'df_DAT_AFG',\n 'DF1',\n 'DF2',\n 'DF3_1',\n 'DF3_2',\n 'DF3_3',\n 'DF4',\n 'DF5',\n 'DF6_1',\n 'DF6_2',\n 'DF7_1',\n 'DF7_2',\n 'DF7_3',\n 'DF7_4',\n 'DF7_5',\n 'DF8_1',\n 'DF8_2',\n 'DF8_3',\n 'DF8_4',\n 'DF8_5',\n 'DF8_6',\n 'DF8_7',\n 'DF9_1',\n 'DF9_2',\n 'DF9_3',\n 'DF9_4',\n 'DF9_5',\n 'DF9_6',\n 'DF9_7',\n 'DF9_8',\n 'DF9_9',\n 'DF9_10',\n 'DF10_1',\n 'DF10_1_1',\n 'DF10_1_2',\n 'DF10_1_3',\n 'DF10_1_4',\n 'DF10_1_5',\n 'DF10_1_6',\n 'DF10_1_7',\n 'DF10_1_8',\n 'DF10_1_9',\n 'DF10_1_10',\n 'DF10_1_11',\n 'DF10_1_12',\n 'DF10_1_13',\n 'DF10_1_14',\n 'DF10_2',\n 'DF10_3',\n 'DF10_4',\n 'DF10_4_1',\n 'DF10_4_2',\n 'DF10_4_3',\n 'DF10_4_4',\n 'DF10_4_5',\n 'DF10_4_6',\n 'DF10_4_7',\n 'DF10_4_8',\n 'DF10_4_9',\n 'DF10_4_10',\n 'DF10_4_11',\n 'DF10_4_12',\n 'DF10_4_13',\n 'DF10_4_14',\n 'DF10_5',\n 'DF10_6',\n 'DF10_7',\n 'DF11_1',\n 'DF11_2',\n 'DF11_3',\n 'DF11_4',\n 'DF11_5',\n 'DF11_6',\n 'DF11_7',\n 'DF11_8',\n 'DF11_9',\n 'DF12_1',\n 'DF12_2',\n 'DF12_3',\n 'DF13_1',\n 'DF13_2',\n 'DF13_3',\n 'DF14',\n 'DF15_1',\n 'DF15_2',\n 'DF15_3',\n 'DF15_4',\n 'DF16_1',\n 'DF16_2',\n 'DF16_3',\n 'DF16_4',\n 'DF16_5',\n 'DF17',\n 'DF18',\n 'DF19',\n 'DF20_1',\n 'DF20_2',\n 'DF20_3',\n 'DF21',\n 'DF22',\n 'DF23',\n 'DF24',\n 'DF25',\n 'duur_door_interviewer',\n 'indeling_duurtijd_computer',\n 'indeling_duurtijd_interviewer',\n 'RR_BS',\n 'designgewicht',\n 'contact_Q13def',\n 'contact_Q14def',\n 'contact_Q15def',\n 'contact_Q16def',\n 'contact_provincie',\n 'contact_NUTS2',\n 'contact_rsv',\n 'contact_urbanisatie',\n 'Belg',\n 'nonresponsgewicht',\n 'gewicht_na_stap2',\n 'poststratificatiegewest',\n 'gewicht_voor_poststratificatie_EAK',\n 'poststratificatieEAK',\n 'drop_off',\n 'nonresponsgewicht_dropoff',\n 'stratum',\n 'cluster',\n 'SCV_gewicht18',\n 'SCV_gewicht_herschaald18',\n 'drop_off_gewicht18',\n 'drop_off_gewicht_herschaald18',\n 'lft',\n 'LFT_7KL',\n 'REGIO']"
     },
     "execution_count": 3,
     "metadata": {},
     "output_type": "execute_result"
    }
   ],
   "source": [
    "df.columns.tolist()"
   ]
  },
  {
   "cell_type": "code",
   "execution_count": 5,
   "metadata": {},
   "outputs": [],
   "source": [
    "geen = df[(df['V136_1'] == 1) & (df['V136_2'] == 1) & (df['V136_3'] == 1) & (df['V136_4'] == 1) & (df['V136_5'] == 1) & (df['V136_6'] == 1) & (df['V136_7'] == 1) & (df['V136_8'] == 1) & (df['V136_9'] == 1) & (df['V137'] == 1) & (df['V139_1'] == 1) & (df['V139_3'] == 1) & (df['V139_4'] == 1) & (df['V139_5'] == 1)]"
   ]
  },
  {
   "cell_type": "code",
   "execution_count": 6,
   "metadata": {},
   "outputs": [
    {
     "data": {
      "text/plain": "27.0"
     },
     "execution_count": 6,
     "metadata": {},
     "output_type": "execute_result"
    }
   ],
   "source": [
    "geen.SCV_gewicht_herschaald18.sum().round()"
   ]
  },
  {
   "cell_type": "code",
   "execution_count": 8,
   "metadata": {},
   "outputs": [],
   "source": [
    "none = [7, 8]"
   ]
  },
  {
   "cell_type": "code",
   "execution_count": 9,
   "metadata": {},
   "outputs": [
    {
     "data": {
      "text/html": "<div>\n<style scoped>\n    .dataframe tbody tr th:only-of-type {\n        vertical-align: middle;\n    }\n\n    .dataframe tbody tr th {\n        vertical-align: top;\n    }\n\n    .dataframe thead th {\n        text-align: right;\n    }\n</style>\n<table border=\"1\" class=\"dataframe\">\n  <thead>\n    <tr style=\"text-align: right;\">\n      <th></th>\n      <th>RESPNUM</th>\n      <th>DUURTIJD</th>\n      <th>intnum</th>\n      <th>INTTIME</th>\n      <th>STIME</th>\n      <th>T1</th>\n      <th>T2</th>\n      <th>V1_1</th>\n      <th>V1_2</th>\n      <th>V2_1</th>\n      <th>...</th>\n      <th>nonresponsgewicht_dropoff</th>\n      <th>stratum</th>\n      <th>cluster</th>\n      <th>SCV_gewicht18</th>\n      <th>SCV_gewicht_herschaald18</th>\n      <th>drop_off_gewicht18</th>\n      <th>drop_off_gewicht_herschaald18</th>\n      <th>lft</th>\n      <th>LFT_7KL</th>\n      <th>REGIO</th>\n    </tr>\n  </thead>\n  <tbody>\n  </tbody>\n</table>\n<p>0 rows × 810 columns</p>\n</div>",
      "text/plain": "Empty DataFrame\nColumns: [RESPNUM, DUURTIJD, intnum, INTTIME, STIME, T1, T2, V1_1, V1_2, V2_1, V2_2, T3, V3_2, V3_2_flag, V4, V4_flag, V5b, V6, V7b, V8, V9b, V10, V11b, V12, v12_flag, T4, V13, v13_flag, V14, V15, V16, v16_flag, V17, v17_flag, T5, V18, V19_1, V19_2, V20, V21_1, V21_2, V21_3, V21_4, V21_5, V21_6, V21_7, V21_8, V21_9, V21_10, V21_11, V21_12, V21_13, T6, V22, v22_flag, V22CH, V23, T7, V24, T8, V25, v25_flag, V26, V27, V28, V29, V30, V31, CH31, V32, v32_flag, V33, T9, V34, v34_flag, V35, T10, V36, V37, T11, V38, v38_flag, V39, T12, V40, V41, V42, V43_1, V43_2, V44, v44_flag, CH39_44, T13, V45, V46, V47, V48, V49, V50, V51, ...]\nIndex: []\n\n[0 rows x 810 columns]"
     },
     "execution_count": 9,
     "metadata": {},
     "output_type": "execute_result"
    }
   ],
   "source": [
    "df[(df['V136_1'].isin(none)) & (df['V136_2'].isin(none)) & (df['V136_3'].isin(none)) & (df['V136_4'].isin(none)) & (df['V136_5'].isin(none)) & (df['V136_6'].isin(none)) & (df['V136_7'].isin(none)) & (df['V136_8'].isin(none)) & (df['V136_9'].isin(none)) & (df['V137'].isin(none)) & (df['V139_1'].isin(none)) & (df['V139_3'].isin(none)) & (df['V139_4'].isin(none)) & (df['V139_5'].isin(none))]"
   ]
  },
  {
   "cell_type": "code",
   "execution_count": 11,
   "metadata": {},
   "outputs": [
    {
     "data": {
      "text/html": "<div>\n<style scoped>\n    .dataframe tbody tr th:only-of-type {\n        vertical-align: middle;\n    }\n\n    .dataframe tbody tr th {\n        vertical-align: top;\n    }\n\n    .dataframe thead th {\n        text-align: right;\n    }\n</style>\n<table border=\"1\" class=\"dataframe\">\n  <thead>\n    <tr style=\"text-align: right;\">\n      <th></th>\n      <th>RESPNUM</th>\n      <th>DUURTIJD</th>\n      <th>intnum</th>\n      <th>INTTIME</th>\n      <th>STIME</th>\n      <th>T1</th>\n      <th>T2</th>\n      <th>V1_1</th>\n      <th>V1_2</th>\n      <th>V2_1</th>\n      <th>...</th>\n      <th>nonresponsgewicht_dropoff</th>\n      <th>stratum</th>\n      <th>cluster</th>\n      <th>SCV_gewicht18</th>\n      <th>SCV_gewicht_herschaald18</th>\n      <th>drop_off_gewicht18</th>\n      <th>drop_off_gewicht_herschaald18</th>\n      <th>lft</th>\n      <th>LFT_7KL</th>\n      <th>REGIO</th>\n    </tr>\n  </thead>\n  <tbody>\n    <tr>\n      <th>1308</th>\n      <td>100314.0</td>\n      <td>148.183333</td>\n      <td>10088.0</td>\n      <td>8891.0</td>\n      <td>2018-06-05 18:01:30</td>\n      <td>2018-06-05 18:01:30</td>\n      <td>2018-06-05 18:01:33</td>\n      <td>5.0</td>\n      <td>6.0</td>\n      <td>18.0</td>\n      <td>...</td>\n      <td>1.815568</td>\n      <td>1.0</td>\n      <td>22.0</td>\n      <td>4059.138988</td>\n      <td>0.994061</td>\n      <td>7369.642471</td>\n      <td>1.405702</td>\n      <td>67.0</td>\n      <td>6.0</td>\n      <td>2.0</td>\n    </tr>\n  </tbody>\n</table>\n<p>1 rows × 810 columns</p>\n</div>",
      "text/plain": "       RESPNUM    DUURTIJD   intnum  INTTIME               STIME  \\\n1308  100314.0  148.183333  10088.0   8891.0 2018-06-05 18:01:30   \n\n                      T1                  T2  V1_1  V1_2  V2_1  ...  \\\n1308 2018-06-05 18:01:30 2018-06-05 18:01:33   5.0   6.0  18.0  ...   \n\n      nonresponsgewicht_dropoff stratum  cluster  SCV_gewicht18  \\\n1308                   1.815568     1.0     22.0    4059.138988   \n\n      SCV_gewicht_herschaald18  drop_off_gewicht18  \\\n1308                  0.994061         7369.642471   \n\n      drop_off_gewicht_herschaald18   lft  LFT_7KL  REGIO  \n1308                       1.405702  67.0      6.0    2.0  \n\n[1 rows x 810 columns]"
     },
     "execution_count": 11,
     "metadata": {},
     "output_type": "execute_result"
    }
   ],
   "source": [
    "df[((df.V8 == 1) & (df.V10 == 1)) & (df.V4 != 1)]"
   ]
  },
  {
   "cell_type": "code",
   "execution_count": 12,
   "metadata": {},
   "outputs": [],
   "source": [
    "opties = [2, 3, 4]"
   ]
  },
  {
   "cell_type": "code",
   "execution_count": 13,
   "metadata": {},
   "outputs": [
    {
     "data": {
      "text/plain": "228.0"
     },
     "execution_count": 13,
     "metadata": {},
     "output_type": "execute_result"
    }
   ],
   "source": [
    "df[(((df.V8 == 2) | (df.V10 == 2)) | (df.V6 == 2)) & (df.V136_1 == 1)].SCV_gewicht_herschaald18.sum().round()"
   ]
  },
  {
   "cell_type": "code",
   "execution_count": 14,
   "metadata": {},
   "outputs": [
    {
     "data": {
      "text/plain": "14.0"
     },
     "execution_count": 14,
     "metadata": {},
     "output_type": "execute_result"
    }
   ],
   "source": [
    "df[(((df.V8 == 2) | (df.V10 == 2)) | (df.V6 == 2)) & df.V136_1.isin(opties)].SCV_gewicht_herschaald18.sum().round()"
   ]
  },
  {
   "cell_type": "code",
   "execution_count": 15,
   "metadata": {},
   "outputs": [
    {
     "data": {
      "text/plain": "995.0"
     },
     "execution_count": 15,
     "metadata": {},
     "output_type": "execute_result"
    }
   ],
   "source": [
    "df[(((df.V8 == 1) & (df.V10 == 1)) & (df.V4 == 1)) & (df.V136_1 == 1)].SCV_gewicht_herschaald18.sum().round()"
   ]
  },
  {
   "cell_type": "code",
   "execution_count": 16,
   "metadata": {},
   "outputs": [
    {
     "data": {
      "text/plain": "77.0"
     },
     "execution_count": 16,
     "metadata": {},
     "output_type": "execute_result"
    }
   ],
   "source": [
    "df[(((df.V8 == 1) & (df.V10 == 1)) & (df.V4 == 1)) & df.V136_1.isin(opties)].SCV_gewicht_herschaald18.sum().round()"
   ]
  },
  {
   "cell_type": "code",
   "execution_count": 17,
   "metadata": {},
   "outputs": [
    {
     "data": {
      "text/plain": "223.0"
     },
     "execution_count": 17,
     "metadata": {},
     "output_type": "execute_result"
    }
   ],
   "source": [
    "df[(((df.V8 == 2) | (df.V10 == 2)) | (df.V6 == 2)) & (df.V136_2 == 1)].SCV_gewicht_herschaald18.sum().round()"
   ]
  },
  {
   "cell_type": "code",
   "execution_count": 18,
   "metadata": {},
   "outputs": [
    {
     "data": {
      "text/plain": "20.0"
     },
     "execution_count": 18,
     "metadata": {},
     "output_type": "execute_result"
    }
   ],
   "source": [
    "df[(((df.V8 == 2) | (df.V10 == 2)) | (df.V6 == 2)) & df.V136_2.isin(opties)].SCV_gewicht_herschaald18.sum().round()"
   ]
  },
  {
   "cell_type": "code",
   "execution_count": 19,
   "metadata": {},
   "outputs": [
    {
     "data": {
      "text/plain": "962.0"
     },
     "execution_count": 19,
     "metadata": {},
     "output_type": "execute_result"
    }
   ],
   "source": [
    "df[(((df.V8 == 1) & (df.V10 == 1)) & (df.V4 == 1)) & (df.V136_2 == 1)].SCV_gewicht_herschaald18.sum().round()"
   ]
  },
  {
   "cell_type": "code",
   "execution_count": 20,
   "metadata": {},
   "outputs": [
    {
     "data": {
      "text/plain": "110.0"
     },
     "execution_count": 20,
     "metadata": {},
     "output_type": "execute_result"
    }
   ],
   "source": [
    "df[(((df.V8 == 1) & (df.V10 == 1)) & (df.V4 == 1)) & df.V136_2.isin(opties)].SCV_gewicht_herschaald18.sum().round()"
   ]
  },
  {
   "cell_type": "code",
   "execution_count": 21,
   "metadata": {},
   "outputs": [
    {
     "data": {
      "text/plain": "224.0"
     },
     "execution_count": 21,
     "metadata": {},
     "output_type": "execute_result"
    }
   ],
   "source": [
    "df[(((df.V8 == 2) | (df.V10 == 2)) | (df.V6 == 2)) & (df.V136_3 == 1)].SCV_gewicht_herschaald18.sum().round()"
   ]
  },
  {
   "cell_type": "code",
   "execution_count": 22,
   "metadata": {},
   "outputs": [
    {
     "data": {
      "text/plain": "18.0"
     },
     "execution_count": 22,
     "metadata": {},
     "output_type": "execute_result"
    }
   ],
   "source": [
    "df[(((df.V8 == 2) | (df.V10 == 2)) | (df.V6 == 2)) & df.V136_3.isin(opties)].SCV_gewicht_herschaald18.sum().round()"
   ]
  },
  {
   "cell_type": "code",
   "execution_count": 23,
   "metadata": {},
   "outputs": [
    {
     "data": {
      "text/plain": "910.0"
     },
     "execution_count": 23,
     "metadata": {},
     "output_type": "execute_result"
    }
   ],
   "source": [
    "df[(((df.V8 == 1) & (df.V10 == 1)) & (df.V4 == 1)) & (df.V136_3 == 1)].SCV_gewicht_herschaald18.sum().round()"
   ]
  },
  {
   "cell_type": "code",
   "execution_count": 24,
   "metadata": {},
   "outputs": [
    {
     "data": {
      "text/plain": "163.0"
     },
     "execution_count": 24,
     "metadata": {},
     "output_type": "execute_result"
    }
   ],
   "source": [
    "df[(((df.V8 == 1) & (df.V10 == 1)) & (df.V4 == 1)) & df.V136_3.isin(opties)].SCV_gewicht_herschaald18.sum().round()"
   ]
  },
  {
   "cell_type": "code",
   "execution_count": 25,
   "metadata": {},
   "outputs": [
    {
     "data": {
      "text/plain": "195.0"
     },
     "execution_count": 25,
     "metadata": {},
     "output_type": "execute_result"
    }
   ],
   "source": [
    "df[(((df.V8 == 2) | (df.V10 == 2)) | (df.V6 == 2)) & (df.V136_4 == 1)].SCV_gewicht_herschaald18.sum().round()"
   ]
  },
  {
   "cell_type": "code",
   "execution_count": 26,
   "metadata": {},
   "outputs": [
    {
     "data": {
      "text/plain": "47.0"
     },
     "execution_count": 26,
     "metadata": {},
     "output_type": "execute_result"
    }
   ],
   "source": [
    "df[(((df.V8 == 2) | (df.V10 == 2)) | (df.V6 == 2)) & df.V136_4.isin(opties)].SCV_gewicht_herschaald18.sum().round()"
   ]
  },
  {
   "cell_type": "code",
   "execution_count": 27,
   "metadata": {},
   "outputs": [
    {
     "data": {
      "text/plain": "782.0"
     },
     "execution_count": 27,
     "metadata": {},
     "output_type": "execute_result"
    }
   ],
   "source": [
    "df[(((df.V8 == 1) & (df.V10 == 1)) & (df.V4 == 1)) & (df.V136_4 == 1)].SCV_gewicht_herschaald18.sum().round()"
   ]
  },
  {
   "cell_type": "code",
   "execution_count": 28,
   "metadata": {},
   "outputs": [
    {
     "data": {
      "text/plain": "290.0"
     },
     "execution_count": 28,
     "metadata": {},
     "output_type": "execute_result"
    }
   ],
   "source": [
    "df[(((df.V8 == 1) & (df.V10 == 1)) & (df.V4 == 1)) & df.V136_4.isin(opties)].SCV_gewicht_herschaald18.sum().round()"
   ]
  },
  {
   "cell_type": "code",
   "execution_count": 29,
   "metadata": {},
   "outputs": [
    {
     "data": {
      "text/plain": "204.0"
     },
     "execution_count": 29,
     "metadata": {},
     "output_type": "execute_result"
    }
   ],
   "source": [
    "df[(((df.V8 == 2) | (df.V10 == 2)) | (df.V6 == 2)) & (df.V136_5 == 1)].SCV_gewicht_herschaald18.sum().round()"
   ]
  },
  {
   "cell_type": "code",
   "execution_count": 30,
   "metadata": {},
   "outputs": [
    {
     "data": {
      "text/plain": "39.0"
     },
     "execution_count": 30,
     "metadata": {},
     "output_type": "execute_result"
    }
   ],
   "source": [
    "df[(((df.V8 == 2) | (df.V10 == 2)) | (df.V6 == 2)) & df.V136_5.isin(opties)].SCV_gewicht_herschaald18.sum().round()"
   ]
  },
  {
   "cell_type": "code",
   "execution_count": 31,
   "metadata": {},
   "outputs": [
    {
     "data": {
      "text/plain": "708.0"
     },
     "execution_count": 31,
     "metadata": {},
     "output_type": "execute_result"
    }
   ],
   "source": [
    "df[(((df.V8 == 1) & (df.V10 == 1)) & (df.V4 == 1)) & (df.V136_5 == 1)].SCV_gewicht_herschaald18.sum().round()"
   ]
  },
  {
   "cell_type": "code",
   "execution_count": 32,
   "metadata": {},
   "outputs": [
    {
     "data": {
      "text/plain": "364.0"
     },
     "execution_count": 32,
     "metadata": {},
     "output_type": "execute_result"
    }
   ],
   "source": [
    "df[(((df.V8 == 1) & (df.V10 == 1)) & (df.V4 == 1)) & df.V136_5.isin(opties)].SCV_gewicht_herschaald18.sum().round()"
   ]
  },
  {
   "cell_type": "code",
   "execution_count": 33,
   "metadata": {},
   "outputs": [
    {
     "data": {
      "text/plain": "218.0"
     },
     "execution_count": 33,
     "metadata": {},
     "output_type": "execute_result"
    }
   ],
   "source": [
    "df[(((df.V8 == 2) | (df.V10 == 2)) | (df.V6 == 2)) & (df.V136_6 == 1)].SCV_gewicht_herschaald18.sum().round()"
   ]
  },
  {
   "cell_type": "code",
   "execution_count": 34,
   "metadata": {},
   "outputs": [
    {
     "data": {
      "text/plain": "25.0"
     },
     "execution_count": 34,
     "metadata": {},
     "output_type": "execute_result"
    }
   ],
   "source": [
    "df[(((df.V8 == 2) | (df.V10 == 2)) | (df.V6 == 2)) & df.V136_6.isin(opties)].SCV_gewicht_herschaald18.sum().round()"
   ]
  },
  {
   "cell_type": "code",
   "execution_count": 36,
   "metadata": {},
   "outputs": [
    {
     "data": {
      "text/plain": "986.0"
     },
     "execution_count": 36,
     "metadata": {},
     "output_type": "execute_result"
    }
   ],
   "source": [
    "df[(((df.V8 == 1) & (df.V10 == 1)) & (df.V4 == 1)) & (df.V136_6 == 1)].SCV_gewicht_herschaald18.sum().round()"
   ]
  },
  {
   "cell_type": "code",
   "execution_count": 37,
   "metadata": {},
   "outputs": [
    {
     "data": {
      "text/plain": "86.0"
     },
     "execution_count": 37,
     "metadata": {},
     "output_type": "execute_result"
    }
   ],
   "source": [
    "df[(((df.V8 == 1) & (df.V10 == 1)) & (df.V4 == 1)) & df.V136_6.isin(opties)].SCV_gewicht_herschaald18.sum().round()"
   ]
  },
  {
   "cell_type": "code",
   "execution_count": 38,
   "metadata": {},
   "outputs": [
    {
     "data": {
      "text/plain": "203.0"
     },
     "execution_count": 38,
     "metadata": {},
     "output_type": "execute_result"
    }
   ],
   "source": [
    "df[(((df.V8 == 2) | (df.V10 == 2)) | (df.V6 == 2)) & (df.V136_7 == 1)].SCV_gewicht_herschaald18.sum().round()"
   ]
  },
  {
   "cell_type": "code",
   "execution_count": 39,
   "metadata": {},
   "outputs": [
    {
     "data": {
      "text/plain": "40.0"
     },
     "execution_count": 39,
     "metadata": {},
     "output_type": "execute_result"
    }
   ],
   "source": [
    "df[(((df.V8 == 2) | (df.V10 == 2)) | (df.V6 == 2)) & df.V136_7.isin(opties)].SCV_gewicht_herschaald18.sum().round()"
   ]
  },
  {
   "cell_type": "code",
   "execution_count": 40,
   "metadata": {},
   "outputs": [
    {
     "data": {
      "text/plain": "905.0"
     },
     "execution_count": 40,
     "metadata": {},
     "output_type": "execute_result"
    }
   ],
   "source": [
    "df[(((df.V8 == 1) & (df.V10 == 1)) & (df.V4 == 1)) & (df.V136_7 == 1)].SCV_gewicht_herschaald18.sum().round()"
   ]
  },
  {
   "cell_type": "code",
   "execution_count": 41,
   "metadata": {},
   "outputs": [
    {
     "data": {
      "text/plain": "167.0"
     },
     "execution_count": 41,
     "metadata": {},
     "output_type": "execute_result"
    }
   ],
   "source": [
    "df[(((df.V8 == 1) & (df.V10 == 1)) & (df.V4 == 1)) & df.V136_7.isin(opties)].SCV_gewicht_herschaald18.sum().round()"
   ]
  },
  {
   "cell_type": "code",
   "execution_count": 42,
   "metadata": {},
   "outputs": [
    {
     "data": {
      "text/plain": "218.0"
     },
     "execution_count": 42,
     "metadata": {},
     "output_type": "execute_result"
    }
   ],
   "source": [
    "df[(((df.V8 == 2) | (df.V10 == 2)) | (df.V6 == 2)) & (df.V136_8 == 1)].SCV_gewicht_herschaald18.sum().round()"
   ]
  },
  {
   "cell_type": "code",
   "execution_count": 43,
   "metadata": {},
   "outputs": [
    {
     "data": {
      "text/plain": "25.0"
     },
     "execution_count": 43,
     "metadata": {},
     "output_type": "execute_result"
    }
   ],
   "source": [
    "df[(((df.V8 == 2) | (df.V10 == 2)) | (df.V6 == 2)) & df.V136_8.isin(opties)].SCV_gewicht_herschaald18.sum().round()"
   ]
  },
  {
   "cell_type": "code",
   "execution_count": 44,
   "metadata": {},
   "outputs": [
    {
     "data": {
      "text/plain": "867.0"
     },
     "execution_count": 44,
     "metadata": {},
     "output_type": "execute_result"
    }
   ],
   "source": [
    "df[(((df.V8 == 1) & (df.V10 == 1)) & (df.V4 == 1)) & (df.V136_8 == 1)].SCV_gewicht_herschaald18.sum().round()"
   ]
  },
  {
   "cell_type": "code",
   "execution_count": 45,
   "metadata": {},
   "outputs": [
    {
     "data": {
      "text/plain": "206.0"
     },
     "execution_count": 45,
     "metadata": {},
     "output_type": "execute_result"
    }
   ],
   "source": [
    "df[(((df.V8 == 1) & (df.V10 == 1)) & (df.V4 == 1)) & df.V136_8.isin(opties)].SCV_gewicht_herschaald18.sum().round()"
   ]
  },
  {
   "cell_type": "code",
   "execution_count": 46,
   "metadata": {},
   "outputs": [
    {
     "data": {
      "text/plain": "84.0"
     },
     "execution_count": 46,
     "metadata": {},
     "output_type": "execute_result"
    }
   ],
   "source": [
    "df[(((df.V8 == 2) | (df.V10 == 2)) | (df.V6 == 2)) & (df.V136_9 == 1)].SCV_gewicht_herschaald18.sum().round()"
   ]
  },
  {
   "cell_type": "code",
   "execution_count": 47,
   "metadata": {},
   "outputs": [
    {
     "data": {
      "text/plain": "159.0"
     },
     "execution_count": 47,
     "metadata": {},
     "output_type": "execute_result"
    }
   ],
   "source": [
    "df[(((df.V8 == 2) | (df.V10 == 2)) | (df.V6 == 2)) & df.V136_9.isin(opties)].SCV_gewicht_herschaald18.sum().round()"
   ]
  },
  {
   "cell_type": "code",
   "execution_count": 48,
   "metadata": {},
   "outputs": [
    {
     "data": {
      "text/plain": "475.0"
     },
     "execution_count": 48,
     "metadata": {},
     "output_type": "execute_result"
    }
   ],
   "source": [
    "df[(((df.V8 == 1) & (df.V10 == 1)) & (df.V4 == 1)) & (df.V136_9 == 1)].SCV_gewicht_herschaald18.sum().round()"
   ]
  },
  {
   "cell_type": "code",
   "execution_count": 49,
   "metadata": {},
   "outputs": [
    {
     "data": {
      "text/plain": "597.0"
     },
     "execution_count": 49,
     "metadata": {},
     "output_type": "execute_result"
    }
   ],
   "source": [
    "df[(((df.V8 == 1) & (df.V10 == 1)) & (df.V4 == 1)) & df.V136_9.isin(opties)].SCV_gewicht_herschaald18.sum().round()"
   ]
  },
  {
   "cell_type": "code",
   "execution_count": 50,
   "metadata": {},
   "outputs": [
    {
     "data": {
      "text/plain": "92.0"
     },
     "execution_count": 50,
     "metadata": {},
     "output_type": "execute_result"
    }
   ],
   "source": [
    "df[(((df.V8 == 2) | (df.V10 == 2)) | (df.V6 == 2)) & (df.V137 == 1)].SCV_gewicht_herschaald18.sum().round()"
   ]
  },
  {
   "cell_type": "code",
   "execution_count": 51,
   "metadata": {},
   "outputs": [
    {
     "data": {
      "text/plain": "151.0"
     },
     "execution_count": 51,
     "metadata": {},
     "output_type": "execute_result"
    }
   ],
   "source": [
    "df[(((df.V8 == 2) | (df.V10 == 2)) | (df.V6 == 2)) & df.V137.isin(opties)].SCV_gewicht_herschaald18.sum().round()"
   ]
  },
  {
   "cell_type": "code",
   "execution_count": 52,
   "metadata": {},
   "outputs": [
    {
     "data": {
      "text/plain": "489.0"
     },
     "execution_count": 52,
     "metadata": {},
     "output_type": "execute_result"
    }
   ],
   "source": [
    "df[(((df.V8 == 1) & (df.V10 == 1)) & (df.V4 == 1)) & (df.V137 == 1)].SCV_gewicht_herschaald18.sum().round()"
   ]
  },
  {
   "cell_type": "code",
   "execution_count": 53,
   "metadata": {},
   "outputs": [
    {
     "data": {
      "text/plain": "584.0"
     },
     "execution_count": 53,
     "metadata": {},
     "output_type": "execute_result"
    }
   ],
   "source": [
    "df[(((df.V8 == 1) & (df.V10 == 1)) & (df.V4 == 1)) & df.V137.isin(opties)].SCV_gewicht_herschaald18.sum().round()"
   ]
  },
  {
   "cell_type": "code",
   "execution_count": 54,
   "metadata": {},
   "outputs": [
    {
     "data": {
      "text/plain": "145.0"
     },
     "execution_count": 54,
     "metadata": {},
     "output_type": "execute_result"
    }
   ],
   "source": [
    "df[(((df.V8 == 2) | (df.V10 == 2)) | (df.V6 == 2)) & (df.V139_1 == 1)].SCV_gewicht_herschaald18.sum().round()"
   ]
  },
  {
   "cell_type": "code",
   "execution_count": 55,
   "metadata": {},
   "outputs": [
    {
     "data": {
      "text/plain": "98.0"
     },
     "execution_count": 55,
     "metadata": {},
     "output_type": "execute_result"
    }
   ],
   "source": [
    "df[(((df.V8 == 2) | (df.V10 == 2)) | (df.V6 == 2)) & df.V139_1.isin(opties)].SCV_gewicht_herschaald18.sum().round()"
   ]
  },
  {
   "cell_type": "code",
   "execution_count": 56,
   "metadata": {},
   "outputs": [
    {
     "data": {
      "text/plain": "610.0"
     },
     "execution_count": 56,
     "metadata": {},
     "output_type": "execute_result"
    }
   ],
   "source": [
    "df[(((df.V8 == 1) & (df.V10 == 1)) & (df.V4 == 1)) & (df.V139_1 == 1)].SCV_gewicht_herschaald18.sum().round()"
   ]
  },
  {
   "cell_type": "code",
   "execution_count": 57,
   "metadata": {},
   "outputs": [
    {
     "data": {
      "text/plain": "462.0"
     },
     "execution_count": 57,
     "metadata": {},
     "output_type": "execute_result"
    }
   ],
   "source": [
    "df[(((df.V8 == 1) & (df.V10 == 1)) & (df.V4 == 1)) & df.V139_1.isin(opties)].SCV_gewicht_herschaald18.sum().round()"
   ]
  },
  {
   "cell_type": "code",
   "execution_count": 58,
   "metadata": {},
   "outputs": [
    {
     "data": {
      "text/plain": "121.0"
     },
     "execution_count": 58,
     "metadata": {},
     "output_type": "execute_result"
    }
   ],
   "source": [
    "df[(((df.V8 == 2) | (df.V10 == 2)) | (df.V6 == 2)) & (df.V139_3 == 1)].SCV_gewicht_herschaald18.sum().round()"
   ]
  },
  {
   "cell_type": "code",
   "execution_count": 59,
   "metadata": {},
   "outputs": [
    {
     "data": {
      "text/plain": "121.0"
     },
     "execution_count": 59,
     "metadata": {},
     "output_type": "execute_result"
    }
   ],
   "source": [
    "df[(((df.V8 == 2) | (df.V10 == 2)) | (df.V6 == 2)) & df.V139_3.isin(opties)].SCV_gewicht_herschaald18.sum().round()"
   ]
  },
  {
   "cell_type": "code",
   "execution_count": 60,
   "metadata": {},
   "outputs": [
    {
     "data": {
      "text/plain": "441.0"
     },
     "execution_count": 60,
     "metadata": {},
     "output_type": "execute_result"
    }
   ],
   "source": [
    "df[(((df.V8 == 1) & (df.V10 == 1)) & (df.V4 == 1)) & (df.V139_3 == 1)].SCV_gewicht_herschaald18.sum().round()"
   ]
  },
  {
   "cell_type": "code",
   "execution_count": 61,
   "metadata": {},
   "outputs": [
    {
     "data": {
      "text/plain": "631.0"
     },
     "execution_count": 61,
     "metadata": {},
     "output_type": "execute_result"
    }
   ],
   "source": [
    "df[(((df.V8 == 1) & (df.V10 == 1)) & (df.V4 == 1)) & df.V139_3.isin(opties)].SCV_gewicht_herschaald18.sum().round()"
   ]
  },
  {
   "cell_type": "code",
   "execution_count": 62,
   "metadata": {},
   "outputs": [
    {
     "data": {
      "text/plain": "190.0"
     },
     "execution_count": 62,
     "metadata": {},
     "output_type": "execute_result"
    }
   ],
   "source": [
    "df[(((df.V8 == 2) | (df.V10 == 2)) | (df.V6 == 2)) & (df.V139_4 == 1)].SCV_gewicht_herschaald18.sum().round()"
   ]
  },
  {
   "cell_type": "code",
   "execution_count": 63,
   "metadata": {},
   "outputs": [
    {
     "data": {
      "text/plain": "53.0"
     },
     "execution_count": 63,
     "metadata": {},
     "output_type": "execute_result"
    }
   ],
   "source": [
    "df[(((df.V8 == 2) | (df.V10 == 2)) | (df.V6 == 2)) & df.V139_4.isin(opties)].SCV_gewicht_herschaald18.sum().round()"
   ]
  },
  {
   "cell_type": "code",
   "execution_count": 64,
   "metadata": {},
   "outputs": [
    {
     "data": {
      "text/plain": "829.0"
     },
     "execution_count": 64,
     "metadata": {},
     "output_type": "execute_result"
    }
   ],
   "source": [
    "df[(((df.V8 == 1) & (df.V10 == 1)) & (df.V4 == 1)) & (df.V139_4 == 1)].SCV_gewicht_herschaald18.sum().round()"
   ]
  },
  {
   "cell_type": "code",
   "execution_count": 65,
   "metadata": {},
   "outputs": [
    {
     "data": {
      "text/plain": "244.0"
     },
     "execution_count": 65,
     "metadata": {},
     "output_type": "execute_result"
    }
   ],
   "source": [
    "df[(((df.V8 == 1) & (df.V10 == 1)) & (df.V4 == 1)) & df.V139_4.isin(opties)].SCV_gewicht_herschaald18.sum().round()"
   ]
  },
  {
   "cell_type": "code",
   "execution_count": 66,
   "metadata": {},
   "outputs": [
    {
     "data": {
      "text/plain": "218.0"
     },
     "execution_count": 66,
     "metadata": {},
     "output_type": "execute_result"
    }
   ],
   "source": [
    "df[(((df.V8 == 2) | (df.V10 == 2)) | (df.V6 == 2)) & (df.V139_5 == 1)].SCV_gewicht_herschaald18.sum().round()"
   ]
  },
  {
   "cell_type": "code",
   "execution_count": 67,
   "metadata": {},
   "outputs": [
    {
     "data": {
      "text/plain": "25.0"
     },
     "execution_count": 67,
     "metadata": {},
     "output_type": "execute_result"
    }
   ],
   "source": [
    "df[(((df.V8 == 2) | (df.V10 == 2)) | (df.V6 == 2)) & df.V139_5.isin(opties)].SCV_gewicht_herschaald18.sum().round()"
   ]
  },
  {
   "cell_type": "code",
   "execution_count": 70,
   "metadata": {},
   "outputs": [
    {
     "data": {
      "text/plain": "909.0"
     },
     "execution_count": 70,
     "metadata": {},
     "output_type": "execute_result"
    }
   ],
   "source": [
    "df[(((df.V8 == 1) & (df.V10 == 1)) & (df.V4 == 1)) & (df.V139_5 == 1)].SCV_gewicht_herschaald18.sum().round()"
   ]
  },
  {
   "cell_type": "code",
   "execution_count": 71,
   "metadata": {},
   "outputs": [
    {
     "data": {
      "text/plain": "163.0"
     },
     "execution_count": 71,
     "metadata": {},
     "output_type": "execute_result"
    }
   ],
   "source": [
    "df[(((df.V8 == 1) & (df.V10 == 1)) & (df.V4 == 1)) & df.V139_5.isin(opties)].SCV_gewicht_herschaald18.sum().round()"
   ]
  },
  {
   "cell_type": "code",
   "execution_count": 73,
   "metadata": {},
   "outputs": [
    {
     "data": {
      "text/plain": "3.0     27\n2.0     23\n1.0     15\n4.0      8\n6.0      7\n77.0     6\n10.0     3\n9.0      3\n8.0      3\n88.0     2\n7.0      1\nName: V114, dtype: int64"
     },
     "execution_count": 73,
     "metadata": {},
     "output_type": "execute_result"
    }
   ],
   "source": [
    "df[df['V136_1'].isin(opties)].V114.value_counts()"
   ]
  },
  {
   "cell_type": "code",
   "execution_count": 74,
   "metadata": {},
   "outputs": [
    {
     "data": {
      "text/plain": "2.0     43\n3.0     31\n1.0     24\n4.0     16\n6.0     12\n77.0     6\n10.0     3\n7.0      3\n8.0      3\n88.0     2\n5.0      2\n12.0     1\n20.0     1\n9.0      1\nName: V114, dtype: int64"
     },
     "execution_count": 74,
     "metadata": {},
     "output_type": "execute_result"
    }
   ],
   "source": [
    "df[df['V136_2'].isin(opties)].V114.value_counts()"
   ]
  },
  {
   "cell_type": "code",
   "execution_count": 75,
   "metadata": {},
   "outputs": [
    {
     "data": {
      "text/plain": "2.0     46\n3.0     46\n1.0     31\n4.0     19\n77.0    11\n6.0      9\n7.0      6\n9.0      6\n5.0      6\n10.0     5\n8.0      1\n12.0     1\n88.0     1\nName: V114, dtype: int64"
     },
     "execution_count": 75,
     "metadata": {},
     "output_type": "execute_result"
    }
   ],
   "source": [
    "df[df['V136_3'].isin(opties)].V114.value_counts()"
   ]
  },
  {
   "cell_type": "code",
   "execution_count": 76,
   "metadata": {},
   "outputs": [
    {
     "data": {
      "text/plain": "2.0     89\n3.0     81\n1.0     63\n4.0     38\n6.0     23\n77.0    19\n10.0    11\n9.0      8\n5.0      7\n88.0     7\n8.0      6\n7.0      5\n12.0     1\n20.0     1\nName: V114, dtype: int64"
     },
     "execution_count": 76,
     "metadata": {},
     "output_type": "execute_result"
    }
   ],
   "source": [
    "df[df['V136_4'].isin(opties)].V114.value_counts()"
   ]
  },
  {
   "cell_type": "code",
   "execution_count": 77,
   "metadata": {},
   "outputs": [
    {
     "data": {
      "text/plain": "3.0     101\n1.0      82\n2.0      76\n4.0      37\n6.0      31\n77.0     27\n7.0      16\n5.0       9\n10.0      8\n8.0       8\n9.0       7\n88.0      6\n12.0      2\n20.0      1\nName: V114, dtype: int64"
     },
     "execution_count": 77,
     "metadata": {},
     "output_type": "execute_result"
    }
   ],
   "source": [
    "df[df['V136_5'].isin(opties)].V114.value_counts()"
   ]
  },
  {
   "cell_type": "code",
   "execution_count": 78,
   "metadata": {},
   "outputs": [
    {
     "data": {
      "text/plain": "3.0     28\n2.0     19\n4.0     15\n1.0     14\n6.0      7\n7.0      6\n9.0      5\n10.0     5\n77.0     5\n5.0      5\n8.0      4\n88.0     3\n12.0     1\nName: V114, dtype: int64"
     },
     "execution_count": 78,
     "metadata": {},
     "output_type": "execute_result"
    }
   ],
   "source": [
    "df[df['V136_6'].isin(opties)].V114.value_counts()"
   ]
  },
  {
   "cell_type": "code",
   "execution_count": 79,
   "metadata": {},
   "outputs": [
    {
     "data": {
      "text/plain": "3.0     57\n1.0     35\n2.0     33\n4.0     23\n6.0     21\n77.0    12\n10.0    10\n7.0      8\n88.0     4\n8.0      4\n5.0      3\n12.0     1\n20.0     1\nName: V114, dtype: int64"
     },
     "execution_count": 79,
     "metadata": {},
     "output_type": "execute_result"
    }
   ],
   "source": [
    "df[df['V136_7'].isin(opties)].V114.value_counts()"
   ]
  },
  {
   "cell_type": "code",
   "execution_count": 80,
   "metadata": {},
   "outputs": [
    {
     "data": {
      "text/plain": "3.0     63\n2.0     53\n1.0     45\n4.0     26\n6.0     17\n77.0    14\n5.0     10\n10.0     5\n7.0      4\n88.0     3\n9.0      3\n8.0      3\n20.0     1\nName: V114, dtype: int64"
     },
     "execution_count": 80,
     "metadata": {},
     "output_type": "execute_result"
    }
   ],
   "source": [
    "df[df['V136_8'].isin(opties)].V114.value_counts()"
   ]
  },
  {
   "cell_type": "code",
   "execution_count": 82,
   "metadata": {},
   "outputs": [
    {
     "data": {
      "text/plain": "3.0     199\n2.0     146\n1.0     106\n4.0      99\n77.0     59\n6.0      56\n7.0      35\n10.0     19\n5.0      18\n9.0      16\n8.0      15\n88.0     10\n12.0      2\n20.0      1\n18.0      1\nName: V114, dtype: int64"
     },
     "execution_count": 82,
     "metadata": {},
     "output_type": "execute_result"
    }
   ],
   "source": [
    "df[df['V136_9'].isin(opties)].V114.value_counts()"
   ]
  },
  {
   "cell_type": "code",
   "execution_count": 83,
   "metadata": {},
   "outputs": [
    {
     "data": {
      "text/plain": "3.0     159\n1.0     129\n4.0      73\n2.0      72\n6.0      61\n77.0     52\n7.0      44\n9.0      33\n10.0     31\n5.0      18\n8.0      13\n88.0     11\n12.0      4\n18.0      2\nName: V114, dtype: int64"
     },
     "execution_count": 83,
     "metadata": {},
     "output_type": "execute_result"
    }
   ],
   "source": [
    "df[df['V137'].isin(opties)].V114.value_counts()"
   ]
  },
  {
   "cell_type": "code",
   "execution_count": 84,
   "metadata": {},
   "outputs": [
    {
     "data": {
      "text/plain": "3.0     147\n2.0     130\n1.0      93\n4.0      70\n6.0      43\n77.0     37\n5.0      17\n7.0      17\n10.0     10\n88.0     10\n9.0       9\n8.0       8\n12.0      2\n20.0      1\nName: V114, dtype: int64"
     },
     "execution_count": 84,
     "metadata": {},
     "output_type": "execute_result"
    }
   ],
   "source": [
    "df[df['V139_1'].isin(opties)].V114.value_counts()"
   ]
  },
  {
   "cell_type": "code",
   "execution_count": 85,
   "metadata": {},
   "outputs": [
    {
     "data": {
      "text/plain": "3.0     216\n2.0     150\n1.0     130\n4.0      94\n6.0      53\n77.0     43\n7.0      23\n5.0      23\n10.0     14\n88.0     14\n9.0      13\n8.0      12\n12.0      3\n20.0      1\nName: V114, dtype: int64"
     },
     "execution_count": 85,
     "metadata": {},
     "output_type": "execute_result"
    }
   ],
   "source": [
    "df[df['V139_3'].isin(opties)].V114.value_counts()"
   ]
  },
  {
   "cell_type": "code",
   "execution_count": 86,
   "metadata": {},
   "outputs": [
    {
     "data": {
      "text/plain": "3.0     80\n2.0     60\n1.0     51\n4.0     40\n77.0    22\n6.0     18\n7.0     11\n5.0     10\n8.0      7\n88.0     6\n9.0      4\n10.0     3\n12.0     1\n20.0     1\nName: V114, dtype: int64"
     },
     "execution_count": 86,
     "metadata": {},
     "output_type": "execute_result"
    }
   ],
   "source": [
    "df[df['V139_4'].isin(opties)].V114.value_counts()"
   ]
  },
  {
   "cell_type": "code",
   "execution_count": 87,
   "metadata": {},
   "outputs": [
    {
     "data": {
      "text/plain": "1.0     43\n2.0     40\n3.0     39\n4.0     22\n6.0     16\n77.0     9\n5.0      7\n7.0      6\n88.0     5\n10.0     4\n9.0      2\n12.0     1\n8.0      1\n20.0     1\nName: V114, dtype: int64"
     },
     "execution_count": 87,
     "metadata": {},
     "output_type": "execute_result"
    }
   ],
   "source": [
    "df[df['V139_5'].isin(opties)].V114.value_counts()"
   ]
  },
  {
   "cell_type": "code",
   "execution_count": null,
   "metadata": {},
   "outputs": [],
   "source": []
  }
 ]
}