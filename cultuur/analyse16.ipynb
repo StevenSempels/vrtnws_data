{
 "nbformat": 4,
 "nbformat_minor": 2,
 "metadata": {
  "language_info": {
   "name": "python",
   "codemirror_mode": {
    "name": "ipython",
    "version": 3
   },
   "version": "3.7.3"
  },
  "orig_nbformat": 2,
  "file_extension": ".py",
  "mimetype": "text/x-python",
  "name": "python",
  "npconvert_exporter": "python",
  "pygments_lexer": "ipython3",
  "version": 3
 },
 "cells": [
  {
   "cell_type": "code",
   "execution_count": 1,
   "metadata": {},
   "outputs": [],
   "source": [
    "import pandas as pd\n",
    "import pyreadstat\n",
    "\n",
    "df, meta = pyreadstat.read_sav('cult2016.sav')"
   ]
  },
  {
   "cell_type": "code",
   "execution_count": 2,
   "metadata": {},
   "outputs": [
    {
     "data": {
      "text/plain": "1449"
     },
     "execution_count": 2,
     "metadata": {},
     "output_type": "execute_result"
    }
   ],
   "source": [
    "len(df.index)"
   ]
  },
  {
   "cell_type": "code",
   "execution_count": 3,
   "metadata": {},
   "outputs": [
    {
     "data": {
      "text/plain": "['RESPNUM',\n 'INTNUM',\n 'INTTIME',\n 'STIME',\n 'duur_interview_uit_timers',\n 'duur_interview_uit_registratie_interviewer',\n 'VALID_DUURTIJD',\n 'T1',\n 'V1_1',\n 'v1_2',\n 'V2_1',\n 'V2_2',\n 'V3_2',\n 'V4',\n 'V5b',\n 'V6',\n 'V7b',\n 'V8',\n 'V9b',\n 'V10',\n 'V11b',\n 'V12',\n 'T2',\n 'V13',\n 'V14_1',\n 'V14_2',\n 'V15_1',\n 'V15_2',\n 'V16_1',\n 'V16_2',\n 'V17_1',\n 'V17_2',\n 'V18',\n 'T3',\n 'V19',\n 'V21',\n 'V22',\n 'V22_flag',\n 'V23',\n 'V23_flag',\n 'T4',\n 'V26',\n 'V27_1',\n 'V27_2',\n 'V28',\n 'V29_1',\n 'V29_2',\n 'V30',\n 'T5',\n 'V31_1',\n 'V31_2',\n 'V31_3',\n 'V31_4',\n 'V31_5',\n 'V31_6',\n 'V31_7',\n 'V31_8',\n 'V31_9',\n 'V31_10',\n 'V31_11',\n 'V31_12',\n 'V31_13',\n 'T6',\n 'V32',\n 'V32_flag',\n 'V32CH',\n 'T6b',\n 'V33',\n 'V34_1',\n 'V34_2',\n 'V35',\n 'V36',\n 'V37',\n 'V38',\n 'V39_1',\n 'V39_2',\n 'V40',\n 'V41_1',\n 'V41_2',\n 'V42',\n 'T7',\n 'V43',\n 'T8',\n 'V44',\n 'V44_flag',\n 'V45',\n 'V46',\n 'V47',\n 'V48',\n 'V49',\n 'V50',\n 'V51',\n 'V51_flag',\n 'V52',\n 'T9',\n 'V52_1',\n 'V52_2',\n 'V52_3',\n 'V52_4',\n 'T10',\n 'V53',\n 'V53_flag',\n 'V54',\n 'T11',\n 'V55',\n 'V56',\n 'T12',\n 'V57',\n 'V57_flag',\n 'V58',\n 'T13',\n 'V59_1',\n 'V60_1',\n 'V60_2',\n 'V61_1',\n 'V61_2',\n 'V62_1',\n 'V62_2',\n 'V63',\n 'V64',\n 'V65',\n 'V67',\n 'V68_1',\n 'V68_2',\n 'V69',\n 'V69_flag',\n 'T14',\n 'V70',\n 'V71_1',\n 'V71_2',\n 'V72',\n 'V73',\n 'V74',\n 'V75',\n 'V76_1',\n 'V76_2',\n 'V77',\n 'V78_1',\n 'V78_2',\n 'T15',\n 'V79',\n 'V80',\n 'V81',\n 'V82',\n 'V83',\n 'V84',\n 'V85',\n 'T16',\n 'V86',\n 'V87',\n 'V88',\n 'V89',\n 'V90',\n 'T17',\n 'V91',\n 'V93_1',\n 'V94_1',\n 'V95_1',\n 'V95_1_flag',\n 'V93_2',\n 'V94_2',\n 'V95_2',\n 'V95_2_flag',\n 'V93_3',\n 'V94_3',\n 'V95_3',\n 'V95_3_flag',\n 'V93_4',\n 'V94_4',\n 'V95_4',\n 'V95_4_flag',\n 'V93_5',\n 'V94_5',\n 'V95_5',\n 'V93_6',\n 'V94_6',\n 'V95_6',\n 'V95_6_flag',\n 'V93_7',\n 'V94_7',\n 'V95_7',\n 'V93_8',\n 'V94_8',\n 'V95_8',\n 'T18',\n 'V96',\n 'V97',\n 'V98',\n 'T21',\n 'V99',\n 'T22',\n 'V100',\n 'V100_flag',\n 'V101',\n 'V102',\n 'T23',\n 'V103_1',\n 'V103_2',\n 'V103_3',\n 'V103_4',\n 'V103_5',\n 'V103_6',\n 'V103_7',\n 'v104',\n 'v105',\n 'v106',\n 'T25',\n 'V107',\n 'V108_1',\n 'V108_2',\n 'V108WN',\n 'V108NUL',\n 'T26',\n 'V109',\n 'V110',\n 'V111',\n 'T27',\n 'V112_1',\n 'V112_2',\n 'V112_3',\n 'V112_4',\n 'V112_5',\n 'V112_6',\n 'V112_7',\n 'V112_8',\n 'V112_9',\n 'V112_10',\n 'V112_11',\n 'V112_12',\n 'V112_13',\n 'V112_14',\n 'V112_15',\n 'V112_16',\n 'V112_17',\n 'V112_18',\n 'V112_19',\n 'V112_20',\n 'V112_21',\n 'V112_22',\n 'V112_23',\n 'V112_24',\n 'V113',\n 'V114_1',\n 'V114_2',\n 'V114_3',\n 'V115_1',\n 'V115_2',\n 'V115_3',\n 'V116',\n 'T29',\n 'V117',\n 'V118',\n 'V119',\n 'T30',\n 'V120',\n 'V121_1',\n 'V121_2',\n 'V121_3',\n 'V121_4',\n 'V121_5',\n 'V121_6',\n 'V121_7',\n 'V121_8',\n 'V121_9',\n 'V121_10',\n 'T31',\n 'V122_1',\n 'V122_2',\n 'V122_3',\n 'V122_4',\n 'V122_5',\n 'V122_6',\n 'V122_7',\n 'V122_8',\n 'V122_9',\n 'V122_10',\n 'V122_11',\n 'V122_12',\n 'V122_13',\n 'V122_14',\n 'V122_1or',\n 'V122_2or',\n 'V122_3or',\n 'V122_4or',\n 'V122_5or',\n 'V122_6or',\n 'V122_7or',\n 'V122_8or',\n 'V122_9or',\n 'V122_10or',\n 'V122_11or',\n 'V122_12or',\n 'V122_13or',\n 'V122_14or',\n 'T32',\n 'V123_1',\n 'V123_2',\n 'V123_3',\n 'V123_4',\n 'V123_5',\n 'V123_6',\n 'V123_7',\n 'V123_8',\n 'V123_9',\n 'V123_10',\n 'V123_11',\n 'V123_12',\n 'V123_13',\n 'V123_14',\n 'V123_15',\n 'T33',\n 'V124',\n 'V125',\n 'V126_1',\n 'V126_2',\n 'V126_3',\n 'V126_4',\n 'V126_5',\n 'V127',\n 'V128',\n 'V129',\n 'V130',\n 'V131',\n 'V132',\n 'V133',\n 'V134',\n 'V135',\n 'V136',\n 'V137_1',\n 'V137_2',\n 'V137_3',\n 'V137_4',\n 'V137_5',\n 'V137_6',\n 'V137_7',\n 'V137_8',\n 'V137_9',\n 'V137_10',\n 'V137_11',\n 'V137_12',\n 'V137_13',\n 'V137_14',\n 'V137_15',\n 'V137_16',\n 'V137_17',\n 'V137_18',\n 'V137_19',\n 'V137_20',\n 'V137_21',\n 'V137_22',\n 'V137_23',\n 'V138_1',\n 'V138_2',\n 'V138_3',\n 'V138_4',\n 'V138_5',\n 'V138_6',\n 'V139',\n 'V140_1',\n 'V140_2',\n 'V140_3',\n 'V140_4',\n 'V140_5',\n 'V140_6',\n 'V140_7',\n 'V140_8',\n 'V140_9',\n 'V140_10',\n 'V140_11',\n 'V141_1',\n 'V141_2',\n 'V141_3',\n 'V141_4',\n 'V141_5',\n 'V141_6',\n 'V141_7',\n 'V141_8',\n 'V141_9',\n 'V141_10',\n 'V141_11',\n 'V141_12',\n 'V142',\n 'V144_1',\n 'V144_1_flag',\n 'V144_2',\n 'V144_2_flag',\n 'V144_3',\n 'V144_3_flag',\n 'V144_4',\n 'V144_4_flag',\n 'T34',\n 'V145',\n 'V146',\n 'V147',\n 'V148',\n 'V149_1',\n 'V149_2',\n 'V149_3',\n 'V149_4',\n 'V149_5',\n 'T35',\n 'V150_1',\n 'V150_2',\n 'V150_3',\n 'V150_4',\n 'T36',\n 'V151',\n 'V152_1',\n 'V152_2',\n 'V152_3',\n 'V152_4',\n 'V153',\n 'V154_1',\n 'V154_2',\n 'V154_3',\n 'V154_4',\n 'V154_5',\n 'V154_6',\n 'V154_7',\n 'V154_8',\n 'V154_9',\n 'V154_10',\n 'V155',\n 'V156',\n 'T37',\n 'V157_1',\n 'V157_2',\n 'V157_3',\n 'V157_4',\n 'V157_5',\n 'V157_6',\n 'V157_7',\n 'V157_8',\n 'V157_9',\n 'V157_10',\n 'V157_11',\n 'V157_12',\n 'V157_13',\n 'V157_14',\n 'V158_1',\n 'V158_2',\n 'V158_3',\n 'V158_4',\n 'T39',\n 'V159',\n 'V160',\n 'V161',\n 'V162_1',\n 'V162_2',\n 'V162_3',\n 'V162_4',\n 'V162_5',\n 'V162_6',\n 'T40',\n 'V163',\n 'T41',\n 'V164_1',\n 'V164_2',\n 'V164_3',\n 'V164_4',\n 'V164_5',\n 'V164_6',\n 'V164_7',\n 'V164_8',\n 'V164_9',\n 'V164_10',\n 'V164_11',\n 'V164_12',\n 'V164_13',\n 'V164_14',\n 'V164_15',\n 'V164_16',\n 'V164_17',\n 'T42',\n 'V165_1',\n 'V165_3',\n 'V165_4',\n 'V165_5',\n 'V165_6',\n 'V165_10',\n 'V165_11',\n 'V165_12',\n 'V165_13',\n 'T43',\n 'V166_1',\n 'V166_2',\n 'V166_3',\n 'V166_4',\n 'V166_5',\n 'V166_6',\n 'V166_7',\n 'V166_8',\n 'V166_9',\n 'V166_10',\n 'V166_11',\n 'V166_12',\n 'V167',\n 'V168',\n 'V168_flag',\n 'T44',\n 'V169',\n 'V170_1',\n 'V170_2',\n 'V170_3',\n 'V170_4',\n 'V170_5',\n 'V171_1',\n 'V171_2',\n 'T45',\n 'T46',\n 'V176',\n 'V177',\n 'V178_1',\n 'V178_2',\n 'V178_3',\n 'V178_4',\n 'V178_5',\n 'V178_6',\n 'T47',\n 'V179_1_OR',\n 'V179_2_OR',\n 'V179_3_OR',\n 'V179_4_OR',\n 'V179_5_OR',\n 'V179_6_OR',\n 'V179_7_OR',\n 'V179_8_OR',\n 'V179_9_OR',\n 'V179_10_OR',\n 'V179_11_OR',\n 'V179_12_OR',\n 'V179_13_OR',\n 'V179_14_OR',\n 'V179_15_OR',\n 'V179_16_OR',\n 'V179_17_OR',\n 'V179_18_OR',\n 'V179_19_OR',\n 'V179_20_OR',\n 'V179_21_OR',\n 'V179_1',\n 'V179_2',\n 'V179_3',\n 'V179_4',\n 'V179_5',\n 'V179_6',\n 'V179_7',\n 'V179_8',\n 'V179_9',\n 'V179_10',\n 'V179_11',\n 'V179_12',\n 'V179_13',\n 'V179_14',\n 'V179_15',\n 'V179_16',\n 'V179_17',\n 'V179_18',\n 'V179_19',\n 'V179_20',\n 'V179_21',\n 'T48',\n 'V180_1',\n 'V180_2',\n 'V180_3',\n 'V180_4',\n 'V181_1',\n 'V181_2',\n 'V181_3',\n 'V181_4',\n 'V181_5',\n 'V181_6',\n 'V181_7',\n 'V181_8',\n 'V181_9',\n 'V181_10',\n 'V181_11',\n 'V181_12',\n 'V181_13',\n 'V181_14',\n 'V181_15',\n 'T50',\n 'T51',\n 'V186',\n 'V187_1_code',\n 'V187_2_code',\n 'V187_3_code',\n 'V187_4_code',\n 'V187_5_code',\n 'V187_6_code',\n 'V188_1',\n 'V188_2',\n 'V188_3',\n 'V188_4',\n 'V188_5',\n 'V188_6',\n 'V189_1',\n 'V189_2',\n 'V189_3',\n 'V189_4',\n 'V189_5',\n 'V189_6',\n 'V189_7',\n 'V189_8',\n 'V189_9',\n 'V189_10',\n 'V189_11',\n 'V189_12',\n 'V189_13',\n 'V189_14',\n 'V189_15',\n 'V189_16',\n 'V189_17',\n 'V189_18',\n 'V189_19',\n 'V189_20',\n 'V189_21',\n 'V189_22',\n 'V189_23',\n 'V189_24',\n 'V189_25',\n 'V189_26',\n 'V189_27',\n 'V189_28',\n 'V189_29',\n 'V189_30',\n 'V189_31',\n 'V189_32',\n 'V189_33',\n 'V189_34',\n 'V189_35',\n 'V138_36',\n 'V189_37',\n 'V189_38',\n 'V189_39',\n 'V189_40',\n 'V189_41',\n 'V189_42',\n 'T52',\n 'V190_1',\n 'V190_2',\n 'V190_3',\n 'V190_4',\n 'V190_5',\n 'V190_6',\n 'V190_7',\n 'V190_8',\n 'V190_9',\n 'V190_10',\n 'V191',\n 'V192_1',\n 'V192_2',\n 'V192_3',\n 'V192_4',\n 'V192_5',\n 'V192_6',\n 'V192_7',\n 'V192_8',\n 'V192_9',\n 'V193_1',\n 'V193_2',\n 'V193_3',\n 'V193_4',\n 'V193_5',\n 'V194_1',\n 'V194_2',\n 'V194_3',\n 'V194_4',\n 'V194_5',\n 'V194_6',\n 'T53',\n 'V195',\n 'T54',\n 'V196_1',\n 'V196_2',\n 'V196_3',\n 'V196_4',\n 'V196_5',\n 'V196_6',\n 'V196_7',\n 'V196_8',\n 'V196_9',\n 'V196_10',\n 'V196_11',\n 'T55',\n 'V197_1',\n 'V197_2',\n 'V197_3',\n 'V197_4',\n 'V197_5',\n 'V197_6',\n 'V197_7',\n 'V197_8',\n 'T56',\n 'V198',\n 'V200',\n 'T58',\n 'EINDUUR',\n 'EINDMIN',\n 'IR1',\n 'IR2_1',\n 'IR3_1',\n 'IR2_2',\n 'IR3_2',\n 'IR2_3',\n 'IR3_3',\n 'IR2_4',\n 'IR3_4',\n 'IR2_5',\n 'IR3_5',\n 'IR4',\n 'IR5',\n 'IR6',\n 'IR7',\n 'IR8',\n 'IR9',\n 'IR9b_1',\n 'IR9b_2',\n 'IR9b_3',\n 'IR9c',\n 'gezinstype',\n 'opleid16',\n 'opleid16N',\n 'opleid16_eak_oud',\n 'rsv',\n 'rsv2',\n 'urbanisatie',\n 'provincie',\n 'regio',\n 'leeftijd',\n 'lft_7kl',\n 'Belg',\n 'BS_RR',\n 'designgewicht',\n 'nonresponsgewicht',\n 'gewicht_na_stap2',\n 'poststratificatiegewest',\n 'gewicht_voor_poststratificatie_EAK',\n 'poststratificatieEAK',\n 'SCV_gewicht16',\n 'SCV_gewicht16_herschaald',\n 'stratum',\n 'cluster']"
     },
     "execution_count": 3,
     "metadata": {},
     "output_type": "execute_result"
    }
   ],
   "source": [
    "df.columns.tolist()"
   ]
  },
  {
   "cell_type": "code",
   "execution_count": 4,
   "metadata": {},
   "outputs": [],
   "source": [
    "geen = df[(df['V190_1'] == 1) & (df['V190_2'] == 1) & (df['V190_3'] == 1) & (df['V190_4'] == 1) & (df['V190_5'] == 1) & (df['V190_6'] == 1) & (df['V190_7'] == 1) & (df['V190_8'] == 1) & (df['V190_9'] == 1) & (df['V191'] == 1) & (df['V193_1'] == 1) & (df['V193_3'] == 1) & (df['V193_4'] == 1) & (df['V193_5'] == 1)]"
   ]
  },
  {
   "cell_type": "code",
   "execution_count": 5,
   "metadata": {},
   "outputs": [
    {
     "data": {
      "text/plain": "1422.0"
     },
     "execution_count": 5,
     "metadata": {},
     "output_type": "execute_result"
    }
   ],
   "source": [
    "len(df.index) - geen.SCV_gewicht16_herschaald.sum().round()"
   ]
  },
  {
   "cell_type": "code",
   "execution_count": 6,
   "metadata": {},
   "outputs": [],
   "source": [
    "none = [7, 8]"
   ]
  },
  {
   "cell_type": "code",
   "execution_count": 7,
   "metadata": {},
   "outputs": [
    {
     "data": {
      "text/html": "<div>\n<style scoped>\n    .dataframe tbody tr th:only-of-type {\n        vertical-align: middle;\n    }\n\n    .dataframe tbody tr th {\n        vertical-align: top;\n    }\n\n    .dataframe thead th {\n        text-align: right;\n    }\n</style>\n<table border=\"1\" class=\"dataframe\">\n  <thead>\n    <tr style=\"text-align: right;\">\n      <th></th>\n      <th>RESPNUM</th>\n      <th>INTNUM</th>\n      <th>INTTIME</th>\n      <th>STIME</th>\n      <th>duur_interview_uit_timers</th>\n      <th>duur_interview_uit_registratie_interviewer</th>\n      <th>VALID_DUURTIJD</th>\n      <th>T1</th>\n      <th>V1_1</th>\n      <th>v1_2</th>\n      <th>...</th>\n      <th>designgewicht</th>\n      <th>nonresponsgewicht</th>\n      <th>gewicht_na_stap2</th>\n      <th>poststratificatiegewest</th>\n      <th>gewicht_voor_poststratificatie_EAK</th>\n      <th>poststratificatieEAK</th>\n      <th>SCV_gewicht16</th>\n      <th>SCV_gewicht16_herschaald</th>\n      <th>stratum</th>\n      <th>cluster</th>\n    </tr>\n  </thead>\n  <tbody>\n  </tbody>\n</table>\n<p>0 rows × 743 columns</p>\n</div>",
      "text/plain": "Empty DataFrame\nColumns: [RESPNUM, INTNUM, INTTIME, STIME, duur_interview_uit_timers, duur_interview_uit_registratie_interviewer, VALID_DUURTIJD, T1, V1_1, v1_2, V2_1, V2_2, V3_2, V4, V5b, V6, V7b, V8, V9b, V10, V11b, V12, T2, V13, V14_1, V14_2, V15_1, V15_2, V16_1, V16_2, V17_1, V17_2, V18, T3, V19, V21, V22, V22_flag, V23, V23_flag, T4, V26, V27_1, V27_2, V28, V29_1, V29_2, V30, T5, V31_1, V31_2, V31_3, V31_4, V31_5, V31_6, V31_7, V31_8, V31_9, V31_10, V31_11, V31_12, V31_13, T6, V32, V32_flag, V32CH, T6b, V33, V34_1, V34_2, V35, V36, V37, V38, V39_1, V39_2, V40, V41_1, V41_2, V42, T7, V43, T8, V44, V44_flag, V45, V46, V47, V48, V49, V50, V51, V51_flag, V52, T9, V52_1, V52_2, V52_3, V52_4, T10, ...]\nIndex: []\n\n[0 rows x 743 columns]"
     },
     "execution_count": 7,
     "metadata": {},
     "output_type": "execute_result"
    }
   ],
   "source": [
    "df[(df['V190_1'].isin(none)) & (df['V190_2'].isin(none)) & (df['V190_3'].isin(none)) & (df['V190_4'].isin(none)) & (df['V190_5'].isin(none)) & (df['V190_6'].isin(none)) & (df['V190_7'].isin(none)) & (df['V190_8'].isin(none)) & (df['V190_9'].isin(none)) & (df['V191'].isin(none)) & (df['V193_1'].isin(none)) & (df['V193_3'].isin(none)) & (df['V193_4'].isin(none)) & (df['V193_5'].isin(none))]"
   ]
  },
  {
   "cell_type": "code",
   "execution_count": 8,
   "metadata": {},
   "outputs": [],
   "source": [
    "opties = [2, 3, 4]"
   ]
  },
  {
   "cell_type": "code",
   "execution_count": 9,
   "metadata": {},
   "outputs": [
    {
     "data": {
      "text/plain": "204.0"
     },
     "execution_count": 9,
     "metadata": {},
     "output_type": "execute_result"
    }
   ],
   "source": [
    "df[(((df.V8 == 2) | (df.V10 == 2)) | (df.V6 == 2) | (df.V4 == 2)) & (df.V190_1 == 1)].SCV_gewicht16_herschaald.sum().round()"
   ]
  },
  {
   "cell_type": "code",
   "execution_count": 10,
   "metadata": {},
   "outputs": [
    {
     "data": {
      "text/plain": "28.0"
     },
     "execution_count": 10,
     "metadata": {},
     "output_type": "execute_result"
    }
   ],
   "source": [
    "df[(((df.V8 == 2) | (df.V10 == 2)) | (df.V6 == 2) | (df.V4 == 2)) & df.V190_1.isin(opties)].SCV_gewicht16_herschaald.sum().round()"
   ]
  },
  {
   "cell_type": "code",
   "execution_count": 11,
   "metadata": {},
   "outputs": [
    {
     "data": {
      "text/plain": "1122.0"
     },
     "execution_count": 11,
     "metadata": {},
     "output_type": "execute_result"
    }
   ],
   "source": [
    "df[(((df.V8 == 1) & (df.V10 == 1)) & (df.V4 == 1)) & (df.V190_1 == 1)].SCV_gewicht16_herschaald.sum().round()"
   ]
  },
  {
   "cell_type": "code",
   "execution_count": 12,
   "metadata": {},
   "outputs": [
    {
     "data": {
      "text/plain": "94.0"
     },
     "execution_count": 12,
     "metadata": {},
     "output_type": "execute_result"
    }
   ],
   "source": [
    "df[((df.V8 == 1) & (df.V10 == 1)) & df.V190_1.isin(opties)].SCV_gewicht16_herschaald.sum().round()"
   ]
  },
  {
   "cell_type": "code",
   "execution_count": 13,
   "metadata": {},
   "outputs": [
    {
     "data": {
      "text/plain": "201.0"
     },
     "execution_count": 13,
     "metadata": {},
     "output_type": "execute_result"
    }
   ],
   "source": [
    "df[(((df.V8 == 2) | (df.V10 == 2)) | (df.V6 == 2) | (df.V4 == 2)) & (df.V190_2 == 1)].SCV_gewicht16_herschaald.sum().round()"
   ]
  },
  {
   "cell_type": "code",
   "execution_count": 14,
   "metadata": {},
   "outputs": [
    {
     "data": {
      "text/plain": "31.0"
     },
     "execution_count": 14,
     "metadata": {},
     "output_type": "execute_result"
    }
   ],
   "source": [
    "df[(((df.V8 == 2) | (df.V10 == 2)) | (df.V6 == 2) | (df.V4 == 2)) & df.V190_2.isin(opties)].SCV_gewicht16_herschaald.sum().round()"
   ]
  },
  {
   "cell_type": "code",
   "execution_count": 15,
   "metadata": {},
   "outputs": [
    {
     "data": {
      "text/plain": "1075.0"
     },
     "execution_count": 15,
     "metadata": {},
     "output_type": "execute_result"
    }
   ],
   "source": [
    "df[(((df.V8 == 1) & (df.V10 == 1)) & (df.V4 == 1)) & (df.V190_2 == 1)].SCV_gewicht16_herschaald.sum().round()"
   ]
  },
  {
   "cell_type": "code",
   "execution_count": 16,
   "metadata": {},
   "outputs": [
    {
     "data": {
      "text/plain": "141.0"
     },
     "execution_count": 16,
     "metadata": {},
     "output_type": "execute_result"
    }
   ],
   "source": [
    "df[(((df.V8 == 1) & (df.V10 == 1)) & (df.V4 == 1)) & df.V190_2.isin(opties)].SCV_gewicht16_herschaald.sum().round()"
   ]
  },
  {
   "cell_type": "code",
   "execution_count": 17,
   "metadata": {},
   "outputs": [
    {
     "data": {
      "text/plain": "209.0"
     },
     "execution_count": 17,
     "metadata": {},
     "output_type": "execute_result"
    }
   ],
   "source": [
    "df[(((df.V8 == 2) | (df.V10 == 2)) | (df.V6 == 2) | (df.V4 == 2)) & (df.V190_3 == 1)].SCV_gewicht16_herschaald.sum().round()"
   ]
  },
  {
   "cell_type": "code",
   "execution_count": 18,
   "metadata": {},
   "outputs": [
    {
     "data": {
      "text/plain": "22.0"
     },
     "execution_count": 18,
     "metadata": {},
     "output_type": "execute_result"
    }
   ],
   "source": [
    "df[(((df.V8 == 2) | (df.V10 == 2)) | (df.V6 == 2) | (df.V4 == 2)) & df.V190_3.isin(opties)].SCV_gewicht16_herschaald.sum().round()"
   ]
  },
  {
   "cell_type": "code",
   "execution_count": 19,
   "metadata": {},
   "outputs": [
    {
     "data": {
      "text/plain": "1049.0"
     },
     "execution_count": 19,
     "metadata": {},
     "output_type": "execute_result"
    }
   ],
   "source": [
    "df[(((df.V8 == 1) & (df.V10 == 1)) & (df.V4 == 1)) & (df.V190_3 == 1)].SCV_gewicht16_herschaald.sum().round()"
   ]
  },
  {
   "cell_type": "code",
   "execution_count": 20,
   "metadata": {},
   "outputs": [
    {
     "data": {
      "text/plain": "167.0"
     },
     "execution_count": 20,
     "metadata": {},
     "output_type": "execute_result"
    }
   ],
   "source": [
    "df[(((df.V8 == 1) & (df.V10 == 1)) & (df.V4 == 1)) & df.V190_3.isin(opties)].SCV_gewicht16_herschaald.sum().round()"
   ]
  },
  {
   "cell_type": "code",
   "execution_count": 21,
   "metadata": {},
   "outputs": [
    {
     "data": {
      "text/plain": "183.0"
     },
     "execution_count": 21,
     "metadata": {},
     "output_type": "execute_result"
    }
   ],
   "source": [
    "df[(((df.V8 == 2) | (df.V10 == 2)) | (df.V6 == 2) | (df.V4 == 2)) & (df.V190_4 == 1)].SCV_gewicht16_herschaald.sum().round()"
   ]
  },
  {
   "cell_type": "code",
   "execution_count": 22,
   "metadata": {},
   "outputs": [
    {
     "data": {
      "text/plain": "49.0"
     },
     "execution_count": 22,
     "metadata": {},
     "output_type": "execute_result"
    }
   ],
   "source": [
    "df[(((df.V8 == 2) | (df.V10 == 2)) | (df.V6 == 2) | (df.V4 == 2)) & df.V190_4.isin(opties)].SCV_gewicht16_herschaald.sum().round()"
   ]
  },
  {
   "cell_type": "code",
   "execution_count": 23,
   "metadata": {},
   "outputs": [
    {
     "data": {
      "text/plain": "896.0"
     },
     "execution_count": 23,
     "metadata": {},
     "output_type": "execute_result"
    }
   ],
   "source": [
    "df[(((df.V8 == 1) & (df.V10 == 1)) & (df.V4 == 1)) & (df.V190_4 == 1)].SCV_gewicht16_herschaald.sum().round()"
   ]
  },
  {
   "cell_type": "code",
   "execution_count": 24,
   "metadata": {},
   "outputs": [
    {
     "data": {
      "text/plain": "320.0"
     },
     "execution_count": 24,
     "metadata": {},
     "output_type": "execute_result"
    }
   ],
   "source": [
    "df[(((df.V8 == 1) & (df.V10 == 1)) & (df.V4 == 1)) & df.V190_4.isin(opties)].SCV_gewicht16_herschaald.sum().round()"
   ]
  },
  {
   "cell_type": "code",
   "execution_count": 25,
   "metadata": {},
   "outputs": [
    {
     "data": {
      "text/plain": "199.0"
     },
     "execution_count": 25,
     "metadata": {},
     "output_type": "execute_result"
    }
   ],
   "source": [
    "df[(((df.V8 == 2) | (df.V10 == 2)) | (df.V6 == 2) | (df.V4 == 2)) & (df.V190_5 == 1)].SCV_gewicht16_herschaald.sum().round()"
   ]
  },
  {
   "cell_type": "code",
   "execution_count": 26,
   "metadata": {},
   "outputs": [
    {
     "data": {
      "text/plain": "33.0"
     },
     "execution_count": 26,
     "metadata": {},
     "output_type": "execute_result"
    }
   ],
   "source": [
    "df[(((df.V8 == 2) | (df.V10 == 2)) | (df.V6 == 2) | (df.V4 == 2)) & df.V190_5.isin(opties)].SCV_gewicht16_herschaald.sum().round()"
   ]
  },
  {
   "cell_type": "code",
   "execution_count": 27,
   "metadata": {},
   "outputs": [
    {
     "data": {
      "text/plain": "803.0"
     },
     "execution_count": 27,
     "metadata": {},
     "output_type": "execute_result"
    }
   ],
   "source": [
    "df[(((df.V8 == 1) & (df.V10 == 1)) & (df.V4 == 1)) & (df.V190_5 == 1)].SCV_gewicht16_herschaald.sum().round()"
   ]
  },
  {
   "cell_type": "code",
   "execution_count": 28,
   "metadata": {},
   "outputs": [
    {
     "data": {
      "text/plain": "413.0"
     },
     "execution_count": 28,
     "metadata": {},
     "output_type": "execute_result"
    }
   ],
   "source": [
    "df[(((df.V8 == 1) & (df.V10 == 1)) & (df.V4 == 1)) & df.V190_5.isin(opties)].SCV_gewicht16_herschaald.sum().round()"
   ]
  },
  {
   "cell_type": "code",
   "execution_count": 29,
   "metadata": {},
   "outputs": [
    {
     "data": {
      "text/plain": "202.0"
     },
     "execution_count": 29,
     "metadata": {},
     "output_type": "execute_result"
    }
   ],
   "source": [
    "df[(((df.V8 == 2) | (df.V10 == 2)) | (df.V6 == 2) | (df.V4 == 2)) & (df.V190_6 == 1)].SCV_gewicht16_herschaald.sum().round()"
   ]
  },
  {
   "cell_type": "code",
   "execution_count": 30,
   "metadata": {},
   "outputs": [
    {
     "data": {
      "text/plain": "30.0"
     },
     "execution_count": 30,
     "metadata": {},
     "output_type": "execute_result"
    }
   ],
   "source": [
    "df[(((df.V8 == 2) | (df.V10 == 2)) | (df.V6 == 2) | (df.V4 == 2)) & df.V190_6.isin(opties)].SCV_gewicht16_herschaald.sum().round()"
   ]
  },
  {
   "cell_type": "code",
   "execution_count": 31,
   "metadata": {},
   "outputs": [
    {
     "data": {
      "text/plain": "1093.0"
     },
     "execution_count": 31,
     "metadata": {},
     "output_type": "execute_result"
    }
   ],
   "source": [
    "df[(((df.V8 == 1) & (df.V10 == 1)) & (df.V4 == 1)) & (df.V190_6 == 1)].SCV_gewicht16_herschaald.sum().round()"
   ]
  },
  {
   "cell_type": "code",
   "execution_count": 32,
   "metadata": {},
   "outputs": [
    {
     "data": {
      "text/plain": "123.0"
     },
     "execution_count": 32,
     "metadata": {},
     "output_type": "execute_result"
    }
   ],
   "source": [
    "df[(((df.V8 == 1) & (df.V10 == 1)) & (df.V4 == 1)) & df.V190_6.isin(opties)].SCV_gewicht16_herschaald.sum().round()"
   ]
  },
  {
   "cell_type": "code",
   "execution_count": 33,
   "metadata": {},
   "outputs": [
    {
     "data": {
      "text/plain": "193.0"
     },
     "execution_count": 33,
     "metadata": {},
     "output_type": "execute_result"
    }
   ],
   "source": [
    "df[(((df.V8 == 2) | (df.V10 == 2)) | (df.V6 == 2) | (df.V4 == 2)) & (df.V190_7 == 1)].SCV_gewicht16_herschaald.sum().round()"
   ]
  },
  {
   "cell_type": "code",
   "execution_count": 34,
   "metadata": {},
   "outputs": [
    {
     "data": {
      "text/plain": "39.0"
     },
     "execution_count": 34,
     "metadata": {},
     "output_type": "execute_result"
    }
   ],
   "source": [
    "df[(((df.V8 == 2) | (df.V10 == 2)) | (df.V6 == 2) | (df.V4 == 2)) & df.V190_7.isin(opties)].SCV_gewicht16_herschaald.sum().round()"
   ]
  },
  {
   "cell_type": "code",
   "execution_count": 35,
   "metadata": {},
   "outputs": [
    {
     "data": {
      "text/plain": "1049.0"
     },
     "execution_count": 35,
     "metadata": {},
     "output_type": "execute_result"
    }
   ],
   "source": [
    "df[(((df.V8 == 1) & (df.V10 == 1)) & (df.V4 == 1 )) & (df.V190_7 == 1)].SCV_gewicht16_herschaald.sum().round()"
   ]
  },
  {
   "cell_type": "code",
   "execution_count": 36,
   "metadata": {},
   "outputs": [
    {
     "data": {
      "text/plain": "167.0"
     },
     "execution_count": 36,
     "metadata": {},
     "output_type": "execute_result"
    }
   ],
   "source": [
    "df[(((df.V8 == 1) & (df.V10 == 1)) & (df.V4 == 1)) & df.V190_7.isin(opties)].SCV_gewicht16_herschaald.sum().round()"
   ]
  },
  {
   "cell_type": "code",
   "execution_count": 37,
   "metadata": {},
   "outputs": [
    {
     "data": {
      "text/plain": "202.0"
     },
     "execution_count": 37,
     "metadata": {},
     "output_type": "execute_result"
    }
   ],
   "source": [
    "df[(((df.V8 == 2) | (df.V10 == 2)) | (df.V6 == 2) | (df.V4 == 2)) & (df.V190_8 == 1)].SCV_gewicht16_herschaald.sum().round()"
   ]
  },
  {
   "cell_type": "code",
   "execution_count": 38,
   "metadata": {},
   "outputs": [
    {
     "data": {
      "text/plain": "29.0"
     },
     "execution_count": 38,
     "metadata": {},
     "output_type": "execute_result"
    }
   ],
   "source": [
    "df[(((df.V8 == 2) | (df.V10 == 2)) | (df.V6 == 2) | (df.V4 == 2)) & df.V190_8.isin(opties)].SCV_gewicht16_herschaald.sum().round()"
   ]
  },
  {
   "cell_type": "code",
   "execution_count": 39,
   "metadata": {},
   "outputs": [
    {
     "data": {
      "text/plain": "960.0"
     },
     "execution_count": 39,
     "metadata": {},
     "output_type": "execute_result"
    }
   ],
   "source": [
    "df[(((df.V8 == 1) & (df.V10 == 1)) & (df.V4 == 1)) & (df.V190_8 == 1)].SCV_gewicht16_herschaald.sum().round()"
   ]
  },
  {
   "cell_type": "code",
   "execution_count": 40,
   "metadata": {},
   "outputs": [
    {
     "data": {
      "text/plain": "256.0"
     },
     "execution_count": 40,
     "metadata": {},
     "output_type": "execute_result"
    }
   ],
   "source": [
    "df[(((df.V8 == 1) & (df.V10 == 1)) & (df.V4 == 1)) & df.V190_8.isin(opties)].SCV_gewicht16_herschaald.sum().round()"
   ]
  },
  {
   "cell_type": "code",
   "execution_count": 41,
   "metadata": {},
   "outputs": [
    {
     "data": {
      "text/plain": "76.0"
     },
     "execution_count": 41,
     "metadata": {},
     "output_type": "execute_result"
    }
   ],
   "source": [
    "df[(((df.V8 == 2) | (df.V10 == 2)) | (df.V6 == 2) | (df.V4 == 2)) & (df.V190_9 == 1)].SCV_gewicht16_herschaald.sum().round()"
   ]
  },
  {
   "cell_type": "code",
   "execution_count": 42,
   "metadata": {},
   "outputs": [
    {
     "data": {
      "text/plain": "156.0"
     },
     "execution_count": 42,
     "metadata": {},
     "output_type": "execute_result"
    }
   ],
   "source": [
    "df[(((df.V8 == 2) | (df.V10 == 2)) | (df.V6 == 2) | (df.V4 == 2)) & df.V190_9.isin(opties)].SCV_gewicht16_herschaald.sum().round()"
   ]
  },
  {
   "cell_type": "code",
   "execution_count": 43,
   "metadata": {},
   "outputs": [
    {
     "data": {
      "text/plain": "513.0"
     },
     "execution_count": 43,
     "metadata": {},
     "output_type": "execute_result"
    }
   ],
   "source": [
    "df[(((df.V8 == 1) & (df.V10 == 1)) & (df.V4 == 1)) & (df.V190_9 == 1)].SCV_gewicht16_herschaald.sum().round()"
   ]
  },
  {
   "cell_type": "code",
   "execution_count": 44,
   "metadata": {},
   "outputs": [
    {
     "data": {
      "text/plain": "704.0"
     },
     "execution_count": 44,
     "metadata": {},
     "output_type": "execute_result"
    }
   ],
   "source": [
    "df[(((df.V8 == 1) & (df.V10 == 1)) & (df.V4 == 1)) & df.V190_9.isin(opties)].SCV_gewicht16_herschaald.sum().round()"
   ]
  },
  {
   "cell_type": "code",
   "execution_count": 45,
   "metadata": {},
   "outputs": [
    {
     "data": {
      "text/plain": "80.0"
     },
     "execution_count": 45,
     "metadata": {},
     "output_type": "execute_result"
    }
   ],
   "source": [
    "df[(((df.V8 == 2) | (df.V10 == 2)) | (df.V6 == 2)| (df.V4 == 2)) & (df.V191 == 1)].SCV_gewicht16_herschaald.sum().round()"
   ]
  },
  {
   "cell_type": "code",
   "execution_count": 46,
   "metadata": {},
   "outputs": [
    {
     "data": {
      "text/plain": "152.0"
     },
     "execution_count": 46,
     "metadata": {},
     "output_type": "execute_result"
    }
   ],
   "source": [
    "df[(((df.V8 == 2) | (df.V10 == 2)) | (df.V6 == 2) | (df.V4 == 2)) & df.V191.isin(opties)].SCV_gewicht16_herschaald.sum().round()"
   ]
  },
  {
   "cell_type": "code",
   "execution_count": 47,
   "metadata": {},
   "outputs": [
    {
     "data": {
      "text/plain": "493.0"
     },
     "execution_count": 47,
     "metadata": {},
     "output_type": "execute_result"
    }
   ],
   "source": [
    "df[(((df.V8 == 1) & (df.V10 == 1)) & (df.V4 == 1)) & (df.V191 == 1)].SCV_gewicht16_herschaald.sum().round()"
   ]
  },
  {
   "cell_type": "code",
   "execution_count": 48,
   "metadata": {},
   "outputs": [
    {
     "data": {
      "text/plain": "722.0"
     },
     "execution_count": 48,
     "metadata": {},
     "output_type": "execute_result"
    }
   ],
   "source": [
    "df[(((df.V8 == 1) & (df.V10 == 1)) & (df.V4 == 1)) & df.V191.isin(opties)].SCV_gewicht16_herschaald.sum().round()"
   ]
  },
  {
   "cell_type": "code",
   "execution_count": 49,
   "metadata": {},
   "outputs": [
    {
     "data": {
      "text/plain": "132.0"
     },
     "execution_count": 49,
     "metadata": {},
     "output_type": "execute_result"
    }
   ],
   "source": [
    "df[(((df.V8 == 2) | (df.V10 == 2)) | (df.V6 == 2) | (df.V4 == 2)) & (df.V193_1 == 1)].SCV_gewicht16_herschaald.sum().round()"
   ]
  },
  {
   "cell_type": "code",
   "execution_count": 50,
   "metadata": {},
   "outputs": [
    {
     "data": {
      "text/plain": "100.0"
     },
     "execution_count": 50,
     "metadata": {},
     "output_type": "execute_result"
    }
   ],
   "source": [
    "df[(((df.V8 == 2) | (df.V10 == 2)) | (df.V6 == 2) | (df.V4 == 2)) & df.V193_1.isin(opties)].SCV_gewicht16_herschaald.sum().round()"
   ]
  },
  {
   "cell_type": "code",
   "execution_count": 51,
   "metadata": {},
   "outputs": [
    {
     "data": {
      "text/plain": "685.0"
     },
     "execution_count": 51,
     "metadata": {},
     "output_type": "execute_result"
    }
   ],
   "source": [
    "df[(((df.V8 == 1) & (df.V10 == 1)) & (df.V4 == 1 )) & (df.V193_1 == 1)].SCV_gewicht16_herschaald.sum().round()"
   ]
  },
  {
   "cell_type": "code",
   "execution_count": 52,
   "metadata": {},
   "outputs": [
    {
     "data": {
      "text/plain": "530.0"
     },
     "execution_count": 52,
     "metadata": {},
     "output_type": "execute_result"
    }
   ],
   "source": [
    "df[(((df.V8 == 1) & (df.V10 == 1)) & (df.V4 == 1 )) & df.V193_1.isin(opties)].SCV_gewicht16_herschaald.sum().round()"
   ]
  },
  {
   "cell_type": "code",
   "execution_count": 53,
   "metadata": {},
   "outputs": [
    {
     "data": {
      "text/plain": "114.0"
     },
     "execution_count": 53,
     "metadata": {},
     "output_type": "execute_result"
    }
   ],
   "source": [
    "df[(((df.V8 == 2) | (df.V10 == 2)) | (df.V6 == 2) | (df.V4 == 2)) & (df.V193_3 == 1)].SCV_gewicht16_herschaald.sum().round()"
   ]
  },
  {
   "cell_type": "code",
   "execution_count": 54,
   "metadata": {},
   "outputs": [
    {
     "data": {
      "text/plain": "118.0"
     },
     "execution_count": 54,
     "metadata": {},
     "output_type": "execute_result"
    }
   ],
   "source": [
    "df[(((df.V8 == 2) | (df.V10 == 2)) | (df.V6 == 2) | (df.V4 == 2)) & df.V193_3.isin(opties)].SCV_gewicht16_herschaald.sum().round()"
   ]
  },
  {
   "cell_type": "code",
   "execution_count": 55,
   "metadata": {},
   "outputs": [
    {
     "data": {
      "text/plain": "549.0"
     },
     "execution_count": 55,
     "metadata": {},
     "output_type": "execute_result"
    }
   ],
   "source": [
    "df[(((df.V8 == 1) & (df.V10 == 1)) & (df.V4 == 1)) & (df.V193_3 == 1)].SCV_gewicht16_herschaald.sum().round()"
   ]
  },
  {
   "cell_type": "code",
   "execution_count": 56,
   "metadata": {},
   "outputs": [
    {
     "data": {
      "text/plain": "667.0"
     },
     "execution_count": 56,
     "metadata": {},
     "output_type": "execute_result"
    }
   ],
   "source": [
    "df[(((df.V8 == 1) & (df.V10 == 1)) & (df.V4 == 1)) & df.V193_3.isin(opties)].SCV_gewicht16_herschaald.sum().round()"
   ]
  },
  {
   "cell_type": "code",
   "execution_count": 57,
   "metadata": {},
   "outputs": [
    {
     "data": {
      "text/plain": "183.0"
     },
     "execution_count": 57,
     "metadata": {},
     "output_type": "execute_result"
    }
   ],
   "source": [
    "df[(((df.V8 == 2) | (df.V10 == 2)) | (df.V6 == 2) | (df.V4 == 2)) & (df.V193_4 == 1)].SCV_gewicht16_herschaald.sum().round()"
   ]
  },
  {
   "cell_type": "code",
   "execution_count": 58,
   "metadata": {},
   "outputs": [
    {
     "data": {
      "text/plain": "48.0"
     },
     "execution_count": 58,
     "metadata": {},
     "output_type": "execute_result"
    }
   ],
   "source": [
    "df[(((df.V8 == 2) | (df.V10 == 2)) | (df.V6 == 2) | (df.V4 == 2)) & df.V193_4.isin(opties)].SCV_gewicht16_herschaald.sum().round()"
   ]
  },
  {
   "cell_type": "code",
   "execution_count": 59,
   "metadata": {},
   "outputs": [
    {
     "data": {
      "text/plain": "964.0"
     },
     "execution_count": 59,
     "metadata": {},
     "output_type": "execute_result"
    }
   ],
   "source": [
    "df[(((df.V8 == 1) & (df.V10 == 1)) & (df.V4 == 1)) & (df.V193_4 == 1)].SCV_gewicht16_herschaald.sum().round()"
   ]
  },
  {
   "cell_type": "code",
   "execution_count": 60,
   "metadata": {},
   "outputs": [
    {
     "data": {
      "text/plain": "253.0"
     },
     "execution_count": 60,
     "metadata": {},
     "output_type": "execute_result"
    }
   ],
   "source": [
    "df[(((df.V8 == 1) & (df.V10 == 1)) & (df.V4 == 1)) & df.V193_4.isin(opties)].SCV_gewicht16_herschaald.sum().round()"
   ]
  },
  {
   "cell_type": "code",
   "execution_count": 61,
   "metadata": {},
   "outputs": [
    {
     "data": {
      "text/plain": "214.0"
     },
     "execution_count": 61,
     "metadata": {},
     "output_type": "execute_result"
    }
   ],
   "source": [
    "df[(((df.V8 == 2) | (df.V10 == 2)) | (df.V6 == 2) | (df.V4 == 2)) & (df.V193_5 == 1)].SCV_gewicht16_herschaald.sum().round()"
   ]
  },
  {
   "cell_type": "code",
   "execution_count": 62,
   "metadata": {},
   "outputs": [
    {
     "data": {
      "text/plain": "18.0"
     },
     "execution_count": 62,
     "metadata": {},
     "output_type": "execute_result"
    }
   ],
   "source": [
    "df[(((df.V8 == 2) | (df.V10 == 2)) | (df.V6 == 2) | (df.V4 == 2)) & (df.V193_5.isin(opties))].SCV_gewicht16_herschaald.sum().round()"
   ]
  },
  {
   "cell_type": "code",
   "execution_count": 63,
   "metadata": {},
   "outputs": [
    {
     "data": {
      "text/plain": "1064.0"
     },
     "execution_count": 63,
     "metadata": {},
     "output_type": "execute_result"
    }
   ],
   "source": [
    "df[(((df.V8 == 1) & (df.V10 == 1)) & (df.V4 == 1)) & (df.V193_5 == 1)].SCV_gewicht16_herschaald.sum().round()"
   ]
  },
  {
   "cell_type": "code",
   "execution_count": 64,
   "metadata": {},
   "outputs": [
    {
     "data": {
      "text/plain": "153.0"
     },
     "execution_count": 64,
     "metadata": {},
     "output_type": "execute_result"
    }
   ],
   "source": [
    "df[(((df.V8 == 1) & (df.V10 == 1)) & (df.V4 == 1)) & df.V193_5.isin(opties)].SCV_gewicht16_herschaald.sum().round()"
   ]
  },
  {
   "cell_type": "code",
   "execution_count": 65,
   "metadata": {},
   "outputs": [
    {
     "data": {
      "text/html": "<div>\n<style scoped>\n    .dataframe tbody tr th:only-of-type {\n        vertical-align: middle;\n    }\n\n    .dataframe tbody tr th {\n        vertical-align: top;\n    }\n\n    .dataframe thead th {\n        text-align: right;\n    }\n</style>\n<table border=\"1\" class=\"dataframe\">\n  <thead>\n    <tr style=\"text-align: right;\">\n      <th></th>\n      <th>RESPNUM</th>\n      <th>INTNUM</th>\n      <th>INTTIME</th>\n      <th>STIME</th>\n      <th>duur_interview_uit_timers</th>\n      <th>duur_interview_uit_registratie_interviewer</th>\n      <th>VALID_DUURTIJD</th>\n      <th>T1</th>\n      <th>V1_1</th>\n      <th>v1_2</th>\n      <th>...</th>\n      <th>designgewicht</th>\n      <th>nonresponsgewicht</th>\n      <th>gewicht_na_stap2</th>\n      <th>poststratificatiegewest</th>\n      <th>gewicht_voor_poststratificatie_EAK</th>\n      <th>poststratificatieEAK</th>\n      <th>SCV_gewicht16</th>\n      <th>SCV_gewicht16_herschaald</th>\n      <th>stratum</th>\n      <th>cluster</th>\n    </tr>\n  </thead>\n  <tbody>\n    <tr>\n      <th>1091</th>\n      <td>42414.0</td>\n      <td>32694.0</td>\n      <td>3943</td>\n      <td>1.368277e+10</td>\n      <td>64.0</td>\n      <td>56.0</td>\n      <td>1.0</td>\n      <td>1.368277e+10</td>\n      <td>16.0</td>\n      <td>5.0</td>\n      <td>...</td>\n      <td>2234.962757</td>\n      <td>1.874240</td>\n      <td>4188.856492</td>\n      <td>0.999505</td>\n      <td>4186.783032</td>\n      <td>1.012792</td>\n      <td>4240.339535</td>\n      <td>1.156569</td>\n      <td>4.0</td>\n      <td>99.0</td>\n    </tr>\n    <tr>\n      <th>1305</th>\n      <td>51814.0</td>\n      <td>46032.0</td>\n      <td>03596</td>\n      <td>1.368486e+10</td>\n      <td>58.0</td>\n      <td>57.0</td>\n      <td>1.0</td>\n      <td>1.368486e+10</td>\n      <td>9.0</td>\n      <td>6.0</td>\n      <td>...</td>\n      <td>2234.962757</td>\n      <td>2.390203</td>\n      <td>5342.015539</td>\n      <td>0.999505</td>\n      <td>5339.371272</td>\n      <td>1.032481</td>\n      <td>5512.801293</td>\n      <td>1.503637</td>\n      <td>5.0</td>\n      <td>132.0</td>\n    </tr>\n  </tbody>\n</table>\n<p>2 rows × 743 columns</p>\n</div>",
      "text/plain": "      RESPNUM   INTNUM INTTIME         STIME  duur_interview_uit_timers  \\\n1091  42414.0  32694.0    3943  1.368277e+10                       64.0   \n1305  51814.0  46032.0   03596  1.368486e+10                       58.0   \n\n      duur_interview_uit_registratie_interviewer  VALID_DUURTIJD  \\\n1091                                        56.0             1.0   \n1305                                        57.0             1.0   \n\n                T1  V1_1  v1_2  ...  designgewicht  nonresponsgewicht  \\\n1091  1.368277e+10  16.0   5.0  ...    2234.962757           1.874240   \n1305  1.368486e+10   9.0   6.0  ...    2234.962757           2.390203   \n\n      gewicht_na_stap2  poststratificatiegewest  \\\n1091       4188.856492                 0.999505   \n1305       5342.015539                 0.999505   \n\n      gewicht_voor_poststratificatie_EAK  poststratificatieEAK  SCV_gewicht16  \\\n1091                         4186.783032              1.012792    4240.339535   \n1305                         5339.371272              1.032481    5512.801293   \n\n      SCV_gewicht16_herschaald  stratum  cluster  \n1091                  1.156569      4.0     99.0  \n1305                  1.503637      5.0    132.0  \n\n[2 rows x 743 columns]"
     },
     "execution_count": 65,
     "metadata": {},
     "output_type": "execute_result"
    }
   ],
   "source": [
    "df[((df.V8 == 1) & (df.V10 == 1)) & (df.V4 != 1)]"
   ]
  },
  {
   "cell_type": "code",
   "execution_count": 66,
   "metadata": {},
   "outputs": [
    {
     "data": {
      "text/plain": "2.0     35\n3.0     26\n4.0     22\n1.0     17\n77.0     8\n6.0      7\n10.0     6\n7.0      3\n5.0      3\n88.0     2\n12.0     1\n9.0      1\n8.0      1\n18.0     1\n16.0     1\nName: V168, dtype: int64"
     },
     "execution_count": 66,
     "metadata": {},
     "output_type": "execute_result"
    }
   ],
   "source": [
    "df[df['V190_1'].isin(opties)].V168.value_counts()"
   ]
  },
  {
   "cell_type": "code",
   "execution_count": 85,
   "metadata": {},
   "outputs": [
    {
     "data": {
      "text/plain": "122.0"
     },
     "execution_count": 85,
     "metadata": {},
     "output_type": "execute_result"
    }
   ],
   "source": [
    "df[df['V190_1'].isin(opties)].SCV_gewicht16_herschaald.sum().round()"
   ]
  },
  {
   "cell_type": "code",
   "execution_count": 86,
   "metadata": {},
   "outputs": [
    {
     "data": {
      "text/plain": "28.0"
     },
     "execution_count": 86,
     "metadata": {},
     "output_type": "execute_result"
    }
   ],
   "source": [
    "df[(df['V190_1'].isin(opties)) & (df.V168 == 2.0)].SCV_gewicht16_herschaald.sum().round()"
   ]
  },
  {
   "cell_type": "code",
   "execution_count": 87,
   "metadata": {},
   "outputs": [
    {
     "data": {
      "text/plain": "25.0"
     },
     "execution_count": 87,
     "metadata": {},
     "output_type": "execute_result"
    }
   ],
   "source": [
    "df[(df['V190_1'].isin(opties)) & (df.V168 == 3.0)].SCV_gewicht16_herschaald.sum().round()"
   ]
  },
  {
   "cell_type": "code",
   "execution_count": 88,
   "metadata": {},
   "outputs": [
    {
     "data": {
      "text/plain": "22.0"
     },
     "execution_count": 88,
     "metadata": {},
     "output_type": "execute_result"
    }
   ],
   "source": [
    "df[(df['V190_1'].isin(opties)) & (df.V168 == 4.0)].SCV_gewicht16_herschaald.sum().round()"
   ]
  },
  {
   "cell_type": "code",
   "execution_count": 89,
   "metadata": {},
   "outputs": [
    {
     "data": {
      "text/plain": "3.0"
     },
     "execution_count": 89,
     "metadata": {},
     "output_type": "execute_result"
    }
   ],
   "source": [
    "df[(df['V190_1'].isin(opties)) & (df.V168 == 7.0)].SCV_gewicht16_herschaald.sum().round()"
   ]
  },
  {
   "cell_type": "code",
   "execution_count": 164,
   "metadata": {},
   "outputs": [
    {
     "data": {
      "text/plain": "16.0"
     },
     "execution_count": 164,
     "metadata": {},
     "output_type": "execute_result"
    }
   ],
   "source": [
    "df[(df['V190_1'].isin(opties)) & (df.V168 == 1.0)].SCV_gewicht16_herschaald.sum().round()"
   ]
  },
  {
   "cell_type": "code",
   "execution_count": 165,
   "metadata": {},
   "outputs": [
    {
     "data": {
      "text/plain": "4.0"
     },
     "execution_count": 165,
     "metadata": {},
     "output_type": "execute_result"
    }
   ],
   "source": [
    "df[(df['V190_1'].isin(opties)) & (df.V168 == 5.0)].SCV_gewicht16_herschaald.sum().round()"
   ]
  },
  {
   "cell_type": "code",
   "execution_count": 166,
   "metadata": {},
   "outputs": [
    {
     "data": {
      "text/plain": "6.0"
     },
     "execution_count": 166,
     "metadata": {},
     "output_type": "execute_result"
    }
   ],
   "source": [
    "df[(df['V190_1'].isin(opties)) & (df.V168 == 6.0)].SCV_gewicht16_herschaald.sum().round()"
   ]
  },
  {
   "cell_type": "code",
   "execution_count": 67,
   "metadata": {},
   "outputs": [
    {
     "data": {
      "text/plain": "3.0     50\n2.0     42\n4.0     23\n1.0     21\n6.0     12\n77.0    10\n5.0      9\n10.0     6\n7.0      5\n9.0      4\n88.0     2\n8.0      1\nName: V168, dtype: int64"
     },
     "execution_count": 67,
     "metadata": {},
     "output_type": "execute_result"
    }
   ],
   "source": [
    "df[df['V190_2'].isin(opties)].V168.value_counts()"
   ]
  },
  {
   "cell_type": "code",
   "execution_count": 90,
   "metadata": {},
   "outputs": [
    {
     "data": {
      "text/plain": "173.0"
     },
     "execution_count": 90,
     "metadata": {},
     "output_type": "execute_result"
    }
   ],
   "source": [
    "df[df['V190_2'].isin(opties)].SCV_gewicht16_herschaald.sum().round()"
   ]
  },
  {
   "cell_type": "code",
   "execution_count": 91,
   "metadata": {},
   "outputs": [
    {
     "data": {
      "text/plain": "46.0"
     },
     "execution_count": 91,
     "metadata": {},
     "output_type": "execute_result"
    }
   ],
   "source": [
    "df[(df['V190_2'].isin(opties)) & (df.V168 == 3.0)].SCV_gewicht16_herschaald.sum().round()"
   ]
  },
  {
   "cell_type": "code",
   "execution_count": 92,
   "metadata": {},
   "outputs": [
    {
     "data": {
      "text/plain": "36.0"
     },
     "execution_count": 92,
     "metadata": {},
     "output_type": "execute_result"
    }
   ],
   "source": [
    "df[(df['V190_2'].isin(opties)) & (df.V168 == 2.0)].SCV_gewicht16_herschaald.sum().round()"
   ]
  },
  {
   "cell_type": "code",
   "execution_count": 93,
   "metadata": {},
   "outputs": [
    {
     "data": {
      "text/plain": "20.0"
     },
     "execution_count": 93,
     "metadata": {},
     "output_type": "execute_result"
    }
   ],
   "source": [
    "df[(df['V190_2'].isin(opties)) & (df.V168 == 4.0)].SCV_gewicht16_herschaald.sum().round()"
   ]
  },
  {
   "cell_type": "code",
   "execution_count": 94,
   "metadata": {},
   "outputs": [
    {
     "data": {
      "text/plain": "6.0"
     },
     "execution_count": 94,
     "metadata": {},
     "output_type": "execute_result"
    }
   ],
   "source": [
    "df[(df['V190_2'].isin(opties)) & (df.V168 == 7.0)].SCV_gewicht16_herschaald.sum().round()"
   ]
  },
  {
   "cell_type": "code",
   "execution_count": 167,
   "metadata": {},
   "outputs": [
    {
     "data": {
      "text/plain": "21.0"
     },
     "execution_count": 167,
     "metadata": {},
     "output_type": "execute_result"
    }
   ],
   "source": [
    "df[(df['V190_2'].isin(opties)) & (df.V168 == 1.0)].SCV_gewicht16_herschaald.sum().round()"
   ]
  },
  {
   "cell_type": "code",
   "execution_count": 168,
   "metadata": {},
   "outputs": [
    {
     "data": {
      "text/plain": "10.0"
     },
     "execution_count": 168,
     "metadata": {},
     "output_type": "execute_result"
    }
   ],
   "source": [
    "df[(df['V190_2'].isin(opties)) & (df.V168 == 5.0)].SCV_gewicht16_herschaald.sum().round()"
   ]
  },
  {
   "cell_type": "code",
   "execution_count": 169,
   "metadata": {},
   "outputs": [
    {
     "data": {
      "text/plain": "10.0"
     },
     "execution_count": 169,
     "metadata": {},
     "output_type": "execute_result"
    }
   ],
   "source": [
    "df[(df['V190_2'].isin(opties)) & (df.V168 == 6.0)].SCV_gewicht16_herschaald.sum().round()"
   ]
  },
  {
   "cell_type": "code",
   "execution_count": 68,
   "metadata": {},
   "outputs": [
    {
     "data": {
      "text/plain": "3.0     43\n1.0     41\n2.0     38\n4.0     31\n6.0     14\n77.0    11\n88.0     7\n9.0      5\n7.0      5\n5.0      4\n10.0     2\n12.0     1\nName: V168, dtype: int64"
     },
     "execution_count": 68,
     "metadata": {},
     "output_type": "execute_result"
    }
   ],
   "source": [
    "df[df['V190_3'].isin(opties)].V168.value_counts()"
   ]
  },
  {
   "cell_type": "code",
   "execution_count": 95,
   "metadata": {},
   "outputs": [
    {
     "data": {
      "text/plain": "189.0"
     },
     "execution_count": 95,
     "metadata": {},
     "output_type": "execute_result"
    }
   ],
   "source": [
    "df[df['V190_3'].isin(opties)].SCV_gewicht16_herschaald.sum().round()"
   ]
  },
  {
   "cell_type": "code",
   "execution_count": 96,
   "metadata": {},
   "outputs": [
    {
     "data": {
      "text/plain": "38.0"
     },
     "execution_count": 96,
     "metadata": {},
     "output_type": "execute_result"
    }
   ],
   "source": [
    "df[(df['V190_3'].isin(opties)) & (df.V168 == 3.0)].SCV_gewicht16_herschaald.sum().round()"
   ]
  },
  {
   "cell_type": "code",
   "execution_count": 97,
   "metadata": {},
   "outputs": [
    {
     "data": {
      "text/plain": "38.0"
     },
     "execution_count": 97,
     "metadata": {},
     "output_type": "execute_result"
    }
   ],
   "source": [
    "df[(df['V190_3'].isin(opties)) & (df.V168 == 1.0)].SCV_gewicht16_herschaald.sum().round()"
   ]
  },
  {
   "cell_type": "code",
   "execution_count": 98,
   "metadata": {},
   "outputs": [
    {
     "data": {
      "text/plain": "33.0"
     },
     "execution_count": 98,
     "metadata": {},
     "output_type": "execute_result"
    }
   ],
   "source": [
    "df[(df['V190_3'].isin(opties)) & (df.V168 == 2.0)].SCV_gewicht16_herschaald.sum().round()"
   ]
  },
  {
   "cell_type": "code",
   "execution_count": 99,
   "metadata": {},
   "outputs": [
    {
     "data": {
      "text/plain": "6.0"
     },
     "execution_count": 99,
     "metadata": {},
     "output_type": "execute_result"
    }
   ],
   "source": [
    "df[(df['V190_3'].isin(opties)) & (df.V168 == 7.0)].SCV_gewicht16_herschaald.sum().round()"
   ]
  },
  {
   "cell_type": "code",
   "execution_count": 170,
   "metadata": {},
   "outputs": [
    {
     "data": {
      "text/plain": "29.0"
     },
     "execution_count": 170,
     "metadata": {},
     "output_type": "execute_result"
    }
   ],
   "source": [
    "df[(df['V190_3'].isin(opties)) & (df.V168 == 4.0)].SCV_gewicht16_herschaald.sum().round()"
   ]
  },
  {
   "cell_type": "code",
   "execution_count": 171,
   "metadata": {},
   "outputs": [
    {
     "data": {
      "text/plain": "5.0"
     },
     "execution_count": 171,
     "metadata": {},
     "output_type": "execute_result"
    }
   ],
   "source": [
    "df[(df['V190_3'].isin(opties)) & (df.V168 == 5.0)].SCV_gewicht16_herschaald.sum().round()"
   ]
  },
  {
   "cell_type": "code",
   "execution_count": 172,
   "metadata": {},
   "outputs": [
    {
     "data": {
      "text/plain": "12.0"
     },
     "execution_count": 172,
     "metadata": {},
     "output_type": "execute_result"
    }
   ],
   "source": [
    "df[(df['V190_3'].isin(opties)) & (df.V168 == 6.0)].SCV_gewicht16_herschaald.sum().round()"
   ]
  },
  {
   "cell_type": "code",
   "execution_count": 69,
   "metadata": {},
   "outputs": [
    {
     "data": {
      "text/plain": "3.0     89\n2.0     85\n4.0     61\n1.0     57\n6.0     29\n77.0    21\n7.0     14\n88.0    12\n5.0     11\n9.0      9\n10.0     4\n8.0      2\n16.0     2\n12.0     1\n18.0     1\nName: V168, dtype: int64"
     },
     "execution_count": 69,
     "metadata": {},
     "output_type": "execute_result"
    }
   ],
   "source": [
    "df[df['V190_4'].isin(opties)].V168.value_counts()"
   ]
  },
  {
   "cell_type": "code",
   "execution_count": 101,
   "metadata": {},
   "outputs": [
    {
     "data": {
      "text/plain": "369.0"
     },
     "execution_count": 101,
     "metadata": {},
     "output_type": "execute_result"
    }
   ],
   "source": [
    "df[df['V190_4'].isin(opties)].SCV_gewicht16_herschaald.sum().round()"
   ]
  },
  {
   "cell_type": "code",
   "execution_count": 102,
   "metadata": {},
   "outputs": [
    {
     "data": {
      "text/plain": "82.0"
     },
     "execution_count": 102,
     "metadata": {},
     "output_type": "execute_result"
    }
   ],
   "source": [
    "df[(df['V190_4'].isin(opties)) & (df.V168 == 3.0)].SCV_gewicht16_herschaald.sum().round()"
   ]
  },
  {
   "cell_type": "code",
   "execution_count": 103,
   "metadata": {},
   "outputs": [
    {
     "data": {
      "text/plain": "75.0"
     },
     "execution_count": 103,
     "metadata": {},
     "output_type": "execute_result"
    }
   ],
   "source": [
    "df[(df['V190_4'].isin(opties)) & (df.V168 == 2.0)].SCV_gewicht16_herschaald.sum().round()"
   ]
  },
  {
   "cell_type": "code",
   "execution_count": 104,
   "metadata": {},
   "outputs": [
    {
     "data": {
      "text/plain": "55.0"
     },
     "execution_count": 104,
     "metadata": {},
     "output_type": "execute_result"
    }
   ],
   "source": [
    "df[(df['V190_4'].isin(opties)) & (df.V168 == 4.0)].SCV_gewicht16_herschaald.sum().round()"
   ]
  },
  {
   "cell_type": "code",
   "execution_count": 105,
   "metadata": {},
   "outputs": [
    {
     "data": {
      "text/plain": "13.0"
     },
     "execution_count": 105,
     "metadata": {},
     "output_type": "execute_result"
    }
   ],
   "source": [
    "df[(df['V190_4'].isin(opties)) & (df.V168 == 7.0)].SCV_gewicht16_herschaald.sum().round()"
   ]
  },
  {
   "cell_type": "code",
   "execution_count": 173,
   "metadata": {},
   "outputs": [
    {
     "data": {
      "text/plain": "54.0"
     },
     "execution_count": 173,
     "metadata": {},
     "output_type": "execute_result"
    }
   ],
   "source": [
    "df[(df['V190_4'].isin(opties)) & (df.V168 == 1.0)].SCV_gewicht16_herschaald.sum().round()"
   ]
  },
  {
   "cell_type": "code",
   "execution_count": 174,
   "metadata": {},
   "outputs": [
    {
     "data": {
      "text/plain": "10.0"
     },
     "execution_count": 174,
     "metadata": {},
     "output_type": "execute_result"
    }
   ],
   "source": [
    "df[(df['V190_4'].isin(opties)) & (df.V168 == 5.0)].SCV_gewicht16_herschaald.sum().round()"
   ]
  },
  {
   "cell_type": "code",
   "execution_count": 175,
   "metadata": {},
   "outputs": [
    {
     "data": {
      "text/plain": "26.0"
     },
     "execution_count": 175,
     "metadata": {},
     "output_type": "execute_result"
    }
   ],
   "source": [
    "df[(df['V190_4'].isin(opties)) & (df.V168 == 6.0)].SCV_gewicht16_herschaald.sum().round()"
   ]
  },
  {
   "cell_type": "code",
   "execution_count": 70,
   "metadata": {},
   "outputs": [
    {
     "data": {
      "text/plain": "3.0     101\n2.0      85\n1.0      76\n4.0      65\n6.0      44\n7.0      25\n77.0     23\n88.0     16\n9.0      13\n5.0       9\n10.0      5\n16.0      4\n8.0       2\n18.0      1\nName: V168, dtype: int64"
     },
     "execution_count": 70,
     "metadata": {},
     "output_type": "execute_result"
    }
   ],
   "source": [
    "df[df['V190_5'].isin(opties)].V168.value_counts()"
   ]
  },
  {
   "cell_type": "code",
   "execution_count": 106,
   "metadata": {},
   "outputs": [
    {
     "data": {
      "text/plain": "446.0"
     },
     "execution_count": 106,
     "metadata": {},
     "output_type": "execute_result"
    }
   ],
   "source": [
    "df[df['V190_5'].isin(opties)].SCV_gewicht16_herschaald.sum().round()"
   ]
  },
  {
   "cell_type": "code",
   "execution_count": 107,
   "metadata": {},
   "outputs": [
    {
     "data": {
      "text/plain": "96.0"
     },
     "execution_count": 107,
     "metadata": {},
     "output_type": "execute_result"
    }
   ],
   "source": [
    "df[(df['V190_5'].isin(opties)) & (df.V168 == 3.0)].SCV_gewicht16_herschaald.sum().round()"
   ]
  },
  {
   "cell_type": "code",
   "execution_count": 108,
   "metadata": {},
   "outputs": [
    {
     "data": {
      "text/plain": "75.0"
     },
     "execution_count": 108,
     "metadata": {},
     "output_type": "execute_result"
    }
   ],
   "source": [
    "df[(df['V190_5'].isin(opties)) & (df.V168 == 2.0)].SCV_gewicht16_herschaald.sum().round()"
   ]
  },
  {
   "cell_type": "code",
   "execution_count": 109,
   "metadata": {},
   "outputs": [
    {
     "data": {
      "text/plain": "72.0"
     },
     "execution_count": 109,
     "metadata": {},
     "output_type": "execute_result"
    }
   ],
   "source": [
    "df[(df['V190_5'].isin(opties)) & (df.V168 == 1.0)].SCV_gewicht16_herschaald.sum().round()"
   ]
  },
  {
   "cell_type": "code",
   "execution_count": 110,
   "metadata": {},
   "outputs": [
    {
     "data": {
      "text/plain": "25.0"
     },
     "execution_count": 110,
     "metadata": {},
     "output_type": "execute_result"
    }
   ],
   "source": [
    "df[(df['V190_5'].isin(opties)) & (df.V168 == 7.0)].SCV_gewicht16_herschaald.sum().round()"
   ]
  },
  {
   "cell_type": "code",
   "execution_count": 176,
   "metadata": {},
   "outputs": [
    {
     "data": {
      "text/plain": "59.0"
     },
     "execution_count": 176,
     "metadata": {},
     "output_type": "execute_result"
    }
   ],
   "source": [
    "df[(df['V190_5'].isin(opties)) & (df.V168 == 4.0)].SCV_gewicht16_herschaald.sum().round()"
   ]
  },
  {
   "cell_type": "code",
   "execution_count": 177,
   "metadata": {},
   "outputs": [
    {
     "data": {
      "text/plain": "9.0"
     },
     "execution_count": 177,
     "metadata": {},
     "output_type": "execute_result"
    }
   ],
   "source": [
    "df[(df['V190_5'].isin(opties)) & (df.V168 == 5.0)].SCV_gewicht16_herschaald.sum().round()"
   ]
  },
  {
   "cell_type": "code",
   "execution_count": 178,
   "metadata": {},
   "outputs": [
    {
     "data": {
      "text/plain": "44.0"
     },
     "execution_count": 178,
     "metadata": {},
     "output_type": "execute_result"
    }
   ],
   "source": [
    "df[(df['V190_5'].isin(opties)) & (df.V168 == 6.0)].SCV_gewicht16_herschaald.sum().round()"
   ]
  },
  {
   "cell_type": "code",
   "execution_count": 71,
   "metadata": {},
   "outputs": [
    {
     "data": {
      "text/plain": "3.0     38\n2.0     30\n4.0     22\n1.0     20\n7.0     15\n6.0     11\n10.0     5\n77.0     5\n5.0      5\n88.0     3\n9.0      3\n16.0     1\n18.0     1\nName: V168, dtype: int64"
     },
     "execution_count": 71,
     "metadata": {},
     "output_type": "execute_result"
    }
   ],
   "source": [
    "df[df['V190_6'].isin(opties)].V168.value_counts()"
   ]
  },
  {
   "cell_type": "code",
   "execution_count": 111,
   "metadata": {},
   "outputs": [
    {
     "data": {
      "text/plain": "153.0"
     },
     "execution_count": 111,
     "metadata": {},
     "output_type": "execute_result"
    }
   ],
   "source": [
    "df[df['V190_6'].isin(opties)].SCV_gewicht16_herschaald.sum().round()"
   ]
  },
  {
   "cell_type": "code",
   "execution_count": 112,
   "metadata": {},
   "outputs": [
    {
     "data": {
      "text/plain": "37.0"
     },
     "execution_count": 112,
     "metadata": {},
     "output_type": "execute_result"
    }
   ],
   "source": [
    "df[(df['V190_6'].isin(opties)) & (df.V168 == 3.0)].SCV_gewicht16_herschaald.sum().round()"
   ]
  },
  {
   "cell_type": "code",
   "execution_count": 113,
   "metadata": {},
   "outputs": [
    {
     "data": {
      "text/plain": "27.0"
     },
     "execution_count": 113,
     "metadata": {},
     "output_type": "execute_result"
    }
   ],
   "source": [
    "df[(df['V190_6'].isin(opties)) & (df.V168 == 2.0)].SCV_gewicht16_herschaald.sum().round()"
   ]
  },
  {
   "cell_type": "code",
   "execution_count": 114,
   "metadata": {},
   "outputs": [
    {
     "data": {
      "text/plain": "18.0"
     },
     "execution_count": 114,
     "metadata": {},
     "output_type": "execute_result"
    }
   ],
   "source": [
    "df[(df['V190_6'].isin(opties)) & (df.V168 == 4.0)].SCV_gewicht16_herschaald.sum().round()"
   ]
  },
  {
   "cell_type": "code",
   "execution_count": 115,
   "metadata": {},
   "outputs": [
    {
     "data": {
      "text/plain": "16.0"
     },
     "execution_count": 115,
     "metadata": {},
     "output_type": "execute_result"
    }
   ],
   "source": [
    "df[(df['V190_6'].isin(opties)) & (df.V168 == 7.0)].SCV_gewicht16_herschaald.sum().round()"
   ]
  },
  {
   "cell_type": "code",
   "execution_count": 181,
   "metadata": {},
   "outputs": [
    {
     "data": {
      "text/plain": "19.0"
     },
     "execution_count": 181,
     "metadata": {},
     "output_type": "execute_result"
    }
   ],
   "source": [
    "df[(df['V190_6'].isin(opties)) & (df.V168 == 1.0)].SCV_gewicht16_herschaald.sum().round()"
   ]
  },
  {
   "cell_type": "code",
   "execution_count": 180,
   "metadata": {},
   "outputs": [
    {
     "data": {
      "text/plain": "5.0"
     },
     "execution_count": 180,
     "metadata": {},
     "output_type": "execute_result"
    }
   ],
   "source": [
    "df[(df['V190_6'].isin(opties)) & (df.V168 == 5.0)].SCV_gewicht16_herschaald.sum().round()"
   ]
  },
  {
   "cell_type": "code",
   "execution_count": 182,
   "metadata": {},
   "outputs": [
    {
     "data": {
      "text/plain": "11.0"
     },
     "execution_count": 182,
     "metadata": {},
     "output_type": "execute_result"
    }
   ],
   "source": [
    "df[(df['V190_6'].isin(opties)) & (df.V168 == 6.0)].SCV_gewicht16_herschaald.sum().round()"
   ]
  },
  {
   "cell_type": "code",
   "execution_count": 72,
   "metadata": {},
   "outputs": [
    {
     "data": {
      "text/plain": "3.0     54\n4.0     36\n2.0     34\n1.0     28\n6.0     17\n88.0     8\n7.0      8\n9.0      7\n77.0     6\n5.0      5\n10.0     2\n14.0     1\n8.0      1\n18.0     1\nName: V168, dtype: int64"
     },
     "execution_count": 72,
     "metadata": {},
     "output_type": "execute_result"
    }
   ],
   "source": [
    "df[df['V190_7'].isin(opties)].V168.value_counts()"
   ]
  },
  {
   "cell_type": "code",
   "execution_count": 116,
   "metadata": {},
   "outputs": [
    {
     "data": {
      "text/plain": "207.0"
     },
     "execution_count": 116,
     "metadata": {},
     "output_type": "execute_result"
    }
   ],
   "source": [
    "df[df['V190_7'].isin(opties)].SCV_gewicht16_herschaald.sum().round()"
   ]
  },
  {
   "cell_type": "code",
   "execution_count": 117,
   "metadata": {},
   "outputs": [
    {
     "data": {
      "text/plain": "52.0"
     },
     "execution_count": 117,
     "metadata": {},
     "output_type": "execute_result"
    }
   ],
   "source": [
    "df[(df['V190_7'].isin(opties)) & (df.V168 == 3.0)].SCV_gewicht16_herschaald.sum().round()"
   ]
  },
  {
   "cell_type": "code",
   "execution_count": 118,
   "metadata": {},
   "outputs": [
    {
     "data": {
      "text/plain": "36.0"
     },
     "execution_count": 118,
     "metadata": {},
     "output_type": "execute_result"
    }
   ],
   "source": [
    "df[(df['V190_7'].isin(opties)) & (df.V168 == 4.0)].SCV_gewicht16_herschaald.sum().round()"
   ]
  },
  {
   "cell_type": "code",
   "execution_count": 119,
   "metadata": {},
   "outputs": [
    {
     "data": {
      "text/plain": "33.0"
     },
     "execution_count": 119,
     "metadata": {},
     "output_type": "execute_result"
    }
   ],
   "source": [
    "df[(df['V190_7'].isin(opties)) & (df.V168 == 2.0)].SCV_gewicht16_herschaald.sum().round()"
   ]
  },
  {
   "cell_type": "code",
   "execution_count": 120,
   "metadata": {},
   "outputs": [
    {
     "data": {
      "text/plain": "10.0"
     },
     "execution_count": 120,
     "metadata": {},
     "output_type": "execute_result"
    }
   ],
   "source": [
    "df[(df['V190_7'].isin(opties)) & (df.V168 == 7.0)].SCV_gewicht16_herschaald.sum().round()"
   ]
  },
  {
   "cell_type": "code",
   "execution_count": 183,
   "metadata": {},
   "outputs": [
    {
     "data": {
      "text/plain": "26.0"
     },
     "execution_count": 183,
     "metadata": {},
     "output_type": "execute_result"
    }
   ],
   "source": [
    "df[(df['V190_7'].isin(opties)) & (df.V168 == 1.0)].SCV_gewicht16_herschaald.sum().round()"
   ]
  },
  {
   "cell_type": "code",
   "execution_count": 184,
   "metadata": {},
   "outputs": [
    {
     "data": {
      "text/plain": "5.0"
     },
     "execution_count": 184,
     "metadata": {},
     "output_type": "execute_result"
    }
   ],
   "source": [
    "df[(df['V190_7'].isin(opties)) & (df.V168 == 5.0)].SCV_gewicht16_herschaald.sum().round()"
   ]
  },
  {
   "cell_type": "code",
   "execution_count": 185,
   "metadata": {},
   "outputs": [
    {
     "data": {
      "text/plain": "17.0"
     },
     "execution_count": 185,
     "metadata": {},
     "output_type": "execute_result"
    }
   ],
   "source": [
    "df[(df['V190_7'].isin(opties)) & (df.V168 == 6.0)].SCV_gewicht16_herschaald.sum().round()"
   ]
  },
  {
   "cell_type": "code",
   "execution_count": 73,
   "metadata": {},
   "outputs": [
    {
     "data": {
      "text/plain": "3.0     76\n2.0     68\n4.0     44\n1.0     37\n6.0     24\n5.0     14\n7.0     12\n77.0     8\n9.0      7\n88.0     6\n10.0     4\n16.0     3\n8.0      2\n12.0     1\nName: V168, dtype: int64"
     },
     "execution_count": 73,
     "metadata": {},
     "output_type": "execute_result"
    }
   ],
   "source": [
    "df[df['V190_8'].isin(opties)].V168.value_counts()"
   ]
  },
  {
   "cell_type": "code",
   "execution_count": 121,
   "metadata": {},
   "outputs": [
    {
     "data": {
      "text/plain": "287.0"
     },
     "execution_count": 121,
     "metadata": {},
     "output_type": "execute_result"
    }
   ],
   "source": [
    "df[df['V190_8'].isin(opties)].SCV_gewicht16_herschaald.sum().round()"
   ]
  },
  {
   "cell_type": "code",
   "execution_count": 122,
   "metadata": {},
   "outputs": [
    {
     "data": {
      "text/plain": "71.0"
     },
     "execution_count": 122,
     "metadata": {},
     "output_type": "execute_result"
    }
   ],
   "source": [
    "df[(df['V190_8'].isin(opties)) & (df.V168 == 3.0)].SCV_gewicht16_herschaald.sum().round()"
   ]
  },
  {
   "cell_type": "code",
   "execution_count": 123,
   "metadata": {},
   "outputs": [
    {
     "data": {
      "text/plain": "59.0"
     },
     "execution_count": 123,
     "metadata": {},
     "output_type": "execute_result"
    }
   ],
   "source": [
    "df[(df['V190_8'].isin(opties)) & (df.V168 == 2.0)].SCV_gewicht16_herschaald.sum().round()"
   ]
  },
  {
   "cell_type": "code",
   "execution_count": 124,
   "metadata": {},
   "outputs": [
    {
     "data": {
      "text/plain": "42.0"
     },
     "execution_count": 124,
     "metadata": {},
     "output_type": "execute_result"
    }
   ],
   "source": [
    "df[(df['V190_8'].isin(opties)) & (df.V168 == 4.0)].SCV_gewicht16_herschaald.sum().round()"
   ]
  },
  {
   "cell_type": "code",
   "execution_count": 125,
   "metadata": {},
   "outputs": [
    {
     "data": {
      "text/plain": "12.0"
     },
     "execution_count": 125,
     "metadata": {},
     "output_type": "execute_result"
    }
   ],
   "source": [
    "df[(df['V190_8'].isin(opties)) & (df.V168 == 7.0)].SCV_gewicht16_herschaald.sum().round()"
   ]
  },
  {
   "cell_type": "code",
   "execution_count": 186,
   "metadata": {},
   "outputs": [
    {
     "data": {
      "text/plain": "34.0"
     },
     "execution_count": 186,
     "metadata": {},
     "output_type": "execute_result"
    }
   ],
   "source": [
    "df[(df['V190_8'].isin(opties)) & (df.V168 == 1.0)].SCV_gewicht16_herschaald.sum().round()"
   ]
  },
  {
   "cell_type": "code",
   "execution_count": 187,
   "metadata": {},
   "outputs": [
    {
     "data": {
      "text/plain": "15.0"
     },
     "execution_count": 187,
     "metadata": {},
     "output_type": "execute_result"
    }
   ],
   "source": [
    "df[(df['V190_8'].isin(opties)) & (df.V168 == 5.0)].SCV_gewicht16_herschaald.sum().round()"
   ]
  },
  {
   "cell_type": "code",
   "execution_count": 188,
   "metadata": {},
   "outputs": [
    {
     "data": {
      "text/plain": "22.0"
     },
     "execution_count": 188,
     "metadata": {},
     "output_type": "execute_result"
    }
   ],
   "source": [
    "df[(df['V190_8'].isin(opties)) & (df.V168 == 6.0)].SCV_gewicht16_herschaald.sum().round()"
   ]
  },
  {
   "cell_type": "code",
   "execution_count": 74,
   "metadata": {},
   "outputs": [
    {
     "data": {
      "text/plain": "3.0     197\n2.0     166\n4.0     125\n1.0     119\n6.0      78\n7.0      57\n77.0     49\n88.0     30\n5.0      23\n9.0      19\n10.0     13\n18.0      6\n8.0       5\n16.0      5\n12.0      2\nName: V168, dtype: int64"
     },
     "execution_count": 74,
     "metadata": {},
     "output_type": "execute_result"
    }
   ],
   "source": [
    "df[df['V190_9'].isin(opties)].V168.value_counts()"
   ]
  },
  {
   "cell_type": "code",
   "execution_count": 126,
   "metadata": {},
   "outputs": [
    {
     "data": {
      "text/plain": "859.0"
     },
     "execution_count": 126,
     "metadata": {},
     "output_type": "execute_result"
    }
   ],
   "source": [
    "df[df['V190_9'].isin(opties)].SCV_gewicht16_herschaald.sum().round()"
   ]
  },
  {
   "cell_type": "code",
   "execution_count": 127,
   "metadata": {},
   "outputs": [
    {
     "data": {
      "text/plain": "191.0"
     },
     "execution_count": 127,
     "metadata": {},
     "output_type": "execute_result"
    }
   ],
   "source": [
    "df[(df['V190_9'].isin(opties)) & (df.V168 == 3.0)].SCV_gewicht16_herschaald.sum().round()"
   ]
  },
  {
   "cell_type": "code",
   "execution_count": 128,
   "metadata": {},
   "outputs": [
    {
     "data": {
      "text/plain": "150.0"
     },
     "execution_count": 128,
     "metadata": {},
     "output_type": "execute_result"
    }
   ],
   "source": [
    "df[(df['V190_9'].isin(opties)) & (df.V168 == 2.0)].SCV_gewicht16_herschaald.sum().round()"
   ]
  },
  {
   "cell_type": "code",
   "execution_count": 129,
   "metadata": {},
   "outputs": [
    {
     "data": {
      "text/plain": "111.0"
     },
     "execution_count": 129,
     "metadata": {},
     "output_type": "execute_result"
    }
   ],
   "source": [
    "df[(df['V190_9'].isin(opties)) & (df.V168 == 1.0)].SCV_gewicht16_herschaald.sum().round()"
   ]
  },
  {
   "cell_type": "code",
   "execution_count": 130,
   "metadata": {},
   "outputs": [
    {
     "data": {
      "text/plain": "61.0"
     },
     "execution_count": 130,
     "metadata": {},
     "output_type": "execute_result"
    }
   ],
   "source": [
    "df[(df['V190_9'].isin(opties)) & (df.V168 == 7.0)].SCV_gewicht16_herschaald.sum().round()"
   ]
  },
  {
   "cell_type": "code",
   "execution_count": 189,
   "metadata": {},
   "outputs": [
    {
     "data": {
      "text/plain": "113.0"
     },
     "execution_count": 189,
     "metadata": {},
     "output_type": "execute_result"
    }
   ],
   "source": [
    "df[(df['V190_9'].isin(opties)) & (df.V168 == 4.0)].SCV_gewicht16_herschaald.sum().round()"
   ]
  },
  {
   "cell_type": "code",
   "execution_count": 190,
   "metadata": {},
   "outputs": [
    {
     "data": {
      "text/plain": "24.0"
     },
     "execution_count": 190,
     "metadata": {},
     "output_type": "execute_result"
    }
   ],
   "source": [
    "df[(df['V190_9'].isin(opties)) & (df.V168 == 5.0)].SCV_gewicht16_herschaald.sum().round()"
   ]
  },
  {
   "cell_type": "code",
   "execution_count": 191,
   "metadata": {},
   "outputs": [
    {
     "data": {
      "text/plain": "75.0"
     },
     "execution_count": 191,
     "metadata": {},
     "output_type": "execute_result"
    }
   ],
   "source": [
    "df[(df['V190_9'].isin(opties)) & (df.V168 == 6.0)].SCV_gewicht16_herschaald.sum().round()"
   ]
  },
  {
   "cell_type": "code",
   "execution_count": 75,
   "metadata": {},
   "outputs": [
    {
     "data": {
      "text/plain": "3.0     194\n1.0     139\n2.0      88\n4.0      87\n6.0      79\n7.0      74\n77.0     56\n88.0     35\n9.0      33\n10.0     24\n5.0      21\n8.0       5\n18.0      4\n12.0      2\n16.0      2\n14.0      1\nName: V168, dtype: int64"
     },
     "execution_count": 75,
     "metadata": {},
     "output_type": "execute_result"
    }
   ],
   "source": [
    "df[df['V191'].isin(opties)].V168.value_counts()"
   ]
  },
  {
   "cell_type": "code",
   "execution_count": 131,
   "metadata": {},
   "outputs": [
    {
     "data": {
      "text/plain": "876.0"
     },
     "execution_count": 131,
     "metadata": {},
     "output_type": "execute_result"
    }
   ],
   "source": [
    "df[df['V191'].isin(opties)].SCV_gewicht16_herschaald.sum().round()"
   ]
  },
  {
   "cell_type": "code",
   "execution_count": 132,
   "metadata": {},
   "outputs": [
    {
     "data": {
      "text/plain": "196.0"
     },
     "execution_count": 132,
     "metadata": {},
     "output_type": "execute_result"
    }
   ],
   "source": [
    "df[(df['V191'].isin(opties)) & (df.V168 == 3.0)].SCV_gewicht16_herschaald.sum().round()"
   ]
  },
  {
   "cell_type": "code",
   "execution_count": 133,
   "metadata": {},
   "outputs": [
    {
     "data": {
      "text/plain": "145.0"
     },
     "execution_count": 133,
     "metadata": {},
     "output_type": "execute_result"
    }
   ],
   "source": [
    "df[(df['V191'].isin(opties)) & (df.V168 == 1.0)].SCV_gewicht16_herschaald.sum().round()"
   ]
  },
  {
   "cell_type": "code",
   "execution_count": 137,
   "metadata": {},
   "outputs": [
    {
     "data": {
      "text/plain": "86.0"
     },
     "execution_count": 137,
     "metadata": {},
     "output_type": "execute_result"
    }
   ],
   "source": [
    "df[(df['V191'].isin(opties)) & (df.V168 == 2.0)].SCV_gewicht16_herschaald.sum().round()"
   ]
  },
  {
   "cell_type": "code",
   "execution_count": 135,
   "metadata": {},
   "outputs": [
    {
     "data": {
      "text/plain": "80.0"
     },
     "execution_count": 135,
     "metadata": {},
     "output_type": "execute_result"
    }
   ],
   "source": [
    "df[(df['V191'].isin(opties)) & (df.V168 == 7.0)].SCV_gewicht16_herschaald.sum().round()"
   ]
  },
  {
   "cell_type": "code",
   "execution_count": 192,
   "metadata": {},
   "outputs": [
    {
     "data": {
      "text/plain": "86.0"
     },
     "execution_count": 192,
     "metadata": {},
     "output_type": "execute_result"
    }
   ],
   "source": [
    "df[(df['V191'].isin(opties)) & (df.V168 == 4.0)].SCV_gewicht16_herschaald.sum().round()"
   ]
  },
  {
   "cell_type": "code",
   "execution_count": 193,
   "metadata": {},
   "outputs": [
    {
     "data": {
      "text/plain": "22.0"
     },
     "execution_count": 193,
     "metadata": {},
     "output_type": "execute_result"
    }
   ],
   "source": [
    "df[(df['V191'].isin(opties)) & (df.V168 == 5.0)].SCV_gewicht16_herschaald.sum().round()"
   ]
  },
  {
   "cell_type": "code",
   "execution_count": 194,
   "metadata": {},
   "outputs": [
    {
     "data": {
      "text/plain": "83.0"
     },
     "execution_count": 194,
     "metadata": {},
     "output_type": "execute_result"
    }
   ],
   "source": [
    "df[(df['V191'].isin(opties)) & (df.V168 == 6.0)].SCV_gewicht16_herschaald.sum().round()"
   ]
  },
  {
   "cell_type": "code",
   "execution_count": 76,
   "metadata": {},
   "outputs": [
    {
     "data": {
      "text/plain": "3.0     140\n2.0     133\n4.0     103\n1.0      97\n6.0      59\n77.0     30\n7.0      29\n88.0     22\n5.0      18\n10.0     12\n9.0      10\n8.0       5\n18.0      3\n16.0      3\n12.0      2\nName: V168, dtype: int64"
     },
     "execution_count": 76,
     "metadata": {},
     "output_type": "execute_result"
    }
   ],
   "source": [
    "df[df['V193_1'].isin(opties)].V168.value_counts()"
   ]
  },
  {
   "cell_type": "code",
   "execution_count": 138,
   "metadata": {},
   "outputs": [
    {
     "data": {
      "text/plain": "631.0"
     },
     "execution_count": 138,
     "metadata": {},
     "output_type": "execute_result"
    }
   ],
   "source": [
    "df[df['V193_1'].isin(opties)].SCV_gewicht16_herschaald.sum().round()"
   ]
  },
  {
   "cell_type": "code",
   "execution_count": 139,
   "metadata": {},
   "outputs": [
    {
     "data": {
      "text/plain": "135.0"
     },
     "execution_count": 139,
     "metadata": {},
     "output_type": "execute_result"
    }
   ],
   "source": [
    "df[(df['V193_1'].isin(opties)) & (df.V168 == 3.0)].SCV_gewicht16_herschaald.sum().round()"
   ]
  },
  {
   "cell_type": "code",
   "execution_count": 140,
   "metadata": {},
   "outputs": [
    {
     "data": {
      "text/plain": "120.0"
     },
     "execution_count": 140,
     "metadata": {},
     "output_type": "execute_result"
    }
   ],
   "source": [
    "df[(df['V193_1'].isin(opties)) & (df.V168 == 2.0)].SCV_gewicht16_herschaald.sum().round()"
   ]
  },
  {
   "cell_type": "code",
   "execution_count": 141,
   "metadata": {},
   "outputs": [
    {
     "data": {
      "text/plain": "88.0"
     },
     "execution_count": 141,
     "metadata": {},
     "output_type": "execute_result"
    }
   ],
   "source": [
    "df[(df['V193_1'].isin(opties)) & (df.V168 == 1.0)].SCV_gewicht16_herschaald.sum().round()"
   ]
  },
  {
   "cell_type": "code",
   "execution_count": 142,
   "metadata": {},
   "outputs": [
    {
     "data": {
      "text/plain": "31.0"
     },
     "execution_count": 142,
     "metadata": {},
     "output_type": "execute_result"
    }
   ],
   "source": [
    "df[(df['V193_1'].isin(opties)) & (df.V168 == 7.0)].SCV_gewicht16_herschaald.sum().round()"
   ]
  },
  {
   "cell_type": "code",
   "execution_count": 195,
   "metadata": {},
   "outputs": [
    {
     "data": {
      "text/plain": "94.0"
     },
     "execution_count": 195,
     "metadata": {},
     "output_type": "execute_result"
    }
   ],
   "source": [
    "df[(df['V193_1'].isin(opties)) & (df.V168 == 4.0)].SCV_gewicht16_herschaald.sum().round()"
   ]
  },
  {
   "cell_type": "code",
   "execution_count": 196,
   "metadata": {},
   "outputs": [
    {
     "data": {
      "text/plain": "19.0"
     },
     "execution_count": 196,
     "metadata": {},
     "output_type": "execute_result"
    }
   ],
   "source": [
    "df[(df['V193_1'].isin(opties)) & (df.V168 == 5.0)].SCV_gewicht16_herschaald.sum().round()"
   ]
  },
  {
   "cell_type": "code",
   "execution_count": 197,
   "metadata": {},
   "outputs": [
    {
     "data": {
      "text/plain": "54.0"
     },
     "execution_count": 197,
     "metadata": {},
     "output_type": "execute_result"
    }
   ],
   "source": [
    "df[(df['V193_1'].isin(opties)) & (df.V168 == 6.0)].SCV_gewicht16_herschaald.sum().round()"
   ]
  },
  {
   "cell_type": "code",
   "execution_count": 77,
   "metadata": {},
   "outputs": [
    {
     "data": {
      "text/plain": "3.0     196\n2.0     151\n4.0     122\n1.0     114\n6.0      68\n77.0     45\n7.0      43\n88.0     26\n5.0      22\n9.0      17\n10.0     14\n8.0       6\n18.0      3\n16.0      3\n12.0      2\nName: V168, dtype: int64"
     },
     "execution_count": 77,
     "metadata": {},
     "output_type": "execute_result"
    }
   ],
   "source": [
    "df[df['V193_3'].isin(opties)].V168.value_counts()"
   ]
  },
  {
   "cell_type": "code",
   "execution_count": 143,
   "metadata": {},
   "outputs": [
    {
     "data": {
      "text/plain": "786.0"
     },
     "execution_count": 143,
     "metadata": {},
     "output_type": "execute_result"
    }
   ],
   "source": [
    "df[df['V193_3'].isin(opties)].SCV_gewicht16_herschaald.sum().round()"
   ]
  },
  {
   "cell_type": "code",
   "execution_count": 144,
   "metadata": {},
   "outputs": [
    {
     "data": {
      "text/plain": "186.0"
     },
     "execution_count": 144,
     "metadata": {},
     "output_type": "execute_result"
    }
   ],
   "source": [
    "df[(df['V193_3'].isin(opties)) & (df.V168 == 3.0)].SCV_gewicht16_herschaald.sum().round()"
   ]
  },
  {
   "cell_type": "code",
   "execution_count": 145,
   "metadata": {},
   "outputs": [
    {
     "data": {
      "text/plain": "137.0"
     },
     "execution_count": 145,
     "metadata": {},
     "output_type": "execute_result"
    }
   ],
   "source": [
    "df[(df['V193_3'].isin(opties)) & (df.V168 == 2.0)].SCV_gewicht16_herschaald.sum().round()"
   ]
  },
  {
   "cell_type": "code",
   "execution_count": 146,
   "metadata": {},
   "outputs": [
    {
     "data": {
      "text/plain": "108.0"
     },
     "execution_count": 146,
     "metadata": {},
     "output_type": "execute_result"
    }
   ],
   "source": [
    "df[(df['V193_3'].isin(opties)) & (df.V168 == 4.0)].SCV_gewicht16_herschaald.sum().round()"
   ]
  },
  {
   "cell_type": "code",
   "execution_count": 147,
   "metadata": {},
   "outputs": [
    {
     "data": {
      "text/plain": "46.0"
     },
     "execution_count": 147,
     "metadata": {},
     "output_type": "execute_result"
    }
   ],
   "source": [
    "df[(df['V193_3'].isin(opties)) & (df.V168 == 7.0)].SCV_gewicht16_herschaald.sum().round()"
   ]
  },
  {
   "cell_type": "code",
   "execution_count": 198,
   "metadata": {},
   "outputs": [
    {
     "data": {
      "text/plain": "108.0"
     },
     "execution_count": 198,
     "metadata": {},
     "output_type": "execute_result"
    }
   ],
   "source": [
    "df[(df['V193_3'].isin(opties)) & (df.V168 == 1.0)].SCV_gewicht16_herschaald.sum().round()"
   ]
  },
  {
   "cell_type": "code",
   "execution_count": 199,
   "metadata": {},
   "outputs": [
    {
     "data": {
      "text/plain": "22.0"
     },
     "execution_count": 199,
     "metadata": {},
     "output_type": "execute_result"
    }
   ],
   "source": [
    "df[(df['V193_3'].isin(opties)) & (df.V168 == 5.0)].SCV_gewicht16_herschaald.sum().round()"
   ]
  },
  {
   "cell_type": "code",
   "execution_count": 200,
   "metadata": {},
   "outputs": [
    {
     "data": {
      "text/plain": "62.0"
     },
     "execution_count": 200,
     "metadata": {},
     "output_type": "execute_result"
    }
   ],
   "source": [
    "df[(df['V193_3'].isin(opties)) & (df.V168 == 6.0)].SCV_gewicht16_herschaald.sum().round()"
   ]
  },
  {
   "cell_type": "code",
   "execution_count": 78,
   "metadata": {},
   "outputs": [
    {
     "data": {
      "text/plain": "3.0     72\n2.0     63\n4.0     53\n1.0     52\n77.0    18\n6.0     17\n7.0     13\n88.0    12\n10.0     7\n9.0      6\n5.0      4\n16.0     3\n8.0      1\n18.0     1\nName: V168, dtype: int64"
     },
     "execution_count": 78,
     "metadata": {},
     "output_type": "execute_result"
    }
   ],
   "source": [
    "df[df['V193_4'].isin(opties)].V168.value_counts()"
   ]
  },
  {
   "cell_type": "code",
   "execution_count": 148,
   "metadata": {},
   "outputs": [
    {
     "data": {
      "text/plain": "300.0"
     },
     "execution_count": 148,
     "metadata": {},
     "output_type": "execute_result"
    }
   ],
   "source": [
    "df[df['V193_4'].isin(opties)].SCV_gewicht16_herschaald.sum().round()"
   ]
  },
  {
   "cell_type": "code",
   "execution_count": 149,
   "metadata": {},
   "outputs": [
    {
     "data": {
      "text/plain": "66.0"
     },
     "execution_count": 149,
     "metadata": {},
     "output_type": "execute_result"
    }
   ],
   "source": [
    "df[(df['V193_4'].isin(opties)) & (df.V168 == 3.0)].SCV_gewicht16_herschaald.sum().round()"
   ]
  },
  {
   "cell_type": "code",
   "execution_count": 150,
   "metadata": {},
   "outputs": [
    {
     "data": {
      "text/plain": "55.0"
     },
     "execution_count": 150,
     "metadata": {},
     "output_type": "execute_result"
    }
   ],
   "source": [
    "df[(df['V193_4'].isin(opties)) & (df.V168 == 2.0)].SCV_gewicht16_herschaald.sum().round()"
   ]
  },
  {
   "cell_type": "code",
   "execution_count": 152,
   "metadata": {},
   "outputs": [
    {
     "data": {
      "text/plain": "47.0"
     },
     "execution_count": 152,
     "metadata": {},
     "output_type": "execute_result"
    }
   ],
   "source": [
    "df[(df['V193_4'].isin(opties)) & (df.V168 == 4.0)].SCV_gewicht16_herschaald.sum().round()"
   ]
  },
  {
   "cell_type": "code",
   "execution_count": 153,
   "metadata": {},
   "outputs": [
    {
     "data": {
      "text/plain": "13.0"
     },
     "execution_count": 153,
     "metadata": {},
     "output_type": "execute_result"
    }
   ],
   "source": [
    "df[(df['V193_4'].isin(opties)) & (df.V168 == 7.0)].SCV_gewicht16_herschaald.sum().round()"
   ]
  },
  {
   "cell_type": "code",
   "execution_count": 201,
   "metadata": {},
   "outputs": [
    {
     "data": {
      "text/plain": "49.0"
     },
     "execution_count": 201,
     "metadata": {},
     "output_type": "execute_result"
    }
   ],
   "source": [
    "df[(df['V193_4'].isin(opties)) & (df.V168 == 1.0)].SCV_gewicht16_herschaald.sum().round()"
   ]
  },
  {
   "cell_type": "code",
   "execution_count": 202,
   "metadata": {},
   "outputs": [
    {
     "data": {
      "text/plain": "4.0"
     },
     "execution_count": 202,
     "metadata": {},
     "output_type": "execute_result"
    }
   ],
   "source": [
    "df[(df['V193_4'].isin(opties)) & (df.V168 == 5.0)].SCV_gewicht16_herschaald.sum().round()"
   ]
  },
  {
   "cell_type": "code",
   "execution_count": 203,
   "metadata": {},
   "outputs": [
    {
     "data": {
      "text/plain": "16.0"
     },
     "execution_count": 203,
     "metadata": {},
     "output_type": "execute_result"
    }
   ],
   "source": [
    "df[(df['V193_4'].isin(opties)) & (df.V168 == 6.0)].SCV_gewicht16_herschaald.sum().round()"
   ]
  },
  {
   "cell_type": "code",
   "execution_count": 79,
   "metadata": {},
   "outputs": [
    {
     "data": {
      "text/plain": "3.0     41\n2.0     37\n1.0     35\n4.0     25\n6.0     12\n7.0      8\n9.0      6\n88.0     4\n77.0     4\n10.0     3\n5.0      2\n8.0      2\n16.0     1\nName: V168, dtype: int64"
     },
     "execution_count": 79,
     "metadata": {},
     "output_type": "execute_result"
    }
   ],
   "source": [
    "df[df['V193_5'].isin(opties)].V168.value_counts()"
   ]
  },
  {
   "cell_type": "code",
   "execution_count": 154,
   "metadata": {},
   "outputs": [
    {
     "data": {
      "text/plain": "170.0"
     },
     "execution_count": 154,
     "metadata": {},
     "output_type": "execute_result"
    }
   ],
   "source": [
    "df[df['V193_5'].isin(opties)].SCV_gewicht16_herschaald.sum().round()"
   ]
  },
  {
   "cell_type": "code",
   "execution_count": 155,
   "metadata": {},
   "outputs": [
    {
     "data": {
      "text/plain": "38.0"
     },
     "execution_count": 155,
     "metadata": {},
     "output_type": "execute_result"
    }
   ],
   "source": [
    "df[(df['V193_5'].isin(opties)) & (df.V168 == 3.0)].SCV_gewicht16_herschaald.sum().round()"
   ]
  },
  {
   "cell_type": "code",
   "execution_count": 156,
   "metadata": {},
   "outputs": [
    {
     "data": {
      "text/plain": "34.0"
     },
     "execution_count": 156,
     "metadata": {},
     "output_type": "execute_result"
    }
   ],
   "source": [
    "df[(df['V193_5'].isin(opties)) & (df.V168 == 2.0)].SCV_gewicht16_herschaald.sum().round()"
   ]
  },
  {
   "cell_type": "code",
   "execution_count": 157,
   "metadata": {},
   "outputs": [
    {
     "data": {
      "text/plain": "33.0"
     },
     "execution_count": 157,
     "metadata": {},
     "output_type": "execute_result"
    }
   ],
   "source": [
    "df[(df['V193_5'].isin(opties)) & (df.V168 == 1.0)].SCV_gewicht16_herschaald.sum().round()"
   ]
  },
  {
   "cell_type": "code",
   "execution_count": 158,
   "metadata": {},
   "outputs": [
    {
     "data": {
      "text/plain": "9.0"
     },
     "execution_count": 158,
     "metadata": {},
     "output_type": "execute_result"
    }
   ],
   "source": [
    "df[(df['V193_5'].isin(opties)) & (df.V168 == 7.0)].SCV_gewicht16_herschaald.sum().round()"
   ]
  },
  {
   "cell_type": "code",
   "execution_count": 204,
   "metadata": {},
   "outputs": [
    {
     "data": {
      "text/plain": "23.0"
     },
     "execution_count": 204,
     "metadata": {},
     "output_type": "execute_result"
    }
   ],
   "source": [
    "df[(df['V193_5'].isin(opties)) & (df.V168 == 4.0)].SCV_gewicht16_herschaald.sum().round()"
   ]
  },
  {
   "cell_type": "code",
   "execution_count": 205,
   "metadata": {},
   "outputs": [
    {
     "data": {
      "text/plain": "1.0"
     },
     "execution_count": 205,
     "metadata": {},
     "output_type": "execute_result"
    }
   ],
   "source": [
    "df[(df['V193_5'].isin(opties)) & (df.V168 == 5.0)].SCV_gewicht16_herschaald.sum().round()"
   ]
  },
  {
   "cell_type": "code",
   "execution_count": 206,
   "metadata": {},
   "outputs": [
    {
     "data": {
      "text/plain": "11.0"
     },
     "execution_count": 206,
     "metadata": {},
     "output_type": "execute_result"
    }
   ],
   "source": [
    "df[(df['V193_5'].isin(opties)) & (df.V168 == 6.0)].SCV_gewicht16_herschaald.sum().round()"
   ]
  },
  {
   "cell_type": "code",
   "execution_count": 80,
   "metadata": {},
   "outputs": [
    {
     "data": {
      "text/plain": "3.0     319\n1.0     217\n2.0     206\n4.0     176\n6.0     130\n7.0     105\n77.0     83\n88.0     50\n9.0      44\n10.0     34\n5.0      34\n8.0       8\n18.0      7\n16.0      5\n12.0      3\n14.0      1\nName: V168, dtype: int64"
     },
     "execution_count": 80,
     "metadata": {},
     "output_type": "execute_result"
    }
   ],
   "source": [
    "df[(df['V190_1'].isin(opties)) | (df['V190_2'].isin(opties)) | (df['V190_3'].isin(opties)) | (df['V190_4'].isin(opties)) | (df['V190_5'].isin(opties)) | (df['V190_6'].isin(opties)) | (df['V190_7'].isin(opties)) | (df['V190_8'].isin(opties)) | (df['V190_9'].isin(opties)) | (df['V191'].isin(opties)) | (df['V193_1'].isin(opties)) | (df['V193_3'].isin(opties)) | (df['V193_4'].isin(opties)) | (df['V193_5'].isin(opties))].V168.value_counts()"
   ]
  },
  {
   "cell_type": "code",
   "execution_count": 81,
   "metadata": {},
   "outputs": [
    {
     "data": {
      "text/plain": "1.0    1363\n2.0      86\nName: V4, dtype: int64"
     },
     "execution_count": 81,
     "metadata": {},
     "output_type": "execute_result"
    }
   ],
   "source": [
    "df.V4.value_counts()"
   ]
  },
  {
   "cell_type": "code",
   "execution_count": 82,
   "metadata": {},
   "outputs": [
    {
     "data": {
      "text/html": "<div>\n<style scoped>\n    .dataframe tbody tr th:only-of-type {\n        vertical-align: middle;\n    }\n\n    .dataframe tbody tr th {\n        vertical-align: top;\n    }\n\n    .dataframe thead th {\n        text-align: right;\n    }\n</style>\n<table border=\"1\" class=\"dataframe\">\n  <thead>\n    <tr style=\"text-align: right;\">\n      <th></th>\n      <th>RESPNUM</th>\n      <th>INTNUM</th>\n      <th>INTTIME</th>\n      <th>STIME</th>\n      <th>duur_interview_uit_timers</th>\n      <th>duur_interview_uit_registratie_interviewer</th>\n      <th>VALID_DUURTIJD</th>\n      <th>T1</th>\n      <th>V1_1</th>\n      <th>v1_2</th>\n      <th>...</th>\n      <th>designgewicht</th>\n      <th>nonresponsgewicht</th>\n      <th>gewicht_na_stap2</th>\n      <th>poststratificatiegewest</th>\n      <th>gewicht_voor_poststratificatie_EAK</th>\n      <th>poststratificatieEAK</th>\n      <th>SCV_gewicht16</th>\n      <th>SCV_gewicht16_herschaald</th>\n      <th>stratum</th>\n      <th>cluster</th>\n    </tr>\n  </thead>\n  <tbody>\n  </tbody>\n</table>\n<p>0 rows × 743 columns</p>\n</div>",
      "text/plain": "Empty DataFrame\nColumns: [RESPNUM, INTNUM, INTTIME, STIME, duur_interview_uit_timers, duur_interview_uit_registratie_interviewer, VALID_DUURTIJD, T1, V1_1, v1_2, V2_1, V2_2, V3_2, V4, V5b, V6, V7b, V8, V9b, V10, V11b, V12, T2, V13, V14_1, V14_2, V15_1, V15_2, V16_1, V16_2, V17_1, V17_2, V18, T3, V19, V21, V22, V22_flag, V23, V23_flag, T4, V26, V27_1, V27_2, V28, V29_1, V29_2, V30, T5, V31_1, V31_2, V31_3, V31_4, V31_5, V31_6, V31_7, V31_8, V31_9, V31_10, V31_11, V31_12, V31_13, T6, V32, V32_flag, V32CH, T6b, V33, V34_1, V34_2, V35, V36, V37, V38, V39_1, V39_2, V40, V41_1, V41_2, V42, T7, V43, T8, V44, V44_flag, V45, V46, V47, V48, V49, V50, V51, V51_flag, V52, T9, V52_1, V52_2, V52_3, V52_4, T10, ...]\nIndex: []\n\n[0 rows x 743 columns]"
     },
     "execution_count": 82,
     "metadata": {},
     "output_type": "execute_result"
    }
   ],
   "source": [
    "df[((df.V8 == 1) & (df.V10 == 1)) & (df.V4 == 2) & (df.V6 == 1)]"
   ]
  },
  {
   "cell_type": "code",
   "execution_count": 83,
   "metadata": {},
   "outputs": [
    {
     "data": {
      "text/html": "<div>\n<style scoped>\n    .dataframe tbody tr th:only-of-type {\n        vertical-align: middle;\n    }\n\n    .dataframe tbody tr th {\n        vertical-align: top;\n    }\n\n    .dataframe thead th {\n        text-align: right;\n    }\n</style>\n<table border=\"1\" class=\"dataframe\">\n  <thead>\n    <tr style=\"text-align: right;\">\n      <th></th>\n      <th>RESPNUM</th>\n      <th>INTNUM</th>\n      <th>INTTIME</th>\n      <th>STIME</th>\n      <th>duur_interview_uit_timers</th>\n      <th>duur_interview_uit_registratie_interviewer</th>\n      <th>VALID_DUURTIJD</th>\n      <th>T1</th>\n      <th>V1_1</th>\n      <th>v1_2</th>\n      <th>...</th>\n      <th>designgewicht</th>\n      <th>nonresponsgewicht</th>\n      <th>gewicht_na_stap2</th>\n      <th>poststratificatiegewest</th>\n      <th>gewicht_voor_poststratificatie_EAK</th>\n      <th>poststratificatieEAK</th>\n      <th>SCV_gewicht16</th>\n      <th>SCV_gewicht16_herschaald</th>\n      <th>stratum</th>\n      <th>cluster</th>\n    </tr>\n  </thead>\n  <tbody>\n  </tbody>\n</table>\n<p>0 rows × 743 columns</p>\n</div>",
      "text/plain": "Empty DataFrame\nColumns: [RESPNUM, INTNUM, INTTIME, STIME, duur_interview_uit_timers, duur_interview_uit_registratie_interviewer, VALID_DUURTIJD, T1, V1_1, v1_2, V2_1, V2_2, V3_2, V4, V5b, V6, V7b, V8, V9b, V10, V11b, V12, T2, V13, V14_1, V14_2, V15_1, V15_2, V16_1, V16_2, V17_1, V17_2, V18, T3, V19, V21, V22, V22_flag, V23, V23_flag, T4, V26, V27_1, V27_2, V28, V29_1, V29_2, V30, T5, V31_1, V31_2, V31_3, V31_4, V31_5, V31_6, V31_7, V31_8, V31_9, V31_10, V31_11, V31_12, V31_13, T6, V32, V32_flag, V32CH, T6b, V33, V34_1, V34_2, V35, V36, V37, V38, V39_1, V39_2, V40, V41_1, V41_2, V42, T7, V43, T8, V44, V44_flag, V45, V46, V47, V48, V49, V50, V51, V51_flag, V52, T9, V52_1, V52_2, V52_3, V52_4, T10, ...]\nIndex: []\n\n[0 rows x 743 columns]"
     },
     "execution_count": 83,
     "metadata": {},
     "output_type": "execute_result"
    }
   ],
   "source": [
    "df[(df.V4 == 2) & (df.V6 == 1)]"
   ]
  },
  {
   "cell_type": "code",
   "execution_count": 84,
   "metadata": {},
   "outputs": [
    {
     "data": {
      "text/html": "<div>\n<style scoped>\n    .dataframe tbody tr th:only-of-type {\n        vertical-align: middle;\n    }\n\n    .dataframe tbody tr th {\n        vertical-align: top;\n    }\n\n    .dataframe thead th {\n        text-align: right;\n    }\n</style>\n<table border=\"1\" class=\"dataframe\">\n  <thead>\n    <tr style=\"text-align: right;\">\n      <th></th>\n      <th>RESPNUM</th>\n      <th>INTNUM</th>\n      <th>INTTIME</th>\n      <th>STIME</th>\n      <th>duur_interview_uit_timers</th>\n      <th>duur_interview_uit_registratie_interviewer</th>\n      <th>VALID_DUURTIJD</th>\n      <th>T1</th>\n      <th>V1_1</th>\n      <th>v1_2</th>\n      <th>...</th>\n      <th>designgewicht</th>\n      <th>nonresponsgewicht</th>\n      <th>gewicht_na_stap2</th>\n      <th>poststratificatiegewest</th>\n      <th>gewicht_voor_poststratificatie_EAK</th>\n      <th>poststratificatieEAK</th>\n      <th>SCV_gewicht16</th>\n      <th>SCV_gewicht16_herschaald</th>\n      <th>stratum</th>\n      <th>cluster</th>\n    </tr>\n  </thead>\n  <tbody>\n    <tr>\n      <th>1091</th>\n      <td>42414.0</td>\n      <td>32694.0</td>\n      <td>3943</td>\n      <td>1.368277e+10</td>\n      <td>64.0</td>\n      <td>56.0</td>\n      <td>1.0</td>\n      <td>1.368277e+10</td>\n      <td>16.0</td>\n      <td>5.0</td>\n      <td>...</td>\n      <td>2234.962757</td>\n      <td>1.874240</td>\n      <td>4188.856492</td>\n      <td>0.999505</td>\n      <td>4186.783032</td>\n      <td>1.012792</td>\n      <td>4240.339535</td>\n      <td>1.156569</td>\n      <td>4.0</td>\n      <td>99.0</td>\n    </tr>\n    <tr>\n      <th>1247</th>\n      <td>51209.0</td>\n      <td>41440.0</td>\n      <td>8802</td>\n      <td>1.368478e+10</td>\n      <td>145.0</td>\n      <td>150.0</td>\n      <td>1.0</td>\n      <td>1.368478e+10</td>\n      <td>8.0</td>\n      <td>6.0</td>\n      <td>...</td>\n      <td>2234.962757</td>\n      <td>1.549882</td>\n      <td>3463.928926</td>\n      <td>0.999505</td>\n      <td>3462.214302</td>\n      <td>1.295940</td>\n      <td>4486.821928</td>\n      <td>1.223798</td>\n      <td>5.0</td>\n      <td>126.0</td>\n    </tr>\n    <tr>\n      <th>1305</th>\n      <td>51814.0</td>\n      <td>46032.0</td>\n      <td>03596</td>\n      <td>1.368486e+10</td>\n      <td>58.0</td>\n      <td>57.0</td>\n      <td>1.0</td>\n      <td>1.368486e+10</td>\n      <td>9.0</td>\n      <td>6.0</td>\n      <td>...</td>\n      <td>2234.962757</td>\n      <td>2.390203</td>\n      <td>5342.015539</td>\n      <td>0.999505</td>\n      <td>5339.371272</td>\n      <td>1.032481</td>\n      <td>5512.801293</td>\n      <td>1.503637</td>\n      <td>5.0</td>\n      <td>132.0</td>\n    </tr>\n  </tbody>\n</table>\n<p>3 rows × 743 columns</p>\n</div>",
      "text/plain": "      RESPNUM   INTNUM INTTIME         STIME  duur_interview_uit_timers  \\\n1091  42414.0  32694.0    3943  1.368277e+10                       64.0   \n1247  51209.0  41440.0    8802  1.368478e+10                      145.0   \n1305  51814.0  46032.0   03596  1.368486e+10                       58.0   \n\n      duur_interview_uit_registratie_interviewer  VALID_DUURTIJD  \\\n1091                                        56.0             1.0   \n1247                                       150.0             1.0   \n1305                                        57.0             1.0   \n\n                T1  V1_1  v1_2  ...  designgewicht  nonresponsgewicht  \\\n1091  1.368277e+10  16.0   5.0  ...    2234.962757           1.874240   \n1247  1.368478e+10   8.0   6.0  ...    2234.962757           1.549882   \n1305  1.368486e+10   9.0   6.0  ...    2234.962757           2.390203   \n\n      gewicht_na_stap2  poststratificatiegewest  \\\n1091       4188.856492                 0.999505   \n1247       3463.928926                 0.999505   \n1305       5342.015539                 0.999505   \n\n      gewicht_voor_poststratificatie_EAK  poststratificatieEAK  SCV_gewicht16  \\\n1091                         4186.783032              1.012792    4240.339535   \n1247                         3462.214302              1.295940    4486.821928   \n1305                         5339.371272              1.032481    5512.801293   \n\n      SCV_gewicht16_herschaald  stratum  cluster  \n1091                  1.156569      4.0     99.0  \n1247                  1.223798      5.0    126.0  \n1305                  1.503637      5.0    132.0  \n\n[3 rows x 743 columns]"
     },
     "execution_count": 84,
     "metadata": {},
     "output_type": "execute_result"
    }
   ],
   "source": [
    "df[(df.V6 == 2) & ((df.V8 == 1) & (df.V10 == 1))]"
   ]
  },
  {
   "cell_type": "code",
   "execution_count": 159,
   "metadata": {},
   "outputs": [
    {
     "data": {
      "text/plain": "1422.0"
     },
     "execution_count": 159,
     "metadata": {},
     "output_type": "execute_result"
    }
   ],
   "source": [
    "df[(df['V190_1'].isin(opties)) | (df['V190_2'].isin(opties)) | (df['V190_3'].isin(opties)) | (df['V190_4'].isin(opties)) | (df['V190_5'].isin(opties)) | (df['V190_6'].isin(opties)) | (df['V190_7'].isin(opties)) | (df['V190_8'].isin(opties)) | (df['V190_9'].isin(opties)) | (df['V191'].isin(opties)) | (df['V193_1'].isin(opties)) | (df['V193_3'].isin(opties)) | (df['V193_4'].isin(opties)) | (df['V193_5'].isin(opties))].SCV_gewicht16_herschaald.sum().round()"
   ]
  },
  {
   "cell_type": "code",
   "execution_count": 160,
   "metadata": {},
   "outputs": [
    {
     "data": {
      "text/plain": "316.0"
     },
     "execution_count": 160,
     "metadata": {},
     "output_type": "execute_result"
    }
   ],
   "source": [
    "df[((df['V190_1'].isin(opties)) | (df['V190_2'].isin(opties)) | (df['V190_3'].isin(opties)) | (df['V190_4'].isin(opties)) | (df['V190_5'].isin(opties)) | (df['V190_6'].isin(opties)) | (df['V190_7'].isin(opties)) | (df['V190_8'].isin(opties)) | (df['V190_9'].isin(opties)) | (df['V191'].isin(opties)) | (df['V193_1'].isin(opties)) | (df['V193_3'].isin(opties)) | (df['V193_4'].isin(opties)) | (df['V193_5'].isin(opties))) & (df.V168 == 3.0)].SCV_gewicht16_herschaald.sum().round()"
   ]
  },
  {
   "cell_type": "code",
   "execution_count": 161,
   "metadata": {},
   "outputs": [
    {
     "data": {
      "text/plain": "219.0"
     },
     "execution_count": 161,
     "metadata": {},
     "output_type": "execute_result"
    }
   ],
   "source": [
    "df[((df['V190_1'].isin(opties)) | (df['V190_2'].isin(opties)) | (df['V190_3'].isin(opties)) | (df['V190_4'].isin(opties)) | (df['V190_5'].isin(opties)) | (df['V190_6'].isin(opties)) | (df['V190_7'].isin(opties)) | (df['V190_8'].isin(opties)) | (df['V190_9'].isin(opties)) | (df['V191'].isin(opties)) | (df['V193_1'].isin(opties)) | (df['V193_3'].isin(opties)) | (df['V193_4'].isin(opties)) | (df['V193_5'].isin(opties))) & (df.V168 == 1.0)].SCV_gewicht16_herschaald.sum().round()"
   ]
  },
  {
   "cell_type": "code",
   "execution_count": 162,
   "metadata": {},
   "outputs": [
    {
     "data": {
      "text/plain": "190.0"
     },
     "execution_count": 162,
     "metadata": {},
     "output_type": "execute_result"
    }
   ],
   "source": [
    "df[((df['V190_1'].isin(opties)) | (df['V190_2'].isin(opties)) | (df['V190_3'].isin(opties)) | (df['V190_4'].isin(opties)) | (df['V190_5'].isin(opties)) | (df['V190_6'].isin(opties)) | (df['V190_7'].isin(opties)) | (df['V190_8'].isin(opties)) | (df['V190_9'].isin(opties)) | (df['V191'].isin(opties)) | (df['V193_1'].isin(opties)) | (df['V193_3'].isin(opties)) | (df['V193_4'].isin(opties)) | (df['V193_5'].isin(opties))) & (df.V168 == 2.0)].SCV_gewicht16_herschaald.sum().round()"
   ]
  },
  {
   "cell_type": "code",
   "execution_count": 163,
   "metadata": {},
   "outputs": [
    {
     "data": {
      "text/plain": "113.0"
     },
     "execution_count": 163,
     "metadata": {},
     "output_type": "execute_result"
    }
   ],
   "source": [
    "df[((df['V190_1'].isin(opties)) | (df['V190_2'].isin(opties)) | (df['V190_3'].isin(opties)) | (df['V190_4'].isin(opties)) | (df['V190_5'].isin(opties)) | (df['V190_6'].isin(opties)) | (df['V190_7'].isin(opties)) | (df['V190_8'].isin(opties)) | (df['V190_9'].isin(opties)) | (df['V191'].isin(opties)) | (df['V193_1'].isin(opties)) | (df['V193_3'].isin(opties)) | (df['V193_4'].isin(opties)) | (df['V193_5'].isin(opties))) & (df.V168 == 7.0)].SCV_gewicht16_herschaald.sum().round()"
   ]
  },
  {
   "cell_type": "code",
   "execution_count": 207,
   "metadata": {},
   "outputs": [
    {
     "data": {
      "text/plain": "166.0"
     },
     "execution_count": 207,
     "metadata": {},
     "output_type": "execute_result"
    }
   ],
   "source": [
    "df[((df['V190_1'].isin(opties)) | (df['V190_2'].isin(opties)) | (df['V190_3'].isin(opties)) | (df['V190_4'].isin(opties)) | (df['V190_5'].isin(opties)) | (df['V190_6'].isin(opties)) | (df['V190_7'].isin(opties)) | (df['V190_8'].isin(opties)) | (df['V190_9'].isin(opties)) | (df['V191'].isin(opties)) | (df['V193_1'].isin(opties)) | (df['V193_3'].isin(opties)) | (df['V193_4'].isin(opties)) | (df['V193_5'].isin(opties))) & (df.V168 == 4.0)].SCV_gewicht16_herschaald.sum().round()"
   ]
  },
  {
   "cell_type": "code",
   "execution_count": 208,
   "metadata": {},
   "outputs": [
    {
     "data": {
      "text/plain": "35.0"
     },
     "execution_count": 208,
     "metadata": {},
     "output_type": "execute_result"
    }
   ],
   "source": [
    "df[((df['V190_1'].isin(opties)) | (df['V190_2'].isin(opties)) | (df['V190_3'].isin(opties)) | (df['V190_4'].isin(opties)) | (df['V190_5'].isin(opties)) | (df['V190_6'].isin(opties)) | (df['V190_7'].isin(opties)) | (df['V190_8'].isin(opties)) | (df['V190_9'].isin(opties)) | (df['V191'].isin(opties)) | (df['V193_1'].isin(opties)) | (df['V193_3'].isin(opties)) | (df['V193_4'].isin(opties)) | (df['V193_5'].isin(opties))) & (df.V168 == 5.0)].SCV_gewicht16_herschaald.sum().round()"
   ]
  },
  {
   "cell_type": "code",
   "execution_count": 209,
   "metadata": {},
   "outputs": [
    {
     "data": {
      "text/plain": "131.0"
     },
     "execution_count": 209,
     "metadata": {},
     "output_type": "execute_result"
    }
   ],
   "source": [
    "df[((df['V190_1'].isin(opties)) | (df['V190_2'].isin(opties)) | (df['V190_3'].isin(opties)) | (df['V190_4'].isin(opties)) | (df['V190_5'].isin(opties)) | (df['V190_6'].isin(opties)) | (df['V190_7'].isin(opties)) | (df['V190_8'].isin(opties)) | (df['V190_9'].isin(opties)) | (df['V191'].isin(opties)) | (df['V193_1'].isin(opties)) | (df['V193_3'].isin(opties)) | (df['V193_4'].isin(opties)) | (df['V193_5'].isin(opties))) & (df.V168 == 6.0)].SCV_gewicht16_herschaald.sum().round()"
   ]
  },
  {
   "cell_type": "code",
   "execution_count": null,
   "metadata": {},
   "outputs": [],
   "source": []
  }
 ]
}