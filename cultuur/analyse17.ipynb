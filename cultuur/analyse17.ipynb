{
 "nbformat": 4,
 "nbformat_minor": 2,
 "metadata": {
  "language_info": {
   "name": "python",
   "codemirror_mode": {
    "name": "ipython",
    "version": 3
   }
  },
  "orig_nbformat": 2,
  "file_extension": ".py",
  "mimetype": "text/x-python",
  "name": "python",
  "npconvert_exporter": "python",
  "pygments_lexer": "ipython3",
  "version": 3
 },
 "cells": [
  {
   "cell_type": "code",
   "execution_count": 3,
   "metadata": {},
   "outputs": [],
   "source": [
    "import pandas as pd\n",
    "import pyreadstat\n",
    "\n",
    "df, meta = pyreadstat.read_sav('cult2017.sav')"
   ]
  },
  {
   "cell_type": "code",
   "execution_count": 4,
   "metadata": {},
   "outputs": [
    {
     "data": {
      "text/plain": "1423"
     },
     "execution_count": 4,
     "metadata": {},
     "output_type": "execute_result"
    }
   ],
   "source": [
    "len(df.index)"
   ]
  },
  {
   "cell_type": "code",
   "execution_count": 5,
   "metadata": {},
   "outputs": [
    {
     "data": {
      "text/plain": "['RESPNUM',\n 'intnum',\n 'INTTIME',\n 'DUURTIJD',\n 'STIME',\n 'T2',\n 'v1_1',\n 'v1_2',\n 'v2_1',\n 'v2_2',\n 'T3',\n 'v3_2',\n 'v3_2_flag',\n 'v4',\n 'V5b',\n 'v6',\n 'V7b',\n 'v8',\n 'V9b',\n 'v10',\n 'V11b',\n 'v12',\n 'v12_flag',\n 'T4',\n 'v13',\n 'v14',\n 'v15',\n 'v16',\n 'v16_flag',\n 'v17',\n 'v17_flag',\n 'T5',\n 'v18',\n 'v19_1',\n 'v19_2',\n 'v19_1_flag',\n 'v19_2_flag',\n 'v20',\n 'T6',\n 'v21',\n 'v21_flag',\n 'v22',\n 'T7',\n 'v23',\n 'T8',\n 'v24',\n 'v24_flag',\n 'v25',\n 'v26',\n 'v27',\n 'v28',\n 'v29',\n 'v30',\n 'v31',\n 'v32',\n 'T9',\n 'v33',\n 'v33_flag',\n 'v34',\n 'T10',\n 'v35',\n 'v36',\n 'T11',\n 'v37',\n 'v37_flag',\n 'T12',\n 'v38',\n 'v39',\n 'v40',\n 'v41',\n 'v42_1',\n 'v42_2',\n 'v43',\n 'v43_flag',\n 'v44',\n 'V45',\n 'v45_flag',\n 'v46',\n 'V47',\n 'v47_flag',\n 'V48',\n 'T13',\n 'V49',\n 'v51_1',\n 'v51_2',\n 'v51_3',\n 'v51_4',\n 'v51_5',\n 'v51_6',\n 'v51_7',\n 'v51_8',\n 'V52_1',\n 'V52_2',\n 'V52_3',\n 'V52_4',\n 'V52_5',\n 'V52_6',\n 'V52_7',\n 'V52_8',\n 'v53_1',\n 'v53_1_flag',\n 'v53_2',\n 'v53_2_flag',\n 'v53_3',\n 'v53_3_flag',\n 'v53_4',\n 'v53_4_flag',\n 'v53_5',\n 'v53_6',\n 'v53_7',\n 'v53_8',\n 'T14',\n 'v54',\n 'v54_flag',\n 'T15',\n 'v55',\n 'T16',\n 'v56',\n 'T17',\n 'v57',\n 'v58_1',\n 'v58_2',\n 'v58_3',\n 'v58_4',\n 'v58_5',\n 'v58_6',\n 'v58_7',\n 'v59',\n 'v59_flag',\n 'v60',\n 'v61',\n 'T18',\n 'v62_1',\n 'v62_2',\n 'v62_3',\n 'v62_4',\n 'v62_5',\n 'v62_6',\n 'v62_7',\n 'v62_8',\n 'T19',\n 'v63_1',\n 'v63_2',\n 'v63_3',\n 'v63_4',\n 'v63_5',\n 'v63_6',\n 'v63_7',\n 'T20',\n 'v64',\n 'v65',\n 'v66',\n 'T21',\n 'v67',\n 'v68_1',\n 'v68_2',\n 'v68WN',\n 'V68NUL',\n 'T22',\n 'v69',\n 'v70',\n 'v71',\n 'T23',\n 'v72_1',\n 'v72_2',\n 'v72_3',\n 'v72_4',\n 'v72_5',\n 'v72_6',\n 'v72_7',\n 'v72_8',\n 'v72_9',\n 'v72_10',\n 'v72_11',\n 'v72_12',\n 'v72_13',\n 'v72_14',\n 'v72_15',\n 'v72_16',\n 'v72_17',\n 'v72_18',\n 'v72_19',\n 'v72_20',\n 'v72_21',\n 'v72_22',\n 'v72_23',\n 'v72_24',\n 'v73',\n 'v74_1',\n 'v74_2',\n 'v74_3',\n 'v75_1',\n 'v75_2',\n 'v75_3',\n 'T24',\n 'v76',\n 'T25',\n 'v81',\n 'T26',\n 'v77',\n 'v78',\n 'v79',\n 'T27',\n 'v80_1',\n 'v80_2',\n 'v80_3',\n 'v80_4',\n 'v80_5',\n 'v80_6',\n 'v80_7',\n 'v80_8',\n 'v80_9',\n 'T28',\n 'v82_1',\n 'v82_2',\n 'v82_3',\n 'v82_4',\n 'v82_5',\n 'v82_6',\n 'v82_7',\n 'v82_8',\n 'v82_9',\n 'v82_10',\n 'v82_11',\n 'v82_12',\n 'v82_13',\n 'v82_14',\n 'v82_15',\n 'v82_16',\n 'v82_17',\n 'v82_18',\n 'v82_19',\n 'v82_20',\n 'v82_21',\n 'v82_22',\n 'v82_23',\n 'v82_24',\n 'v82_25',\n 'v83',\n 'v84',\n 'v85',\n 'T29',\n 'v86',\n 'v87',\n 'v88',\n 'v89',\n 'T30',\n 'v90_1',\n 'v90_2',\n 'v90_3',\n 'v90_4',\n 'v90_5',\n 'T31',\n 'v91_1',\n 'v91_2',\n 'v91_3',\n 'v91_4',\n 'v91_5',\n 'v91_6',\n 'v91_7',\n 'v91_8',\n 'v91_9',\n 'v93',\n 'T32',\n 'v94_1',\n 'v94_2',\n 'v94_3',\n 'v94_4',\n 'v94_5',\n 'v94_6',\n 'v94_7',\n 'v94_8',\n 'v94_9',\n 'v94_10',\n 'v94_10_a',\n 'v95_1',\n 'v95_2',\n 'v95_3',\n 'v95_4',\n 'v95_5',\n 'v95_6',\n 'v95_7',\n 'v95_8',\n 'v95_9',\n 'v95_10',\n 'v92_1',\n 'v92_2',\n 'v92_3',\n 'v92_4',\n 'v92_5',\n 'v92_6',\n 'v96_1',\n 'v96_2',\n 'v96_3',\n 'v96_4',\n 'v96_5',\n 'v96_6',\n 'v96_7',\n 'v96_8',\n 'v96_9',\n 'v97_1',\n 'v97_2',\n 'v97_3',\n 'v97_4',\n 'v97_5',\n 'v97_6',\n 'v97_7',\n 'v97_8',\n 'v97_9',\n 'v97_10',\n 'v97_11',\n 'T33',\n 'v98',\n 'V99_1',\n 'V100_1',\n 'V99_2',\n 'V100_2',\n 'V99_3',\n 'V99_4',\n 'V99_5',\n 'T34',\n 'v101',\n 'T35',\n 'v102_1',\n 'v102_2',\n 'v102_3',\n 'v102_4',\n 'v102_5',\n 'v102_6',\n 'V102_7',\n 'V102_8',\n 'v103',\n 'v104',\n 'T36',\n 'v105_1',\n 'v105_2',\n 'v105_3',\n 'v105_4',\n 'v105_5',\n 'v105_6',\n 'v105_7',\n 'v105_8',\n 'v105_9',\n 'v105_10',\n 'v105_11',\n 'v105_12',\n 'v105_13',\n 'v105_14',\n 'T37',\n 'v106_1',\n 'v106_2',\n 'v106_3',\n 'v106_4',\n 'v106_5',\n 'v106_6',\n 'v106_7',\n 'v106_8',\n 'T38',\n 'v107',\n 'v108',\n 'v109',\n 'v110_1',\n 'v110_2',\n 'v110_3',\n 'v110_4',\n 'v110_5',\n 'v110_6',\n 'T39',\n 'v111_1',\n 'v111_2',\n 'v111_3',\n 'v111_4',\n 'v111_5',\n 'v111_6',\n 'v111_7',\n 'v111_8',\n 'v111_9',\n 'v111_10',\n 'v111_11',\n 'v111_12',\n 'v111_13',\n 'v111_14',\n 'v111_15',\n 'v111_16',\n 'v111_17',\n 'v111_18',\n 'SL111_1',\n 'SL111_2',\n 'SL111_3',\n 'SL111_4',\n 'SL111_5',\n 'SL111_6',\n 'SL111_7',\n 'SL111_8',\n 'SL111_9',\n 'SL111_10',\n 'SL111_11',\n 'SL111_12',\n 'SL111_13',\n 'SL111_14',\n 'SL111_15',\n 'SL111_16',\n 'SL111_17',\n 'SL111_18',\n 'T40',\n 'T41',\n 'v112',\n 'T42',\n 'v113',\n 'T43',\n 'T44',\n 'v114_1',\n 'v114_2',\n 'v114_3',\n 'v114_4',\n 'v114_5',\n 'v114_6',\n 'v114_7',\n 'v114_8',\n 'v114_9',\n 'T45',\n 'v115_1',\n 'v115_2',\n 'v115_3',\n 'v115_4',\n 'v115_5',\n 'v115_6',\n 'v115_7',\n 'v115_8',\n 'v115_9',\n 'v115_10',\n 'v115_11',\n 'v115_12',\n 'v116',\n 'v117',\n 'v117_flag',\n 'T46',\n 'v118',\n 'v119',\n 'v120',\n 'v121',\n 'v122',\n 'T47',\n 'v123_1',\n 'v123_2',\n 'v123_3',\n 'v123_4',\n 'v123_5',\n 'T48',\n 'v124',\n 'v125',\n 'v126_1',\n 'v126_2',\n 'v126_3',\n 'v126_4',\n 'v126_5',\n 'v126_6',\n 'T49',\n 'v127_1',\n 'v127_2',\n 'v127_3',\n 'v127_4',\n 'v127_5',\n 'v127_6',\n 'v127_7',\n 'v127_8',\n 'v127_9',\n 'v127_10',\n 'v127_11',\n 'v127_12',\n 'v127_13',\n 'v127_14',\n 'v127_15',\n 'v127_16',\n 'v127_17',\n 'v127_18',\n 'v127_19',\n 'v127_20',\n 'v127_21',\n 'v127_22',\n 'v127_23',\n 'v127_24',\n 'SL127_1',\n 'SL127_2',\n 'SL127_3',\n 'SL127_4',\n 'SL127_5',\n 'SL127_6',\n 'SL127_7',\n 'SL127_8',\n 'SL127_9',\n 'SL127_10',\n 'SL127_11',\n 'SL127_12',\n 'SL127_13',\n 'SL127_14',\n 'SL127_15',\n 'SL127_16',\n 'SL127_17',\n 'SL127_18',\n 'SL127_19',\n 'SL127_20',\n 'SL127_21',\n 'SL127_22',\n 'SL127_23',\n 'SL127_24',\n 'T50',\n 'v128_1',\n 'v128_2',\n 'v128_3',\n 'v128_4',\n 'T51',\n 'v129_1',\n 'v129_2',\n 'v129_3',\n 'v129_4',\n 'v129_5',\n 'v129_6',\n 'v129_7',\n 'v129_8',\n 'v129_9',\n 'v129_10',\n 'v129_11',\n 'v129_12',\n 'v129_13',\n 'v129_14',\n 'v129_15',\n 'T52',\n 'v130_1',\n 'v130_2',\n 'v131',\n 'v132_1',\n 'v132_2',\n 'v133',\n 'v134_1',\n 'v134_2',\n 'v134_3',\n 'v134_4',\n 'v134_5',\n 'v134_6',\n 'v134_7',\n 'v134_8',\n 'v134_9',\n 'T53',\n 'v135',\n 'v136_1_code',\n 'v136_2_code',\n 'v136_3_code',\n 'v136_4_code',\n 'v136_5_code',\n 'v136_6_code',\n 'v137_1',\n 'v137_2',\n 'v137_3',\n 'v137_4',\n 'v137_5',\n 'v137_6',\n 'v138_1',\n 'v138_2',\n 'v138_3',\n 'v138_4',\n 'v138_5',\n 'v138_6',\n 'v138_7',\n 'v138_8',\n 'v138_9',\n 'v138_10',\n 'v138_11',\n 'v138_12',\n 'v138_13',\n 'v138_14',\n 'v138_15',\n 'v138_16',\n 'v138_17',\n 'v138_18',\n 'v138_19',\n 'v138_20',\n 'v138_21',\n 'v138_22',\n 'v138_23',\n 'v138_24',\n 'v138_25',\n 'v138_26',\n 'v138_27',\n 'v138_28',\n 'v138_29',\n 'v138_30',\n 'v138_31',\n 'v138_32',\n 'v138_33',\n 'v138_34',\n 'v138_35',\n 'v138_36',\n 'v138_37',\n 'v138_38',\n 'v138_39',\n 'v138_40',\n 'v138_41',\n 'v138_42',\n 'T54',\n 'v139_1',\n 'v139_2',\n 'v139_3',\n 'v139_4',\n 'v139_5',\n 'v139_6',\n 'v139_7',\n 'v139_8',\n 'v139_9',\n 'V139_10',\n 'v140',\n 'v141_1',\n 'v141_2',\n 'v141_3',\n 'v141_4',\n 'v141_5',\n 'v141_6',\n 'v141_7',\n 'v141_8',\n 'v141_9',\n 'v142_1',\n 'v142_2',\n 'v142_3',\n 'v142_4',\n 'v142_5',\n 'v143_1',\n 'v143_2',\n 'v143_3',\n 'v143_4',\n 'v143_5',\n 'v143_6',\n 'T55',\n 'v144',\n 'T56',\n 'v145_1',\n 'v145_2',\n 'v145_3',\n 'v145_4',\n 'v145_5',\n 'v145_6',\n 'v145_7',\n 'v145_8',\n 'v145_9',\n 'v145_10',\n 'v145_11',\n 'T57',\n 'v146_1',\n 'v146_2',\n 'v146_3',\n 'v146_4',\n 'v146_5',\n 'v146_6',\n 'v146_7',\n 'v146_8',\n 'T58',\n 'v147',\n 'v148',\n 'v149',\n 'v150',\n 'T59',\n 'v151_1',\n 'v151_2',\n 'v151_3',\n 'v151_4',\n 'v151_5',\n 'v151_6',\n 'v151_7',\n 'v151_8',\n 'T60',\n 'EINDUUR',\n 'EINDMIN',\n 'ir1',\n 'ir2_1',\n 'ir2_2',\n 'ir2_3',\n 'ir2_4',\n 'ir2_5',\n 'ir3_1',\n 'ir3_2',\n 'ir3_3',\n 'ir3_4',\n 'ir3_5',\n 'ir4',\n 'ir5',\n 'ir6',\n 'ir7',\n 'ir8',\n 'ir9a',\n 'ir9b_1',\n 'ir9b_2',\n 'ir9b_3',\n 'ir9c',\n 'ir10',\n 'Q13def',\n 'Q14def',\n 'Q15def',\n 'Q16def',\n 'leeftijdsklasse',\n 'lft',\n 'lft_7kl',\n 'provincie',\n 'NUTS2',\n 'rsv',\n 'urbanisatie',\n 'gezinstype',\n 'opleid17',\n 'opleid17N',\n 'opleid17_eak_oud',\n 'oversamplingfactor',\n 'selectiekans',\n 'designgewicht',\n 'Belg',\n 'responsquintiel',\n 'nonresponsgewicht',\n 'gewicht_na_stap2',\n 'regio',\n 'poststratificatiegewest',\n 'gewicht_voor_poststratificatie_EAK',\n 'poststratificatieEAK',\n 'SCV_gewicht17',\n 'SCV_gewicht_herschaald17',\n 'stratum',\n 'cluster']"
     },
     "execution_count": 5,
     "metadata": {},
     "output_type": "execute_result"
    }
   ],
   "source": [
    "df.columns.tolist()"
   ]
  },
  {
   "cell_type": "code",
   "execution_count": 6,
   "metadata": {},
   "outputs": [],
   "source": [
    "geen = df[(df['v139_1'] == 1) & (df['v139_2'] == 1) & (df['v139_3'] == 1) & (df['v139_4'] == 1) & (df['v139_5'] == 1) & (df['v139_6'] == 1) & (df['v139_7'] == 1) & (df['v139_8'] == 1) & (df['v139_9'] == 1) & (df['v140'] == 1) & (df['v142_1'] == 1) & (df['v142_3'] == 1) & (df['v142_4'] == 1) & (df['v142_5'] == 1)]"
   ]
  },
  {
   "cell_type": "code",
   "execution_count": 7,
   "metadata": {},
   "outputs": [
    {
     "data": {
      "text/plain": "21.0"
     },
     "execution_count": 7,
     "metadata": {},
     "output_type": "execute_result"
    }
   ],
   "source": [
    "geen.SCV_gewicht_herschaald17.sum().round()"
   ]
  },
  {
   "cell_type": "code",
   "execution_count": 8,
   "metadata": {},
   "outputs": [],
   "source": [
    "none = [7, 8]"
   ]
  },
  {
   "cell_type": "code",
   "execution_count": 10,
   "metadata": {},
   "outputs": [],
   "source": [
    "geen_ant = df[(df['v139_1'].isin(none)) & (df['v139_2'].isin(none)) & (df['v139_3'].isin(none)) & (df['v139_4'].isin(none)) & (df['v139_5'].isin(none)) & (df['v139_6'].isin(none)) & (df['v139_7'].isin(none)) & (df['v139_8'].isin(none)) & (df['v139_9'].isin(none)) & (df['v140'].isin(none)) & (df['v142_1'].isin(none)) & (df['v142_3'].isin(none)) & (df['v142_4'].isin(none)) & (df['v142_5'].isin(none))]"
   ]
  },
  {
   "cell_type": "code",
   "execution_count": 11,
   "metadata": {},
   "outputs": [
    {
     "data": {
      "text/plain": "2.0"
     },
     "execution_count": 11,
     "metadata": {},
     "output_type": "execute_result"
    }
   ],
   "source": [
    "geen_ant.SCV_gewicht_herschaald17.sum().round()"
   ]
  },
  {
   "cell_type": "code",
   "execution_count": 13,
   "metadata": {},
   "outputs": [
    {
     "data": {
      "text/html": "<div>\n<style scoped>\n    .dataframe tbody tr th:only-of-type {\n        vertical-align: middle;\n    }\n\n    .dataframe tbody tr th {\n        vertical-align: top;\n    }\n\n    .dataframe thead th {\n        text-align: right;\n    }\n</style>\n<table border=\"1\" class=\"dataframe\">\n  <thead>\n    <tr style=\"text-align: right;\">\n      <th></th>\n      <th>RESPNUM</th>\n      <th>intnum</th>\n      <th>INTTIME</th>\n      <th>DUURTIJD</th>\n      <th>STIME</th>\n      <th>T2</th>\n      <th>v1_1</th>\n      <th>v1_2</th>\n      <th>v2_1</th>\n      <th>v2_2</th>\n      <th>...</th>\n      <th>nonresponsgewicht</th>\n      <th>gewicht_na_stap2</th>\n      <th>regio</th>\n      <th>poststratificatiegewest</th>\n      <th>gewicht_voor_poststratificatie_EAK</th>\n      <th>poststratificatieEAK</th>\n      <th>SCV_gewicht17</th>\n      <th>SCV_gewicht_herschaald17</th>\n      <th>stratum</th>\n      <th>cluster</th>\n    </tr>\n  </thead>\n  <tbody>\n    <tr>\n      <th>1242</th>\n      <td>113613.0</td>\n      <td>8209.0</td>\n      <td>4852.0</td>\n      <td>80.866667</td>\n      <td>2017-03-25 19:03:15</td>\n      <td>2017-04-02 12:57:36</td>\n      <td>2.0</td>\n      <td>4.0</td>\n      <td>13.0</td>\n      <td>0.0</td>\n      <td>...</td>\n      <td>1.882155</td>\n      <td>4231.33242</td>\n      <td>2.0</td>\n      <td>0.999389</td>\n      <td>4228.745673</td>\n      <td>1.02123</td>\n      <td>4318.523381</td>\n      <td>1.15006</td>\n      <td>5.0</td>\n      <td>78.0</td>\n    </tr>\n  </tbody>\n</table>\n<p>1 rows × 723 columns</p>\n</div>",
      "text/plain": "       RESPNUM  intnum  INTTIME   DUURTIJD               STIME  \\\n1242  113613.0  8209.0   4852.0  80.866667 2017-03-25 19:03:15   \n\n                      T2  v1_1  v1_2  v2_1  v2_2  ... nonresponsgewicht  \\\n1242 2017-04-02 12:57:36   2.0   4.0  13.0   0.0  ...          1.882155   \n\n      gewicht_na_stap2  regio  poststratificatiegewest  \\\n1242        4231.33242    2.0                 0.999389   \n\n      gewicht_voor_poststratificatie_EAK  poststratificatieEAK  SCV_gewicht17  \\\n1242                         4228.745673               1.02123    4318.523381   \n\n      SCV_gewicht_herschaald17  stratum  cluster  \n1242                   1.15006      5.0     78.0  \n\n[1 rows x 723 columns]"
     },
     "execution_count": 13,
     "metadata": {},
     "output_type": "execute_result"
    }
   ],
   "source": [
    "df[((df.v8 == 1) & (df.v10 == 1)) & (df.v4 != 1)]"
   ]
  },
  {
   "cell_type": "code",
   "execution_count": 14,
   "metadata": {},
   "outputs": [],
   "source": [
    "opties = [2, 3, 4]"
   ]
  },
  {
   "cell_type": "code",
   "execution_count": 15,
   "metadata": {},
   "outputs": [
    {
     "data": {
      "text/plain": "203.0"
     },
     "execution_count": 15,
     "metadata": {},
     "output_type": "execute_result"
    }
   ],
   "source": [
    "df[(((df.v8 == 2) | (df.v10 == 2)) | (df.v6 == 2)) & (df.v139_1 == 1)].SCV_gewicht_herschaald17.sum().round()"
   ]
  },
  {
   "cell_type": "code",
   "execution_count": 16,
   "metadata": {},
   "outputs": [
    {
     "data": {
      "text/plain": "11.0"
     },
     "execution_count": 16,
     "metadata": {},
     "output_type": "execute_result"
    }
   ],
   "source": [
    "df[(((df.v8 == 2) | (df.v10 == 2)) | (df.v6 == 2)) & df.v139_1.isin(opties)].SCV_gewicht_herschaald17.sum().round()"
   ]
  },
  {
   "cell_type": "code",
   "execution_count": 18,
   "metadata": {},
   "outputs": [
    {
     "data": {
      "text/plain": "1134.0"
     },
     "execution_count": 18,
     "metadata": {},
     "output_type": "execute_result"
    }
   ],
   "source": [
    "df[(((df.v8 == 1) & (df.v10 == 1)) & (df.v4 == 1)) & (df.v139_1 == 1)].SCV_gewicht_herschaald17.sum().round()"
   ]
  },
  {
   "cell_type": "code",
   "execution_count": 21,
   "metadata": {},
   "outputs": [
    {
     "data": {
      "text/plain": "73.0"
     },
     "execution_count": 21,
     "metadata": {},
     "output_type": "execute_result"
    }
   ],
   "source": [
    "df[(((df.v8 == 1) & (df.v10 == 1)) & (df.v4 == 1)) & df.v139_1.isin(opties)].SCV_gewicht_herschaald17.sum().round()"
   ]
  },
  {
   "cell_type": "code",
   "execution_count": 22,
   "metadata": {},
   "outputs": [
    {
     "data": {
      "text/plain": "199.0"
     },
     "execution_count": 22,
     "metadata": {},
     "output_type": "execute_result"
    }
   ],
   "source": [
    "df[(((df.v8 == 2) | (df.v10 == 2)) | (df.v6 == 2)) & (df.v139_2 == 1)].SCV_gewicht_herschaald17.sum().round()"
   ]
  },
  {
   "cell_type": "code",
   "execution_count": 23,
   "metadata": {},
   "outputs": [
    {
     "data": {
      "text/plain": "15.0"
     },
     "execution_count": 23,
     "metadata": {},
     "output_type": "execute_result"
    }
   ],
   "source": [
    "df[(((df.v8 == 2) | (df.v10 == 2)) | (df.v6 == 2)) & df.v139_2.isin(opties)].SCV_gewicht_herschaald17.sum().round()"
   ]
  },
  {
   "cell_type": "code",
   "execution_count": 24,
   "metadata": {},
   "outputs": [
    {
     "data": {
      "text/plain": "1098.0"
     },
     "execution_count": 24,
     "metadata": {},
     "output_type": "execute_result"
    }
   ],
   "source": [
    "df[(((df.v8 == 1) & (df.v10 == 1)) & (df.v4 == 1)) & (df.v139_2 == 1)].SCV_gewicht_herschaald17.sum().round()"
   ]
  },
  {
   "cell_type": "code",
   "execution_count": 25,
   "metadata": {},
   "outputs": [
    {
     "data": {
      "text/plain": "109.0"
     },
     "execution_count": 25,
     "metadata": {},
     "output_type": "execute_result"
    }
   ],
   "source": [
    "df[(((df.v8 == 1) & (df.v10 == 1)) & (df.v4 == 1)) & df.v139_2.isin(opties)].SCV_gewicht_herschaald17.sum().round()"
   ]
  },
  {
   "cell_type": "code",
   "execution_count": 26,
   "metadata": {},
   "outputs": [
    {
     "data": {
      "text/plain": "201.0"
     },
     "execution_count": 26,
     "metadata": {},
     "output_type": "execute_result"
    }
   ],
   "source": [
    "df[(((df.v8 == 2) | (df.v10 == 2)) | (df.v6 == 2)) & (df.v139_3 == 1)].SCV_gewicht_herschaald17.sum().round()"
   ]
  },
  {
   "cell_type": "code",
   "execution_count": 27,
   "metadata": {},
   "outputs": [
    {
     "data": {
      "text/plain": "13.0"
     },
     "execution_count": 27,
     "metadata": {},
     "output_type": "execute_result"
    }
   ],
   "source": [
    "df[(((df.v8 == 2) | (df.v10 == 2)) | (df.v6 == 2)) & df.v139_3.isin(opties)].SCV_gewicht_herschaald17.sum().round()"
   ]
  },
  {
   "cell_type": "code",
   "execution_count": 28,
   "metadata": {},
   "outputs": [
    {
     "data": {
      "text/plain": "1061.0"
     },
     "execution_count": 28,
     "metadata": {},
     "output_type": "execute_result"
    }
   ],
   "source": [
    "df[(((df.v8 == 1) & (df.v10 == 1)) & (df.v4 == 1)) & (df.v139_3 == 1)].SCV_gewicht_herschaald17.sum().round()"
   ]
  },
  {
   "cell_type": "code",
   "execution_count": 29,
   "metadata": {},
   "outputs": [
    {
     "data": {
      "text/plain": "146.0"
     },
     "execution_count": 29,
     "metadata": {},
     "output_type": "execute_result"
    }
   ],
   "source": [
    "df[(((df.v8 == 1) & (df.v10 == 1)) & (df.v4 == 1)) & df.v139_3.isin(opties)].SCV_gewicht_herschaald17.sum().round()"
   ]
  },
  {
   "cell_type": "code",
   "execution_count": 30,
   "metadata": {},
   "outputs": [
    {
     "data": {
      "text/plain": "184.0"
     },
     "execution_count": 30,
     "metadata": {},
     "output_type": "execute_result"
    }
   ],
   "source": [
    "df[(((df.v8 == 2) | (df.v10 == 2)) | (df.v6 == 2)) & (df.v139_4 == 1)].SCV_gewicht_herschaald17.sum().round()"
   ]
  },
  {
   "cell_type": "code",
   "execution_count": 31,
   "metadata": {},
   "outputs": [
    {
     "data": {
      "text/plain": "30.0"
     },
     "execution_count": 31,
     "metadata": {},
     "output_type": "execute_result"
    }
   ],
   "source": [
    "df[(((df.v8 == 2) | (df.v10 == 2)) | (df.v6 == 2)) & df.v139_4.isin(opties)].SCV_gewicht_herschaald17.sum().round()"
   ]
  },
  {
   "cell_type": "code",
   "execution_count": 32,
   "metadata": {},
   "outputs": [
    {
     "data": {
      "text/plain": "923.0"
     },
     "execution_count": 32,
     "metadata": {},
     "output_type": "execute_result"
    }
   ],
   "source": [
    "df[(((df.v8 == 1) & (df.v10 == 1)) & (df.v4 == 1)) & (df.v139_4 == 1)].SCV_gewicht_herschaald17.sum().round()"
   ]
  },
  {
   "cell_type": "code",
   "execution_count": 33,
   "metadata": {},
   "outputs": [
    {
     "data": {
      "text/plain": "283.0"
     },
     "execution_count": 33,
     "metadata": {},
     "output_type": "execute_result"
    }
   ],
   "source": [
    "df[(((df.v8 == 1) & (df.v10 == 1)) & (df.v4 == 1)) & df.v139_4.isin(opties)].SCV_gewicht_herschaald17.sum().round()"
   ]
  },
  {
   "cell_type": "code",
   "execution_count": 34,
   "metadata": {},
   "outputs": [
    {
     "data": {
      "text/plain": "176.0"
     },
     "execution_count": 34,
     "metadata": {},
     "output_type": "execute_result"
    }
   ],
   "source": [
    "df[(((df.v8 == 2) | (df.v10 == 2)) | (df.v6 == 2)) & (df.v139_5 == 1)].SCV_gewicht_herschaald17.sum().round()"
   ]
  },
  {
   "cell_type": "code",
   "execution_count": 35,
   "metadata": {},
   "outputs": [
    {
     "data": {
      "text/plain": "37.0"
     },
     "execution_count": 35,
     "metadata": {},
     "output_type": "execute_result"
    }
   ],
   "source": [
    "df[(((df.v8 == 2) | (df.v10 == 2)) | (df.v6 == 2)) & df.v139_5.isin(opties)].SCV_gewicht_herschaald17.sum().round()"
   ]
  },
  {
   "cell_type": "code",
   "execution_count": 36,
   "metadata": {},
   "outputs": [
    {
     "data": {
      "text/plain": "864.0"
     },
     "execution_count": 36,
     "metadata": {},
     "output_type": "execute_result"
    }
   ],
   "source": [
    "df[(((df.v8 == 1) & (df.v10 == 1)) & (df.v4 == 1)) & (df.v139_5 == 1)].SCV_gewicht_herschaald17.sum().round()"
   ]
  },
  {
   "cell_type": "code",
   "execution_count": 37,
   "metadata": {},
   "outputs": [
    {
     "data": {
      "text/plain": "343.0"
     },
     "execution_count": 37,
     "metadata": {},
     "output_type": "execute_result"
    }
   ],
   "source": [
    "df[(((df.v8 == 1) & (df.v10 == 1)) & (df.v4 == 1)) & df.v139_5.isin(opties)].SCV_gewicht_herschaald17.sum().round()"
   ]
  },
  {
   "cell_type": "code",
   "execution_count": 38,
   "metadata": {},
   "outputs": [
    {
     "data": {
      "text/plain": "191.0"
     },
     "execution_count": 38,
     "metadata": {},
     "output_type": "execute_result"
    }
   ],
   "source": [
    "df[(((df.v8 == 2) | (df.v10 == 2)) | (df.v6 == 2)) & (df.v139_6 == 1)].SCV_gewicht_herschaald17.sum().round()"
   ]
  },
  {
   "cell_type": "code",
   "execution_count": 39,
   "metadata": {},
   "outputs": [
    {
     "data": {
      "text/plain": "23.0"
     },
     "execution_count": 39,
     "metadata": {},
     "output_type": "execute_result"
    }
   ],
   "source": [
    "df[(((df.v8 == 2) | (df.v10 == 2)) | (df.v6 == 2)) & df.v139_6.isin(opties)].SCV_gewicht_herschaald17.sum().round()"
   ]
  },
  {
   "cell_type": "code",
   "execution_count": 40,
   "metadata": {},
   "outputs": [
    {
     "data": {
      "text/plain": "1119.0"
     },
     "execution_count": 40,
     "metadata": {},
     "output_type": "execute_result"
    }
   ],
   "source": [
    "df[(((df.v8 == 1) & (df.v10 == 1)) & (df.v4 == 1)) & (df.v139_6 == 1)].SCV_gewicht_herschaald17.sum().round()"
   ]
  },
  {
   "cell_type": "code",
   "execution_count": 41,
   "metadata": {},
   "outputs": [
    {
     "data": {
      "text/plain": "88.0"
     },
     "execution_count": 41,
     "metadata": {},
     "output_type": "execute_result"
    }
   ],
   "source": [
    "df[(((df.v8 == 1) & (df.v10 == 1)) & (df.v4 == 1)) & df.v139_6.isin(opties)].SCV_gewicht_herschaald17.sum().round()"
   ]
  },
  {
   "cell_type": "code",
   "execution_count": 43,
   "metadata": {},
   "outputs": [
    {
     "data": {
      "text/plain": "184.0"
     },
     "execution_count": 43,
     "metadata": {},
     "output_type": "execute_result"
    }
   ],
   "source": [
    "df[(((df.v8 == 2) | (df.v10 == 2)) | (df.v6 == 2)) & (df.v139_7 == 1)].SCV_gewicht_herschaald17.sum().round()"
   ]
  },
  {
   "cell_type": "code",
   "execution_count": 44,
   "metadata": {},
   "outputs": [
    {
     "data": {
      "text/plain": "29.0"
     },
     "execution_count": 44,
     "metadata": {},
     "output_type": "execute_result"
    }
   ],
   "source": [
    "df[(((df.v8 == 2) | (df.v10 == 2)) | (df.v6 == 2)) & df.v139_7.isin(opties)].SCV_gewicht_herschaald17.sum().round()"
   ]
  },
  {
   "cell_type": "code",
   "execution_count": 45,
   "metadata": {},
   "outputs": [
    {
     "data": {
      "text/plain": "1047.0"
     },
     "execution_count": 45,
     "metadata": {},
     "output_type": "execute_result"
    }
   ],
   "source": [
    "df[(((df.v8 == 1) & (df.v10 == 1)) & (df.v4 == 1)) & (df.v139_7 == 1)].SCV_gewicht_herschaald17.sum().round()"
   ]
  },
  {
   "cell_type": "code",
   "execution_count": 46,
   "metadata": {},
   "outputs": [
    {
     "data": {
      "text/plain": "160.0"
     },
     "execution_count": 46,
     "metadata": {},
     "output_type": "execute_result"
    }
   ],
   "source": [
    "df[(((df.v8 == 1) & (df.v10 == 1)) & (df.v4 == 1)) & df.v139_7.isin(opties)].SCV_gewicht_herschaald17.sum().round()"
   ]
  },
  {
   "cell_type": "code",
   "execution_count": 47,
   "metadata": {},
   "outputs": [
    {
     "data": {
      "text/plain": "185.0"
     },
     "execution_count": 47,
     "metadata": {},
     "output_type": "execute_result"
    }
   ],
   "source": [
    "df[(((df.v8 == 2) | (df.v10 == 2)) | (df.v6 == 2)) & (df.v139_8 == 1)].SCV_gewicht_herschaald17.sum().round()"
   ]
  },
  {
   "cell_type": "code",
   "execution_count": 48,
   "metadata": {},
   "outputs": [
    {
     "data": {
      "text/plain": "29.0"
     },
     "execution_count": 48,
     "metadata": {},
     "output_type": "execute_result"
    }
   ],
   "source": [
    "df[(((df.v8 == 2) | (df.v10 == 2)) | (df.v6 == 2)) & df.v139_8.isin(opties)].SCV_gewicht_herschaald17.sum().round()"
   ]
  },
  {
   "cell_type": "code",
   "execution_count": 49,
   "metadata": {},
   "outputs": [
    {
     "data": {
      "text/plain": "957.0"
     },
     "execution_count": 49,
     "metadata": {},
     "output_type": "execute_result"
    }
   ],
   "source": [
    "df[(((df.v8 == 1) & (df.v10 == 1)) & (df.v4 == 1)) & (df.v139_8 == 1)].SCV_gewicht_herschaald17.sum().round()"
   ]
  },
  {
   "cell_type": "code",
   "execution_count": 50,
   "metadata": {},
   "outputs": [
    {
     "data": {
      "text/plain": "250.0"
     },
     "execution_count": 50,
     "metadata": {},
     "output_type": "execute_result"
    }
   ],
   "source": [
    "df[(((df.v8 == 1) & (df.v10 == 1)) & (df.v4 == 1)) & df.v139_8.isin(opties)].SCV_gewicht_herschaald17.sum().round()"
   ]
  },
  {
   "cell_type": "code",
   "execution_count": 51,
   "metadata": {},
   "outputs": [
    {
     "data": {
      "text/plain": "82.0"
     },
     "execution_count": 51,
     "metadata": {},
     "output_type": "execute_result"
    }
   ],
   "source": [
    "df[(((df.v8 == 2) | (df.v10 == 2)) | (df.v6 == 2)) & (df.v139_9 == 1)].SCV_gewicht_herschaald17.sum().round()"
   ]
  },
  {
   "cell_type": "code",
   "execution_count": 52,
   "metadata": {},
   "outputs": [
    {
     "data": {
      "text/plain": "132.0"
     },
     "execution_count": 52,
     "metadata": {},
     "output_type": "execute_result"
    }
   ],
   "source": [
    "df[(((df.v8 == 2) | (df.v10 == 2)) | (df.v6 == 2)) & df.v139_9.isin(opties)].SCV_gewicht_herschaald17.sum().round()"
   ]
  },
  {
   "cell_type": "code",
   "execution_count": 53,
   "metadata": {},
   "outputs": [
    {
     "data": {
      "text/plain": "537.0"
     },
     "execution_count": 53,
     "metadata": {},
     "output_type": "execute_result"
    }
   ],
   "source": [
    "df[(((df.v8 == 1) & (df.v10 == 1)) & (df.v4 == 1)) & (df.v139_9 == 1)].SCV_gewicht_herschaald17.sum().round()"
   ]
  },
  {
   "cell_type": "code",
   "execution_count": 54,
   "metadata": {},
   "outputs": [
    {
     "data": {
      "text/plain": "670.0"
     },
     "execution_count": 54,
     "metadata": {},
     "output_type": "execute_result"
    }
   ],
   "source": [
    "df[(((df.v8 == 1) & (df.v10 == 1)) & (df.v4 == 1)) & df.v139_9.isin(opties)].SCV_gewicht_herschaald17.sum().round()"
   ]
  },
  {
   "cell_type": "code",
   "execution_count": 55,
   "metadata": {},
   "outputs": [
    {
     "data": {
      "text/plain": "80.0"
     },
     "execution_count": 55,
     "metadata": {},
     "output_type": "execute_result"
    }
   ],
   "source": [
    "df[(((df.v8 == 2) | (df.v10 == 2)) | (df.v6 == 2)) & (df.v140 == 1)].SCV_gewicht_herschaald17.sum().round()"
   ]
  },
  {
   "cell_type": "code",
   "execution_count": 56,
   "metadata": {},
   "outputs": [
    {
     "data": {
      "text/plain": "134.0"
     },
     "execution_count": 56,
     "metadata": {},
     "output_type": "execute_result"
    }
   ],
   "source": [
    "df[(((df.v8 == 2) | (df.v10 == 2)) | (df.v6 == 2)) & df.v140.isin(opties)].SCV_gewicht_herschaald17.sum().round()"
   ]
  },
  {
   "cell_type": "code",
   "execution_count": 57,
   "metadata": {},
   "outputs": [
    {
     "data": {
      "text/plain": "509.0"
     },
     "execution_count": 57,
     "metadata": {},
     "output_type": "execute_result"
    }
   ],
   "source": [
    "df[(((df.v8 == 1) & (df.v10 == 1)) & (df.v4 == 1)) & (df.v140 == 1)].SCV_gewicht_herschaald17.sum().round()"
   ]
  },
  {
   "cell_type": "code",
   "execution_count": 58,
   "metadata": {},
   "outputs": [
    {
     "data": {
      "text/plain": "698.0"
     },
     "execution_count": 58,
     "metadata": {},
     "output_type": "execute_result"
    }
   ],
   "source": [
    "df[(((df.v8 == 1) & (df.v10 == 1)) & (df.v4 == 1)) & df.v140.isin(opties)].SCV_gewicht_herschaald17.sum().round()"
   ]
  },
  {
   "cell_type": "code",
   "execution_count": 59,
   "metadata": {},
   "outputs": [
    {
     "data": {
      "text/plain": "136.0"
     },
     "execution_count": 59,
     "metadata": {},
     "output_type": "execute_result"
    }
   ],
   "source": [
    "df[(((df.v8 == 2) | (df.v10 == 2)) | (df.v6 == 2)) & (df.v142_1 == 1)].SCV_gewicht_herschaald17.sum().round()"
   ]
  },
  {
   "cell_type": "code",
   "execution_count": 60,
   "metadata": {},
   "outputs": [
    {
     "data": {
      "text/plain": "78.0"
     },
     "execution_count": 60,
     "metadata": {},
     "output_type": "execute_result"
    }
   ],
   "source": [
    "df[(((df.v8 == 2) | (df.v10 == 2)) | (df.v6 == 2)) & df.v142_1.isin(opties)].SCV_gewicht_herschaald17.sum().round()"
   ]
  },
  {
   "cell_type": "code",
   "execution_count": 61,
   "metadata": {},
   "outputs": [
    {
     "data": {
      "text/plain": "735.0"
     },
     "execution_count": 61,
     "metadata": {},
     "output_type": "execute_result"
    }
   ],
   "source": [
    "df[(((df.v8 == 1) & (df.v10 == 1)) & (df.v4 == 1)) & (df.v142_1 == 1)].SCV_gewicht_herschaald17.sum().round()"
   ]
  },
  {
   "cell_type": "code",
   "execution_count": 62,
   "metadata": {},
   "outputs": [
    {
     "data": {
      "text/plain": "472.0"
     },
     "execution_count": 62,
     "metadata": {},
     "output_type": "execute_result"
    }
   ],
   "source": [
    "df[(((df.v8 == 1) & (df.v10 == 1)) & (df.v4 == 1)) & df.v142_1.isin(opties)].SCV_gewicht_herschaald17.sum().round()"
   ]
  },
  {
   "cell_type": "code",
   "execution_count": 63,
   "metadata": {},
   "outputs": [
    {
     "data": {
      "text/plain": "105.0"
     },
     "execution_count": 63,
     "metadata": {},
     "output_type": "execute_result"
    }
   ],
   "source": [
    "df[(((df.v8 == 2) | (df.v10 == 2)) | (df.v6 == 2)) & (df.v142_3 == 1)].SCV_gewicht_herschaald17.sum().round()"
   ]
  },
  {
   "cell_type": "code",
   "execution_count": 64,
   "metadata": {},
   "outputs": [
    {
     "data": {
      "text/plain": "109.0"
     },
     "execution_count": 64,
     "metadata": {},
     "output_type": "execute_result"
    }
   ],
   "source": [
    "df[(((df.v8 == 2) | (df.v10 == 2)) | (df.v6 == 2)) & df.v142_3.isin(opties)].SCV_gewicht_herschaald17.sum().round()"
   ]
  },
  {
   "cell_type": "code",
   "execution_count": 65,
   "metadata": {},
   "outputs": [
    {
     "data": {
      "text/plain": "557.0"
     },
     "execution_count": 65,
     "metadata": {},
     "output_type": "execute_result"
    }
   ],
   "source": [
    "df[(((df.v8 == 1) & (df.v10 == 1)) & (df.v4 == 1)) & (df.v142_3 == 1)].SCV_gewicht_herschaald17.sum().round()"
   ]
  },
  {
   "cell_type": "code",
   "execution_count": 66,
   "metadata": {},
   "outputs": [
    {
     "data": {
      "text/plain": "650.0"
     },
     "execution_count": 66,
     "metadata": {},
     "output_type": "execute_result"
    }
   ],
   "source": [
    "df[(((df.v8 == 1) & (df.v10 == 1)) & (df.v4 == 1)) & df.v142_3.isin(opties)].SCV_gewicht_herschaald17.sum().round()"
   ]
  },
  {
   "cell_type": "code",
   "execution_count": 67,
   "metadata": {},
   "outputs": [
    {
     "data": {
      "text/plain": "172.0"
     },
     "execution_count": 67,
     "metadata": {},
     "output_type": "execute_result"
    }
   ],
   "source": [
    "df[(((df.v8 == 2) | (df.v10 == 2)) | (df.v6 == 2)) & (df.v142_4 == 1)].SCV_gewicht_herschaald17.sum().round()"
   ]
  },
  {
   "cell_type": "code",
   "execution_count": 68,
   "metadata": {},
   "outputs": [
    {
     "data": {
      "text/plain": "41.0"
     },
     "execution_count": 68,
     "metadata": {},
     "output_type": "execute_result"
    }
   ],
   "source": [
    "df[(((df.v8 == 2) | (df.v10 == 2)) | (df.v6 == 2)) & df.v142_4.isin(opties)].SCV_gewicht_herschaald17.sum().round()"
   ]
  },
  {
   "cell_type": "code",
   "execution_count": 69,
   "metadata": {},
   "outputs": [
    {
     "data": {
      "text/plain": "951.0"
     },
     "execution_count": 69,
     "metadata": {},
     "output_type": "execute_result"
    }
   ],
   "source": [
    "df[(((df.v8 == 1) & (df.v10 == 1)) & (df.v4 == 1)) & (df.v142_4 == 1)].SCV_gewicht_herschaald17.sum().round()"
   ]
  },
  {
   "cell_type": "code",
   "execution_count": 70,
   "metadata": {},
   "outputs": [
    {
     "data": {
      "text/plain": "256.0"
     },
     "execution_count": 70,
     "metadata": {},
     "output_type": "execute_result"
    }
   ],
   "source": [
    "df[(((df.v8 == 1) & (df.v10 == 1)) & (df.v4 == 1)) & df.v142_4.isin(opties)].SCV_gewicht_herschaald17.sum().round()"
   ]
  },
  {
   "cell_type": "code",
   "execution_count": 71,
   "metadata": {},
   "outputs": [
    {
     "data": {
      "text/plain": "193.0"
     },
     "execution_count": 71,
     "metadata": {},
     "output_type": "execute_result"
    }
   ],
   "source": [
    "df[(((df.v8 == 2) | (df.v10 == 2)) | (df.v6 == 2)) & (df.v142_5 == 1)].SCV_gewicht_herschaald17.sum().round()"
   ]
  },
  {
   "cell_type": "code",
   "execution_count": 72,
   "metadata": {},
   "outputs": [
    {
     "data": {
      "text/plain": "21.0"
     },
     "execution_count": 72,
     "metadata": {},
     "output_type": "execute_result"
    }
   ],
   "source": [
    "df[(((df.v8 == 2) | (df.v10 == 2)) | (df.v6 == 2)) & df.v142_5.isin(opties)].SCV_gewicht_herschaald17.sum().round()"
   ]
  },
  {
   "cell_type": "code",
   "execution_count": 73,
   "metadata": {},
   "outputs": [
    {
     "data": {
      "text/plain": "1060.0"
     },
     "execution_count": 73,
     "metadata": {},
     "output_type": "execute_result"
    }
   ],
   "source": [
    "df[(((df.v8 == 1) & (df.v10 == 1)) & (df.v4 == 1)) & (df.v142_5 == 1)].SCV_gewicht_herschaald17.sum().round()"
   ]
  },
  {
   "cell_type": "code",
   "execution_count": 74,
   "metadata": {},
   "outputs": [
    {
     "data": {
      "text/plain": "147.0"
     },
     "execution_count": 74,
     "metadata": {},
     "output_type": "execute_result"
    }
   ],
   "source": [
    "df[(((df.v8 == 1) & (df.v10 == 1)) & (df.v4 == 1)) & df.v142_5.isin(opties)].SCV_gewicht_herschaald17.sum().round()"
   ]
  },
  {
   "cell_type": "code",
   "execution_count": 76,
   "metadata": {},
   "outputs": [
    {
     "data": {
      "text/plain": "2.0     23\n4.0     21\n3.0     17\n1.0     12\n77.0     9\n88.0     6\n6.0      4\n5.0      4\n14.0     1\n7.0      1\nName: v117, dtype: int64"
     },
     "execution_count": 76,
     "metadata": {},
     "output_type": "execute_result"
    }
   ],
   "source": [
    "df[df['v139_1'].isin(opties)].v117.value_counts()"
   ]
  },
  {
   "cell_type": "code",
   "execution_count": 77,
   "metadata": {},
   "outputs": [
    {
     "data": {
      "text/plain": "2.0     37\n3.0     33\n4.0     26\n1.0     19\n6.0     11\n77.0     7\n88.0     4\n5.0      3\n8.0      1\n7.0      1\n9.0      1\nName: v117, dtype: int64"
     },
     "execution_count": 77,
     "metadata": {},
     "output_type": "execute_result"
    }
   ],
   "source": [
    "df[df['v139_2'].isin(opties)].v117.value_counts()"
   ]
  },
  {
   "cell_type": "code",
   "execution_count": 78,
   "metadata": {},
   "outputs": [
    {
     "data": {
      "text/plain": "3.0     47\n1.0     28\n2.0     26\n4.0     20\n6.0     19\n7.0      9\n88.0     8\n77.0     6\n5.0      4\n9.0      2\n10.0     2\nName: v117, dtype: int64"
     },
     "execution_count": 78,
     "metadata": {},
     "output_type": "execute_result"
    }
   ],
   "source": [
    "df[df['v139_3'].isin(opties)].v117.value_counts()"
   ]
  },
  {
   "cell_type": "code",
   "execution_count": 79,
   "metadata": {},
   "outputs": [
    {
     "data": {
      "text/plain": "3.0     80\n2.0     74\n1.0     64\n4.0     59\n6.0     23\n77.0    19\n5.0      9\n88.0     8\n9.0      6\n7.0      4\n10.0     2\n8.0      1\n12.0     1\n14.0     1\n18.0     1\nName: v117, dtype: int64"
     },
     "execution_count": 79,
     "metadata": {},
     "output_type": "execute_result"
    }
   ],
   "source": [
    "df[df['v139_4'].isin(opties)].v117.value_counts()"
   ]
  },
  {
   "cell_type": "code",
   "execution_count": 80,
   "metadata": {},
   "outputs": [
    {
     "data": {
      "text/plain": "3.0     100\n1.0      90\n2.0      62\n4.0      55\n6.0      24\n77.0     16\n5.0      14\n88.0     11\n7.0      11\n10.0      5\n8.0       5\n9.0       5\n18.0      1\n12.0      1\nName: v117, dtype: int64"
     },
     "execution_count": 80,
     "metadata": {},
     "output_type": "execute_result"
    }
   ],
   "source": [
    "df[df['v139_5'].isin(opties)].v117.value_counts()"
   ]
  },
  {
   "cell_type": "code",
   "execution_count": 81,
   "metadata": {},
   "outputs": [
    {
     "data": {
      "text/plain": "3.0     26\n2.0     23\n4.0     21\n1.0     15\n6.0      9\n7.0      5\n10.0     4\n5.0      4\n77.0     3\n8.0      3\n9.0      1\n88.0     1\n17.0     1\nName: v117, dtype: int64"
     },
     "execution_count": 81,
     "metadata": {},
     "output_type": "execute_result"
    }
   ],
   "source": [
    "df[df['v139_6'].isin(opties)].v117.value_counts()"
   ]
  },
  {
   "cell_type": "code",
   "execution_count": 82,
   "metadata": {},
   "outputs": [
    {
     "data": {
      "text/plain": "1.0     42\n3.0     41\n4.0     36\n2.0     36\n6.0     13\n77.0     9\n5.0      5\n8.0      4\n7.0      4\n10.0     3\n88.0     3\n9.0      1\n18.0     1\nName: v117, dtype: int64"
     },
     "execution_count": 82,
     "metadata": {},
     "output_type": "execute_result"
    }
   ],
   "source": [
    "df[df['v139_7'].isin(opties)].v117.value_counts()"
   ]
  },
  {
   "cell_type": "code",
   "execution_count": 83,
   "metadata": {},
   "outputs": [
    {
     "data": {
      "text/plain": "3.0     71\n2.0     60\n4.0     51\n1.0     47\n5.0     14\n6.0     13\n77.0    11\n7.0     10\n88.0     8\n8.0      5\n10.0     4\n9.0      3\n18.0     1\n12.0     1\nName: v117, dtype: int64"
     },
     "execution_count": 83,
     "metadata": {},
     "output_type": "execute_result"
    }
   ],
   "source": [
    "df[df['v139_8'].isin(opties)].v117.value_counts()"
   ]
  },
  {
   "cell_type": "code",
   "execution_count": 84,
   "metadata": {},
   "outputs": [
    {
     "data": {
      "text/plain": "3.0     194\n1.0     143\n2.0     137\n4.0     114\n6.0      62\n7.0      45\n77.0     36\n5.0      27\n9.0      25\n88.0     14\n10.0     14\n8.0      10\n18.0      4\n14.0      1\nName: v117, dtype: int64"
     },
     "execution_count": 84,
     "metadata": {},
     "output_type": "execute_result"
    }
   ],
   "source": [
    "df[df['v139_9'].isin(opties)].v117.value_counts()"
   ]
  },
  {
   "cell_type": "code",
   "execution_count": 85,
   "metadata": {},
   "outputs": [
    {
     "data": {
      "text/plain": "1.0     179\n3.0     175\n4.0      83\n2.0      79\n6.0      78\n7.0      59\n77.0     42\n9.0      36\n10.0     21\n5.0      20\n88.0     16\n8.0      13\n18.0      2\n14.0      2\nName: v117, dtype: int64"
     },
     "execution_count": 85,
     "metadata": {},
     "output_type": "execute_result"
    }
   ],
   "source": [
    "df[df['v140'].isin(opties)].v117.value_counts()"
   ]
  },
  {
   "cell_type": "code",
   "execution_count": 86,
   "metadata": {},
   "outputs": [
    {
     "data": {
      "text/plain": "3.0     146\n2.0     122\n1.0     101\n4.0      79\n6.0      44\n77.0     22\n5.0      20\n88.0     18\n9.0      11\n10.0     11\n7.0       9\n8.0       7\n18.0      3\n14.0      2\n12.0      1\nName: v117, dtype: int64"
     },
     "execution_count": 86,
     "metadata": {},
     "output_type": "execute_result"
    }
   ],
   "source": [
    "df[df['v142_1'].isin(opties)].v117.value_counts()"
   ]
  },
  {
   "cell_type": "code",
   "execution_count": 87,
   "metadata": {},
   "outputs": [
    {
     "data": {
      "text/plain": "3.0     209\n2.0     139\n1.0     134\n4.0     116\n6.0      53\n77.0     35\n7.0      31\n5.0      28\n88.0     17\n10.0     17\n9.0      12\n8.0       9\n18.0      3\n12.0      1\n14.0      1\nName: v117, dtype: int64"
     },
     "execution_count": 87,
     "metadata": {},
     "output_type": "execute_result"
    }
   ],
   "source": [
    "df[df['v142_3'].isin(opties)].v117.value_counts()"
   ]
  },
  {
   "cell_type": "code",
   "execution_count": 88,
   "metadata": {},
   "outputs": [
    {
     "data": {
      "text/plain": "3.0     96\n1.0     56\n2.0     53\n4.0     37\n6.0     26\n77.0    16\n7.0     12\n88.0     6\n8.0      5\n9.0      4\n5.0      4\n10.0     3\n18.0     1\n12.0     1\nName: v117, dtype: int64"
     },
     "execution_count": 88,
     "metadata": {},
     "output_type": "execute_result"
    }
   ],
   "source": [
    "df[df['v142_4'].isin(opties)].v117.value_counts()"
   ]
  },
  {
   "cell_type": "code",
   "execution_count": 89,
   "metadata": {},
   "outputs": [
    {
     "data": {
      "text/plain": "3.0     47\n2.0     32\n1.0     30\n4.0     23\n6.0     12\n5.0      9\n77.0     7\n7.0      7\n88.0     5\n9.0      2\n10.0     1\n18.0     1\n12.0     1\nName: v117, dtype: int64"
     },
     "execution_count": 89,
     "metadata": {},
     "output_type": "execute_result"
    }
   ],
   "source": [
    "df[df['v142_5'].isin(opties)].v117.value_counts()"
   ]
  },
  {
   "cell_type": "code",
   "execution_count": 91,
   "metadata": {},
   "outputs": [
    {
     "data": {
      "text/plain": "3.0     324\n1.0     261\n2.0     192\n4.0     181\n6.0     118\n7.0      83\n77.0     64\n9.0      47\n5.0      41\n10.0     32\n88.0     29\n8.0      20\n18.0      4\n14.0      2\n12.0      1\n17.0      1\nName: v117, dtype: int64"
     },
     "execution_count": 91,
     "metadata": {},
     "output_type": "execute_result"
    }
   ],
   "source": [
    "df[(df['v139_1'].isin(opties)) | (df['v139_2'].isin(opties)) | (df['v139_3'].isin(opties)) | (df['v139_4'].isin(opties)) | (df['v139_5'].isin(opties)) | (df['v139_6'].isin(opties)) | (df['v139_7'].isin(opties)) | (df['v139_8'].isin(opties)) | (df['v139_9'].isin(opties)) | (df['v140'].isin(opties)) | (df['v142_1'].isin(opties)) | (df['v142_3'].isin(opties)) | (df['v142_4'].isin(opties)) | (df['v142_5'].isin(opties))].v117.value_counts()"
   ]
  },
  {
   "cell_type": "code",
   "execution_count": null,
   "metadata": {},
   "outputs": [],
   "source": []
  }
 ]
}