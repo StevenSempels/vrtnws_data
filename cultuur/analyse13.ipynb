{
 "nbformat": 4,
 "nbformat_minor": 2,
 "metadata": {
  "language_info": {
   "name": "python",
   "codemirror_mode": {
    "name": "ipython",
    "version": 3
   }
  },
  "orig_nbformat": 2,
  "file_extension": ".py",
  "mimetype": "text/x-python",
  "name": "python",
  "npconvert_exporter": "python",
  "pygments_lexer": "ipython3",
  "version": 3
 },
 "cells": [
  {
   "cell_type": "code",
   "execution_count": 1,
   "metadata": {},
   "outputs": [],
   "source": [
    "import pandas as pd\n",
    "import pyreadstat\n",
    "\n",
    "df, meta = pyreadstat.read_sav('cult2013.sav')"
   ]
  },
  {
   "cell_type": "code",
   "execution_count": 2,
   "metadata": {},
   "outputs": [
    {
     "data": {
      "text/plain": "1515"
     },
     "execution_count": 2,
     "metadata": {},
     "output_type": "execute_result"
    }
   ],
   "source": [
    "len(df.index)"
   ]
  },
  {
   "cell_type": "code",
   "execution_count": 3,
   "metadata": {},
   "outputs": [
    {
     "data": {
      "text/plain": "['RESPNUM',\n 'INTNUM',\n 'calldurm',\n 'DUURTIJD_MIN_COMPUTER_T63_T1',\n 'DUURTIJD_MIN_INTERV',\n 'VERSCHIL_MIN_COMPUTER_INTERV',\n 'REG_DUURTIJD',\n 'VALID_DUURTIJD',\n 'T1',\n 'T2',\n 'V1_1',\n 'V1_2',\n 'V2_1',\n 'V2_2',\n 'T3',\n 'V3_1',\n 'V4',\n 'V5b',\n 'V6',\n 'V7b',\n 'V8',\n 'V9b',\n 'V10',\n 'T4',\n 'V11',\n 'SHRM1',\n 'V12',\n 'V14',\n 'V16',\n 'V17',\n 'V18',\n 'V19',\n 'T5',\n 'SHRM2',\n 'V20',\n 'V21',\n 'V22_1',\n 'V22_2',\n 'V23',\n 'T6',\n 'V24',\n 'V25',\n 'T7',\n 'V26',\n 'V27',\n 'T8',\n 'V28',\n 'V29',\n 'T9',\n 'V30',\n 'V31',\n 'T10',\n 'SHRM3',\n 'V32',\n 'V33',\n 'V34',\n 'V35',\n 'T11',\n 'V36',\n 'V37',\n 'T12',\n 'SHRM4',\n 'V38',\n 'V40',\n 'V42',\n 'SHRM5',\n 'V43',\n 'V44',\n 'V45_1',\n 'V45_2',\n 'V46',\n 'T13',\n 'SHRM7',\n 'V47',\n 'V48',\n 'V49',\n 'V50',\n 'V51',\n 'T14',\n 'SHRM8',\n 'V52',\n 'SHRM9',\n 'V54_1',\n 'V54_2',\n 'V54_3',\n 'V54_4',\n 'V54_5',\n 'V54_6',\n 'V54_7',\n 'V54_8',\n 'V54_9',\n 'V54_10',\n 'V55_1',\n 'V55_2',\n 'V55_3',\n 'V55_4',\n 'V55_5',\n 'V55_6',\n 'V55_7',\n 'V55_8',\n 'V55_9',\n 'V55_10',\n 'V56_1',\n 'V56_2',\n 'V56_3',\n 'V56_4',\n 'V56_5',\n 'V56_6',\n 'V56_7',\n 'V56_8',\n 'V56_9',\n 'V56_10',\n 'T15',\n 'V57',\n 'T16',\n 'V58',\n 'T17',\n 'V59',\n 'T18',\n 'V60',\n 'V61_1',\n 'V61_2',\n 'V61_3',\n 'V61_4',\n 'V61_5',\n 'V61_6',\n 'V61_7',\n 'V61_7a',\n 'T19',\n 'V62_1',\n 'V62_2',\n 'V62_3',\n 'V62_4',\n 'T20',\n 'V64_1',\n 'V64_2',\n 'V64_3',\n 'V64_4',\n 'V64_5',\n 'V64_6',\n 'V64_7',\n 'T21',\n 'V65',\n 'V66',\n 'V67',\n 'T22',\n 'SHRM10',\n 'V68',\n 'V69_1',\n 'V69_2',\n 'V69WN',\n 'V69NUL',\n 'T23',\n 'V70',\n 'V71',\n 'V72',\n 'T24',\n 'V73_1',\n 'V73_2',\n 'V73_3',\n 'V73_4',\n 'V73_5',\n 'V73_6',\n 'V73_7',\n 'V73_8',\n 'V73_9',\n 'V73_10',\n 'V73_11',\n 'V73_12',\n 'V73_13',\n 'V73_14',\n 'V73_15',\n 'V73_16',\n 'V73_17',\n 'V73_18',\n 'V73_19',\n 'V73_20',\n 'V73_21',\n 'V73_22',\n 'V73_23',\n 'V73_24',\n 'V74',\n 'V75_1a',\n 'V75_2a',\n 'V75_3a',\n 'V76_1',\n 'V76_2',\n 'V76_3',\n 'T25',\n 'V77_1',\n 'V77_2',\n 'V77_3',\n 'V77_4',\n 'V77_5',\n 'V77_6',\n 'V77_7',\n 'V77_8',\n 'V77_9',\n 'V77_10',\n 'V77_11',\n 'V77_12',\n 'V77_13',\n 'V77_14',\n 'V77_15',\n 'V77_16',\n 'V77_17',\n 'V77_18',\n 'V77_19',\n 'V77_20',\n 'V77_21',\n 'V77_22',\n 'V77_23',\n 'V77_24',\n 'V77_25',\n 'V77_25a',\n 'T26',\n 'SHRM15',\n 'V78',\n 'V79',\n 'V80',\n 'SHRM16',\n 'V81',\n 'V82',\n 'V83_1',\n 'V83_2',\n 'V83_3',\n 'V83_4',\n 'V83_5',\n 'V84',\n 'V85',\n 'V86',\n 'V87',\n 'V88',\n 'V89',\n 'V90',\n 'V91',\n 'V92',\n 'V93',\n 'V94_1',\n 'V94_2',\n 'V94_3',\n 'V94_4',\n 'V94_5',\n 'V94_6',\n 'V94_7',\n 'V94_8',\n 'V94_9',\n 'V94_10',\n 'V94_11',\n 'V94_12',\n 'V94_13',\n 'V94_14',\n 'V94_15',\n 'V94_16',\n 'V94_17',\n 'V94_18',\n 'V94_19',\n 'V94_20',\n 'V94_21',\n 'V94_22',\n 'V94_23',\n 'V94_24',\n 'V94_25',\n 'V95_1',\n 'V95_2',\n 'V95_3',\n 'V95_4',\n 'V95_5',\n 'V95_6',\n 'V96_1',\n 'V96_2',\n 'V96_3',\n 'V96_4',\n 'V96_5',\n 'V96_6',\n 'V96_7',\n 'V96_8',\n 'V96_9',\n 'V96_10',\n 'V96_11',\n 'V96_12',\n 'V97',\n 'T27',\n 'T27B',\n 'V98_1',\n 'V98_2',\n 'V98_3',\n 'V98_4',\n 'V98_5',\n 'V99',\n 'V100',\n 'V101',\n 'T28',\n 'SHRM17B',\n 'V102',\n 'V103',\n 'V104_1',\n 'V104_2',\n 'V104_3',\n 'V104_4',\n 'V104_5',\n 'V104_6',\n 'T29',\n 'SHRM18',\n 'V105',\n 'V106',\n 'V107',\n 'V108',\n 'V110',\n 'V111',\n 'V112',\n 'V113_1',\n 'V113_2',\n 'V113_3',\n 'V113_4',\n 'V113_5',\n 'V113_6',\n 'V113_7',\n 'V113_8',\n 'V113_9',\n 'V113_10',\n 'V113_11',\n 'V114_1',\n 'V114_2',\n 'V114_3',\n 'V114_4',\n 'V114_5',\n 'V114_6',\n 'V114_7',\n 'V114_8',\n 'V115_1',\n 'V115_2',\n 'V115_3',\n 'V115_4',\n 'V115_5',\n 'V115_6',\n 'V115_7',\n 'V115_8',\n 'V115_9',\n 'V115_10',\n 'V115_11',\n 'V115_12',\n 'T30',\n 'V116',\n 'V117',\n 'V118M1',\n 'V118M2',\n 'V118M3',\n 'V118_1',\n 'V118_2',\n 'V118_3',\n 'T31',\n 'SHRM19',\n 'V119',\n 'V120',\n 'V121',\n 'V122',\n 'T32',\n 'V123_1',\n 'V123_2',\n 'V123_3',\n 'V123_4',\n 'V123_5',\n 'V123_6',\n 'V123_7',\n 'V123_8',\n 'V123_9',\n 'V123_10',\n 'V123_11',\n 'V123_12',\n 'V123_13',\n 'V123_14',\n 'V123_15',\n 'V123_16',\n 'V123_17',\n 'T33',\n 'V124_1',\n 'V124_2',\n 'V124_3',\n 'V124_4',\n 'V124_5',\n 'V124_6',\n 'V124_7',\n 'V124_8',\n 'V124_9',\n 'V124_10',\n 'V124_11',\n 'V124_12',\n 'V124_13',\n 'V125_1',\n 'V125_2',\n 'V125_3',\n 'V125_4',\n 'V125_5',\n 'T34',\n 'SHRM126',\n 'V126',\n 'V127',\n 'V128',\n 'T35',\n 'V129_1',\n 'SHRM130',\n 'V130_1',\n 'V130_2',\n 'V130_3',\n 'V130_4',\n 'V130_5',\n 'V130_6',\n 'V130_7',\n 'V130_8',\n 'T36',\n 'SHRM131',\n 'V131_1',\n 'V131_2',\n 'V131_3',\n 'V131_4',\n 'T37',\n 'SHRM23',\n 'V132A1',\n 'V132A2',\n 'V132A3',\n 'V132A4',\n 'V132A5',\n 'V132A6',\n 'V132A7',\n 'V132A8',\n 'V132B',\n 'V133_1',\n 'V133_2',\n 'V133_3',\n 'V133_4',\n 'V134_1',\n 'V134_2',\n 'V134_3',\n 'V134_4',\n 'V134_5',\n 'V134_6',\n 'V134_7',\n 'V134_8',\n 'V134_9',\n 'V135_1',\n 'V135_2',\n 'V135_3',\n 'V135_4',\n 'V135_5',\n 'V135_6',\n 'V135_7',\n 'V135_8',\n 'V135_9',\n 'V135_10',\n 'V136_1',\n 'V136_2',\n 'V136_3',\n 'V136_4',\n 'V136_5',\n 'V136_6',\n 'V136_7',\n 'V136_8',\n 'V136_9',\n 'V136_10',\n 'V137',\n 'V138_1',\n 'V138_2',\n 'V138_3',\n 'V138_4',\n 'V139_1_COMPUTER',\n 'V139_2_COMPUTER',\n 'V139_3_COMPUTER',\n 'V139_4_COMPUTER',\n 'V139_5_COMPUTER',\n 'V139_6_COMPUTER',\n 'V139_7_COMPUTER',\n 'V139_8_COMPUTER',\n 'V139_9_COMPUTER',\n 'V139_10_COMPUTER',\n 'V139_11_COMPUTER',\n 'V139_12_COMPUTER',\n 'V139_13_COMPUTER',\n 'V139_14_COMPUTER',\n 'V139_15_COMPUTER',\n 'V139_16_COMPUTER',\n 'V139_17_COMPUTER',\n 'V139_18_COMPUTER',\n 'V139_19_COMPUTER',\n 'V139_20_COMPUTER',\n 'V139_21_COMPUTER',\n 'V139_1_GSMOFSMARTPHONE',\n 'V139_2_GSMOFSMARTPHONE',\n 'V139_3_GSMOFSMARTPHONE',\n 'V139_4_GSMOFSMARTPHONE',\n 'V139_5_GSMOFSMARTPHONE',\n 'V139_6_GSMOFSMARTPHONE',\n 'V139_7_GSMOFSMARTPHONE',\n 'V139_8_GSMOFSMARTPHONE',\n 'V139_9_GSMOFSMARTPHONE',\n 'V139_10_GSMOFSMARTPHONE',\n 'V139_11_GSMOFSMARTPHONE',\n 'V139_12_GSMOFSMARTPHONE',\n 'V139_13_GSMOFSMARTPHONE',\n 'V139_14_GSMOFSMARTPHONE',\n 'V139_15_GSMOFSMARTPHONE',\n 'V139_16_GSMOFSMARTPHONE',\n 'V139_17_GSMOFSMARTPHONE',\n 'V139_18_GSMOFSMARTPHONE',\n 'V139_19_GSMOFSMARTPHONE',\n 'V139_20_GSMOFSMARTPHONE',\n 'V139_21_GSMOFSMARTPHONE',\n 'V139_1_ANDERTOESTEL',\n 'V139_2_ANDERTOESTEL',\n 'V139_3_ANDERTOESTEL',\n 'V139_4_ANDERTOESTEL',\n 'V139_5_ANDERTOESTEL',\n 'V139_6_ANDERTOESTEL',\n 'V139_7_ANDERTOESTEL',\n 'V139_8_ANDERTOESTEL',\n 'V139_9_ANDERTOESTEL',\n 'V139_10_ANDERTOESTEL',\n 'V139_11_ANDERTOESTEL',\n 'V139_12_ANDERTOESTEL',\n 'V139_13_ANDERTOESTEL',\n 'V139_14_ANDERTOESTEL',\n 'V139_15_ANDERTOESTEL',\n 'V139_16_ANDERTOESTEL',\n 'V139_17_ANDERTOESTEL',\n 'V139_18_ANDERTOESTEL',\n 'V139_19_ANDERTOESTEL',\n 'V139_20_ANDERTOESTEL',\n 'V139_21_ANDERTOESTEL',\n 'T38',\n 'V140_1',\n 'V140_2',\n 'V140_3',\n 'V140_4',\n 'T39',\n 'SHRM24',\n 'V141',\n 'V142',\n 'V143',\n 'V144_1',\n 'V144_2',\n 'V144_3',\n 'V144_4',\n 'V144_5',\n 'V144_6',\n 'T40',\n 'SHRM145',\n 'SL145_1',\n 'SL145_2',\n 'SL145_3',\n 'SL145_4',\n 'SL145_5',\n 'SL145_6',\n 'SL145_7',\n 'SL145_8',\n 'SL145_9',\n 'SL145_10',\n 'SL145_11',\n 'SL145_12',\n 'SL145_13',\n 'SL145_14',\n 'SL145_15',\n 'SL145_16',\n 'SL145_17',\n 'SL145_18',\n 'V145_1',\n 'V145_2',\n 'V145_3',\n 'V145_4',\n 'V145_5',\n 'V145_6',\n 'V145_7',\n 'V145_8',\n 'V145_9',\n 'V145_10',\n 'V145_11',\n 'V145_12',\n 'V145_13',\n 'V145_14',\n 'V145_15',\n 'V145_16',\n 'V145_17',\n 'V145_18',\n 'T41',\n 'SHRM26',\n 'SHRM27',\n 'T42',\n 'V146',\n 'T43',\n 'V147',\n 'T44',\n 'SHRM28',\n 'SHRM29',\n 'T45',\n 'SHRM30',\n 'V148_1',\n 'V148_2',\n 'V148_3',\n 'V148_4',\n 'V148_5',\n 'V148_6',\n 'V148_7',\n 'V148_8',\n 'V148_9',\n 'T46',\n 'V149_1',\n 'V149_2',\n 'V149_3',\n 'V149_4',\n 'V149_5',\n 'V149_6',\n 'V149_7',\n 'V149_8',\n 'V149_9',\n 'V149_10',\n 'V149_11',\n 'V149_12',\n 'V150',\n 'V151',\n 'T47',\n 'SHRM31',\n 'V153_1',\n 'V153_2',\n 'V154_1',\n 'V154_2',\n 'V155',\n 'V156',\n 'V157',\n 'V158',\n 'V159',\n 'T48',\n 'V160_1',\n 'V160_2',\n 'V160_3',\n 'V160_4',\n 'T49',\n 'SHRM32',\n 'T49b',\n 'V161',\n 'V162_1',\n 'V162_2',\n 'V162_3',\n 'V162_4',\n 'V162_5',\n 'V162_6',\n 'V162_7',\n 'V162_8',\n 'V162_9',\n 'V162_10',\n 'T50',\n 'V163',\n 'V164_1',\n 'V164_2',\n 'V164_3',\n 'V164_4',\n 'V164_5',\n 'V164_6',\n 'T51',\n 'SL165_1',\n 'SL165_2',\n 'SL165_3',\n 'SL165_4',\n 'SL165_5',\n 'SL165_6',\n 'SL165_7',\n 'SL165_8',\n 'SL165_9',\n 'SL165_10',\n 'SL165_11',\n 'SL165_12',\n 'SL165_13',\n 'SL165_14',\n 'SL165_15',\n 'SL165_16',\n 'SL165_17',\n 'SL165_18',\n 'SL165_19',\n 'SL165_20',\n 'SL165_21',\n 'SL165_22',\n 'SL165_23',\n 'SL165_24',\n 'V165_1',\n 'V165_2',\n 'V165_3',\n 'V165_4',\n 'V165_5',\n 'V165_6',\n 'V165_7',\n 'V165_8',\n 'V165_9',\n 'V165_10',\n 'V165_11',\n 'V165_12',\n 'V165_13',\n 'V165_14',\n 'V165_15',\n 'V165_16',\n 'V165_17',\n 'V165_18',\n 'V165_19',\n 'V165_20',\n 'V165_21',\n 'V165_22',\n 'V165_23',\n 'V165_24',\n 'T52',\n 'V166_1',\n 'V166_2',\n 'V166_3',\n 'V166_4',\n 'T53',\n 'V167_1',\n 'V167_2',\n 'V167_3',\n 'V167_4',\n 'V167_5',\n 'V167_6',\n 'V167_7',\n 'V167_8',\n 'V167_9',\n 'V167_10',\n 'V167_11',\n 'V167_12',\n 'V167_13',\n 'V167_14',\n 'V167_15',\n 'T54',\n 'SHRM33',\n 'V168_1',\n 'V168_2',\n 'V169',\n 'V170_1',\n 'V170_2',\n 'V171',\n 'T55',\n 'V172',\n 'V173_1a',\n 'V173_2a',\n 'V173_3a',\n 'V173_4a',\n 'V173_5a',\n 'V173_6a',\n 'V174_1',\n 'V174_2',\n 'V174_3',\n 'V174_4',\n 'V174_5',\n 'V174_6',\n 'V175_1_1',\n 'V175_1_2',\n 'V175_1_3',\n 'V175_1_4',\n 'V175_1_5',\n 'V175_1_6',\n 'V175_1_7',\n 'V175_2_1',\n 'V175_2_2',\n 'V175_2_3',\n 'V175_2_4',\n 'V175_2_5',\n 'V175_2_6',\n 'V175_2_7',\n 'V175_3_1',\n 'V175_3_2',\n 'V175_3_3',\n 'V175_3_4',\n 'V175_3_5',\n 'V175_3_6',\n 'V175_3_7',\n 'V175_4_1',\n 'V175_4_2',\n 'V175_4_3',\n 'V175_4_4',\n 'V175_4_5',\n 'V175_4_6',\n 'V175_4_7',\n 'V175_5_1',\n 'V175_5_2',\n 'V175_5_3',\n 'V175_5_4',\n 'V175_5_5',\n 'V175_5_6',\n 'V175_5_7',\n 'V175_6_1',\n 'V175_6_2',\n 'V175_6_3',\n 'V175_6_4',\n 'V175_6_5',\n 'V175_6_6',\n 'V175_6_7',\n 'T56',\n 'V176_1',\n 'V176_2',\n 'V176_3',\n 'V176_4',\n 'V176_5',\n 'V176_6',\n 'V176_7',\n 'V176_8',\n 'V176_9',\n 'V176_10',\n 'V177',\n 'V178_1',\n 'V178_2',\n 'V178_3',\n 'V178_4',\n 'V178_5',\n 'V178_6',\n 'V178_7',\n 'V178_8',\n 'V178_9',\n 'V179_1',\n 'V179_2',\n 'V179_3',\n 'V179_4',\n 'V179_5',\n 'V180_1',\n 'V180_2',\n 'V180_3',\n 'V180_4',\n 'V180_5',\n 'V180_6',\n 'T57',\n 'V181',\n 'T58',\n 'V182_1',\n 'V182_2',\n 'V182_3',\n 'V182_4',\n 'V182_5',\n 'V182_6',\n 'V182_7',\n 'V182_8',\n 'V182_9',\n 'V182_10',\n 'V182_11',\n 'T59',\n 'V183_1',\n 'V183_2',\n 'V183_3',\n 'V183_4',\n 'V183_5',\n 'V183_6',\n 'V183_7',\n 'V183_8',\n 'T60',\n 'SHRM184',\n 'V184',\n 'V185_1',\n 'V185_2',\n 'V185_3',\n 'V185_4',\n 'V185_5',\n 'V186_1',\n 'V186_2',\n 'V186_3',\n 'V186_4',\n 'V186_5',\n 'V187_1',\n 'V187_2',\n 'V187_3',\n 'V187_4',\n 'V187_5',\n 'V187_6',\n 'T61',\n 'SHRM35',\n 'V188',\n 'V189',\n 'V190',\n 'V191',\n 'T62',\n 'V192_1',\n 'V192_2',\n 'V192_3',\n 'V192_4',\n 'V192_5',\n 'V192_6',\n 'V192_7',\n 'V192_8',\n 'T63',\n 'SHRM',\n 'E1A',\n 'E1B',\n 'T64',\n 'IR1',\n 'IR2_1',\n 'IR2_2',\n 'IR2_3',\n 'IR2_4',\n 'IR2_5',\n 'IR3_1',\n 'IR3_2',\n 'IR3_3',\n 'IR3_4',\n 'IR3_5',\n 'IR4',\n 'IR5',\n 'IR6',\n 'IR7',\n 'IR8',\n 'IR9',\n 'IR10',\n 'IR11',\n 'v56_1rc',\n 'v56_2rc',\n 'v56_3rc',\n 'v56_4rc',\n 'v56_5rc',\n 'v56_6rc',\n 'v56_7rc',\n 'v56_8rc',\n 'v56_9rc',\n 'v56_10rc',\n 'tel_partner',\n 'tel_biokind',\n 'tel_anderkind',\n 'tel_ouders',\n 'tel_brzus',\n 'tel_anderfam',\n 'tel_nietfam',\n 'tel_garelatie',\n 'tel_grootouders',\n 'tel_medebewoners',\n 'tel_kleinkind',\n 'tel_schoonkind',\n 'refconv',\n 'BS_rr',\n 'Verwantschap_rr',\n 'Aantalgezinsleden_rr',\n 'provincie',\n 'lft_7kl',\n 'lft',\n 'NUTS2',\n 'rsv',\n 'urbanisatie',\n 'regio',\n 'opleid13N',\n 'opleid13',\n 'opleid13_eak',\n 'hhtype',\n 'gezinstype',\n 'designgewicht13',\n 'nonresponsgewicht13',\n 'poststratificatie_gewest13',\n 'poststratificatie_eak13',\n 'scv_gewicht13',\n 'scv_gewicht_herschaald13',\n 'cluster',\n 'stratum']"
     },
     "execution_count": 3,
     "metadata": {},
     "output_type": "execute_result"
    }
   ],
   "source": [
    "df.columns.tolist()"
   ]
  },
  {
   "cell_type": "code",
   "execution_count": 5,
   "metadata": {},
   "outputs": [],
   "source": [
    "geen = df[(df['V176_1'] == 1) & (df['V176_2'] == 1) & (df['V176_3'] == 1) & (df['V176_4'] == 1) & (df['V176_5'] == 1) & (df['V176_6'] == 1) & (df['V176_7'] == 1) & (df['V176_8'] == 1) & (df['V176_9'] == 1) & (df['V177'] == 1) & (df['V179_1'] == 1) & (df['V179_3'] == 1) & (df['V179_4'] == 1) & (df['V179_5'] == 1)]"
   ]
  },
  {
   "cell_type": "code",
   "execution_count": 6,
   "metadata": {},
   "outputs": [
    {
     "data": {
      "text/plain": "25.0"
     },
     "execution_count": 6,
     "metadata": {},
     "output_type": "execute_result"
    }
   ],
   "source": [
    "geen.scv_gewicht_herschaald13.sum().round()"
   ]
  },
  {
   "cell_type": "code",
   "execution_count": 7,
   "metadata": {},
   "outputs": [],
   "source": [
    "none = [7, 8]"
   ]
  },
  {
   "cell_type": "code",
   "execution_count": 9,
   "metadata": {},
   "outputs": [],
   "source": [
    "geen_ant = df[(df['V176_1'].isin(none)) & (df['V176_2'].isin(none)) & (df['V176_3'].isin(none)) & (df['V176_4'].isin(none)) & (df['V176_5'].isin(none)) & (df['V176_6'].isin(none)) & (df['V176_7'].isin(none)) & (df['V176_8'].isin(none)) & (df['V176_9'].isin(none)) & (df['V177'].isin(none)) & (df['V179_1'].isin(none)) & (df['V179_3'].isin(none)) & (df['V179_4'].isin(none)) & (df['V179_5'].isin(none))]"
   ]
  },
  {
   "cell_type": "code",
   "execution_count": 10,
   "metadata": {},
   "outputs": [
    {
     "data": {
      "text/plain": "1.0"
     },
     "execution_count": 10,
     "metadata": {},
     "output_type": "execute_result"
    }
   ],
   "source": [
    "geen_ant.scv_gewicht_herschaald13.sum().round()"
   ]
  },
  {
   "cell_type": "code",
   "execution_count": 72,
   "metadata": {},
   "outputs": [
    {
     "data": {
      "text/plain": "169.0"
     },
     "execution_count": 72,
     "metadata": {},
     "output_type": "execute_result"
    }
   ],
   "source": [
    "df[((df.V6 == 2) | (df.V8 == 2)) & (df.V176_1 == 1)].scv_gewicht_herschaald13.sum().round()"
   ]
  },
  {
   "cell_type": "code",
   "execution_count": 15,
   "metadata": {},
   "outputs": [],
   "source": [
    "opties = [2, 3, 4]"
   ]
  },
  {
   "cell_type": "code",
   "execution_count": 17,
   "metadata": {},
   "outputs": [
    {
     "data": {
      "text/plain": "15.0"
     },
     "execution_count": 17,
     "metadata": {},
     "output_type": "execute_result"
    }
   ],
   "source": [
    "df[((df.V6 == 2) | (df.V8 == 2)) | df.& df.V176_1.isin(opties)].scv_gewicht_herschaald13.sum().round()"
   ]
  },
  {
   "cell_type": "code",
   "execution_count": 84,
   "metadata": {},
   "outputs": [
    {
     "data": {
      "text/plain": "1235.0"
     },
     "execution_count": 84,
     "metadata": {},
     "output_type": "execute_result"
    }
   ],
   "source": [
    "df[(((df.V6 == 1) & (df.V8 == 1)) & (df.V4 == 1)) & (df.V176_1 == 1)].scv_gewicht_herschaald13.sum().round()"
   ]
  },
  {
   "cell_type": "code",
   "execution_count": 86,
   "metadata": {},
   "outputs": [
    {
     "data": {
      "text/plain": "90.0"
     },
     "execution_count": 86,
     "metadata": {},
     "output_type": "execute_result"
    }
   ],
   "source": [
    "df[(((df.V6 == 1) & (df.V8 == 1)) & (df.V4 ==1)) & df.V176_1.isin(opties)].scv_gewicht_herschaald13.sum().round()"
   ]
  },
  {
   "cell_type": "code",
   "execution_count": 20,
   "metadata": {},
   "outputs": [
    {
     "data": {
      "text/plain": "168.0"
     },
     "execution_count": 20,
     "metadata": {},
     "output_type": "execute_result"
    }
   ],
   "source": [
    "df[((df.V6 == 2) | (df.V8 == 2)) & (df.V176_2 == 1)].scv_gewicht_herschaald13.sum().round()"
   ]
  },
  {
   "cell_type": "code",
   "execution_count": 21,
   "metadata": {},
   "outputs": [
    {
     "data": {
      "text/plain": "17.0"
     },
     "execution_count": 21,
     "metadata": {},
     "output_type": "execute_result"
    }
   ],
   "source": [
    "df[((df.V6 == 2) | (df.V8 == 2)) & df.V176_2.isin(opties)].scv_gewicht_herschaald13.sum().round()"
   ]
  },
  {
   "cell_type": "code",
   "execution_count": 88,
   "metadata": {},
   "outputs": [
    {
     "data": {
      "text/plain": "1217.0"
     },
     "execution_count": 88,
     "metadata": {},
     "output_type": "execute_result"
    }
   ],
   "source": [
    "df[(((df.V6 == 1) & (df.V8 == 1)) & (df.V4 == 1)) & (df.V176_2 == 1)].scv_gewicht_herschaald13.sum().round()"
   ]
  },
  {
   "cell_type": "code",
   "execution_count": 89,
   "metadata": {},
   "outputs": [
    {
     "data": {
      "text/plain": "108.0"
     },
     "execution_count": 89,
     "metadata": {},
     "output_type": "execute_result"
    }
   ],
   "source": [
    "df[(((df.V6 == 1) & (df.V8 == 1)) & (df.V4 == 1)) & df.V176_2.isin(opties)].scv_gewicht_herschaald13.sum().round()"
   ]
  },
  {
   "cell_type": "code",
   "execution_count": 24,
   "metadata": {},
   "outputs": [
    {
     "data": {
      "text/plain": "166.0"
     },
     "execution_count": 24,
     "metadata": {},
     "output_type": "execute_result"
    }
   ],
   "source": [
    "df[((df.V6 == 2) | (df.V8 == 2)) & (df.V176_3 == 1)].scv_gewicht_herschaald13.sum().round()"
   ]
  },
  {
   "cell_type": "code",
   "execution_count": 25,
   "metadata": {},
   "outputs": [
    {
     "data": {
      "text/plain": "19.0"
     },
     "execution_count": 25,
     "metadata": {},
     "output_type": "execute_result"
    }
   ],
   "source": [
    "df[((df.V6 == 2) | (df.V8 == 2)) & df.V176_3.isin(opties)].scv_gewicht_herschaald13.sum().round()"
   ]
  },
  {
   "cell_type": "code",
   "execution_count": 91,
   "metadata": {},
   "outputs": [
    {
     "data": {
      "text/plain": "1209.0"
     },
     "execution_count": 91,
     "metadata": {},
     "output_type": "execute_result"
    }
   ],
   "source": [
    "df[(((df.V6 == 1) & (df.V8 == 1)) & (df.V4 == 1)) & (df.V176_3 == 1)].scv_gewicht_herschaald13.sum().round()"
   ]
  },
  {
   "cell_type": "code",
   "execution_count": 106,
   "metadata": {},
   "outputs": [
    {
     "data": {
      "text/plain": "117.0"
     },
     "execution_count": 106,
     "metadata": {},
     "output_type": "execute_result"
    }
   ],
   "source": [
    "df[(((df.V6 == 1) & (df.V8 == 1)) & (df.V4 == 1)) & df.V176_3.isin(opties)].scv_gewicht_herschaald13.sum().round()"
   ]
  },
  {
   "cell_type": "code",
   "execution_count": 28,
   "metadata": {},
   "outputs": [
    {
     "data": {
      "text/plain": "152.0"
     },
     "execution_count": 28,
     "metadata": {},
     "output_type": "execute_result"
    }
   ],
   "source": [
    "df[((df.V6 == 2) | (df.V8 == 2)) & (df.V176_4 == 1)].scv_gewicht_herschaald13.sum().round()"
   ]
  },
  {
   "cell_type": "code",
   "execution_count": 29,
   "metadata": {},
   "outputs": [
    {
     "data": {
      "text/plain": "32.0"
     },
     "execution_count": 29,
     "metadata": {},
     "output_type": "execute_result"
    }
   ],
   "source": [
    "df[((df.V6 == 2) | (df.V8 == 2)) & df.V176_4.isin(opties)].scv_gewicht_herschaald13.sum().round()"
   ]
  },
  {
   "cell_type": "code",
   "execution_count": 92,
   "metadata": {},
   "outputs": [
    {
     "data": {
      "text/plain": "1048.0"
     },
     "execution_count": 92,
     "metadata": {},
     "output_type": "execute_result"
    }
   ],
   "source": [
    "df[(((df.V6 == 1) & (df.V8 == 1)) & (df.V4 == 1)) & (df.V176_4 == 1)].scv_gewicht_herschaald13.sum().round()"
   ]
  },
  {
   "cell_type": "code",
   "execution_count": 107,
   "metadata": {},
   "outputs": [
    {
     "data": {
      "text/plain": "277.0"
     },
     "execution_count": 107,
     "metadata": {},
     "output_type": "execute_result"
    }
   ],
   "source": [
    "df[(((df.V6 == 1) & (df.V8 == 1)) & (df.V4 == 1)) & df.V176_4.isin(opties)].scv_gewicht_herschaald13.sum().round()"
   ]
  },
  {
   "cell_type": "code",
   "execution_count": 32,
   "metadata": {},
   "outputs": [
    {
     "data": {
      "text/plain": "157.0"
     },
     "execution_count": 32,
     "metadata": {},
     "output_type": "execute_result"
    }
   ],
   "source": [
    "df[((df.V6 == 2) | (df.V8 == 2)) & (df.V176_5 == 1)].scv_gewicht_herschaald13.sum().round()"
   ]
  },
  {
   "cell_type": "code",
   "execution_count": 33,
   "metadata": {},
   "outputs": [
    {
     "data": {
      "text/plain": "27.0"
     },
     "execution_count": 33,
     "metadata": {},
     "output_type": "execute_result"
    }
   ],
   "source": [
    "df[((df.V6 == 2) | (df.V8 == 2)) & df.V176_5.isin(opties)].scv_gewicht_herschaald13.sum().round()"
   ]
  },
  {
   "cell_type": "code",
   "execution_count": 93,
   "metadata": {},
   "outputs": [
    {
     "data": {
      "text/plain": "990.0"
     },
     "execution_count": 93,
     "metadata": {},
     "output_type": "execute_result"
    }
   ],
   "source": [
    "df[(((df.V6 == 1) & (df.V8 == 1)) & (df.V4 == 1)) & (df.V176_5 == 1)].scv_gewicht_herschaald13.sum().round()"
   ]
  },
  {
   "cell_type": "code",
   "execution_count": 108,
   "metadata": {},
   "outputs": [
    {
     "data": {
      "text/plain": "335.0"
     },
     "execution_count": 108,
     "metadata": {},
     "output_type": "execute_result"
    }
   ],
   "source": [
    "df[(((df.V6 == 1) & (df.V8 == 1)) & (df.V4 == 1)) & df.V176_5.isin(opties)].scv_gewicht_herschaald13.sum().round()"
   ]
  },
  {
   "cell_type": "code",
   "execution_count": 36,
   "metadata": {},
   "outputs": [
    {
     "data": {
      "text/plain": "167.0"
     },
     "execution_count": 36,
     "metadata": {},
     "output_type": "execute_result"
    }
   ],
   "source": [
    "df[((df.V6 == 2) | (df.V8 == 2)) & (df.V176_6 == 1)].scv_gewicht_herschaald13.sum().round()"
   ]
  },
  {
   "cell_type": "code",
   "execution_count": 37,
   "metadata": {},
   "outputs": [
    {
     "data": {
      "text/plain": "18.0"
     },
     "execution_count": 37,
     "metadata": {},
     "output_type": "execute_result"
    }
   ],
   "source": [
    "df[((df.V6 == 2) | (df.V8 == 2)) & df.V176_6.isin(opties)].scv_gewicht_herschaald13.sum().round()"
   ]
  },
  {
   "cell_type": "code",
   "execution_count": 94,
   "metadata": {},
   "outputs": [
    {
     "data": {
      "text/plain": "1231.0"
     },
     "execution_count": 94,
     "metadata": {},
     "output_type": "execute_result"
    }
   ],
   "source": [
    "df[(((df.V6 == 1) & (df.V8 == 1)) & (df.V4 == 1)) & (df.V176_6 == 1)].scv_gewicht_herschaald13.sum().round()"
   ]
  },
  {
   "cell_type": "code",
   "execution_count": 109,
   "metadata": {},
   "outputs": [
    {
     "data": {
      "text/plain": "94.0"
     },
     "execution_count": 109,
     "metadata": {},
     "output_type": "execute_result"
    }
   ],
   "source": [
    "df[(((df.V6 == 1) & (df.V8 == 1)) & (df.V4 == 1)) & df.V176_6.isin(opties)].scv_gewicht_herschaald13.sum().round()"
   ]
  },
  {
   "cell_type": "code",
   "execution_count": 40,
   "metadata": {},
   "outputs": [
    {
     "data": {
      "text/plain": "156.0"
     },
     "execution_count": 40,
     "metadata": {},
     "output_type": "execute_result"
    }
   ],
   "source": [
    "df[((df.V6 == 2) | (df.V8 == 2)) & (df.V176_7 == 1)].scv_gewicht_herschaald13.sum().round()"
   ]
  },
  {
   "cell_type": "code",
   "execution_count": 41,
   "metadata": {},
   "outputs": [
    {
     "data": {
      "text/plain": "28.0"
     },
     "execution_count": 41,
     "metadata": {},
     "output_type": "execute_result"
    }
   ],
   "source": [
    "df[((df.V6 == 2) | (df.V8 == 2)) & df.V176_7.isin(opties)].scv_gewicht_herschaald13.sum().round()"
   ]
  },
  {
   "cell_type": "code",
   "execution_count": 95,
   "metadata": {},
   "outputs": [
    {
     "data": {
      "text/plain": "1156.0"
     },
     "execution_count": 95,
     "metadata": {},
     "output_type": "execute_result"
    }
   ],
   "source": [
    "df[(((df.V6 == 1) & (df.V8 == 1)) & (df.V4 ==1)) & (df.V176_7 == 1)].scv_gewicht_herschaald13.sum().round()"
   ]
  },
  {
   "cell_type": "code",
   "execution_count": 110,
   "metadata": {},
   "outputs": [
    {
     "data": {
      "text/plain": "169.0"
     },
     "execution_count": 110,
     "metadata": {},
     "output_type": "execute_result"
    }
   ],
   "source": [
    "df[(((df.V6 == 1) & (df.V8 == 1)) & (df.V4 == 1)) & df.V176_7.isin(opties)].scv_gewicht_herschaald13.sum().round()"
   ]
  },
  {
   "cell_type": "code",
   "execution_count": 44,
   "metadata": {},
   "outputs": [
    {
     "data": {
      "text/plain": "153.0"
     },
     "execution_count": 44,
     "metadata": {},
     "output_type": "execute_result"
    }
   ],
   "source": [
    "df[((df.V6 == 2) | (df.V8 == 2)) & (df.V176_8 == 1)].scv_gewicht_herschaald13.sum().round()"
   ]
  },
  {
   "cell_type": "code",
   "execution_count": 45,
   "metadata": {},
   "outputs": [
    {
     "data": {
      "text/plain": "30.0"
     },
     "execution_count": 45,
     "metadata": {},
     "output_type": "execute_result"
    }
   ],
   "source": [
    "df[((df.V6 == 2) | (df.V8 == 2)) & df.V176_8.isin(opties)].scv_gewicht_herschaald13.sum().round()"
   ]
  },
  {
   "cell_type": "code",
   "execution_count": 96,
   "metadata": {},
   "outputs": [
    {
     "data": {
      "text/plain": "1109.0"
     },
     "execution_count": 96,
     "metadata": {},
     "output_type": "execute_result"
    }
   ],
   "source": [
    "df[(((df.V6 == 1) & (df.V8 == 1)) & (df.V4 == 1)) & (df.V176_8 == 1)].scv_gewicht_herschaald13.sum().round()"
   ]
  },
  {
   "cell_type": "code",
   "execution_count": 111,
   "metadata": {},
   "outputs": [
    {
     "data": {
      "text/plain": "216.0"
     },
     "execution_count": 111,
     "metadata": {},
     "output_type": "execute_result"
    }
   ],
   "source": [
    "df[(((df.V6 == 1) & (df.V8 == 1)) & (df.V4 == 1)) & df.V176_8.isin(opties)].scv_gewicht_herschaald13.sum().round()"
   ]
  },
  {
   "cell_type": "code",
   "execution_count": 48,
   "metadata": {},
   "outputs": [
    {
     "data": {
      "text/plain": "76.0"
     },
     "execution_count": 48,
     "metadata": {},
     "output_type": "execute_result"
    }
   ],
   "source": [
    "df[((df.V6 == 2) | (df.V8 == 2)) & (df.V176_9 == 1)].scv_gewicht_herschaald13.sum().round()"
   ]
  },
  {
   "cell_type": "code",
   "execution_count": 49,
   "metadata": {},
   "outputs": [
    {
     "data": {
      "text/plain": "108.0"
     },
     "execution_count": 49,
     "metadata": {},
     "output_type": "execute_result"
    }
   ],
   "source": [
    "df[((df.V6 == 2) | (df.V8 == 2)) & df.V176_9.isin(opties)].scv_gewicht_herschaald13.sum().round()"
   ]
  },
  {
   "cell_type": "code",
   "execution_count": 97,
   "metadata": {},
   "outputs": [
    {
     "data": {
      "text/plain": "657.0"
     },
     "execution_count": 97,
     "metadata": {},
     "output_type": "execute_result"
    }
   ],
   "source": [
    "df[(((df.V6 == 1) & (df.V8 == 1)) & (df.V4 == 1)) & (df.V176_9 == 1)].scv_gewicht_herschaald13.sum().round()"
   ]
  },
  {
   "cell_type": "code",
   "execution_count": 98,
   "metadata": {},
   "outputs": [
    {
     "data": {
      "text/plain": "668.0"
     },
     "execution_count": 98,
     "metadata": {},
     "output_type": "execute_result"
    }
   ],
   "source": [
    "df[(((df.V6 == 1) & (df.V8 == 1)) & (df.V4 == 1)) & df.V176_9.isin(opties)].scv_gewicht_herschaald13.sum().round()"
   ]
  },
  {
   "cell_type": "code",
   "execution_count": 52,
   "metadata": {},
   "outputs": [
    {
     "data": {
      "text/plain": "58.0"
     },
     "execution_count": 52,
     "metadata": {},
     "output_type": "execute_result"
    }
   ],
   "source": [
    "df[((df.V6 == 2) | (df.V8 == 2)) & (df.V177 == 1)].scv_gewicht_herschaald13.sum().round()"
   ]
  },
  {
   "cell_type": "code",
   "execution_count": 53,
   "metadata": {},
   "outputs": [
    {
     "data": {
      "text/plain": "127.0"
     },
     "execution_count": 53,
     "metadata": {},
     "output_type": "execute_result"
    }
   ],
   "source": [
    "df[((df.V6 == 2) | (df.V8 == 2)) & df.V177.isin(opties)].scv_gewicht_herschaald13.sum().round()"
   ]
  },
  {
   "cell_type": "code",
   "execution_count": 99,
   "metadata": {},
   "outputs": [
    {
     "data": {
      "text/plain": "502.0"
     },
     "execution_count": 99,
     "metadata": {},
     "output_type": "execute_result"
    }
   ],
   "source": [
    "df[(((df.V6 == 1) & (df.V8 == 1)) & (df.V4 == 1)) & (df.V177 == 1)].scv_gewicht_herschaald13.sum().round()"
   ]
  },
  {
   "cell_type": "code",
   "execution_count": 100,
   "metadata": {},
   "outputs": [
    {
     "data": {
      "text/plain": "823.0"
     },
     "execution_count": 100,
     "metadata": {},
     "output_type": "execute_result"
    }
   ],
   "source": [
    "df[(((df.V6 == 1) & (df.V8 == 1)) & (df.V4 == 1)) & df.V177.isin(opties)].scv_gewicht_herschaald13.sum().round()"
   ]
  },
  {
   "cell_type": "code",
   "execution_count": 56,
   "metadata": {},
   "outputs": [
    {
     "data": {
      "text/plain": "109.0"
     },
     "execution_count": 56,
     "metadata": {},
     "output_type": "execute_result"
    }
   ],
   "source": [
    "df[((df.V6 == 2) | (df.V8 == 2)) & (df.V179_1 == 1)].scv_gewicht_herschaald13.sum().round()"
   ]
  },
  {
   "cell_type": "code",
   "execution_count": 57,
   "metadata": {},
   "outputs": [
    {
     "data": {
      "text/plain": "75.0"
     },
     "execution_count": 57,
     "metadata": {},
     "output_type": "execute_result"
    }
   ],
   "source": [
    "df[((df.V6 == 2) | (df.V8 == 2)) & df.V179_1.isin(opties)].scv_gewicht_herschaald13.sum().round()"
   ]
  },
  {
   "cell_type": "code",
   "execution_count": 101,
   "metadata": {},
   "outputs": [
    {
     "data": {
      "text/plain": "795.0"
     },
     "execution_count": 101,
     "metadata": {},
     "output_type": "execute_result"
    }
   ],
   "source": [
    "df[(((df.V6 == 1) & (df.V8 == 1)) & (df.V4 == 1)) & (df.V179_1 == 1)].scv_gewicht_herschaald13.sum().round()"
   ]
  },
  {
   "cell_type": "code",
   "execution_count": 102,
   "metadata": {},
   "outputs": [
    {
     "data": {
      "text/plain": "530.0"
     },
     "execution_count": 102,
     "metadata": {},
     "output_type": "execute_result"
    }
   ],
   "source": [
    "df[(((df.V6 == 1) & (df.V8 == 1)) & (df.V4 == 1)) & df.V179_1.isin(opties)].scv_gewicht_herschaald13.sum().round()"
   ]
  },
  {
   "cell_type": "code",
   "execution_count": 60,
   "metadata": {},
   "outputs": [
    {
     "data": {
      "text/plain": "93.0"
     },
     "execution_count": 60,
     "metadata": {},
     "output_type": "execute_result"
    }
   ],
   "source": [
    "df[((df.V6 == 2) | (df.V8 == 2)) & (df.V179_3 == 1)].scv_gewicht_herschaald13.sum().round()"
   ]
  },
  {
   "cell_type": "code",
   "execution_count": 61,
   "metadata": {},
   "outputs": [
    {
     "data": {
      "text/plain": "91.0"
     },
     "execution_count": 61,
     "metadata": {},
     "output_type": "execute_result"
    }
   ],
   "source": [
    "df[((df.V6 == 2) | (df.V8 == 2)) & df.V179_3.isin(opties)].scv_gewicht_herschaald13.sum().round()"
   ]
  },
  {
   "cell_type": "code",
   "execution_count": 103,
   "metadata": {},
   "outputs": [
    {
     "data": {
      "text/plain": "717.0"
     },
     "execution_count": 103,
     "metadata": {},
     "output_type": "execute_result"
    }
   ],
   "source": [
    "df[(((df.V6 == 1) & (df.V8 == 1)) & (df.V4 == 1)) & (df.V179_3 == 1)].scv_gewicht_herschaald13.sum().round()"
   ]
  },
  {
   "cell_type": "code",
   "execution_count": 104,
   "metadata": {},
   "outputs": [
    {
     "data": {
      "text/plain": "608.0"
     },
     "execution_count": 104,
     "metadata": {},
     "output_type": "execute_result"
    }
   ],
   "source": [
    "df[(((df.V6 == 1) & (df.V8 == 1)) & (df.V4 == 1)) & df.V179_3.isin(opties)].scv_gewicht_herschaald13.sum().round()"
   ]
  },
  {
   "cell_type": "code",
   "execution_count": 64,
   "metadata": {},
   "outputs": [
    {
     "data": {
      "text/plain": "149.0"
     },
     "execution_count": 64,
     "metadata": {},
     "output_type": "execute_result"
    }
   ],
   "source": [
    "df[((df.V6 == 2) | (df.V8 == 2)) & (df.V179_4 == 1)].scv_gewicht_herschaald13.sum().round()"
   ]
  },
  {
   "cell_type": "code",
   "execution_count": 65,
   "metadata": {},
   "outputs": [
    {
     "data": {
      "text/plain": "35.0"
     },
     "execution_count": 65,
     "metadata": {},
     "output_type": "execute_result"
    }
   ],
   "source": [
    "df[((df.V6 == 2) | (df.V8 == 2)) & df.V179_4.isin(opties)].scv_gewicht_herschaald13.sum().round()"
   ]
  },
  {
   "cell_type": "code",
   "execution_count": 105,
   "metadata": {},
   "outputs": [
    {
     "data": {
      "text/plain": "1089.0"
     },
     "execution_count": 105,
     "metadata": {},
     "output_type": "execute_result"
    }
   ],
   "source": [
    "df[(((df.V6 == 1) & (df.V8 == 1)) & (df.V4 == 1)) & (df.V179_4 == 1)].scv_gewicht_herschaald13.sum().round()"
   ]
  },
  {
   "cell_type": "code",
   "execution_count": 112,
   "metadata": {},
   "outputs": [
    {
     "data": {
      "text/plain": "236.0"
     },
     "execution_count": 112,
     "metadata": {},
     "output_type": "execute_result"
    }
   ],
   "source": [
    "df[(((df.V6 == 1) & (df.V8 == 1)) & (df.V4 == 1))  & df.V179_4.isin(opties)].scv_gewicht_herschaald13.sum().round()"
   ]
  },
  {
   "cell_type": "code",
   "execution_count": 68,
   "metadata": {},
   "outputs": [
    {
     "data": {
      "text/plain": "168.0"
     },
     "execution_count": 68,
     "metadata": {},
     "output_type": "execute_result"
    }
   ],
   "source": [
    "df[((df.V6 == 2) | (df.V8 == 2)) & (df.V179_5 == 1)].scv_gewicht_herschaald13.sum().round()"
   ]
  },
  {
   "cell_type": "code",
   "execution_count": 69,
   "metadata": {},
   "outputs": [
    {
     "data": {
      "text/plain": "16.0"
     },
     "execution_count": 69,
     "metadata": {},
     "output_type": "execute_result"
    }
   ],
   "source": [
    "df[((df.V6 == 2) | (df.V8 == 2)) & df.V179_5.isin(opties)].scv_gewicht_herschaald13.sum().round()"
   ]
  },
  {
   "cell_type": "code",
   "execution_count": 80,
   "metadata": {},
   "outputs": [
    {
     "data": {
      "text/plain": "1206.0"
     },
     "execution_count": 80,
     "metadata": {},
     "output_type": "execute_result"
    }
   ],
   "source": [
    "df[(((df.V6 == 1) & (df.V8 == 1)) & (df.V4 == 1)) & (df.V179_5 == 1)].scv_gewicht_herschaald13.sum().round()"
   ]
  },
  {
   "cell_type": "code",
   "execution_count": 81,
   "metadata": {},
   "outputs": [
    {
     "data": {
      "text/plain": "118.0"
     },
     "execution_count": 81,
     "metadata": {},
     "output_type": "execute_result"
    }
   ],
   "source": [
    "df[(((df.V6 == 1) & (df.V8 == 1)) & (df.V4 == 1)) & df.V179_5.isin(opties)].scv_gewicht_herschaald13.sum().round()"
   ]
  },
  {
   "cell_type": "code",
   "execution_count": 82,
   "metadata": {},
   "outputs": [
    {
     "data": {
      "text/html": "<div>\n<style scoped>\n    .dataframe tbody tr th:only-of-type {\n        vertical-align: middle;\n    }\n\n    .dataframe tbody tr th {\n        vertical-align: top;\n    }\n\n    .dataframe thead th {\n        text-align: right;\n    }\n</style>\n<table border=\"1\" class=\"dataframe\">\n  <thead>\n    <tr style=\"text-align: right;\">\n      <th></th>\n      <th>RESPNUM</th>\n      <th>INTNUM</th>\n      <th>calldurm</th>\n      <th>DUURTIJD_MIN_COMPUTER_T63_T1</th>\n      <th>DUURTIJD_MIN_INTERV</th>\n      <th>VERSCHIL_MIN_COMPUTER_INTERV</th>\n      <th>REG_DUURTIJD</th>\n      <th>VALID_DUURTIJD</th>\n      <th>T1</th>\n      <th>T2</th>\n      <th>...</th>\n      <th>hhtype</th>\n      <th>gezinstype</th>\n      <th>designgewicht13</th>\n      <th>nonresponsgewicht13</th>\n      <th>poststratificatie_gewest13</th>\n      <th>poststratificatie_eak13</th>\n      <th>scv_gewicht13</th>\n      <th>scv_gewicht_herschaald13</th>\n      <th>cluster</th>\n      <th>stratum</th>\n    </tr>\n  </thead>\n  <tbody>\n    <tr>\n      <th>1336</th>\n      <td>113716.0</td>\n      <td>6827.0</td>\n      <td>99.0</td>\n      <td>96.0</td>\n      <td>95.0</td>\n      <td>1.0</td>\n      <td>0.0</td>\n      <td>1.0</td>\n      <td>2013-05-04 13:39:57</td>\n      <td>2013-05-04 13:40:40</td>\n      <td>...</td>\n      <td>1.0</td>\n      <td>1.0</td>\n      <td>2199.943813</td>\n      <td>2.460358</td>\n      <td>0.999181</td>\n      <td>0.803476</td>\n      <td>4345.372256</td>\n      <td>1.259106</td>\n      <td>90.0</td>\n      <td>5.0</td>\n    </tr>\n  </tbody>\n</table>\n<p>1 rows × 949 columns</p>\n</div>",
      "text/plain": "       RESPNUM  INTNUM  calldurm  DUURTIJD_MIN_COMPUTER_T63_T1  \\\n1336  113716.0  6827.0      99.0                          96.0   \n\n      DUURTIJD_MIN_INTERV  VERSCHIL_MIN_COMPUTER_INTERV  REG_DUURTIJD  \\\n1336                 95.0                           1.0           0.0   \n\n      VALID_DUURTIJD                  T1                  T2  ...  hhtype  \\\n1336             1.0 2013-05-04 13:39:57 2013-05-04 13:40:40  ...     1.0   \n\n      gezinstype  designgewicht13  nonresponsgewicht13  \\\n1336         1.0      2199.943813             2.460358   \n\n     poststratificatie_gewest13  poststratificatie_eak13  scv_gewicht13  \\\n1336                   0.999181                 0.803476    4345.372256   \n\n      scv_gewicht_herschaald13  cluster  stratum  \n1336                  1.259106     90.0      5.0  \n\n[1 rows x 949 columns]"
     },
     "execution_count": 82,
     "metadata": {},
     "output_type": "execute_result"
    }
   ],
   "source": [
    "df[((df.V6 == 1) & (df.V8 == 1)) & (df.V4 != 1)]"
   ]
  },
  {
   "cell_type": "code",
   "execution_count": 113,
   "metadata": {},
   "outputs": [
    {
     "data": {
      "text/plain": "4.0     28\n5.0     19\n2.0     18\n1.0     17\n6.0     16\n77.0     6\n88.0     4\n9.0      2\n10.0     2\n15.0     1\n7.0      1\n8.0      1\n18.0     1\nName: V151, dtype: int64"
     },
     "execution_count": 113,
     "metadata": {},
     "output_type": "execute_result"
    }
   ],
   "source": [
    "df[df['V176_1'].isin(opties)].V151.value_counts()"
   ]
  },
  {
   "cell_type": "code",
   "execution_count": 119,
   "metadata": {},
   "outputs": [
    {
     "data": {
      "text/plain": "4.0     33\n2.0     31\n1.0     25\n5.0     21\n6.0     17\n88.0     5\n7.0      2\n10.0     2\n77.0     2\n15.0     1\n16.0     1\n3.0      1\n9.0      1\nName: V151, dtype: int64"
     },
     "execution_count": 119,
     "metadata": {},
     "output_type": "execute_result"
    }
   ],
   "source": [
    "df[df['V176_2'].isin(opties)].V151.value_counts()"
   ]
  },
  {
   "cell_type": "code",
   "execution_count": 120,
   "metadata": {},
   "outputs": [
    {
     "data": {
      "text/plain": "4.0     44\n2.0     27\n1.0     26\n5.0     23\n6.0     18\n88.0     6\n9.0      3\n7.0      2\n77.0     2\n3.0      2\n15.0     1\n10.0     1\nName: V151, dtype: int64"
     },
     "execution_count": 120,
     "metadata": {},
     "output_type": "execute_result"
    }
   ],
   "source": [
    "df[df['V176_3'].isin(opties)].V151.value_counts()"
   ]
  },
  {
   "cell_type": "code",
   "execution_count": 121,
   "metadata": {},
   "outputs": [
    {
     "data": {
      "text/plain": "4.0     85\n2.0     74\n1.0     60\n6.0     49\n5.0     43\n77.0    11\n88.0    11\n9.0      4\n7.0      4\n15.0     3\n3.0      3\n10.0     3\n16.0     1\n8.0      1\n18.0     1\nName: V151, dtype: int64"
     },
     "execution_count": 121,
     "metadata": {},
     "output_type": "execute_result"
    }
   ],
   "source": [
    "df[df['V176_4'].isin(opties)].V151.value_counts()"
   ]
  },
  {
   "cell_type": "code",
   "execution_count": 122,
   "metadata": {},
   "outputs": [
    {
     "data": {
      "text/plain": "4.0     102\n1.0      89\n2.0      58\n5.0      53\n6.0      48\n77.0     13\n9.0       6\n88.0      6\n7.0       5\n10.0      4\n8.0       4\n15.0      2\n3.0       2\n16.0      1\n19.0      1\nName: V151, dtype: int64"
     },
     "execution_count": 122,
     "metadata": {},
     "output_type": "execute_result"
    }
   ],
   "source": [
    "df[df['V176_5'].isin(opties)].V151.value_counts()"
   ]
  },
  {
   "cell_type": "code",
   "execution_count": 123,
   "metadata": {},
   "outputs": [
    {
     "data": {
      "text/plain": "4.0     32\n2.0     19\n1.0     19\n5.0     17\n6.0     13\n77.0     8\n7.0      6\n88.0     4\n10.0     2\n3.0      1\n15.0     1\n16.0     1\nName: V151, dtype: int64"
     },
     "execution_count": 123,
     "metadata": {},
     "output_type": "execute_result"
    }
   ],
   "source": [
    "df[df['V176_6'].isin(opties)].V151.value_counts()"
   ]
  },
  {
   "cell_type": "code",
   "execution_count": 124,
   "metadata": {},
   "outputs": [
    {
     "data": {
      "text/plain": "4.0     55\n5.0     38\n1.0     38\n6.0     26\n2.0     25\n88.0    10\n77.0     8\n10.0     4\n8.0      3\n15.0     3\n9.0      2\n7.0      2\n16.0     1\n18.0     1\nName: V151, dtype: int64"
     },
     "execution_count": 124,
     "metadata": {},
     "output_type": "execute_result"
    }
   ],
   "source": [
    "df[df['V176_7'].isin(opties)].V151.value_counts()"
   ]
  },
  {
   "cell_type": "code",
   "execution_count": 125,
   "metadata": {},
   "outputs": [
    {
     "data": {
      "text/plain": "4.0     79\n1.0     44\n2.0     42\n6.0     39\n5.0     37\n77.0     9\n88.0     8\n9.0      5\n7.0      5\n10.0     3\n15.0     3\n16.0     2\n3.0      1\n8.0      1\nName: V151, dtype: int64"
     },
     "execution_count": 125,
     "metadata": {},
     "output_type": "execute_result"
    }
   ],
   "source": [
    "df[df['V176_8'].isin(opties)].V151.value_counts()"
   ]
  },
  {
   "cell_type": "code",
   "execution_count": 126,
   "metadata": {},
   "outputs": [
    {
     "data": {
      "text/plain": "4.0     236\n1.0     128\n2.0     127\n6.0     111\n5.0     106\n77.0     35\n7.0      32\n88.0     17\n10.0     16\n9.0      14\n15.0     10\n8.0       6\n16.0      3\n18.0      2\n3.0       2\n14.0      1\n12.0      1\nName: V151, dtype: int64"
     },
     "execution_count": 126,
     "metadata": {},
     "output_type": "execute_result"
    }
   ],
   "source": [
    "df[df['V176_9'].isin(opties)].V151.value_counts()"
   ]
  },
  {
   "cell_type": "code",
   "execution_count": 127,
   "metadata": {},
   "outputs": [
    {
     "data": {
      "text/plain": "4.0     246\n1.0     175\n6.0     102\n5.0      93\n2.0      70\n7.0      47\n77.0     40\n10.0     39\n9.0      31\n88.0     27\n15.0      7\n8.0       6\n3.0       5\n18.0      3\n16.0      1\n19.0      1\n14.0      1\n12.0      1\nName: V151, dtype: int64"
     },
     "execution_count": 127,
     "metadata": {},
     "output_type": "execute_result"
    }
   ],
   "source": [
    "df[df['V177'].isin(opties)].V151.value_counts()"
   ]
  },
  {
   "cell_type": "code",
   "execution_count": 128,
   "metadata": {},
   "outputs": [
    {
     "data": {
      "text/plain": "4.0     177\n2.0     118\n1.0     111\n5.0      88\n6.0      84\n77.0     19\n88.0     16\n9.0      14\n7.0      13\n10.0      8\n15.0      6\n8.0       5\n3.0       4\n16.0      3\n19.0      1\n18.0      1\nName: V151, dtype: int64"
     },
     "execution_count": 128,
     "metadata": {},
     "output_type": "execute_result"
    }
   ],
   "source": [
    "df[df['V179_1'].isin(opties)].V151.value_counts()"
   ]
  },
  {
   "cell_type": "code",
   "execution_count": 129,
   "metadata": {},
   "outputs": [
    {
     "data": {
      "text/plain": "4.0     196\n1.0     127\n2.0     122\n5.0     104\n6.0     102\n77.0     27\n7.0      21\n88.0     18\n9.0      14\n10.0      9\n15.0      8\n3.0       6\n8.0       4\n16.0      3\n18.0      2\n14.0      1\nName: V151, dtype: int64"
     },
     "execution_count": 129,
     "metadata": {},
     "output_type": "execute_result"
    }
   ],
   "source": [
    "df[df['V179_3'].isin(opties)].V151.value_counts()"
   ]
  },
  {
   "cell_type": "code",
   "execution_count": 130,
   "metadata": {},
   "outputs": [
    {
     "data": {
      "text/plain": "4.0     74\n1.0     69\n2.0     43\n5.0     43\n6.0     36\n88.0     8\n7.0      7\n9.0      6\n10.0     6\n77.0     5\n15.0     4\n8.0      3\n3.0      2\n16.0     1\nName: V151, dtype: int64"
     },
     "execution_count": 130,
     "metadata": {},
     "output_type": "execute_result"
    }
   ],
   "source": [
    "df[df['V179_4'].isin(opties)].V151.value_counts()"
   ]
  },
  {
   "cell_type": "code",
   "execution_count": 131,
   "metadata": {},
   "outputs": [
    {
     "data": {
      "text/plain": "1.0     33\n4.0     28\n5.0     20\n6.0     18\n2.0     18\n88.0     8\n77.0     4\n9.0      3\n10.0     3\n15.0     3\n7.0      1\n3.0      1\n8.0      1\n18.0     1\nName: V151, dtype: int64"
     },
     "execution_count": 131,
     "metadata": {},
     "output_type": "execute_result"
    }
   ],
   "source": [
    "df[df['V179_5'].isin(opties)].V151.value_counts()"
   ]
  },
  {
   "cell_type": "code",
   "execution_count": 132,
   "metadata": {},
   "outputs": [
    {
     "data": {
      "text/plain": "4.0     400\n1.0     270\n6.0     180\n2.0     174\n5.0     166\n7.0      64\n77.0     61\n10.0     50\n88.0     40\n9.0      39\n15.0     13\n8.0      12\n3.0       8\n18.0      5\n16.0      4\n12.0      1\n14.0      1\n19.0      1\nName: V151, dtype: int64"
     },
     "execution_count": 132,
     "metadata": {},
     "output_type": "execute_result"
    }
   ],
   "source": [
    "df[(df['V176_1'].isin(opties)) | (df['V176_2'].isin(opties)) | (df['V176_3'].isin(opties)) | (df['V176_4'].isin(opties)) | (df['V176_5'].isin(opties)) | (df['V176_6'].isin(opties)) | (df['V176_7'].isin(opties)) | (df['V176_8'].isin(opties)) | (df['V176_9'].isin(opties)) | (df['V177'].isin(opties)) | (df['V179_1'].isin(opties)) | (df['V179_3'].isin(opties)) | (df['V179_4'].isin(opties)) | (df['V179_5'].isin(opties))].V151.value_counts()"
   ]
  },
  {
   "cell_type": "code",
   "execution_count": null,
   "metadata": {},
   "outputs": [],
   "source": []
  }
 ]
}