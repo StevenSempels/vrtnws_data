{
 "nbformat": 4,
 "nbformat_minor": 2,
 "metadata": {
  "language_info": {
   "name": "python",
   "codemirror_mode": {
    "name": "ipython",
    "version": 3
   },
   "version": "3.7.4-final"
  },
  "orig_nbformat": 2,
  "file_extension": ".py",
  "mimetype": "text/x-python",
  "name": "python",
  "npconvert_exporter": "python",
  "pygments_lexer": "ipython3",
  "version": 3,
  "kernelspec": {
   "name": "python37464bitvrtnwsdatapipenv8fdc1237a3b944719c2b0d956b212a6e",
   "display_name": "Python 3.7.4 64-bit ('vrtnws_data': pipenv)"
  }
 },
 "cells": [
  {
   "cell_type": "code",
   "execution_count": 944,
   "metadata": {},
   "outputs": [],
   "source": [
    "import pandas as pd \n",
    "import seaborn as sb"
   ]
  },
  {
   "cell_type": "code",
   "execution_count": 945,
   "metadata": {},
   "outputs": [],
   "source": [
    "bevolking = pd.read_csv('bevolking.csv')\n",
    "asielcentra = pd.read_csv('asielcentra.csv', sep=';')"
   ]
  },
  {
   "cell_type": "code",
   "execution_count": 946,
   "metadata": {},
   "outputs": [],
   "source": [
    "bevolking.columns = bevolking.columns.str.strip().str.lower().str.replace(' ', '_').str.replace('(', '').str.replace(')', '').str.replace('-', '')\n",
    "asielcentra.columns = asielcentra.columns.str.strip().str.lower().str.replace(' ', '_').str.replace('(', '').str.replace(')', '').str.replace('-', '')"
   ]
  },
  {
   "cell_type": "code",
   "execution_count": 947,
   "metadata": {},
   "outputs": [],
   "source": [
    "bevolking.rename(columns={'bevolking_op_01_januari_2000':2000, 'bevolking_op_01_januari_2001':2001, 'bevolking_op_01_januari_2002':2002, 'bevolking_op_01_januari_2003':2003, 'bevolking_op_01_januari_2004':2004, 'bevolking_op_01_januari_2005':2005, 'bevolking_op_01_januari_2006':2006, 'bevolking_op_01_januari_2007':2007, 'bevolking_op_01_januari_2008':2008, 'bevolking_op_01_januari_2009':2009, 'bevolking_op_01_januari_2010':2010, 'bevolking_op_01_januari_2011':2011, 'bevolking_op_01_januari_2012':2012, 'bevolking_op_01_januari_2013':2013, 'bevolking_op_01_januari_2014':2014, 'bevolking_op_01_januari_2015':2015, 'bevolking_op_01_januari_2016':2016, 'bevolking_op_01_januari_2017':2017, 'bevolking_op_01_januari_2018':2018, 'bevolking_op_01_januari_2019':2019}, inplace=True)"
   ]
  },
  {
   "cell_type": "code",
   "execution_count": 948,
   "metadata": {},
   "outputs": [],
   "source": [
    "bevolking = bevolking[bevolking.nationaliteit.isna()]"
   ]
  },
  {
   "cell_type": "code",
   "execution_count": 949,
   "metadata": {},
   "outputs": [],
   "source": [
    "bevolking = bevolking.melt(id_vars=['gemeente'], value_vars=[2000, 2001, 2002, 2003, 2004, 2005, 2006, 2007, 2008, 2009, 2010, 2011, 2012, 2013, 2014, 2015, 2016, 2017, 2018, 2019], var_name='jaar', value_name='aantal')"
   ]
  },
  {
   "cell_type": "code",
   "execution_count": 950,
   "metadata": {},
   "outputs": [],
   "source": [
    "bevolking.aantal = bevolking.aantal.astype(int)"
   ]
  },
  {
   "cell_type": "code",
   "execution_count": 951,
   "metadata": {},
   "outputs": [],
   "source": [
    "asielcentra = asielcentra.fillna(0)"
   ]
  },
  {
   "cell_type": "code",
   "execution_count": 952,
   "metadata": {},
   "outputs": [],
   "source": [
    "asielcentra.inwoners = asielcentra.inwoners.astype(int)"
   ]
  },
  {
   "cell_type": "code",
   "execution_count": 953,
   "metadata": {},
   "outputs": [],
   "source": [
    "gemeentes = asielcentra.gemeente.unique().tolist()"
   ]
  },
  {
   "cell_type": "code",
   "execution_count": 954,
   "metadata": {},
   "outputs": [],
   "source": [
    "subset = bevolking[bevolking.gemeente.isin(gemeentes)]"
   ]
  },
  {
   "cell_type": "code",
   "execution_count": 955,
   "metadata": {},
   "outputs": [
    {
     "data": {
      "text/plain": "array(['Ranst', 'Mechelen', 'Arendonk', 'Steenokkerzeel', 'Zaventem',\n       'Zoutleeuw', 'Scherpenheuvel-Zichem', 'Langemark-Poelkapelle',\n       'Eeklo', 'Sint-Niklaas (Sint-Niklaas)', 'Leopoldsburg',\n       'Heusden-Zolder', 'Lommel', 'Houthalen-Helchteren'], dtype=object)"
     },
     "execution_count": 955,
     "metadata": {},
     "output_type": "execute_result"
    }
   ],
   "source": [
    "subset.gemeente.unique()"
   ]
  },
  {
   "cell_type": "code",
   "execution_count": 956,
   "metadata": {},
   "outputs": [],
   "source": [
    "new = asielcentra.merge(subset, on=['gemeente', 'jaar'], how='left')"
   ]
  },
  {
   "cell_type": "code",
   "execution_count": 957,
   "metadata": {},
   "outputs": [],
   "source": [
    "new = new[['gemeente', 'jaar', 'aantal', 'misdrijf']]"
   ]
  },
  {
   "cell_type": "code",
   "execution_count": 958,
   "metadata": {},
   "outputs": [],
   "source": [
    "new.rename(columns={'aantal':'inwoners'}, inplace=True)"
   ]
  },
  {
   "cell_type": "code",
   "execution_count": 959,
   "metadata": {},
   "outputs": [
    {
     "data": {
      "text/html": "<div>\n<style scoped>\n    .dataframe tbody tr th:only-of-type {\n        vertical-align: middle;\n    }\n\n    .dataframe tbody tr th {\n        vertical-align: top;\n    }\n\n    .dataframe thead th {\n        text-align: right;\n    }\n</style>\n<table border=\"1\" class=\"dataframe\">\n  <thead>\n    <tr style=\"text-align: right;\">\n      <th></th>\n      <th>gemeente</th>\n      <th>jaar</th>\n      <th>inwoners</th>\n      <th>misdrijf</th>\n    </tr>\n  </thead>\n  <tbody>\n    <tr>\n      <th>360</th>\n      <td>Deurne</td>\n      <td>2000</td>\n      <td>NaN</td>\n      <td>Diefstal en afpersing</td>\n    </tr>\n    <tr>\n      <th>361</th>\n      <td>Deurne</td>\n      <td>2000</td>\n      <td>NaN</td>\n      <td>Beschadigen van eigendom</td>\n    </tr>\n    <tr>\n      <th>362</th>\n      <td>Deurne</td>\n      <td>2000</td>\n      <td>NaN</td>\n      <td>Misdr. tegen de lichamelijke integriteit</td>\n    </tr>\n    <tr>\n      <th>363</th>\n      <td>Deurne</td>\n      <td>2000</td>\n      <td>NaN</td>\n      <td>Vreemdelingenwetgeving</td>\n    </tr>\n    <tr>\n      <th>364</th>\n      <td>Deurne</td>\n      <td>2000</td>\n      <td>NaN</td>\n      <td>Drugs</td>\n    </tr>\n    <tr>\n      <th>...</th>\n      <td>...</td>\n      <td>...</td>\n      <td>...</td>\n      <td>...</td>\n    </tr>\n    <tr>\n      <th>895</th>\n      <td>Neder-Over-Heembeek</td>\n      <td>2019</td>\n      <td>NaN</td>\n      <td>Drugs</td>\n    </tr>\n    <tr>\n      <th>896</th>\n      <td>Neder-Over-Heembeek</td>\n      <td>2019</td>\n      <td>NaN</td>\n      <td>Dronkenschap en alcohol</td>\n    </tr>\n    <tr>\n      <th>897</th>\n      <td>Neder-Over-Heembeek</td>\n      <td>2019</td>\n      <td>NaN</td>\n      <td>Misdr. tegen de openbare veiligheid</td>\n    </tr>\n    <tr>\n      <th>898</th>\n      <td>Neder-Over-Heembeek</td>\n      <td>2019</td>\n      <td>NaN</td>\n      <td>Zedenmisdrijven</td>\n    </tr>\n    <tr>\n      <th>899</th>\n      <td>Neder-Over-Heembeek</td>\n      <td>2019</td>\n      <td>NaN</td>\n      <td>Wapens en springstoffen</td>\n    </tr>\n  </tbody>\n</table>\n<p>360 rows × 4 columns</p>\n</div>",
      "text/plain": "                gemeente  jaar  inwoners  \\\n360               Deurne  2000       NaN   \n361               Deurne  2000       NaN   \n362               Deurne  2000       NaN   \n363               Deurne  2000       NaN   \n364               Deurne  2000       NaN   \n..                   ...   ...       ...   \n895  Neder-Over-Heembeek  2019       NaN   \n896  Neder-Over-Heembeek  2019       NaN   \n897  Neder-Over-Heembeek  2019       NaN   \n898  Neder-Over-Heembeek  2019       NaN   \n899  Neder-Over-Heembeek  2019       NaN   \n\n                                     misdrijf  \n360                     Diefstal en afpersing  \n361                  Beschadigen van eigendom  \n362  Misdr. tegen de lichamelijke integriteit  \n363                    Vreemdelingenwetgeving  \n364                                     Drugs  \n..                                        ...  \n895                                     Drugs  \n896                   Dronkenschap en alcohol  \n897       Misdr. tegen de openbare veiligheid  \n898                           Zedenmisdrijven  \n899                   Wapens en springstoffen  \n\n[360 rows x 4 columns]"
     },
     "execution_count": 959,
     "metadata": {},
     "output_type": "execute_result"
    }
   ],
   "source": [
    "new[new.inwoners.isnull()]"
   ]
  },
  {
   "cell_type": "code",
   "execution_count": 960,
   "metadata": {},
   "outputs": [],
   "source": [
    "new = new.fillna(0)"
   ]
  },
  {
   "cell_type": "code",
   "execution_count": 961,
   "metadata": {},
   "outputs": [],
   "source": [
    "new.inwoners = new.inwoners.astype(int)"
   ]
  },
  {
   "cell_type": "code",
   "execution_count": 962,
   "metadata": {},
   "outputs": [
    {
     "data": {
      "text/plain": "array(['Arendonk', 'Ranst', 'Deurne', 'Lommel', 'Neder-Over-Heembeek',\n       'Langemark-Poelkapelle', 'Steenokkerzeel', 'Zaventem', 'Zoutleeuw',\n       'Eeklo', 'Heusden-Zolder', 'Houthalen-Helchteren', 'Leopoldsburg',\n       'Mechelen', 'Sint-Niklaas (Sint-Niklaas)', 'Scherpenheuvel-Zichem'],\n      dtype=object)"
     },
     "execution_count": 962,
     "metadata": {},
     "output_type": "execute_result"
    }
   ],
   "source": [
    "new.gemeente.unique()"
   ]
  },
  {
   "cell_type": "code",
   "execution_count": 963,
   "metadata": {},
   "outputs": [],
   "source": [
    "arendonk = pd.read_csv('cijfers_arendonk.csv', sep=';')"
   ]
  },
  {
   "cell_type": "code",
   "execution_count": 964,
   "metadata": {},
   "outputs": [],
   "source": [
    "arendonk.rename(columns={'2000':2000, '2009':2009, '2010':2010, '2011':2011, '2012':2012, '2013':2013, '2014':2014, '2015':2015, '2016':2016, '2017':2017, '2018':2018, '2019':2019}, inplace=True)"
   ]
  },
  {
   "cell_type": "code",
   "execution_count": 965,
   "metadata": {},
   "outputs": [],
   "source": [
    "arendonk = arendonk.melt(id_vars=['misdrijf'], value_vars=[2000, 2009, 2010, 2011, 2012, 2013, 2014, 2015, 2016, 2017, 2018, 2019], var_name='jaar', value_name='aantal')"
   ]
  },
  {
   "cell_type": "code",
   "execution_count": 966,
   "metadata": {},
   "outputs": [],
   "source": [
    "arendonk = arendonk.fillna(0)"
   ]
  },
  {
   "cell_type": "code",
   "execution_count": 967,
   "metadata": {},
   "outputs": [],
   "source": [
    "arendonk.aantal = arendonk.aantal.astype(int)"
   ]
  },
  {
   "cell_type": "code",
   "execution_count": 968,
   "metadata": {},
   "outputs": [],
   "source": [
    "arendonk.insert(0, 'gemeente', 'Arendonk')"
   ]
  },
  {
   "cell_type": "code",
   "execution_count": 969,
   "metadata": {},
   "outputs": [],
   "source": [
    "eeklo = pd.read_csv('cijfers_eeklo.csv', sep=';')"
   ]
  },
  {
   "cell_type": "code",
   "execution_count": 970,
   "metadata": {},
   "outputs": [],
   "source": [
    "eeklo.rename(columns={'2000':2000, '2009':2009, '2010':2010, '2011':2011, '2012':2012, '2013':2013, '2014':2014, '2015':2015, '2016':2016, '2017':2017, '2018':2018, '2019':2019, 'Unnamed: 0':'misdrijf'}, inplace=True)"
   ]
  },
  {
   "cell_type": "code",
   "execution_count": 971,
   "metadata": {},
   "outputs": [],
   "source": [
    "eeklo = eeklo.melt(id_vars=['misdrijf'], value_vars=[2000, 2009, 2010, 2011, 2012, 2013, 2014, 2015, 2016, 2017, 2018, 2019], var_name='jaar', value_name='aantal')"
   ]
  },
  {
   "cell_type": "code",
   "execution_count": 972,
   "metadata": {},
   "outputs": [],
   "source": [
    "eeklo = eeklo.fillna(0)"
   ]
  },
  {
   "cell_type": "code",
   "execution_count": 973,
   "metadata": {},
   "outputs": [],
   "source": [
    "eeklo.aantal = eeklo.aantal.astype(int)"
   ]
  },
  {
   "cell_type": "code",
   "execution_count": 974,
   "metadata": {},
   "outputs": [],
   "source": [
    "eeklo.insert(0, 'gemeente', 'Eeklo')"
   ]
  },
  {
   "cell_type": "code",
   "execution_count": 975,
   "metadata": {},
   "outputs": [],
   "source": [
    "heusden = pd.read_csv('cijfers_heusdenzolder.csv', sep=';')"
   ]
  },
  {
   "cell_type": "code",
   "execution_count": 976,
   "metadata": {},
   "outputs": [],
   "source": [
    "heusden.rename(columns={'2000':2000, '2009':2009, '2010':2010, '2011':2011, '2012':2012, '2013':2013, '2014':2014, '2015':2015, '2016':2016, '2017':2017, '2018':2018, '2019':2019, 'Unnamed: 0':'misdrijf'}, inplace=True)"
   ]
  },
  {
   "cell_type": "code",
   "execution_count": 977,
   "metadata": {},
   "outputs": [],
   "source": [
    "heusden = heusden.melt(id_vars=['misdrijf'], value_vars=[2000, 2009, 2010, 2011, 2012, 2013, 2014, 2015, 2016, 2017, 2018, 2019], var_name='jaar', value_name='aantal')"
   ]
  },
  {
   "cell_type": "code",
   "execution_count": 978,
   "metadata": {},
   "outputs": [],
   "source": [
    "heusden = heusden.fillna(0)"
   ]
  },
  {
   "cell_type": "code",
   "execution_count": 979,
   "metadata": {},
   "outputs": [],
   "source": [
    "heusden.aantal = heusden.aantal.astype(int)"
   ]
  },
  {
   "cell_type": "code",
   "execution_count": 980,
   "metadata": {},
   "outputs": [],
   "source": [
    "heusden.insert(0, 'gemeente', 'Heusden-Zolder')"
   ]
  },
  {
   "cell_type": "code",
   "execution_count": 981,
   "metadata": {},
   "outputs": [],
   "source": [
    "houthelch = pd.read_csv('cijfers_houthelch.csv', sep=';')"
   ]
  },
  {
   "cell_type": "code",
   "execution_count": 982,
   "metadata": {},
   "outputs": [],
   "source": [
    "houthelch.rename(columns={'2000':2000, '2009':2009, '2010':2010, '2011':2011, '2012':2012, '2013':2013, '2014':2014, '2015':2015, '2016':2016, '2017':2017, '2018':2018, '2019':2019, 'Unnamed: 0':'misdrijf'}, inplace=True)"
   ]
  },
  {
   "cell_type": "code",
   "execution_count": 983,
   "metadata": {},
   "outputs": [],
   "source": [
    "houthelch = houthelch.melt(id_vars=['misdrijf'], value_vars=[2000, 2009, 2010, 2011, 2012, 2013, 2014, 2015, 2016, 2017, 2018, 2019], var_name='jaar', value_name='aantal')"
   ]
  },
  {
   "cell_type": "code",
   "execution_count": 984,
   "metadata": {},
   "outputs": [],
   "source": [
    "houthelch = houthelch.fillna(0)"
   ]
  },
  {
   "cell_type": "code",
   "execution_count": 985,
   "metadata": {},
   "outputs": [],
   "source": [
    "houthelch.aantal = houthelch.aantal.astype(int)"
   ]
  },
  {
   "cell_type": "code",
   "execution_count": 986,
   "metadata": {},
   "outputs": [],
   "source": [
    "houthelch.insert(0, 'gemeente', 'Houthalen-Helchteren')"
   ]
  },
  {
   "cell_type": "code",
   "execution_count": 987,
   "metadata": {},
   "outputs": [],
   "source": [
    "langpoel = pd.read_csv('cijfers_langpoel.csv', sep=';')"
   ]
  },
  {
   "cell_type": "code",
   "execution_count": 988,
   "metadata": {},
   "outputs": [],
   "source": [
    "langpoel.rename(columns={'2000':2000, '2009':2009, '2010':2010, '2011':2011, '2012':2012, '2013':2013, '2014':2014, '2015':2015, '2016':2016, '2017':2017, '2018':2018, '2019':2019, 'Unnamed: 0':'misdrijf'}, inplace=True)"
   ]
  },
  {
   "cell_type": "code",
   "execution_count": 989,
   "metadata": {},
   "outputs": [],
   "source": [
    "langpoel = langpoel.melt(id_vars=['misdrijf'], value_vars=[2000, 2009, 2010, 2011, 2012, 2013, 2014, 2015, 2016, 2017, 2018, 2019], var_name='jaar', value_name='aantal')"
   ]
  },
  {
   "cell_type": "code",
   "execution_count": 990,
   "metadata": {},
   "outputs": [],
   "source": [
    "langpoel = langpoel.fillna(0)"
   ]
  },
  {
   "cell_type": "code",
   "execution_count": 991,
   "metadata": {},
   "outputs": [],
   "source": [
    "langpoel.aantal = langpoel.aantal.astype(int)"
   ]
  },
  {
   "cell_type": "code",
   "execution_count": 992,
   "metadata": {},
   "outputs": [],
   "source": [
    "langpoel.insert(0, 'gemeente', 'Langemark-Poelkapelle')"
   ]
  },
  {
   "cell_type": "code",
   "execution_count": 993,
   "metadata": {},
   "outputs": [],
   "source": [
    "leopoldsburg = pd.read_csv('cijfers_leopoldsburg.csv', sep=';')"
   ]
  },
  {
   "cell_type": "code",
   "execution_count": 994,
   "metadata": {},
   "outputs": [],
   "source": [
    "leopoldsburg.rename(columns={'2000':2000, '2009':2009, '2010':2010, '2011':2011, '2012':2012, '2013':2013, '2014':2014, '2015':2015, '2016':2016, '2017':2017, '2018':2018, '2019':2019, 'Unnamed: 0':'misdrijf'}, inplace=True)"
   ]
  },
  {
   "cell_type": "code",
   "execution_count": 995,
   "metadata": {},
   "outputs": [],
   "source": [
    "leopoldsburg = leopoldsburg.melt(id_vars=['misdrijf'], value_vars=[2000, 2009, 2010, 2011, 2012, 2013, 2014, 2015, 2016, 2017, 2018, 2019], var_name='jaar', value_name='aantal')"
   ]
  },
  {
   "cell_type": "code",
   "execution_count": 996,
   "metadata": {},
   "outputs": [],
   "source": [
    "leopoldsburg = leopoldsburg.fillna(0)"
   ]
  },
  {
   "cell_type": "code",
   "execution_count": 997,
   "metadata": {},
   "outputs": [],
   "source": [
    "leopoldsburg.aantal = leopoldsburg.aantal.astype(int)"
   ]
  },
  {
   "cell_type": "code",
   "execution_count": 998,
   "metadata": {},
   "outputs": [],
   "source": [
    "leopoldsburg.insert(0, 'gemeente', 'Leopoldsburg')"
   ]
  },
  {
   "cell_type": "code",
   "execution_count": 999,
   "metadata": {},
   "outputs": [],
   "source": [
    "lommel = pd.read_csv('cijfers_lommel.csv', sep=';')"
   ]
  },
  {
   "cell_type": "code",
   "execution_count": 1000,
   "metadata": {},
   "outputs": [],
   "source": [
    "lommel.rename(columns={'2000':2000, '2009':2009, '2010':2010, '2011':2011, '2012':2012, '2013':2013, '2014':2014, '2015':2015, '2016':2016, '2017':2017, '2018':2018, '2019':2019, 'Unnamed: 0':'misdrijf'}, inplace=True)"
   ]
  },
  {
   "cell_type": "code",
   "execution_count": 1001,
   "metadata": {},
   "outputs": [],
   "source": [
    "lommel = lommel.melt(id_vars=['misdrijf'], value_vars=[2000, 2009, 2010, 2011, 2012, 2013, 2014, 2015, 2016, 2017, 2018, 2019], var_name='jaar', value_name='aantal')"
   ]
  },
  {
   "cell_type": "code",
   "execution_count": 1002,
   "metadata": {},
   "outputs": [],
   "source": [
    "lommel = lommel.fillna(0)"
   ]
  },
  {
   "cell_type": "code",
   "execution_count": 1003,
   "metadata": {},
   "outputs": [],
   "source": [
    "lommel.aantal = lommel.aantal.astype(int)"
   ]
  },
  {
   "cell_type": "code",
   "execution_count": 1004,
   "metadata": {},
   "outputs": [],
   "source": [
    "lommel.insert(0, 'gemeente', 'Lommel')"
   ]
  },
  {
   "cell_type": "code",
   "execution_count": 1005,
   "metadata": {},
   "outputs": [],
   "source": [
    "mechelen = pd.read_csv('cijfers_mechelen.csv', sep=';')"
   ]
  },
  {
   "cell_type": "code",
   "execution_count": 1006,
   "metadata": {},
   "outputs": [],
   "source": [
    "mechelen.rename(columns={'2000':2000, '2009':2009, '2010':2010, '2011':2011, '2012':2012, '2013':2013, '2014':2014, '2015':2015, '2016':2016, '2017':2017, '2018':2018, '2019':2019, 'Unnamed: 0':'misdrijf'}, inplace=True)"
   ]
  },
  {
   "cell_type": "code",
   "execution_count": 1007,
   "metadata": {},
   "outputs": [],
   "source": [
    "mechelen = mechelen.melt(id_vars=['misdrijf'], value_vars=[2000, 2009, 2010, 2011, 2012, 2013, 2014, 2015, 2016, 2017, 2018, 2019], var_name='jaar', value_name='aantal')"
   ]
  },
  {
   "cell_type": "code",
   "execution_count": 1008,
   "metadata": {},
   "outputs": [],
   "source": [
    "mechelen = mechelen.fillna(0)"
   ]
  },
  {
   "cell_type": "code",
   "execution_count": 1009,
   "metadata": {},
   "outputs": [],
   "source": [
    "mechelen.aantal = mechelen.aantal.astype(int)"
   ]
  },
  {
   "cell_type": "code",
   "execution_count": 1010,
   "metadata": {},
   "outputs": [],
   "source": [
    "mechelen.insert(0, 'gemeente', 'Mechelen')"
   ]
  },
  {
   "cell_type": "code",
   "execution_count": 1011,
   "metadata": {},
   "outputs": [],
   "source": [
    "ranst = pd.read_csv('cijfers_ranst.csv', sep=';')"
   ]
  },
  {
   "cell_type": "code",
   "execution_count": 1012,
   "metadata": {},
   "outputs": [],
   "source": [
    "ranst.rename(columns={'2000':2000, '2009':2009, '2010':2010, '2011':2011, '2012':2012, '2013':2013, '2014':2014, '2015':2015, '2016':2016, '2017':2017, '2018':2018, '2019':2019, 'Unnamed: 0':'misdrijf'}, inplace=True)"
   ]
  },
  {
   "cell_type": "code",
   "execution_count": 1013,
   "metadata": {},
   "outputs": [],
   "source": [
    "ranst = ranst.melt(id_vars=['misdrijf'], value_vars=[2000, 2009, 2010, 2011, 2012, 2013, 2014, 2015, 2016, 2017, 2018, 2019], var_name='jaar', value_name='aantal')"
   ]
  },
  {
   "cell_type": "code",
   "execution_count": 1014,
   "metadata": {},
   "outputs": [],
   "source": [
    "ranst = ranst.fillna(0)"
   ]
  },
  {
   "cell_type": "code",
   "execution_count": 1015,
   "metadata": {},
   "outputs": [],
   "source": [
    "ranst.aantal = ranst.aantal.astype(int)"
   ]
  },
  {
   "cell_type": "code",
   "execution_count": 1016,
   "metadata": {},
   "outputs": [],
   "source": [
    "ranst.insert(0, 'gemeente', 'Ranst')"
   ]
  },
  {
   "cell_type": "code",
   "execution_count": 1017,
   "metadata": {},
   "outputs": [],
   "source": [
    "scherpenheuvel = pd.read_csv('cijfers_scherpenheuvel.csv', sep=';')"
   ]
  },
  {
   "cell_type": "code",
   "execution_count": 1018,
   "metadata": {},
   "outputs": [],
   "source": [
    "scherpenheuvel.rename(columns={'2000':2000, '2009':2009, '2010':2010, '2011':2011, '2012':2012, '2013':2013, '2014':2014, '2015':2015, '2016':2016, '2017':2017, '2018':2018, '2019':2019, 'Unnamed: 0':'misdrijf'}, inplace=True)"
   ]
  },
  {
   "cell_type": "code",
   "execution_count": 1019,
   "metadata": {},
   "outputs": [],
   "source": [
    "scherpenheuvel = scherpenheuvel.melt(id_vars=['misdrijf'], value_vars=[2000, 2009, 2010, 2011, 2012, 2013, 2014, 2015, 2016, 2017, 2018, 2019], var_name='jaar', value_name='aantal')"
   ]
  },
  {
   "cell_type": "code",
   "execution_count": 1020,
   "metadata": {},
   "outputs": [],
   "source": [
    "scherpenheuvel = scherpenheuvel.fillna(0)"
   ]
  },
  {
   "cell_type": "code",
   "execution_count": 1021,
   "metadata": {},
   "outputs": [],
   "source": [
    "scherpenheuvel.aantal = scherpenheuvel.aantal.astype(int)"
   ]
  },
  {
   "cell_type": "code",
   "execution_count": 1022,
   "metadata": {},
   "outputs": [],
   "source": [
    "scherpenheuvel.insert(0, 'gemeente', 'Scherpenheuvel-Zichem')"
   ]
  },
  {
   "cell_type": "code",
   "execution_count": 1023,
   "metadata": {},
   "outputs": [],
   "source": [
    "sintniklaas = pd.read_csv('cijfers_sintniklaas.csv', sep=';')"
   ]
  },
  {
   "cell_type": "code",
   "execution_count": 1024,
   "metadata": {},
   "outputs": [],
   "source": [
    "sintniklaas.rename(columns={'2000':2000, '2009':2009, '2010':2010, '2011':2011, '2012':2012, '2013':2013, '2014':2014, '2015':2015, '2016':2016, '2017':2017, '2018':2018, '2019':2019, 'Unnamed: 0':'misdrijf'}, inplace=True)"
   ]
  },
  {
   "cell_type": "code",
   "execution_count": 1025,
   "metadata": {},
   "outputs": [],
   "source": [
    "sintniklaas = sintniklaas.melt(id_vars=['misdrijf'], value_vars=[2000, 2009, 2010, 2011, 2012, 2013, 2014, 2015, 2016, 2017, 2018, 2019], var_name='jaar', value_name='aantal')"
   ]
  },
  {
   "cell_type": "code",
   "execution_count": 1026,
   "metadata": {},
   "outputs": [],
   "source": [
    "sintniklaas = sintniklaas.fillna(0)"
   ]
  },
  {
   "cell_type": "code",
   "execution_count": 1027,
   "metadata": {},
   "outputs": [],
   "source": [
    "sintniklaas.aantal = sintniklaas.aantal.astype(int)"
   ]
  },
  {
   "cell_type": "code",
   "execution_count": 1028,
   "metadata": {},
   "outputs": [],
   "source": [
    "sintniklaas.insert(0, 'gemeente', 'Sint-Niklaas (Sint-Niklaas)')"
   ]
  },
  {
   "cell_type": "code",
   "execution_count": 1029,
   "metadata": {},
   "outputs": [],
   "source": [
    "steenokkerzeel = pd.read_csv('cijfers_steenokkerzeel.csv', sep=';')"
   ]
  },
  {
   "cell_type": "code",
   "execution_count": 1030,
   "metadata": {},
   "outputs": [],
   "source": [
    "steenokkerzeel.rename(columns={'2000':2000, '2009':2009, '2010':2010, '2011':2011, '2012':2012, '2013':2013, '2014':2014, '2015':2015, '2016':2016, '2017':2017, '2018':2018, '2019':2019, 'Unnamed: 0':'misdrijf'}, inplace=True)"
   ]
  },
  {
   "cell_type": "code",
   "execution_count": 1031,
   "metadata": {},
   "outputs": [],
   "source": [
    "steenokkerzeel = steenokkerzeel.melt(id_vars=['misdrijf'], value_vars=[2000, 2009, 2010, 2011, 2012, 2013, 2014, 2015, 2016, 2017, 2018, 2019], var_name='jaar', value_name='aantal')"
   ]
  },
  {
   "cell_type": "code",
   "execution_count": 1032,
   "metadata": {},
   "outputs": [],
   "source": [
    "steenokkerzeel = steenokkerzeel.fillna(0)"
   ]
  },
  {
   "cell_type": "code",
   "execution_count": 1033,
   "metadata": {},
   "outputs": [],
   "source": [
    "steenokkerzeel.aantal = steenokkerzeel.aantal.astype(int)"
   ]
  },
  {
   "cell_type": "code",
   "execution_count": 1034,
   "metadata": {},
   "outputs": [],
   "source": [
    "steenokkerzeel.insert(0, 'gemeente', 'Steenokkerzeel')"
   ]
  },
  {
   "cell_type": "code",
   "execution_count": 1035,
   "metadata": {},
   "outputs": [],
   "source": [
    "zaventem = pd.read_csv('cijfers_zaventem.csv', sep=';')"
   ]
  },
  {
   "cell_type": "code",
   "execution_count": 1036,
   "metadata": {},
   "outputs": [],
   "source": [
    "zaventem.rename(columns={'2000':2000, '2009':2009, '2010':2010, '2011':2011, '2012':2012, '2013':2013, '2014':2014, '2015':2015, '2016':2016, '2017':2017, '2018':2018, '2019':2019, 'Unnamed: 0':'misdrijf'}, inplace=True)"
   ]
  },
  {
   "cell_type": "code",
   "execution_count": 1037,
   "metadata": {},
   "outputs": [],
   "source": [
    "zaventem = zaventem.melt(id_vars=['misdrijf'], value_vars=[2000, 2009, 2010, 2011, 2012, 2013, 2014, 2015, 2016, 2017, 2018, 2019], var_name='jaar', value_name='aantal')"
   ]
  },
  {
   "cell_type": "code",
   "execution_count": 1038,
   "metadata": {},
   "outputs": [],
   "source": [
    "zaventem = zaventem.fillna(0)"
   ]
  },
  {
   "cell_type": "code",
   "execution_count": 1039,
   "metadata": {},
   "outputs": [],
   "source": [
    "zaventem.aantal = zaventem.aantal.astype(int)"
   ]
  },
  {
   "cell_type": "code",
   "execution_count": 1040,
   "metadata": {},
   "outputs": [],
   "source": [
    "zaventem.insert(0, 'gemeente', 'Zaventem')"
   ]
  },
  {
   "cell_type": "code",
   "execution_count": 1041,
   "metadata": {},
   "outputs": [],
   "source": [
    "zoutleeuw = pd.read_csv('cijfers_zoutleeuw.csv', sep=';')"
   ]
  },
  {
   "cell_type": "code",
   "execution_count": 1042,
   "metadata": {},
   "outputs": [],
   "source": [
    "zoutleeuw.rename(columns={'2000':2000, '2009':2009, '2010':2010, '2011':2011, '2012':2012, '2013':2013, '2014':2014, '2015':2015, '2016':2016, '2017':2017, '2018':2018, '2019':2019, 'Unnamed: 0':'misdrijf'}, inplace=True)"
   ]
  },
  {
   "cell_type": "code",
   "execution_count": 1043,
   "metadata": {},
   "outputs": [],
   "source": [
    "zoutleeuw = zoutleeuw.melt(id_vars=['misdrijf'], value_vars=[2000, 2009, 2010, 2011, 2012, 2013, 2014, 2015, 2016, 2017, 2018, 2019], var_name='jaar', value_name='aantal')"
   ]
  },
  {
   "cell_type": "code",
   "execution_count": 1044,
   "metadata": {},
   "outputs": [],
   "source": [
    "zoutleeuw = zoutleeuw.fillna(0)"
   ]
  },
  {
   "cell_type": "code",
   "execution_count": 1045,
   "metadata": {},
   "outputs": [],
   "source": [
    "zoutleeuw.aantal = zoutleeuw.aantal.astype(int)"
   ]
  },
  {
   "cell_type": "code",
   "execution_count": 1046,
   "metadata": {},
   "outputs": [],
   "source": [
    "zoutleeuw.insert(0, 'gemeente', 'Zoutleeuw')"
   ]
  },
  {
   "cell_type": "code",
   "execution_count": 1047,
   "metadata": {},
   "outputs": [],
   "source": [
    "alles = pd.concat([arendonk, eeklo, heusden, houthelch, langpoel, leopoldsburg, lommel, mechelen, ranst, scherpenheuvel, steenokkerzeel, sintniklaas, zaventem, zoutleeuw])"
   ]
  },
  {
   "cell_type": "code",
   "execution_count": 1048,
   "metadata": {},
   "outputs": [],
   "source": [
    "new = new.merge(alles, on=['gemeente', 'misdrijf', 'jaar'], how='left')"
   ]
  },
  {
   "cell_type": "code",
   "execution_count": 1049,
   "metadata": {},
   "outputs": [],
   "source": [
    "new = new.fillna(0)"
   ]
  },
  {
   "cell_type": "code",
   "execution_count": 1050,
   "metadata": {},
   "outputs": [],
   "source": [
    "new.aantal = new.aantal.astype(int)"
   ]
  },
  {
   "cell_type": "code",
   "execution_count": 1051,
   "metadata": {},
   "outputs": [],
   "source": [
    "new.to_csv('misdrijven.csv', sep=';', index=False)"
   ]
  },
  {
   "cell_type": "code",
   "execution_count": 1052,
   "metadata": {},
   "outputs": [],
   "source": [
    "subklasse = pd.read_csv('asielcentra_sub.csv', sep=';')"
   ]
  },
  {
   "cell_type": "code",
   "execution_count": 1053,
   "metadata": {},
   "outputs": [
    {
     "data": {
      "text/html": "<div>\n<style scoped>\n    .dataframe tbody tr th:only-of-type {\n        vertical-align: middle;\n    }\n\n    .dataframe tbody tr th {\n        vertical-align: top;\n    }\n\n    .dataframe thead th {\n        text-align: right;\n    }\n</style>\n<table border=\"1\" class=\"dataframe\">\n  <thead>\n    <tr style=\"text-align: right;\">\n      <th></th>\n      <th>gemeente</th>\n      <th>jaar</th>\n      <th>misdrijf</th>\n      <th>subklasse</th>\n    </tr>\n  </thead>\n  <tbody>\n    <tr>\n      <th>0</th>\n      <td>Arendonk</td>\n      <td>2000</td>\n      <td>Beschadigen van Eigendom</td>\n      <td>Vandalisme</td>\n    </tr>\n    <tr>\n      <th>1</th>\n      <td>Arendonk</td>\n      <td>2000</td>\n      <td>Beschadigen van Eigendom</td>\n      <td>Vernieling, onbruikbaarmaking, beschadiging</td>\n    </tr>\n    <tr>\n      <th>2</th>\n      <td>Arendonk</td>\n      <td>2000</td>\n      <td>Beschadigen van Eigendom</td>\n      <td>Onopzettelijke brandstichting</td>\n    </tr>\n    <tr>\n      <th>3</th>\n      <td>Arendonk</td>\n      <td>2000</td>\n      <td>Beschadigen van Eigendom</td>\n      <td>Opzettelijke brandstichting</td>\n    </tr>\n    <tr>\n      <th>4</th>\n      <td>Arendonk</td>\n      <td>2000</td>\n      <td>Beschadigen van Eigendom</td>\n      <td>Opzettelijke vernieling door ontploffing</td>\n    </tr>\n  </tbody>\n</table>\n</div>",
      "text/plain": "   gemeente  jaar                  misdrijf  \\\n0  Arendonk  2000  Beschadigen van Eigendom   \n1  Arendonk  2000  Beschadigen van Eigendom   \n2  Arendonk  2000  Beschadigen van Eigendom   \n3  Arendonk  2000  Beschadigen van Eigendom   \n4  Arendonk  2000  Beschadigen van Eigendom   \n\n                                     subklasse  \n0                                   Vandalisme  \n1  Vernieling, onbruikbaarmaking, beschadiging  \n2                Onopzettelijke brandstichting  \n3                  Opzettelijke brandstichting  \n4     Opzettelijke vernieling door ontploffing  "
     },
     "execution_count": 1053,
     "metadata": {},
     "output_type": "execute_result"
    }
   ],
   "source": [
    "subklasse.head()"
   ]
  },
  {
   "cell_type": "code",
   "execution_count": 1054,
   "metadata": {},
   "outputs": [],
   "source": [
    "subklasse = subklasse.merge(alles, left_on=['gemeente', 'jaar', 'subklasse'], right_on=['gemeente', 'jaar', 'misdrijf'], how='left').drop(columns=['misdrijf_y'])"
   ]
  },
  {
   "cell_type": "code",
   "execution_count": 1055,
   "metadata": {},
   "outputs": [],
   "source": [
    "subklasse.rename(columns={'misdrijf_x':'misdrijf'}, inplace=True)"
   ]
  },
  {
   "cell_type": "code",
   "execution_count": 1056,
   "metadata": {},
   "outputs": [],
   "source": [
    "subklasse.aantal = subklasse.aantal.fillna(0)"
   ]
  },
  {
   "cell_type": "code",
   "execution_count": 1057,
   "metadata": {},
   "outputs": [],
   "source": [
    "subklasse.aantal = subklasse.aantal.astype(int)"
   ]
  },
  {
   "cell_type": "code",
   "execution_count": 1058,
   "metadata": {},
   "outputs": [],
   "source": [
    "subklasse.to_csv('misdrijven_sub.csv', sep=';', index=False)"
   ]
  },
  {
   "cell_type": "code",
   "execution_count": 1059,
   "metadata": {},
   "outputs": [],
   "source": [
    "figuren = pd.read_csv('asielcentra_fig.csv', sep=';')"
   ]
  },
  {
   "cell_type": "code",
   "execution_count": 1060,
   "metadata": {},
   "outputs": [
    {
     "data": {
      "text/html": "<div>\n<style scoped>\n    .dataframe tbody tr th:only-of-type {\n        vertical-align: middle;\n    }\n\n    .dataframe tbody tr th {\n        vertical-align: top;\n    }\n\n    .dataframe thead th {\n        text-align: right;\n    }\n</style>\n<table border=\"1\" class=\"dataframe\">\n  <thead>\n    <tr style=\"text-align: right;\">\n      <th></th>\n      <th>gemeente</th>\n      <th>jaar</th>\n      <th>type</th>\n      <th>figuur</th>\n    </tr>\n  </thead>\n  <tbody>\n    <tr>\n      <th>0</th>\n      <td>Arendonk</td>\n      <td>2000</td>\n      <td>Diefstal vervoermmiddel</td>\n      <td>Autodiefstal</td>\n    </tr>\n    <tr>\n      <th>1</th>\n      <td>Arendonk</td>\n      <td>2000</td>\n      <td>Diefstal vervoermmiddel</td>\n      <td>Motodiefstal</td>\n    </tr>\n    <tr>\n      <th>2</th>\n      <td>Arendonk</td>\n      <td>2000</td>\n      <td>Diefstal vervoermmiddel</td>\n      <td>Carjacking</td>\n    </tr>\n    <tr>\n      <th>3</th>\n      <td>Arendonk</td>\n      <td>2000</td>\n      <td>Diefstal vervoermmiddel</td>\n      <td>Homejacking</td>\n    </tr>\n    <tr>\n      <th>4</th>\n      <td>Arendonk</td>\n      <td>2000</td>\n      <td>Diefstal vervoermmiddel</td>\n      <td>Garagediefstal</td>\n    </tr>\n  </tbody>\n</table>\n</div>",
      "text/plain": "   gemeente  jaar                     type          figuur\n0  Arendonk  2000  Diefstal vervoermmiddel    Autodiefstal\n1  Arendonk  2000  Diefstal vervoermmiddel    Motodiefstal\n2  Arendonk  2000  Diefstal vervoermmiddel      Carjacking\n3  Arendonk  2000  Diefstal vervoermmiddel     Homejacking\n4  Arendonk  2000  Diefstal vervoermmiddel  Garagediefstal"
     },
     "execution_count": 1060,
     "metadata": {},
     "output_type": "execute_result"
    }
   ],
   "source": [
    "figuren.head()"
   ]
  },
  {
   "cell_type": "code",
   "execution_count": 1061,
   "metadata": {},
   "outputs": [],
   "source": [
    "figuren = figuren.merge(alles, left_on=['gemeente', 'jaar', 'figuur'], right_on=['gemeente','jaar', 'misdrijf'], how='left').drop(columns=['misdrijf'])"
   ]
  },
  {
   "cell_type": "code",
   "execution_count": 1062,
   "metadata": {},
   "outputs": [],
   "source": [
    "figuren.aantal = figuren.aantal.fillna(0).astype(int)"
   ]
  },
  {
   "cell_type": "code",
   "execution_count": 1063,
   "metadata": {},
   "outputs": [],
   "source": [
    "figuren.to_csv('misdrijven_fig.csv', sep=';', index=False)"
   ]
  },
  {
   "cell_type": "code",
   "execution_count": null,
   "metadata": {},
   "outputs": [],
   "source": []
  }
 ]
}