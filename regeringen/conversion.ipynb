{
 "nbformat": 4,
 "nbformat_minor": 2,
 "metadata": {
  "language_info": {
   "name": "python",
   "codemirror_mode": {
    "name": "ipython",
    "version": 3
   }
  },
  "orig_nbformat": 2,
  "file_extension": ".py",
  "mimetype": "text/x-python",
  "name": "python",
  "npconvert_exporter": "python",
  "pygments_lexer": "ipython3",
  "version": 3
 },
 "cells": [
  {
   "cell_type": "code",
   "execution_count": 33,
   "metadata": {},
   "outputs": [],
   "source": [
    "import pandas as pd \n",
    "gov = pd.read_stata('governments.dta')"
   ]
  },
  {
   "cell_type": "code",
   "execution_count": 34,
   "metadata": {},
   "outputs": [
    {
     "data": {
      "text/html": "<div>\n<style scoped>\n    .dataframe tbody tr th:only-of-type {\n        vertical-align: middle;\n    }\n\n    .dataframe tbody tr th {\n        vertical-align: top;\n    }\n\n    .dataframe thead th {\n        text-align: right;\n    }\n</style>\n<table border=\"1\" class=\"dataframe\">\n  <thead>\n    <tr style=\"text-align: right;\">\n      <th></th>\n      <th>country</th>\n      <th>ccode</th>\n      <th>cow</th>\n      <th>imf</th>\n      <th>wdi</th>\n      <th>marpor</th>\n      <th>mapp</th>\n      <th>ms2000</th>\n      <th>smg2003</th>\n      <th>errda</th>\n      <th>...</th>\n      <th>totalseat</th>\n      <th>portfolio</th>\n      <th>cpg_wkb2000</th>\n      <th>cpg_wkb2011</th>\n      <th>cpg_sw2014</th>\n      <th>prime</th>\n      <th>primeparty</th>\n      <th>mpp_pm</th>\n      <th>py1seat_upper</th>\n      <th>totalseat_upper</th>\n    </tr>\n  </thead>\n  <tbody>\n    <tr>\n      <th>0</th>\n      <td>Australia</td>\n      <td>900</td>\n      <td>900</td>\n      <td>193</td>\n      <td>AUS</td>\n      <td>63.0</td>\n      <td>0</td>\n      <td>NaN</td>\n      <td>NaN</td>\n      <td>NaN</td>\n      <td>...</td>\n      <td>74.0</td>\n      <td>NaN</td>\n      <td>4.0</td>\n      <td>4.0</td>\n      <td>4.0</td>\n      <td>Chifley</td>\n      <td>ALP</td>\n      <td>63320.0</td>\n      <td>NaN</td>\n      <td>NaN</td>\n    </tr>\n    <tr>\n      <th>1</th>\n      <td>Australia</td>\n      <td>900</td>\n      <td>900</td>\n      <td>193</td>\n      <td>AUS</td>\n      <td>63.0</td>\n      <td>1</td>\n      <td>NaN</td>\n      <td>NaN</td>\n      <td>NaN</td>\n      <td>...</td>\n      <td>74.0</td>\n      <td>NaN</td>\n      <td>4.0</td>\n      <td>4.0</td>\n      <td>4.0</td>\n      <td>Chifley</td>\n      <td>ALP</td>\n      <td>63320.0</td>\n      <td>NaN</td>\n      <td>NaN</td>\n    </tr>\n    <tr>\n      <th>2</th>\n      <td>Australia</td>\n      <td>900</td>\n      <td>900</td>\n      <td>193</td>\n      <td>AUS</td>\n      <td>63.0</td>\n      <td>1</td>\n      <td>NaN</td>\n      <td>NaN</td>\n      <td>NaN</td>\n      <td>...</td>\n      <td>122.0</td>\n      <td>NaN</td>\n      <td>2.0</td>\n      <td>2.0</td>\n      <td>2.0</td>\n      <td>Menzies</td>\n      <td>LPA</td>\n      <td>63620.0</td>\n      <td>NaN</td>\n      <td>NaN</td>\n    </tr>\n    <tr>\n      <th>3</th>\n      <td>Australia</td>\n      <td>900</td>\n      <td>900</td>\n      <td>193</td>\n      <td>AUS</td>\n      <td>63.0</td>\n      <td>1</td>\n      <td>NaN</td>\n      <td>NaN</td>\n      <td>NaN</td>\n      <td>...</td>\n      <td>121.0</td>\n      <td>NaN</td>\n      <td>2.0</td>\n      <td>2.0</td>\n      <td>2.0</td>\n      <td>Menzies</td>\n      <td>LPA</td>\n      <td>63620.0</td>\n      <td>NaN</td>\n      <td>NaN</td>\n    </tr>\n    <tr>\n      <th>4</th>\n      <td>Australia</td>\n      <td>900</td>\n      <td>900</td>\n      <td>193</td>\n      <td>AUS</td>\n      <td>63.0</td>\n      <td>1</td>\n      <td>NaN</td>\n      <td>NaN</td>\n      <td>NaN</td>\n      <td>...</td>\n      <td>121.0</td>\n      <td>NaN</td>\n      <td>2.0</td>\n      <td>2.0</td>\n      <td>2.0</td>\n      <td>Menzies</td>\n      <td>LPA</td>\n      <td>63620.0</td>\n      <td>NaN</td>\n      <td>NaN</td>\n    </tr>\n  </tbody>\n</table>\n<p>5 rows × 92 columns</p>\n</div>",
      "text/plain": "     country  ccode  cow  imf  wdi  marpor  mapp  ms2000  smg2003  errda  ...  \\\n0  Australia    900  900  193  AUS    63.0     0     NaN      NaN    NaN  ...   \n1  Australia    900  900  193  AUS    63.0     1     NaN      NaN    NaN  ...   \n2  Australia    900  900  193  AUS    63.0     1     NaN      NaN    NaN  ...   \n3  Australia    900  900  193  AUS    63.0     1     NaN      NaN    NaN  ...   \n4  Australia    900  900  193  AUS    63.0     1     NaN      NaN    NaN  ...   \n\n   totalseat  portfolio  cpg_wkb2000  cpg_wkb2011  cpg_sw2014    prime  \\\n0       74.0        NaN          4.0          4.0         4.0  Chifley   \n1       74.0        NaN          4.0          4.0         4.0  Chifley   \n2      122.0        NaN          2.0          2.0         2.0  Menzies   \n3      121.0        NaN          2.0          2.0         2.0  Menzies   \n4      121.0        NaN          2.0          2.0         2.0  Menzies   \n\n   primeparty   mpp_pm  py1seat_upper  totalseat_upper  \n0         ALP  63320.0            NaN              NaN  \n1         ALP  63320.0            NaN              NaN  \n2         LPA  63620.0            NaN              NaN  \n3         LPA  63620.0            NaN              NaN  \n4         LPA  63620.0            NaN              NaN  \n\n[5 rows x 92 columns]"
     },
     "execution_count": 34,
     "metadata": {},
     "output_type": "execute_result"
    }
   ],
   "source": [
    "gov.head()"
   ]
  },
  {
   "cell_type": "code",
   "execution_count": 36,
   "metadata": {},
   "outputs": [
    {
     "name": "stdout",
     "output_type": "stream",
     "text": "<class 'pandas.core.frame.DataFrame'>\nInt64Index: 1342 entries, 0 to 1341\nData columns (total 92 columns):\ncountry             1342 non-null object\nccode               1342 non-null int16\ncow                 1342 non-null int16\nimf                 1342 non-null int16\nwdi                 1342 non-null object\nmarpor              1259 non-null float64\nmapp                1342 non-null int8\nms2000              348 non-null float64\nsmg2003             416 non-null float64\nerrda               625 non-null float64\nmfh2004             83 non-null float64\nparlgov             997 non-null float64\ngovtseq             1342 non-null int8\nnew                 1342 non-null int8\ninvestiture         1282 non-null float64\nstartyear           1341 non-null float64\nstartmonth          1341 non-null float64\nstartday            1341 non-null float64\npeyear              1339 non-null float64\npemonth             1331 non-null float64\npeday               1331 non-null float64\nneyear              1279 non-null float64\nnemonth             1271 non-null float64\nneday               1271 non-null float64\nduration            1293 non-null float32\nciep                1342 non-null float32\nciep_left           1275 non-null float32\npmpd                1228 non-null float32\nrft_wkb2000         857 non-null float64\nrft_wkb2011         910 non-null float64\nrft_sw2014          1175 non-null float64\nelection_follows    1294 non-null float64\ntog1                1328 non-null float32\ntog2                1331 non-null float32\ngpshare             1301 non-null float32\ngspshare            1304 non-null float32\ngparties            1342 non-null float32\ngsparties           1342 non-null float32\nsparties            1342 non-null float32\nreshuffles          453 non-null float64\nreturn              1293 non-null float64\nreturn_elect        636 non-null float64\npy1name             1342 non-null object\npy1seat             1304 non-null float64\npy1cab_perc         477 non-null float64\nmpppy1              1159 non-null float64\npy2name             1342 non-null object\npy2seat             860 non-null float64\npy2cab_perc         373 non-null float64\nmpppy2              755 non-null float64\npy3name             1342 non-null object\npy3seat             587 non-null float64\npy3cab_perc         277 non-null float64\nmpppy3              484 non-null float64\npy4name             1342 non-null object\npy4seat             369 non-null float64\npy4cab_perc         177 non-null float64\nmpppy4              303 non-null float64\npy5name             1342 non-null object\npy5seat             139 non-null float64\npy5cab_perc         81 non-null float64\nmpppy5              104 non-null float64\npy6name             1342 non-null object\npy6seat             49 non-null float64\npy6cab_perc         41 non-null float64\nmpppy6              30 non-null float64\npy7name             1342 non-null object\npy7seat             32 non-null float64\npy7cab_perc         29 non-null float64\nmpppy7              16 non-null float64\npy8name             1342 non-null object\npy8seat             19 non-null float64\npy8cab_perc         18 non-null float64\nmpppy8              9 non-null float64\npy9name             1342 non-null object\npy9seat             11 non-null float64\npy9cab_perc         10 non-null float64\nmpppy9              10 non-null float64\npy10name            1342 non-null object\npy10seat            3 non-null float64\npy10cab_perc        3 non-null float64\nmpppy10             2 non-null float64\ntotalseat           1339 non-null float64\nportfolio           452 non-null float64\ncpg_wkb2000         861 non-null float64\ncpg_wkb2011         1002 non-null float64\ncpg_sw2014          1263 non-null float64\nprime               1342 non-null object\nprimeparty          1342 non-null object\nmpp_pm              1141 non-null float64\npy1seat_upper       36 non-null float64\ntotalseat_upper     36 non-null float64\ndtypes: float32(11), float64(61), int16(3), int8(3), object(14)\nmemory usage: 866.3+ KB\n"
    }
   ],
   "source": [
    "gov.info()"
   ]
  },
  {
   "cell_type": "code",
   "execution_count": 63,
   "metadata": {},
   "outputs": [],
   "source": [
    "minority = gov[(gov.tog2 == 4.0) | (gov.tog2 == 5.0)]"
   ]
  },
  {
   "cell_type": "code",
   "execution_count": 64,
   "metadata": {},
   "outputs": [
    {
     "data": {
      "text/plain": "<matplotlib.axes._subplots.AxesSubplot at 0x1286630f0>"
     },
     "execution_count": 64,
     "metadata": {},
     "output_type": "execute_result"
    },
    {
     "data": {
      "image/png": "[encoded data removed]",
      "image/svg+xml": "<?xml version=\"1.0\" encoding=\"utf-8\" standalone=\"no\"?>\n<!DOCTYPE svg PUBLIC \"-//W3C//DTD SVG 1.1//EN\"\n  \"http://www.w3.org/Graphics/SVG/1.1/DTD/svg11.dtd\">\n<!-- Created with matplotlib (https://matplotlib.org/) -->\n<svg height=\"248.518125pt\" version=\"1.1\" viewBox=\"0 0 368.925 248.518125\" width=\"368.925pt\" xmlns=\"http://www.w3.org/2000/svg\" xmlns:xlink=\"http://www.w3.org/1999/xlink\">\n <defs>\n  <style type=\"text/css\">\n*{stroke-linecap:butt;stroke-linejoin:round;white-space:pre;}\n  </style>\n </defs>\n <g id=\"figure_1\">\n  <g id=\"patch_1\">\n   <path d=\"M -0 248.518125 \nL 368.925 248.518125 \nL 368.925 0 \nL -0 0 \nz\n\"/>\n  </g>\n  <g id=\"axes_1\">\n   <g id=\"patch_2\">\n    <path d=\"M 26.925 224.64 \nL 361.725 224.64 \nL 361.725 7.2 \nL 26.925 7.2 \nz\n\"/>\n   </g>\n   <g id=\"patch_3\">\n    <path clip-path=\"url(#p6c8b601cf6)\" d=\"M 42.143182 224.64 \nL 57.361364 224.64 \nL 57.361364 17.554286 \nL 42.143182 17.554286 \nz\n\" style=\"fill:#8dd3c7;\"/>\n   </g>\n   <g id=\"patch_4\">\n    <path clip-path=\"url(#p6c8b601cf6)\" d=\"M 57.361363 224.64 \nL 72.579545 224.64 \nL 72.579545 93.849023 \nL 57.361363 93.849023 \nz\n\" style=\"fill:#8dd3c7;\"/>\n   </g>\n   <g id=\"patch_5\">\n    <path clip-path=\"url(#p6c8b601cf6)\" d=\"M 72.579545 224.64 \nL 87.797728 224.64 \nL 87.797728 102.023459 \nL 72.579545 102.023459 \nz\n\" style=\"fill:#8dd3c7;\"/>\n   </g>\n   <g id=\"patch_6\">\n    <path clip-path=\"url(#p6c8b601cf6)\" d=\"M 87.797728 224.64 \nL 103.01591 224.64 \nL 103.01591 148.345263 \nL 87.797728 148.345263 \nz\n\" style=\"fill:#8dd3c7;\"/>\n   </g>\n   <g id=\"patch_7\">\n    <path clip-path=\"url(#p6c8b601cf6)\" d=\"M 103.01591 224.64 \nL 118.234093 224.64 \nL 118.234093 96.573835 \nL 103.01591 96.573835 \nz\n\" style=\"fill:#8dd3c7;\"/>\n   </g>\n   <g id=\"patch_8\">\n    <path clip-path=\"url(#p6c8b601cf6)\" d=\"M 118.234093 224.64 \nL 133.452275 224.64 \nL 133.452275 121.097143 \nL 118.234093 121.097143 \nz\n\" style=\"fill:#8dd3c7;\"/>\n   </g>\n   <g id=\"patch_9\">\n    <path clip-path=\"url(#p6c8b601cf6)\" d=\"M 133.452275 224.64 \nL 148.670458 224.64 \nL 148.670458 219.190376 \nL 133.452275 219.190376 \nz\n\" style=\"fill:#8dd3c7;\"/>\n   </g>\n   <g id=\"patch_10\">\n    <path clip-path=\"url(#p6c8b601cf6)\" d=\"M 148.670458 224.64 \nL 163.88864 224.64 \nL 163.88864 221.915188 \nL 148.670458 221.915188 \nz\n\" style=\"fill:#8dd3c7;\"/>\n   </g>\n   <g id=\"patch_11\">\n    <path clip-path=\"url(#p6c8b601cf6)\" d=\"M 163.88864 224.64 \nL 179.106822 224.64 \nL 179.106822 219.190376 \nL 163.88864 219.190376 \nz\n\" style=\"fill:#8dd3c7;\"/>\n   </g>\n   <g id=\"patch_12\">\n    <path clip-path=\"url(#p6c8b601cf6)\" d=\"M 179.106822 224.64 \nL 194.325005 224.64 \nL 194.325005 224.64 \nL 179.106822 224.64 \nz\n\" style=\"fill:#8dd3c7;\"/>\n   </g>\n   <g id=\"patch_13\">\n    <path clip-path=\"url(#p6c8b601cf6)\" d=\"M 194.325005 224.64 \nL 209.543187 224.64 \nL 209.543187 224.64 \nL 194.325005 224.64 \nz\n\" style=\"fill:#8dd3c7;\"/>\n   </g>\n   <g id=\"patch_14\">\n    <path clip-path=\"url(#p6c8b601cf6)\" d=\"M 209.543198 224.64 \nL 224.76137 224.64 \nL 224.76137 224.64 \nL 209.543198 224.64 \nz\n\" style=\"fill:#8dd3c7;\"/>\n   </g>\n   <g id=\"patch_15\">\n    <path clip-path=\"url(#p6c8b601cf6)\" d=\"M 224.761347 224.64 \nL 239.979541 224.64 \nL 239.979541 224.64 \nL 224.761347 224.64 \nz\n\" style=\"fill:#8dd3c7;\"/>\n   </g>\n   <g id=\"patch_16\">\n    <path clip-path=\"url(#p6c8b601cf6)\" d=\"M 239.979541 224.64 \nL 255.197724 224.64 \nL 255.197724 224.64 \nL 239.979541 224.64 \nz\n\" style=\"fill:#8dd3c7;\"/>\n   </g>\n   <g id=\"patch_17\">\n    <path clip-path=\"url(#p6c8b601cf6)\" d=\"M 255.197701 224.64 \nL 270.415884 224.64 \nL 270.415884 224.64 \nL 255.197701 224.64 \nz\n\" style=\"fill:#8dd3c7;\"/>\n   </g>\n   <g id=\"patch_18\">\n    <path clip-path=\"url(#p6c8b601cf6)\" d=\"M 270.415906 224.64 \nL 285.634088 224.64 \nL 285.634088 224.64 \nL 270.415906 224.64 \nz\n\" style=\"fill:#8dd3c7;\"/>\n   </g>\n   <g id=\"patch_19\">\n    <path clip-path=\"url(#p6c8b601cf6)\" d=\"M 285.634066 224.64 \nL 300.852249 224.64 \nL 300.852249 224.64 \nL 285.634066 224.64 \nz\n\" style=\"fill:#8dd3c7;\"/>\n   </g>\n   <g id=\"patch_20\">\n    <path clip-path=\"url(#p6c8b601cf6)\" d=\"M 300.852271 224.64 \nL 316.070453 224.64 \nL 316.070453 224.64 \nL 300.852271 224.64 \nz\n\" style=\"fill:#8dd3c7;\"/>\n   </g>\n   <g id=\"patch_21\">\n    <path clip-path=\"url(#p6c8b601cf6)\" d=\"M 316.070431 224.64 \nL 331.288613 224.64 \nL 331.288613 224.64 \nL 316.070431 224.64 \nz\n\" style=\"fill:#8dd3c7;\"/>\n   </g>\n   <g id=\"patch_22\">\n    <path clip-path=\"url(#p6c8b601cf6)\" d=\"M 331.288636 224.64 \nL 346.506818 224.64 \nL 346.506818 221.915188 \nL 331.288636 221.915188 \nz\n\" style=\"fill:#8dd3c7;\"/>\n   </g>\n   <g id=\"matplotlib.axis_1\">\n    <g id=\"xtick_1\">\n     <g id=\"line2d_1\">\n      <path clip-path=\"url(#p6c8b601cf6)\" d=\"M 41.7469 224.64 \nL 41.7469 7.2 \n\" style=\"fill:none;stroke:#ffffff;stroke-linecap:square;stroke-width:0.8;\"/>\n     </g>\n     <g id=\"line2d_2\">\n      <defs>\n       <path d=\"M 0 0 \nL 0 3.5 \n\" id=\"mb234d8172c\" style=\"stroke:#ffffff;stroke-width:0.8;\"/>\n      </defs>\n      <g>\n       <use style=\"fill:#ffffff;stroke:#ffffff;stroke-width:0.8;\" x=\"41.7469\" xlink:href=\"#mb234d8172c\" y=\"224.64\"/>\n      </g>\n     </g>\n     <g id=\"text_1\">\n      <!-- 0 -->\n      <defs>\n       <path d=\"M 31.78125 66.40625 \nQ 24.171875 66.40625 20.328125 58.90625 \nQ 16.5 51.421875 16.5 36.375 \nQ 16.5 21.390625 20.328125 13.890625 \nQ 24.171875 6.390625 31.78125 6.390625 \nQ 39.453125 6.390625 43.28125 13.890625 \nQ 47.125 21.390625 47.125 36.375 \nQ 47.125 51.421875 43.28125 58.90625 \nQ 39.453125 66.40625 31.78125 66.40625 \nz\nM 31.78125 74.21875 \nQ 44.046875 74.21875 50.515625 64.515625 \nQ 56.984375 54.828125 56.984375 36.375 \nQ 56.984375 17.96875 50.515625 8.265625 \nQ 44.046875 -1.421875 31.78125 -1.421875 \nQ 19.53125 -1.421875 13.0625 8.265625 \nQ 6.59375 17.96875 6.59375 36.375 \nQ 6.59375 54.828125 13.0625 64.515625 \nQ 19.53125 74.21875 31.78125 74.21875 \nz\n\" id=\"DejaVuSans-48\"/>\n      </defs>\n      <g style=\"fill:#ffffff;\" transform=\"translate(38.56565 239.238437)scale(0.1 -0.1)\">\n       <use xlink:href=\"#DejaVuSans-48\"/>\n      </g>\n     </g>\n    </g>\n    <g id=\"xtick_2\">\n     <g id=\"line2d_3\">\n      <path clip-path=\"url(#p6c8b601cf6)\" d=\"M 114.889282 224.64 \nL 114.889282 7.2 \n\" style=\"fill:none;stroke:#ffffff;stroke-linecap:square;stroke-width:0.8;\"/>\n     </g>\n     <g id=\"line2d_4\">\n      <g>\n       <use style=\"fill:#ffffff;stroke:#ffffff;stroke-width:0.8;\" x=\"114.889282\" xlink:href=\"#mb234d8172c\" y=\"224.64\"/>\n      </g>\n     </g>\n     <g id=\"text_2\">\n      <!-- 100 -->\n      <defs>\n       <path d=\"M 12.40625 8.296875 \nL 28.515625 8.296875 \nL 28.515625 63.921875 \nL 10.984375 60.40625 \nL 10.984375 69.390625 \nL 28.421875 72.90625 \nL 38.28125 72.90625 \nL 38.28125 8.296875 \nL 54.390625 8.296875 \nL 54.390625 0 \nL 12.40625 0 \nz\n\" id=\"DejaVuSans-49\"/>\n      </defs>\n      <g style=\"fill:#ffffff;\" transform=\"translate(105.345532 239.238437)scale(0.1 -0.1)\">\n       <use xlink:href=\"#DejaVuSans-49\"/>\n       <use x=\"63.623047\" xlink:href=\"#DejaVuSans-48\"/>\n       <use x=\"127.246094\" xlink:href=\"#DejaVuSans-48\"/>\n      </g>\n     </g>\n    </g>\n    <g id=\"xtick_3\">\n     <g id=\"line2d_5\">\n      <path clip-path=\"url(#p6c8b601cf6)\" d=\"M 188.031664 224.64 \nL 188.031664 7.2 \n\" style=\"fill:none;stroke:#ffffff;stroke-linecap:square;stroke-width:0.8;\"/>\n     </g>\n     <g id=\"line2d_6\">\n      <g>\n       <use style=\"fill:#ffffff;stroke:#ffffff;stroke-width:0.8;\" x=\"188.031664\" xlink:href=\"#mb234d8172c\" y=\"224.64\"/>\n      </g>\n     </g>\n     <g id=\"text_3\">\n      <!-- 200 -->\n      <defs>\n       <path d=\"M 19.1875 8.296875 \nL 53.609375 8.296875 \nL 53.609375 0 \nL 7.328125 0 \nL 7.328125 8.296875 \nQ 12.9375 14.109375 22.625 23.890625 \nQ 32.328125 33.6875 34.8125 36.53125 \nQ 39.546875 41.84375 41.421875 45.53125 \nQ 43.3125 49.21875 43.3125 52.78125 \nQ 43.3125 58.59375 39.234375 62.25 \nQ 35.15625 65.921875 28.609375 65.921875 \nQ 23.96875 65.921875 18.8125 64.3125 \nQ 13.671875 62.703125 7.8125 59.421875 \nL 7.8125 69.390625 \nQ 13.765625 71.78125 18.9375 73 \nQ 24.125 74.21875 28.421875 74.21875 \nQ 39.75 74.21875 46.484375 68.546875 \nQ 53.21875 62.890625 53.21875 53.421875 \nQ 53.21875 48.921875 51.53125 44.890625 \nQ 49.859375 40.875 45.40625 35.40625 \nQ 44.1875 33.984375 37.640625 27.21875 \nQ 31.109375 20.453125 19.1875 8.296875 \nz\n\" id=\"DejaVuSans-50\"/>\n      </defs>\n      <g style=\"fill:#ffffff;\" transform=\"translate(178.487914 239.238437)scale(0.1 -0.1)\">\n       <use xlink:href=\"#DejaVuSans-50\"/>\n       <use x=\"63.623047\" xlink:href=\"#DejaVuSans-48\"/>\n       <use x=\"127.246094\" xlink:href=\"#DejaVuSans-48\"/>\n      </g>\n     </g>\n    </g>\n    <g id=\"xtick_4\">\n     <g id=\"line2d_7\">\n      <path clip-path=\"url(#p6c8b601cf6)\" d=\"M 261.174046 224.64 \nL 261.174046 7.2 \n\" style=\"fill:none;stroke:#ffffff;stroke-linecap:square;stroke-width:0.8;\"/>\n     </g>\n     <g id=\"line2d_8\">\n      <g>\n       <use style=\"fill:#ffffff;stroke:#ffffff;stroke-width:0.8;\" x=\"261.174046\" xlink:href=\"#mb234d8172c\" y=\"224.64\"/>\n      </g>\n     </g>\n     <g id=\"text_4\">\n      <!-- 300 -->\n      <defs>\n       <path d=\"M 40.578125 39.3125 \nQ 47.65625 37.796875 51.625 33 \nQ 55.609375 28.21875 55.609375 21.1875 \nQ 55.609375 10.40625 48.1875 4.484375 \nQ 40.765625 -1.421875 27.09375 -1.421875 \nQ 22.515625 -1.421875 17.65625 -0.515625 \nQ 12.796875 0.390625 7.625 2.203125 \nL 7.625 11.71875 \nQ 11.71875 9.328125 16.59375 8.109375 \nQ 21.484375 6.890625 26.8125 6.890625 \nQ 36.078125 6.890625 40.9375 10.546875 \nQ 45.796875 14.203125 45.796875 21.1875 \nQ 45.796875 27.640625 41.28125 31.265625 \nQ 36.765625 34.90625 28.71875 34.90625 \nL 20.21875 34.90625 \nL 20.21875 43.015625 \nL 29.109375 43.015625 \nQ 36.375 43.015625 40.234375 45.921875 \nQ 44.09375 48.828125 44.09375 54.296875 \nQ 44.09375 59.90625 40.109375 62.90625 \nQ 36.140625 65.921875 28.71875 65.921875 \nQ 24.65625 65.921875 20.015625 65.03125 \nQ 15.375 64.15625 9.8125 62.3125 \nL 9.8125 71.09375 \nQ 15.4375 72.65625 20.34375 73.4375 \nQ 25.25 74.21875 29.59375 74.21875 \nQ 40.828125 74.21875 47.359375 69.109375 \nQ 53.90625 64.015625 53.90625 55.328125 \nQ 53.90625 49.265625 50.4375 45.09375 \nQ 46.96875 40.921875 40.578125 39.3125 \nz\n\" id=\"DejaVuSans-51\"/>\n      </defs>\n      <g style=\"fill:#ffffff;\" transform=\"translate(251.630296 239.238437)scale(0.1 -0.1)\">\n       <use xlink:href=\"#DejaVuSans-51\"/>\n       <use x=\"63.623047\" xlink:href=\"#DejaVuSans-48\"/>\n       <use x=\"127.246094\" xlink:href=\"#DejaVuSans-48\"/>\n      </g>\n     </g>\n    </g>\n    <g id=\"xtick_5\">\n     <g id=\"line2d_9\">\n      <path clip-path=\"url(#p6c8b601cf6)\" d=\"M 334.316429 224.64 \nL 334.316429 7.2 \n\" style=\"fill:none;stroke:#ffffff;stroke-linecap:square;stroke-width:0.8;\"/>\n     </g>\n     <g id=\"line2d_10\">\n      <g>\n       <use style=\"fill:#ffffff;stroke:#ffffff;stroke-width:0.8;\" x=\"334.316429\" xlink:href=\"#mb234d8172c\" y=\"224.64\"/>\n      </g>\n     </g>\n     <g id=\"text_5\">\n      <!-- 400 -->\n      <defs>\n       <path d=\"M 37.796875 64.3125 \nL 12.890625 25.390625 \nL 37.796875 25.390625 \nz\nM 35.203125 72.90625 \nL 47.609375 72.90625 \nL 47.609375 25.390625 \nL 58.015625 25.390625 \nL 58.015625 17.1875 \nL 47.609375 17.1875 \nL 47.609375 0 \nL 37.796875 0 \nL 37.796875 17.1875 \nL 4.890625 17.1875 \nL 4.890625 26.703125 \nz\n\" id=\"DejaVuSans-52\"/>\n      </defs>\n      <g style=\"fill:#ffffff;\" transform=\"translate(324.772679 239.238437)scale(0.1 -0.1)\">\n       <use xlink:href=\"#DejaVuSans-52\"/>\n       <use x=\"63.623047\" xlink:href=\"#DejaVuSans-48\"/>\n       <use x=\"127.246094\" xlink:href=\"#DejaVuSans-48\"/>\n      </g>\n     </g>\n    </g>\n   </g>\n   <g id=\"matplotlib.axis_2\">\n    <g id=\"ytick_1\">\n     <g id=\"line2d_11\">\n      <path clip-path=\"url(#p6c8b601cf6)\" d=\"M 26.925 224.64 \nL 361.725 224.64 \n\" style=\"fill:none;stroke:#ffffff;stroke-linecap:square;stroke-width:0.8;\"/>\n     </g>\n     <g id=\"line2d_12\">\n      <defs>\n       <path d=\"M 0 0 \nL -3.5 0 \n\" id=\"m642af5c11e\" style=\"stroke:#ffffff;stroke-width:0.8;\"/>\n      </defs>\n      <g>\n       <use style=\"fill:#ffffff;stroke:#ffffff;stroke-width:0.8;\" x=\"26.925\" xlink:href=\"#m642af5c11e\" y=\"224.64\"/>\n      </g>\n     </g>\n     <g id=\"text_6\">\n      <!-- 0 -->\n      <g style=\"fill:#ffffff;\" transform=\"translate(13.5625 228.439219)scale(0.1 -0.1)\">\n       <use xlink:href=\"#DejaVuSans-48\"/>\n      </g>\n     </g>\n    </g>\n    <g id=\"ytick_2\">\n     <g id=\"line2d_13\">\n      <path clip-path=\"url(#p6c8b601cf6)\" d=\"M 26.925 197.39188 \nL 361.725 197.39188 \n\" style=\"fill:none;stroke:#ffffff;stroke-linecap:square;stroke-width:0.8;\"/>\n     </g>\n     <g id=\"line2d_14\">\n      <g>\n       <use style=\"fill:#ffffff;stroke:#ffffff;stroke-width:0.8;\" x=\"26.925\" xlink:href=\"#m642af5c11e\" y=\"197.39188\"/>\n      </g>\n     </g>\n     <g id=\"text_7\">\n      <!-- 10 -->\n      <g style=\"fill:#ffffff;\" transform=\"translate(7.2 201.191098)scale(0.1 -0.1)\">\n       <use xlink:href=\"#DejaVuSans-49\"/>\n       <use x=\"63.623047\" xlink:href=\"#DejaVuSans-48\"/>\n      </g>\n     </g>\n    </g>\n    <g id=\"ytick_3\">\n     <g id=\"line2d_15\">\n      <path clip-path=\"url(#p6c8b601cf6)\" d=\"M 26.925 170.143759 \nL 361.725 170.143759 \n\" style=\"fill:none;stroke:#ffffff;stroke-linecap:square;stroke-width:0.8;\"/>\n     </g>\n     <g id=\"line2d_16\">\n      <g>\n       <use style=\"fill:#ffffff;stroke:#ffffff;stroke-width:0.8;\" x=\"26.925\" xlink:href=\"#m642af5c11e\" y=\"170.143759\"/>\n      </g>\n     </g>\n     <g id=\"text_8\">\n      <!-- 20 -->\n      <g style=\"fill:#ffffff;\" transform=\"translate(7.2 173.942978)scale(0.1 -0.1)\">\n       <use xlink:href=\"#DejaVuSans-50\"/>\n       <use x=\"63.623047\" xlink:href=\"#DejaVuSans-48\"/>\n      </g>\n     </g>\n    </g>\n    <g id=\"ytick_4\">\n     <g id=\"line2d_17\">\n      <path clip-path=\"url(#p6c8b601cf6)\" d=\"M 26.925 142.895639 \nL 361.725 142.895639 \n\" style=\"fill:none;stroke:#ffffff;stroke-linecap:square;stroke-width:0.8;\"/>\n     </g>\n     <g id=\"line2d_18\">\n      <g>\n       <use style=\"fill:#ffffff;stroke:#ffffff;stroke-width:0.8;\" x=\"26.925\" xlink:href=\"#m642af5c11e\" y=\"142.895639\"/>\n      </g>\n     </g>\n     <g id=\"text_9\">\n      <!-- 30 -->\n      <g style=\"fill:#ffffff;\" transform=\"translate(7.2 146.694858)scale(0.1 -0.1)\">\n       <use xlink:href=\"#DejaVuSans-51\"/>\n       <use x=\"63.623047\" xlink:href=\"#DejaVuSans-48\"/>\n      </g>\n     </g>\n    </g>\n    <g id=\"ytick_5\">\n     <g id=\"line2d_19\">\n      <path clip-path=\"url(#p6c8b601cf6)\" d=\"M 26.925 115.647519 \nL 361.725 115.647519 \n\" style=\"fill:none;stroke:#ffffff;stroke-linecap:square;stroke-width:0.8;\"/>\n     </g>\n     <g id=\"line2d_20\">\n      <g>\n       <use style=\"fill:#ffffff;stroke:#ffffff;stroke-width:0.8;\" x=\"26.925\" xlink:href=\"#m642af5c11e\" y=\"115.647519\"/>\n      </g>\n     </g>\n     <g id=\"text_10\">\n      <!-- 40 -->\n      <g style=\"fill:#ffffff;\" transform=\"translate(7.2 119.446738)scale(0.1 -0.1)\">\n       <use xlink:href=\"#DejaVuSans-52\"/>\n       <use x=\"63.623047\" xlink:href=\"#DejaVuSans-48\"/>\n      </g>\n     </g>\n    </g>\n    <g id=\"ytick_6\">\n     <g id=\"line2d_21\">\n      <path clip-path=\"url(#p6c8b601cf6)\" d=\"M 26.925 88.399398 \nL 361.725 88.399398 \n\" style=\"fill:none;stroke:#ffffff;stroke-linecap:square;stroke-width:0.8;\"/>\n     </g>\n     <g id=\"line2d_22\">\n      <g>\n       <use style=\"fill:#ffffff;stroke:#ffffff;stroke-width:0.8;\" x=\"26.925\" xlink:href=\"#m642af5c11e\" y=\"88.399398\"/>\n      </g>\n     </g>\n     <g id=\"text_11\">\n      <!-- 50 -->\n      <defs>\n       <path d=\"M 10.796875 72.90625 \nL 49.515625 72.90625 \nL 49.515625 64.59375 \nL 19.828125 64.59375 \nL 19.828125 46.734375 \nQ 21.96875 47.46875 24.109375 47.828125 \nQ 26.265625 48.1875 28.421875 48.1875 \nQ 40.625 48.1875 47.75 41.5 \nQ 54.890625 34.8125 54.890625 23.390625 \nQ 54.890625 11.625 47.5625 5.09375 \nQ 40.234375 -1.421875 26.90625 -1.421875 \nQ 22.3125 -1.421875 17.546875 -0.640625 \nQ 12.796875 0.140625 7.71875 1.703125 \nL 7.71875 11.625 \nQ 12.109375 9.234375 16.796875 8.0625 \nQ 21.484375 6.890625 26.703125 6.890625 \nQ 35.15625 6.890625 40.078125 11.328125 \nQ 45.015625 15.765625 45.015625 23.390625 \nQ 45.015625 31 40.078125 35.4375 \nQ 35.15625 39.890625 26.703125 39.890625 \nQ 22.75 39.890625 18.8125 39.015625 \nQ 14.890625 38.140625 10.796875 36.28125 \nz\n\" id=\"DejaVuSans-53\"/>\n      </defs>\n      <g style=\"fill:#ffffff;\" transform=\"translate(7.2 92.198617)scale(0.1 -0.1)\">\n       <use xlink:href=\"#DejaVuSans-53\"/>\n       <use x=\"63.623047\" xlink:href=\"#DejaVuSans-48\"/>\n      </g>\n     </g>\n    </g>\n    <g id=\"ytick_7\">\n     <g id=\"line2d_23\">\n      <path clip-path=\"url(#p6c8b601cf6)\" d=\"M 26.925 61.151278 \nL 361.725 61.151278 \n\" style=\"fill:none;stroke:#ffffff;stroke-linecap:square;stroke-width:0.8;\"/>\n     </g>\n     <g id=\"line2d_24\">\n      <g>\n       <use style=\"fill:#ffffff;stroke:#ffffff;stroke-width:0.8;\" x=\"26.925\" xlink:href=\"#m642af5c11e\" y=\"61.151278\"/>\n      </g>\n     </g>\n     <g id=\"text_12\">\n      <!-- 60 -->\n      <defs>\n       <path d=\"M 33.015625 40.375 \nQ 26.375 40.375 22.484375 35.828125 \nQ 18.609375 31.296875 18.609375 23.390625 \nQ 18.609375 15.53125 22.484375 10.953125 \nQ 26.375 6.390625 33.015625 6.390625 \nQ 39.65625 6.390625 43.53125 10.953125 \nQ 47.40625 15.53125 47.40625 23.390625 \nQ 47.40625 31.296875 43.53125 35.828125 \nQ 39.65625 40.375 33.015625 40.375 \nz\nM 52.59375 71.296875 \nL 52.59375 62.3125 \nQ 48.875 64.0625 45.09375 64.984375 \nQ 41.3125 65.921875 37.59375 65.921875 \nQ 27.828125 65.921875 22.671875 59.328125 \nQ 17.53125 52.734375 16.796875 39.40625 \nQ 19.671875 43.65625 24.015625 45.921875 \nQ 28.375 48.1875 33.59375 48.1875 \nQ 44.578125 48.1875 50.953125 41.515625 \nQ 57.328125 34.859375 57.328125 23.390625 \nQ 57.328125 12.15625 50.6875 5.359375 \nQ 44.046875 -1.421875 33.015625 -1.421875 \nQ 20.359375 -1.421875 13.671875 8.265625 \nQ 6.984375 17.96875 6.984375 36.375 \nQ 6.984375 53.65625 15.1875 63.9375 \nQ 23.390625 74.21875 37.203125 74.21875 \nQ 40.921875 74.21875 44.703125 73.484375 \nQ 48.484375 72.75 52.59375 71.296875 \nz\n\" id=\"DejaVuSans-54\"/>\n      </defs>\n      <g style=\"fill:#ffffff;\" transform=\"translate(7.2 64.950497)scale(0.1 -0.1)\">\n       <use xlink:href=\"#DejaVuSans-54\"/>\n       <use x=\"63.623047\" xlink:href=\"#DejaVuSans-48\"/>\n      </g>\n     </g>\n    </g>\n    <g id=\"ytick_8\">\n     <g id=\"line2d_25\">\n      <path clip-path=\"url(#p6c8b601cf6)\" d=\"M 26.925 33.903158 \nL 361.725 33.903158 \n\" style=\"fill:none;stroke:#ffffff;stroke-linecap:square;stroke-width:0.8;\"/>\n     </g>\n     <g id=\"line2d_26\">\n      <g>\n       <use style=\"fill:#ffffff;stroke:#ffffff;stroke-width:0.8;\" x=\"26.925\" xlink:href=\"#m642af5c11e\" y=\"33.903158\"/>\n      </g>\n     </g>\n     <g id=\"text_13\">\n      <!-- 70 -->\n      <defs>\n       <path d=\"M 8.203125 72.90625 \nL 55.078125 72.90625 \nL 55.078125 68.703125 \nL 28.609375 0 \nL 18.3125 0 \nL 43.21875 64.59375 \nL 8.203125 64.59375 \nz\n\" id=\"DejaVuSans-55\"/>\n      </defs>\n      <g style=\"fill:#ffffff;\" transform=\"translate(7.2 37.702377)scale(0.1 -0.1)\">\n       <use xlink:href=\"#DejaVuSans-55\"/>\n       <use x=\"63.623047\" xlink:href=\"#DejaVuSans-48\"/>\n      </g>\n     </g>\n    </g>\n   </g>\n   <g id=\"patch_23\">\n    <path d=\"M 26.925 224.64 \nL 26.925 7.2 \n\" style=\"fill:none;stroke:#ffffff;stroke-linecap:square;stroke-linejoin:miter;stroke-width:0.8;\"/>\n   </g>\n   <g id=\"patch_24\">\n    <path d=\"M 361.725 224.64 \nL 361.725 7.2 \n\" style=\"fill:none;stroke:#ffffff;stroke-linecap:square;stroke-linejoin:miter;stroke-width:0.8;\"/>\n   </g>\n   <g id=\"patch_25\">\n    <path d=\"M 26.925 224.64 \nL 361.725 224.64 \n\" style=\"fill:none;stroke:#ffffff;stroke-linecap:square;stroke-linejoin:miter;stroke-width:0.8;\"/>\n   </g>\n   <g id=\"patch_26\">\n    <path d=\"M 26.925 7.2 \nL 361.725 7.2 \n\" style=\"fill:none;stroke:#ffffff;stroke-linecap:square;stroke-linejoin:miter;stroke-width:0.8;\"/>\n   </g>\n  </g>\n </g>\n <defs>\n  <clipPath id=\"p6c8b601cf6\">\n   <rect height=\"217.44\" width=\"334.8\" x=\"26.925\" y=\"7.2\"/>\n  </clipPath>\n </defs>\n</svg>\n",
      "text/plain": "<Figure size 432x288 with 1 Axes>"
     },
     "metadata": {},
     "output_type": "display_data"
    }
   ],
   "source": [
    "minority.pmpd.hist(bins=20)"
   ]
  },
  {
   "cell_type": "code",
   "execution_count": 48,
   "metadata": {},
   "outputs": [],
   "source": [
    "majority = gov[((gov.tog1 != 4.0) | (gov.tog1 != 5.0)) & ((gov.tog2 != 4.0) | (gov.tog2 != 5.0))]"
   ]
  },
  {
   "cell_type": "code",
   "execution_count": 58,
   "metadata": {},
   "outputs": [
    {
     "data": {
      "text/plain": "70.6408345752608"
     },
     "execution_count": 58,
     "metadata": {},
     "output_type": "execute_result"
    }
   ],
   "source": [
    "len(majority[majority.pmpd < 100].index) / len(majority.index) * 100"
   ]
  },
  {
   "cell_type": "code",
   "execution_count": 59,
   "metadata": {},
   "outputs": [
    {
     "data": {
      "text/plain": "74.10714285714286"
     },
     "execution_count": 59,
     "metadata": {},
     "output_type": "execute_result"
    }
   ],
   "source": [
    "len(minority[minority.pmpd < 100].index) / len(minority.index) * 100"
   ]
  },
  {
   "cell_type": "code",
   "execution_count": 62,
   "metadata": {},
   "outputs": [
    {
     "data": {
      "text/plain": "4.0    132\n2.0    106\n3.0     88\n1.0      2\nName: cpg_sw2014, dtype: int64"
     },
     "execution_count": 62,
     "metadata": {},
     "output_type": "execute_result"
    }
   ],
   "source": [
    "minority.cpg_sw2014.value_counts()"
   ]
  },
  {
   "cell_type": "code",
   "execution_count": 65,
   "metadata": {},
   "outputs": [
    {
     "data": {
      "text/plain": "1.0    130\n5.0     56\n4.0     32\n2.0     32\n7.0     16\n6.0     11\n3.0      4\nName: rft_sw2014, dtype: int64"
     },
     "execution_count": 65,
     "metadata": {},
     "output_type": "execute_result"
    }
   ],
   "source": [
    "minority.rft_sw2014.value_counts()"
   ]
  },
  {
   "cell_type": "code",
   "execution_count": 66,
   "metadata": {},
   "outputs": [
    {
     "data": {
      "text/plain": "1.0    563\n4.0    226\n2.0    161\n5.0    117\n6.0     41\n7.0     40\n3.0     27\nName: rft_sw2014, dtype: int64"
     },
     "execution_count": 66,
     "metadata": {},
     "output_type": "execute_result"
    }
   ],
   "source": [
    "majority.rft_sw2014.value_counts()"
   ]
  },
  {
   "cell_type": "code",
   "execution_count": 67,
   "metadata": {},
   "outputs": [
    {
     "data": {
      "text/plain": "43.91891891891892"
     },
     "execution_count": 67,
     "metadata": {},
     "output_type": "execute_result"
    }
   ],
   "source": [
    "len(minority[minority.rft_sw2014 == 1.0].index) / len(minority.index) * 100"
   ]
  },
  {
   "cell_type": "code",
   "execution_count": 69,
   "metadata": {},
   "outputs": [
    {
     "data": {
      "text/plain": "41.95230998509687"
     },
     "execution_count": 69,
     "metadata": {},
     "output_type": "execute_result"
    }
   ],
   "source": [
    "len(majority[majority.rft_sw2014 == 1.0].index) / len(majority.index) * 100"
   ]
  },
  {
   "cell_type": "code",
   "execution_count": 70,
   "metadata": {},
   "outputs": [
    {
     "data": {
      "text/plain": "18.91891891891892"
     },
     "execution_count": 70,
     "metadata": {},
     "output_type": "execute_result"
    }
   ],
   "source": [
    "len(minority[minority.rft_sw2014 == 5.0].index) / len(minority.index) * 100"
   ]
  },
  {
   "cell_type": "code",
   "execution_count": 71,
   "metadata": {},
   "outputs": [
    {
     "data": {
      "text/plain": "8.718330849478392"
     },
     "execution_count": 71,
     "metadata": {},
     "output_type": "execute_result"
    }
   ],
   "source": [
    "len(majority[majority.rft_sw2014 == 5.0].index) / len(majority.index) * 100"
   ]
  },
  {
   "cell_type": "code",
   "execution_count": 72,
   "metadata": {},
   "outputs": [
    {
     "data": {
      "text/plain": "10.81081081081081"
     },
     "execution_count": 72,
     "metadata": {},
     "output_type": "execute_result"
    }
   ],
   "source": [
    "len(minority[minority.rft_sw2014 == 4.0].index) / len(minority.index) * 100"
   ]
  },
  {
   "cell_type": "code",
   "execution_count": 76,
   "metadata": {},
   "outputs": [
    {
     "data": {
      "text/plain": "16.84053651266766"
     },
     "execution_count": 76,
     "metadata": {},
     "output_type": "execute_result"
    }
   ],
   "source": [
    "len(majority[majority.rft_sw2014 == 4.0].index) / len(majority.index) * 100"
   ]
  },
  {
   "cell_type": "code",
   "execution_count": 77,
   "metadata": {},
   "outputs": [
    {
     "data": {
      "text/plain": "42.9054054054054"
     },
     "execution_count": 77,
     "metadata": {},
     "output_type": "execute_result"
    }
   ],
   "source": [
    "len(minority[minority.election_follows == 0].index) / len(minority.index) * 100"
   ]
  },
  {
   "cell_type": "code",
   "execution_count": 78,
   "metadata": {},
   "outputs": [
    {
     "data": {
      "text/plain": "48.58420268256334"
     },
     "execution_count": 78,
     "metadata": {},
     "output_type": "execute_result"
    }
   ],
   "source": [
    "len(majority[majority.election_follows == 0].index) / len(majority.index) * 100"
   ]
  },
  {
   "cell_type": "code",
   "execution_count": null,
   "metadata": {},
   "outputs": [],
   "source": []
  }
 ]
}