{
 "nbformat": 4,
 "nbformat_minor": 2,
 "metadata": {
  "language_info": {
   "name": "python",
   "codemirror_mode": {
    "name": "ipython",
    "version": 3
   }
  },
  "orig_nbformat": 2,
  "file_extension": ".py",
  "mimetype": "text/x-python",
  "name": "python",
  "npconvert_exporter": "python",
  "pygments_lexer": "ipython3",
  "version": 3
 },
 "cells": [
  {
   "cell_type": "code",
   "execution_count": 18,
   "metadata": {},
   "outputs": [],
   "source": [
    "import pandas as pd \n",
    "posts = pd.read_csv('ironmarch/core_search_index.csv')\n",
    "members = pd.read_csv('ironmarch/merged.csv')"
   ]
  },
  {
   "cell_type": "code",
   "execution_count": 19,
   "metadata": {},
   "outputs": [
    {
     "data": {
      "text/html": "<div>\n<style scoped>\n    .dataframe tbody tr th:only-of-type {\n        vertical-align: middle;\n    }\n\n    .dataframe tbody tr th {\n        vertical-align: top;\n    }\n\n    .dataframe thead th {\n        text-align: right;\n    }\n</style>\n<table border=\"1\" class=\"dataframe\">\n  <thead>\n    <tr style=\"text-align: right;\">\n      <th></th>\n      <th>index_class</th>\n      <th>index_id</th>\n      <th>index_object_id</th>\n      <th>index_item_id</th>\n      <th>index_container_id</th>\n      <th>index_content</th>\n      <th>index_permissions</th>\n      <th>index_author</th>\n      <th>index_title</th>\n      <th>index_date_created</th>\n      <th>index_date_updated</th>\n      <th>index_hidden</th>\n      <th>index_item_index_id</th>\n      <th>index_item_author</th>\n      <th>index_is_last_comment</th>\n      <th>index_class_type_id_hash</th>\n      <th>index_container_class</th>\n      <th>index_club_id</th>\n    </tr>\n  </thead>\n  <tbody>\n    <tr>\n      <th>0</th>\n      <td>IPS\\core\\Statuses\\Status</td>\n      <td>1</td>\n      <td>3053</td>\n      <td>3053</td>\n      <td>9446</td>\n      <td>Congrats on 1,488</td>\n      <td>*</td>\n      <td>11235</td>\n      <td>\\n\\tCongrats on 1,488\\n</td>\n      <td>1501260017</td>\n      <td>1501260017</td>\n      <td>0</td>\n      <td>1</td>\n      <td>11235</td>\n      <td>1</td>\n      <td>9ae3c7e6c7448630db1cf3816f97d7aa</td>\n      <td>IPS\\Content\\Search\\_Index</td>\n      <td>NaN</td>\n    </tr>\n    <tr>\n      <th>1</th>\n      <td>IPS\\core\\Statuses\\Status</td>\n      <td>2</td>\n      <td>3051</td>\n      <td>3051</td>\n      <td>9622</td>\n      <td>I approve of this avatar.</td>\n      <td>*</td>\n      <td>6269</td>\n      <td>\\n\\tI approve of this avatar.\\n</td>\n      <td>1498632014</td>\n      <td>1498632014</td>\n      <td>0</td>\n      <td>2</td>\n      <td>6269</td>\n      <td>1</td>\n      <td>b619e99d90c1881a384878251917ae2b</td>\n      <td>IPS\\Content\\Search\\_Index</td>\n      <td>NaN</td>\n    </tr>\n    <tr>\n      <th>2</th>\n      <td>IPS\\core\\Statuses\\Status</td>\n      <td>3</td>\n      <td>3050</td>\n      <td>3050</td>\n      <td>14382</td>\n      <td>I have more reputation than u, fag</td>\n      <td>*</td>\n      <td>13893</td>\n      <td>\\n\\tI have more reputation than u, fag\\n</td>\n      <td>1498114162</td>\n      <td>1498114162</td>\n      <td>0</td>\n      <td>3</td>\n      <td>13893</td>\n      <td>1</td>\n      <td>0f68c7794e042fb6bae1fd80af379c33</td>\n      <td>IPS\\Content\\Search\\_Index</td>\n      <td>NaN</td>\n    </tr>\n    <tr>\n      <th>3</th>\n      <td>IPS\\core\\Statuses\\Status</td>\n      <td>4</td>\n      <td>3049</td>\n      <td>3049</td>\n      <td>9872</td>\n      <td>Hi Rostislav,  \\ndanke für den Willkommensgrus...</td>\n      <td>*</td>\n      <td>14568</td>\n      <td>Hi Rostislav,\\ndanke für den Willkommensgruss....</td>\n      <td>1497550215</td>\n      <td>1497550215</td>\n      <td>0</td>\n      <td>4</td>\n      <td>14568</td>\n      <td>1</td>\n      <td>cd7bd28b3f19848b72a7ad7feb1b9fb0</td>\n      <td>IPS\\Content\\Search\\_Index</td>\n      <td>NaN</td>\n    </tr>\n    <tr>\n      <th>4</th>\n      <td>IPS\\core\\Statuses\\Status</td>\n      <td>5</td>\n      <td>3048</td>\n      <td>3048</td>\n      <td>14568</td>\n      <td>How to kill time at work?</td>\n      <td>*</td>\n      <td>14568</td>\n      <td>\\n\\tHow to kill time at work?\\n</td>\n      <td>1497439661</td>\n      <td>1497439661</td>\n      <td>0</td>\n      <td>5</td>\n      <td>14568</td>\n      <td>1</td>\n      <td>0ce133aeb2a90529905f0e24b68934a5</td>\n      <td>IPS\\Content\\Search\\_Index</td>\n      <td>NaN</td>\n    </tr>\n  </tbody>\n</table>\n</div>",
      "text/plain": "                index_class  index_id  index_object_id  index_item_id  \\\n0  IPS\\core\\Statuses\\Status         1             3053           3053   \n1  IPS\\core\\Statuses\\Status         2             3051           3051   \n2  IPS\\core\\Statuses\\Status         3             3050           3050   \n3  IPS\\core\\Statuses\\Status         4             3049           3049   \n4  IPS\\core\\Statuses\\Status         5             3048           3048   \n\n   index_container_id                                      index_content  \\\n0                9446                                  Congrats on 1,488   \n1                9622                          I approve of this avatar.   \n2               14382                 I have more reputation than u, fag   \n3                9872  Hi Rostislav,  \\ndanke für den Willkommensgrus...   \n4               14568                          How to kill time at work?   \n\n  index_permissions  index_author  \\\n0                 *         11235   \n1                 *          6269   \n2                 *         13893   \n3                 *         14568   \n4                 *         14568   \n\n                                         index_title  index_date_created  \\\n0                            \\n\\tCongrats on 1,488\\n          1501260017   \n1                    \\n\\tI approve of this avatar.\\n          1498632014   \n2           \\n\\tI have more reputation than u, fag\\n          1498114162   \n3  Hi Rostislav,\\ndanke für den Willkommensgruss....          1497550215   \n4                    \\n\\tHow to kill time at work?\\n          1497439661   \n\n   index_date_updated  index_hidden  index_item_index_id  index_item_author  \\\n0          1501260017             0                    1              11235   \n1          1498632014             0                    2               6269   \n2          1498114162             0                    3              13893   \n3          1497550215             0                    4              14568   \n4          1497439661             0                    5              14568   \n\n   index_is_last_comment          index_class_type_id_hash  \\\n0                      1  9ae3c7e6c7448630db1cf3816f97d7aa   \n1                      1  b619e99d90c1881a384878251917ae2b   \n2                      1  0f68c7794e042fb6bae1fd80af379c33   \n3                      1  cd7bd28b3f19848b72a7ad7feb1b9fb0   \n4                      1  0ce133aeb2a90529905f0e24b68934a5   \n\n       index_container_class  index_club_id  \n0  IPS\\Content\\Search\\_Index            NaN  \n1  IPS\\Content\\Search\\_Index            NaN  \n2  IPS\\Content\\Search\\_Index            NaN  \n3  IPS\\Content\\Search\\_Index            NaN  \n4  IPS\\Content\\Search\\_Index            NaN  "
     },
     "execution_count": 19,
     "metadata": {},
     "output_type": "execute_result"
    }
   ],
   "source": [
    "posts.head()"
   ]
  },
  {
   "cell_type": "code",
   "execution_count": 20,
   "metadata": {},
   "outputs": [],
   "source": [
    "posts.index_date_created = pd.to_datetime(posts.index_date_created, unit='s')"
   ]
  },
  {
   "cell_type": "code",
   "execution_count": 21,
   "metadata": {},
   "outputs": [],
   "source": [
    "belgium = members[members.country_code == 'BE']"
   ]
  },
  {
   "cell_type": "code",
   "execution_count": 22,
   "metadata": {},
   "outputs": [],
   "source": [
    "be_mems = belgium.member_id.tolist()"
   ]
  },
  {
   "cell_type": "code",
   "execution_count": 23,
   "metadata": {},
   "outputs": [
    {
     "data": {
      "text/plain": "51"
     },
     "execution_count": 23,
     "metadata": {},
     "output_type": "execute_result"
    }
   ],
   "source": [
    "len(posts[posts.index_author.isin(be_mems)].index)"
   ]
  },
  {
   "cell_type": "code",
   "execution_count": 24,
   "metadata": {},
   "outputs": [],
   "source": [
    "posts[posts.index_author.isin(be_mems)].to_csv('ironmarch/belgenposts.csv', index=False)"
   ]
  },
  {
   "cell_type": "code",
   "execution_count": 31,
   "metadata": {},
   "outputs": [],
   "source": [
    "posts[posts.index_content.str.contains(\"Flanders|Flemish\") == True].to_csv('ironmarch/flanders.csv', index=False)"
   ]
  },
  {
   "cell_type": "code",
   "execution_count": 32,
   "metadata": {},
   "outputs": [],
   "source": [
    "posts[posts.index_content.str.contains(\"Vlaanderen|Vlaams\") == True].to_csv('ironmarch/vlaanderen.csv', index=False)"
   ]
  },
  {
   "cell_type": "code",
   "execution_count": null,
   "metadata": {},
   "outputs": [],
   "source": []
  }
 ]
}