{
 "nbformat": 4,
 "nbformat_minor": 2,
 "metadata": {
  "language_info": {
   "name": "python",
   "codemirror_mode": {
    "name": "ipython",
    "version": 3
   },
   "version": "3.7.4-final"
  },
  "orig_nbformat": 2,
  "file_extension": ".py",
  "mimetype": "text/x-python",
  "name": "python",
  "npconvert_exporter": "python",
  "pygments_lexer": "ipython3",
  "version": 3,
  "kernelspec": {
   "name": "python37464bitvrtnwsdatapipenv8fdc1237a3b944719c2b0d956b212a6e",
   "display_name": "Python 3.7.4 64-bit ('vrtnws_data': pipenv)"
  }
 },
 "cells": [
  {
   "cell_type": "code",
   "execution_count": 459,
   "metadata": {},
   "outputs": [],
   "source": [
    "import pandas as pd \n",
    "import seaborn as sb\n",
    "import datetime as dt\n",
    "import numpy as np"
   ]
  },
  {
   "cell_type": "code",
   "execution_count": 460,
   "metadata": {},
   "outputs": [],
   "source": [
    "noise = pd.read_csv('noise_zaventem.csv', sep=';')"
   ]
  },
  {
   "cell_type": "code",
   "execution_count": 461,
   "metadata": {},
   "outputs": [],
   "source": [
    "noise.start_date = pd.to_datetime(noise['start_date'], format=\"%d/%m/%Y\")"
   ]
  },
  {
   "cell_type": "code",
   "execution_count": 462,
   "metadata": {},
   "outputs": [
    {
     "output_type": "stream",
     "name": "stdout",
     "text": "<class 'pandas.core.frame.DataFrame'>\nRangeIndex: 24177 entries, 0 to 24176\nData columns (total 14 columns):\nnmt_number    24177 non-null int64\nloc_number    24177 non-null int64\nstart_date    24177 non-null datetime64[ns]\nstart_time    24177 non-null object\nduration      24177 non-null int64\nevent_leq     24177 non-null object\nevent_sel     24177 non-null object\nmax_level     24177 non-null object\nmax_time      24177 non-null object\nrunway        15794 non-null object\nsid           9596 non-null object\nstar          5966 non-null object\nmovement      15822 non-null object\nfldate        15831 non-null object\ndtypes: datetime64[ns](1), int64(3), object(10)\nmemory usage: 2.6+ MB\n"
    }
   ],
   "source": [
    "noise.info()"
   ]
  },
  {
   "cell_type": "code",
   "execution_count": 463,
   "metadata": {},
   "outputs": [],
   "source": [
    "noise.event_leq = noise.event_leq.str.replace(\",\",\".\").astype(float)"
   ]
  },
  {
   "cell_type": "code",
   "execution_count": 464,
   "metadata": {},
   "outputs": [],
   "source": [
    "noise.max_level = noise.max_level.str.replace(\",\",\".\").astype(float)"
   ]
  },
  {
   "cell_type": "markdown",
   "metadata": {},
   "source": [
    "Check of er duplicate waardes zijn in de dataset"
   ]
  },
  {
   "cell_type": "code",
   "execution_count": 465,
   "metadata": {},
   "outputs": [
    {
     "output_type": "execute_result",
     "data": {
      "text/plain": "Empty DataFrame\nColumns: [nmt_number, loc_number, start_date, start_time, duration, event_leq, event_sel, max_level, max_time, runway, sid, star, movement, fldate]\nIndex: []",
      "text/html": "<div>\n<style scoped>\n    .dataframe tbody tr th:only-of-type {\n        vertical-align: middle;\n    }\n\n    .dataframe tbody tr th {\n        vertical-align: top;\n    }\n\n    .dataframe thead th {\n        text-align: right;\n    }\n</style>\n<table border=\"1\" class=\"dataframe\">\n  <thead>\n    <tr style=\"text-align: right;\">\n      <th></th>\n      <th>nmt_number</th>\n      <th>loc_number</th>\n      <th>start_date</th>\n      <th>start_time</th>\n      <th>duration</th>\n      <th>event_leq</th>\n      <th>event_sel</th>\n      <th>max_level</th>\n      <th>max_time</th>\n      <th>runway</th>\n      <th>sid</th>\n      <th>star</th>\n      <th>movement</th>\n      <th>fldate</th>\n    </tr>\n  </thead>\n  <tbody>\n  </tbody>\n</table>\n</div>"
     },
     "metadata": {},
     "execution_count": 465
    }
   ],
   "source": [
    "noise[noise.duplicated(['nmt_number', 'loc_number', 'start_date', 'start_time', 'duration', 'event_leq', 'event_sel', 'max_level', 'max_time', 'runway', 'sid', 'star', 'movement', 'fldate'])]"
   ]
  },
  {
   "cell_type": "markdown",
   "metadata": {},
   "source": [
    "Check of er rijen zijn waar wel een fldate zit maar geen movement"
   ]
  },
  {
   "cell_type": "code",
   "execution_count": 466,
   "metadata": {},
   "outputs": [
    {
     "output_type": "execute_result",
     "data": {
      "text/plain": "       nmt_number  loc_number start_date start_time  duration  event_leq  \\\n1528           41           1 2020-02-28   11:48:42        24       65.7   \n2454           41           1 2020-03-13   06:36:13        25       68.0   \n2677           41           1 2020-03-18   06:25:44        32       67.3   \n2760           41           1 2020-03-20   06:45:57        22       67.2   \n7620           43           2 2020-02-25   14:20:51        50       69.2   \n8631           43           2 2020-03-03   14:13:26        30       64.6   \n9269           43           2 2020-03-06   14:09:10        88       72.7   \n11154          44           2 2020-02-25   07:26:06        20       69.6   \n11790          44           2 2020-03-05   09:39:25        27       66.7   \n\n      event_sel  max_level  max_time runway      sid     star movement  \\\n1528       79,5       74.4  11:49:00    NaN    NIK3C      NaN      NaN   \n2454       82,0       75.6  06:36:25    NaN    CIV4C      NaN      NaN   \n2677       82,4       76.8  06:26:03    NaN  HELEN6C      NaN      NaN   \n2760       80,6       74.9  06:46:16    NaN  HELEN6C      NaN      NaN   \n7620       86,2       73.1  14:21:22    NaN      NaN   FLO25L      NaN   \n8631       79,4       74.9  14:13:47    NaN      NaN   FLO25L      NaN   \n9269       92,1       84.2  14:09:46    NaN      NaN  BATTY5A      NaN   \n11154      82,6       74.4  07:26:15    NaN  ROUSY7C      NaN      NaN   \n11790      81,0       78.9  09:39:33    NaN  SOPOK8C      NaN      NaN   \n\n                    fldate  \n1528   28/02/2020 11:46:00  \n2454   13/03/2020 06:34:00  \n2677   18/03/2020 06:23:00  \n2760   20/03/2020 06:43:00  \n7620   25/02/2020 14:22:00  \n8631   03/03/2020 14:14:00  \n9269   06/03/2020 14:20:00  \n11154  25/02/2020 07:23:00  \n11790  05/03/2020 09:36:00  ",
      "text/html": "<div>\n<style scoped>\n    .dataframe tbody tr th:only-of-type {\n        vertical-align: middle;\n    }\n\n    .dataframe tbody tr th {\n        vertical-align: top;\n    }\n\n    .dataframe thead th {\n        text-align: right;\n    }\n</style>\n<table border=\"1\" class=\"dataframe\">\n  <thead>\n    <tr style=\"text-align: right;\">\n      <th></th>\n      <th>nmt_number</th>\n      <th>loc_number</th>\n      <th>start_date</th>\n      <th>start_time</th>\n      <th>duration</th>\n      <th>event_leq</th>\n      <th>event_sel</th>\n      <th>max_level</th>\n      <th>max_time</th>\n      <th>runway</th>\n      <th>sid</th>\n      <th>star</th>\n      <th>movement</th>\n      <th>fldate</th>\n    </tr>\n  </thead>\n  <tbody>\n    <tr>\n      <th>1528</th>\n      <td>41</td>\n      <td>1</td>\n      <td>2020-02-28</td>\n      <td>11:48:42</td>\n      <td>24</td>\n      <td>65.7</td>\n      <td>79,5</td>\n      <td>74.4</td>\n      <td>11:49:00</td>\n      <td>NaN</td>\n      <td>NIK3C</td>\n      <td>NaN</td>\n      <td>NaN</td>\n      <td>28/02/2020 11:46:00</td>\n    </tr>\n    <tr>\n      <th>2454</th>\n      <td>41</td>\n      <td>1</td>\n      <td>2020-03-13</td>\n      <td>06:36:13</td>\n      <td>25</td>\n      <td>68.0</td>\n      <td>82,0</td>\n      <td>75.6</td>\n      <td>06:36:25</td>\n      <td>NaN</td>\n      <td>CIV4C</td>\n      <td>NaN</td>\n      <td>NaN</td>\n      <td>13/03/2020 06:34:00</td>\n    </tr>\n    <tr>\n      <th>2677</th>\n      <td>41</td>\n      <td>1</td>\n      <td>2020-03-18</td>\n      <td>06:25:44</td>\n      <td>32</td>\n      <td>67.3</td>\n      <td>82,4</td>\n      <td>76.8</td>\n      <td>06:26:03</td>\n      <td>NaN</td>\n      <td>HELEN6C</td>\n      <td>NaN</td>\n      <td>NaN</td>\n      <td>18/03/2020 06:23:00</td>\n    </tr>\n    <tr>\n      <th>2760</th>\n      <td>41</td>\n      <td>1</td>\n      <td>2020-03-20</td>\n      <td>06:45:57</td>\n      <td>22</td>\n      <td>67.2</td>\n      <td>80,6</td>\n      <td>74.9</td>\n      <td>06:46:16</td>\n      <td>NaN</td>\n      <td>HELEN6C</td>\n      <td>NaN</td>\n      <td>NaN</td>\n      <td>20/03/2020 06:43:00</td>\n    </tr>\n    <tr>\n      <th>7620</th>\n      <td>43</td>\n      <td>2</td>\n      <td>2020-02-25</td>\n      <td>14:20:51</td>\n      <td>50</td>\n      <td>69.2</td>\n      <td>86,2</td>\n      <td>73.1</td>\n      <td>14:21:22</td>\n      <td>NaN</td>\n      <td>NaN</td>\n      <td>FLO25L</td>\n      <td>NaN</td>\n      <td>25/02/2020 14:22:00</td>\n    </tr>\n    <tr>\n      <th>8631</th>\n      <td>43</td>\n      <td>2</td>\n      <td>2020-03-03</td>\n      <td>14:13:26</td>\n      <td>30</td>\n      <td>64.6</td>\n      <td>79,4</td>\n      <td>74.9</td>\n      <td>14:13:47</td>\n      <td>NaN</td>\n      <td>NaN</td>\n      <td>FLO25L</td>\n      <td>NaN</td>\n      <td>03/03/2020 14:14:00</td>\n    </tr>\n    <tr>\n      <th>9269</th>\n      <td>43</td>\n      <td>2</td>\n      <td>2020-03-06</td>\n      <td>14:09:10</td>\n      <td>88</td>\n      <td>72.7</td>\n      <td>92,1</td>\n      <td>84.2</td>\n      <td>14:09:46</td>\n      <td>NaN</td>\n      <td>NaN</td>\n      <td>BATTY5A</td>\n      <td>NaN</td>\n      <td>06/03/2020 14:20:00</td>\n    </tr>\n    <tr>\n      <th>11154</th>\n      <td>44</td>\n      <td>2</td>\n      <td>2020-02-25</td>\n      <td>07:26:06</td>\n      <td>20</td>\n      <td>69.6</td>\n      <td>82,6</td>\n      <td>74.4</td>\n      <td>07:26:15</td>\n      <td>NaN</td>\n      <td>ROUSY7C</td>\n      <td>NaN</td>\n      <td>NaN</td>\n      <td>25/02/2020 07:23:00</td>\n    </tr>\n    <tr>\n      <th>11790</th>\n      <td>44</td>\n      <td>2</td>\n      <td>2020-03-05</td>\n      <td>09:39:25</td>\n      <td>27</td>\n      <td>66.7</td>\n      <td>81,0</td>\n      <td>78.9</td>\n      <td>09:39:33</td>\n      <td>NaN</td>\n      <td>SOPOK8C</td>\n      <td>NaN</td>\n      <td>NaN</td>\n      <td>05/03/2020 09:36:00</td>\n    </tr>\n  </tbody>\n</table>\n</div>"
     },
     "metadata": {},
     "execution_count": 466
    }
   ],
   "source": [
    "noise[(noise.fldate.notnull()) & (noise.movement.isnull())]"
   ]
  },
  {
   "cell_type": "markdown",
   "metadata": {},
   "source": [
    "Check of er rijen zijn waar wel een fldate is maar niets anders"
   ]
  },
  {
   "cell_type": "code",
   "execution_count": 467,
   "metadata": {},
   "outputs": [
    {
     "output_type": "execute_result",
     "data": {
      "text/plain": "Empty DataFrame\nColumns: [nmt_number, loc_number, start_date, start_time, duration, event_leq, event_sel, max_level, max_time, runway, sid, star, movement, fldate]\nIndex: []",
      "text/html": "<div>\n<style scoped>\n    .dataframe tbody tr th:only-of-type {\n        vertical-align: middle;\n    }\n\n    .dataframe tbody tr th {\n        vertical-align: top;\n    }\n\n    .dataframe thead th {\n        text-align: right;\n    }\n</style>\n<table border=\"1\" class=\"dataframe\">\n  <thead>\n    <tr style=\"text-align: right;\">\n      <th></th>\n      <th>nmt_number</th>\n      <th>loc_number</th>\n      <th>start_date</th>\n      <th>start_time</th>\n      <th>duration</th>\n      <th>event_leq</th>\n      <th>event_sel</th>\n      <th>max_level</th>\n      <th>max_time</th>\n      <th>runway</th>\n      <th>sid</th>\n      <th>star</th>\n      <th>movement</th>\n      <th>fldate</th>\n    </tr>\n  </thead>\n  <tbody>\n  </tbody>\n</table>\n</div>"
     },
     "metadata": {},
     "execution_count": 467
    }
   ],
   "source": [
    "noise[(noise.sid.isnull()) & (noise.star.isnull()) & (noise.fldate.notnull()) & (noise.runway.isnull()) & (noise.movement.isnull())]"
   ]
  },
  {
   "cell_type": "markdown",
   "metadata": {},
   "source": [
    "Conclusie is dat de fldate bepalend is voor of er een vluchtgecorreleerde beweging was. runway/sid/star/movement is niet altijd bekend maar fldate wel.\n",
    "\n",
    "Volgende: check voor empty rows"
   ]
  },
  {
   "cell_type": "code",
   "execution_count": 468,
   "metadata": {},
   "outputs": [
    {
     "output_type": "execute_result",
     "data": {
      "text/plain": "24177"
     },
     "metadata": {},
     "execution_count": 468
    }
   ],
   "source": [
    "len(noise.dropna(how='all'))"
   ]
  },
  {
   "cell_type": "markdown",
   "metadata": {},
   "source": [
    "Conclusie: geen complete empty rows."
   ]
  },
  {
   "cell_type": "code",
   "execution_count": 469,
   "metadata": {},
   "outputs": [
    {
     "output_type": "execute_result",
     "data": {
      "text/plain": "   nmt_number  loc_number start_date start_time  duration  event_leq  \\\n0          40           2 2020-03-11   14:12:37        33       67.4   \n1          40           2 2020-03-11   14:22:27        40       64.6   \n2          40           2 2020-03-11   14:49:33        47       64.0   \n3          40           2 2020-03-11   16:04:26        19       63.4   \n4          40           2 2020-03-11   16:23:19        17       64.0   \n\n  event_sel  max_level  max_time runway      sid star movement  \\\n0      82,6       72.2  14:13:00    NaN      NaN  NaN      NaN   \n1      80,6       68.6  14:22:56    NaN      NaN  NaN      NaN   \n2      80,7       69.6  14:49:54    NaN      NaN  NaN      NaN   \n3      76,2       67.1  16:04:33    25R  DENUT6C  NaN        D   \n4      76,3       67.8  16:23:21    25R    CIV4C  NaN        D   \n\n                fldate  \n0                  NaN  \n1                  NaN  \n2                  NaN  \n3  11/03/2020 16:02:00  \n4  11/03/2020 16:21:00  ",
      "text/html": "<div>\n<style scoped>\n    .dataframe tbody tr th:only-of-type {\n        vertical-align: middle;\n    }\n\n    .dataframe tbody tr th {\n        vertical-align: top;\n    }\n\n    .dataframe thead th {\n        text-align: right;\n    }\n</style>\n<table border=\"1\" class=\"dataframe\">\n  <thead>\n    <tr style=\"text-align: right;\">\n      <th></th>\n      <th>nmt_number</th>\n      <th>loc_number</th>\n      <th>start_date</th>\n      <th>start_time</th>\n      <th>duration</th>\n      <th>event_leq</th>\n      <th>event_sel</th>\n      <th>max_level</th>\n      <th>max_time</th>\n      <th>runway</th>\n      <th>sid</th>\n      <th>star</th>\n      <th>movement</th>\n      <th>fldate</th>\n    </tr>\n  </thead>\n  <tbody>\n    <tr>\n      <th>0</th>\n      <td>40</td>\n      <td>2</td>\n      <td>2020-03-11</td>\n      <td>14:12:37</td>\n      <td>33</td>\n      <td>67.4</td>\n      <td>82,6</td>\n      <td>72.2</td>\n      <td>14:13:00</td>\n      <td>NaN</td>\n      <td>NaN</td>\n      <td>NaN</td>\n      <td>NaN</td>\n      <td>NaN</td>\n    </tr>\n    <tr>\n      <th>1</th>\n      <td>40</td>\n      <td>2</td>\n      <td>2020-03-11</td>\n      <td>14:22:27</td>\n      <td>40</td>\n      <td>64.6</td>\n      <td>80,6</td>\n      <td>68.6</td>\n      <td>14:22:56</td>\n      <td>NaN</td>\n      <td>NaN</td>\n      <td>NaN</td>\n      <td>NaN</td>\n      <td>NaN</td>\n    </tr>\n    <tr>\n      <th>2</th>\n      <td>40</td>\n      <td>2</td>\n      <td>2020-03-11</td>\n      <td>14:49:33</td>\n      <td>47</td>\n      <td>64.0</td>\n      <td>80,7</td>\n      <td>69.6</td>\n      <td>14:49:54</td>\n      <td>NaN</td>\n      <td>NaN</td>\n      <td>NaN</td>\n      <td>NaN</td>\n      <td>NaN</td>\n    </tr>\n    <tr>\n      <th>3</th>\n      <td>40</td>\n      <td>2</td>\n      <td>2020-03-11</td>\n      <td>16:04:26</td>\n      <td>19</td>\n      <td>63.4</td>\n      <td>76,2</td>\n      <td>67.1</td>\n      <td>16:04:33</td>\n      <td>25R</td>\n      <td>DENUT6C</td>\n      <td>NaN</td>\n      <td>D</td>\n      <td>11/03/2020 16:02:00</td>\n    </tr>\n    <tr>\n      <th>4</th>\n      <td>40</td>\n      <td>2</td>\n      <td>2020-03-11</td>\n      <td>16:23:19</td>\n      <td>17</td>\n      <td>64.0</td>\n      <td>76,3</td>\n      <td>67.8</td>\n      <td>16:23:21</td>\n      <td>25R</td>\n      <td>CIV4C</td>\n      <td>NaN</td>\n      <td>D</td>\n      <td>11/03/2020 16:21:00</td>\n    </tr>\n  </tbody>\n</table>\n</div>"
     },
     "metadata": {},
     "execution_count": 469
    }
   ],
   "source": [
    "noise.head()"
   ]
  },
  {
   "cell_type": "markdown",
   "metadata": {},
   "source": [
    "Nu kijken we alleen naar vlucht-gecorreleerd geluid, omdat dat ons iets zegt over de vliegbewegingen die nog gebeuren vanaf Zaventem"
   ]
  },
  {
   "cell_type": "code",
   "execution_count": 470,
   "metadata": {},
   "outputs": [],
   "source": [
    "flights = noise[noise.fldate.notnull()]"
   ]
  },
  {
   "cell_type": "code",
   "execution_count": 471,
   "metadata": {},
   "outputs": [
    {
     "output_type": "stream",
     "name": "stdout",
     "text": "<class 'pandas.core.frame.DataFrame'>\nInt64Index: 15831 entries, 3 to 24175\nData columns (total 14 columns):\nnmt_number    15831 non-null int64\nloc_number    15831 non-null int64\nstart_date    15831 non-null datetime64[ns]\nstart_time    15831 non-null object\nduration      15831 non-null int64\nevent_leq     15831 non-null float64\nevent_sel     15831 non-null object\nmax_level     15831 non-null float64\nmax_time      15831 non-null object\nrunway        15794 non-null object\nsid           9596 non-null object\nstar          5966 non-null object\nmovement      15822 non-null object\nfldate        15831 non-null object\ndtypes: datetime64[ns](1), float64(2), int64(3), object(8)\nmemory usage: 1.8+ MB\n"
    }
   ],
   "source": [
    "flights.info()"
   ]
  },
  {
   "cell_type": "code",
   "execution_count": 472,
   "metadata": {},
   "outputs": [
    {
     "output_type": "execute_result",
     "data": {
      "text/plain": "   nmt_number  loc_number start_date start_time  duration  event_leq  \\\n3          40           2 2020-03-11   16:04:26        19       63.4   \n4          40           2 2020-03-11   16:23:19        17       64.0   \n5          40           2 2020-03-11   17:24:38        20       65.0   \n6          40           2 2020-03-11   18:04:17        21       63.2   \n8          40           2 2020-03-11   18:39:27        43       68.1   \n\n  event_sel  max_level  max_time runway      sid star movement  \\\n3      76,2       67.1  16:04:33    25R  DENUT6C  NaN        D   \n4      76,3       67.8  16:23:21    25R    CIV4C  NaN        D   \n5      78,0       68.5  17:24:52    25R    CIV4C  NaN        D   \n6      76,4       68.3  18:04:18    25R  HELEN6C  NaN        D   \n8      84,4       73.8  18:39:43    25R    NIK3C  NaN        D   \n\n                fldate  \n3  11/03/2020 16:02:00  \n4  11/03/2020 16:21:00  \n5  11/03/2020 17:22:00  \n6  11/03/2020 18:02:00  \n8  11/03/2020 18:38:00  ",
      "text/html": "<div>\n<style scoped>\n    .dataframe tbody tr th:only-of-type {\n        vertical-align: middle;\n    }\n\n    .dataframe tbody tr th {\n        vertical-align: top;\n    }\n\n    .dataframe thead th {\n        text-align: right;\n    }\n</style>\n<table border=\"1\" class=\"dataframe\">\n  <thead>\n    <tr style=\"text-align: right;\">\n      <th></th>\n      <th>nmt_number</th>\n      <th>loc_number</th>\n      <th>start_date</th>\n      <th>start_time</th>\n      <th>duration</th>\n      <th>event_leq</th>\n      <th>event_sel</th>\n      <th>max_level</th>\n      <th>max_time</th>\n      <th>runway</th>\n      <th>sid</th>\n      <th>star</th>\n      <th>movement</th>\n      <th>fldate</th>\n    </tr>\n  </thead>\n  <tbody>\n    <tr>\n      <th>3</th>\n      <td>40</td>\n      <td>2</td>\n      <td>2020-03-11</td>\n      <td>16:04:26</td>\n      <td>19</td>\n      <td>63.4</td>\n      <td>76,2</td>\n      <td>67.1</td>\n      <td>16:04:33</td>\n      <td>25R</td>\n      <td>DENUT6C</td>\n      <td>NaN</td>\n      <td>D</td>\n      <td>11/03/2020 16:02:00</td>\n    </tr>\n    <tr>\n      <th>4</th>\n      <td>40</td>\n      <td>2</td>\n      <td>2020-03-11</td>\n      <td>16:23:19</td>\n      <td>17</td>\n      <td>64.0</td>\n      <td>76,3</td>\n      <td>67.8</td>\n      <td>16:23:21</td>\n      <td>25R</td>\n      <td>CIV4C</td>\n      <td>NaN</td>\n      <td>D</td>\n      <td>11/03/2020 16:21:00</td>\n    </tr>\n    <tr>\n      <th>5</th>\n      <td>40</td>\n      <td>2</td>\n      <td>2020-03-11</td>\n      <td>17:24:38</td>\n      <td>20</td>\n      <td>65.0</td>\n      <td>78,0</td>\n      <td>68.5</td>\n      <td>17:24:52</td>\n      <td>25R</td>\n      <td>CIV4C</td>\n      <td>NaN</td>\n      <td>D</td>\n      <td>11/03/2020 17:22:00</td>\n    </tr>\n    <tr>\n      <th>6</th>\n      <td>40</td>\n      <td>2</td>\n      <td>2020-03-11</td>\n      <td>18:04:17</td>\n      <td>21</td>\n      <td>63.2</td>\n      <td>76,4</td>\n      <td>68.3</td>\n      <td>18:04:18</td>\n      <td>25R</td>\n      <td>HELEN6C</td>\n      <td>NaN</td>\n      <td>D</td>\n      <td>11/03/2020 18:02:00</td>\n    </tr>\n    <tr>\n      <th>8</th>\n      <td>40</td>\n      <td>2</td>\n      <td>2020-03-11</td>\n      <td>18:39:27</td>\n      <td>43</td>\n      <td>68.1</td>\n      <td>84,4</td>\n      <td>73.8</td>\n      <td>18:39:43</td>\n      <td>25R</td>\n      <td>NIK3C</td>\n      <td>NaN</td>\n      <td>D</td>\n      <td>11/03/2020 18:38:00</td>\n    </tr>\n  </tbody>\n</table>\n</div>"
     },
     "metadata": {},
     "execution_count": 472
    }
   ],
   "source": [
    "flights.head()"
   ]
  },
  {
   "cell_type": "code",
   "execution_count": 473,
   "metadata": {},
   "outputs": [
    {
     "output_type": "execute_result",
     "data": {
      "text/plain": "42    3922\n3     2964\n43    2863\n46    2194\n41    1348\n40     741\n47     635\n44     568\n45     522\n48      74\nName: nmt_number, dtype: int64"
     },
     "metadata": {},
     "execution_count": 473
    }
   ],
   "source": [
    "flights.nmt_number.value_counts()"
   ]
  },
  {
   "cell_type": "markdown",
   "metadata": {},
   "source": [
    "De meeste vliegbewegingen komen in de buurt van NMT 42, de minste bij NMT 48. "
   ]
  },
  {
   "cell_type": "code",
   "execution_count": 474,
   "metadata": {},
   "outputs": [
    {
     "output_type": "execute_result",
     "data": {
      "text/plain": "25R    8739\n25L    5313\n01      857\n19      528\n07R     196\n07L     155\nUNK       6\nName: runway, dtype: int64"
     },
     "metadata": {},
     "execution_count": 474
    }
   ],
   "source": [
    "flights.runway.value_counts()"
   ]
  },
  {
   "cell_type": "markdown",
   "metadata": {},
   "source": [
    "De meeste vliegbewegingen vanaf 25R, de minste vanaf 07L (en een aantal vanaf unkown)"
   ]
  },
  {
   "cell_type": "code",
   "execution_count": 475,
   "metadata": {},
   "outputs": [
    {
     "output_type": "execute_result",
     "data": {
      "text/plain": "Empty DataFrame\nColumns: [nmt_number, loc_number, start_date, start_time, duration, event_leq, event_sel, max_level, max_time, runway, sid, star, movement, fldate]\nIndex: []",
      "text/html": "<div>\n<style scoped>\n    .dataframe tbody tr th:only-of-type {\n        vertical-align: middle;\n    }\n\n    .dataframe tbody tr th {\n        vertical-align: top;\n    }\n\n    .dataframe thead th {\n        text-align: right;\n    }\n</style>\n<table border=\"1\" class=\"dataframe\">\n  <thead>\n    <tr style=\"text-align: right;\">\n      <th></th>\n      <th>nmt_number</th>\n      <th>loc_number</th>\n      <th>start_date</th>\n      <th>start_time</th>\n      <th>duration</th>\n      <th>event_leq</th>\n      <th>event_sel</th>\n      <th>max_level</th>\n      <th>max_time</th>\n      <th>runway</th>\n      <th>sid</th>\n      <th>star</th>\n      <th>movement</th>\n      <th>fldate</th>\n    </tr>\n  </thead>\n  <tbody>\n  </tbody>\n</table>\n</div>"
     },
     "metadata": {},
     "execution_count": 475
    }
   ],
   "source": [
    "flights[flights.start_date.isnull()]"
   ]
  },
  {
   "cell_type": "code",
   "execution_count": 476,
   "metadata": {},
   "outputs": [
    {
     "output_type": "execute_result",
     "data": {
      "text/plain": "Empty DataFrame\nColumns: [nmt_number, loc_number, start_date, start_time, duration, event_leq, event_sel, max_level, max_time, runway, sid, star, movement, fldate]\nIndex: []",
      "text/html": "<div>\n<style scoped>\n    .dataframe tbody tr th:only-of-type {\n        vertical-align: middle;\n    }\n\n    .dataframe tbody tr th {\n        vertical-align: top;\n    }\n\n    .dataframe thead th {\n        text-align: right;\n    }\n</style>\n<table border=\"1\" class=\"dataframe\">\n  <thead>\n    <tr style=\"text-align: right;\">\n      <th></th>\n      <th>nmt_number</th>\n      <th>loc_number</th>\n      <th>start_date</th>\n      <th>start_time</th>\n      <th>duration</th>\n      <th>event_leq</th>\n      <th>event_sel</th>\n      <th>max_level</th>\n      <th>max_time</th>\n      <th>runway</th>\n      <th>sid</th>\n      <th>star</th>\n      <th>movement</th>\n      <th>fldate</th>\n    </tr>\n  </thead>\n  <tbody>\n  </tbody>\n</table>\n</div>"
     },
     "metadata": {},
     "execution_count": 476
    }
   ],
   "source": [
    "flights[flights.max_level.isnull()]"
   ]
  },
  {
   "cell_type": "code",
   "execution_count": 477,
   "metadata": {},
   "outputs": [],
   "source": [
    "night = flights[(flights.start_time > \"23:00\") | (flights.start_time < \"07:00\")]"
   ]
  },
  {
   "cell_type": "code",
   "execution_count": 478,
   "metadata": {},
   "outputs": [],
   "source": [
    "day = flights[(flights.start_time < \"23:00\") & (flights.start_time > \"07:00\")]"
   ]
  },
  {
   "cell_type": "code",
   "execution_count": 479,
   "metadata": {},
   "outputs": [
    {
     "output_type": "stream",
     "name": "stdout",
     "text": "<class 'pandas.core.frame.DataFrame'>\nInt64Index: 13539 entries, 3 to 24175\nData columns (total 14 columns):\nnmt_number    13539 non-null int64\nloc_number    13539 non-null int64\nstart_date    13539 non-null datetime64[ns]\nstart_time    13539 non-null object\nduration      13539 non-null int64\nevent_leq     13539 non-null float64\nevent_sel     13539 non-null object\nmax_level     13539 non-null float64\nmax_time      13539 non-null object\nrunway        13510 non-null object\nsid           8018 non-null object\nstar          5306 non-null object\nmovement      13533 non-null object\nfldate        13539 non-null object\ndtypes: datetime64[ns](1), float64(2), int64(3), object(8)\nmemory usage: 1.5+ MB\n"
    }
   ],
   "source": [
    "day.info()"
   ]
  },
  {
   "cell_type": "code",
   "execution_count": 480,
   "metadata": {},
   "outputs": [
    {
     "output_type": "execute_result",
     "data": {
      "text/plain": "      nmt_number  loc_number start_date start_time  duration  event_leq  \\\n3073          41           1 2020-04-09   07:09:35        35       65.2   \n3074          41           1 2020-04-09   08:42:34        48       66.9   \n\n     event_sel  max_level  max_time runway      sid star movement  \\\n3073      80,6       67.6  07:09:59    25R  DENUT6C  NaN        D   \n3074      83,7       71.3  08:43:00    25R  DENUT6C  NaN        D   \n\n                   fldate  \n3073  09/04/2020 07:08:07  \n3074  09/04/2020 08:41:00  ",
      "text/html": "<div>\n<style scoped>\n    .dataframe tbody tr th:only-of-type {\n        vertical-align: middle;\n    }\n\n    .dataframe tbody tr th {\n        vertical-align: top;\n    }\n\n    .dataframe thead th {\n        text-align: right;\n    }\n</style>\n<table border=\"1\" class=\"dataframe\">\n  <thead>\n    <tr style=\"text-align: right;\">\n      <th></th>\n      <th>nmt_number</th>\n      <th>loc_number</th>\n      <th>start_date</th>\n      <th>start_time</th>\n      <th>duration</th>\n      <th>event_leq</th>\n      <th>event_sel</th>\n      <th>max_level</th>\n      <th>max_time</th>\n      <th>runway</th>\n      <th>sid</th>\n      <th>star</th>\n      <th>movement</th>\n      <th>fldate</th>\n    </tr>\n  </thead>\n  <tbody>\n    <tr>\n      <th>3073</th>\n      <td>41</td>\n      <td>1</td>\n      <td>2020-04-09</td>\n      <td>07:09:35</td>\n      <td>35</td>\n      <td>65.2</td>\n      <td>80,6</td>\n      <td>67.6</td>\n      <td>07:09:59</td>\n      <td>25R</td>\n      <td>DENUT6C</td>\n      <td>NaN</td>\n      <td>D</td>\n      <td>09/04/2020 07:08:07</td>\n    </tr>\n    <tr>\n      <th>3074</th>\n      <td>41</td>\n      <td>1</td>\n      <td>2020-04-09</td>\n      <td>08:42:34</td>\n      <td>48</td>\n      <td>66.9</td>\n      <td>83,7</td>\n      <td>71.3</td>\n      <td>08:43:00</td>\n      <td>25R</td>\n      <td>DENUT6C</td>\n      <td>NaN</td>\n      <td>D</td>\n      <td>09/04/2020 08:41:00</td>\n    </tr>\n  </tbody>\n</table>\n</div>"
     },
     "metadata": {},
     "execution_count": 480
    }
   ],
   "source": [
    "day[(day.nmt_number == 41) & (day.start_date == \"2020-04-09\")]"
   ]
  },
  {
   "cell_type": "code",
   "execution_count": 481,
   "metadata": {},
   "outputs": [
    {
     "output_type": "stream",
     "name": "stdout",
     "text": "<class 'pandas.core.frame.DataFrame'>\nInt64Index: 2292 entries, 29 to 23867\nData columns (total 14 columns):\nnmt_number    2292 non-null int64\nloc_number    2292 non-null int64\nstart_date    2292 non-null datetime64[ns]\nstart_time    2292 non-null object\nduration      2292 non-null int64\nevent_leq     2292 non-null float64\nevent_sel     2292 non-null object\nmax_level     2292 non-null float64\nmax_time      2292 non-null object\nrunway        2284 non-null object\nsid           1578 non-null object\nstar          660 non-null object\nmovement      2289 non-null object\nfldate        2292 non-null object\ndtypes: datetime64[ns](1), float64(2), int64(3), object(8)\nmemory usage: 268.6+ KB\n"
    }
   ],
   "source": [
    "night.info()"
   ]
  },
  {
   "cell_type": "code",
   "execution_count": 482,
   "metadata": {},
   "outputs": [
    {
     "output_type": "execute_result",
     "data": {
      "text/plain": "      nmt_number  loc_number start_date start_time  duration  event_leq  \\\n3060          41           1 2020-04-09   00:10:20        36       63.2   \n3061          41           1 2020-04-09   00:30:09        29       66.9   \n3062          41           1 2020-04-09   00:57:56        25       66.0   \n3063          41           1 2020-04-09   01:31:21        27       66.6   \n3064          41           1 2020-04-09   03:04:20        32       66.7   \n3065          41           1 2020-04-09   03:10:14        36       67.7   \n3066          41           1 2020-04-09   03:20:57        18       64.0   \n3067          41           1 2020-04-09   03:22:34        21       64.7   \n3068          41           1 2020-04-09   03:55:33        24       63.6   \n3069          41           1 2020-04-09   04:24:49        13       63.9   \n3070          41           1 2020-04-09   04:32:49        21       64.2   \n3071          41           1 2020-04-09   06:19:46        45       64.6   \n3072          41           1 2020-04-09   06:29:46        31       63.1   \n\n     event_sel  max_level  max_time runway      sid star movement  \\\n3060      78,8       64.9  00:10:44    25R  DENUT6C  NaN        D   \n3061      81,5       69.9  00:30:24    25R  SOPOK6Z  NaN        D   \n3062      80,0       69.0  00:58:11    25R  DENUT6C  NaN        D   \n3063      80,9       69.6  01:31:34    25R  SOPOK6Z  NaN        D   \n3064      81,8       69.5  03:04:41    25R  DENUT6C  NaN        D   \n3065      83,3       71.8  03:10:36    25R    NIK3C  NaN        D   \n3066      76,6       65.8  03:21:05    25R  SOPOK6Z  NaN        D   \n3067      77,9       66.6  03:22:48    25R    CIV4C  NaN        D   \n3068      77,4       66.1  03:55:47    25R  HELEN6C  NaN        D   \n3069      75,0       66.1  04:24:50    25R  ROUSY5Z  NaN        D   \n3070      77,4       66.3  04:33:02    25R  PITES6Z  NaN        D   \n3071      81,1       67.0  06:20:02    25R    NIK3C  NaN        D   \n3072      78,0       65.5  06:30:05    25R    CIV4C  NaN        D   \n\n                   fldate  \n3060  09/04/2020 00:08:00  \n3061  09/04/2020 00:28:00  \n3062  09/04/2020 00:56:00  \n3063  09/04/2020 01:29:00  \n3064  09/04/2020 03:03:00  \n3065  09/04/2020 03:08:00  \n3066  09/04/2020 03:19:00  \n3067  09/04/2020 03:21:00  \n3068  09/04/2020 03:53:00  \n3069  09/04/2020 04:22:00  \n3070  09/04/2020 04:31:00  \n3071  09/04/2020 06:18:00  \n3072  09/04/2020 06:28:00  ",
      "text/html": "<div>\n<style scoped>\n    .dataframe tbody tr th:only-of-type {\n        vertical-align: middle;\n    }\n\n    .dataframe tbody tr th {\n        vertical-align: top;\n    }\n\n    .dataframe thead th {\n        text-align: right;\n    }\n</style>\n<table border=\"1\" class=\"dataframe\">\n  <thead>\n    <tr style=\"text-align: right;\">\n      <th></th>\n      <th>nmt_number</th>\n      <th>loc_number</th>\n      <th>start_date</th>\n      <th>start_time</th>\n      <th>duration</th>\n      <th>event_leq</th>\n      <th>event_sel</th>\n      <th>max_level</th>\n      <th>max_time</th>\n      <th>runway</th>\n      <th>sid</th>\n      <th>star</th>\n      <th>movement</th>\n      <th>fldate</th>\n    </tr>\n  </thead>\n  <tbody>\n    <tr>\n      <th>3060</th>\n      <td>41</td>\n      <td>1</td>\n      <td>2020-04-09</td>\n      <td>00:10:20</td>\n      <td>36</td>\n      <td>63.2</td>\n      <td>78,8</td>\n      <td>64.9</td>\n      <td>00:10:44</td>\n      <td>25R</td>\n      <td>DENUT6C</td>\n      <td>NaN</td>\n      <td>D</td>\n      <td>09/04/2020 00:08:00</td>\n    </tr>\n    <tr>\n      <th>3061</th>\n      <td>41</td>\n      <td>1</td>\n      <td>2020-04-09</td>\n      <td>00:30:09</td>\n      <td>29</td>\n      <td>66.9</td>\n      <td>81,5</td>\n      <td>69.9</td>\n      <td>00:30:24</td>\n      <td>25R</td>\n      <td>SOPOK6Z</td>\n      <td>NaN</td>\n      <td>D</td>\n      <td>09/04/2020 00:28:00</td>\n    </tr>\n    <tr>\n      <th>3062</th>\n      <td>41</td>\n      <td>1</td>\n      <td>2020-04-09</td>\n      <td>00:57:56</td>\n      <td>25</td>\n      <td>66.0</td>\n      <td>80,0</td>\n      <td>69.0</td>\n      <td>00:58:11</td>\n      <td>25R</td>\n      <td>DENUT6C</td>\n      <td>NaN</td>\n      <td>D</td>\n      <td>09/04/2020 00:56:00</td>\n    </tr>\n    <tr>\n      <th>3063</th>\n      <td>41</td>\n      <td>1</td>\n      <td>2020-04-09</td>\n      <td>01:31:21</td>\n      <td>27</td>\n      <td>66.6</td>\n      <td>80,9</td>\n      <td>69.6</td>\n      <td>01:31:34</td>\n      <td>25R</td>\n      <td>SOPOK6Z</td>\n      <td>NaN</td>\n      <td>D</td>\n      <td>09/04/2020 01:29:00</td>\n    </tr>\n    <tr>\n      <th>3064</th>\n      <td>41</td>\n      <td>1</td>\n      <td>2020-04-09</td>\n      <td>03:04:20</td>\n      <td>32</td>\n      <td>66.7</td>\n      <td>81,8</td>\n      <td>69.5</td>\n      <td>03:04:41</td>\n      <td>25R</td>\n      <td>DENUT6C</td>\n      <td>NaN</td>\n      <td>D</td>\n      <td>09/04/2020 03:03:00</td>\n    </tr>\n    <tr>\n      <th>3065</th>\n      <td>41</td>\n      <td>1</td>\n      <td>2020-04-09</td>\n      <td>03:10:14</td>\n      <td>36</td>\n      <td>67.7</td>\n      <td>83,3</td>\n      <td>71.8</td>\n      <td>03:10:36</td>\n      <td>25R</td>\n      <td>NIK3C</td>\n      <td>NaN</td>\n      <td>D</td>\n      <td>09/04/2020 03:08:00</td>\n    </tr>\n    <tr>\n      <th>3066</th>\n      <td>41</td>\n      <td>1</td>\n      <td>2020-04-09</td>\n      <td>03:20:57</td>\n      <td>18</td>\n      <td>64.0</td>\n      <td>76,6</td>\n      <td>65.8</td>\n      <td>03:21:05</td>\n      <td>25R</td>\n      <td>SOPOK6Z</td>\n      <td>NaN</td>\n      <td>D</td>\n      <td>09/04/2020 03:19:00</td>\n    </tr>\n    <tr>\n      <th>3067</th>\n      <td>41</td>\n      <td>1</td>\n      <td>2020-04-09</td>\n      <td>03:22:34</td>\n      <td>21</td>\n      <td>64.7</td>\n      <td>77,9</td>\n      <td>66.6</td>\n      <td>03:22:48</td>\n      <td>25R</td>\n      <td>CIV4C</td>\n      <td>NaN</td>\n      <td>D</td>\n      <td>09/04/2020 03:21:00</td>\n    </tr>\n    <tr>\n      <th>3068</th>\n      <td>41</td>\n      <td>1</td>\n      <td>2020-04-09</td>\n      <td>03:55:33</td>\n      <td>24</td>\n      <td>63.6</td>\n      <td>77,4</td>\n      <td>66.1</td>\n      <td>03:55:47</td>\n      <td>25R</td>\n      <td>HELEN6C</td>\n      <td>NaN</td>\n      <td>D</td>\n      <td>09/04/2020 03:53:00</td>\n    </tr>\n    <tr>\n      <th>3069</th>\n      <td>41</td>\n      <td>1</td>\n      <td>2020-04-09</td>\n      <td>04:24:49</td>\n      <td>13</td>\n      <td>63.9</td>\n      <td>75,0</td>\n      <td>66.1</td>\n      <td>04:24:50</td>\n      <td>25R</td>\n      <td>ROUSY5Z</td>\n      <td>NaN</td>\n      <td>D</td>\n      <td>09/04/2020 04:22:00</td>\n    </tr>\n    <tr>\n      <th>3070</th>\n      <td>41</td>\n      <td>1</td>\n      <td>2020-04-09</td>\n      <td>04:32:49</td>\n      <td>21</td>\n      <td>64.2</td>\n      <td>77,4</td>\n      <td>66.3</td>\n      <td>04:33:02</td>\n      <td>25R</td>\n      <td>PITES6Z</td>\n      <td>NaN</td>\n      <td>D</td>\n      <td>09/04/2020 04:31:00</td>\n    </tr>\n    <tr>\n      <th>3071</th>\n      <td>41</td>\n      <td>1</td>\n      <td>2020-04-09</td>\n      <td>06:19:46</td>\n      <td>45</td>\n      <td>64.6</td>\n      <td>81,1</td>\n      <td>67.0</td>\n      <td>06:20:02</td>\n      <td>25R</td>\n      <td>NIK3C</td>\n      <td>NaN</td>\n      <td>D</td>\n      <td>09/04/2020 06:18:00</td>\n    </tr>\n    <tr>\n      <th>3072</th>\n      <td>41</td>\n      <td>1</td>\n      <td>2020-04-09</td>\n      <td>06:29:46</td>\n      <td>31</td>\n      <td>63.1</td>\n      <td>78,0</td>\n      <td>65.5</td>\n      <td>06:30:05</td>\n      <td>25R</td>\n      <td>CIV4C</td>\n      <td>NaN</td>\n      <td>D</td>\n      <td>09/04/2020 06:28:00</td>\n    </tr>\n  </tbody>\n</table>\n</div>"
     },
     "metadata": {},
     "execution_count": 482
    }
   ],
   "source": [
    "night[(night.nmt_number == 41) & (night.start_date == \"2020-04-09\")]"
   ]
  },
  {
   "cell_type": "markdown",
   "metadata": {},
   "source": [
    "## Aantal vliegbewegingen per meetstation per dag naar maximale geluidsbelasting, overdag/snachts"
   ]
  },
  {
   "cell_type": "code",
   "execution_count": 483,
   "metadata": {},
   "outputs": [],
   "source": [
    "bins = [59, 65, 70, 75, 80, 85, 90, 95, 100, np.inf]\n",
    "labels = ['60-65', '65-70', '70-75', '75-80', '80-85', '85-90', '90-95', '95-100', 'meer dan 100']\n",
    "max_day = day.groupby([\"nmt_number\", \"start_date\", pd.cut(day['max_level'], bins=bins, labels=labels)]).size().reset_index(name=\"count\")"
   ]
  },
  {
   "cell_type": "code",
   "execution_count": 484,
   "metadata": {},
   "outputs": [
    {
     "output_type": "execute_result",
     "data": {
      "text/plain": "   nmt_number start_date max_level  count\n0           3 2020-02-24     60-65     30\n1           3 2020-02-24     65-70     88\n2           3 2020-02-24     70-75     19\n3           3 2020-02-25     60-65     37\n4           3 2020-02-25     65-70     80",
      "text/html": "<div>\n<style scoped>\n    .dataframe tbody tr th:only-of-type {\n        vertical-align: middle;\n    }\n\n    .dataframe tbody tr th {\n        vertical-align: top;\n    }\n\n    .dataframe thead th {\n        text-align: right;\n    }\n</style>\n<table border=\"1\" class=\"dataframe\">\n  <thead>\n    <tr style=\"text-align: right;\">\n      <th></th>\n      <th>nmt_number</th>\n      <th>start_date</th>\n      <th>max_level</th>\n      <th>count</th>\n    </tr>\n  </thead>\n  <tbody>\n    <tr>\n      <th>0</th>\n      <td>3</td>\n      <td>2020-02-24</td>\n      <td>60-65</td>\n      <td>30</td>\n    </tr>\n    <tr>\n      <th>1</th>\n      <td>3</td>\n      <td>2020-02-24</td>\n      <td>65-70</td>\n      <td>88</td>\n    </tr>\n    <tr>\n      <th>2</th>\n      <td>3</td>\n      <td>2020-02-24</td>\n      <td>70-75</td>\n      <td>19</td>\n    </tr>\n    <tr>\n      <th>3</th>\n      <td>3</td>\n      <td>2020-02-25</td>\n      <td>60-65</td>\n      <td>37</td>\n    </tr>\n    <tr>\n      <th>4</th>\n      <td>3</td>\n      <td>2020-02-25</td>\n      <td>65-70</td>\n      <td>80</td>\n    </tr>\n  </tbody>\n</table>\n</div>"
     },
     "metadata": {},
     "execution_count": 484
    }
   ],
   "source": [
    "max_day.head()"
   ]
  },
  {
   "cell_type": "code",
   "execution_count": 485,
   "metadata": {},
   "outputs": [
    {
     "output_type": "execute_result",
     "data": {
      "text/plain": "     nmt_number start_date max_level  count\n325          41 2020-04-09     65-70      1\n326          41 2020-04-09     70-75      1",
      "text/html": "<div>\n<style scoped>\n    .dataframe tbody tr th:only-of-type {\n        vertical-align: middle;\n    }\n\n    .dataframe tbody tr th {\n        vertical-align: top;\n    }\n\n    .dataframe thead th {\n        text-align: right;\n    }\n</style>\n<table border=\"1\" class=\"dataframe\">\n  <thead>\n    <tr style=\"text-align: right;\">\n      <th></th>\n      <th>nmt_number</th>\n      <th>start_date</th>\n      <th>max_level</th>\n      <th>count</th>\n    </tr>\n  </thead>\n  <tbody>\n    <tr>\n      <th>325</th>\n      <td>41</td>\n      <td>2020-04-09</td>\n      <td>65-70</td>\n      <td>1</td>\n    </tr>\n    <tr>\n      <th>326</th>\n      <td>41</td>\n      <td>2020-04-09</td>\n      <td>70-75</td>\n      <td>1</td>\n    </tr>\n  </tbody>\n</table>\n</div>"
     },
     "metadata": {},
     "execution_count": 485
    }
   ],
   "source": [
    "max_day[(max_day.nmt_number == 41) & (max_day.start_date == '2020-04-09')]"
   ]
  },
  {
   "cell_type": "code",
   "execution_count": 486,
   "metadata": {},
   "outputs": [],
   "source": [
    "max_day.to_csv('vliegbewegingen_overdag.csv', index=False, sep=';')"
   ]
  },
  {
   "cell_type": "code",
   "execution_count": 487,
   "metadata": {},
   "outputs": [],
   "source": [
    "max_night = night.groupby([\"nmt_number\", \"start_date\", pd.cut(night['max_level'], bins=bins, labels=labels)]).size().reset_index(name=\"count\")"
   ]
  },
  {
   "cell_type": "code",
   "execution_count": 488,
   "metadata": {},
   "outputs": [
    {
     "output_type": "execute_result",
     "data": {
      "text/plain": "   nmt_number start_date max_level  count\n0           3 2020-02-24     60-65      1\n1           3 2020-02-24     65-70      7\n2           3 2020-02-25     65-70      8\n3           3 2020-02-25     70-75      5\n4           3 2020-02-25     75-80      1",
      "text/html": "<div>\n<style scoped>\n    .dataframe tbody tr th:only-of-type {\n        vertical-align: middle;\n    }\n\n    .dataframe tbody tr th {\n        vertical-align: top;\n    }\n\n    .dataframe thead th {\n        text-align: right;\n    }\n</style>\n<table border=\"1\" class=\"dataframe\">\n  <thead>\n    <tr style=\"text-align: right;\">\n      <th></th>\n      <th>nmt_number</th>\n      <th>start_date</th>\n      <th>max_level</th>\n      <th>count</th>\n    </tr>\n  </thead>\n  <tbody>\n    <tr>\n      <th>0</th>\n      <td>3</td>\n      <td>2020-02-24</td>\n      <td>60-65</td>\n      <td>1</td>\n    </tr>\n    <tr>\n      <th>1</th>\n      <td>3</td>\n      <td>2020-02-24</td>\n      <td>65-70</td>\n      <td>7</td>\n    </tr>\n    <tr>\n      <th>2</th>\n      <td>3</td>\n      <td>2020-02-25</td>\n      <td>65-70</td>\n      <td>8</td>\n    </tr>\n    <tr>\n      <th>3</th>\n      <td>3</td>\n      <td>2020-02-25</td>\n      <td>70-75</td>\n      <td>5</td>\n    </tr>\n    <tr>\n      <th>4</th>\n      <td>3</td>\n      <td>2020-02-25</td>\n      <td>75-80</td>\n      <td>1</td>\n    </tr>\n  </tbody>\n</table>\n</div>"
     },
     "metadata": {},
     "execution_count": 488
    }
   ],
   "source": [
    "max_night.head()"
   ]
  },
  {
   "cell_type": "code",
   "execution_count": 489,
   "metadata": {},
   "outputs": [],
   "source": [
    "max_night.to_csv('vliegbewegingen_snachts.csv', index=False, sep=';')"
   ]
  },
  {
   "cell_type": "markdown",
   "metadata": {},
   "source": [
    "## Gemiddeld maximaal geluid per meetstation per dag, overdag/snachts"
   ]
  },
  {
   "cell_type": "code",
   "execution_count": 490,
   "metadata": {},
   "outputs": [],
   "source": [
    "overdag = day[[\"nmt_number\", \"start_date\", \"duration\", \"event_leq\"]]"
   ]
  },
  {
   "cell_type": "code",
   "execution_count": 491,
   "metadata": {},
   "outputs": [],
   "source": [
    "overdag.event_leq = overdag.event_leq.astype(str).str.replace('.', ',')"
   ]
  },
  {
   "cell_type": "code",
   "execution_count": 492,
   "metadata": {},
   "outputs": [
    {
     "output_type": "execute_result",
     "data": {
      "text/plain": "   nmt_number start_date  duration event_leq\n3          40 2020-03-11        19      63,4\n4          40 2020-03-11        17      64,0\n5          40 2020-03-11        20      65,0\n6          40 2020-03-11        21      63,2\n8          40 2020-03-11        43      68,1",
      "text/html": "<div>\n<style scoped>\n    .dataframe tbody tr th:only-of-type {\n        vertical-align: middle;\n    }\n\n    .dataframe tbody tr th {\n        vertical-align: top;\n    }\n\n    .dataframe thead th {\n        text-align: right;\n    }\n</style>\n<table border=\"1\" class=\"dataframe\">\n  <thead>\n    <tr style=\"text-align: right;\">\n      <th></th>\n      <th>nmt_number</th>\n      <th>start_date</th>\n      <th>duration</th>\n      <th>event_leq</th>\n    </tr>\n  </thead>\n  <tbody>\n    <tr>\n      <th>3</th>\n      <td>40</td>\n      <td>2020-03-11</td>\n      <td>19</td>\n      <td>63,4</td>\n    </tr>\n    <tr>\n      <th>4</th>\n      <td>40</td>\n      <td>2020-03-11</td>\n      <td>17</td>\n      <td>64,0</td>\n    </tr>\n    <tr>\n      <th>5</th>\n      <td>40</td>\n      <td>2020-03-11</td>\n      <td>20</td>\n      <td>65,0</td>\n    </tr>\n    <tr>\n      <th>6</th>\n      <td>40</td>\n      <td>2020-03-11</td>\n      <td>21</td>\n      <td>63,2</td>\n    </tr>\n    <tr>\n      <th>8</th>\n      <td>40</td>\n      <td>2020-03-11</td>\n      <td>43</td>\n      <td>68,1</td>\n    </tr>\n  </tbody>\n</table>\n</div>"
     },
     "metadata": {},
     "execution_count": 492
    }
   ],
   "source": [
    "overdag.head()"
   ]
  },
  {
   "cell_type": "code",
   "execution_count": 493,
   "metadata": {},
   "outputs": [],
   "source": [
    "overdag.to_csv('geluid_overdag.csv', index=False, sep=';')"
   ]
  },
  {
   "cell_type": "code",
   "execution_count": 494,
   "metadata": {},
   "outputs": [],
   "source": [
    "snachts = night[[\"nmt_number\", \"start_date\", \"duration\", \"event_leq\"]]"
   ]
  },
  {
   "cell_type": "code",
   "execution_count": 495,
   "metadata": {},
   "outputs": [],
   "source": [
    "snachts.event_leq = snachts.event_leq.astype(str).str.replace('.', ',')"
   ]
  },
  {
   "cell_type": "code",
   "execution_count": 496,
   "metadata": {},
   "outputs": [
    {
     "output_type": "execute_result",
     "data": {
      "text/plain": "    nmt_number start_date  duration event_leq\n29          40 2020-03-11        46      65,9\n30          40 2020-03-11        67      65,4\n31          40 2020-03-12        42      64,6\n32          40 2020-03-12        31      65,6\n34          40 2020-03-12        41      66,3",
      "text/html": "<div>\n<style scoped>\n    .dataframe tbody tr th:only-of-type {\n        vertical-align: middle;\n    }\n\n    .dataframe tbody tr th {\n        vertical-align: top;\n    }\n\n    .dataframe thead th {\n        text-align: right;\n    }\n</style>\n<table border=\"1\" class=\"dataframe\">\n  <thead>\n    <tr style=\"text-align: right;\">\n      <th></th>\n      <th>nmt_number</th>\n      <th>start_date</th>\n      <th>duration</th>\n      <th>event_leq</th>\n    </tr>\n  </thead>\n  <tbody>\n    <tr>\n      <th>29</th>\n      <td>40</td>\n      <td>2020-03-11</td>\n      <td>46</td>\n      <td>65,9</td>\n    </tr>\n    <tr>\n      <th>30</th>\n      <td>40</td>\n      <td>2020-03-11</td>\n      <td>67</td>\n      <td>65,4</td>\n    </tr>\n    <tr>\n      <th>31</th>\n      <td>40</td>\n      <td>2020-03-12</td>\n      <td>42</td>\n      <td>64,6</td>\n    </tr>\n    <tr>\n      <th>32</th>\n      <td>40</td>\n      <td>2020-03-12</td>\n      <td>31</td>\n      <td>65,6</td>\n    </tr>\n    <tr>\n      <th>34</th>\n      <td>40</td>\n      <td>2020-03-12</td>\n      <td>41</td>\n      <td>66,3</td>\n    </tr>\n  </tbody>\n</table>\n</div>"
     },
     "metadata": {},
     "execution_count": 496
    }
   ],
   "source": [
    "snachts.head()"
   ]
  },
  {
   "cell_type": "code",
   "execution_count": 497,
   "metadata": {},
   "outputs": [],
   "source": [
    "snachts.to_csv('geluids_snachts.csv', index=False, sep=';')"
   ]
  },
  {
   "cell_type": "markdown",
   "metadata": {},
   "source": [
    "## Aantal metingen per meetstation per dag"
   ]
  },
  {
   "cell_type": "code",
   "execution_count": 498,
   "metadata": {},
   "outputs": [],
   "source": [
    "dag_aantal = overdag.groupby(['nmt_number', 'start_date']).event_leq.count().reset_index()"
   ]
  },
  {
   "cell_type": "code",
   "execution_count": 499,
   "metadata": {},
   "outputs": [],
   "source": [
    "dag_aantal.to_csv('metingen_dag.csv', index=False, sep=';')"
   ]
  },
  {
   "cell_type": "code",
   "execution_count": 500,
   "metadata": {},
   "outputs": [],
   "source": [
    "nacht_aantal = snachts.groupby(['nmt_number', 'start_date']).event_leq.count().reset_index()"
   ]
  },
  {
   "cell_type": "code",
   "execution_count": 501,
   "metadata": {},
   "outputs": [],
   "source": [
    "nacht_aantal.to_csv('metingen_nacht.csv', index=False, sep=';')"
   ]
  },
  {
   "cell_type": "code",
   "execution_count": null,
   "metadata": {},
   "outputs": [],
   "source": []
  }
 ]
}