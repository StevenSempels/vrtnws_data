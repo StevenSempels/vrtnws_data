{
 "nbformat": 4,
 "nbformat_minor": 2,
 "metadata": {
  "language_info": {
   "name": "python",
   "codemirror_mode": {
    "name": "ipython",
    "version": 3
   },
   "version": "3.7.4-final"
  },
  "orig_nbformat": 2,
  "file_extension": ".py",
  "mimetype": "text/x-python",
  "name": "python",
  "npconvert_exporter": "python",
  "pygments_lexer": "ipython3",
  "version": 3,
  "kernelspec": {
   "name": "python37464bitvrtnwsdatapipenv8fdc1237a3b944719c2b0d956b212a6e",
   "display_name": "Python 3.7.4 64-bit ('vrtnws_data': pipenv)"
  }
 },
 "cells": [
  {
   "cell_type": "code",
   "execution_count": 1,
   "metadata": {},
   "outputs": [],
   "source": [
    "import pandas as pd \n",
    "import pyreadstat"
   ]
  },
  {
   "cell_type": "code",
   "execution_count": 6,
   "metadata": {},
   "outputs": [],
   "source": [
    "df, meta = pyreadstat.read_sav('Sluikstorters_bestand.sav')"
   ]
  },
  {
   "cell_type": "code",
   "execution_count": 7,
   "metadata": {},
   "outputs": [
    {
     "output_type": "stream",
     "name": "stdout",
     "text": "<class 'pandas.core.frame.DataFrame'>\nRangeIndex: 1535 entries, 0 to 1534\nData columns (total 18 columns):\nGeboortedatumindatumformaat             1535 non-null float64\nMinderjarigomschrijving                 1535 non-null object\nGeslachtomschrijving                    1535 non-null object\nNationaliteit                           1404 non-null object\nGemeenteovertreder                      1465 non-null object\nLandovertreder                          1468 non-null object\nNISwijkcodewoonplaatsovertreder         1531 non-null object\nNISwijknaamwoonplaatsovertreder         1531 non-null object\nGemeentePVO                             1535 non-null object\nNIScodePVO                              1349 non-null object\nNISnaamPVO                              1349 non-null object\nAantalGASpvsVervuilenopenbarewegooit    1535 non-null float64\nGeboortejaar                            1535 non-null float64\nLeeftijd                                1535 non-null float64\nWoonplaats_stortplaats                  1535 non-null float64\nLeeftijd_cat                            1535 non-null float64\nAantal_boetes                           1535 non-null float64\nfilter_$                                1535 non-null float64\ndtypes: float64(8), object(10)\nmemory usage: 216.0+ KB\n"
    }
   ],
   "source": [
    "df.info()"
   ]
  },
  {
   "cell_type": "code",
   "execution_count": 8,
   "metadata": {},
   "outputs": [
    {
     "output_type": "execute_result",
     "data": {
      "text/plain": "   Geboortedatumindatumformaat Minderjarigomschrijving Geslachtomschrijving  \\\n0                 1.196700e+10            Meerderjarig                    M   \n1                 1.099423e+10            Meerderjarig                    M   \n2                 1.174988e+10            Meerderjarig                    V   \n3                 1.159082e+10            Meerderjarig                    V   \n4                 1.185745e+10            Meerderjarig                    M   \n\n  Nationaliteit Gemeenteovertreder Landovertreder  \\\n0       Turkije          Antwerpen         België   \n1        België          Antwerpen         België   \n2        België          Antwerpen         België   \n3        België          Antwerpen         België   \n4        België          Antwerpen         België   \n\n  NISwijkcodewoonplaatsovertreder NISwijknaamwoonplaatsovertreder GemeentePVO  \\\n0                            C41-     DAMBRUGGESTR-N.(STATIONSW.)   Antwerpen   \n1                            S04-                        HET LAAR   Antwerpen   \n2                            H44-    STUIVENBERGPLEIN (NOORDWIJK)   Antwerpen   \n3                            J83-        DUBOISSTRAAT (NOORDWIJK)   Antwerpen   \n4                            H83-    SLACHTHUISWIJK (DAM-SCHIJNP)   Antwerpen   \n\n  NIScodePVO                      NISnaamPVO  \\\n0       C41-     DAMBRUGGESTR-N.(STATIONSW.)   \n1       S31-                        ST.-ANNA   \n2       H44-    STUIVENBERGPLEIN (NOORDWIJK)   \n3       H43-  ST.-JANSPLEIN-TRAPSTR.(N.WIJK)   \n4       H83-    SLACHTHUISWIJK (DAM-SCHIJNP)   \n\n   AantalGASpvsVervuilenopenbarewegooit  Geboortejaar  Leeftijd  \\\n0                                   4.0        1962.0      54.0   \n1                                   1.0        1931.0      85.0   \n2                                   2.0        1955.0      61.0   \n3                                   1.0        1950.0      66.0   \n4                                   2.0        1958.0      58.0   \n\n   Woonplaats_stortplaats  Leeftijd_cat  Aantal_boetes  filter_$  \n0                     1.0           4.0            2.0       1.0  \n1                     0.0           5.0            1.0       0.0  \n2                     1.0           5.0            2.0       1.0  \n3                     0.0           5.0            1.0       0.0  \n4                     1.0           5.0            2.0       1.0  ",
      "text/html": "<div>\n<style scoped>\n    .dataframe tbody tr th:only-of-type {\n        vertical-align: middle;\n    }\n\n    .dataframe tbody tr th {\n        vertical-align: top;\n    }\n\n    .dataframe thead th {\n        text-align: right;\n    }\n</style>\n<table border=\"1\" class=\"dataframe\">\n  <thead>\n    <tr style=\"text-align: right;\">\n      <th></th>\n      <th>Geboortedatumindatumformaat</th>\n      <th>Minderjarigomschrijving</th>\n      <th>Geslachtomschrijving</th>\n      <th>Nationaliteit</th>\n      <th>Gemeenteovertreder</th>\n      <th>Landovertreder</th>\n      <th>NISwijkcodewoonplaatsovertreder</th>\n      <th>NISwijknaamwoonplaatsovertreder</th>\n      <th>GemeentePVO</th>\n      <th>NIScodePVO</th>\n      <th>NISnaamPVO</th>\n      <th>AantalGASpvsVervuilenopenbarewegooit</th>\n      <th>Geboortejaar</th>\n      <th>Leeftijd</th>\n      <th>Woonplaats_stortplaats</th>\n      <th>Leeftijd_cat</th>\n      <th>Aantal_boetes</th>\n      <th>filter_$</th>\n    </tr>\n  </thead>\n  <tbody>\n    <tr>\n      <th>0</th>\n      <td>1.196700e+10</td>\n      <td>Meerderjarig</td>\n      <td>M</td>\n      <td>Turkije</td>\n      <td>Antwerpen</td>\n      <td>België</td>\n      <td>C41-</td>\n      <td>DAMBRUGGESTR-N.(STATIONSW.)</td>\n      <td>Antwerpen</td>\n      <td>C41-</td>\n      <td>DAMBRUGGESTR-N.(STATIONSW.)</td>\n      <td>4.0</td>\n      <td>1962.0</td>\n      <td>54.0</td>\n      <td>1.0</td>\n      <td>4.0</td>\n      <td>2.0</td>\n      <td>1.0</td>\n    </tr>\n    <tr>\n      <th>1</th>\n      <td>1.099423e+10</td>\n      <td>Meerderjarig</td>\n      <td>M</td>\n      <td>België</td>\n      <td>Antwerpen</td>\n      <td>België</td>\n      <td>S04-</td>\n      <td>HET LAAR</td>\n      <td>Antwerpen</td>\n      <td>S31-</td>\n      <td>ST.-ANNA</td>\n      <td>1.0</td>\n      <td>1931.0</td>\n      <td>85.0</td>\n      <td>0.0</td>\n      <td>5.0</td>\n      <td>1.0</td>\n      <td>0.0</td>\n    </tr>\n    <tr>\n      <th>2</th>\n      <td>1.174988e+10</td>\n      <td>Meerderjarig</td>\n      <td>V</td>\n      <td>België</td>\n      <td>Antwerpen</td>\n      <td>België</td>\n      <td>H44-</td>\n      <td>STUIVENBERGPLEIN (NOORDWIJK)</td>\n      <td>Antwerpen</td>\n      <td>H44-</td>\n      <td>STUIVENBERGPLEIN (NOORDWIJK)</td>\n      <td>2.0</td>\n      <td>1955.0</td>\n      <td>61.0</td>\n      <td>1.0</td>\n      <td>5.0</td>\n      <td>2.0</td>\n      <td>1.0</td>\n    </tr>\n    <tr>\n      <th>3</th>\n      <td>1.159082e+10</td>\n      <td>Meerderjarig</td>\n      <td>V</td>\n      <td>België</td>\n      <td>Antwerpen</td>\n      <td>België</td>\n      <td>J83-</td>\n      <td>DUBOISSTRAAT (NOORDWIJK)</td>\n      <td>Antwerpen</td>\n      <td>H43-</td>\n      <td>ST.-JANSPLEIN-TRAPSTR.(N.WIJK)</td>\n      <td>1.0</td>\n      <td>1950.0</td>\n      <td>66.0</td>\n      <td>0.0</td>\n      <td>5.0</td>\n      <td>1.0</td>\n      <td>0.0</td>\n    </tr>\n    <tr>\n      <th>4</th>\n      <td>1.185745e+10</td>\n      <td>Meerderjarig</td>\n      <td>M</td>\n      <td>België</td>\n      <td>Antwerpen</td>\n      <td>België</td>\n      <td>H83-</td>\n      <td>SLACHTHUISWIJK (DAM-SCHIJNP)</td>\n      <td>Antwerpen</td>\n      <td>H83-</td>\n      <td>SLACHTHUISWIJK (DAM-SCHIJNP)</td>\n      <td>2.0</td>\n      <td>1958.0</td>\n      <td>58.0</td>\n      <td>1.0</td>\n      <td>5.0</td>\n      <td>2.0</td>\n      <td>1.0</td>\n    </tr>\n  </tbody>\n</table>\n</div>"
     },
     "metadata": {},
     "execution_count": 8
    }
   ],
   "source": [
    "df.head()"
   ]
  },
  {
   "cell_type": "code",
   "execution_count": 9,
   "metadata": {},
   "outputs": [],
   "source": [
    "df, meta = pyreadstat.read_sav('Sluikstortmeldingen.sav')"
   ]
  },
  {
   "cell_type": "code",
   "execution_count": 11,
   "metadata": {},
   "outputs": [
    {
     "output_type": "stream",
     "name": "stdout",
     "text": "<class 'pandas.core.frame.DataFrame'>\nRangeIndex: 105 entries, 0 to 104\nData columns (total 13 columns):\nMaand                       105 non-null float64\nProperheid_stad             105 non-null float64\nProperheid_straat           105 non-null float64\nOverlast_rommel             105 non-null float64\nSluikstortmeldingen         105 non-null float64\nOpruimmelingen              105 non-null float64\nstad_nietproper_aantal      105 non-null float64\nstad_proper_aantal          105 non-null float64\nstraat_nietproper_aantal    105 non-null float64\nstraat_proper_aantal        105 non-null float64\nrommel_geenoverlast         105 non-null float64\nrommel_overlast             105 non-null float64\nfilter_$                    105 non-null float64\ndtypes: float64(13)\nmemory usage: 10.8 KB\n"
    }
   ],
   "source": [
    "df.info()"
   ]
  },
  {
   "cell_type": "code",
   "execution_count": 12,
   "metadata": {},
   "outputs": [
    {
     "output_type": "execute_result",
     "data": {
      "text/plain": "      Maand  Properheid_stad  Properheid_straat  Overlast_rommel  \\\n0  200912.0         0.457494           0.319529         0.521858   \n1  201001.0         0.432096           0.309928         0.483517   \n2  201002.0         0.466939           0.331269         0.552349   \n3  201003.0         0.467107           0.298364         0.510931   \n4  201004.0         0.411560           0.259840         0.512218   \n\n   Sluikstortmeldingen  Opruimmelingen  stad_nietproper_aantal  \\\n0               1061.0          1579.0                   174.0   \n1               1069.0          1702.0                   126.0   \n2                938.0          1506.0                   216.0   \n3               1144.0          1836.0                   241.0   \n4               1421.0          2100.0                   184.0   \n\n   stad_proper_aantal  straat_nietproper_aantal  straat_proper_aantal  \\\n0               206.0                     121.0                 258.0   \n1               165.0                      90.0                 201.0   \n2               246.0                     153.0                 309.0   \n3               275.0                     154.0                 361.0   \n4               263.0                     117.0                 332.0   \n\n   rommel_geenoverlast  rommel_overlast  filter_$  \n0                177.0            193.0       0.0  \n1                149.0            140.0       0.0  \n2                203.0            251.0       0.0  \n3                249.0            260.0       0.0  \n4                218.0            228.0       0.0  ",
      "text/html": "<div>\n<style scoped>\n    .dataframe tbody tr th:only-of-type {\n        vertical-align: middle;\n    }\n\n    .dataframe tbody tr th {\n        vertical-align: top;\n    }\n\n    .dataframe thead th {\n        text-align: right;\n    }\n</style>\n<table border=\"1\" class=\"dataframe\">\n  <thead>\n    <tr style=\"text-align: right;\">\n      <th></th>\n      <th>Maand</th>\n      <th>Properheid_stad</th>\n      <th>Properheid_straat</th>\n      <th>Overlast_rommel</th>\n      <th>Sluikstortmeldingen</th>\n      <th>Opruimmelingen</th>\n      <th>stad_nietproper_aantal</th>\n      <th>stad_proper_aantal</th>\n      <th>straat_nietproper_aantal</th>\n      <th>straat_proper_aantal</th>\n      <th>rommel_geenoverlast</th>\n      <th>rommel_overlast</th>\n      <th>filter_$</th>\n    </tr>\n  </thead>\n  <tbody>\n    <tr>\n      <th>0</th>\n      <td>200912.0</td>\n      <td>0.457494</td>\n      <td>0.319529</td>\n      <td>0.521858</td>\n      <td>1061.0</td>\n      <td>1579.0</td>\n      <td>174.0</td>\n      <td>206.0</td>\n      <td>121.0</td>\n      <td>258.0</td>\n      <td>177.0</td>\n      <td>193.0</td>\n      <td>0.0</td>\n    </tr>\n    <tr>\n      <th>1</th>\n      <td>201001.0</td>\n      <td>0.432096</td>\n      <td>0.309928</td>\n      <td>0.483517</td>\n      <td>1069.0</td>\n      <td>1702.0</td>\n      <td>126.0</td>\n      <td>165.0</td>\n      <td>90.0</td>\n      <td>201.0</td>\n      <td>149.0</td>\n      <td>140.0</td>\n      <td>0.0</td>\n    </tr>\n    <tr>\n      <th>2</th>\n      <td>201002.0</td>\n      <td>0.466939</td>\n      <td>0.331269</td>\n      <td>0.552349</td>\n      <td>938.0</td>\n      <td>1506.0</td>\n      <td>216.0</td>\n      <td>246.0</td>\n      <td>153.0</td>\n      <td>309.0</td>\n      <td>203.0</td>\n      <td>251.0</td>\n      <td>0.0</td>\n    </tr>\n    <tr>\n      <th>3</th>\n      <td>201003.0</td>\n      <td>0.467107</td>\n      <td>0.298364</td>\n      <td>0.510931</td>\n      <td>1144.0</td>\n      <td>1836.0</td>\n      <td>241.0</td>\n      <td>275.0</td>\n      <td>154.0</td>\n      <td>361.0</td>\n      <td>249.0</td>\n      <td>260.0</td>\n      <td>0.0</td>\n    </tr>\n    <tr>\n      <th>4</th>\n      <td>201004.0</td>\n      <td>0.411560</td>\n      <td>0.259840</td>\n      <td>0.512218</td>\n      <td>1421.0</td>\n      <td>2100.0</td>\n      <td>184.0</td>\n      <td>263.0</td>\n      <td>117.0</td>\n      <td>332.0</td>\n      <td>218.0</td>\n      <td>228.0</td>\n      <td>0.0</td>\n    </tr>\n  </tbody>\n</table>\n</div>"
     },
     "metadata": {},
     "execution_count": 12
    }
   ],
   "source": [
    "df.head()"
   ]
  },
  {
   "cell_type": "code",
   "execution_count": null,
   "metadata": {},
   "outputs": [],
   "source": []
  }
 ]
}