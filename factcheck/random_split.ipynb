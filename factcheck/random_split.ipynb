{
 "nbformat": 4,
 "nbformat_minor": 2,
 "metadata": {
  "language_info": {
   "name": "python",
   "codemirror_mode": {
    "name": "ipython",
    "version": 3
   },
   "version": "3.7.4-final"
  },
  "orig_nbformat": 2,
  "file_extension": ".py",
  "mimetype": "text/x-python",
  "name": "python",
  "npconvert_exporter": "python",
  "pygments_lexer": "ipython3",
  "version": 3,
  "kernelspec": {
   "name": "python37464bitvrtnwsdatapipenv8fdc1237a3b944719c2b0d956b212a6e",
   "display_name": "Python 3.7.4 64-bit ('vrtnws_data': pipenv)"
  }
 },
 "cells": [
  {
   "cell_type": "code",
   "execution_count": 1,
   "metadata": {},
   "outputs": [],
   "source": [
    "import pandas as pd"
   ]
  },
  {
   "cell_type": "code",
   "execution_count": 3,
   "metadata": {},
   "outputs": [],
   "source": [
    "df = pd.read_csv('../tweets.csv')"
   ]
  },
  {
   "cell_type": "code",
   "execution_count": 5,
   "metadata": {},
   "outputs": [
    {
     "name": "stdout",
     "output_type": "stream",
     "text": "<class 'pandas.core.frame.DataFrame'>\nRangeIndex: 23905 entries, 0 to 23904\nData columns (total 34 columns):\nid                 23905 non-null int64\nconversation_id    23905 non-null int64\ncreated_at         23905 non-null int64\ndate               23905 non-null object\ntime               23905 non-null object\ntimezone           23905 non-null object\nuser_id            23905 non-null int64\nusername           23905 non-null object\nname               23905 non-null object\nplace              187 non-null object\ntweet              23905 non-null object\nmentions           23905 non-null object\nurls               23905 non-null object\nphotos             23905 non-null object\nreplies_count      23905 non-null int64\nretweets_count     23905 non-null int64\nlikes_count        23905 non-null int64\nhashtags           23905 non-null object\ncashtags           23905 non-null object\nlink               23905 non-null object\nretweet            23905 non-null bool\nquote_url          3717 non-null object\nvideo              23905 non-null int64\nnear               0 non-null float64\ngeo                0 non-null float64\nsource             0 non-null float64\nuser_rt_id         0 non-null float64\nuser_rt            0 non-null float64\nretweet_id         0 non-null float64\nreply_to           23905 non-null object\nretweet_date       0 non-null float64\ntranslate          0 non-null float64\ntrans_src          0 non-null float64\ntrans_dest         0 non-null float64\ndtypes: bool(1), float64(10), int64(8), object(15)\nmemory usage: 6.0+ MB\n"
    }
   ],
   "source": [
    "df.info()"
   ]
  },
  {
   "cell_type": "code",
   "execution_count": 6,
   "metadata": {},
   "outputs": [
    {
     "data": {
      "text/html": "<div>\n<style scoped>\n    .dataframe tbody tr th:only-of-type {\n        vertical-align: middle;\n    }\n\n    .dataframe tbody tr th {\n        vertical-align: top;\n    }\n\n    .dataframe thead th {\n        text-align: right;\n    }\n</style>\n<table border=\"1\" class=\"dataframe\">\n  <thead>\n    <tr style=\"text-align: right;\">\n      <th></th>\n      <th>username</th>\n      <th>tweet</th>\n    </tr>\n  </thead>\n  <tbody>\n    <tr>\n      <th>0</th>\n      <td>axel_ronse</td>\n      <td>Wat is er in godsnaam mis met dividenden? Wie ...</td>\n    </tr>\n    <tr>\n      <th>1</th>\n      <td>axel_ronse</td>\n      <td>Een cadeautje van de schoonmoeder, altijd geva...</td>\n    </tr>\n    <tr>\n      <th>2</th>\n      <td>axel_ronse</td>\n      <td>maar je zus betaalt mss ook de helft van het c...</td>\n    </tr>\n    <tr>\n      <th>3</th>\n      <td>axel_ronse</td>\n      <td>Ik geef je alvast 5 frank 👌</td>\n    </tr>\n    <tr>\n      <th>4</th>\n      <td>axel_ronse</td>\n      <td>Altijd zo zuur. Ik hoop dat de feestdagen je d...</td>\n    </tr>\n  </tbody>\n</table>\n</div>",
      "text/plain": "     username                                              tweet\n0  axel_ronse  Wat is er in godsnaam mis met dividenden? Wie ...\n1  axel_ronse  Een cadeautje van de schoonmoeder, altijd geva...\n2  axel_ronse  maar je zus betaalt mss ook de helft van het c...\n3  axel_ronse                        Ik geef je alvast 5 frank 👌\n4  axel_ronse  Altijd zo zuur. Ik hoop dat de feestdagen je d..."
     },
     "execution_count": 6,
     "metadata": {},
     "output_type": "execute_result"
    }
   ],
   "source": [
    "df[['username', 'tweet']].head(5)"
   ]
  },
  {
   "cell_type": "code",
   "execution_count": 7,
   "metadata": {},
   "outputs": [],
   "source": [
    "tweets = df[['username', 'tweet']]"
   ]
  },
  {
   "cell_type": "code",
   "execution_count": 8,
   "metadata": {},
   "outputs": [],
   "source": [
    "tweets.to_csv('tweets_set.csv', index=False)"
   ]
  },
  {
   "cell_type": "code",
   "execution_count": 9,
   "metadata": {},
   "outputs": [],
   "source": [
    "from sklearn.model_selection import train_test_split"
   ]
  },
  {
   "cell_type": "code",
   "execution_count": 16,
   "metadata": {},
   "outputs": [],
   "source": [
    "train, test = train_test_split(tweets, test_size=0.5)"
   ]
  },
  {
   "cell_type": "code",
   "execution_count": 22,
   "metadata": {},
   "outputs": [],
   "source": [
    "train.to_csv('train_set.csv', index=False)"
   ]
  },
  {
   "cell_type": "code",
   "execution_count": 23,
   "metadata": {},
   "outputs": [],
   "source": [
    "test.to_csv('test_set.csv', index=False)"
   ]
  },
  {
   "cell_type": "code",
   "execution_count": null,
   "metadata": {},
   "outputs": [],
   "source": []
  }
 ]
}