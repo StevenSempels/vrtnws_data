{
 "nbformat": 4,
 "nbformat_minor": 2,
 "metadata": {
  "language_info": {
   "name": "python",
   "codemirror_mode": {
    "name": "ipython",
    "version": 3
   }
  },
  "orig_nbformat": 2,
  "file_extension": ".py",
  "mimetype": "text/x-python",
  "name": "python",
  "npconvert_exporter": "python",
  "pygments_lexer": "ipython3",
  "version": 3
 },
 "cells": [
  {
   "cell_type": "code",
   "execution_count": 1,
   "metadata": {},
   "outputs": [
    {
     "name": "stderr",
     "output_type": "stream",
     "text": "/Users/fmeijer/anaconda3/lib/python3.7/site-packages/IPython/core/interactiveshell.py:3057: DtypeWarning: Columns (4,31,33,61,62,63,70,76,79,90,92,94,96,101,107,112,114,115,117,118,119,121) have mixed types. Specify dtype option on import or set low_memory=False.\n  interactivity=interactivity, compiler=compiler, result=result)\n"
    }
   ],
   "source": [
    "import pandas as pd \n",
    "terrorism = pd.read_csv('terrorism/terrorism.csv', sep=';')\n",
    "terrorism.columns = terrorism.columns.str.strip().str.lower().str.replace(' ', '_').str.replace('(', '').str.replace(')', '').str.replace('-', '')"
   ]
  },
  {
   "cell_type": "code",
   "execution_count": 2,
   "metadata": {},
   "outputs": [
    {
     "name": "stdout",
     "output_type": "stream",
     "text": "<class 'pandas.core.frame.DataFrame'>\nRangeIndex: 191464 entries, 0 to 191463\nData columns (total 135 columns):\neventid               int64\niyear                 int64\nimonth                int64\niday                  int64\napproxdate            object\nextended              int64\nresolution            object\ncountry               int64\ncountry_txt           object\nregion                int64\nregion_txt            object\nprovstate             object\ncity                  object\nlatitude              object\nlongitude             object\nspecificity           float64\nvicinity              int64\nlocation              object\nsummary               object\ncrit1                 int64\ncrit2                 int64\ncrit3                 int64\ndoubtterr             int64\nalternative           float64\nalternative_txt       object\nmultiple              int64\nsuccess               int64\nsuicide               int64\nattacktype1           int64\nattacktype1_txt       object\nattacktype2           float64\nattacktype2_txt       object\nattacktype3           float64\nattacktype3_txt       object\ntargtype1             int64\ntargtype1_txt         object\ntargsubtype1          float64\ntargsubtype1_txt      object\ncorp1                 object\ntarget1               object\nnatlty1               float64\nnatlty1_txt           object\ntargtype2             float64\ntargtype2_txt         object\ntargsubtype2          float64\ntargsubtype2_txt      object\ncorp2                 object\ntarget2               object\nnatlty2               float64\nnatlty2_txt           object\ntargtype3             float64\ntargtype3_txt         object\ntargsubtype3          float64\ntargsubtype3_txt      object\ncorp3                 object\ntarget3               object\nnatlty3               float64\nnatlty3_txt           object\ngname                 object\ngsubname              object\ngname2                object\ngsubname2             object\ngname3                object\ngsubname3             object\nmotive                object\nguncertain1           float64\nguncertain2           float64\nguncertain3           float64\nindividual            int64\nnperps                float64\nnperpcap              object\nclaimed               float64\nclaimmode             float64\nclaimmode_txt         object\nclaim2                float64\nclaimmode2            float64\nclaimmode2_txt        object\nclaim3                float64\nclaimmode3            float64\nclaimmode3_txt        object\ncompclaim             float64\nweaptype1             int64\nweaptype1_txt         object\nweapsubtype1          float64\nweapsubtype1_txt      object\nweaptype2             float64\nweaptype2_txt         object\nweapsubtype2          float64\nweapsubtype2_txt      object\nweaptype3             float64\nweaptype3_txt         object\nweapsubtype3          float64\nweapsubtype3_txt      object\nweaptype4             float64\nweaptype4_txt         object\nweapsubtype4          float64\nweapsubtype4_txt      object\nweapdetail            object\nnkill                 float64\nnkillus               float64\nnkillter              float64\nnwound                object\nnwoundus              float64\nnwoundte              float64\nproperty              int64\npropextent            float64\npropextent_txt        object\npropvalue             object\npropcomment           object\nishostkid             float64\nnhostkid              float64\nnhostkidus            float64\nnhours                object\nndays                 float64\ndivert                object\nkidhijcountry         object\nransom                float64\nransomamt             object\nransomamtus           object\nransompaid            object\nransompaidus          float64\nransomnote            object\nhostkidoutcome        float64\nhostkidoutcome_txt    object\nnreleased             float64\naddnotes              object\nscite1                object\nscite2                object\nscite3                object\ndbsource              object\nint_log               int64\nint_ideo              int64\nint_misc              int64\nint_any               int64\nrelated               object\ndtypes: float64(44), int64(24), object(67)\nmemory usage: 197.2+ MB\n"
    }
   ],
   "source": [
    "terrorism.info(verbose=True)"
   ]
  },
  {
   "cell_type": "code",
   "execution_count": 3,
   "metadata": {},
   "outputs": [
    {
     "data": {
      "text/html": "<div>\n<style scoped>\n    .dataframe tbody tr th:only-of-type {\n        vertical-align: middle;\n    }\n\n    .dataframe tbody tr th {\n        vertical-align: top;\n    }\n\n    .dataframe thead th {\n        text-align: right;\n    }\n</style>\n<table border=\"1\" class=\"dataframe\">\n  <thead>\n    <tr style=\"text-align: right;\">\n      <th></th>\n      <th>eventid</th>\n      <th>iyear</th>\n      <th>imonth</th>\n      <th>iday</th>\n      <th>approxdate</th>\n      <th>extended</th>\n      <th>resolution</th>\n      <th>country</th>\n      <th>country_txt</th>\n      <th>region</th>\n      <th>...</th>\n      <th>addnotes</th>\n      <th>scite1</th>\n      <th>scite2</th>\n      <th>scite3</th>\n      <th>dbsource</th>\n      <th>int_log</th>\n      <th>int_ideo</th>\n      <th>int_misc</th>\n      <th>int_any</th>\n      <th>related</th>\n    </tr>\n  </thead>\n  <tbody>\n  </tbody>\n</table>\n<p>0 rows × 135 columns</p>\n</div>",
      "text/plain": "Empty DataFrame\nColumns: [eventid, iyear, imonth, iday, approxdate, extended, resolution, country, country_txt, region, region_txt, provstate, city, latitude, longitude, specificity, vicinity, location, summary, crit1, crit2, crit3, doubtterr, alternative, alternative_txt, multiple, success, suicide, attacktype1, attacktype1_txt, attacktype2, attacktype2_txt, attacktype3, attacktype3_txt, targtype1, targtype1_txt, targsubtype1, targsubtype1_txt, corp1, target1, natlty1, natlty1_txt, targtype2, targtype2_txt, targsubtype2, targsubtype2_txt, corp2, target2, natlty2, natlty2_txt, targtype3, targtype3_txt, targsubtype3, targsubtype3_txt, corp3, target3, natlty3, natlty3_txt, gname, gsubname, gname2, gsubname2, gname3, gsubname3, motive, guncertain1, guncertain2, guncertain3, individual, nperps, nperpcap, claimed, claimmode, claimmode_txt, claim2, claimmode2, claimmode2_txt, claim3, claimmode3, claimmode3_txt, compclaim, weaptype1, weaptype1_txt, weapsubtype1, weapsubtype1_txt, weaptype2, weaptype2_txt, weapsubtype2, weapsubtype2_txt, weaptype3, weaptype3_txt, weapsubtype3, weapsubtype3_txt, weaptype4, weaptype4_txt, weapsubtype4, weapsubtype4_txt, weapdetail, nkill, nkillus, ...]\nIndex: []\n\n[0 rows x 135 columns]"
     },
     "execution_count": 3,
     "metadata": {},
     "output_type": "execute_result"
    }
   ],
   "source": [
    "terrorism[terrorism.duplicated(['eventid'])]"
   ]
  },
  {
   "cell_type": "markdown",
   "execution_count": null,
   "metadata": {},
   "outputs": [],
   "source": [
    "## Tien meest dodelijke aanvallen tussen 1970 en 2018"
   ]
  },
  {
   "cell_type": "code",
   "execution_count": 4,
   "metadata": {},
   "outputs": [
    {
     "data": {
      "text/html": "<div>\n<style scoped>\n    .dataframe tbody tr th:only-of-type {\n        vertical-align: middle;\n    }\n\n    .dataframe tbody tr th {\n        vertical-align: top;\n    }\n\n    .dataframe thead th {\n        text-align: right;\n    }\n</style>\n<table border=\"1\" class=\"dataframe\">\n  <thead>\n    <tr style=\"text-align: right;\">\n      <th></th>\n      <th>index</th>\n      <th>nkill</th>\n      <th>iyear</th>\n      <th>imonth</th>\n      <th>iday</th>\n      <th>country_txt</th>\n      <th>city</th>\n      <th>gname</th>\n    </tr>\n  </thead>\n  <tbody>\n    <tr>\n      <th>0</th>\n      <td>133551</td>\n      <td>1570.0</td>\n      <td>2014</td>\n      <td>6</td>\n      <td>12</td>\n      <td>Iraq</td>\n      <td>Tikrit</td>\n      <td>Islamic State of Iraq and the Levant (ISIL)</td>\n    </tr>\n    <tr>\n      <th>1</th>\n      <td>73137</td>\n      <td>1385.0</td>\n      <td>2001</td>\n      <td>9</td>\n      <td>11</td>\n      <td>United States</td>\n      <td>New York City</td>\n      <td>Al-Qaida</td>\n    </tr>\n    <tr>\n      <th>2</th>\n      <td>73138</td>\n      <td>1385.0</td>\n      <td>2001</td>\n      <td>9</td>\n      <td>11</td>\n      <td>United States</td>\n      <td>New York City</td>\n      <td>Al-Qaida</td>\n    </tr>\n    <tr>\n      <th>3</th>\n      <td>55932</td>\n      <td>1180.0</td>\n      <td>1994</td>\n      <td>4</td>\n      <td>13</td>\n      <td>Rwanda</td>\n      <td>Gikoro</td>\n      <td>Hutu extremists</td>\n    </tr>\n    <tr>\n      <th>4</th>\n      <td>136316</td>\n      <td>953.0</td>\n      <td>2014</td>\n      <td>8</td>\n      <td>3</td>\n      <td>Iraq</td>\n      <td>Sinjar</td>\n      <td>Islamic State of Iraq and the Levant (ISIL)</td>\n    </tr>\n    <tr>\n      <th>5</th>\n      <td>133257</td>\n      <td>670.0</td>\n      <td>2014</td>\n      <td>6</td>\n      <td>10</td>\n      <td>Iraq</td>\n      <td>Badush</td>\n      <td>Islamic State of Iraq and the Levant (ISIL)</td>\n    </tr>\n    <tr>\n      <th>6</th>\n      <td>179820</td>\n      <td>588.0</td>\n      <td>2017</td>\n      <td>10</td>\n      <td>14</td>\n      <td>Somalia</td>\n      <td>Mogadishu</td>\n      <td>Al-Shabaab</td>\n    </tr>\n    <tr>\n      <th>7</th>\n      <td>76364</td>\n      <td>518.0</td>\n      <td>2004</td>\n      <td>3</td>\n      <td>21</td>\n      <td>Nepal</td>\n      <td>Dhading district</td>\n      <td>Communist Party of Nepal- Maoist (CPN-M)</td>\n    </tr>\n    <tr>\n      <th>8</th>\n      <td>136779</td>\n      <td>517.0</td>\n      <td>2014</td>\n      <td>8</td>\n      <td>19</td>\n      <td>Syria</td>\n      <td>Unknown</td>\n      <td>Islamic State of Iraq and the Levant (ISIL)</td>\n    </tr>\n    <tr>\n      <th>9</th>\n      <td>187960</td>\n      <td>466.0</td>\n      <td>2018</td>\n      <td>8</td>\n      <td>10</td>\n      <td>Afghanistan</td>\n      <td>Ghazni</td>\n      <td>Taliban</td>\n    </tr>\n  </tbody>\n</table>\n</div>",
      "text/plain": "    index   nkill  iyear  imonth  iday    country_txt              city  \\\n0  133551  1570.0   2014       6    12           Iraq            Tikrit   \n1   73137  1385.0   2001       9    11  United States     New York City   \n2   73138  1385.0   2001       9    11  United States     New York City   \n3   55932  1180.0   1994       4    13         Rwanda            Gikoro   \n4  136316   953.0   2014       8     3           Iraq            Sinjar   \n5  133257   670.0   2014       6    10           Iraq            Badush   \n6  179820   588.0   2017      10    14        Somalia         Mogadishu   \n7   76364   518.0   2004       3    21          Nepal  Dhading district   \n8  136779   517.0   2014       8    19          Syria           Unknown   \n9  187960   466.0   2018       8    10    Afghanistan            Ghazni   \n\n                                         gname  \n0  Islamic State of Iraq and the Levant (ISIL)  \n1                                     Al-Qaida  \n2                                     Al-Qaida  \n3                              Hutu extremists  \n4  Islamic State of Iraq and the Levant (ISIL)  \n5  Islamic State of Iraq and the Levant (ISIL)  \n6                                   Al-Shabaab  \n7     Communist Party of Nepal- Maoist (CPN-M)  \n8  Islamic State of Iraq and the Levant (ISIL)  \n9                                      Taliban  "
     },
     "execution_count": 4,
     "metadata": {},
     "output_type": "execute_result"
    }
   ],
   "source": [
    "terrorism[['nkill', 'iyear', 'imonth', 'iday', 'country_txt', 'city', 'gname']].sort_values('nkill', ascending=False).reset_index().head(10)"
   ]
  },
  {
   "cell_type": "markdown",
   "execution_count": null,
   "metadata": {},
   "outputs": [],
   "source": [
    " ## Welke jaren hadden de meeste slachtoffers en hoe ontwikkelt zich over tijd? "
   ]
  },
  {
   "cell_type": "code",
   "execution_count": 5,
   "metadata": {},
   "outputs": [],
   "source": [
    "most_casualties = terrorism[['iyear', 'nkill']].fillna(0)"
   ]
  },
  {
   "cell_type": "code",
   "execution_count": 6,
   "metadata": {},
   "outputs": [
    {
     "data": {
      "text/html": "<div>\n<style scoped>\n    .dataframe tbody tr th:only-of-type {\n        vertical-align: middle;\n    }\n\n    .dataframe tbody tr th {\n        vertical-align: top;\n    }\n\n    .dataframe thead th {\n        text-align: right;\n    }\n</style>\n<table border=\"1\" class=\"dataframe\">\n  <thead>\n    <tr style=\"text-align: right;\">\n      <th></th>\n      <th>iyear</th>\n      <th>nkill</th>\n    </tr>\n  </thead>\n  <tbody>\n    <tr>\n      <th>43</th>\n      <td>2014</td>\n      <td>44492.0</td>\n    </tr>\n    <tr>\n      <th>44</th>\n      <td>2015</td>\n      <td>38853.0</td>\n    </tr>\n    <tr>\n      <th>45</th>\n      <td>2016</td>\n      <td>34858.0</td>\n    </tr>\n    <tr>\n      <th>46</th>\n      <td>2017</td>\n      <td>26568.0</td>\n    </tr>\n    <tr>\n      <th>47</th>\n      <td>2018</td>\n      <td>22987.0</td>\n    </tr>\n    <tr>\n      <th>42</th>\n      <td>2013</td>\n      <td>22273.0</td>\n    </tr>\n    <tr>\n      <th>41</th>\n      <td>2012</td>\n      <td>15501.0</td>\n    </tr>\n    <tr>\n      <th>36</th>\n      <td>2007</td>\n      <td>12824.0</td>\n    </tr>\n    <tr>\n      <th>26</th>\n      <td>1997</td>\n      <td>10924.0</td>\n    </tr>\n    <tr>\n      <th>14</th>\n      <td>1984</td>\n      <td>10450.0</td>\n    </tr>\n  </tbody>\n</table>\n</div>",
      "text/plain": "    iyear    nkill\n43   2014  44492.0\n44   2015  38853.0\n45   2016  34858.0\n46   2017  26568.0\n47   2018  22987.0\n42   2013  22273.0\n41   2012  15501.0\n36   2007  12824.0\n26   1997  10924.0\n14   1984  10450.0"
     },
     "execution_count": 6,
     "metadata": {},
     "output_type": "execute_result"
    }
   ],
   "source": [
    "most_casualties.groupby('iyear').nkill.sum().reset_index().sort_values('nkill', ascending=False).head(10)"
   ]
  },
  {
   "cell_type": "code",
   "execution_count": 7,
   "metadata": {},
   "outputs": [],
   "source": [
    "total_per_year = most_casualties.groupby('iyear').nkill.sum().reset_index()"
   ]
  },
  {
   "cell_type": "code",
   "execution_count": 8,
   "metadata": {},
   "outputs": [
    {
     "data": {
      "text/html": "<div>\n<style scoped>\n    .dataframe tbody tr th:only-of-type {\n        vertical-align: middle;\n    }\n\n    .dataframe tbody tr th {\n        vertical-align: top;\n    }\n\n    .dataframe thead th {\n        text-align: right;\n    }\n</style>\n<table border=\"1\" class=\"dataframe\">\n  <thead>\n    <tr style=\"text-align: right;\">\n      <th></th>\n      <th>iyear</th>\n      <th>nkill</th>\n    </tr>\n  </thead>\n  <tbody>\n    <tr>\n      <th>47</th>\n      <td>2018</td>\n      <td>22987.0</td>\n    </tr>\n    <tr>\n      <th>46</th>\n      <td>2017</td>\n      <td>26568.0</td>\n    </tr>\n    <tr>\n      <th>45</th>\n      <td>2016</td>\n      <td>34858.0</td>\n    </tr>\n    <tr>\n      <th>44</th>\n      <td>2015</td>\n      <td>38853.0</td>\n    </tr>\n    <tr>\n      <th>43</th>\n      <td>2014</td>\n      <td>44492.0</td>\n    </tr>\n  </tbody>\n</table>\n</div>",
      "text/plain": "    iyear    nkill\n47   2018  22987.0\n46   2017  26568.0\n45   2016  34858.0\n44   2015  38853.0\n43   2014  44492.0"
     },
     "execution_count": 8,
     "metadata": {},
     "output_type": "execute_result"
    }
   ],
   "source": [
    "total_per_year.sort_values('iyear', ascending=False).head()"
   ]
  },
  {
   "cell_type": "code",
   "execution_count": 9,
   "metadata": {},
   "outputs": [],
   "source": [
    "total_per_year = total_per_year.set_index('iyear')"
   ]
  },
  {
   "cell_type": "code",
   "execution_count": 10,
   "metadata": {},
   "outputs": [
    {
     "data": {
      "text/plain": "<matplotlib.axes._subplots.AxesSubplot at 0x121feb5c0>"
     },
     "execution_count": 10,
     "metadata": {},
     "output_type": "execute_result"
    },
    {
     "data": {
      "image/png": "[encoded data removed]",
      "image/svg+xml": "<?xml version=\"1.0\" encoding=\"utf-8\" standalone=\"no\"?>\n<!DOCTYPE svg PUBLIC \"-//W3C//DTD SVG 1.1//EN\"\n  \"http://www.w3.org/Graphics/SVG/1.1/DTD/svg11.dtd\">\n<!-- Created with matplotlib (https://matplotlib.org/) -->\n<svg height=\"262.19625pt\" version=\"1.1\" viewBox=\"0 0 388.0125 262.19625\" width=\"388.0125pt\" xmlns=\"http://www.w3.org/2000/svg\" xmlns:xlink=\"http://www.w3.org/1999/xlink\">\n <defs>\n  <style type=\"text/css\">\n*{stroke-linecap:butt;stroke-linejoin:round;white-space:pre;}\n  </style>\n </defs>\n <g id=\"figure_1\">\n  <g id=\"patch_1\">\n   <path d=\"M 0 262.19625 \nL 388.0125 262.19625 \nL 388.0125 0 \nL 0 0 \nz\n\"/>\n  </g>\n  <g id=\"axes_1\">\n   <g id=\"patch_2\">\n    <path d=\"M 46.0125 224.64 \nL 380.8125 224.64 \nL 380.8125 7.2 \nL 46.0125 7.2 \nz\n\"/>\n   </g>\n   <g id=\"matplotlib.axis_1\">\n    <g id=\"xtick_1\">\n     <g id=\"line2d_1\">\n      <defs>\n       <path d=\"M 0 0 \nL 0 3.5 \n\" id=\"m6807242263\" style=\"stroke:#ffffff;stroke-width:0.8;\"/>\n      </defs>\n      <g>\n       <use style=\"fill:#ffffff;stroke:#ffffff;stroke-width:0.8;\" x=\"46.0125\" xlink:href=\"#m6807242263\" y=\"224.64\"/>\n      </g>\n     </g>\n     <g id=\"text_1\">\n      <!-- 1970 -->\n      <defs>\n       <path d=\"M 12.40625 8.296875 \nL 28.515625 8.296875 \nL 28.515625 63.921875 \nL 10.984375 60.40625 \nL 10.984375 69.390625 \nL 28.421875 72.90625 \nL 38.28125 72.90625 \nL 38.28125 8.296875 \nL 54.390625 8.296875 \nL 54.390625 0 \nL 12.40625 0 \nz\n\" id=\"DejaVuSans-49\"/>\n       <path d=\"M 10.984375 1.515625 \nL 10.984375 10.5 \nQ 14.703125 8.734375 18.5 7.8125 \nQ 22.3125 6.890625 25.984375 6.890625 \nQ 35.75 6.890625 40.890625 13.453125 \nQ 46.046875 20.015625 46.78125 33.40625 \nQ 43.953125 29.203125 39.59375 26.953125 \nQ 35.25 24.703125 29.984375 24.703125 \nQ 19.046875 24.703125 12.671875 31.3125 \nQ 6.296875 37.9375 6.296875 49.421875 \nQ 6.296875 60.640625 12.9375 67.421875 \nQ 19.578125 74.21875 30.609375 74.21875 \nQ 43.265625 74.21875 49.921875 64.515625 \nQ 56.59375 54.828125 56.59375 36.375 \nQ 56.59375 19.140625 48.40625 8.859375 \nQ 40.234375 -1.421875 26.421875 -1.421875 \nQ 22.703125 -1.421875 18.890625 -0.6875 \nQ 15.09375 0.046875 10.984375 1.515625 \nz\nM 30.609375 32.421875 \nQ 37.25 32.421875 41.125 36.953125 \nQ 45.015625 41.5 45.015625 49.421875 \nQ 45.015625 57.28125 41.125 61.84375 \nQ 37.25 66.40625 30.609375 66.40625 \nQ 23.96875 66.40625 20.09375 61.84375 \nQ 16.21875 57.28125 16.21875 49.421875 \nQ 16.21875 41.5 20.09375 36.953125 \nQ 23.96875 32.421875 30.609375 32.421875 \nz\n\" id=\"DejaVuSans-57\"/>\n       <path d=\"M 8.203125 72.90625 \nL 55.078125 72.90625 \nL 55.078125 68.703125 \nL 28.609375 0 \nL 18.3125 0 \nL 43.21875 64.59375 \nL 8.203125 64.59375 \nz\n\" id=\"DejaVuSans-55\"/>\n       <path d=\"M 31.78125 66.40625 \nQ 24.171875 66.40625 20.328125 58.90625 \nQ 16.5 51.421875 16.5 36.375 \nQ 16.5 21.390625 20.328125 13.890625 \nQ 24.171875 6.390625 31.78125 6.390625 \nQ 39.453125 6.390625 43.28125 13.890625 \nQ 47.125 21.390625 47.125 36.375 \nQ 47.125 51.421875 43.28125 58.90625 \nQ 39.453125 66.40625 31.78125 66.40625 \nz\nM 31.78125 74.21875 \nQ 44.046875 74.21875 50.515625 64.515625 \nQ 56.984375 54.828125 56.984375 36.375 \nQ 56.984375 17.96875 50.515625 8.265625 \nQ 44.046875 -1.421875 31.78125 -1.421875 \nQ 19.53125 -1.421875 13.0625 8.265625 \nQ 6.59375 17.96875 6.59375 36.375 \nQ 6.59375 54.828125 13.0625 64.515625 \nQ 19.53125 74.21875 31.78125 74.21875 \nz\n\" id=\"DejaVuSans-48\"/>\n      </defs>\n      <g style=\"fill:#ffffff;\" transform=\"translate(33.2875 239.238438)scale(0.1 -0.1)\">\n       <use xlink:href=\"#DejaVuSans-49\"/>\n       <use x=\"63.623047\" xlink:href=\"#DejaVuSans-57\"/>\n       <use x=\"127.246094\" xlink:href=\"#DejaVuSans-55\"/>\n       <use x=\"190.869141\" xlink:href=\"#DejaVuSans-48\"/>\n      </g>\n     </g>\n    </g>\n    <g id=\"xtick_2\">\n     <g id=\"line2d_2\">\n      <g>\n       <use style=\"fill:#ffffff;stroke:#ffffff;stroke-width:0.8;\" x=\"115.7625\" xlink:href=\"#m6807242263\" y=\"224.64\"/>\n      </g>\n     </g>\n     <g id=\"text_2\">\n      <!-- 1980 -->\n      <defs>\n       <path d=\"M 31.78125 34.625 \nQ 24.75 34.625 20.71875 30.859375 \nQ 16.703125 27.09375 16.703125 20.515625 \nQ 16.703125 13.921875 20.71875 10.15625 \nQ 24.75 6.390625 31.78125 6.390625 \nQ 38.8125 6.390625 42.859375 10.171875 \nQ 46.921875 13.96875 46.921875 20.515625 \nQ 46.921875 27.09375 42.890625 30.859375 \nQ 38.875 34.625 31.78125 34.625 \nz\nM 21.921875 38.8125 \nQ 15.578125 40.375 12.03125 44.71875 \nQ 8.5 49.078125 8.5 55.328125 \nQ 8.5 64.0625 14.71875 69.140625 \nQ 20.953125 74.21875 31.78125 74.21875 \nQ 42.671875 74.21875 48.875 69.140625 \nQ 55.078125 64.0625 55.078125 55.328125 \nQ 55.078125 49.078125 51.53125 44.71875 \nQ 48 40.375 41.703125 38.8125 \nQ 48.828125 37.15625 52.796875 32.3125 \nQ 56.78125 27.484375 56.78125 20.515625 \nQ 56.78125 9.90625 50.3125 4.234375 \nQ 43.84375 -1.421875 31.78125 -1.421875 \nQ 19.734375 -1.421875 13.25 4.234375 \nQ 6.78125 9.90625 6.78125 20.515625 \nQ 6.78125 27.484375 10.78125 32.3125 \nQ 14.796875 37.15625 21.921875 38.8125 \nz\nM 18.3125 54.390625 \nQ 18.3125 48.734375 21.84375 45.5625 \nQ 25.390625 42.390625 31.78125 42.390625 \nQ 38.140625 42.390625 41.71875 45.5625 \nQ 45.3125 48.734375 45.3125 54.390625 \nQ 45.3125 60.0625 41.71875 63.234375 \nQ 38.140625 66.40625 31.78125 66.40625 \nQ 25.390625 66.40625 21.84375 63.234375 \nQ 18.3125 60.0625 18.3125 54.390625 \nz\n\" id=\"DejaVuSans-56\"/>\n      </defs>\n      <g style=\"fill:#ffffff;\" transform=\"translate(103.0375 239.238438)scale(0.1 -0.1)\">\n       <use xlink:href=\"#DejaVuSans-49\"/>\n       <use x=\"63.623047\" xlink:href=\"#DejaVuSans-57\"/>\n       <use x=\"127.246094\" xlink:href=\"#DejaVuSans-56\"/>\n       <use x=\"190.869141\" xlink:href=\"#DejaVuSans-48\"/>\n      </g>\n     </g>\n    </g>\n    <g id=\"xtick_3\">\n     <g id=\"line2d_3\">\n      <g>\n       <use style=\"fill:#ffffff;stroke:#ffffff;stroke-width:0.8;\" x=\"185.5125\" xlink:href=\"#m6807242263\" y=\"224.64\"/>\n      </g>\n     </g>\n     <g id=\"text_3\">\n      <!-- 1990 -->\n      <g style=\"fill:#ffffff;\" transform=\"translate(172.7875 239.238438)scale(0.1 -0.1)\">\n       <use xlink:href=\"#DejaVuSans-49\"/>\n       <use x=\"63.623047\" xlink:href=\"#DejaVuSans-57\"/>\n       <use x=\"127.246094\" xlink:href=\"#DejaVuSans-57\"/>\n       <use x=\"190.869141\" xlink:href=\"#DejaVuSans-48\"/>\n      </g>\n     </g>\n    </g>\n    <g id=\"xtick_4\">\n     <g id=\"line2d_4\">\n      <g>\n       <use style=\"fill:#ffffff;stroke:#ffffff;stroke-width:0.8;\" x=\"255.2625\" xlink:href=\"#m6807242263\" y=\"224.64\"/>\n      </g>\n     </g>\n     <g id=\"text_4\">\n      <!-- 2000 -->\n      <defs>\n       <path d=\"M 19.1875 8.296875 \nL 53.609375 8.296875 \nL 53.609375 0 \nL 7.328125 0 \nL 7.328125 8.296875 \nQ 12.9375 14.109375 22.625 23.890625 \nQ 32.328125 33.6875 34.8125 36.53125 \nQ 39.546875 41.84375 41.421875 45.53125 \nQ 43.3125 49.21875 43.3125 52.78125 \nQ 43.3125 58.59375 39.234375 62.25 \nQ 35.15625 65.921875 28.609375 65.921875 \nQ 23.96875 65.921875 18.8125 64.3125 \nQ 13.671875 62.703125 7.8125 59.421875 \nL 7.8125 69.390625 \nQ 13.765625 71.78125 18.9375 73 \nQ 24.125 74.21875 28.421875 74.21875 \nQ 39.75 74.21875 46.484375 68.546875 \nQ 53.21875 62.890625 53.21875 53.421875 \nQ 53.21875 48.921875 51.53125 44.890625 \nQ 49.859375 40.875 45.40625 35.40625 \nQ 44.1875 33.984375 37.640625 27.21875 \nQ 31.109375 20.453125 19.1875 8.296875 \nz\n\" id=\"DejaVuSans-50\"/>\n      </defs>\n      <g style=\"fill:#ffffff;\" transform=\"translate(242.5375 239.238438)scale(0.1 -0.1)\">\n       <use xlink:href=\"#DejaVuSans-50\"/>\n       <use x=\"63.623047\" xlink:href=\"#DejaVuSans-48\"/>\n       <use x=\"127.246094\" xlink:href=\"#DejaVuSans-48\"/>\n       <use x=\"190.869141\" xlink:href=\"#DejaVuSans-48\"/>\n      </g>\n     </g>\n    </g>\n    <g id=\"xtick_5\">\n     <g id=\"line2d_5\">\n      <g>\n       <use style=\"fill:#ffffff;stroke:#ffffff;stroke-width:0.8;\" x=\"325.0125\" xlink:href=\"#m6807242263\" y=\"224.64\"/>\n      </g>\n     </g>\n     <g id=\"text_5\">\n      <!-- 2010 -->\n      <g style=\"fill:#ffffff;\" transform=\"translate(312.2875 239.238438)scale(0.1 -0.1)\">\n       <use xlink:href=\"#DejaVuSans-50\"/>\n       <use x=\"63.623047\" xlink:href=\"#DejaVuSans-48\"/>\n       <use x=\"127.246094\" xlink:href=\"#DejaVuSans-49\"/>\n       <use x=\"190.869141\" xlink:href=\"#DejaVuSans-48\"/>\n      </g>\n     </g>\n    </g>\n    <g id=\"text_6\">\n     <!-- iyear -->\n     <defs>\n      <path d=\"M 9.421875 54.6875 \nL 18.40625 54.6875 \nL 18.40625 0 \nL 9.421875 0 \nz\nM 9.421875 75.984375 \nL 18.40625 75.984375 \nL 18.40625 64.59375 \nL 9.421875 64.59375 \nz\n\" id=\"DejaVuSans-105\"/>\n      <path d=\"M 32.171875 -5.078125 \nQ 28.375 -14.84375 24.75 -17.8125 \nQ 21.140625 -20.796875 15.09375 -20.796875 \nL 7.90625 -20.796875 \nL 7.90625 -13.28125 \nL 13.1875 -13.28125 \nQ 16.890625 -13.28125 18.9375 -11.515625 \nQ 21 -9.765625 23.484375 -3.21875 \nL 25.09375 0.875 \nL 2.984375 54.6875 \nL 12.5 54.6875 \nL 29.59375 11.921875 \nL 46.6875 54.6875 \nL 56.203125 54.6875 \nz\n\" id=\"DejaVuSans-121\"/>\n      <path d=\"M 56.203125 29.59375 \nL 56.203125 25.203125 \nL 14.890625 25.203125 \nQ 15.484375 15.921875 20.484375 11.0625 \nQ 25.484375 6.203125 34.421875 6.203125 \nQ 39.59375 6.203125 44.453125 7.46875 \nQ 49.3125 8.734375 54.109375 11.28125 \nL 54.109375 2.78125 \nQ 49.265625 0.734375 44.1875 -0.34375 \nQ 39.109375 -1.421875 33.890625 -1.421875 \nQ 20.796875 -1.421875 13.15625 6.1875 \nQ 5.515625 13.8125 5.515625 26.8125 \nQ 5.515625 40.234375 12.765625 48.109375 \nQ 20.015625 56 32.328125 56 \nQ 43.359375 56 49.78125 48.890625 \nQ 56.203125 41.796875 56.203125 29.59375 \nz\nM 47.21875 32.234375 \nQ 47.125 39.59375 43.09375 43.984375 \nQ 39.0625 48.390625 32.421875 48.390625 \nQ 24.90625 48.390625 20.390625 44.140625 \nQ 15.875 39.890625 15.1875 32.171875 \nz\n\" id=\"DejaVuSans-101\"/>\n      <path d=\"M 34.28125 27.484375 \nQ 23.390625 27.484375 19.1875 25 \nQ 14.984375 22.515625 14.984375 16.5 \nQ 14.984375 11.71875 18.140625 8.90625 \nQ 21.296875 6.109375 26.703125 6.109375 \nQ 34.1875 6.109375 38.703125 11.40625 \nQ 43.21875 16.703125 43.21875 25.484375 \nL 43.21875 27.484375 \nz\nM 52.203125 31.203125 \nL 52.203125 0 \nL 43.21875 0 \nL 43.21875 8.296875 \nQ 40.140625 3.328125 35.546875 0.953125 \nQ 30.953125 -1.421875 24.3125 -1.421875 \nQ 15.921875 -1.421875 10.953125 3.296875 \nQ 6 8.015625 6 15.921875 \nQ 6 25.140625 12.171875 29.828125 \nQ 18.359375 34.515625 30.609375 34.515625 \nL 43.21875 34.515625 \nL 43.21875 35.40625 \nQ 43.21875 41.609375 39.140625 45 \nQ 35.0625 48.390625 27.6875 48.390625 \nQ 23 48.390625 18.546875 47.265625 \nQ 14.109375 46.140625 10.015625 43.890625 \nL 10.015625 52.203125 \nQ 14.9375 54.109375 19.578125 55.046875 \nQ 24.21875 56 28.609375 56 \nQ 40.484375 56 46.34375 49.84375 \nQ 52.203125 43.703125 52.203125 31.203125 \nz\n\" id=\"DejaVuSans-97\"/>\n      <path d=\"M 41.109375 46.296875 \nQ 39.59375 47.171875 37.8125 47.578125 \nQ 36.03125 48 33.890625 48 \nQ 26.265625 48 22.1875 43.046875 \nQ 18.109375 38.09375 18.109375 28.8125 \nL 18.109375 0 \nL 9.078125 0 \nL 9.078125 54.6875 \nL 18.109375 54.6875 \nL 18.109375 46.1875 \nQ 20.953125 51.171875 25.484375 53.578125 \nQ 30.03125 56 36.53125 56 \nQ 37.453125 56 38.578125 55.875 \nQ 39.703125 55.765625 41.0625 55.515625 \nz\n\" id=\"DejaVuSans-114\"/>\n     </defs>\n     <g style=\"fill:#ffffff;\" transform=\"translate(200.867969 252.916563)scale(0.1 -0.1)\">\n      <use xlink:href=\"#DejaVuSans-105\"/>\n      <use x=\"27.783203\" xlink:href=\"#DejaVuSans-121\"/>\n      <use x=\"86.962891\" xlink:href=\"#DejaVuSans-101\"/>\n      <use x=\"148.486328\" xlink:href=\"#DejaVuSans-97\"/>\n      <use x=\"209.765625\" xlink:href=\"#DejaVuSans-114\"/>\n     </g>\n    </g>\n   </g>\n   <g id=\"matplotlib.axis_2\">\n    <g id=\"ytick_1\">\n     <g id=\"line2d_6\">\n      <defs>\n       <path d=\"M 0 0 \nL -3.5 0 \n\" id=\"m45a828dcbd\" style=\"stroke:#ffffff;stroke-width:0.8;\"/>\n      </defs>\n      <g>\n       <use style=\"fill:#ffffff;stroke:#ffffff;stroke-width:0.8;\" x=\"46.0125\" xlink:href=\"#m45a828dcbd\" y=\"215.527983\"/>\n      </g>\n     </g>\n     <g id=\"text_7\">\n      <!-- 0 -->\n      <g style=\"fill:#ffffff;\" transform=\"translate(32.65 219.327201)scale(0.1 -0.1)\">\n       <use xlink:href=\"#DejaVuSans-48\"/>\n      </g>\n     </g>\n    </g>\n    <g id=\"ytick_2\">\n     <g id=\"line2d_7\">\n      <g>\n       <use style=\"fill:#ffffff;stroke:#ffffff;stroke-width:0.8;\" x=\"46.0125\" xlink:href=\"#m45a828dcbd\" y=\"170.925729\"/>\n      </g>\n     </g>\n     <g id=\"text_8\">\n      <!-- 10000 -->\n      <g style=\"fill:#ffffff;\" transform=\"translate(7.2 174.724948)scale(0.1 -0.1)\">\n       <use xlink:href=\"#DejaVuSans-49\"/>\n       <use x=\"63.623047\" xlink:href=\"#DejaVuSans-48\"/>\n       <use x=\"127.246094\" xlink:href=\"#DejaVuSans-48\"/>\n       <use x=\"190.869141\" xlink:href=\"#DejaVuSans-48\"/>\n       <use x=\"254.492188\" xlink:href=\"#DejaVuSans-48\"/>\n      </g>\n     </g>\n    </g>\n    <g id=\"ytick_3\">\n     <g id=\"line2d_8\">\n      <g>\n       <use style=\"fill:#ffffff;stroke:#ffffff;stroke-width:0.8;\" x=\"46.0125\" xlink:href=\"#m45a828dcbd\" y=\"126.323476\"/>\n      </g>\n     </g>\n     <g id=\"text_9\">\n      <!-- 20000 -->\n      <g style=\"fill:#ffffff;\" transform=\"translate(7.2 130.122694)scale(0.1 -0.1)\">\n       <use xlink:href=\"#DejaVuSans-50\"/>\n       <use x=\"63.623047\" xlink:href=\"#DejaVuSans-48\"/>\n       <use x=\"127.246094\" xlink:href=\"#DejaVuSans-48\"/>\n       <use x=\"190.869141\" xlink:href=\"#DejaVuSans-48\"/>\n       <use x=\"254.492188\" xlink:href=\"#DejaVuSans-48\"/>\n      </g>\n     </g>\n    </g>\n    <g id=\"ytick_4\">\n     <g id=\"line2d_9\">\n      <g>\n       <use style=\"fill:#ffffff;stroke:#ffffff;stroke-width:0.8;\" x=\"46.0125\" xlink:href=\"#m45a828dcbd\" y=\"81.721222\"/>\n      </g>\n     </g>\n     <g id=\"text_10\">\n      <!-- 30000 -->\n      <defs>\n       <path d=\"M 40.578125 39.3125 \nQ 47.65625 37.796875 51.625 33 \nQ 55.609375 28.21875 55.609375 21.1875 \nQ 55.609375 10.40625 48.1875 4.484375 \nQ 40.765625 -1.421875 27.09375 -1.421875 \nQ 22.515625 -1.421875 17.65625 -0.515625 \nQ 12.796875 0.390625 7.625 2.203125 \nL 7.625 11.71875 \nQ 11.71875 9.328125 16.59375 8.109375 \nQ 21.484375 6.890625 26.8125 6.890625 \nQ 36.078125 6.890625 40.9375 10.546875 \nQ 45.796875 14.203125 45.796875 21.1875 \nQ 45.796875 27.640625 41.28125 31.265625 \nQ 36.765625 34.90625 28.71875 34.90625 \nL 20.21875 34.90625 \nL 20.21875 43.015625 \nL 29.109375 43.015625 \nQ 36.375 43.015625 40.234375 45.921875 \nQ 44.09375 48.828125 44.09375 54.296875 \nQ 44.09375 59.90625 40.109375 62.90625 \nQ 36.140625 65.921875 28.71875 65.921875 \nQ 24.65625 65.921875 20.015625 65.03125 \nQ 15.375 64.15625 9.8125 62.3125 \nL 9.8125 71.09375 \nQ 15.4375 72.65625 20.34375 73.4375 \nQ 25.25 74.21875 29.59375 74.21875 \nQ 40.828125 74.21875 47.359375 69.109375 \nQ 53.90625 64.015625 53.90625 55.328125 \nQ 53.90625 49.265625 50.4375 45.09375 \nQ 46.96875 40.921875 40.578125 39.3125 \nz\n\" id=\"DejaVuSans-51\"/>\n      </defs>\n      <g style=\"fill:#ffffff;\" transform=\"translate(7.2 85.520441)scale(0.1 -0.1)\">\n       <use xlink:href=\"#DejaVuSans-51\"/>\n       <use x=\"63.623047\" xlink:href=\"#DejaVuSans-48\"/>\n       <use x=\"127.246094\" xlink:href=\"#DejaVuSans-48\"/>\n       <use x=\"190.869141\" xlink:href=\"#DejaVuSans-48\"/>\n       <use x=\"254.492188\" xlink:href=\"#DejaVuSans-48\"/>\n      </g>\n     </g>\n    </g>\n    <g id=\"ytick_5\">\n     <g id=\"line2d_10\">\n      <g>\n       <use style=\"fill:#ffffff;stroke:#ffffff;stroke-width:0.8;\" x=\"46.0125\" xlink:href=\"#m45a828dcbd\" y=\"37.118969\"/>\n      </g>\n     </g>\n     <g id=\"text_11\">\n      <!-- 40000 -->\n      <defs>\n       <path d=\"M 37.796875 64.3125 \nL 12.890625 25.390625 \nL 37.796875 25.390625 \nz\nM 35.203125 72.90625 \nL 47.609375 72.90625 \nL 47.609375 25.390625 \nL 58.015625 25.390625 \nL 58.015625 17.1875 \nL 47.609375 17.1875 \nL 47.609375 0 \nL 37.796875 0 \nL 37.796875 17.1875 \nL 4.890625 17.1875 \nL 4.890625 26.703125 \nz\n\" id=\"DejaVuSans-52\"/>\n      </defs>\n      <g style=\"fill:#ffffff;\" transform=\"translate(7.2 40.918187)scale(0.1 -0.1)\">\n       <use xlink:href=\"#DejaVuSans-52\"/>\n       <use x=\"63.623047\" xlink:href=\"#DejaVuSans-48\"/>\n       <use x=\"127.246094\" xlink:href=\"#DejaVuSans-48\"/>\n       <use x=\"190.869141\" xlink:href=\"#DejaVuSans-48\"/>\n       <use x=\"254.492188\" xlink:href=\"#DejaVuSans-48\"/>\n      </g>\n     </g>\n    </g>\n   </g>\n   <g id=\"line2d_11\">\n    <path clip-path=\"url(#pc06108ca8c)\" d=\"M 46.0125 214.751903 \nL 52.9875 214.756364 \nL 59.9625 213.003495 \nL 66.9375 213.877699 \nL 73.9125 213.123921 \nL 80.8875 212.776024 \nL 87.8625 212.521791 \nL 94.8375 213.49412 \nL 101.8125 209.020514 \nL 108.7875 206.161509 \nL 115.7625 195.943133 \nL 122.7375 193.891429 \nL 129.7125 192.620265 \nL 136.6875 173.405614 \nL 143.6625 168.918628 \nL 150.6375 183.887144 \nL 157.6125 193.333901 \nL 164.5875 186.616802 \nL 171.5625 183.387599 \nL 178.5375 179.168226 \nL 185.5125 183.646292 \nL 192.4875 177.932743 \nL 199.4625 172.076467 \nL 213.4125 181.22885 \nL 220.3875 188.307227 \nL 227.3625 184.458053 \nL 234.3375 166.804481 \nL 241.3125 194.618446 \nL 248.2875 200.389978 \nL 255.2625 195.853929 \nL 262.2375 181.02814 \nL 269.2125 194.0966 \nL 276.1875 200.733415 \nL 283.1625 189.912908 \nL 290.1375 187.290296 \nL 297.1125 173.691069 \nL 304.0875 158.330053 \nL 311.0625 174.685699 \nL 318.0375 174.150472 \nL 325.0125 180.608878 \nL 331.9875 178.748964 \nL 338.9625 146.390029 \nL 345.9375 116.185383 \nL 352.9125 17.083636 \nL 359.8875 42.234847 \nL 366.8625 60.053447 \nL 373.8375 97.028716 \nL 380.8125 113.000783 \n\" style=\"fill:none;stroke:#8dd3c7;stroke-linecap:square;stroke-width:1.5;\"/>\n   </g>\n   <g id=\"patch_3\">\n    <path d=\"M 46.0125 224.64 \nL 46.0125 7.2 \n\" style=\"fill:none;stroke:#ffffff;stroke-linecap:square;stroke-linejoin:miter;stroke-width:0.8;\"/>\n   </g>\n   <g id=\"patch_4\">\n    <path d=\"M 380.8125 224.64 \nL 380.8125 7.2 \n\" style=\"fill:none;stroke:#ffffff;stroke-linecap:square;stroke-linejoin:miter;stroke-width:0.8;\"/>\n   </g>\n   <g id=\"patch_5\">\n    <path d=\"M 46.0125 224.64 \nL 380.8125 224.64 \n\" style=\"fill:none;stroke:#ffffff;stroke-linecap:square;stroke-linejoin:miter;stroke-width:0.8;\"/>\n   </g>\n   <g id=\"patch_6\">\n    <path d=\"M 46.0125 7.2 \nL 380.8125 7.2 \n\" style=\"fill:none;stroke:#ffffff;stroke-linecap:square;stroke-linejoin:miter;stroke-width:0.8;\"/>\n   </g>\n   <g id=\"legend_1\">\n    <g id=\"patch_7\">\n     <path d=\"M 53.0125 29.878125 \nL 105.475 29.878125 \nQ 107.475 29.878125 107.475 27.878125 \nL 107.475 14.2 \nQ 107.475 12.2 105.475 12.2 \nL 53.0125 12.2 \nQ 51.0125 12.2 51.0125 14.2 \nL 51.0125 27.878125 \nQ 51.0125 29.878125 53.0125 29.878125 \nz\n\" style=\"opacity:0.8;stroke:#cccccc;stroke-linejoin:miter;\"/>\n    </g>\n    <g id=\"line2d_12\">\n     <path d=\"M 55.0125 20.298438 \nL 75.0125 20.298438 \n\" style=\"fill:none;stroke:#8dd3c7;stroke-linecap:square;stroke-width:1.5;\"/>\n    </g>\n    <g id=\"line2d_13\"/>\n    <g id=\"text_12\">\n     <!-- nkill -->\n     <defs>\n      <path d=\"M 54.890625 33.015625 \nL 54.890625 0 \nL 45.90625 0 \nL 45.90625 32.71875 \nQ 45.90625 40.484375 42.875 44.328125 \nQ 39.84375 48.1875 33.796875 48.1875 \nQ 26.515625 48.1875 22.3125 43.546875 \nQ 18.109375 38.921875 18.109375 30.90625 \nL 18.109375 0 \nL 9.078125 0 \nL 9.078125 54.6875 \nL 18.109375 54.6875 \nL 18.109375 46.1875 \nQ 21.34375 51.125 25.703125 53.5625 \nQ 30.078125 56 35.796875 56 \nQ 45.21875 56 50.046875 50.171875 \nQ 54.890625 44.34375 54.890625 33.015625 \nz\n\" id=\"DejaVuSans-110\"/>\n      <path d=\"M 9.078125 75.984375 \nL 18.109375 75.984375 \nL 18.109375 31.109375 \nL 44.921875 54.6875 \nL 56.390625 54.6875 \nL 27.390625 29.109375 \nL 57.625 0 \nL 45.90625 0 \nL 18.109375 26.703125 \nL 18.109375 0 \nL 9.078125 0 \nz\n\" id=\"DejaVuSans-107\"/>\n      <path d=\"M 9.421875 75.984375 \nL 18.40625 75.984375 \nL 18.40625 0 \nL 9.421875 0 \nz\n\" id=\"DejaVuSans-108\"/>\n     </defs>\n     <g style=\"fill:#ffffff;\" transform=\"translate(83.0125 23.798438)scale(0.1 -0.1)\">\n      <use xlink:href=\"#DejaVuSans-110\"/>\n      <use x=\"63.378906\" xlink:href=\"#DejaVuSans-107\"/>\n      <use x=\"121.289062\" xlink:href=\"#DejaVuSans-105\"/>\n      <use x=\"149.072266\" xlink:href=\"#DejaVuSans-108\"/>\n      <use x=\"176.855469\" xlink:href=\"#DejaVuSans-108\"/>\n     </g>\n    </g>\n   </g>\n  </g>\n </g>\n <defs>\n  <clipPath id=\"pc06108ca8c\">\n   <rect height=\"217.44\" width=\"334.8\" x=\"46.0125\" y=\"7.2\"/>\n  </clipPath>\n </defs>\n</svg>\n",
      "text/plain": "<Figure size 432x288 with 1 Axes>"
     },
     "metadata": {},
     "output_type": "display_data"
    }
   ],
   "source": [
    "total_per_year.plot()"
   ]
  },
  {
   "cell_type": "markdown",
   "execution_count": null,
   "metadata": {},
   "outputs": [],
   "source": [
    "## Welke landen hadden de meeste aanvallen te verduren tussen 1970 en 2018?"
   ]
  },
  {
   "cell_type": "code",
   "execution_count": 11,
   "metadata": {},
   "outputs": [
    {
     "data": {
      "text/plain": "Iraq              26057\nPakistan          14847\nAfghanistan       14509\nIndia             12853\nColombia           8515\nPhilippines        7509\nPeru               6108\nUnited Kingdom     5335\nEl Salvador        5320\nSomalia            4674\nName: country_txt, dtype: int64"
     },
     "execution_count": 11,
     "metadata": {},
     "output_type": "execute_result"
    }
   ],
   "source": [
    "terrorism.country_txt.value_counts().head(10)"
   ]
  },
  {
   "cell_type": "markdown",
   "execution_count": null,
   "metadata": {},
   "outputs": [],
   "source": [
    "## Welke groepen pleegden de meeste aanslagen? "
   ]
  },
  {
   "cell_type": "code",
   "execution_count": 12,
   "metadata": {},
   "outputs": [
    {
     "data": {
      "text/plain": "Unknown                                             86261\nTaliban                                              8727\nIslamic State of Iraq and the Levant (ISIL)          6385\nShining Path (SL)                                    4562\nAl-Shabaab                                           3774\nFarabundo Marti National Liberation Front (FMLN)     3351\nNew People's Army (NPA)                              3054\nIrish Republican Army (IRA)                          2669\nBoko Haram                                           2665\nRevolutionary Armed Forces of Colombia (FARC)        2490\nName: gname, dtype: int64"
     },
     "execution_count": 12,
     "metadata": {},
     "output_type": "execute_result"
    }
   ],
   "source": [
    "terrorism.gname.value_counts().head(10)"
   ]
  },
  {
   "cell_type": "markdown",
   "execution_count": null,
   "metadata": {},
   "outputs": [],
   "source": [
    "## In welke landen plegen deze groepen de meeste aanslagen?"
   ]
  },
  {
   "cell_type": "code",
   "execution_count": 13,
   "metadata": {},
   "outputs": [],
   "source": [
    "country_group = terrorism[['gname', 'country_txt']]"
   ]
  },
  {
   "cell_type": "code",
   "execution_count": 14,
   "metadata": {},
   "outputs": [
    {
     "data": {
      "text/plain": "gname\n1 May                                                                         Greece\n14 K Triad                                                                     Macau\n14 March Coalition                                                           Lebanon\n14th of December Command                                                       Chile\n15th of September Liberation Legion                                       Costa Rica\n16 January Organization for the Liberation of Tripoli                        Lebanon\n1920 Revolution Brigades                                                        Iraq\n19th of July Christian Resistance Brigade                                  Nicaragua\n1st of May Group                                                      United Kingdom\n2 April Group                                            [Argentina, United Kingdom]\n20 December Movement (M-20)                                                   Panama\n22 May 1948                                                               Martinique\n23 May Democratic Alliance (Algeria)                                            Mali\n23rd of September Communist League                                            Mexico\n28 February Armed Group                                                        Spain\n28 May Armenian Organization                                                  Turkey\n28s                                                                     South Africa\n28th of December Group                                                         Spain\n2nd of June Movement                                              West Germany (FRG)\n31 January People's Front (FP-31)                                          Guatemala\n313 Brigade (Syria)                                                          Lebanon\n4 August National Organization                                                Greece\n7 April Libyan Organization                                                   Greece\n9 February                                                                   Lebanon\n9 May People's Liberation Force                                             Honduras\nA Resistance Group                                                             Spain\nA'chik Matgrik Elite Force (AMEF)                                              India\nAFB                                                                          Austria\nAGEL                                                                           Spain\nATALA                                                                        Ecuador\n                                                                    ...             \nYouth of the Star                                                      United States\nYouths                                                                      Pakistan\nYouths of Ali Movement                                                       Lebanon\nZaghawa extremists                                                     [Chad, Sudan]\nZagros Eagles                                                                   Iran\nZairian Dissidents                                                        Mozambique\nZapatista National Liberation Army                                            Mexico\nZarate Willka Armed Forces of Liberation                                     Bolivia\nZawiya Martyrs Brigade                                                         Libya\nZebra killers                                                          United States\nZehri Youth Force (ZYF)                                                     Pakistan\nZeliangrong United Front                                                       India\nZemun Clan                                                         Serbia-Montenegro\nZero Point                                                                 Venezuela\nZero Tolerance                                                                Greece\nZetas                                                                         Mexico\nZimbabwe African Nationalist Union (ZANU)                                   Zimbabwe\nZimbabwe African People's Union                                             Rhodesia\nZimbabwe Guerrillas                                                         Rhodesia\nZimbabwe Patriotic Front                                                    Rhodesia\nZimbabwe People's Army (ZIPA)                                               Rhodesia\nZintani Militia                                                                Libya\nZionist Resistance Fighters                                                  Algeria\nZomi Revolutionary Army (ZRA)                                                  India\nZulu Militants                                                          South Africa\nZulu Miners                                                             South Africa\nZuwar al-Imam Rida                                                           Lebanon\nZviadists                                                                    Georgia\nZwai Tribe                                                                     Libya\nleftist guerrillas-Bolivarian militia                                       Colombia\nName: country_txt, Length: 3617, dtype: object"
     },
     "execution_count": 14,
     "metadata": {},
     "output_type": "execute_result"
    }
   ],
   "source": [
    "country_group.groupby('gname')['country_txt'].agg(pd.Series.mode)"
   ]
  },
  {
   "cell_type": "code",
   "execution_count": 15,
   "metadata": {},
   "outputs": [],
   "source": [
    "cg = country_group.groupby('gname')['country_txt'].agg(pd.Series.mode).to_frame()"
   ]
  },
  {
   "cell_type": "code",
   "execution_count": 16,
   "metadata": {},
   "outputs": [],
   "source": [
    "df = terrorism.gname.value_counts().rename_axis('gname').reset_index(name='count')"
   ]
  },
  {
   "cell_type": "code",
   "execution_count": null,
   "metadata": {},
   "outputs": [],
   "source": []
  },
  {
   "cell_type": "markdown",
   "execution_count": null,
   "metadata": {},
   "outputs": [],
   "source": [
    "## Wat zijn de terroristengroepen met de meeste aanslagen, en waar plegen ze de meeste aanslagen\n",
    "### NB: 'count' is hier hoeveel aanslagen de groep in totaal pleegt, niet hoeveel aanslagen die pleegde in dat land"
   ]
  },
  {
   "cell_type": "code",
   "execution_count": 23,
   "metadata": {},
   "outputs": [
    {
     "data": {
      "text/html": "<div>\n<style scoped>\n    .dataframe tbody tr th:only-of-type {\n        vertical-align: middle;\n    }\n\n    .dataframe tbody tr th {\n        vertical-align: top;\n    }\n\n    .dataframe thead th {\n        text-align: right;\n    }\n</style>\n<table border=\"1\" class=\"dataframe\">\n  <thead>\n    <tr style=\"text-align: right;\">\n      <th></th>\n      <th>gname</th>\n      <th>country_txt</th>\n      <th>count</th>\n    </tr>\n  </thead>\n  <tbody>\n    <tr>\n      <th>3485</th>\n      <td>Unknown</td>\n      <td>Iraq</td>\n      <td>86261</td>\n    </tr>\n    <tr>\n      <th>3212</th>\n      <td>Taliban</td>\n      <td>Afghanistan</td>\n      <td>8727</td>\n    </tr>\n    <tr>\n      <th>1566</th>\n      <td>Islamic State of Iraq and the Levant (ISIL)</td>\n      <td>Iraq</td>\n      <td>6385</td>\n    </tr>\n    <tr>\n      <th>3014</th>\n      <td>Shining Path (SL)</td>\n      <td>Peru</td>\n      <td>4562</td>\n    </tr>\n    <tr>\n      <th>179</th>\n      <td>Al-Shabaab</td>\n      <td>Somalia</td>\n      <td>3774</td>\n    </tr>\n    <tr>\n      <th>1144</th>\n      <td>Farabundo Marti National Liberation Front (FMLN)</td>\n      <td>El Salvador</td>\n      <td>3351</td>\n    </tr>\n    <tr>\n      <th>2315</th>\n      <td>New People's Army (NPA)</td>\n      <td>Philippines</td>\n      <td>3054</td>\n    </tr>\n    <tr>\n      <th>1515</th>\n      <td>Irish Republican Army (IRA)</td>\n      <td>United Kingdom</td>\n      <td>2669</td>\n    </tr>\n    <tr>\n      <th>717</th>\n      <td>Boko Haram</td>\n      <td>Nigeria</td>\n      <td>2665</td>\n    </tr>\n    <tr>\n      <th>2776</th>\n      <td>Revolutionary Armed Forces of Colombia (FARC)</td>\n      <td>Colombia</td>\n      <td>2490</td>\n    </tr>\n  </tbody>\n</table>\n</div>",
      "text/plain": "                                                 gname     country_txt  count\n3485                                           Unknown            Iraq  86261\n3212                                           Taliban     Afghanistan   8727\n1566       Islamic State of Iraq and the Levant (ISIL)            Iraq   6385\n3014                                 Shining Path (SL)            Peru   4562\n179                                         Al-Shabaab         Somalia   3774\n1144  Farabundo Marti National Liberation Front (FMLN)     El Salvador   3351\n2315                           New People's Army (NPA)     Philippines   3054\n1515                       Irish Republican Army (IRA)  United Kingdom   2669\n717                                         Boko Haram         Nigeria   2665\n2776     Revolutionary Armed Forces of Colombia (FARC)        Colombia   2490"
     },
     "execution_count": 23,
     "metadata": {},
     "output_type": "execute_result"
    }
   ],
   "source": [
    "merged.sort_values('count', ascending=False).head(10)"
   ]
  },
  {
   "cell_type": "markdown",
   "execution_count": null,
   "metadata": {},
   "outputs": [],
   "source": [
    "## Welk type aanval komt het meest voor tussen 1970 en 2018?"
   ]
  },
  {
   "cell_type": "code",
   "execution_count": 25,
   "metadata": {},
   "outputs": [
    {
     "data": {
      "text/plain": "Bombing/Explosion                      91842\nArmed Assault                          45251\nAssassination                          20117\nHostage Taking (Kidnapping)            12138\nFacility/Infrastructure Attack         11017\nUnknown                                 8267\nUnarmed Assault                         1096\nHostage Taking (Barricade Incident)     1048\nHijacking                                688\nName: attacktype1_txt, dtype: int64"
     },
     "execution_count": 25,
     "metadata": {},
     "output_type": "execute_result"
    }
   ],
   "source": [
    "terrorism.attacktype1_txt.value_counts().head(10)"
   ]
  },
  {
   "cell_type": "markdown",
   "execution_count": null,
   "metadata": {},
   "outputs": [],
   "source": [
    "## Welk doelwit komt het meest voor?"
   ]
  },
  {
   "cell_type": "code",
   "execution_count": 26,
   "metadata": {},
   "outputs": [
    {
     "data": {
      "text/plain": "Private Citizens & Property       46283\nMilitary                          29978\nPolice                            26023\nGovernment (General)              22274\nBusiness                          21277\nTransportation                     6929\nUnknown                            6449\nUtilities                          6158\nReligious Figures/Institutions     4693\nEducational Institution            4500\nName: targtype1_txt, dtype: int64"
     },
     "execution_count": 26,
     "metadata": {},
     "output_type": "execute_result"
    }
   ],
   "source": [
    "terrorism.targtype1_txt.value_counts().head(10)"
   ]
  },
  {
   "cell_type": "markdown",
   "execution_count": null,
   "metadata": {},
   "outputs": [],
   "source": [
    "## Welke nationaliteit hebben de slachtoffers meestal? "
   ]
  },
  {
   "cell_type": "code",
   "execution_count": 27,
   "metadata": {},
   "outputs": [
    {
     "data": {
      "text/plain": "Iraq             25522\nPakistan         14377\nIndia            13002\nAfghanistan      12567\nColombia          8125\nPhilippines       7287\nPeru              5852\nEl Salvador       5212\nUnited States     5169\nTurkey            4757\nName: natlty1_txt, dtype: int64"
     },
     "execution_count": 27,
     "metadata": {},
     "output_type": "execute_result"
    }
   ],
   "source": [
    "terrorism.natlty1_txt.value_counts().head(10)"
   ]
  },
  {
   "cell_type": "markdown",
   "execution_count": null,
   "metadata": {},
   "outputs": [],
   "source": [
    "## Slachtoffersnationaliteit en land van aanslag gecombineerd: "
   ]
  },
  {
   "cell_type": "code",
   "execution_count": 28,
   "metadata": {},
   "outputs": [],
   "source": [
    "ct = terrorism.country_txt.value_counts().rename_axis('country_txt').reset_index(name='no_attacks')"
   ]
  },
  {
   "cell_type": "code",
   "execution_count": 29,
   "metadata": {},
   "outputs": [],
   "source": [
    "nt = terrorism.natlty1_txt.value_counts().rename_axis('country_txt').reset_index(name='when_victims')"
   ]
  },
  {
   "cell_type": "code",
   "execution_count": 30,
   "metadata": {},
   "outputs": [],
   "source": [
    "dataframe = pd.merge(ct, nt, on='country_txt')"
   ]
  },
  {
   "cell_type": "code",
   "execution_count": 31,
   "metadata": {},
   "outputs": [
    {
     "data": {
      "text/html": "<div>\n<style scoped>\n    .dataframe tbody tr th:only-of-type {\n        vertical-align: middle;\n    }\n\n    .dataframe tbody tr th {\n        vertical-align: top;\n    }\n\n    .dataframe thead th {\n        text-align: right;\n    }\n</style>\n<table border=\"1\" class=\"dataframe\">\n  <thead>\n    <tr style=\"text-align: right;\">\n      <th></th>\n      <th>country_txt</th>\n      <th>no_attacks</th>\n      <th>when_victims</th>\n    </tr>\n  </thead>\n  <tbody>\n    <tr>\n      <th>0</th>\n      <td>Iraq</td>\n      <td>26057</td>\n      <td>25522</td>\n    </tr>\n    <tr>\n      <th>1</th>\n      <td>Pakistan</td>\n      <td>14847</td>\n      <td>14377</td>\n    </tr>\n    <tr>\n      <th>3</th>\n      <td>India</td>\n      <td>12853</td>\n      <td>13002</td>\n    </tr>\n    <tr>\n      <th>2</th>\n      <td>Afghanistan</td>\n      <td>14509</td>\n      <td>12567</td>\n    </tr>\n    <tr>\n      <th>4</th>\n      <td>Colombia</td>\n      <td>8515</td>\n      <td>8125</td>\n    </tr>\n    <tr>\n      <th>5</th>\n      <td>Philippines</td>\n      <td>7509</td>\n      <td>7287</td>\n    </tr>\n    <tr>\n      <th>6</th>\n      <td>Peru</td>\n      <td>6108</td>\n      <td>5852</td>\n    </tr>\n    <tr>\n      <th>8</th>\n      <td>El Salvador</td>\n      <td>5320</td>\n      <td>5212</td>\n    </tr>\n    <tr>\n      <th>16</th>\n      <td>United States</td>\n      <td>2926</td>\n      <td>5169</td>\n    </tr>\n    <tr>\n      <th>11</th>\n      <td>Turkey</td>\n      <td>4391</td>\n      <td>4757</td>\n    </tr>\n  </tbody>\n</table>\n</div>",
      "text/plain": "      country_txt  no_attacks  when_victims\n0            Iraq       26057         25522\n1        Pakistan       14847         14377\n3           India       12853         13002\n2     Afghanistan       14509         12567\n4        Colombia        8515          8125\n5     Philippines        7509          7287\n6            Peru        6108          5852\n8     El Salvador        5320          5212\n16  United States        2926          5169\n11         Turkey        4391          4757"
     },
     "execution_count": 31,
     "metadata": {},
     "output_type": "execute_result"
    }
   ],
   "source": [
    "dataframe.sort_values('when_victims', ascending=False).head(10)"
   ]
  },
  {
   "cell_type": "code",
   "execution_count": 32,
   "metadata": {},
   "outputs": [
    {
     "data": {
      "text/html": "<div>\n<style scoped>\n    .dataframe tbody tr th:only-of-type {\n        vertical-align: middle;\n    }\n\n    .dataframe tbody tr th {\n        vertical-align: top;\n    }\n\n    .dataframe thead th {\n        text-align: right;\n    }\n</style>\n<table border=\"1\" class=\"dataframe\">\n  <thead>\n    <tr style=\"text-align: right;\">\n      <th></th>\n      <th>country_txt</th>\n      <th>no_attacks</th>\n      <th>when_victims</th>\n    </tr>\n  </thead>\n  <tbody>\n    <tr>\n      <th>0</th>\n      <td>Iraq</td>\n      <td>26057</td>\n      <td>25522</td>\n    </tr>\n    <tr>\n      <th>1</th>\n      <td>Pakistan</td>\n      <td>14847</td>\n      <td>14377</td>\n    </tr>\n    <tr>\n      <th>2</th>\n      <td>Afghanistan</td>\n      <td>14509</td>\n      <td>12567</td>\n    </tr>\n    <tr>\n      <th>3</th>\n      <td>India</td>\n      <td>12853</td>\n      <td>13002</td>\n    </tr>\n    <tr>\n      <th>4</th>\n      <td>Colombia</td>\n      <td>8515</td>\n      <td>8125</td>\n    </tr>\n    <tr>\n      <th>5</th>\n      <td>Philippines</td>\n      <td>7509</td>\n      <td>7287</td>\n    </tr>\n    <tr>\n      <th>6</th>\n      <td>Peru</td>\n      <td>6108</td>\n      <td>5852</td>\n    </tr>\n    <tr>\n      <th>7</th>\n      <td>United Kingdom</td>\n      <td>5335</td>\n      <td>21</td>\n    </tr>\n    <tr>\n      <th>8</th>\n      <td>El Salvador</td>\n      <td>5320</td>\n      <td>5212</td>\n    </tr>\n    <tr>\n      <th>9</th>\n      <td>Somalia</td>\n      <td>4674</td>\n      <td>3586</td>\n    </tr>\n  </tbody>\n</table>\n</div>",
      "text/plain": "      country_txt  no_attacks  when_victims\n0            Iraq       26057         25522\n1        Pakistan       14847         14377\n2     Afghanistan       14509         12567\n3           India       12853         13002\n4        Colombia        8515          8125\n5     Philippines        7509          7287\n6            Peru        6108          5852\n7  United Kingdom        5335            21\n8     El Salvador        5320          5212\n9         Somalia        4674          3586"
     },
     "execution_count": 32,
     "metadata": {},
     "output_type": "execute_result"
    }
   ],
   "source": [
    "dataframe.sort_values('no_attacks', ascending=False).head(10)"
   ]
  },
  {
   "cell_type": "markdown",
   "execution_count": null,
   "metadata": {},
   "outputs": [],
   "source": [
    "## Top tien dodelijkste aanvallen met target type en slachtoffersnationaliteit"
   ]
  },
  {
   "cell_type": "code",
   "execution_count": 33,
   "metadata": {},
   "outputs": [
    {
     "data": {
      "text/html": "<div>\n<style scoped>\n    .dataframe tbody tr th:only-of-type {\n        vertical-align: middle;\n    }\n\n    .dataframe tbody tr th {\n        vertical-align: top;\n    }\n\n    .dataframe thead th {\n        text-align: right;\n    }\n</style>\n<table border=\"1\" class=\"dataframe\">\n  <thead>\n    <tr style=\"text-align: right;\">\n      <th></th>\n      <th>index</th>\n      <th>nkill</th>\n      <th>iyear</th>\n      <th>imonth</th>\n      <th>iday</th>\n      <th>country_txt</th>\n      <th>city</th>\n      <th>gname</th>\n      <th>targtype1_txt</th>\n      <th>natlty1_txt</th>\n    </tr>\n  </thead>\n  <tbody>\n    <tr>\n      <th>0</th>\n      <td>133551</td>\n      <td>1570.0</td>\n      <td>2014</td>\n      <td>6</td>\n      <td>12</td>\n      <td>Iraq</td>\n      <td>Tikrit</td>\n      <td>Islamic State of Iraq and the Levant (ISIL)</td>\n      <td>Military</td>\n      <td>Iraq</td>\n    </tr>\n    <tr>\n      <th>1</th>\n      <td>73137</td>\n      <td>1385.0</td>\n      <td>2001</td>\n      <td>9</td>\n      <td>11</td>\n      <td>United States</td>\n      <td>New York City</td>\n      <td>Al-Qaida</td>\n      <td>Private Citizens &amp; Property</td>\n      <td>United States</td>\n    </tr>\n    <tr>\n      <th>2</th>\n      <td>73138</td>\n      <td>1385.0</td>\n      <td>2001</td>\n      <td>9</td>\n      <td>11</td>\n      <td>United States</td>\n      <td>New York City</td>\n      <td>Al-Qaida</td>\n      <td>Private Citizens &amp; Property</td>\n      <td>United States</td>\n    </tr>\n    <tr>\n      <th>3</th>\n      <td>55932</td>\n      <td>1180.0</td>\n      <td>1994</td>\n      <td>4</td>\n      <td>13</td>\n      <td>Rwanda</td>\n      <td>Gikoro</td>\n      <td>Hutu extremists</td>\n      <td>Private Citizens &amp; Property</td>\n      <td>Rwanda</td>\n    </tr>\n    <tr>\n      <th>4</th>\n      <td>136316</td>\n      <td>953.0</td>\n      <td>2014</td>\n      <td>8</td>\n      <td>3</td>\n      <td>Iraq</td>\n      <td>Sinjar</td>\n      <td>Islamic State of Iraq and the Levant (ISIL)</td>\n      <td>Private Citizens &amp; Property</td>\n      <td>Iraq</td>\n    </tr>\n    <tr>\n      <th>5</th>\n      <td>133257</td>\n      <td>670.0</td>\n      <td>2014</td>\n      <td>6</td>\n      <td>10</td>\n      <td>Iraq</td>\n      <td>Badush</td>\n      <td>Islamic State of Iraq and the Levant (ISIL)</td>\n      <td>Police</td>\n      <td>Iraq</td>\n    </tr>\n    <tr>\n      <th>6</th>\n      <td>179820</td>\n      <td>588.0</td>\n      <td>2017</td>\n      <td>10</td>\n      <td>14</td>\n      <td>Somalia</td>\n      <td>Mogadishu</td>\n      <td>Al-Shabaab</td>\n      <td>Business</td>\n      <td>Somalia</td>\n    </tr>\n    <tr>\n      <th>7</th>\n      <td>76364</td>\n      <td>518.0</td>\n      <td>2004</td>\n      <td>3</td>\n      <td>21</td>\n      <td>Nepal</td>\n      <td>Dhading district</td>\n      <td>Communist Party of Nepal- Maoist (CPN-M)</td>\n      <td>Government (General)</td>\n      <td>Nepal</td>\n    </tr>\n    <tr>\n      <th>8</th>\n      <td>136779</td>\n      <td>517.0</td>\n      <td>2014</td>\n      <td>8</td>\n      <td>19</td>\n      <td>Syria</td>\n      <td>Unknown</td>\n      <td>Islamic State of Iraq and the Levant (ISIL)</td>\n      <td>Military</td>\n      <td>Syria</td>\n    </tr>\n    <tr>\n      <th>9</th>\n      <td>187960</td>\n      <td>466.0</td>\n      <td>2018</td>\n      <td>8</td>\n      <td>10</td>\n      <td>Afghanistan</td>\n      <td>Ghazni</td>\n      <td>Taliban</td>\n      <td>Private Citizens &amp; Property</td>\n      <td>Afghanistan</td>\n    </tr>\n  </tbody>\n</table>\n</div>",
      "text/plain": "    index   nkill  iyear  imonth  iday    country_txt              city  \\\n0  133551  1570.0   2014       6    12           Iraq            Tikrit   \n1   73137  1385.0   2001       9    11  United States     New York City   \n2   73138  1385.0   2001       9    11  United States     New York City   \n3   55932  1180.0   1994       4    13         Rwanda            Gikoro   \n4  136316   953.0   2014       8     3           Iraq            Sinjar   \n5  133257   670.0   2014       6    10           Iraq            Badush   \n6  179820   588.0   2017      10    14        Somalia         Mogadishu   \n7   76364   518.0   2004       3    21          Nepal  Dhading district   \n8  136779   517.0   2014       8    19          Syria           Unknown   \n9  187960   466.0   2018       8    10    Afghanistan            Ghazni   \n\n                                         gname                targtype1_txt  \\\n0  Islamic State of Iraq and the Levant (ISIL)                     Military   \n1                                     Al-Qaida  Private Citizens & Property   \n2                                     Al-Qaida  Private Citizens & Property   \n3                              Hutu extremists  Private Citizens & Property   \n4  Islamic State of Iraq and the Levant (ISIL)  Private Citizens & Property   \n5  Islamic State of Iraq and the Levant (ISIL)                       Police   \n6                                   Al-Shabaab                     Business   \n7     Communist Party of Nepal- Maoist (CPN-M)         Government (General)   \n8  Islamic State of Iraq and the Levant (ISIL)                     Military   \n9                                      Taliban  Private Citizens & Property   \n\n     natlty1_txt  \n0           Iraq  \n1  United States  \n2  United States  \n3         Rwanda  \n4           Iraq  \n5           Iraq  \n6        Somalia  \n7          Nepal  \n8          Syria  \n9    Afghanistan  "
     },
     "execution_count": 33,
     "metadata": {},
     "output_type": "execute_result"
    }
   ],
   "source": [
    "terrorism[['nkill', 'iyear', 'imonth', 'iday', 'country_txt', 'city' ,'gname', 'targtype1_txt', 'natlty1_txt']].sort_values('nkill', ascending=False).reset_index().head(10)"
   ]
  },
  {
   "cell_type": "markdown",
   "execution_count": null,
   "metadata": {},
   "outputs": [],
   "source": [
    "## Aanvallen in België"
   ]
  },
  {
   "cell_type": "code",
   "execution_count": 34,
   "metadata": {},
   "outputs": [],
   "source": [
    "belgium_attacks = terrorism[['country_txt', 'city', 'iyear', 'imonth', 'iday', 'nkill', 'gname']]"
   ]
  },
  {
   "cell_type": "code",
   "execution_count": 35,
   "metadata": {},
   "outputs": [
    {
     "data": {
      "text/html": "<div>\n<style scoped>\n    .dataframe tbody tr th:only-of-type {\n        vertical-align: middle;\n    }\n\n    .dataframe tbody tr th {\n        vertical-align: top;\n    }\n\n    .dataframe thead th {\n        text-align: right;\n    }\n</style>\n<table border=\"1\" class=\"dataframe\">\n  <thead>\n    <tr style=\"text-align: right;\">\n      <th></th>\n      <th>index</th>\n      <th>country_txt</th>\n      <th>city</th>\n      <th>iyear</th>\n      <th>imonth</th>\n      <th>iday</th>\n      <th>nkill</th>\n      <th>gname</th>\n    </tr>\n  </thead>\n  <tbody>\n    <tr>\n      <th>0</th>\n      <td>160364</td>\n      <td>Belgium</td>\n      <td>Zaventem</td>\n      <td>2016</td>\n      <td>3</td>\n      <td>22</td>\n      <td>18.0</td>\n      <td>Islamic State of Iraq and the Levant (ISIL)</td>\n    </tr>\n    <tr>\n      <th>1</th>\n      <td>160365</td>\n      <td>Belgium</td>\n      <td>Brussels</td>\n      <td>2016</td>\n      <td>3</td>\n      <td>22</td>\n      <td>17.0</td>\n      <td>Islamic State of Iraq and the Levant (ISIL)</td>\n    </tr>\n    <tr>\n      <th>2</th>\n      <td>26613</td>\n      <td>Belgium</td>\n      <td>Aalst</td>\n      <td>1985</td>\n      <td>11</td>\n      <td>9</td>\n      <td>7.0</td>\n      <td>Crazy Brabant Killers</td>\n    </tr>\n    <tr>\n      <th>3</th>\n      <td>64934</td>\n      <td>Belgium</td>\n      <td>Brussels</td>\n      <td>1997</td>\n      <td>3</td>\n      <td>17</td>\n      <td>4.0</td>\n      <td>Unknown</td>\n    </tr>\n    <tr>\n      <th>4</th>\n      <td>185890</td>\n      <td>Belgium</td>\n      <td>Liege</td>\n      <td>2018</td>\n      <td>5</td>\n      <td>29</td>\n      <td>4.0</td>\n      <td>Jihadi-inspired extremists</td>\n    </tr>\n    <tr>\n      <th>5</th>\n      <td>132388</td>\n      <td>Belgium</td>\n      <td>Brussels</td>\n      <td>2014</td>\n      <td>5</td>\n      <td>24</td>\n      <td>4.0</td>\n      <td>Islamic State of Iraq and the Levant (ISIL)</td>\n    </tr>\n    <tr>\n      <th>6</th>\n      <td>14603</td>\n      <td>Belgium</td>\n      <td>Antwerp</td>\n      <td>1981</td>\n      <td>10</td>\n      <td>20</td>\n      <td>3.0</td>\n      <td>Unknown</td>\n    </tr>\n    <tr>\n      <th>7</th>\n      <td>24883</td>\n      <td>Belgium</td>\n      <td>Brussels</td>\n      <td>1985</td>\n      <td>5</td>\n      <td>1</td>\n      <td>2.0</td>\n      <td>Communist Combattant Cells (CCC) (Belgium)</td>\n    </tr>\n    <tr>\n      <th>8</th>\n      <td>37759</td>\n      <td>Belgium</td>\n      <td>Brussels</td>\n      <td>1989</td>\n      <td>3</td>\n      <td>30</td>\n      <td>2.0</td>\n      <td>Soldiers of Truth</td>\n    </tr>\n    <tr>\n      <th>9</th>\n      <td>14038</td>\n      <td>Belgium</td>\n      <td>Brussels</td>\n      <td>1981</td>\n      <td>8</td>\n      <td>4</td>\n      <td>2.0</td>\n      <td>Unknown</td>\n    </tr>\n  </tbody>\n</table>\n</div>",
      "text/plain": "    index country_txt      city  iyear  imonth  iday  nkill  \\\n0  160364     Belgium  Zaventem   2016       3    22   18.0   \n1  160365     Belgium  Brussels   2016       3    22   17.0   \n2   26613     Belgium     Aalst   1985      11     9    7.0   \n3   64934     Belgium  Brussels   1997       3    17    4.0   \n4  185890     Belgium     Liege   2018       5    29    4.0   \n5  132388     Belgium  Brussels   2014       5    24    4.0   \n6   14603     Belgium   Antwerp   1981      10    20    3.0   \n7   24883     Belgium  Brussels   1985       5     1    2.0   \n8   37759     Belgium  Brussels   1989       3    30    2.0   \n9   14038     Belgium  Brussels   1981       8     4    2.0   \n\n                                         gname  \n0  Islamic State of Iraq and the Levant (ISIL)  \n1  Islamic State of Iraq and the Levant (ISIL)  \n2                        Crazy Brabant Killers  \n3                                      Unknown  \n4                   Jihadi-inspired extremists  \n5  Islamic State of Iraq and the Levant (ISIL)  \n6                                      Unknown  \n7   Communist Combattant Cells (CCC) (Belgium)  \n8                            Soldiers of Truth  \n9                                      Unknown  "
     },
     "execution_count": 35,
     "metadata": {},
     "output_type": "execute_result"
    }
   ],
   "source": [
    "belgium_attacks[belgium_attacks['country_txt'] == 'Belgium'].sort_values('nkill', ascending=False).reset_index().head(10)"
   ]
  },
  {
   "cell_type": "markdown",
   "execution_count": null,
   "metadata": {},
   "outputs": [],
   "source": [
    "## Meest recente aanvallen"
   ]
  },
  {
   "cell_type": "code",
   "execution_count": 36,
   "metadata": {},
   "outputs": [],
   "source": [
    "recent_attacks = terrorism[['iyear', 'region_txt']]"
   ]
  },
  {
   "cell_type": "code",
   "execution_count": 37,
   "metadata": {},
   "outputs": [
    {
     "data": {
      "text/html": "<div>\n<style scoped>\n    .dataframe tbody tr th:only-of-type {\n        vertical-align: middle;\n    }\n\n    .dataframe tbody tr th {\n        vertical-align: top;\n    }\n\n    .dataframe thead th {\n        text-align: right;\n    }\n</style>\n<table border=\"1\" class=\"dataframe\">\n  <thead>\n    <tr style=\"text-align: right;\">\n      <th></th>\n      <th>region_txt</th>\n    </tr>\n    <tr>\n      <th>iyear</th>\n      <th></th>\n    </tr>\n  </thead>\n  <tbody>\n    <tr>\n      <th>2018</th>\n      <td>South Asia</td>\n    </tr>\n    <tr>\n      <th>2017</th>\n      <td>Middle East &amp; North Africa</td>\n    </tr>\n    <tr>\n      <th>2016</th>\n      <td>Middle East &amp; North Africa</td>\n    </tr>\n    <tr>\n      <th>2015</th>\n      <td>Middle East &amp; North Africa</td>\n    </tr>\n    <tr>\n      <th>2014</th>\n      <td>Middle East &amp; North Africa</td>\n    </tr>\n    <tr>\n      <th>2013</th>\n      <td>South Asia</td>\n    </tr>\n    <tr>\n      <th>2012</th>\n      <td>South Asia</td>\n    </tr>\n    <tr>\n      <th>2011</th>\n      <td>South Asia</td>\n    </tr>\n    <tr>\n      <th>2010</th>\n      <td>South Asia</td>\n    </tr>\n    <tr>\n      <th>2009</th>\n      <td>South Asia</td>\n    </tr>\n  </tbody>\n</table>\n</div>",
      "text/plain": "                       region_txt\niyear                            \n2018                   South Asia\n2017   Middle East & North Africa\n2016   Middle East & North Africa\n2015   Middle East & North Africa\n2014   Middle East & North Africa\n2013                   South Asia\n2012                   South Asia\n2011                   South Asia\n2010                   South Asia\n2009                   South Asia"
     },
     "execution_count": 37,
     "metadata": {},
     "output_type": "execute_result"
    }
   ],
   "source": [
    "recent_attacks.groupby('iyear')['region_txt'].agg(pd.Series.mode).to_frame().sort_values('iyear', ascending=False).head(10)"
   ]
  }
 ]
}